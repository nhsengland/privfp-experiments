{
 "cells": [
  {
   "cell_type": "code",
   "execution_count": 7,
   "metadata": {},
   "outputs": [
    {
     "ename": "AttributeError",
     "evalue": "module 'streamlit_annotation_tools' has no attribute '__version__'",
     "output_type": "error",
     "traceback": [
      "\u001b[0;31m---------------------------------------------------------------------------\u001b[0m",
      "\u001b[0;31mAttributeError\u001b[0m                            Traceback (most recent call last)",
      "Cell \u001b[0;32mIn[7], line 2\u001b[0m\n\u001b[1;32m      1\u001b[0m \u001b[38;5;28;01mimport\u001b[39;00m \u001b[38;5;21;01mstreamlit_annotation_tools\u001b[39;00m\n\u001b[0;32m----> 2\u001b[0m \u001b[38;5;28mprint\u001b[39m(\u001b[43mstreamlit_annotation_tools\u001b[49m\u001b[38;5;241;43m.\u001b[39;49m\u001b[43m__version__\u001b[49m)\n",
      "\u001b[0;31mAttributeError\u001b[0m: module 'streamlit_annotation_tools' has no attribute '__version__'"
     ]
    }
   ],
   "source": [
    "import streamlit_annotation_tools\n",
    "\n",
    "print(streamlit_annotation_tools.__version__)"
   ]
  },
  {
   "cell_type": "markdown",
   "metadata": {},
   "source": [
    "Streamlit can be ran from the terminal, or within a Jupyter notebook using '!'\n",
    "\n",
    "'--d' should be used to pass the relative path to the data you want to analyse."
   ]
  },
  {
   "cell_type": "code",
   "execution_count": 6,
   "metadata": {},
   "outputs": [
    {
     "name": "stdout",
     "output_type": "stream",
     "text": [
      "\u001b[0m\n",
      "\u001b[34m\u001b[1m  You can now view your Streamlit app in your browser.\u001b[0m\n",
      "\u001b[0m\n",
      "\u001b[34m  Local URL: \u001b[0m\u001b[1mhttp://localhost:8501\u001b[0m\n",
      "\u001b[34m  Network URL: \u001b[0m\u001b[1mhttp://192.168.31.15:8501\u001b[0m\n",
      "\u001b[0m\n",
      "gio: http://localhost:8501: Operation not supported\n",
      "2024-06-19 08:38:20.757 Uncaught app exception\n",
      "Traceback (most recent call last):\n",
      "  File \"/mnt/c/Users/Will Poulett/Documents/PrivFingerprint/privfp-experiments/.venv/lib/python3.11/site-packages/streamlit/runtime/scriptrunner/script_runner.py\", line 600, in _run_script\n",
      "    exec(code, module.__dict__)\n",
      "  File \"/mnt/c/Users/Will Poulett/Documents/PrivFingerprint/privfp-experiments/streamlit_app.py\", line 15, in <module>\n",
      "    global_config = load_global_config(global_config_path)\n",
      "                    ^^^^^^^^^^^^^^^^^^^^^^^^^^^^^^^^^^^^^^\n",
      "  File \"/mnt/c/Users/Will Poulett/Documents/PrivFingerprint/privfp-experiments/SPIKE_annotation_tools/../src/config/global_config.py\", line 36, in load_global_config\n",
      "    with open(path, \"r\") as config_file:\n",
      "         ^^^^^^^^^^^^^^^\n",
      "FileNotFoundError: [Errno 2] No such file or directory: 'config/global_config.yaml'\n",
      "2024-06-19 08:38:58.279 Uncaught app exception\n",
      "Traceback (most recent call last):\n",
      "  File \"/mnt/c/Users/Will Poulett/Documents/PrivFingerprint/privfp-experiments/.venv/lib/python3.11/site-packages/streamlit/runtime/scriptrunner/script_runner.py\", line 600, in _run_script\n",
      "    exec(code, module.__dict__)\n",
      "  File \"/mnt/c/Users/Will Poulett/Documents/PrivFingerprint/privfp-experiments/streamlit_app.py\", line 31, in <module>\n",
      "    with open(data_path) as file:\n",
      "         ^^^^^^^^^^^^^^^\n",
      "FileNotFoundError: [Errno 2] No such file or directory: 'example_output/example_pipeline_14_05_24/llm.json'\n",
      "2024-06-19 08:39:17.088 Uncaught app exception\n",
      "Traceback (most recent call last):\n",
      "  File \"/mnt/c/Users/Will Poulett/Documents/PrivFingerprint/privfp-experiments/.venv/lib/python3.11/site-packages/streamlit/runtime/scriptrunner/script_runner.py\", line 600, in _run_script\n",
      "    exec(code, module.__dict__)\n",
      "  File \"/mnt/c/Users/Will Poulett/Documents/PrivFingerprint/privfp-experiments/streamlit_app.py\", line 31, in <module>\n",
      "    with open(data_path) as file:\n",
      "         ^^^^^^^^^^^^^^^\n",
      "FileNotFoundError: [Errno 2] No such file or directory: 'example_output/example_pipeline_14_05_24/llm.json'\n",
      "2024-06-19 08:39:37.201 Uncaught app exception\n",
      "Traceback (most recent call last):\n",
      "  File \"/mnt/c/Users/Will Poulett/Documents/PrivFingerprint/privfp-experiments/.venv/lib/python3.11/site-packages/streamlit/runtime/scriptrunner/script_runner.py\", line 600, in _run_script\n",
      "    exec(code, module.__dict__)\n",
      "  File \"/mnt/c/Users/Will Poulett/Documents/PrivFingerprint/privfp-experiments/streamlit_app.py\", line 31, in <module>\n",
      "    with open(data_path) as file:\n",
      "         ^^^^^^^^^^^^^^^\n",
      "FileNotFoundError: [Errno 2] No such file or directory: 'example_output/example_pipeline_14_05_24/llm.json'\n",
      "^C\n",
      "\u001b[34m  Stopping...\u001b[0m\n"
     ]
    }
   ],
   "source": [
    "!streamlit run streamlit_app.py -- --d \"example_output/example_pipeline_14_05_24/llm.json\""
   ]
  }
 ],
 "metadata": {
  "kernelspec": {
   "display_name": ".venv",
   "language": "python",
   "name": "python3"
  },
  "language_info": {
   "codemirror_mode": {
    "name": "ipython",
    "version": 3
   },
   "file_extension": ".py",
   "mimetype": "text/x-python",
   "name": "python",
   "nbconvert_exporter": "python",
   "pygments_lexer": "ipython3",
   "version": "3.11.0rc1"
  }
 },
 "nbformat": 4,
 "nbformat_minor": 2
}
