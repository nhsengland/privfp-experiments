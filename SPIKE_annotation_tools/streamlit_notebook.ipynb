{
 "cells": [
  {
   "cell_type": "code",
   "execution_count": 1,
   "metadata": {},
   "outputs": [],
   "source": [
    "import os\n",
    "import sys\n",
    "\n",
    "path_root = os.path.dirname(os.path.dirname(os.getcwd()))\n",
    "\n",
    "if path_root not in sys.path:\n",
    "    sys.path.append(path_root)\n",
    "\n",
    "# sys.path.append(\"../../\")"
   ]
  },
  {
   "cell_type": "code",
   "execution_count": 2,
   "metadata": {},
   "outputs": [
    {
     "name": "stdout",
     "output_type": "stream",
     "text": [
      "/mnt/c/Users/Will Poulett/Documents/PrivFingerprint/privfp-experiments/SPIKE_annotation_tools\n"
     ]
    }
   ],
   "source": [
    "print(os.getcwd())\n",
    "# os.chdir(\"../../\")\n",
    "# print(os.getcwd())"
   ]
  },
  {
   "cell_type": "code",
   "execution_count": 2,
   "metadata": {},
   "outputs": [],
   "source": [
    "# Tried adding .. infront of sys in py file\n",
    "# Tried moving py file to a location in src\n",
    "# Tried cd ../../ & ...\n",
    "# Tried !export PYTHONPATH=$PYTHONPATH:../../ & ..."
   ]
  },
  {
   "cell_type": "markdown",
   "metadata": {},
   "source": [
    "Streamlit can be ran from the terminal, or within a Jupyter notebook using '!'\n",
    "\n",
    "'--d' should be used to pass the relative path to the data you want to analyse."
   ]
  },
  {
   "cell_type": "code",
   "execution_count": 3,
   "metadata": {},
   "outputs": [
    {
     "name": "stdout",
     "output_type": "stream",
     "text": [
      "\u001b[0m\n",
      "\u001b[34m\u001b[1m  You can now view your Streamlit app in your browser.\u001b[0m\n",
      "\u001b[0m\n",
      "\u001b[34m  Local URL: \u001b[0m\u001b[1mhttp://localhost:8501\u001b[0m\n",
      "\u001b[34m  Network URL: \u001b[0m\u001b[1mhttp://192.168.31.15:8501\u001b[0m\n",
      "\u001b[0m\n",
      "gio: http://localhost:8501: Operation not supported\n",
      "2024-06-07 16:05:30.911 Uncaught app exception\n",
      "Traceback (most recent call last):\n",
      "  File \"/mnt/c/Users/Will Poulett/Documents/PrivFingerprint/privfp-experiments/.venv/lib/python3.11/site-packages/streamlit/runtime/scriptrunner/script_runner.py\", line 600, in _run_script\n",
      "    exec(code, module.__dict__)\n",
      "  File \"/mnt/c/Users/Will Poulett/Documents/PrivFingerprint/privfp-experiments/notebooks/SPIKE_annotation_tools/streamlit_app.py\", line 9, in <module>\n",
      "    from src.extraction.extraction import Extraction\n",
      "ModuleNotFoundError: No module named 'src'\n"
     ]
    }
   ],
   "source": [
    "!streamlit run streamlit_app.py -- --d \"example_output/example_pipeline_14_05_24/llm.json\""
   ]
  }
 ],
 "metadata": {
  "kernelspec": {
   "display_name": ".venv",
   "language": "python",
   "name": "python3"
  },
  "language_info": {
   "codemirror_mode": {
    "name": "ipython",
    "version": 3
   },
   "file_extension": ".py",
   "mimetype": "text/x-python",
   "name": "python",
   "nbconvert_exporter": "python",
   "pygments_lexer": "ipython3",
   "version": "3.11.0rc1"
  }
 },
 "nbformat": 4,
 "nbformat_minor": 2
}
