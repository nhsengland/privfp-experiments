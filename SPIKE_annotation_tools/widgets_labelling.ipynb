{
 "cells": [
  {
   "cell_type": "code",
   "execution_count": 1,
   "metadata": {},
   "outputs": [],
   "source": [
    "import sys\n",
    "from spacy import displacy\n",
    "import ipywidgets as widgets\n",
    "from IPython.display import display, HTML\n",
    "import json\n",
    "\n",
    "sys.path.append(\"../\")\n",
    "from src.extraction.extraction import Extraction\n",
    "from src.config.experimental_config import load_experimental_config\n",
    "from src.config.global_config import load_global_config\n",
    "\n",
    "global_config_path = \"../config/global_config.yaml\"\n",
    "global_config = load_global_config(global_config_path)\n",
    "\n",
    "default_config_path = \"../config/experimental_config.yaml\"\n",
    "experimental_config = load_experimental_config(default_config_path)"
   ]
  },
  {
   "cell_type": "code",
   "execution_count": 2,
   "metadata": {},
   "outputs": [],
   "source": [
    "data_path = \"../example_output/example_pipeline_14_05_24/llm.json\"\n",
    "\n",
    "with open(data_path) as file:\n",
    "    data = json.load(file)"
   ]
  },
  {
   "cell_type": "code",
   "execution_count": 3,
   "metadata": {},
   "outputs": [],
   "source": [
    "experimental_config.extraction.entity_list = [\"nhs number\"]"
   ]
  },
  {
   "cell_type": "code",
   "execution_count": 4,
   "metadata": {},
   "outputs": [
    {
     "name": "stderr",
     "output_type": "stream",
     "text": [
      "/mnt/c/Users/Will Poulett/Documents/PrivFingerprint/privfp-experiments/.venv/lib/python3.11/site-packages/transformers/convert_slow_tokenizer.py:560: UserWarning: The sentencepiece tokenizer that you are converting to a fast tokenizer uses the byte fallback option which is not implemented in the fast tokenizers. In practice this means that the fast version of the tokenizer can produce unknown tokens whereas the sentencepiece version would have converted these unknown tokens into a sequence of byte tokens matching the original piece of text.\n",
      "  warnings.warn(\n",
      "/mnt/c/Users/Will Poulett/Documents/PrivFingerprint/privfp-experiments/.venv/lib/python3.11/site-packages/huggingface_hub/file_download.py:1132: FutureWarning: `resume_download` is deprecated and will be removed in version 1.0.0. Downloads always resume when possible. If you want to force a new download, use `force_download=True`.\n",
      "  warnings.warn(\n"
     ]
    },
    {
     "data": {
      "application/vnd.jupyter.widget-view+json": {
       "model_id": "09589e128ab84c0fba204e107378e3d8",
       "version_major": 2,
       "version_minor": 0
      },
      "text/plain": [
       "Output(layout=Layout(height='300px'))"
      ]
     },
     "metadata": {},
     "output_type": "display_data"
    },
    {
     "data": {
      "application/vnd.jupyter.widget-view+json": {
       "model_id": "66a2f091576c487ab68f798e180ead89",
       "version_major": 2,
       "version_minor": 0
      },
      "text/plain": [
       "HBox(children=(Button(description='Previous Note', style=ButtonStyle()), Button(description='Next Note', style…"
      ]
     },
     "metadata": {},
     "output_type": "display_data"
    },
    {
     "data": {
      "application/vnd.jupyter.widget-view+json": {
       "model_id": "fa7deb5bcc9d46c9a1af38fa83205efe",
       "version_major": 2,
       "version_minor": 0
      },
      "text/plain": [
       "HBox(children=(Text(value='', placeholder='New Entity type'), Button(button_style='primary', description='Add …"
      ]
     },
     "metadata": {},
     "output_type": "display_data"
    },
    {
     "data": {
      "application/vnd.jupyter.widget-view+json": {
       "model_id": "05478a3380b04c1ea6161f800f733647",
       "version_major": 2,
       "version_minor": 0
      },
      "text/plain": [
       "Output()"
      ]
     },
     "metadata": {},
     "output_type": "display_data"
    }
   ],
   "source": [
    "import ipywidgets as widgets\n",
    "from IPython.display import display, HTML\n",
    "from spacy import displacy\n",
    "\n",
    "# Extract results\n",
    "results = Extraction(\n",
    "    global_config=global_config,\n",
    "    extractionconfig=experimental_config.extraction,\n",
    "    llm_input=data,\n",
    ").run_or_load(save=False)\n",
    "\n",
    "\n",
    "def initialise(index):\n",
    "    global entity_dicts\n",
    "    global current_index\n",
    "    entity_dicts = []\n",
    "    current_index = index\n",
    "\n",
    "    for i in range(len(results)):\n",
    "        entity_dicts.append(\n",
    "            {\n",
    "                \"text\": data[i],\n",
    "                \"ents\": results[i][\"Entities\"],\n",
    "            }\n",
    "        )\n",
    "\n",
    "    update_entity_display()\n",
    "\n",
    "\n",
    "# Define a function to update and display the displaCy visualization\n",
    "def update_visualization(dic):\n",
    "    with displacy_output:\n",
    "        displacy_output.clear_output()\n",
    "        try:\n",
    "            # Render the visualization directly to the output area\n",
    "            displacy.render(dic, manual=True, style=\"ent\", jupyter=True)\n",
    "        except Exception as e:\n",
    "            print(\"Error rendering visualization:\", e)\n",
    "\n",
    "\n",
    "# Define a function to handle button click for changing to next review\n",
    "def on_next_button_click(b):\n",
    "    global current_index\n",
    "    current_index = (current_index + 1) % len(entity_dicts)\n",
    "    dic = entity_dicts[current_index]\n",
    "    update_visualization(dic)\n",
    "\n",
    "\n",
    "# Define a function to handle button click for changing to previous review\n",
    "def on_previous_button_click(b):\n",
    "    global current_index\n",
    "    current_index = (current_index - 1) % len(entity_dicts)\n",
    "    dic = entity_dicts[current_index]\n",
    "    update_visualization(dic)\n",
    "\n",
    "\n",
    "# Define a function to handle button click for submitting note\n",
    "def on_submit_button_click(b):\n",
    "    note_text = note_input.value.strip()\n",
    "    if note_text:\n",
    "        experimental_config.extraction.entity_list.append(note_text)\n",
    "    update_entity_display()\n",
    "\n",
    "\n",
    "def on_remove_button_click(b):\n",
    "    note_text = note_input.value.strip()\n",
    "    if note_text:\n",
    "        try:\n",
    "            experimental_config.extraction.entity_list.remove(note_text)\n",
    "            update_entity_display()\n",
    "        except:\n",
    "            pass\n",
    "\n",
    "\n",
    "def update_entity_display():\n",
    "    with entities_output:\n",
    "        entities_output.clear_output()\n",
    "        display(\n",
    "            HTML(\n",
    "                f\"Current Entities: {', '.join(experimental_config.extraction.entity_list)}\"\n",
    "            )\n",
    "        )\n",
    "\n",
    "\n",
    "def NER(b):\n",
    "\n",
    "    with displacy_output:\n",
    "        displacy_output.clear_output()\n",
    "        display(HTML(\"Extracting Entities...\"))\n",
    "\n",
    "    global results\n",
    "    results = Extraction(\n",
    "        global_config=global_config,\n",
    "        extractionconfig=experimental_config.extraction,\n",
    "        llm_input=data,\n",
    "    ).run_or_load(save=False)\n",
    "\n",
    "    initialise(current_index)\n",
    "    update_visualization(entity_dicts[current_index])\n",
    "\n",
    "\n",
    "# Define initial widgets\n",
    "next_button = widgets.Button(description=\"Next Note\")\n",
    "previous_button = widgets.Button(description=\"Previous Note\")\n",
    "NER_button = widgets.Button(description=\"NER\", button_style=\"success\")\n",
    "displacy_output = widgets.Output()\n",
    "note_input = widgets.Text(placeholder=\"New Entity type\")\n",
    "submit_button = widgets.Button(\n",
    "    description=\"Add Entity\", button_style=\"primary\"\n",
    ")\n",
    "remove_button = widgets.Button(\n",
    "    description=\"Remove Entity\", button_style=\"danger\"\n",
    ")\n",
    "entities_output = widgets.Output()\n",
    "\n",
    "initialise(0)\n",
    "\n",
    "# Set the style for the output widget\n",
    "displacy_output.layout = widgets.Layout(\n",
    "    height=\"300px\", overflow_y=\"scroll\", overflow_x=\"auto\"\n",
    ")\n",
    "\n",
    "# Attach the button click event handler\n",
    "next_button.on_click(on_next_button_click)\n",
    "previous_button.on_click(on_previous_button_click)\n",
    "submit_button.on_click(on_submit_button_click)\n",
    "remove_button.on_click(on_remove_button_click)\n",
    "NER_button.on_click(NER)\n",
    "\n",
    "input_box = widgets.HBox([note_input, submit_button, remove_button])\n",
    "navigation_box = widgets.HBox([previous_button, next_button, NER_button])\n",
    "# Display the initial button and output area\n",
    "\n",
    "display(displacy_output)\n",
    "display(navigation_box)\n",
    "display(input_box)\n",
    "display(entities_output)\n",
    "\n",
    "# Initialize the visualization with the first piece of data\n",
    "update_visualization(entity_dicts[current_index])"
   ]
  }
 ],
 "metadata": {
  "kernelspec": {
   "display_name": ".venv",
   "language": "python",
   "name": "python3"
  },
  "language_info": {
   "codemirror_mode": {
    "name": "ipython",
    "version": 3
   },
   "file_extension": ".py",
   "mimetype": "text/x-python",
   "name": "python",
   "nbconvert_exporter": "python",
   "pygments_lexer": "ipython3",
   "version": "3.11.0rc1"
  }
 },
 "nbformat": 4,
 "nbformat_minor": 2
}
