{
 "cells": [
  {
   "cell_type": "markdown",
   "metadata": {},
   "source": [
    "# ipyWidgets and DisplaCy Labelling Tool\n",
    "\n",
    "This notebook contains a working example of a simple ipyWidgets labelling tool. "
   ]
  },
  {
   "cell_type": "markdown",
   "metadata": {},
   "source": [
    "First import the relevant modules and set the config paths.\n",
    "\n",
    "For more information on using config please see the full_pipeline_example and experimental_pipeline_example."
   ]
  },
  {
   "cell_type": "code",
   "execution_count": 1,
   "metadata": {},
   "outputs": [],
   "source": [
    "import sys\n",
    "from spacy import displacy\n",
    "import ipywidgets as widgets\n",
    "from IPython.display import display, HTML\n",
    "import json\n",
    "\n",
    "sys.path.append(\"../\")\n",
    "from src.extraction.extraction import Extraction\n",
    "from src.config.experimental_config import load_experimental_config\n",
    "from src.config.global_config import load_global_config\n",
    "\n",
    "global_config_path = \"../config/global_config.yaml\"\n",
    "global_config = load_global_config(global_config_path)\n",
    "\n",
    "default_config_path = \"../config/experimental_config.yaml\"\n",
    "experimental_config = load_experimental_config(default_config_path)"
   ]
  },
  {
   "cell_type": "markdown",
   "metadata": {},
   "source": [
    "Open the data you want to annotate."
   ]
  },
  {
   "cell_type": "code",
   "execution_count": 2,
   "metadata": {},
   "outputs": [],
   "source": [
    "data_path = \"../example_output/example_pipeline_14_05_24/llm.json\"\n",
    "\n",
    "with open(data_path) as file:\n",
    "    data = json.load(file)"
   ]
  },
  {
   "cell_type": "markdown",
   "metadata": {},
   "source": [
    "Here we set the experimental config entity list to just NHS number.\n",
    "\n",
    "When we launch the annotation tool, only NHS numbers will be labelled by the NER model.\n",
    "\n",
    "The labelling tool will add and remove entities to this list, and as such can be used at the start of a workflow."
   ]
  },
  {
   "cell_type": "code",
   "execution_count": 3,
   "metadata": {},
   "outputs": [],
   "source": [
    "experimental_config.extraction.entity_list = [\"nhs number\"]"
   ]
  },
  {
   "cell_type": "markdown",
   "metadata": {},
   "source": [
    "Below we impliment the labelling tool.\n",
    "\n",
    "For this example we define all functions within the notebook."
   ]
  },
  {
   "cell_type": "code",
   "execution_count": 4,
   "metadata": {},
   "outputs": [
    {
     "name": "stderr",
     "output_type": "stream",
     "text": [
      "/mnt/c/Users/Will Poulett/Documents/PrivFingerprint/privfp-experiments/.venv/lib/python3.11/site-packages/transformers/convert_slow_tokenizer.py:560: UserWarning: The sentencepiece tokenizer that you are converting to a fast tokenizer uses the byte fallback option which is not implemented in the fast tokenizers. In practice this means that the fast version of the tokenizer can produce unknown tokens whereas the sentencepiece version would have converted these unknown tokens into a sequence of byte tokens matching the original piece of text.\n",
      "  warnings.warn(\n",
      "/mnt/c/Users/Will Poulett/Documents/PrivFingerprint/privfp-experiments/.venv/lib/python3.11/site-packages/huggingface_hub/file_download.py:1132: FutureWarning: `resume_download` is deprecated and will be removed in version 1.0.0. Downloads always resume when possible. If you want to force a new download, use `force_download=True`.\n",
      "  warnings.warn(\n"
     ]
    }
   ],
   "source": [
    "# Extract results using initial config.\n",
    "results = Extraction(\n",
    "    global_config=global_config,\n",
    "    extractionconfig=experimental_config.extraction,\n",
    "    llm_input=data,\n",
    ").run_or_load(save=False)"
   ]
  },
  {
   "cell_type": "code",
   "execution_count": 5,
   "metadata": {},
   "outputs": [
    {
     "name": "stdout",
     "output_type": "stream",
     "text": [
      "0\n",
      "1\n",
      "2\n",
      "3\n",
      "4\n",
      "5\n",
      "6\n"
     ]
    },
    {
     "data": {
      "application/vnd.jupyter.widget-view+json": {
       "model_id": "f5f6a28c43354e2aa84ea38bfd684df7",
       "version_major": 2,
       "version_minor": 0
      },
      "text/plain": [
       "Output(layout=Layout(height='300px'))"
      ]
     },
     "metadata": {},
     "output_type": "display_data"
    },
    {
     "data": {
      "application/vnd.jupyter.widget-view+json": {
       "model_id": "37d14d34610d457e9aa03675fbaef26f",
       "version_major": 2,
       "version_minor": 0
      },
      "text/plain": [
       "HBox(children=(Button(description='Previous Note', style=ButtonStyle()), Button(description='Next Note', style…"
      ]
     },
     "metadata": {},
     "output_type": "display_data"
    },
    {
     "data": {
      "application/vnd.jupyter.widget-view+json": {
       "model_id": "01b6fdbb40f24481b415c67fcc8eaae1",
       "version_major": 2,
       "version_minor": 0
      },
      "text/plain": [
       "HBox(children=(Text(value='', placeholder='New Entity type'), Button(button_style='primary', description='Add …"
      ]
     },
     "metadata": {},
     "output_type": "display_data"
    },
    {
     "data": {
      "application/vnd.jupyter.widget-view+json": {
       "model_id": "1bd9f123321c4d4596e5702873cb135d",
       "version_major": 2,
       "version_minor": 0
      },
      "text/plain": [
       "Output(layout=Layout(height='30px'))"
      ]
     },
     "metadata": {},
     "output_type": "display_data"
    },
    {
     "name": "stdout",
     "output_type": "stream",
     "text": [
      "7\n"
     ]
    }
   ],
   "source": [
    "print(0)\n",
    "\n",
    "\n",
    "def initialise(index: int):\n",
    "    \"\"\"Initilises the widget.\n",
    "\n",
    "    Args:\n",
    "        index (int): Index of the data to display.\n",
    "    \"\"\"\n",
    "    global entity_dicts\n",
    "    global current_index\n",
    "    entity_dicts = []\n",
    "    current_index = index\n",
    "\n",
    "    # Format the data into the correct format for DisplaCy.\n",
    "    for i in range(len(results)):\n",
    "        entity_dicts.append(\n",
    "            {\n",
    "                \"text\": data[i],\n",
    "                \"ents\": results[i][\"Entities\"],\n",
    "            }\n",
    "        )\n",
    "    update_entity_display()\n",
    "\n",
    "\n",
    "def update_visualization(dic):\n",
    "    \"\"\"Updates the Displacy visualisation\n",
    "\n",
    "    Args:\n",
    "        dic (Dict): The dictionary used to pass information into DisplaCy.\n",
    "    \"\"\"\n",
    "    with displacy_output:\n",
    "        displacy_output.clear_output()\n",
    "        try:\n",
    "            # Render the visualization directly to the output area.\n",
    "            displacy.render(dic, manual=True, style=\"ent\", jupyter=True)\n",
    "        except Exception as e:\n",
    "            print(\"Error rendering visualization:\", e)\n",
    "\n",
    "\n",
    "# Define a function to handle button click for changing to next review\n",
    "def on_next_button_click(b):\n",
    "    \"\"\"Handles a button click for navigating to the next review.\n",
    "\n",
    "    Args:\n",
    "        b: Information passed from button click.\n",
    "    \"\"\"\n",
    "    global current_index\n",
    "    current_index = (current_index + 1) % len(entity_dicts)\n",
    "    dic = entity_dicts[current_index]\n",
    "    update_visualization(dic)\n",
    "\n",
    "\n",
    "def on_previous_button_click(b):\n",
    "    \"\"\"Handles a button click for navigating to the next review.\n",
    "\n",
    "    Args:\n",
    "        b: Information passed from button click.\n",
    "    \"\"\"\n",
    "    global current_index\n",
    "    current_index = (current_index - 1) % len(entity_dicts)\n",
    "    dic = entity_dicts[current_index]\n",
    "    update_visualization(dic)\n",
    "\n",
    "\n",
    "# Define a function to handle button click for submitting note\n",
    "def on_submit_button_click(b):\n",
    "    \"\"\"Handles a button click for submitting a new entity.\n",
    "\n",
    "    Args:\n",
    "        b: Information passed from button click.\n",
    "    \"\"\"\n",
    "    note_text = note_input.value.strip()\n",
    "    if note_text:\n",
    "        # Add new entitiy to config.\n",
    "        experimental_config.extraction.entity_list.append(note_text)\n",
    "    update_entity_display()\n",
    "\n",
    "\n",
    "def on_remove_button_click(b):\n",
    "    \"\"\"Handles a button click for removing a new entity.\n",
    "\n",
    "    Args:\n",
    "        b: Information passed from button click.\n",
    "    \"\"\"\n",
    "    note_text = note_input.value.strip()\n",
    "    if note_text:\n",
    "        try:\n",
    "            # Remove entity from config.\n",
    "            experimental_config.extraction.entity_list.remove(note_text)\n",
    "            update_entity_display()\n",
    "        except:\n",
    "            pass\n",
    "\n",
    "\n",
    "def update_entity_display():\n",
    "    \"\"\"Updates the displayed list of entities.\"\"\"\n",
    "\n",
    "    with entities_output:\n",
    "        entities_output.clear_output()\n",
    "        display(\n",
    "            HTML(\n",
    "                f\"Current Entities: {', '.join(experimental_config.extraction.entity_list)}\"\n",
    "            )\n",
    "        )\n",
    "\n",
    "\n",
    "def NER(b):\n",
    "    \"\"\"Handles a button click for Named Entity Recognition.\n",
    "    Runs extraction and updates widgets.\n",
    "\n",
    "    Args:\n",
    "        b: Information passed from button click.\n",
    "    \"\"\"\n",
    "\n",
    "    with displacy_output:\n",
    "        displacy_output.clear_output()\n",
    "        display(HTML(\"Extracting Entities...\"))\n",
    "\n",
    "    global results\n",
    "    # Extract entities.\n",
    "    results = Extraction(\n",
    "        global_config=global_config,\n",
    "        extractionconfig=experimental_config.extraction,\n",
    "        llm_input=data,\n",
    "    ).run_or_load(save=False)\n",
    "\n",
    "    # Reinitialsie the widget with the current index.\n",
    "    initialise(current_index)\n",
    "    update_visualization(entity_dicts[current_index])\n",
    "\n",
    "\n",
    "# Define initial widgets\n",
    "print(1)\n",
    "next_button = widgets.Button(description=\"Next Note\")\n",
    "previous_button = widgets.Button(description=\"Previous Note\")\n",
    "NER_button = widgets.Button(description=\"NER\", button_style=\"success\")\n",
    "displacy_output = widgets.Output()\n",
    "note_input = widgets.Text(placeholder=\"New Entity type\")\n",
    "submit_button = widgets.Button(\n",
    "    description=\"Add Entity\", button_style=\"primary\"\n",
    ")\n",
    "remove_button = widgets.Button(\n",
    "    description=\"Remove Entity\", button_style=\"danger\"\n",
    ")\n",
    "entities_output = widgets.Output()\n",
    "print(2)\n",
    "# Set the style for the output widget\n",
    "displacy_output.layout = widgets.Layout(\n",
    "    height=\"300px\", overflow_y=\"scroll\", overflow_x=\"auto\"\n",
    ")\n",
    "entities_output.layout = widgets.Layout(\n",
    "    height=\"30px\", overflow_y=\"scroll\", overflow_x=\"auto\"\n",
    ")\n",
    "\n",
    "print(3)\n",
    "# Initialise the widget with index of 0.\n",
    "initialise(0)\n",
    "print(4)\n",
    "\n",
    "# Attach button click event handlers\n",
    "next_button.on_click(on_next_button_click)\n",
    "previous_button.on_click(on_previous_button_click)\n",
    "submit_button.on_click(on_submit_button_click)\n",
    "remove_button.on_click(on_remove_button_click)\n",
    "NER_button.on_click(NER)\n",
    "print(5)\n",
    "\n",
    "\n",
    "# Display buttons and text input.\n",
    "input_box = widgets.HBox([note_input, submit_button, remove_button])\n",
    "navigation_box = widgets.HBox([previous_button, next_button, NER_button])\n",
    "print(6)\n",
    "\n",
    "# Display\n",
    "display(displacy_output)\n",
    "display(navigation_box)\n",
    "display(input_box)\n",
    "display(entities_output)\n",
    "print(7)\n",
    "# Initialize the visualization with the first piece of data\n",
    "update_visualization(entity_dicts[current_index])"
   ]
  },
  {
   "cell_type": "markdown",
   "metadata": {},
   "source": [
    "Display the current entities in config."
   ]
  },
  {
   "cell_type": "code",
   "execution_count": null,
   "metadata": {},
   "outputs": [],
   "source": [
    "experimental_config.extraction.entity_list"
   ]
  }
 ],
 "metadata": {
  "kernelspec": {
   "display_name": "Python 3 (ipykernel)",
   "language": "python",
   "name": "python3"
  },
  "language_info": {
   "codemirror_mode": {
    "name": "ipython",
    "version": 3
   },
   "file_extension": ".py",
   "mimetype": "text/x-python",
   "name": "python",
   "nbconvert_exporter": "python",
   "pygments_lexer": "ipython3",
   "version": "3.11.0"
  }
 },
 "nbformat": 4,
 "nbformat_minor": 4
}
