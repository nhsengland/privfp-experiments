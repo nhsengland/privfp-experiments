{
 "cells": [
  {
   "cell_type": "code",
   "execution_count": 1,
   "metadata": {},
   "outputs": [],
   "source": [
    "import json\n",
    "import spacy"
   ]
  },
  {
   "cell_type": "code",
   "execution_count": 2,
   "metadata": {},
   "outputs": [],
   "source": [
    "with open('../data/llm_dataset.json') as f:\n",
    "    data = json.load(f)"
   ]
  },
  {
   "cell_type": "code",
   "execution_count": 4,
   "metadata": {},
   "outputs": [],
   "source": [
    "import spacy.cli \n",
    "# spacy.cli.download(\"en_core_web_sm\")\n",
    "# spacy.cli.download(\"en_core_web_md\")\n",
    "# spacy.cli.download(\"en_core_web_lg\")\n",
    "# spacy.cli.download(\"en_core_sci_scibert\")"
   ]
  },
  {
   "cell_type": "code",
   "execution_count": 6,
   "metadata": {},
   "outputs": [
    {
     "data": {
      "text/html": [
       "<span class=\"tex2jax_ignore\"><div class=\"entities\" style=\"line-height: 2.5; direction: ltr\"><br><br>Mr. \n",
       "<mark class=\"entity\" style=\"background: #aa9cfc; padding: 0.45em 0.6em; margin: 0 0.25em; line-height: 1; border-radius: 0.35em;\">\n",
       "    Lucas Dickinson\n",
       "    <span style=\"font-size: 0.8em; font-weight: bold; line-height: 1; border-radius: 0.35em; vertical-align: middle; margin-left: 0.5rem\">PERSON</span>\n",
       "</mark>\n",
       " is a \n",
       "<mark class=\"entity\" style=\"background: #3cb44b; padding: 0.45em 0.6em; margin: 0 0.25em; line-height: 1; border-radius: 0.35em;\">\n",
       "    64 year old\n",
       "    <span style=\"font-size: 0.8em; font-weight: bold; line-height: 1; border-radius: 0.35em; vertical-align: middle; margin-left: 0.5rem\">DATE</span>\n",
       "</mark>\n",
       " male with an \n",
       "<mark class=\"entity\" style=\"background: #7aecec; padding: 0.45em 0.6em; margin: 0 0.25em; line-height: 1; border-radius: 0.35em;\">\n",
       "    NHS\n",
       "    <span style=\"font-size: 0.8em; font-weight: bold; line-height: 1; border-radius: 0.35em; vertical-align: middle; margin-left: 0.5rem\">ORG</span>\n",
       "</mark>\n",
       " number of \n",
       "<mark class=\"entity\" style=\"background: #e6194B; padding: 0.45em 0.6em; margin: 0 0.25em; line-height: 1; border-radius: 0.35em;\">\n",
       "    252\n",
       "    <span style=\"font-size: 0.8em; font-weight: bold; line-height: 1; border-radius: 0.35em; vertical-align: middle; margin-left: 0.5rem\">CARDINAL</span>\n",
       "</mark>\n",
       " 254 \n",
       "<mark class=\"entity\" style=\"background: #3cb44b; padding: 0.45em 0.6em; margin: 0 0.25em; line-height: 1; border-radius: 0.35em;\">\n",
       "    5515\n",
       "    <span style=\"font-size: 0.8em; font-weight: bold; line-height: 1; border-radius: 0.35em; vertical-align: middle; margin-left: 0.5rem\">DATE</span>\n",
       "</mark>\n",
       " and a date of birth of \n",
       "<mark class=\"entity\" style=\"background: #3cb44b; padding: 0.45em 0.6em; margin: 0 0.25em; line-height: 1; border-radius: 0.35em;\">\n",
       "    1953-10-28\n",
       "    <span style=\"font-size: 0.8em; font-weight: bold; line-height: 1; border-radius: 0.35em; vertical-align: middle; margin-left: 0.5rem\">DATE</span>\n",
       "</mark>\n",
       ". He is single and of mixed background. He visited Salisbury Road Surgery on \n",
       "<mark class=\"entity\" style=\"background: #3cb44b; padding: 0.45em 0.6em; margin: 0 0.25em; line-height: 1; border-radius: 0.35em;\">\n",
       "    2017-12-12\n",
       "    <span style=\"font-size: 0.8em; font-weight: bold; line-height: 1; border-radius: 0.35em; vertical-align: middle; margin-left: 0.5rem\">DATE</span>\n",
       "</mark>\n",
       " with acute bronchitis and was prescribed \n",
       "<mark class=\"entity\" style=\"background: #aa9cfc; padding: 0.45em 0.6em; margin: 0 0.25em; line-height: 1; border-radius: 0.35em;\">\n",
       "    Acetaminophen 325\n",
       "    <span style=\"font-size: 0.8em; font-weight: bold; line-height: 1; border-radius: 0.35em; vertical-align: middle; margin-left: 0.5rem\">PERSON</span>\n",
       "</mark>\n",
       " MG Oral \n",
       "<mark class=\"entity\" style=\"background: #aa9cfc; padding: 0.45em 0.6em; margin: 0 0.25em; line-height: 1; border-radius: 0.35em;\">\n",
       "    Tablet\n",
       "    <span style=\"font-size: 0.8em; font-weight: bold; line-height: 1; border-radius: 0.35em; vertical-align: middle; margin-left: 0.5rem\">PERSON</span>\n",
       "</mark>\n",
       ". His treatment plan includes respiratory therapy.</div></span>"
      ],
      "text/plain": [
       "<IPython.core.display.HTML object>"
      ]
     },
     "metadata": {},
     "output_type": "display_data"
    },
    {
     "data": {
      "text/plain": [
       "[('Lucas Dickinson', 'PERSON'),\n",
       " ('64 year old', 'DATE'),\n",
       " ('NHS', 'ORG'),\n",
       " ('252', 'CARDINAL'),\n",
       " ('5515', 'DATE'),\n",
       " ('1953-10-28', 'DATE'),\n",
       " ('2017-12-12', 'DATE'),\n",
       " ('Acetaminophen 325', 'PERSON'),\n",
       " ('Tablet', 'PERSON')]"
      ]
     },
     "execution_count": 6,
     "metadata": {},
     "output_type": "execute_result"
    }
   ],
   "source": [
    "# nlp = spacy.load(\"en_core_sci_scibert\")\n",
    "# nlp = spacy.load(\"en_core_web_md\")\n",
    "# nlp = spacy.load(\"en_core_web_lg\")\n",
    "# nlp= spacy.load(\"en_core_sci_md\")\n",
    "nlp= spacy.load(\"en_core_web_sm\")\n",
    "\n",
    "num = [0, 15, 30, 165, 345, 567, 735][5]\n",
    "\n",
    "# This function generate anotation for each entities and label\n",
    "def generate_annotation(texts):\n",
    "    annotations = []\n",
    "    for text in texts:\n",
    "        doc = nlp(text)\n",
    "        entities = []\n",
    "        for ent in doc.ents:\n",
    "            entities.append((ent.start_char, ent.end_char, ent.label_))\n",
    "        annotations.append((text, {'entities': entities}))\n",
    "    return annotations\n",
    "\n",
    "\n",
    "# Let's generate annotations\n",
    "annotations = generate_annotation(data[num])\n",
    "\n",
    "col_dict = {}\n",
    "s_colours = ['#e6194B', '#3cb44b', '#ffe119', '#ffd8b1', '#f58231', '#f032e6', '#42d4f4']\n",
    "for label, colour in zip(nlp.pipe_labels['ner'], s_colours):\n",
    "    col_dict[label] = colour\n",
    "\n",
    "options = {'ents': nlp.pipe_labels['ner'], 'colors':col_dict}\n",
    "\n",
    "doc = nlp(data[num])\n",
    "\n",
    "spacy.displacy.render(doc, style = 'ent', jupyter = True, options = options)\n",
    "\n",
    "# This prints annotated text with colour to user - is pretty\n",
    "# [(ent.text, ent.label_) for ent in doc.ents]\n",
    "\n",
    "## This creates a dictionary of results that could be useful for overlaying.\n",
    "# def spacy_large_ner(document, model):\n",
    "#   return {(ent.text.strip(), ent.label_) for ent in model(document).ents}\n",
    "\n",
    "# print(spacy_large_ner(data[1], nlp))\n"
   ]
  },
  {
   "cell_type": "markdown",
   "metadata": {},
   "source": [
    "## Trying to use en_ner_bc5cdr_md model for disease and chemical extraction"
   ]
  },
  {
   "cell_type": "code",
   "execution_count": null,
   "metadata": {},
   "outputs": [],
   "source": [
    "import scispacy\n",
    "import spacy\n",
    "nlp = spacy.load(\"en_ner_bc5cdr_md\")\n",
    "\n",
    "# nlp = spacy.blank(\"en\")\n",
    "# llm_ner = nlp.add_pipe(\"llm_ner\") # SET UP API KEY\n",
    "# llm_ner.add_label(\"PERSON\")\n",
    "# llm_ner.add_label(\"LOCATION\")\n",
    "# nlp.initialize()\n",
    "# doc = nlp(\"Jack and Jill rode up the hill in Les Deux Alpes\")\n",
    "# print([(ent.text, ent.label_) for ent in doc.ents])"
   ]
  }
 ],
 "metadata": {
  "kernelspec": {
   "display_name": "privacyfp",
   "language": "python",
   "name": "python3"
  },
  "language_info": {
   "codemirror_mode": {
    "name": "ipython",
    "version": 3
   },
   "file_extension": ".py",
   "mimetype": "text/x-python",
   "name": "python",
   "nbconvert_exporter": "python",
   "pygments_lexer": "ipython3",
   "version": "3.8.18"
  }
 },
 "nbformat": 4,
 "nbformat_minor": 2
}
