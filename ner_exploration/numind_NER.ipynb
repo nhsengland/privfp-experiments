{
 "cells": [
  {
   "cell_type": "code",
   "execution_count": 11,
   "metadata": {},
   "outputs": [],
   "source": [
    "import json\n",
    "import torch\n",
    "from transformers import AutoTokenizer, AutoModel\n",
    "from transformers import AutoTokenizer, AutoModelForTokenClassification\n",
    "from transformers import pipeline"
   ]
  },
  {
   "cell_type": "code",
   "execution_count": 2,
   "metadata": {},
   "outputs": [],
   "source": [
    "with open('../data/llm_dataset.json') as f:\n",
    "    data = json.load(f)"
   ]
  },
  {
   "cell_type": "code",
   "execution_count": 14,
   "metadata": {},
   "outputs": [
    {
     "name": "stderr",
     "output_type": "stream",
     "text": [
      "Some weights of RobertaForTokenClassification were not initialized from the model checkpoint at numind/generic-entity_recognition_NER-v1 and are newly initialized: ['classifier.weight', 'classifier.bias']\n",
      "You should probably TRAIN this model on a down-stream task to be able to use it for predictions and inference.\n"
     ]
    },
    {
     "name": "stdout",
     "output_type": "stream",
     "text": [
      "[{'entity': 'LABEL_1', 'score': 0.68638337, 'index': 1, 'word': 'Ċ', 'start': 0, 'end': 1}, {'entity': 'LABEL_1', 'score': 0.60065585, 'index': 2, 'word': 'Ċ', 'start': 1, 'end': 2}, {'entity': 'LABEL_1', 'score': 0.593003, 'index': 3, 'word': 'Mr', 'start': 2, 'end': 4}, {'entity': 'LABEL_1', 'score': 0.5812281, 'index': 4, 'word': '.', 'start': 4, 'end': 5}, {'entity': 'LABEL_1', 'score': 0.5658512, 'index': 5, 'word': 'ĠBrandon', 'start': 6, 'end': 13}, {'entity': 'LABEL_1', 'score': 0.57434565, 'index': 6, 'word': 'ĠMcL', 'start': 14, 'end': 17}, {'entity': 'LABEL_1', 'score': 0.5631838, 'index': 7, 'word': 'aughlin', 'start': 17, 'end': 24}, {'entity': 'LABEL_1', 'score': 0.5581784, 'index': 8, 'word': 'Ġis', 'start': 25, 'end': 27}, {'entity': 'LABEL_1', 'score': 0.5494567, 'index': 9, 'word': 'Ġa', 'start': 28, 'end': 29}, {'entity': 'LABEL_0', 'score': 0.5751075, 'index': 10, 'word': 'Ġ13', 'start': 30, 'end': 32}, {'entity': 'LABEL_0', 'score': 0.58046055, 'index': 11, 'word': '-', 'start': 32, 'end': 33}, {'entity': 'LABEL_0', 'score': 0.5737658, 'index': 12, 'word': 'year', 'start': 33, 'end': 37}, {'entity': 'LABEL_0', 'score': 0.5687582, 'index': 13, 'word': '-', 'start': 37, 'end': 38}, {'entity': 'LABEL_0', 'score': 0.51866627, 'index': 14, 'word': 'old', 'start': 38, 'end': 41}, {'entity': 'LABEL_1', 'score': 0.525591, 'index': 15, 'word': 'Ġmale', 'start': 42, 'end': 46}, {'entity': 'LABEL_1', 'score': 0.56442374, 'index': 16, 'word': 'Ġof', 'start': 47, 'end': 49}, {'entity': 'LABEL_1', 'score': 0.5928954, 'index': 17, 'word': 'ĠChinese', 'start': 50, 'end': 57}, {'entity': 'LABEL_1', 'score': 0.57823694, 'index': 18, 'word': 'Ġethnicity', 'start': 58, 'end': 67}, {'entity': 'LABEL_1', 'score': 0.5799656, 'index': 19, 'word': 'Ġwith', 'start': 68, 'end': 72}, {'entity': 'LABEL_1', 'score': 0.53493196, 'index': 20, 'word': 'Ġan', 'start': 73, 'end': 75}, {'entity': 'LABEL_1', 'score': 0.5222717, 'index': 21, 'word': 'ĠNHS', 'start': 76, 'end': 79}, {'entity': 'LABEL_1', 'score': 0.5165116, 'index': 22, 'word': 'Ġnumber', 'start': 80, 'end': 86}, {'entity': 'LABEL_1', 'score': 0.51461554, 'index': 23, 'word': 'Ġof', 'start': 87, 'end': 89}, {'entity': 'LABEL_0', 'score': 0.523951, 'index': 24, 'word': 'Ġ5', 'start': 90, 'end': 91}, {'entity': 'LABEL_0', 'score': 0.5102232, 'index': 25, 'word': '68', 'start': 91, 'end': 93}, {'entity': 'LABEL_0', 'score': 0.5034561, 'index': 26, 'word': 'Ġ9', 'start': 94, 'end': 95}, {'entity': 'LABEL_0', 'score': 0.5042101, 'index': 27, 'word': '68', 'start': 95, 'end': 97}, {'entity': 'LABEL_0', 'score': 0.51513493, 'index': 28, 'word': 'Ġ0', 'start': 98, 'end': 99}, {'entity': 'LABEL_0', 'score': 0.50796825, 'index': 29, 'word': '803', 'start': 99, 'end': 102}, {'entity': 'LABEL_1', 'score': 0.55085963, 'index': 30, 'word': 'Ġand', 'start': 103, 'end': 106}, {'entity': 'LABEL_1', 'score': 0.5246971, 'index': 31, 'word': 'Ġa', 'start': 107, 'end': 108}, {'entity': 'LABEL_0', 'score': 0.62398213, 'index': 32, 'word': 'Ġdate', 'start': 109, 'end': 113}, {'entity': 'LABEL_0', 'score': 0.6402882, 'index': 33, 'word': 'Ġof', 'start': 114, 'end': 116}, {'entity': 'LABEL_0', 'score': 0.5913226, 'index': 34, 'word': 'Ġbirth', 'start': 117, 'end': 122}, {'entity': 'LABEL_0', 'score': 0.6399574, 'index': 35, 'word': 'Ġof', 'start': 123, 'end': 125}, {'entity': 'LABEL_0', 'score': 0.6761476, 'index': 36, 'word': 'Ġ1963', 'start': 126, 'end': 130}, {'entity': 'LABEL_0', 'score': 0.6671529, 'index': 37, 'word': '-', 'start': 130, 'end': 131}, {'entity': 'LABEL_0', 'score': 0.62891877, 'index': 38, 'word': '12', 'start': 131, 'end': 133}, {'entity': 'LABEL_0', 'score': 0.66040355, 'index': 39, 'word': '-', 'start': 133, 'end': 134}, {'entity': 'LABEL_0', 'score': 0.6902047, 'index': 40, 'word': '07', 'start': 134, 'end': 136}, {'entity': 'LABEL_1', 'score': 0.5490592, 'index': 41, 'word': '.', 'start': 136, 'end': 137}, {'entity': 'LABEL_0', 'score': 0.5087845, 'index': 42, 'word': 'ĠHe', 'start': 138, 'end': 140}, {'entity': 'LABEL_0', 'score': 0.5424423, 'index': 43, 'word': 'Ġis', 'start': 141, 'end': 143}, {'entity': 'LABEL_0', 'score': 0.56066364, 'index': 44, 'word': 'Ġsingle', 'start': 144, 'end': 150}, {'entity': 'LABEL_0', 'score': 0.5086021, 'index': 45, 'word': 'Ġand', 'start': 151, 'end': 154}, {'entity': 'LABEL_0', 'score': 0.5195278, 'index': 46, 'word': 'Ġis', 'start': 155, 'end': 157}, {'entity': 'LABEL_0', 'score': 0.5660471, 'index': 47, 'word': 'Ġvisiting', 'start': 158, 'end': 166}, {'entity': 'LABEL_0', 'score': 0.5025133, 'index': 48, 'word': 'ĠB', 'start': 167, 'end': 168}, {'entity': 'LABEL_1', 'score': 0.5078026, 'index': 49, 'word': 'itter', 'start': 168, 'end': 173}, {'entity': 'LABEL_0', 'score': 0.50323707, 'index': 50, 'word': 'ne', 'start': 173, 'end': 175}, {'entity': 'LABEL_0', 'score': 0.53724885, 'index': 51, 'word': 'ĠSurgery', 'start': 176, 'end': 183}, {'entity': 'LABEL_1', 'score': 0.52229124, 'index': 52, 'word': 'Ġon', 'start': 184, 'end': 186}, {'entity': 'LABEL_0', 'score': 0.5581784, 'index': 53, 'word': 'Ġ1976', 'start': 187, 'end': 191}, {'entity': 'LABEL_0', 'score': 0.5806155, 'index': 54, 'word': '-', 'start': 191, 'end': 192}, {'entity': 'LABEL_0', 'score': 0.5578566, 'index': 55, 'word': '06', 'start': 192, 'end': 194}, {'entity': 'LABEL_0', 'score': 0.5703099, 'index': 56, 'word': '-', 'start': 194, 'end': 195}, {'entity': 'LABEL_0', 'score': 0.59758705, 'index': 57, 'word': '03', 'start': 195, 'end': 197}, {'entity': 'LABEL_0', 'score': 0.55925936, 'index': 58, 'word': ',', 'start': 197, 'end': 198}, {'entity': 'LABEL_1', 'score': 0.5648297, 'index': 59, 'word': 'Ġwith', 'start': 199, 'end': 203}, {'entity': 'LABEL_1', 'score': 0.55616254, 'index': 60, 'word': 'Ġa', 'start': 204, 'end': 205}, {'entity': 'LABEL_0', 'score': 0.5432001, 'index': 61, 'word': 'Ġdiagnosis', 'start': 206, 'end': 215}, {'entity': 'LABEL_1', 'score': 0.57349133, 'index': 62, 'word': 'Ġof', 'start': 216, 'end': 218}, {'entity': 'LABEL_1', 'score': 0.62233466, 'index': 63, 'word': 'Ġacute', 'start': 219, 'end': 224}, {'entity': 'LABEL_1', 'score': 0.60561246, 'index': 64, 'word': 'Ġbron', 'start': 225, 'end': 229}, {'entity': 'LABEL_1', 'score': 0.6330386, 'index': 65, 'word': 'ch', 'start': 229, 'end': 231}, {'entity': 'LABEL_1', 'score': 0.618122, 'index': 66, 'word': 'itis', 'start': 231, 'end': 235}, {'entity': 'LABEL_1', 'score': 0.5490594, 'index': 67, 'word': '.', 'start': 235, 'end': 236}, {'entity': 'LABEL_1', 'score': 0.58331054, 'index': 68, 'word': 'ĠHis', 'start': 237, 'end': 240}, {'entity': 'LABEL_0', 'score': 0.51257396, 'index': 69, 'word': 'Ġcare', 'start': 241, 'end': 245}, {'entity': 'LABEL_0', 'score': 0.51491386, 'index': 70, 'word': 'Ġplan', 'start': 246, 'end': 250}, {'entity': 'LABEL_1', 'score': 0.62595946, 'index': 71, 'word': 'Ġincludes', 'start': 251, 'end': 259}, {'entity': 'LABEL_1', 'score': 0.5798222, 'index': 72, 'word': 'Ġrespiratory', 'start': 260, 'end': 271}, {'entity': 'LABEL_1', 'score': 0.57641715, 'index': 73, 'word': 'Ġtherapy', 'start': 272, 'end': 279}, {'entity': 'LABEL_1', 'score': 0.5490594, 'index': 74, 'word': '.', 'start': 279, 'end': 280}]\n"
     ]
    }
   ],
   "source": [
    "# model = AutoModelForTokenClassification.from_pretrained(\"numind/generic-entity_recognition_NER-v1\")\n",
    "# tokenizer = AutoTokenizer.from_pretrained(\"numind/generic-entity_recognition_NER-v1\")\n",
    "# nlp = pipeline(\"ner\", model=model, tokenizer=tokenizer)\n",
    "# ner_results = nlp(data[0])\n",
    "# print(ner_results)"
   ]
  },
  {
   "cell_type": "code",
   "execution_count": 15,
   "metadata": {},
   "outputs": [
    {
     "data": {
      "text/plain": [
       "RobertaModel(\n",
       "  (embeddings): RobertaEmbeddings(\n",
       "    (word_embeddings): Embedding(50265, 768, padding_idx=1)\n",
       "    (position_embeddings): Embedding(514, 768, padding_idx=1)\n",
       "    (token_type_embeddings): Embedding(1, 768)\n",
       "    (LayerNorm): LayerNorm((768,), eps=1e-05, elementwise_affine=True)\n",
       "    (dropout): Dropout(p=0.1, inplace=False)\n",
       "  )\n",
       "  (encoder): RobertaEncoder(\n",
       "    (layer): ModuleList(\n",
       "      (0-11): 12 x RobertaLayer(\n",
       "        (attention): RobertaAttention(\n",
       "          (self): RobertaSelfAttention(\n",
       "            (query): Linear(in_features=768, out_features=768, bias=True)\n",
       "            (key): Linear(in_features=768, out_features=768, bias=True)\n",
       "            (value): Linear(in_features=768, out_features=768, bias=True)\n",
       "            (dropout): Dropout(p=0.1, inplace=False)\n",
       "          )\n",
       "          (output): RobertaSelfOutput(\n",
       "            (dense): Linear(in_features=768, out_features=768, bias=True)\n",
       "            (LayerNorm): LayerNorm((768,), eps=1e-05, elementwise_affine=True)\n",
       "            (dropout): Dropout(p=0.1, inplace=False)\n",
       "          )\n",
       "        )\n",
       "        (intermediate): RobertaIntermediate(\n",
       "          (dense): Linear(in_features=768, out_features=3072, bias=True)\n",
       "          (intermediate_act_fn): GELUActivation()\n",
       "        )\n",
       "        (output): RobertaOutput(\n",
       "          (dense): Linear(in_features=3072, out_features=768, bias=True)\n",
       "          (LayerNorm): LayerNorm((768,), eps=1e-05, elementwise_affine=True)\n",
       "          (dropout): Dropout(p=0.1, inplace=False)\n",
       "        )\n",
       "      )\n",
       "    )\n",
       "  )\n",
       "  (pooler): RobertaPooler(\n",
       "    (dense): Linear(in_features=768, out_features=768, bias=True)\n",
       "    (activation): Tanh()\n",
       "  )\n",
       ")"
      ]
     },
     "execution_count": 15,
     "metadata": {},
     "output_type": "execute_result"
    }
   ],
   "source": [
    "model = AutoModel.from_pretrained(\"numind/generic-entity_recognition_NER-v1\")\n",
    "tokenizer = AutoTokenizer.from_pretrained(\"numind/generic-entity_recognition_NER-v1\")\n",
    "device = torch.device('cuda') if torch.cuda.is_available() else torch.device('cpu')\n",
    "model.to(device)"
   ]
  },
  {
   "cell_type": "code",
   "execution_count": 16,
   "metadata": {},
   "outputs": [],
   "source": [
    "size = 256\n",
    "text = \"This movie is amazing\""
   ]
  },
  {
   "cell_type": "code",
   "execution_count": 17,
   "metadata": {},
   "outputs": [],
   "source": [
    "encoding = tokenizer(\n",
    "    text,\n",
    "    truncation=True, \n",
    "    padding='max_length', \n",
    "    max_length= size,\n",
    ")\n",
    "\n",
    "emb = model(\n",
    "      torch.reshape(torch.tensor(encoding.input_ids),(1,len(encoding.input_ids))).to(device),output_hidden_states=True\n",
    ").hidden_states[-1].cpu().detach()\n",
    "\n",
    "embText = torch.mean(emb,axis = 1)"
   ]
  },
  {
   "cell_type": "code",
   "execution_count": 18,
   "metadata": {},
   "outputs": [
    {
     "data": {
      "text/plain": [
       "tensor([[[-0.0474, -0.0888, -0.2203,  ..., -0.2806,  0.6112,  0.7123],\n",
       "         [-0.1070,  0.0185, -0.1894,  ..., -0.4109,  0.3761,  0.4257],\n",
       "         [-0.1069,  0.0186, -0.1894,  ..., -0.4109,  0.3761,  0.4258],\n",
       "         ...,\n",
       "         [ 0.0192, -0.3139, -0.4440,  ..., -0.8983,  0.7524,  0.7890],\n",
       "         [ 0.0192, -0.3139, -0.4440,  ..., -0.8983,  0.7524,  0.7890],\n",
       "         [ 0.0192, -0.3139, -0.4440,  ..., -0.8983,  0.7524,  0.7890]]])"
      ]
     },
     "execution_count": 18,
     "metadata": {},
     "output_type": "execute_result"
    }
   ],
   "source": [
    "emb"
   ]
  },
  {
   "cell_type": "markdown",
   "metadata": {},
   "source": [
    "# With Spacy?"
   ]
  },
  {
   "cell_type": "code",
   "execution_count": null,
   "metadata": {},
   "outputs": [],
   "source": []
  }
 ],
 "metadata": {
  "kernelspec": {
   "display_name": "privacyfp",
   "language": "python",
   "name": "python3"
  },
  "language_info": {
   "codemirror_mode": {
    "name": "ipython",
    "version": 3
   },
   "file_extension": ".py",
   "mimetype": "text/x-python",
   "name": "python",
   "nbconvert_exporter": "python",
   "pygments_lexer": "ipython3",
   "version": "3.8.18"
  }
 },
 "nbformat": 4,
 "nbformat_minor": 2
}
