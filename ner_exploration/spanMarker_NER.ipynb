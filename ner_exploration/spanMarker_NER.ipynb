{
 "cells": [
  {
   "cell_type": "code",
   "execution_count": 21,
   "metadata": {},
   "outputs": [],
   "source": [
    "import json\n",
    "\n",
    "with open('../data/llm_dataset.json') as f:\n",
    "    data = json.load(f)"
   ]
  },
  {
   "cell_type": "code",
   "execution_count": 25,
   "metadata": {},
   "outputs": [
    {
     "data": {
      "application/vnd.jupyter.widget-view+json": {
       "model_id": "e02f18410d064e12b49f90998d145195",
       "version_major": 2,
       "version_minor": 0
      },
      "text/plain": [
       "config.json:   0%|          | 0.00/3.33k [00:00<?, ?B/s]"
      ]
     },
     "metadata": {},
     "output_type": "display_data"
    },
    {
     "data": {
      "application/vnd.jupyter.widget-view+json": {
       "model_id": "cc6cd1f6074148518e1cfdfb62a69719",
       "version_major": 2,
       "version_minor": 0
      },
      "text/plain": [
       "model.safetensors:   0%|          | 0.00/2.24G [00:00<?, ?B/s]"
      ]
     },
     "metadata": {},
     "output_type": "display_data"
    },
    {
     "name": "stderr",
     "output_type": "stream",
     "text": [
      "This model was trained with document-level context: inference without document-level context may cause decreased performance.\n"
     ]
    },
    {
     "data": {
      "text/plain": [
       "[{'span': 'Brandon McLaughlin',\n",
       "  'label': 'PER',\n",
       "  'score': 0.9991335272789001,\n",
       "  'char_start_index': 6,\n",
       "  'char_end_index': 24},\n",
       " {'span': 'Chinese',\n",
       "  'label': 'MISC',\n",
       "  'score': 0.9989929795265198,\n",
       "  'char_start_index': 50,\n",
       "  'char_end_index': 57},\n",
       " {'span': 'NHS',\n",
       "  'label': 'ORG',\n",
       "  'score': 0.9431343078613281,\n",
       "  'char_start_index': 76,\n",
       "  'char_end_index': 79},\n",
       " {'span': 'Bitterne Surgery',\n",
       "  'label': 'LOC',\n",
       "  'score': 0.5204988718032837,\n",
       "  'char_start_index': 167,\n",
       "  'char_end_index': 183}]"
      ]
     },
     "execution_count": 25,
     "metadata": {},
     "output_type": "execute_result"
    }
   ],
   "source": [
    "from span_marker import SpanMarkerModel\n",
    "\n",
    "# Download from the 🤗 Hub\n",
    "# model = SpanMarkerModel.from_pretrained(\"tomaarsen/span-marker-bert-base-fewnerd-fine-super\")\n",
    "# model = SpanMarkerModel.from_pretrained(\"tomaarsen/span-marker-roberta-large-fewnerd-fine-super\")\n",
    "# model = SpanMarkerModel.from_pretrained(\"tomaarsen/span-marker-xlm-roberta-base-fewnerd-fine-super\")\n",
    "\n",
    "# model = SpanMarkerModel.from_pretrained(\"tomaarsen/span-marker-roberta-large-ontonotes5\")\n",
    "\n",
    "# model = SpanMarkerModel.from_pretrained(\"tomaarsen/span-marker-xlm-roberta-large-conll03\") \n",
    "# model = SpanMarkerModel.from_pretrained(\"tomaarsen/span-marker-xlm-roberta-large-conll03-doc-context\")\n",
    "model = SpanMarkerModel.from_pretrained(\"tomaarsen/span-marker-xlm-roberta-large-conllpp-doc-context\")\n",
    "\n",
    "# Run inference\n",
    "entities = model.predict(data[0])\n",
    "entities\n"
   ]
  },
  {
   "cell_type": "markdown",
   "metadata": {},
   "source": [
    "## With spacy integration"
   ]
  },
  {
   "cell_type": "code",
   "execution_count": 11,
   "metadata": {},
   "outputs": [
    {
     "name": "stdout",
     "output_type": "stream",
     "text": [
      "[(Brandon McLaughlin, 'PERSON'), (13-year-old, 'DATE'), (Chinese, 'NORP'), (NHS, 'ORG'), (568 968 0803, 'CARDINAL'), (1963-12-07, 'DATE'), (Bitterne Surgery, 'ORG'), (1976-06-03, 'DATE')]\n"
     ]
    }
   ],
   "source": [
    "import spacy\n",
    "\n",
    "# Load the spaCy model with the span_marker pipeline component\n",
    "nlp = spacy.load(\"en_core_web_lg\", exclude=[\"ner\"])\n",
    "nlp.add_pipe(\"span_marker\", config={\"model\": \"tomaarsen/span-marker-roberta-large-ontonotes5\"})\n",
    "\n",
    "# Feed some text through the model to get a spacy Doc\n",
    "doc = nlp(data[0])\n",
    "\n",
    "# And look at the entities\n",
    "print([(entity, entity.label_) for entity in doc.ents])"
   ]
  },
  {
   "cell_type": "code",
   "execution_count": 18,
   "metadata": {},
   "outputs": [
    {
     "data": {
      "text/plain": [
       "'\\n\\nMr. Brandon McLaughlin is a 13-year-old male of Chinese ethnicity with an NHS number of 568 968 0803 and a date of birth of 1963-12-07. He is single and is visiting Bitterne Surgery on 1976-06-03, with a diagnosis of acute bronchitis. His care plan includes respiratory therapy.'"
      ]
     },
     "execution_count": 18,
     "metadata": {},
     "output_type": "execute_result"
    }
   ],
   "source": [
    "data[0]"
   ]
  },
  {
   "cell_type": "code",
   "execution_count": 19,
   "metadata": {},
   "outputs": [
    {
     "name": "stderr",
     "output_type": "stream",
     "text": [
      "/Users/scarlettkynoch/miniconda3/envs/privacyfp/lib/python3.8/site-packages/spacy_transformers/layers/hf_shim.py:137: UserWarning: Error loading saved torch state_dict with strict=True, likely due to differences between 'transformers' versions. Attempting to load with strict=False as a fallback...\n",
      "\n",
      "If you see errors or degraded performance, download a newer compatible model or retrain your custom model with the current 'transformers' and 'spacy-transformers' versions. For more details and available updates, run: python -m spacy validate\n",
      "  warnings.warn(warn_msg)\n",
      "/Users/scarlettkynoch/miniconda3/envs/privacyfp/lib/python3.8/site-packages/torch/amp/autocast_mode.py:250: UserWarning: User provided device_type of 'cuda', but CUDA is not available. Disabling\n",
      "  warnings.warn(\n"
     ]
    },
    {
     "name": "stdout",
     "output_type": "stream",
     "text": [
      "[(Brandon McLaughlin, 'PERSON'), (13-year-old, 'DATE'), (Chinese, 'NORP'), (NHS, 'ORG'), (568 968 0803, 'CARDINAL'), (1963-12-07, 'DATE'), (Bitterne Surgery, 'ORG'), (1976-06-03, 'DATE')]\n"
     ]
    }
   ],
   "source": [
    "import spacy\n",
    "# spacy.cli.download('en_ner_bc5cdr_md')\n",
    "# nlp = spacy.load(\"en_core_sci_scibert\")\n",
    "\n",
    "# Load the spaCy model with the span_marker pipeline component\n",
    "nlp = spacy.load(\"en_core_sci_scibert\", exclude=[\"ner\"])\n",
    "nlp.add_pipe(\"span_marker\", config={\"model\": \"tomaarsen/span-marker-roberta-large-ontonotes5\"})\n",
    "\n",
    "# Feed some text through the model to get a spacy Doc\n",
    "doc = nlp(data[0])\n",
    "\n",
    "# And look at the entities\n",
    "print([(entity, entity.label_) for entity in doc.ents])"
   ]
  }
 ],
 "metadata": {
  "kernelspec": {
   "display_name": "privacyfp",
   "language": "python",
   "name": "python3"
  },
  "language_info": {
   "codemirror_mode": {
    "name": "ipython",
    "version": 3
   },
   "file_extension": ".py",
   "mimetype": "text/x-python",
   "name": "python",
   "nbconvert_exporter": "python",
   "pygments_lexer": "ipython3",
   "version": "3.8.18"
  }
 },
 "nbformat": 4,
 "nbformat_minor": 2
}
