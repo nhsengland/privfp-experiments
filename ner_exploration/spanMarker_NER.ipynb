{
 "cells": [
  {
   "cell_type": "code",
   "execution_count": 1,
   "metadata": {},
   "outputs": [],
   "source": [
    "import json\n",
    "\n",
    "with open('../data/llm_dataset.json') as f:\n",
    "    data = json.load(f)"
   ]
  },
  {
   "cell_type": "code",
   "execution_count": 26,
   "metadata": {},
   "outputs": [
    {
     "data": {
      "application/vnd.jupyter.widget-view+json": {
       "model_id": "011ef87e3d6e4dcb93f41fa7dc356079",
       "version_major": 2,
       "version_minor": 0
      },
      "text/plain": [
       "config.json:   0%|          | 0.00/3.29k [00:00<?, ?B/s]"
      ]
     },
     "metadata": {},
     "output_type": "display_data"
    },
    {
     "data": {
      "application/vnd.jupyter.widget-view+json": {
       "model_id": "cf7fdd7600814bee8906c347e722e687",
       "version_major": 2,
       "version_minor": 0
      },
      "text/plain": [
       "model.safetensors:   0%|          | 0.00/2.24G [00:00<?, ?B/s]"
      ]
     },
     "metadata": {},
     "output_type": "display_data"
    },
    {
     "data": {
      "application/vnd.jupyter.widget-view+json": {
       "model_id": "12ae0375a86f4b748680afbbf3e5385c",
       "version_major": 2,
       "version_minor": 0
      },
      "text/plain": [
       "config.json:   0%|          | 0.00/616 [00:00<?, ?B/s]"
      ]
     },
     "metadata": {},
     "output_type": "display_data"
    },
    {
     "data": {
      "application/vnd.jupyter.widget-view+json": {
       "model_id": "54ccaea75ecf4356905fb9626fd9ddf4",
       "version_major": 2,
       "version_minor": 0
      },
      "text/plain": [
       "sentencepiece.bpe.model:   0%|          | 0.00/5.07M [00:00<?, ?B/s]"
      ]
     },
     "metadata": {},
     "output_type": "display_data"
    },
    {
     "data": {
      "application/vnd.jupyter.widget-view+json": {
       "model_id": "1bf5cbe6231a453a825ae803229328d2",
       "version_major": 2,
       "version_minor": 0
      },
      "text/plain": [
       "tokenizer.json:   0%|          | 0.00/9.10M [00:00<?, ?B/s]"
      ]
     },
     "metadata": {},
     "output_type": "display_data"
    }
   ],
   "source": [
    "from span_marker import SpanMarkerModel\n",
    "\n",
    "patient_dict = {}\n",
    "patient_nums = [0, 15, 30, 78, 165, 276, 345, 428, 567, 735, 852, 961]\n",
    "\n",
    "for patient_num in patient_nums:\n",
    "    text = data[patient_num].strip()\n",
    "\n",
    "    # Download from the 🤗 Hub\n",
    "    # model = SpanMarkerModel.from_pretrained(\"tomaarsen/span-marker-bert-base-fewnerd-fine-super\")\n",
    "    # model = SpanMarkerModel.from_pretrained(\"tomaarsen/span-marker-roberta-large-fewnerd-fine-super\")\n",
    "    # model = SpanMarkerModel.from_pretrained(\"tomaarsen/span-marker-xlm-roberta-base-fewnerd-fine-super\")\n",
    "\n",
    "    # model = SpanMarkerModel.from_pretrained(\"tomaarsen/span-marker-roberta-large-ontonotes5\")\n",
    "\n",
    "    # model = SpanMarkerModel.from_pretrained(\"tomaarsen/span-marker-xlm-roberta-large-conll03\") \n",
    "    model = SpanMarkerModel.from_pretrained(\"tomaarsen/span-marker-xlm-roberta-large-conll03-doc-context\")\n",
    "    # model = SpanMarkerModel.from_pretrained(\"tomaarsen/span-marker-xlm-roberta-large-conllpp-doc-context\")\n",
    "\n",
    "    # Run inference\n",
    "    entities = model.predict(text)\n",
    "    patient_dict[patient_num] = {\n",
    "        \"text\": text,\n",
    "        \"entities\": entities\n",
    "    }\n"
   ]
  },
  {
   "cell_type": "code",
   "execution_count": 35,
   "metadata": {},
   "outputs": [
    {
     "name": "stdout",
     "output_type": "stream",
     "text": [
      "Mr. Lucas Dickinson is a 64 year old male with an NHS number of 252 254 5515 and a date of birth of 1953-10-28. He is single and of mixed background. He visited Salisbury Road Surgery on 2017-12-12 with acute bronchitis and was prescribed Acetaminophen 325 MG Oral Tablet. His treatment plan includes respiratory therapy.\n",
      "[{'span': 'Lucas Dickinson', 'label': 'PER', 'score': 0.9939233660697937, 'char_start_index': 4, 'char_end_index': 19}, {'span': 'NHS', 'label': 'ORG', 'score': 0.9544548392295837, 'char_start_index': 50, 'char_end_index': 53}, {'span': 'Salisbury Road Surgery', 'label': 'LOC', 'score': 0.849181592464447, 'char_start_index': 161, 'char_end_index': 183}, {'span': 'Acetaminophen', 'label': 'MISC', 'score': 0.956272542476654, 'char_start_index': 239, 'char_end_index': 252}]\n"
     ]
    }
   ],
   "source": [
    "num = patient_nums[8]\n",
    "print(patient_dict[num][\"text\"])\n",
    "print(patient_dict[num][\"entities\"])"
   ]
  },
  {
   "cell_type": "markdown",
   "metadata": {},
   "source": []
  },
  {
   "cell_type": "markdown",
   "metadata": {},
   "source": [
    "## With spacy integration"
   ]
  },
  {
   "cell_type": "code",
   "execution_count": 11,
   "metadata": {},
   "outputs": [
    {
     "name": "stdout",
     "output_type": "stream",
     "text": [
      "[(Brandon McLaughlin, 'PERSON'), (13-year-old, 'DATE'), (Chinese, 'NORP'), (NHS, 'ORG'), (568 968 0803, 'CARDINAL'), (1963-12-07, 'DATE'), (Bitterne Surgery, 'ORG'), (1976-06-03, 'DATE')]\n"
     ]
    }
   ],
   "source": [
    "import spacy\n",
    "\n",
    "# Load the spaCy model with the span_marker pipeline component\n",
    "nlp = spacy.load(\"en_core_web_lg\", exclude=[\"ner\"])\n",
    "nlp.add_pipe(\"span_marker\", config={\"model\": \"tomaarsen/span-marker-roberta-large-ontonotes5\"})\n",
    "\n",
    "# Feed some text through the model to get a spacy Doc\n",
    "doc = nlp(data[0])\n",
    "\n",
    "# And look at the entities\n",
    "print([(entity, entity.label_) for entity in doc.ents])"
   ]
  },
  {
   "cell_type": "code",
   "execution_count": 18,
   "metadata": {},
   "outputs": [
    {
     "data": {
      "text/plain": [
       "'\\n\\nMr. Brandon McLaughlin is a 13-year-old male of Chinese ethnicity with an NHS number of 568 968 0803 and a date of birth of 1963-12-07. He is single and is visiting Bitterne Surgery on 1976-06-03, with a diagnosis of acute bronchitis. His care plan includes respiratory therapy.'"
      ]
     },
     "execution_count": 18,
     "metadata": {},
     "output_type": "execute_result"
    }
   ],
   "source": [
    "data[0]"
   ]
  },
  {
   "cell_type": "code",
   "execution_count": 19,
   "metadata": {},
   "outputs": [
    {
     "name": "stderr",
     "output_type": "stream",
     "text": [
      "/Users/scarlettkynoch/miniconda3/envs/privacyfp/lib/python3.8/site-packages/spacy_transformers/layers/hf_shim.py:137: UserWarning: Error loading saved torch state_dict with strict=True, likely due to differences between 'transformers' versions. Attempting to load with strict=False as a fallback...\n",
      "\n",
      "If you see errors or degraded performance, download a newer compatible model or retrain your custom model with the current 'transformers' and 'spacy-transformers' versions. For more details and available updates, run: python -m spacy validate\n",
      "  warnings.warn(warn_msg)\n",
      "/Users/scarlettkynoch/miniconda3/envs/privacyfp/lib/python3.8/site-packages/torch/amp/autocast_mode.py:250: UserWarning: User provided device_type of 'cuda', but CUDA is not available. Disabling\n",
      "  warnings.warn(\n"
     ]
    },
    {
     "name": "stdout",
     "output_type": "stream",
     "text": [
      "[(Brandon McLaughlin, 'PERSON'), (13-year-old, 'DATE'), (Chinese, 'NORP'), (NHS, 'ORG'), (568 968 0803, 'CARDINAL'), (1963-12-07, 'DATE'), (Bitterne Surgery, 'ORG'), (1976-06-03, 'DATE')]\n"
     ]
    }
   ],
   "source": [
    "import spacy\n",
    "# spacy.cli.download('en_ner_bc5cdr_md')\n",
    "# nlp = spacy.load(\"en_core_sci_scibert\")\n",
    "\n",
    "# Load the spaCy model with the span_marker pipeline component\n",
    "nlp = spacy.load(\"en_core_sci_scibert\", exclude=[\"ner\"])\n",
    "nlp.add_pipe(\"span_marker\", config={\"model\": \"tomaarsen/span-marker-roberta-large-ontonotes5\"})\n",
    "\n",
    "# Feed some text through the model to get a spacy Doc\n",
    "doc = nlp(data[0])\n",
    "\n",
    "# And look at the entities\n",
    "print([(entity, entity.label_) for entity in doc.ents])"
   ]
  }
 ],
 "metadata": {
  "kernelspec": {
   "display_name": "privacyfp",
   "language": "python",
   "name": "python3"
  },
  "language_info": {
   "codemirror_mode": {
    "name": "ipython",
    "version": 3
   },
   "file_extension": ".py",
   "mimetype": "text/x-python",
   "name": "python",
   "nbconvert_exporter": "python",
   "pygments_lexer": "ipython3",
   "version": "3.8.18"
  }
 },
 "nbformat": 4,
 "nbformat_minor": 2
}
