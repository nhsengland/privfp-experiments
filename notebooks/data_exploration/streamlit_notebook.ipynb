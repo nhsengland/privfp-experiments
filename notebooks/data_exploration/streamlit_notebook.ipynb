{
 "cells": [
  {
   "cell_type": "code",
   "execution_count": null,
   "metadata": {},
   "outputs": [],
   "source": [
    "# pip install streamlit-annotation-tools"
   ]
  },
  {
   "cell_type": "code",
   "execution_count": 3,
   "metadata": {},
   "outputs": [
    {
     "name": "stdout",
     "output_type": "stream",
     "text": [
      "\u001b[0m\n",
      "\u001b[34m\u001b[1m  You can now view your Streamlit app in your browser.\u001b[0m\n",
      "\u001b[0m\n",
      "\u001b[34m  Local URL: \u001b[0m\u001b[1mhttp://localhost:8502\u001b[0m\n",
      "\u001b[34m  Network URL: \u001b[0m\u001b[1mhttp://192.168.31.15:8502\u001b[0m\n",
      "\u001b[0m\n",
      "gio: http://localhost:8502: Operation not supported\n",
      "[]\n",
      "{'hell': []}\n",
      "{'hell': [{'start': 26, 'end': 33, 'label': 'Wallace'}]}\n",
      "{'hell': [{'start': 26, 'end': 33, 'label': 'Wallace'}]}\n",
      "{'hell': [{'start': 26, 'end': 33, 'label': 'Wallace'}, {'start': 259, 'end': 263, 'label': '2006'}]}\n",
      "None\n",
      "[]\n",
      "[]\n",
      "None\n",
      "{'hell': [{'start': 26, 'end': 33, 'label': 'Wallace'}, {'start': 259, 'end': 263, 'label': '2006'}]}\n",
      "{'hell': [{'start': 26, 'end': 33, 'label': 'Wallace'}, {'start': 259, 'end': 263, 'label': '2006'}]}\n",
      "{'hell': [{'start': 26, 'end': 33, 'label': 'Wallace'}, {'start': 259, 'end': 263, 'label': '2006'}]}\n",
      "{'hell': [{'start': 26, 'end': 33, 'label': 'Wallace'}, {'start': 259, 'end': 263, 'label': '2006'}]}\n",
      "{'hell': [{'start': 26, 'end': 33, 'label': 'Wallace'}, {'start': 259, 'end': 263, 'label': '2006'}]}\n",
      "None\n",
      "[]\n",
      "[]\n",
      "None\n",
      "[]\n",
      "[]\n",
      "{'hello': []}\n",
      "{'hello': [{'start': 24, 'end': 40, 'label': 'Harris Fadel\\nNHS'}]}\n",
      "{'hello': [{'start': 24, 'end': 40, 'label': 'Harris Fadel\\nNHS'}]}\n",
      "None\n",
      "[]\n",
      "[]\n",
      "None\n",
      "[]\n",
      "[]\n",
      "None\n",
      "{'hello': [{'start': 24, 'end': 40, 'label': 'Harris Fadel\\nNHS'}]}\n",
      "{'hello': [{'start': 24, 'end': 40, 'label': 'Harris Fadel\\nNHS'}]}\n",
      "{'hello': [{'start': 24, 'end': 40, 'label': 'Harris Fadel\\nNHS'}]}\n",
      "{'hello': [{'start': 24, 'end': 40, 'label': 'Harris Fadel\\nNHS'}]}\n",
      "None\n",
      "[]\n",
      "[]\n",
      "None\n",
      "{'hello': [{'start': 24, 'end': 40, 'label': 'Harris Fadel\\nNHS'}]}{'hello': [{'start': 24, 'end': 40, 'label': 'Harris Fadel\\nNHS'}]}\n",
      "\n",
      "{'hello': [{'start': 24, 'end': 40, 'label': 'Harris Fadel\\nNHS'}]}{'hello': [{'start': 24, 'end': 40, 'label': 'Harris Fadel\\nNHS'}]}\n",
      "\n",
      "{'hello': [{'start': 24, 'end': 40, 'label': 'Harris Fadel\\nNHS'}]}\n",
      "None\n",
      "[]\n",
      "[]\n",
      "None\n",
      "[]\n",
      "[]\n",
      "None\n",
      "[]\n",
      "[]\n",
      "None\n",
      "{'hello': [{'start': 24, 'end': 40, 'label': 'Harris Fadel\\nNHS'}]}\n",
      "{'hello': [{'start': 24, 'end': 40, 'label': 'Harris Fadel\\nNHS'}]}\n",
      "{'hello': [{'start': 24, 'end': 40, 'label': 'Harris Fadel\\nNHS'}]}\n",
      "{'hello': [{'start': 24, 'end': 40, 'label': 'Harris Fadel\\nNHS'}]}\n",
      "{'hello': [{'start': 24, 'end': 40, 'label': 'Harris Fadel\\nNHS'}]}\n",
      "None\n",
      "[]\n",
      "[]\n",
      "None\n",
      "[]\n",
      "[]\n",
      "None\n",
      "[]\n",
      "[]\n",
      "None\n",
      "[]\n",
      "[]\n",
      "{'name': []}\n",
      "{'name': [{'start': 24, 'end': 40, 'label': 'Harris Fadel\\nNHS'}]}\n",
      "{'name': [{'start': 24, 'end': 40, 'label': 'Harris Fadel\\nNHS'}]}\n",
      "None\n",
      "[]\n",
      "[]\n",
      "None\n",
      "{'name': [{'start': 24, 'end': 40, 'label': 'Harris Fadel\\nNHS'}]}{'name': [{'start': 24, 'end': 40, 'label': 'Harris Fadel\\nNHS'}]}{'name': [{'start': 24, 'end': 40, 'label': 'Harris Fadel\\nNHS'}]}\n",
      "\n",
      "{'name': [{'start': 24, 'end': 40, 'label': 'Harris Fadel\\nNHS'}]}\n",
      "\n"
     ]
    }
   ],
   "source": [
    "!streamlit run annotate.py"
   ]
  },
  {
   "cell_type": "code",
   "execution_count": null,
   "metadata": {},
   "outputs": [
    {
     "ename": "RuntimeError",
     "evalue": "Runtime hasn't been created!",
     "output_type": "error",
     "traceback": [
      "\u001b[0;31m---------------------------------------------------------------------------\u001b[0m",
      "\u001b[0;31mRuntimeError\u001b[0m                              Traceback (most recent call last)",
      "Cell \u001b[0;32mIn[4], line 1\u001b[0m\n\u001b[0;32m----> 1\u001b[0m \u001b[38;5;28;01mfrom\u001b[39;00m \u001b[38;5;21;01mannotate\u001b[39;00m \u001b[38;5;28;01mimport\u001b[39;00m labels\n",
      "File \u001b[0;32m/mnt/c/Users/Will Poulett/Documents/PrivFingerprint/privfp-experiments/notebooks/data_exploration/annotate.py:1\u001b[0m\n\u001b[0;32m----> 1\u001b[0m \u001b[38;5;28;01mfrom\u001b[39;00m \u001b[38;5;21;01mstreamlit_annotation_tools\u001b[39;00m \u001b[38;5;28;01mimport\u001b[39;00m text_labeler\n\u001b[1;32m      3\u001b[0m text \u001b[38;5;241m=\u001b[39m \u001b[38;5;124m\"\u001b[39m\u001b[38;5;124mYesterday, at 3 PM, Emily Johnson and Michael Smith met at the Central Park in New York to discuss the merger between TechCorp and Global Solutions. The deal, worth approximately 500 million dollars, is expected to significantly impact the tech industry. Later, at 6 PM, they joined a conference call with the CEO of TechCorp, David Brown, who was in London for a technology summit. During the call, they discussed the market trends in Asia and Europe and planned for the next quarterly meeting, which is scheduled for January 15th, 2024, in Paris.\u001b[39m\u001b[38;5;124m\"\u001b[39m\n\u001b[1;32m      5\u001b[0m labels \u001b[38;5;241m=\u001b[39m text_labeler(text)\n",
      "File \u001b[0;32m/mnt/c/Users/Will Poulett/Documents/PrivFingerprint/privfp-experiments/.venv/lib/python3.11/site-packages/streamlit_annotation_tools/__init__.py:14\u001b[0m\n\u001b[1;32m     12\u001b[0m     parent_dir \u001b[38;5;241m=\u001b[39m os\u001b[38;5;241m.\u001b[39mpath\u001b[38;5;241m.\u001b[39mdirname(os\u001b[38;5;241m.\u001b[39mpath\u001b[38;5;241m.\u001b[39mabspath(\u001b[38;5;18m__file__\u001b[39m))\n\u001b[1;32m     13\u001b[0m     build_dir \u001b[38;5;241m=\u001b[39m os\u001b[38;5;241m.\u001b[39mpath\u001b[38;5;241m.\u001b[39mjoin(parent_dir, \u001b[38;5;124m\"\u001b[39m\u001b[38;5;124mfrontend/build\u001b[39m\u001b[38;5;124m\"\u001b[39m)\n\u001b[0;32m---> 14\u001b[0m     _component \u001b[38;5;241m=\u001b[39m \u001b[43mcomponents\u001b[49m\u001b[38;5;241;43m.\u001b[39;49m\u001b[43mdeclare_component\u001b[49m\u001b[43m(\u001b[49m\u001b[38;5;124;43m\"\u001b[39;49m\u001b[38;5;124;43mannotation_tools\u001b[39;49m\u001b[38;5;124;43m\"\u001b[39;49m\u001b[43m,\u001b[49m\u001b[43m \u001b[49m\u001b[43mpath\u001b[49m\u001b[38;5;241;43m=\u001b[39;49m\u001b[43mbuild_dir\u001b[49m\u001b[43m)\u001b[49m\n\u001b[1;32m     17\u001b[0m \u001b[38;5;28;01mdef\u001b[39;00m \u001b[38;5;21mtext_highlighter\u001b[39m(text: \u001b[38;5;28mstr\u001b[39m, highlights\u001b[38;5;241m=\u001b[39m[]):\n\u001b[1;32m     18\u001b[0m \u001b[38;5;250m    \u001b[39m\u001b[38;5;124;03m\"\"\"Create a new instance of \"text_highlighter\".\u001b[39;00m\n\u001b[1;32m     19\u001b[0m \n\u001b[1;32m     20\u001b[0m \u001b[38;5;124;03m    Parameters\u001b[39;00m\n\u001b[0;32m   (...)\u001b[0m\n\u001b[1;32m     73\u001b[0m \u001b[38;5;124;03m        ]\u001b[39;00m\n\u001b[1;32m     74\u001b[0m \u001b[38;5;124;03m    \"\"\"\u001b[39;00m\n",
      "File \u001b[0;32m/mnt/c/Users/Will Poulett/Documents/PrivFingerprint/privfp-experiments/.venv/lib/python3.11/site-packages/streamlit/components/v1/component_registry.py:87\u001b[0m, in \u001b[0;36mdeclare_component\u001b[0;34m(name, path, url)\u001b[0m\n\u001b[1;32m     83\u001b[0m \u001b[38;5;66;03m# Create our component object, and register it.\u001b[39;00m\n\u001b[1;32m     84\u001b[0m component \u001b[38;5;241m=\u001b[39m CustomComponent(\n\u001b[1;32m     85\u001b[0m     name\u001b[38;5;241m=\u001b[39mcomponent_name, path\u001b[38;5;241m=\u001b[39mpath, url\u001b[38;5;241m=\u001b[39murl, module_name\u001b[38;5;241m=\u001b[39mmodule_name\n\u001b[1;32m     86\u001b[0m )\n\u001b[0;32m---> 87\u001b[0m \u001b[43mget_instance\u001b[49m\u001b[43m(\u001b[49m\u001b[43m)\u001b[49m\u001b[38;5;241m.\u001b[39mcomponent_registry\u001b[38;5;241m.\u001b[39mregister_component(component)\n\u001b[1;32m     89\u001b[0m \u001b[38;5;28;01mreturn\u001b[39;00m component\n",
      "File \u001b[0;32m/mnt/c/Users/Will Poulett/Documents/PrivFingerprint/privfp-experiments/.venv/lib/python3.11/site-packages/streamlit/runtime/__init__.py:28\u001b[0m, in \u001b[0;36mget_instance\u001b[0;34m()\u001b[0m\n\u001b[1;32m     24\u001b[0m \u001b[38;5;28;01mdef\u001b[39;00m \u001b[38;5;21mget_instance\u001b[39m() \u001b[38;5;241m-\u001b[39m\u001b[38;5;241m>\u001b[39m Runtime:\n\u001b[1;32m     25\u001b[0m \u001b[38;5;250m    \u001b[39m\u001b[38;5;124;03m\"\"\"Return the singleton Runtime instance. Raise an Error if the\u001b[39;00m\n\u001b[1;32m     26\u001b[0m \u001b[38;5;124;03m    Runtime hasn't been created yet.\u001b[39;00m\n\u001b[1;32m     27\u001b[0m \u001b[38;5;124;03m    \"\"\"\u001b[39;00m\n\u001b[0;32m---> 28\u001b[0m     \u001b[38;5;28;01mreturn\u001b[39;00m \u001b[43mRuntime\u001b[49m\u001b[38;5;241;43m.\u001b[39;49m\u001b[43minstance\u001b[49m\u001b[43m(\u001b[49m\u001b[43m)\u001b[49m\n",
      "File \u001b[0;32m/mnt/c/Users/Will Poulett/Documents/PrivFingerprint/privfp-experiments/.venv/lib/python3.11/site-packages/streamlit/runtime/runtime.py:163\u001b[0m, in \u001b[0;36mRuntime.instance\u001b[0;34m(cls)\u001b[0m\n\u001b[1;32m    159\u001b[0m \u001b[38;5;250m\u001b[39m\u001b[38;5;124;03m\"\"\"Return the singleton Runtime instance. Raise an Error if the\u001b[39;00m\n\u001b[1;32m    160\u001b[0m \u001b[38;5;124;03mRuntime hasn't been created yet.\u001b[39;00m\n\u001b[1;32m    161\u001b[0m \u001b[38;5;124;03m\"\"\"\u001b[39;00m\n\u001b[1;32m    162\u001b[0m \u001b[38;5;28;01mif\u001b[39;00m \u001b[38;5;28mcls\u001b[39m\u001b[38;5;241m.\u001b[39m_instance \u001b[38;5;129;01mis\u001b[39;00m \u001b[38;5;28;01mNone\u001b[39;00m:\n\u001b[0;32m--> 163\u001b[0m     \u001b[38;5;28;01mraise\u001b[39;00m \u001b[38;5;167;01mRuntimeError\u001b[39;00m(\u001b[38;5;124m\"\u001b[39m\u001b[38;5;124mRuntime hasn\u001b[39m\u001b[38;5;124m'\u001b[39m\u001b[38;5;124mt been created!\u001b[39m\u001b[38;5;124m\"\u001b[39m)\n\u001b[1;32m    164\u001b[0m \u001b[38;5;28;01mreturn\u001b[39;00m \u001b[38;5;28mcls\u001b[39m\u001b[38;5;241m.\u001b[39m_instance\n",
      "\u001b[0;31mRuntimeError\u001b[0m: Runtime hasn't been created!"
     ]
    }
   ],
   "source": [
    "from annotate import labels"
   ]
  },
  {
   "cell_type": "code",
   "execution_count": 1,
   "metadata": {},
   "outputs": [
    {
     "ename": "NameError",
     "evalue": "name 'labels' is not defined",
     "output_type": "error",
     "traceback": [
      "\u001b[0;31m---------------------------------------------------------------------------\u001b[0m",
      "\u001b[0;31mNameError\u001b[0m                                 Traceback (most recent call last)",
      "Cell \u001b[0;32mIn[1], line 1\u001b[0m\n\u001b[0;32m----> 1\u001b[0m \u001b[43mlabels\u001b[49m\n",
      "\u001b[0;31mNameError\u001b[0m: name 'labels' is not defined"
     ]
    }
   ],
   "source": [
    "labels"
   ]
  }
 ],
 "metadata": {
  "kernelspec": {
   "display_name": ".venv",
   "language": "python",
   "name": "python3"
  },
  "language_info": {
   "codemirror_mode": {
    "name": "ipython",
    "version": 3
   },
   "file_extension": ".py",
   "mimetype": "text/x-python",
   "name": "python",
   "nbconvert_exporter": "python",
   "pygments_lexer": "ipython3",
   "version": "3.11.0rc1"
  }
 },
 "nbformat": 4,
 "nbformat_minor": 2
}
