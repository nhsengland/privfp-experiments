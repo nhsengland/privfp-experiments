{
 "cells": [
  {
   "cell_type": "code",
   "execution_count": null,
   "metadata": {},
   "outputs": [],
   "source": [
    "# pip install streamlit-annotation-tools"
   ]
  },
  {
   "cell_type": "code",
   "execution_count": 1,
   "metadata": {},
   "outputs": [
    {
     "name": "stdout",
     "output_type": "stream",
     "text": [
      "\u001b[0m\n",
      "\u001b[34m\u001b[1m  You can now view your Streamlit app in your browser.\u001b[0m\n",
      "\u001b[0m\n",
      "\u001b[34m  Local URL: \u001b[0m\u001b[1mhttp://localhost:8501\u001b[0m\n",
      "\u001b[34m  Network URL: \u001b[0m\u001b[1mhttp://192.168.31.15:8501\u001b[0m\n",
      "\u001b[0m\n",
      "gio: http://localhost:8501: Operation not supported\n",
      "/mnt/c/Users/Will Poulett/Documents/PrivFingerprint/privfp-experiments/.venv/lib/python3.11/site-packages/transformers/convert_slow_tokenizer.py:560: UserWarning: The sentencepiece tokenizer that you are converting to a fast tokenizer uses the byte fallback option which is not implemented in the fast tokenizers. In practice this means that the fast version of the tokenizer can produce unknown tokens whereas the sentencepiece version would have converted these unknown tokens into a sequence of byte tokens matching the original piece of text.\n",
      "  warnings.warn(\n",
      "Extraction Done\n",
      "2024-06-04 09:08:15.754 Please replace `st.experimental_rerun` with `st.rerun`.\n",
      "\n",
      "`st.experimental_rerun` will be removed after 2024-04-01.\n",
      "Extraction Done\n",
      "2024-06-04 09:09:33.971 Please replace `st.experimental_rerun` with `st.rerun`.\n",
      "\n",
      "`st.experimental_rerun` will be removed after 2024-04-01.\n",
      "Extraction Done\n",
      "2024-06-04 09:09:46.902 Please replace `st.experimental_rerun` with `st.rerun`.\n",
      "\n",
      "`st.experimental_rerun` will be removed after 2024-04-01.\n",
      "Extraction Done\n",
      "2024-06-04 09:10:29.538 Please replace `st.experimental_rerun` with `st.rerun`.\n",
      "\n",
      "`st.experimental_rerun` will be removed after 2024-04-01.\n",
      "^C\n",
      "\u001b[34m  Stopping...\u001b[0m\n"
     ]
    }
   ],
   "source": [
    "!streamlit run annotate.py"
   ]
  }
 ],
 "metadata": {
  "kernelspec": {
   "display_name": ".venv",
   "language": "python",
   "name": "python3"
  },
  "language_info": {
   "codemirror_mode": {
    "name": "ipython",
    "version": 3
   },
   "file_extension": ".py",
   "mimetype": "text/x-python",
   "name": "python",
   "nbconvert_exporter": "python",
   "pygments_lexer": "ipython3",
   "version": "3.11.0rc1"
  }
 },
 "nbformat": 4,
 "nbformat_minor": 2
}
