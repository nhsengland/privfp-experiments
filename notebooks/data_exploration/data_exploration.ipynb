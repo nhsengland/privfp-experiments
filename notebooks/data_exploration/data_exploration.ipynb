{
 "cells": [
  {
   "cell_type": "code",
   "execution_count": 1,
   "metadata": {},
   "outputs": [],
   "source": [
    "import os\n",
    "import sys\n",
    "\n",
    "path_root = os.path.dirname(os.getcwd())\n",
    "\n",
    "if path_root not in sys.path:\n",
    "    sys.path.append(path_root)"
   ]
  },
  {
   "cell_type": "code",
   "execution_count": 2,
   "metadata": {},
   "outputs": [],
   "source": [
    "from src.config import (\n",
    "    path_output_synthea,\n",
    "    path_output_llm,\n",
    "    path_output_extraction,\n",
    "    path_output_standardisation,\n",
    ")\n",
    "from src.generate.synthea import GenerateSynthea\n",
    "from src.generate.llm import GenerateLLM\n",
    "from src.extraction.extraction import Extraction\n",
    "from src.standardise_extraction.standardise_extraction import (\n",
    "    StandardiseExtraction,\n",
    ")\n",
    "from src.privacy_risk_scorer.privacy_risk_scorer import PrivacyRiskScorer\n",
    "from src.privacy_risk_explainer.privacy_risk_explainer import (\n",
    "    PrivacyRiskExplainer,\n",
    ")"
   ]
  },
  {
   "cell_type": "code",
   "execution_count": 3,
   "metadata": {},
   "outputs": [],
   "source": [
    "import spacy\n",
    "from spacy import displacy\n",
    "import ipywidgets as widgets\n",
    "from IPython.display import display, HTML"
   ]
  },
  {
   "cell_type": "code",
   "execution_count": 4,
   "metadata": {},
   "outputs": [],
   "source": [
    "fake_data = [\n",
    "    \"Clinical Note:\\nPatient: Harris Fadel\\nNHS Number: 5927778917\\nDate of Birth: August 8, 2005\\n\\nPresentation: Acute bronchitis (disorder)\\n\\nSymptoms:\\n\\n* Cough\\n* Chest tightness\\n* Shortness of breath\\n\\nMedical History:\\n\\n* Recent respiratory infection\\n\\nReview of Systems:\\n\\n* No reported fever or chills\\n* No cough productive of yellow or green mucus\\n\\nPlan:\\n\\n* Prescribe antibiotics for 7-10 days\\n* Instruct patient to rest and avoid strenuous activities\\n* Monitor patient's condition closely and adjust plan as needed.\",\n",
    "    \"Clinical Note for Patient Wallace Tremblay:\\n\\n Patient with lime green curly hair presents with acute bronchitis, as confirmed by clinical evaluation and laboratory results. The patient is a 13-year-old male with a NHS number of 5693788113, born on June 13th, 2006. Symptoms include cough, chest tightness, and fever. Treatment plan includes antibiotics and bronchodilators as needed, as well as instructions for self-care and rest. Further evaluation and monitoring are necessary to ensure proper management of this condition.\",\n",
    "    'Certainly! Here is an example clinical note for Shayna VonRueden based on the provided information:\\n\\n\"Patient presents with viral sinusitis. Date of birth: 11/28/2015. NHS number: 0939087782. Given name: Shayna. Family name: VonRueden. Diagnosis: Viral sinusitis (disorder).\"\\n\\nI hope this meets your requirements! Let me know if you have any further questions.',\n",
    "    \"Clinical Note:\\nPatient Name: Ramon Kohler\\nNHS Number: 0169779904\\nDate of Birth: May 9, 1973\\n\\nPresenting Complaint: Chronic pain in the left shoulder and arm, affecting daily activities.\\n\\nHistory of Present Illness: The patient experienced a fall two months ago resulting in a dislocation of the left shoulder. Since then, the patient has been experiencing persistent pain in the left shoulder and arm, which has worsened despite initial treatment with analgesics.\\n\\nReview of Systems: The patient reports difficulty sleeping due to pain and experiences numbness and tingling in the left arm. There is no history of trauma or injury to the left shoulder or arm.\\n\\nPlan: Further evaluation and imaging studies are necessary to determine the cause of chronic pain. In the meantime, the patient will be referred to physical therapy for non-invasive treatment options.\",\n",
    "    \"Clinical Note:\\n\\nPatient Name: Tyesha Dach\\nNHS Number: 3494867836\\nDate of Birth: September 24, 1970\\n\\nDiagnosis: Childhood asthma\\n\\nChief Complaint: Wheezing and shortness of breath for the past week.\\n\\nHistory of Present Illness: The patient is a 5-year-old girl who presented to the clinic with a 2-day history of wheezing and shortness of breath. She was seen in the emergency room earlier in the week for similar symptoms, where she was diagnosed with asthma and prescribed an inhaler. However, her symptoms persisted, leading her parents to seek further evaluation.\\n\\nSystems Examination: The patient's breath sounds are adventitious, with a high-pitched wheezing sound on expiration. Her chest is slightly expanded, and there is minimal tactile fremitus. The patient's oxygen saturation is 90% on room air.\\n\\nRecommendations:\\n\\n* Continue prescribed inhaler therapy\\n* Monitor symptoms closely and adjust medication as needed\\n* Educate parents on proper use of inhaler and management of asthma symptoms\",\n",
    "    \"Clinical Note:\\nMr. Austin Morar, a 59-year-old male patient, presents to the clinic today with a 3-day history of cough and fever. He reports difficulty breathing and chest tightness. His NHS number is 7723641893 and he was born on April 7th, 1963. Based on his symptoms and medical history, I diagnose him with acute bronchitis. Further assessment and testing may be necessary to rule out any underlying conditions.\",\n",
    "    \"Clinical Note:\\nMs. Allison King, a 53-year-old woman, presented to the clinic for her scheduled prenatal appointment at 20 weeks gestation. She is in normal health and has no significant medical history. Her NHS number is 9877791390, she was born on April 6th, 1967, and her diagnosis is normal pregnancy.\",\n",
    "    \"Clinical Note:\\nPatient Name: Juanita Okuneva\\nNHS Number: 5870122848\\nDate of Birth: January 22, 1951\\n\\nChief Complaint: Acute bronchitis (disorder)\\n\\nHistory of Present Illness: Patient Juanita Okuneva, a 71-year-old female, presents with cough and fever for the past week. She reports difficulty breathing and chest tightness. No recent travel or exposure to sick individuals.\\n\\nAssessment: Based on patient's symptoms and medical history, acute bronchitis is a likely diagnosis. Further evaluation and diagnostic tests will be conducted to rule out other potential causes of respiratory distress.\",\n",
    "    \"Clinical Note for Valda Morissette:\\n\\nMs. Morissette presents today with persistent perennial allergic rhinitis, characterized by nasal congestion, sneezing, and itchy eyes. She reports worsening symptoms throughout the spring and summer months, consistent with her seasonal allergy triggers. Her NHS number is 6393976098 and she was born on February 2nd, 1962.\",\n",
    "    \"Clinical Note:\\nMr. John Bosco, a 65-year-old male patient, was admitted to the hospital on March 18th with acute bronchitis. His NHS number is 1954287143 and he was born on March 16th, 1953. His diagnosis is acute bronchitis (disorder).\",\n",
    "]"
   ]
  },
  {
   "cell_type": "code",
   "execution_count": 5,
   "metadata": {},
   "outputs": [
    {
     "name": "stderr",
     "output_type": "stream",
     "text": [
      "/mnt/c/Users/Will Poulett/Documents/PrivFingerprint/privfp-experiments/.venv/lib/python3.11/site-packages/transformers/convert_slow_tokenizer.py:560: UserWarning: The sentencepiece tokenizer that you are converting to a fast tokenizer uses the byte fallback option which is not implemented in the fast tokenizers. In practice this means that the fast version of the tokenizer can produce unknown tokens whereas the sentencepiece version would have converted these unknown tokens into a sequence of byte tokens matching the original piece of text.\n",
      "  warnings.warn(\n"
     ]
    }
   ],
   "source": [
    "# The standard list of entities is here\n",
    "ent_list = [\"person\", \"nhs number\", \"date of birth\", \"diagnosis\"]\n",
    "\n",
    "output_extraction = Extraction(\n",
    "    llm_input=fake_data,\n",
    "    path_output=path_output_extraction,\n",
    "    save_output=True,\n",
    "    ent_list=ent_list,\n",
    ").run(server_model_type=\"gliner\")"
   ]
  },
  {
   "cell_type": "code",
   "execution_count": 10,
   "metadata": {},
   "outputs": [
    {
     "data": {
      "application/vnd.jupyter.widget-view+json": {
       "model_id": "31b066084ee544908d2abff7e34abab2",
       "version_major": 2,
       "version_minor": 0
      },
      "text/plain": [
       "Output()"
      ]
     },
     "metadata": {},
     "output_type": "display_data"
    },
    {
     "data": {
      "application/vnd.jupyter.widget-view+json": {
       "model_id": "bd761f34541745558dd3dd93118f77ff",
       "version_major": 2,
       "version_minor": 0
      },
      "text/plain": [
       "Button(description='Next Note', style=ButtonStyle())"
      ]
     },
     "metadata": {},
     "output_type": "display_data"
    },
    {
     "data": {
      "application/vnd.jupyter.widget-view+json": {
       "model_id": "a913bf627ee74deda347f12fb6b6cdda",
       "version_major": 2,
       "version_minor": 0
      },
      "text/plain": [
       "HBox(children=(Text(value='', placeholder='New Entity type: (e.g. hair colour)'), Button(description='Add Enti…"
      ]
     },
     "metadata": {},
     "output_type": "display_data"
    }
   ],
   "source": [
    "entity_dicts = []\n",
    "current_index = 1\n",
    "\n",
    "for i in range(len(output_extraction)):\n",
    "    entity_dicts.append(\n",
    "        {\n",
    "            \"text\": fake_data[i],\n",
    "            \"ents\": output_extraction[i][\"Entities\"],\n",
    "        }\n",
    "    )\n",
    "\n",
    "# Define initial widgets\n",
    "button = widgets.Button(description=\"Next Note\")\n",
    "output = widgets.Output()\n",
    "note_input = widgets.Text(placeholder=\"New Entity type: (e.g. hair colour)\")\n",
    "submit_button = widgets.Button(description=\"Add Entity\")\n",
    "notes_output = widgets.Output()\n",
    "\n",
    "\n",
    "# Define a function to update and display the displaCy visualization\n",
    "def update_visualization(dic):\n",
    "    with output:\n",
    "        output.clear_output()\n",
    "        html = displacy.render(dic, manual=True, style=\"ent\")\n",
    "        display(HTML(html))\n",
    "\n",
    "\n",
    "# Define a function to handle button click\n",
    "def on_button_click(change):\n",
    "    global current_index\n",
    "    dic = entity_dicts[current_index]\n",
    "    update_visualization(dic)\n",
    "    current_index = (current_index + 1) % len(dic)\n",
    "\n",
    "\n",
    "# Define a function to handle button click for submitting note\n",
    "def on_submit_button_click(change):\n",
    "    note_text = note_input.value.strip()\n",
    "    if note_text:\n",
    "        ent_list.append(note_text)\n",
    "        update_notes_output()\n",
    "\n",
    "\n",
    "# Define a function to update notes output\n",
    "def update_notes_output():\n",
    "    with notes_output:\n",
    "        notes_output.clear_output()\n",
    "\n",
    "\n",
    "# Attach the button click event handler\n",
    "button.on_click(on_button_click)\n",
    "submit_button.on_click(on_submit_button_click)\n",
    "\n",
    "input_box = widgets.HBox([note_input, submit_button])\n",
    "# Display the initial button and output area\n",
    "\n",
    "display(output)\n",
    "display(button)\n",
    "display(input_box)\n",
    "\n",
    "update_visualization(entity_dicts[0])"
   ]
  },
  {
   "cell_type": "code",
   "execution_count": 7,
   "metadata": {},
   "outputs": [
    {
     "data": {
      "text/plain": [
       "['person', 'nhs number', 'date of birth', 'diagnosis', 'hair colour']"
      ]
     },
     "execution_count": 7,
     "metadata": {},
     "output_type": "execute_result"
    }
   ],
   "source": [
    "ent_list"
   ]
  },
  {
   "cell_type": "code",
   "execution_count": 8,
   "metadata": {},
   "outputs": [],
   "source": [
    "output_extraction = Extraction(\n",
    "    llm_input=fake_data,\n",
    "    path_output=path_output_extraction,\n",
    "    save_output=True,\n",
    "    ent_list=ent_list,\n",
    ").run(server_model_type=\"gliner\")"
   ]
  },
  {
   "cell_type": "code",
   "execution_count": 9,
   "metadata": {},
   "outputs": [
    {
     "data": {
      "application/vnd.jupyter.widget-view+json": {
       "model_id": "352b963f372340b391ed495d2b86cf22",
       "version_major": 2,
       "version_minor": 0
      },
      "text/plain": [
       "Output()"
      ]
     },
     "metadata": {},
     "output_type": "display_data"
    },
    {
     "data": {
      "application/vnd.jupyter.widget-view+json": {
       "model_id": "ac948013c46a4565b8cbe852ab1da0a8",
       "version_major": 2,
       "version_minor": 0
      },
      "text/plain": [
       "Button(description='Next Note', style=ButtonStyle())"
      ]
     },
     "metadata": {},
     "output_type": "display_data"
    },
    {
     "data": {
      "application/vnd.jupyter.widget-view+json": {
       "model_id": "657ebe2a9dc44911b4d669277c34016a",
       "version_major": 2,
       "version_minor": 0
      },
      "text/plain": [
       "HBox(children=(Text(value='', placeholder='New Entity type: (e.g. hair colour)'), Button(description='Add Enti…"
      ]
     },
     "metadata": {},
     "output_type": "display_data"
    }
   ],
   "source": [
    "entity_dicts = []\n",
    "current_index = 1\n",
    "\n",
    "for i in range(len(output_extraction)):\n",
    "    entity_dicts.append(\n",
    "        {\n",
    "            \"text\": fake_data[i],\n",
    "            \"ents\": output_extraction[i][\"Entities\"],\n",
    "        }\n",
    "    )\n",
    "\n",
    "# Define initial widgets\n",
    "button = widgets.Button(description=\"Next Note\")\n",
    "output = widgets.Output()\n",
    "note_input = widgets.Text(placeholder=\"New Entity type: (e.g. hair colour)\")\n",
    "submit_button = widgets.Button(description=\"Add Entity\")\n",
    "notes_output = widgets.Output()\n",
    "\n",
    "# Attach the button click event handler\n",
    "button.on_click(on_button_click)\n",
    "submit_button.on_click(on_submit_button_click)\n",
    "\n",
    "input_box = widgets.HBox([note_input, submit_button])\n",
    "# Display the initial button and output area\n",
    "\n",
    "display(output)\n",
    "display(button)\n",
    "display(input_box)\n",
    "\n",
    "update_visualization(entity_dicts[0])"
   ]
  },
  {
   "cell_type": "code",
   "execution_count": null,
   "metadata": {},
   "outputs": [],
   "source": []
  }
 ],
 "metadata": {
  "kernelspec": {
   "display_name": ".venv",
   "language": "python",
   "name": "python3"
  },
  "language_info": {
   "codemirror_mode": {
    "name": "ipython",
    "version": 3
   },
   "file_extension": ".py",
   "mimetype": "text/x-python",
   "name": "python",
   "nbconvert_exporter": "python",
   "pygments_lexer": "ipython3",
   "version": "3.11.0"
  }
 },
 "nbformat": 4,
 "nbformat_minor": 2
}
