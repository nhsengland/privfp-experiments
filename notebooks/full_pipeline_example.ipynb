{
 "cells": [
  {
   "cell_type": "code",
   "execution_count": 1,
   "metadata": {},
   "outputs": [],
   "source": [
    "import os\n",
    "import sys\n",
    "\n",
    "path_root = os.path.dirname(os.getcwd())\n",
    "\n",
    "if path_root not in sys.path:\n",
    "    sys.path.append(path_root)"
   ]
  },
  {
   "cell_type": "code",
   "execution_count": 2,
   "metadata": {},
   "outputs": [],
   "source": [
    "import src.generate.synthea as synthea\n",
    "import src.generate.llm as llm"
   ]
  },
  {
   "cell_type": "code",
   "execution_count": 3,
   "metadata": {},
   "outputs": [],
   "source": [
    "output_synthea = synthea.run(\"./run_synthea\", \"-p\", \"1\", \"West Yorkshire\")"
   ]
  },
  {
   "cell_type": "code",
   "execution_count": 4,
   "metadata": {},
   "outputs": [],
   "source": [
    "model = \"llama2\"\n",
    "template = \"\"\"[INST]\n",
    "<<SYS>>\n",
    "You are a medical student answering an exam question about writing clinical notes for patients.\n",
    "<</SYS>>\n",
    "\n",
    "Keep in mind that your answer will be asssessed based on incorporating all the provided information and the quality of prose.\n",
    "\n",
    "1. Use prose to write an example clinical note for this patient's doctor.\n",
    "2. Use less than three sentences.\n",
    "3. Do not provide a diagnosis or recommendations.\n",
    "4. Use the following information:\n",
    "\n",
    "{data}\n",
    "[/INST]\n",
    "\"\"\""
   ]
  },
  {
   "cell_type": "code",
   "execution_count": 8,
   "metadata": {},
   "outputs": [
    {
     "name": "stdout",
     "output_type": "stream",
     "text": [
      "Clinical Note:\n",
      "\n",
      "Patient Name: Adell Casper\n",
      "NHS Number: 9742124426\n",
      "Date of Birth: April 26, 2006\n",
      "\n",
      "Presentation: Acute bronchitis (disorder) with cough and mild fever. No notable past medical history or recent travel.\n",
      "\n",
      "Plan: Observation and close monitoring for the next 7-10 days to assess severity of symptoms. Consideration of antibiotics if symptoms persist or worsen over time."
     ]
    }
   ],
   "source": [
    "output_llm = llm.run(model, template, input=output_synthea)"
   ]
  },
  {
   "cell_type": "code",
   "execution_count": 9,
   "metadata": {},
   "outputs": [
    {
     "name": "stdout",
     "output_type": "stream",
     "text": [
      "Here is an example clinical note for the patient Adell Casper:\n",
      "\n",
      "\"Patient presents with symptoms of acute bronchitis, including cough and chest congestion. Patient's NHS number is 9742124426 and date of birth is April 26th, 2006. Patient's given name is Adell and family name is Casper.\""
     ]
    }
   ],
   "source": [
    "from src.generate.utils import write\n",
    "from src.generate.config import path_output_synthea, path_output_llm\n",
    "\n",
    "write(output_synthea, path_output_synthea)\n",
    "output_llm = llm.run(model, template, load_file=True)\n",
    "write(output_llm, path_output_llm)"
   ]
  }
 ],
 "metadata": {
  "kernelspec": {
   "display_name": ".venv",
   "language": "python",
   "name": "python3"
  },
  "language_info": {
   "codemirror_mode": {
    "name": "ipython",
    "version": 3
   },
   "file_extension": ".py",
   "mimetype": "text/x-python",
   "name": "python",
   "nbconvert_exporter": "python",
   "pygments_lexer": "ipython3",
   "version": "3.11.7"
  }
 },
 "nbformat": 4,
 "nbformat_minor": 2
}
