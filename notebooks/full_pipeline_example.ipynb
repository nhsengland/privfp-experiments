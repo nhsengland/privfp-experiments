{
 "cells": [
  {
   "cell_type": "code",
   "execution_count": 1,
   "metadata": {},
   "outputs": [],
   "source": [
    "import os\n",
    "import sys\n",
    "\n",
    "path_root = os.path.dirname(os.getcwd())\n",
    "\n",
    "if path_root not in sys.path:\n",
    "    sys.path.append(path_root)"
   ]
  },
  {
   "cell_type": "code",
   "execution_count": 2,
   "metadata": {},
   "outputs": [],
   "source": [
    "from src.config import path_output_synthea, path_output_llm, path_output_extraction, path_output_standardisation\n",
    "from src.generate.synthea import GenerateSynthea\n",
    "from src.generate.llm import GenerateLLM\n",
    "from src.extraction.extraction import Extraction\n",
    "from src.standardise_extraction.standardise_extraction import StandardiseExtraction\n",
    "from src.privacy_risk_scorer.privacy_risk_scorer import PrivacyRiskScorer\n",
    "from src.privacy_risk_explainer.privacy_risk_explainer import PrivacyRiskExplainer"
   ]
  },
  {
   "cell_type": "markdown",
   "metadata": {},
   "source": [
    "# Privacy Fingerprint End-to-End Overview\n",
    "\n",
    "The Pipeline has been broken down into four components:\n",
    "1. **GenerateSynthea**: This generates a list of dictionary of synthetic patient records.\n",
    "2. **GenerateLLM**: This generates medical notes using the outputs created from **GenerateSynthea**.\n",
    "3. **Extraction**: This currently uses an LLM that is specialised to extract given entities from the synthetic medical notes produced by **GenerativeLLM**\n",
    "4. **StandardiseExtraction**: This standardises the results extracted from the medical text.\n",
    "\n",
    "Each of these classes takes in a path_output, when save_output is set to True, it will save the output to this path_output defined.\n",
    "These paths have been defined in the src/config.py file:\n",
    "- path_output_synthea = data_folder + \"/synthea.json\"\n",
    "- path_output_llm = data_folder + \"/llm.json\"\n",
    "- path_output_extraction = data_folder + \"/generative.json\"\n",
    "- path_output_standardisation = data_folder + \"/standardisation.json\"\n",
    "\n",
    "Additionally each class will also take a path for the input required to create their output. This allows the user to break-up the pipeline and run from specific points in the pipeline."
   ]
  },
  {
   "cell_type": "markdown",
   "metadata": {},
   "source": [
    "## 1. GenerateSynthea: Generating Synthetic Patient Data using Synthea "
   ]
  },
  {
   "cell_type": "markdown",
   "metadata": {},
   "source": [
    "Synthea-international is an expansion of Synthea, which is an open-source synthetic patient generator that produces de-identified health records for synthetic patients.\n",
    "\n",
    "GenerateSynthea is a class used to run Synthea. You will need to follow the instructions on the README to ensure Synthea is installed.\n",
    "- \"./run_synthea\" is a command line input that calls to run synthea.\n",
    "- \"-p\" is a person flag\n",
    "- \"5\" Where 5 determines the number of patients you want to generate. (Alter this to generate more records.)\n",
    "- \"West Yorkshire\" Synthea only works on a regional basis, therefore you have to give county information so it can generate address type data.\n",
    "\n",
    "In the src/config.py there is some given config values:\n",
    "- path_synthea = \"../../synthea\" - This defines the location of where synthea is from the src folder.\n",
    "- path_csv = path_synthea + \"/output/csv\" - This defines the location where outputs are saved to when synthea is ran.\n",
    "- path_patients = path_csv + \"/patients.csv\" - This is a .csv that holds patients synthetic demographic information etc. \n",
    "- path_encounters = path_csv + \"/encounters.csv\" - This is a .csv that holds encounters, i.e., this holds multiple times a patient has gone for medical assessment/treatment.\n",
    "- cols_patients = [\"Id\", \"BIRTHDATE\", \"FIRST\", \"LAST\"] - This determines the columns we extract from path_patients.\n",
    "- cols_encounters = [\"PATIENT\", \"ENCOUNTERCLASS\", \"REASONDESCRIPTION\"] - This defines the columns we extract from path_encounters."
   ]
  },
  {
   "cell_type": "code",
   "execution_count": null,
   "metadata": {},
   "outputs": [],
   "source": [
    "output_synthea = GenerateSynthea(path_output=path_output_synthea, save_output=True).run(\"./run_synthea\", \"-p\", \"50\", \"West Yorkshire\")\n",
    "output_synthea"
   ]
  },
  {
   "cell_type": "markdown",
   "metadata": {},
   "source": [
    "This loads the model from path"
   ]
  },
  {
   "cell_type": "code",
   "execution_count": 3,
   "metadata": {},
   "outputs": [
    {
     "data": {
      "text/plain": [
       "[{'NHS_NUMBER': '2441173111',\n",
       "  'DATE_OF_BIRTH': '2003-07-15',\n",
       "  'GIVEN_NAME': 'Heike',\n",
       "  'FAMILY_NAME': 'Bernier',\n",
       "  'DIAGNOSIS': 'Viral sinusitis (disorder)'},\n",
       " {'NHS_NUMBER': '6727219400',\n",
       "  'DATE_OF_BIRTH': '2001-02-02',\n",
       "  'GIVEN_NAME': 'Keven',\n",
       "  'FAMILY_NAME': 'Hammes',\n",
       "  'DIAGNOSIS': 'Child attention deficit disorder'},\n",
       " {'NHS_NUMBER': '9311809187',\n",
       "  'DATE_OF_BIRTH': '1998-01-06',\n",
       "  'GIVEN_NAME': 'Kenton',\n",
       "  'FAMILY_NAME': 'Hermann',\n",
       "  'DIAGNOSIS': 'Acute bronchitis (disorder)'},\n",
       " {'NHS_NUMBER': '6744989936',\n",
       "  'DATE_OF_BIRTH': '1972-12-23',\n",
       "  'GIVEN_NAME': 'Darron',\n",
       "  'FAMILY_NAME': 'Farrell',\n",
       "  'DIAGNOSIS': 'Anemia (disorder)'},\n",
       " {'NHS_NUMBER': '1949271404',\n",
       "  'DATE_OF_BIRTH': '1968-09-10',\n",
       "  'GIVEN_NAME': 'Carlo',\n",
       "  'FAMILY_NAME': 'Kuhn',\n",
       "  'DIAGNOSIS': 'Chronic pain'},\n",
       " {'NHS_NUMBER': '4135716814',\n",
       "  'DATE_OF_BIRTH': '1991-01-31',\n",
       "  'GIVEN_NAME': 'Loree',\n",
       "  'FAMILY_NAME': 'Pouros',\n",
       "  'DIAGNOSIS': 'Viral sinusitis (disorder)'},\n",
       " {'NHS_NUMBER': '5771725080',\n",
       "  'DATE_OF_BIRTH': '1991-11-29',\n",
       "  'GIVEN_NAME': 'Olive',\n",
       "  'FAMILY_NAME': 'Rosenbaum',\n",
       "  'DIAGNOSIS': 'Impacted molars'},\n",
       " {'NHS_NUMBER': '8556129943',\n",
       "  'DATE_OF_BIRTH': '2009-12-30',\n",
       "  'GIVEN_NAME': 'Tommy',\n",
       "  'FAMILY_NAME': 'Murray',\n",
       "  'DIAGNOSIS': 'Acute bronchitis (disorder)'},\n",
       " {'NHS_NUMBER': '9217912255',\n",
       "  'DATE_OF_BIRTH': '1956-09-09',\n",
       "  'GIVEN_NAME': 'Christia',\n",
       "  'FAMILY_NAME': 'Torphy',\n",
       "  'DIAGNOSIS': 'Viral sinusitis (disorder)'},\n",
       " {'NHS_NUMBER': '3523937671',\n",
       "  'DATE_OF_BIRTH': '1974-07-20',\n",
       "  'GIVEN_NAME': 'Vannessa',\n",
       "  'FAMILY_NAME': 'Boyle',\n",
       "  'DIAGNOSIS': 'Sinusitis (disorder)'},\n",
       " {'NHS_NUMBER': '0982637659',\n",
       "  'DATE_OF_BIRTH': '1983-10-22',\n",
       "  'GIVEN_NAME': 'Jeanelle',\n",
       "  'FAMILY_NAME': 'Stanton',\n",
       "  'DIAGNOSIS': 'Normal pregnancy'},\n",
       " {'NHS_NUMBER': '4761868791',\n",
       "  'DATE_OF_BIRTH': '1981-09-20',\n",
       "  'GIVEN_NAME': 'Hassan',\n",
       "  'FAMILY_NAME': 'Sporer',\n",
       "  'DIAGNOSIS': 'Acute viral pharyngitis (disorder)'},\n",
       " {'NHS_NUMBER': '4324676496',\n",
       "  'DATE_OF_BIRTH': '1989-09-04',\n",
       "  'GIVEN_NAME': 'Santa',\n",
       "  'FAMILY_NAME': 'Marquardt',\n",
       "  'DIAGNOSIS': 'Impacted molars'},\n",
       " {'NHS_NUMBER': '8843796860',\n",
       "  'DATE_OF_BIRTH': '1969-04-07',\n",
       "  'GIVEN_NAME': 'Donette',\n",
       "  'FAMILY_NAME': 'Huel',\n",
       "  'DIAGNOSIS': 'Perennial allergic rhinitis'},\n",
       " {'NHS_NUMBER': '8279377255',\n",
       "  'DATE_OF_BIRTH': '1956-09-14',\n",
       "  'GIVEN_NAME': 'Mauricio',\n",
       "  'FAMILY_NAME': 'Williamson',\n",
       "  'DIAGNOSIS': 'Viral sinusitis (disorder)'},\n",
       " {'NHS_NUMBER': '9745726729',\n",
       "  'DATE_OF_BIRTH': '2008-10-02',\n",
       "  'GIVEN_NAME': 'Jude',\n",
       "  'FAMILY_NAME': 'Braun',\n",
       "  'DIAGNOSIS': 'Viral sinusitis (disorder)'},\n",
       " {'NHS_NUMBER': '9975734537',\n",
       "  'DATE_OF_BIRTH': '2019-10-07',\n",
       "  'GIVEN_NAME': 'Tommy',\n",
       "  'FAMILY_NAME': 'Wisoky',\n",
       "  'DIAGNOSIS': nan},\n",
       " {'NHS_NUMBER': '4118554933',\n",
       "  'DATE_OF_BIRTH': '1959-08-26',\n",
       "  'GIVEN_NAME': 'Dewey',\n",
       "  'FAMILY_NAME': 'Zieme',\n",
       "  'DIAGNOSIS': 'Chronic pain'},\n",
       " {'NHS_NUMBER': '1516947274',\n",
       "  'DATE_OF_BIRTH': '1977-02-19',\n",
       "  'GIVEN_NAME': 'Malvina',\n",
       "  'FAMILY_NAME': 'Anderson',\n",
       "  'DIAGNOSIS': 'Perennial allergic rhinitis'},\n",
       " {'NHS_NUMBER': '9698123407',\n",
       "  'DATE_OF_BIRTH': '2013-02-15',\n",
       "  'GIVEN_NAME': 'Lorene',\n",
       "  'FAMILY_NAME': 'Boyer',\n",
       "  'DIAGNOSIS': 'Otitis media'},\n",
       " {'NHS_NUMBER': '4412091600',\n",
       "  'DATE_OF_BIRTH': '2022-08-07',\n",
       "  'GIVEN_NAME': 'Antoine',\n",
       "  'FAMILY_NAME': 'King',\n",
       "  'DIAGNOSIS': 'Acute bronchitis (disorder)'},\n",
       " {'NHS_NUMBER': '3353914692',\n",
       "  'DATE_OF_BIRTH': '1982-08-15',\n",
       "  'GIVEN_NAME': 'Tiny',\n",
       "  'FAMILY_NAME': 'Hirthe',\n",
       "  'DIAGNOSIS': 'Normal pregnancy'},\n",
       " {'NHS_NUMBER': '4133714369',\n",
       "  'DATE_OF_BIRTH': '2019-08-13',\n",
       "  'GIVEN_NAME': 'Han',\n",
       "  'FAMILY_NAME': 'Walsh',\n",
       "  'DIAGNOSIS': 'Acute viral pharyngitis (disorder)'},\n",
       " {'NHS_NUMBER': '7044389015',\n",
       "  'DATE_OF_BIRTH': '2012-02-06',\n",
       "  'GIVEN_NAME': 'Salvador',\n",
       "  'FAMILY_NAME': 'Hyatt',\n",
       "  'DIAGNOSIS': 'Acute bronchitis (disorder)'},\n",
       " {'NHS_NUMBER': '2162659328',\n",
       "  'DATE_OF_BIRTH': '2003-11-06',\n",
       "  'GIVEN_NAME': 'Lorretta',\n",
       "  'FAMILY_NAME': 'King',\n",
       "  'DIAGNOSIS': 'Atopic dermatitis'},\n",
       " {'NHS_NUMBER': '2205332465',\n",
       "  'DATE_OF_BIRTH': '2021-07-11',\n",
       "  'GIVEN_NAME': 'Randy',\n",
       "  'FAMILY_NAME': 'Mayer',\n",
       "  'DIAGNOSIS': 'Acute bronchitis (disorder)'},\n",
       " {'NHS_NUMBER': '6933580911',\n",
       "  'DATE_OF_BIRTH': '1981-10-07',\n",
       "  'GIVEN_NAME': 'Merle',\n",
       "  'FAMILY_NAME': 'Nader',\n",
       "  'DIAGNOSIS': 'Impacted molars'},\n",
       " {'NHS_NUMBER': '9843565916',\n",
       "  'DATE_OF_BIRTH': '1978-09-14',\n",
       "  'GIVEN_NAME': 'Edie',\n",
       "  'FAMILY_NAME': 'Hoeger',\n",
       "  'DIAGNOSIS': 'Normal pregnancy'},\n",
       " {'NHS_NUMBER': '8882949338',\n",
       "  'DATE_OF_BIRTH': '1978-12-01',\n",
       "  'GIVEN_NAME': 'Devon',\n",
       "  'FAMILY_NAME': 'Marks',\n",
       "  'DIAGNOSIS': 'Concussion injury of brain'},\n",
       " {'NHS_NUMBER': '7175517521',\n",
       "  'DATE_OF_BIRTH': '2022-01-12',\n",
       "  'GIVEN_NAME': 'Tobias',\n",
       "  'FAMILY_NAME': 'Koelpin',\n",
       "  'DIAGNOSIS': 'Viral sinusitis (disorder)'},\n",
       " {'NHS_NUMBER': '6836029319',\n",
       "  'DATE_OF_BIRTH': '1957-02-07',\n",
       "  'GIVEN_NAME': 'Dillon',\n",
       "  'FAMILY_NAME': 'Torphy',\n",
       "  'DIAGNOSIS': 'Acute viral pharyngitis (disorder)'},\n",
       " {'NHS_NUMBER': '3636730029',\n",
       "  'DATE_OF_BIRTH': '1978-11-20',\n",
       "  'GIVEN_NAME': 'Eusebia',\n",
       "  'FAMILY_NAME': 'Bode',\n",
       "  'DIAGNOSIS': 'Normal pregnancy'},\n",
       " {'NHS_NUMBER': '4565941791',\n",
       "  'DATE_OF_BIRTH': '2002-02-07',\n",
       "  'GIVEN_NAME': 'Arlen',\n",
       "  'FAMILY_NAME': 'Connelly',\n",
       "  'DIAGNOSIS': 'Childhood asthma'},\n",
       " {'NHS_NUMBER': '0449821668',\n",
       "  'DATE_OF_BIRTH': '1955-10-02',\n",
       "  'GIVEN_NAME': 'Beau',\n",
       "  'FAMILY_NAME': 'Gleason',\n",
       "  'DIAGNOSIS': 'Sinusitis (disorder)'},\n",
       " {'NHS_NUMBER': '7916193256',\n",
       "  'DATE_OF_BIRTH': '2022-05-10',\n",
       "  'GIVEN_NAME': 'Asa',\n",
       "  'FAMILY_NAME': 'Kunde',\n",
       "  'DIAGNOSIS': 'Seizure disorder'},\n",
       " {'NHS_NUMBER': '3461890316',\n",
       "  'DATE_OF_BIRTH': '2006-09-18',\n",
       "  'GIVEN_NAME': 'Toby',\n",
       "  'FAMILY_NAME': 'Kuhn',\n",
       "  'DIAGNOSIS': 'Acute viral pharyngitis (disorder)'},\n",
       " {'NHS_NUMBER': '6450937874',\n",
       "  'DATE_OF_BIRTH': '1986-03-28',\n",
       "  'GIVEN_NAME': 'Asa',\n",
       "  'FAMILY_NAME': 'Bernier',\n",
       "  'DIAGNOSIS': 'Viral sinusitis (disorder)'},\n",
       " {'NHS_NUMBER': '2010103262',\n",
       "  'DATE_OF_BIRTH': '1965-05-04',\n",
       "  'GIVEN_NAME': 'Deandrea',\n",
       "  'FAMILY_NAME': 'Beatty',\n",
       "  'DIAGNOSIS': 'Acute bacterial sinusitis (disorder)'},\n",
       " {'NHS_NUMBER': '2190230438',\n",
       "  'DATE_OF_BIRTH': '1962-09-11',\n",
       "  'GIVEN_NAME': 'Dion',\n",
       "  'FAMILY_NAME': 'Quitzon',\n",
       "  'DIAGNOSIS': 'Otitis media'},\n",
       " {'NHS_NUMBER': '6998064942',\n",
       "  'DATE_OF_BIRTH': '1948-10-24',\n",
       "  'GIVEN_NAME': 'Kathrin',\n",
       "  'FAMILY_NAME': 'Bechtelar',\n",
       "  'DIAGNOSIS': 'Normal pregnancy'},\n",
       " {'NHS_NUMBER': '7758619304',\n",
       "  'DATE_OF_BIRTH': '1991-11-18',\n",
       "  'GIVEN_NAME': 'Tracy',\n",
       "  'FAMILY_NAME': 'Fadel',\n",
       "  'DIAGNOSIS': 'Viral sinusitis (disorder)'},\n",
       " {'NHS_NUMBER': '0829078703',\n",
       "  'DATE_OF_BIRTH': '2011-02-09',\n",
       "  'GIVEN_NAME': 'Deandre',\n",
       "  'FAMILY_NAME': 'Thiel',\n",
       "  'DIAGNOSIS': 'Perennial allergic rhinitis with seasonal variation'},\n",
       " {'NHS_NUMBER': '8338715697',\n",
       "  'DATE_OF_BIRTH': '2007-05-23',\n",
       "  'GIVEN_NAME': 'Apolonia',\n",
       "  'FAMILY_NAME': 'Weber',\n",
       "  'DIAGNOSIS': 'Viral sinusitis (disorder)'},\n",
       " {'NHS_NUMBER': '6068614921',\n",
       "  'DATE_OF_BIRTH': '1963-07-27',\n",
       "  'GIVEN_NAME': 'Mario',\n",
       "  'FAMILY_NAME': 'Kuhn',\n",
       "  'DIAGNOSIS': 'Impacted molars'},\n",
       " {'NHS_NUMBER': '8980802811',\n",
       "  'DATE_OF_BIRTH': '1982-10-22',\n",
       "  'GIVEN_NAME': 'Kasey',\n",
       "  'FAMILY_NAME': 'Bartoletti',\n",
       "  'DIAGNOSIS': 'Human immunodeficiency virus infection (disorder)'},\n",
       " {'NHS_NUMBER': '8356125952',\n",
       "  'DATE_OF_BIRTH': '1968-10-18',\n",
       "  'GIVEN_NAME': 'Giselle',\n",
       "  'FAMILY_NAME': 'Kris',\n",
       "  'DIAGNOSIS': 'Childhood asthma'},\n",
       " {'NHS_NUMBER': '2487360682',\n",
       "  'DATE_OF_BIRTH': '1951-03-11',\n",
       "  'GIVEN_NAME': 'Leilani',\n",
       "  'FAMILY_NAME': 'Gusikowski',\n",
       "  'DIAGNOSIS': 'Sinusitis (disorder)'},\n",
       " {'NHS_NUMBER': '5262314562',\n",
       "  'DATE_OF_BIRTH': '1966-09-23',\n",
       "  'GIVEN_NAME': 'Russ',\n",
       "  'FAMILY_NAME': 'Padberg',\n",
       "  'DIAGNOSIS': 'Hypertension'},\n",
       " {'NHS_NUMBER': '6819524153',\n",
       "  'DATE_OF_BIRTH': '1946-03-10',\n",
       "  'GIVEN_NAME': 'Shantell',\n",
       "  'FAMILY_NAME': 'Stracke',\n",
       "  'DIAGNOSIS': 'Cerebral palsy (disorder)'},\n",
       " {'NHS_NUMBER': '4468773324',\n",
       "  'DATE_OF_BIRTH': '1948-05-14',\n",
       "  'GIVEN_NAME': 'Carlena',\n",
       "  'FAMILY_NAME': 'King',\n",
       "  'DIAGNOSIS': 'Otitis media'}]"
      ]
     },
     "execution_count": 3,
     "metadata": {},
     "output_type": "execute_result"
    }
   ],
   "source": [
    "output_synthea = GenerateSynthea(path_output=path_output_synthea).load()\n",
    "output_synthea"
   ]
  },
  {
   "cell_type": "markdown",
   "metadata": {},
   "source": [
    "## 2. GenerateLLM: Generating Synthetic Patient Medical Notes "
   ]
  },
  {
   "cell_type": "markdown",
   "metadata": {},
   "source": [
    "Currenty GenerateLLM uses Ollama to run a range of pre-trained models you can use.\n",
    "- model - This determines the model you want to use.\n",
    "- template - This defines the prompt-template you want to give to the LLM model to generate each patients medical record.\n",
    "\n",
    "In the src/config.py file, there is a *cols* parameter. This parameter currently maps Synthea column names to names used in the template to generate these medical notes.\n",
    "\n",
    "```\n",
    "cols = {\n",
    "    \"NHS_NUMBER\": \"NHS_NUMBER\",\n",
    "    \"BIRTHDATE\": \"DATE_OF_BIRTH\",\n",
    "    \"FIRST\": \"GIVEN_NAME\",\n",
    "    \"LAST\": \"FAMILY_NAME\",\n",
    "    \"REASONDESCRIPTION\": \"DIAGNOSIS\",\n",
    "}\n",
    "```"
   ]
  },
  {
   "cell_type": "code",
   "execution_count": null,
   "metadata": {},
   "outputs": [],
   "source": [
    "model = \"llama2\"\n",
    "template = \"\"\"[INST]\n",
    "<<SYS>>\n",
    "You are a medical student answering an exam question about writing clinical notes for patients.\n",
    "<</SYS>>\n",
    "\n",
    "Keep in mind that your answer will be asssessed based on incorporating all the provided information and the quality of prose.\n",
    "\n",
    "1. Use prose to write an example clinical note for this patient's doctor.\n",
    "2. Use less than three sentences.\n",
    "3. Do not provide a recommendations.\n",
    "4. Use the following information:\n",
    "\n",
    "{data}\n",
    "[/INST]\n",
    "\"\"\""
   ]
  },
  {
   "cell_type": "markdown",
   "metadata": {},
   "source": [
    "This runs GenerateLLM using the synthea output from the previous run, and saves the LLM output to the given path_output_llm."
   ]
  },
  {
   "cell_type": "code",
   "execution_count": null,
   "metadata": {},
   "outputs": [],
   "source": [
    "output_llm =  GenerateLLM(synthea_input=output_synthea, path_output=path_output_llm, save_output=True).run(model, template)\n",
    "output_llm"
   ]
  },
  {
   "cell_type": "markdown",
   "metadata": {},
   "source": [
    "This runs GenerateLLM using a pre-saved synthea output saved at path_output_synthea, and generates a local output_llm. In comparison to the run above this will produce slightly different results."
   ]
  },
  {
   "cell_type": "code",
   "execution_count": null,
   "metadata": {},
   "outputs": [],
   "source": [
    "output_llm =  GenerateLLM(synthea_path=path_output_synthea, path_output=path_output_llm, save_output=False).run(model, template)\n",
    "output_llm"
   ]
  },
  {
   "cell_type": "markdown",
   "metadata": {},
   "source": [
    "This loads the current saved output at path_output_llm."
   ]
  },
  {
   "cell_type": "code",
   "execution_count": 4,
   "metadata": {},
   "outputs": [
    {
     "data": {
      "text/plain": [
       "[\"Clinical Note:\\nPatient Name: Heike Bernier\\nNHS Number: 2441173111\\nDate of Birth: July 15, 2003\\n\\nChief Complaint: Fever, headache, and nasal congestion for 3 days.\\n\\nHistory of Present Illness: The patient was seen in the emergency department with symptoms of viral sinusitis. She reported a fever of 102°F, headache, and nasal congestion for the past 3 days. The patient also mentioned that she had been experiencing postnasal drip and sore throat.\\n\\nAssessment: The patient's temperature was normalized with acetaminophen, and her symptoms improved marginally. However, her nasal congestion persisted. A viral sinusitis diagnosis was made based on the patient's symptoms and medical history. Recommendations included bed rest, over-the-counter decongestants, and antiviral medication if necessary.\\n\\nPlan: Monitor the patient's condition closely and reassess in 24-48 hours for further evaluation or treatment as needed.\",\n",
       " ' Clinical Note:\\nPatient: Keven Hammes\\nNHS Number: 6727219400\\nDate of Birth: February 2, 2001\\n\\nPresentation: Mr. Hammes is a 19-year-old male presenting with symptoms of child attention deficit disorder (ADHD). He was referred to our clinic by his general practitioner due to persistent difficulties with focus and concentration. The patient reports frequent distractions, forgetfulness, and difficulty completing tasks within given time frames.',\n",
       " 'Clinical Note:\\nMr. Kenton Hermann, a 24-year-old male patient, presents to the clinic today with a 3-day history of cough and fever. His NHS number is 9311809187, he was born on January 6th, 1998, and his diagnosis is acute bronchitis (disorder).',\n",
       " \"Clinical Note:\\nPatient Name: Darron Farrell\\nNHS Number: 6744989936\\nDate of Birth: December 23, 1972\\n\\nChief Complaint: Fatigue, pale skin, and shortness of breath for the past two months.\\n\\nHistory of Present Illness: The patient reports feeling increasingly tired and weak over the past few weeks, despite maintaining a consistent exercise routine. He has noticed his skin becoming paler than usual, and has experienced shortness of breath during light activity. The patient has no recent travel history or exposure to infectious diseases.\\n\\nReview of Systems: The patient does not report any chest pain, cough, or difficulty breathing. However, he notes a decreased appetite and weight loss over the past month.\\n\\nAssessment: Anemia (disorder) is suspected based on the patient's symptoms and medical history. Further diagnostic testing, such as complete blood count (CBC) and blood smear examination, may be necessary to confirm the diagnosis and rule out other potential causes of anemia.\\n\\nPlan: Schedule CBC and blood smear examination for tomorrow morning. Provide patient with information on managing anemia through dietary changes and potential medication therapy.\",\n",
       " \"Clinical Note:\\nPatient Name: Carlo Kuhn\\nNHS Number: 1949271404\\nDate of Birth: September 10, 1968\\n\\nPresentation: Mr. Kuhn presents with chronic pain in his lower back and legs, which has been persistent for the past three months. He reports that the pain is constant and worsens with movement or activity. He also experiences numbness and tingling in his limbs. The patient denies any recent trauma or infection.\\n\\nAssessment: Based on the patient's history and physical examination, it is likely that Mr. Kuhn is suffering from a chronic pain condition such as fibromyalgia or degenerative disc disease. Further diagnostic tests may be necessary to confirm the diagnosis and determine the appropriate course of treatment.\",\n",
       " 'Clinical Note for Patient ID: 4135716814\\n\\nLoree Pouros, a 30-year-old female patient, presents with symptoms of viral sinusitis. The patient was born on January 31st, 1991 and has been experiencing nasal congestion, facial pain, and postnasal drip for the past 5 days. Her NHS number is 4135716814. Based on her symptoms and medical history, I suspect she may have viral sinusitis. Further evaluation and treatment are necessary to confirm this diagnosis and manage her symptoms effectively.',\n",
       " 'Clinical Note:\\n\\nPatient Name: Olive Rosenbaum\\nNHS Number: 5771725080\\nDate of Birth: November 29, 1991\\n\\nPresentation: Ms. Rosenbaum presents today with a chief complaint of left-sided facial swelling and tooth sensitivity. She reports no recent trauma or illness. Medical history includes impacted molars. Physical examination reveals a swollen and tender left side of the face, particularly around the area of the affected teeth. No other abnormalities are noted.\\n\\nPlan: Recommend dental extractions of the impacted molars and antibiotics for any potential infection. Schedule follow-up appointment for post-procedure care.',\n",
       " \" Clinical Note for Tommy Murray:\\n\\nOn the 20th of February, Mr. Tommy Murray, an 11-year-old male patient with NHS number 8556129943, was evaluated at the clinic due to a diagnosis of acute bronchitis (disorder). His date of birth is December 30, 2009. Symptoms include cough and chest congestion for two days. No fever or difficulty breathing. Medication: Antibiotics prescribed as per protocol. Monitor patient's condition closely for the next few days and reassess as necessary.\",\n",
       " \"Certainly! Here is an example clinical note for Christia Torphy's doctor:\\n\\nPatient: Christia Torphy\\nNHS Number: 9217912255\\nDate of Birth: September 9, 1956\\nGiven Name: Christia\\nFamily Name: Torphy\\nDiagnosis: Viral sinusitis (disorder)\\n\\nChief Complaint: Nasal congestion, facial pain, and headache for the past week. No recent travel or exposure to sick individuals.\\n\\nHistory of Present Illness: The patient experienced a sudden onset of nasal congestion, facial pain, and headache about a week ago. These symptoms have persisted and worsened over time despite self-medication with over-the-counter decongestants. There is no history of recent travel or exposure to sick individuals that could have contributed to the illness.\\n\\nReview of Systems: The patient's review of systems is normal, without any signs of respiratory or otolaryngological abnormalities.\\n\\nPlan: Based on the patient's symptoms and history, a diagnosis of viral sinusitis (disorder) is highly likely. I recommend prescribing antiviral medication and nasal decongestants to help alleviate the patient's symptoms. I will also monitor the patient's condition closely and adjust the treatment plan as needed.\",\n",
       " 'Clinical Note:\\n\\nPatient: Vannessa Boyle\\nNHS Number: 3523937671\\nDate of Birth: July 20, 1974\\n\\nPresentation: Mrs. Boyle presents with symptoms of sinusitis, including nasal congestion, headache, and facial pain. She reports difficulty breathing through her nose and experiencing postnasal drip. Her symptoms have persisted for one week and have significantly impacted her quality of life.\\n\\nDiagnosis: Sinusitis (disorder)\\n\\nPlan: Recommendation is for Mrs. Boyle to begin treatment with nasal decongestants and antihistamines to alleviate symptoms. Encourage her to follow up in one week for further evaluation and potential prescription of antibiotics if necessary.',\n",
       " \"Clinical Note:\\nMs. Jeanelle Stanton, a 35-year-old gravida 2, para 2 female, presents for her scheduled prenatal appointment at 16 weeks gestation. The patient's NHS number is 0982637659 and date of birth is October 22, 1983. Her diagnosis is normal pregnancy. No complaints or concerns were reported by the patient. Vital signs are within normal range. The patient's last menstrual period was on March 10, and her estimated date of delivery is December 15. The patient's BMI is 26.9, which falls within the overweight category. A thorough examination and routine laboratory tests were performed, and no abnormalities were detected. The patient will be seen again in four weeks for her next prenatal appointment. Recommendations: Continue with regular prenatal care, including ultrasound evaluations every four weeks until 36 weeks gestation, and a non-stress test at 32 weeks gestation to evaluate fetal heart rate.\",\n",
       " \"Clinical Note:\\nPatient Hassan Sporer, NHS number 4761868791, presents with acute viral pharyngitis. The patient was born on September 20, 1981. The patient's diagnosis is acute viral pharyngitis, a common condition characterized by a sore throat and fever.\",\n",
       " 'Clinical Note:\\nPatient Name: Santa Marquardt\\nNHS Number: 4324676496\\nDate of Birth: September 4, 1989\\n\\nChief Complaint: Impacted molars. Patient presents with pain and swelling in the left mandible area. No recent trauma or fever.',\n",
       " 'Clinical Note:\\nPatient Name: Donette Huel\\nNHS Number: 8843796860\\nDate of Birth: April 7, 1969\\n\\nPresentation: Patient presents with a history of perennial allergic rhinitis. Symptoms include sneezing, congestion, and itchy eyes for the past 5 years. No significant medical history or previous illnesses.\\n\\nPlan: Recommendations are as follows:\\n\\n* Prescribe antihistamine medication to manage symptoms\\n* Provide guidance on allergen avoidance and immunotherapy\\n* Schedule follow-up appointment in 2 weeks for further evaluation and monitoring',\n",
       " ' Clinical Note:\\nMr. Mauricio Williamson, an 82-year-old male patient, was evaluated in the clinic on March 14th for viral sinusitis. His NHS number is 8279377255 and he was born on September 14th, 1956. The patient presents with a history of nasal congestion, headache, and facial pain over the past week. His diagnosis is viral sinusitis. Further evaluation and treatment are necessary to manage his symptoms and prevent complications.',\n",
       " 'Clinical Note:\\nMr. Jude Braun, a 12-year-old male patient, presented to the clinic on October 5th with symptoms of viral sinusitis. He reported difficulty breathing through his nose and experienced headaches for the past 3 days. His date of birth is October 2nd, 2008. Based on the provided information, it is evident that Mr. Braun is suffering from a viral infection affecting his nasal passages. Further evaluation and treatment are necessary to manage his symptoms and prevent any potential complications.',\n",
       " 'Clinical Note:\\nMr. Tommy Wisoky, a 24-year-old male, presents to the clinic today with a diagnosis of Nan (Null) due to incomplete patient information provided. He was born on October 7th, 2019, and his NHS number is 9975734537. Further evaluation and testing are necessary to determine an accurate diagnosis and appropriate treatment.',\n",
       " 'Clinical Note for Dewey Zieme:\\n\\nPatient presents with chronic pain, NHS number 4118554933, date of birth August 26, 1959. Patient reports severe pain in the right shoulder and upper arm, affecting daily activities. No recommendations are given at this time.',\n",
       " 'Clinical Note:\\nPatient Name: Malvina Anderson\\nNHS Number: 1516947274\\nDate of Birth: February 19, 1977\\n\\nPresentation: Patient presents with perennial allergic rhinitis. Symptoms include nasal congestion, sneezing, and itchy eyes. Patient has a history of seasonal allergies and has tried over-the-counter medications in the past with limited success.',\n",
       " \"Clinical Note:\\nPatient Name: Lorene Boyer\\nNHS Number: 9698123407\\nDate of Birth: February 15, 2013\\n\\nPresentation: The patient presented with symptoms of otitis media, including fever, ear pain, and difficulty hearing. The patient's medical history reveals that they have a history of recurring middle ear infections. Physical examination revealed an erythematous outer ear and bulging tympanic membrane.\\n\\nPlan: Prescribed antibiotic therapy for 7-10 days, followed by repeat examination to assess the effectiveness of treatment. Instructed patient on proper ear hygiene and recommended avoiding loud noises to reduce risk of further infection.\",\n",
       " 'Clinical Note:\\nMr. Antoine King, a 27-year-old male, presents to the clinic today with symptoms of acute bronchitis. He reports sudden onset of cough and mild chest discomfort over the past 3 days. His date of birth is August 7th, 2022, and his NHS number is 4412091600.\\n\\nBased on the provided information, it is clear that Mr. King is experiencing an acute respiratory infection that requires further evaluation and treatment. I recommend a course of antibiotics and supportive care to help manage his symptoms and prevent any potential complications.',\n",
       " \"Clinical Note:\\nPatient: Tiny Hirthe\\nNHS Number: 3353914692\\nDate of Birth: August 15, 1982\\n\\nHistory of Present Illness: The patient presents for a routine prenatal check-up at 30 weeks gestation. She is in her first pregnancy and reports no complications thus far.\\n\\nPlan: Continue monitoring the patient's progress throughout her pregnancy with regular appointments. Provide appropriate care and support to ensure a healthy pregnancy and delivery.\",\n",
       " 'Clinical Note for Patient Han Walsh:\\n\\nMr. Walsh, a 23-year-old male, presents to the clinic today with a 2-day history of sore throat, fever, and difficulty swallowing. He was born on August 13, 2019, and his NHS number is 4133714369. His diagnosis is acute viral pharyngitis (disorder).',\n",
       " 'Clinical Note:\\nMr. Salvador Hyatt, a 30-year-old male, presents to the clinic today with a 2-day history of cough and fever. His NHS number is 7044389015, he was born on February 6th, 2012, and his diagnosis is acute bronchitis (disorder).',\n",
       " \"Clinical Note: Loretta King, a 17-year-old patient with NHS number 2162659328, was seen in the outpatient department on November 10th for the management of atopic dermatitis. The patient's medical history reveals that she has been experiencing itching and redness on her skin for the past few months, with exacerbations during winter seasons. Her date of birth is November 6th, 2003. Based on the patient's symptoms and medical history, a diagnosis of atopic dermatitis was made.\",\n",
       " \"Clinical Note:\\nPatient Name: Randy Mayer\\nNHS Number: 2205332465\\nDate of Birth: July 11, 2021\\n\\nPresentation: Acute bronchitis (disorder)\\n\\nChief Complaint: Cough and chest congestion for 5 days\\n\\nHistory of Present Illness: Patient reports sudden onset of cough and chest congestion 5 days ago. No fever or other symptoms.\\n\\nReview of Systems: Negative for any other symptoms.\\n\\nAssessment: Diagnosis of acute bronchitis (disorder) is likely based on patient's history and physical examination findings.\\n\\nPlan: Oral antibiotics and inhaled corticosteroid therapy as needed. Monitor patient for improvement over next 7-10 days.\\n\\nNote: This is just an example clinical note, please ensure you provide detailed information and use proper medical terminology when writing clinical notes in real life.\",\n",
       " 'Clinical Note:\\nPatient Merle Nader, aged 42, presents with a chief complaint of toothache and swelling in the left side of her face. Her NHS number is 6933580911, and she was born on October 7, 1981. Diagnosis: Impacted molars.',\n",
       " 'Clinical Note:\\nMs. Edie Hoeger, a 34-year-old G0P0, presents for her routine prenatal appointment at 12 weeks gestation. Her NHS number is 9843565916 and her date of birth is September 14, 1978. Currently, she is in a normal pregnancy with no complications noted. Further monitoring will be conducted to ensure a healthy pregnancy.',\n",
       " \"Clinical Note:\\nPatient Devon Marks, aged 43, presents with a concussion injury to the brain sustained in a recent motor vehicle accident. The patient's NHS number is 8882949338 and their date of birth is December 1st, 1978. Given the nature of the injury, it is crucial that the patient receives appropriate monitoring and management to ensure proper healing and prevention of any further complications.\",\n",
       " \"Clinical Note for Patient Tobias Koelpin:\\n\\nPatient presents with a 3-day history of nasal congestion, facial pain, and yellow nasal discharge. The patient's NHS number is 7175517521 and their date of birth is January 12, 2022. Patient is diagnosed with viral sinusitis.\",\n",
       " \"Here is an example clinical note for the patient's doctor:\\n\\nPatient Name: Dillon Torphy\\nNHS Number: 6836029319\\nDate of Birth: February 7, 1957\\n\\nPresenting Complaint: Acute viral pharyngitis (disorder)\\n\\nChief Complaint: Sore throat and fever for the past 2 days.\\n\\nHistory of Present Illness: Patient developed sore throat and fever on day 1, which has persisted despite self-medication with paracetamol.\\n\\nReview of Systems: No significant findings.\\n\\nPhysical Examination: Tender anterior cervical lymph nodes, mild sinus tachycardia.\\n\\nDiagnosis: Acute viral pharyngitis (disorder)\\n\\nPlan:\\nAntiviral medication as prescribed and adequate hydration. Monitor patient's symptoms and adjust treatment as needed.\\n\\nNote: This is just an example clinical note, please ensure that your answer meets the requirements stated in the prompt.\",\n",
       " 'Clinical Note:\\n\\nPatient: Eusebia Bode\\nNHS Number: 3636730029\\nDate of Birth: November 20, 1978\\n\\nCurrent Diagnosis: Normal pregnancy.',\n",
       " 'Clinical Note:\\nPatient Name: Arlen Connelly\\nNHS Number: 4565941791\\nDate of Birth: February 7, 2002\\n\\nDiagnosis: Childhood asthma\\n\\nHistory of Present Illness: The patient is a 15-year-old male who presented to the clinic with complaints of recurrent wheezing and shortness of breath over the past month. He has a history of seasonal allergies and has been using an inhaler for the past year.\\n\\nReview of Systems: The patient reports worsening symptoms at night, which interfere with his sleep. He also experiences coughing spells throughout the day, particularly after exercise or exposure to environmental triggers.\\n\\nPlan: Provide prescription for a newer inhaler with better controller properties and advise on proper usage and maintenance of the inhaler. Schedule follow-up appointment in 1 week to assess symptoms and adjust treatment plan as needed.',\n",
       " \"Clinical Note:\\nPatient Name: Beau Gleason\\nNHS Number: 0449821668\\nDate of Birth: October 2, 1955\\n\\nChief Complaint: Sinusitis (disorder)\\n\\nHistory of Present Illness: Patient presents with a 3-day history of sinonasal symptoms, including nasal congestion, facial pain, and yellow nasal discharge. He also reports difficulty sleeping due to nasal pressure. The patient's symptoms are exacerbated by bending forward or lying down.\\n\\nAssessment: Based on the patient's history and physical examination, it is likely that he has a bacterial sinusitis. Further diagnostic testing, such as a nasal swab for bacterial cultures, may be warranted to confirm the diagnosis.\\n\\nPlan: Prescribe antibiotics for 7-10 days and advise patient to use nasal decongestants as needed. Instruct patient to return in 3-4 days for follow-up assessment of symptoms and response to treatment.\",\n",
       " 'Clinical Note:\\n\\nPatient: Asa Kunde\\nNHS Number: 7916193256\\nDate of Birth: May 10, 2022\\n\\nPresentation: The patient presents with a history of seizure disorder. The patient has been experiencing recurrent seizures, with the most recent episode occurring last night. The patient is experiencing confusion and weakness in their left arm and leg.\\n\\nPlan: Further evaluation is needed to determine the cause of the seizures. The patient will be referred to a neurologist for further assessment and treatment. In the meantime, the patient will be prescribed an anti-seizure medication to manage their symptoms.',\n",
       " 'Clinical Note:\\nPatient Name: Toby Kuhn\\nNHS Number: 3461890316\\nDate of Birth: September 18, 2006\\n\\nPresentation: The patient presented to the clinic with a 2-day history of sore throat, fever, and difficulty swallowing. He also reported fatigue, headache, and mild cough.\\n\\nDiagnosis: Acute viral pharyngitis (disorder) based on symptoms and medical history.',\n",
       " \"Clinical Note:\\nPatient Asa Bernier, NHS number 6450937874, presents today with a diagnosis of viral sinusitis. The patient was born on March 28, 1986, and is currently experiencing symptoms such as nasal congestion, facial pain, and postnasal drip. Further evaluation and treatment are necessary to manage this condition and alleviate the patient's discomfort.\",\n",
       " \"Clinical Note:\\nPatient Name: Deandrea Beatty\\nNHS Number: 2010103262\\nDate of Birth: May 4, 1965\\n\\nPresentation: Acute bacterial sinusitis (disorder)\\n\\nKey Points:\\n\\n* Right nasal congestion and purulent discharge for 3 days\\n* History of fever and headache for the past 2 days\\n* No recent travel or exposure to sick individuals\\n* Normal vital signs except tachycardia\\n\\nRecommendations/Actions:\\nPrescribe antibiotics for acute bacterial sinusitis and advise patient on proper nasal hygiene. Monitor patient's symptoms and adjust treatment as needed.\",\n",
       " 'Clinical Note:\\nMr. Dion Quitzon, a 60-year-old male patient, presented on 12th September 2023 with a chief complaint of right ear discomfort and difficulty hearing for the past 3 days. His NHS number is 2190230438 and he was born on 11th September 1962. Diagnosis: Otitis media.',\n",
       " 'Clinical Note:\\n\\nPatient: Kathrin Bechtelar\\nNHS Number: 6998064942\\nDate of Birth: October 24, 1948\\n\\nCurrent Diagnosis: Normal pregnancy.',\n",
       " \"Clinical Note:\\n\\nPatient: Tracy Fadel\\nNHS Number: 7758619304\\nDate of Birth: November 18, 1991\\n\\nPresenting Complaints:\\n\\n* Nasal congestion\\n* Thick yellowish discharge from nose\\n* Headache\\n* Fatigue\\n\\nMedical History:\\n\\n* Recurrent viral sinusitis\\n* Allergic rhinitis\\n\\nReview of Systems:\\n\\n* Nose: Congested, with thick yellowish discharge\\n* Ears: No significant findings\\n* Throat: Mild sore throat\\n* Chest: No significant findings\\n* Abdominal: No significant findings\\n* Musculoskeletal: No significant findings\\n\\nAssessment:\\n\\nDiagnosis: Viral sinusitis (disorder)\\n\\nPlan:\\n\\n* Nasal decongestants as needed for nasal congestion\\n* Antihistamines as needed for allergic rhinitis\\n* Encourage patient to rest and drink plenty of fluids\\n* Monitor patient's symptoms and adjust plan as needed.\",\n",
       " 'Clinical Note for Deandre Thiel:\\n\\nPatient presents today with complaints of nasal congestion, sneezing, and itchy eyes, consistent with perennial allergic rhinitis with seasonal variation. History of hay fever in family. Symptoms worsen during spring and fall seasons. No significant medical history or medication use.',\n",
       " 'Clinical Note:\\nPatient Apolonia Weber, aged 12, presents with a 3-day history of nasal congestion, facial pain, and fever. Her NHS number is 8338715697, and she was born on May 23rd, 2007. The patient has been diagnosed with viral sinusitis, a common condition characterized by inflammation of the sinuses due to a virus. Further evaluation and treatment are necessary to manage symptoms and prevent complications.',\n",
       " 'Clinical Note:\\n\\nPatient: Mario Kuhn\\nNHS Number: 6068614921\\nDate of Birth: July 27, 1963\\n\\nPresentation: The patient presented to the dental clinic with a chief complaint of toothache and difficulty chewing on the right side of his mouth. He reported that the symptoms had been persistent for several days and were becoming increasingly severe.\\n\\nDiagnosis: Impacted molars.',\n",
       " \"Clinical Note:\\nPatient Name: Kasey Bartoletti\\nNHS Number: 8980802811\\nDate of Birth: October 22, 1982\\n\\nPresenting Complaints:\\nThe patient presents today with a primary care provider for a follow-up appointment. The patient is diagnosed with human immunodeficiency virus (HIV) infection. The patient's last viral load was 50,000 copies/mL, and their CD4 count was 200 cells/mm3. The patient is currently on antiretroviral therapy and has been adherent to the treatment regimen.\\n\\nPlan:\\nThe patient will continue to receive antiretroviral therapy as prescribed. The patient will be monitored regularly for viral load and CD4 count changes. The patient will be referred to a specialist for further management of their HIV infection, including potential treatment options for opportunistic infections and other comorbidities.\",\n",
       " \"Clinical Note for Giselle Kris:\\n\\nPatient presents with a diagnosis of childhood asthma. Born on October 18, 1968, and NHS number is 8356125952. Patient's symptoms include recurring wheezing and shortness of breath, particularly in the evening. Recommendations include continued use of rescue inhaler as needed, and regular follow-up appointments to monitor disease progression and adjust treatment plan as necessary.\",\n",
       " \"Here is an example clinical note for Leilani Gusikowski:\\n\\nPatient Name: Leilani Gusikowski\\nNHS Number: 2487360682\\nDate of Birth: March 11, 1951\\n\\nPresenting Complaint: Right sinus pressure and congestion for 1 week. Yellow nasal discharge.\\n\\nMedical History: Hypertension, hyperlipidemia, and chronic obstructive pulmonary disease (COPD).\\n\\nReview of Systems: No significant findings in the head, neck, or respiratory system.\\n\\nAssessment: Sinusitis secondary to viral upper respiratory tract infection.\\n\\nPlan: Prescribe antibiotics and nasal decongestants as needed. Advise patient on proper hand hygiene and avoidance of close contact with others to prevent spread of infection. Monitor patient's symptoms and adjust plan as necessary.\",\n",
       " 'Clinical Note:\\nPatient Name: Russ Padberg\\nNHS Number: 5262314562\\nDate of Birth: September 23, 1966\\n\\nPresenting Problem: Hypertension\\n\\nRuss Padberg, a 56-year-old male patient, presents today with a diagnosis of hypertension. He reports no significant medical history except for a recent episode of dizziness and lightheadedness. His blood pressure is elevated at 180/100 mmHg. Recommendations include lifestyle modifications such as regular exercise and a healthy diet, as well as monitoring of his blood pressure and potential medication adjustments if necessary.',\n",
       " \"Clinical Note for Patient Shantell Stracke:\\n\\nOn [DATE], 68-year-old Shantell Stracke presented to the clinic with a diagnosis of cerebral palsy. Born on March 10, 1946, Ms. Stracke has been living with this disorder since early childhood. According to her medical history, she has experienced difficulty with mobility and balance, as well as cognitive impairments. Currently, she is experiencing increased muscle stiffness and spasms, particularly in the evening hours. Further evaluation and management are necessary to address these symptoms and improve Ms. Stracke's quality of life.\",\n",
       " 'Clinical Note:\\n\\nPatient: Carlena King\\nNHS Number: 4468773324\\nDate of Birth: May 14, 1948\\n\\nDiagnosis: Otitis media\\n\\nKey Points:\\n\\n* Presented with right ear pain and difficulty hearing\\n* History of recurring middle ear infections\\n* Symptoms worsened over the past 24 hours\\n* Tender lymph nodes in neck\\n\\nRecommendations:\\n\\n* Prescribe antibiotic for otitis media\\n* Instruct patient on proper ear hygiene and pain management techniques\\n* Schedule follow-up appointment in 3 days to monitor symptoms and check for improvement.']"
      ]
     },
     "execution_count": 4,
     "metadata": {},
     "output_type": "execute_result"
    }
   ],
   "source": [
    "output_llm =  GenerateLLM(path_output=path_output_llm).load()\n",
    "output_llm"
   ]
  },
  {
   "cell_type": "markdown",
   "metadata": {},
   "source": [
    "## 3. Extraction: Re-extracting Entities from the Patient Medical Notes"
   ]
  },
  {
   "cell_type": "markdown",
   "metadata": {},
   "source": [
    "This uses a local quanitised UniversalNER model to extract entities from the synthetic medical notes. You will need to follow the README to host the UniversalNER model locally.\n",
    "\n",
    "In the src/config file:\n",
    "- entity_list = [\"person\", \"nhs number\", \"date of birth\", \"diagnosis\"] - This is the list of entities you want to extract from the synthetic medical notes.\n",
    "- universal_ner_path = \"../models/quantized_q4_1.gguf\" - This is the path to the quantized universal model located in a models folder on the top level of this repo.\n",
    "\n",
    "This runs the extraction class from an output generated in this notebook, and is save the extraction output to the path given."
   ]
  },
  {
   "cell_type": "code",
   "execution_count": 17,
   "metadata": {},
   "outputs": [
    {
     "name": "stderr",
     "output_type": "stream",
     "text": [
      "llama_model_loader: loaded meta data with 21 key-value pairs and 291 tensors from ../models/quantized_q4_1.gguf (version GGUF V3 (latest))\n",
      "llama_model_loader: - tensor    0:                token_embd.weight q4_1     [  4096, 32000,     1,     1 ]\n",
      "llama_model_loader: - tensor    1:              blk.0.attn_q.weight q4_1     [  4096,  4096,     1,     1 ]\n",
      "llama_model_loader: - tensor    2:              blk.0.attn_k.weight q4_1     [  4096,  4096,     1,     1 ]\n",
      "llama_model_loader: - tensor    3:              blk.0.attn_v.weight q4_1     [  4096,  4096,     1,     1 ]\n",
      "llama_model_loader: - tensor    4:         blk.0.attn_output.weight q4_1     [  4096,  4096,     1,     1 ]\n",
      "llama_model_loader: - tensor    5:            blk.0.ffn_gate.weight q4_1     [  4096, 11008,     1,     1 ]\n",
      "llama_model_loader: - tensor    6:            blk.0.ffn_down.weight q4_1     [ 11008,  4096,     1,     1 ]\n",
      "llama_model_loader: - tensor    7:              blk.0.ffn_up.weight q4_1     [  4096, 11008,     1,     1 ]\n",
      "llama_model_loader: - tensor    8:           blk.0.attn_norm.weight f32      [  4096,     1,     1,     1 ]\n",
      "llama_model_loader: - tensor    9:            blk.0.ffn_norm.weight f32      [  4096,     1,     1,     1 ]\n",
      "llama_model_loader: - tensor   10:              blk.1.attn_q.weight q4_1     [  4096,  4096,     1,     1 ]\n",
      "llama_model_loader: - tensor   11:              blk.1.attn_k.weight q4_1     [  4096,  4096,     1,     1 ]\n",
      "llama_model_loader: - tensor   12:              blk.1.attn_v.weight q4_1     [  4096,  4096,     1,     1 ]\n",
      "llama_model_loader: - tensor   13:         blk.1.attn_output.weight q4_1     [  4096,  4096,     1,     1 ]\n",
      "llama_model_loader: - tensor   14:            blk.1.ffn_gate.weight q4_1     [  4096, 11008,     1,     1 ]\n",
      "llama_model_loader: - tensor   15:            blk.1.ffn_down.weight q4_1     [ 11008,  4096,     1,     1 ]\n",
      "llama_model_loader: - tensor   16:              blk.1.ffn_up.weight q4_1     [  4096, 11008,     1,     1 ]\n",
      "llama_model_loader: - tensor   17:           blk.1.attn_norm.weight f32      [  4096,     1,     1,     1 ]\n",
      "llama_model_loader: - tensor   18:            blk.1.ffn_norm.weight f32      [  4096,     1,     1,     1 ]\n",
      "llama_model_loader: - tensor   19:              blk.2.attn_q.weight q4_1     [  4096,  4096,     1,     1 ]\n",
      "llama_model_loader: - tensor   20:              blk.2.attn_k.weight q4_1     [  4096,  4096,     1,     1 ]\n",
      "llama_model_loader: - tensor   21:              blk.2.attn_v.weight q4_1     [  4096,  4096,     1,     1 ]\n",
      "llama_model_loader: - tensor   22:         blk.2.attn_output.weight q4_1     [  4096,  4096,     1,     1 ]\n",
      "llama_model_loader: - tensor   23:            blk.2.ffn_gate.weight q4_1     [  4096, 11008,     1,     1 ]\n",
      "llama_model_loader: - tensor   24:            blk.2.ffn_down.weight q4_1     [ 11008,  4096,     1,     1 ]\n",
      "llama_model_loader: - tensor   25:              blk.2.ffn_up.weight q4_1     [  4096, 11008,     1,     1 ]\n",
      "llama_model_loader: - tensor   26:           blk.2.attn_norm.weight f32      [  4096,     1,     1,     1 ]\n",
      "llama_model_loader: - tensor   27:            blk.2.ffn_norm.weight f32      [  4096,     1,     1,     1 ]\n",
      "llama_model_loader: - tensor   28:              blk.3.attn_q.weight q4_1     [  4096,  4096,     1,     1 ]\n",
      "llama_model_loader: - tensor   29:              blk.3.attn_k.weight q4_1     [  4096,  4096,     1,     1 ]\n",
      "llama_model_loader: - tensor   30:              blk.3.attn_v.weight q4_1     [  4096,  4096,     1,     1 ]\n",
      "llama_model_loader: - tensor   31:         blk.3.attn_output.weight q4_1     [  4096,  4096,     1,     1 ]\n",
      "llama_model_loader: - tensor   32:            blk.3.ffn_gate.weight q4_1     [  4096, 11008,     1,     1 ]\n",
      "llama_model_loader: - tensor   33:            blk.3.ffn_down.weight q4_1     [ 11008,  4096,     1,     1 ]\n",
      "llama_model_loader: - tensor   34:              blk.3.ffn_up.weight q4_1     [  4096, 11008,     1,     1 ]\n",
      "llama_model_loader: - tensor   35:           blk.3.attn_norm.weight f32      [  4096,     1,     1,     1 ]\n",
      "llama_model_loader: - tensor   36:            blk.3.ffn_norm.weight f32      [  4096,     1,     1,     1 ]\n",
      "llama_model_loader: - tensor   37:              blk.4.attn_q.weight q4_1     [  4096,  4096,     1,     1 ]\n",
      "llama_model_loader: - tensor   38:              blk.4.attn_k.weight q4_1     [  4096,  4096,     1,     1 ]\n",
      "llama_model_loader: - tensor   39:              blk.4.attn_v.weight q4_1     [  4096,  4096,     1,     1 ]\n",
      "llama_model_loader: - tensor   40:         blk.4.attn_output.weight q4_1     [  4096,  4096,     1,     1 ]\n",
      "llama_model_loader: - tensor   41:            blk.4.ffn_gate.weight q4_1     [  4096, 11008,     1,     1 ]\n",
      "llama_model_loader: - tensor   42:            blk.4.ffn_down.weight q4_1     [ 11008,  4096,     1,     1 ]\n",
      "llama_model_loader: - tensor   43:              blk.4.ffn_up.weight q4_1     [  4096, 11008,     1,     1 ]\n",
      "llama_model_loader: - tensor   44:           blk.4.attn_norm.weight f32      [  4096,     1,     1,     1 ]\n",
      "llama_model_loader: - tensor   45:            blk.4.ffn_norm.weight f32      [  4096,     1,     1,     1 ]\n",
      "llama_model_loader: - tensor   46:              blk.5.attn_q.weight q4_1     [  4096,  4096,     1,     1 ]\n",
      "llama_model_loader: - tensor   47:              blk.5.attn_k.weight q4_1     [  4096,  4096,     1,     1 ]\n",
      "llama_model_loader: - tensor   48:              blk.5.attn_v.weight q4_1     [  4096,  4096,     1,     1 ]\n",
      "llama_model_loader: - tensor   49:         blk.5.attn_output.weight q4_1     [  4096,  4096,     1,     1 ]\n",
      "llama_model_loader: - tensor   50:            blk.5.ffn_gate.weight q4_1     [  4096, 11008,     1,     1 ]\n",
      "llama_model_loader: - tensor   51:            blk.5.ffn_down.weight q4_1     [ 11008,  4096,     1,     1 ]\n",
      "llama_model_loader: - tensor   52:              blk.5.ffn_up.weight q4_1     [  4096, 11008,     1,     1 ]\n",
      "llama_model_loader: - tensor   53:           blk.5.attn_norm.weight f32      [  4096,     1,     1,     1 ]\n",
      "llama_model_loader: - tensor   54:            blk.5.ffn_norm.weight f32      [  4096,     1,     1,     1 ]\n",
      "llama_model_loader: - tensor   55:              blk.6.attn_q.weight q4_1     [  4096,  4096,     1,     1 ]\n",
      "llama_model_loader: - tensor   56:              blk.6.attn_k.weight q4_1     [  4096,  4096,     1,     1 ]\n",
      "llama_model_loader: - tensor   57:              blk.6.attn_v.weight q4_1     [  4096,  4096,     1,     1 ]\n",
      "llama_model_loader: - tensor   58:         blk.6.attn_output.weight q4_1     [  4096,  4096,     1,     1 ]\n",
      "llama_model_loader: - tensor   59:            blk.6.ffn_gate.weight q4_1     [  4096, 11008,     1,     1 ]\n",
      "llama_model_loader: - tensor   60:            blk.6.ffn_down.weight q4_1     [ 11008,  4096,     1,     1 ]\n",
      "llama_model_loader: - tensor   61:              blk.6.ffn_up.weight q4_1     [  4096, 11008,     1,     1 ]\n",
      "llama_model_loader: - tensor   62:           blk.6.attn_norm.weight f32      [  4096,     1,     1,     1 ]\n",
      "llama_model_loader: - tensor   63:            blk.6.ffn_norm.weight f32      [  4096,     1,     1,     1 ]\n",
      "llama_model_loader: - tensor   64:              blk.7.attn_q.weight q4_1     [  4096,  4096,     1,     1 ]\n",
      "llama_model_loader: - tensor   65:              blk.7.attn_k.weight q4_1     [  4096,  4096,     1,     1 ]\n",
      "llama_model_loader: - tensor   66:              blk.7.attn_v.weight q4_1     [  4096,  4096,     1,     1 ]\n",
      "llama_model_loader: - tensor   67:         blk.7.attn_output.weight q4_1     [  4096,  4096,     1,     1 ]\n",
      "llama_model_loader: - tensor   68:            blk.7.ffn_gate.weight q4_1     [  4096, 11008,     1,     1 ]\n",
      "llama_model_loader: - tensor   69:            blk.7.ffn_down.weight q4_1     [ 11008,  4096,     1,     1 ]\n",
      "llama_model_loader: - tensor   70:              blk.7.ffn_up.weight q4_1     [  4096, 11008,     1,     1 ]\n",
      "llama_model_loader: - tensor   71:           blk.7.attn_norm.weight f32      [  4096,     1,     1,     1 ]\n",
      "llama_model_loader: - tensor   72:            blk.7.ffn_norm.weight f32      [  4096,     1,     1,     1 ]\n",
      "llama_model_loader: - tensor   73:              blk.8.attn_q.weight q4_1     [  4096,  4096,     1,     1 ]\n",
      "llama_model_loader: - tensor   74:              blk.8.attn_k.weight q4_1     [  4096,  4096,     1,     1 ]\n",
      "llama_model_loader: - tensor   75:              blk.8.attn_v.weight q4_1     [  4096,  4096,     1,     1 ]\n",
      "llama_model_loader: - tensor   76:         blk.8.attn_output.weight q4_1     [  4096,  4096,     1,     1 ]\n",
      "llama_model_loader: - tensor   77:            blk.8.ffn_gate.weight q4_1     [  4096, 11008,     1,     1 ]\n",
      "llama_model_loader: - tensor   78:            blk.8.ffn_down.weight q4_1     [ 11008,  4096,     1,     1 ]\n",
      "llama_model_loader: - tensor   79:              blk.8.ffn_up.weight q4_1     [  4096, 11008,     1,     1 ]\n",
      "llama_model_loader: - tensor   80:           blk.8.attn_norm.weight f32      [  4096,     1,     1,     1 ]\n",
      "llama_model_loader: - tensor   81:            blk.8.ffn_norm.weight f32      [  4096,     1,     1,     1 ]\n",
      "llama_model_loader: - tensor   82:              blk.9.attn_q.weight q4_1     [  4096,  4096,     1,     1 ]\n",
      "llama_model_loader: - tensor   83:              blk.9.attn_k.weight q4_1     [  4096,  4096,     1,     1 ]\n",
      "llama_model_loader: - tensor   84:              blk.9.attn_v.weight q4_1     [  4096,  4096,     1,     1 ]\n",
      "llama_model_loader: - tensor   85:         blk.9.attn_output.weight q4_1     [  4096,  4096,     1,     1 ]\n",
      "llama_model_loader: - tensor   86:            blk.9.ffn_gate.weight q4_1     [  4096, 11008,     1,     1 ]\n",
      "llama_model_loader: - tensor   87:            blk.9.ffn_down.weight q4_1     [ 11008,  4096,     1,     1 ]\n",
      "llama_model_loader: - tensor   88:              blk.9.ffn_up.weight q4_1     [  4096, 11008,     1,     1 ]\n",
      "llama_model_loader: - tensor   89:           blk.9.attn_norm.weight f32      [  4096,     1,     1,     1 ]\n",
      "llama_model_loader: - tensor   90:            blk.9.ffn_norm.weight f32      [  4096,     1,     1,     1 ]\n",
      "llama_model_loader: - tensor   91:             blk.10.attn_q.weight q4_1     [  4096,  4096,     1,     1 ]\n",
      "llama_model_loader: - tensor   92:             blk.10.attn_k.weight q4_1     [  4096,  4096,     1,     1 ]\n",
      "llama_model_loader: - tensor   93:             blk.10.attn_v.weight q4_1     [  4096,  4096,     1,     1 ]\n",
      "llama_model_loader: - tensor   94:        blk.10.attn_output.weight q4_1     [  4096,  4096,     1,     1 ]\n",
      "llama_model_loader: - tensor   95:           blk.10.ffn_gate.weight q4_1     [  4096, 11008,     1,     1 ]\n",
      "llama_model_loader: - tensor   96:           blk.10.ffn_down.weight q4_1     [ 11008,  4096,     1,     1 ]\n",
      "llama_model_loader: - tensor   97:             blk.10.ffn_up.weight q4_1     [  4096, 11008,     1,     1 ]\n",
      "llama_model_loader: - tensor   98:          blk.10.attn_norm.weight f32      [  4096,     1,     1,     1 ]\n",
      "llama_model_loader: - tensor   99:           blk.10.ffn_norm.weight f32      [  4096,     1,     1,     1 ]\n",
      "llama_model_loader: - tensor  100:             blk.11.attn_q.weight q4_1     [  4096,  4096,     1,     1 ]\n",
      "llama_model_loader: - tensor  101:             blk.11.attn_k.weight q4_1     [  4096,  4096,     1,     1 ]\n",
      "llama_model_loader: - tensor  102:             blk.11.attn_v.weight q4_1     [  4096,  4096,     1,     1 ]\n",
      "llama_model_loader: - tensor  103:        blk.11.attn_output.weight q4_1     [  4096,  4096,     1,     1 ]\n",
      "llama_model_loader: - tensor  104:           blk.11.ffn_gate.weight q4_1     [  4096, 11008,     1,     1 ]\n",
      "llama_model_loader: - tensor  105:           blk.11.ffn_down.weight q4_1     [ 11008,  4096,     1,     1 ]\n",
      "llama_model_loader: - tensor  106:             blk.11.ffn_up.weight q4_1     [  4096, 11008,     1,     1 ]\n",
      "llama_model_loader: - tensor  107:          blk.11.attn_norm.weight f32      [  4096,     1,     1,     1 ]\n",
      "llama_model_loader: - tensor  108:           blk.11.ffn_norm.weight f32      [  4096,     1,     1,     1 ]\n",
      "llama_model_loader: - tensor  109:             blk.12.attn_q.weight q4_1     [  4096,  4096,     1,     1 ]\n",
      "llama_model_loader: - tensor  110:             blk.12.attn_k.weight q4_1     [  4096,  4096,     1,     1 ]\n",
      "llama_model_loader: - tensor  111:             blk.12.attn_v.weight q4_1     [  4096,  4096,     1,     1 ]\n",
      "llama_model_loader: - tensor  112:        blk.12.attn_output.weight q4_1     [  4096,  4096,     1,     1 ]\n",
      "llama_model_loader: - tensor  113:           blk.12.ffn_gate.weight q4_1     [  4096, 11008,     1,     1 ]\n",
      "llama_model_loader: - tensor  114:           blk.12.ffn_down.weight q4_1     [ 11008,  4096,     1,     1 ]\n",
      "llama_model_loader: - tensor  115:             blk.12.ffn_up.weight q4_1     [  4096, 11008,     1,     1 ]\n",
      "llama_model_loader: - tensor  116:          blk.12.attn_norm.weight f32      [  4096,     1,     1,     1 ]\n",
      "llama_model_loader: - tensor  117:           blk.12.ffn_norm.weight f32      [  4096,     1,     1,     1 ]\n",
      "llama_model_loader: - tensor  118:             blk.13.attn_q.weight q4_1     [  4096,  4096,     1,     1 ]\n",
      "llama_model_loader: - tensor  119:             blk.13.attn_k.weight q4_1     [  4096,  4096,     1,     1 ]\n",
      "llama_model_loader: - tensor  120:             blk.13.attn_v.weight q4_1     [  4096,  4096,     1,     1 ]\n",
      "llama_model_loader: - tensor  121:        blk.13.attn_output.weight q4_1     [  4096,  4096,     1,     1 ]\n",
      "llama_model_loader: - tensor  122:           blk.13.ffn_gate.weight q4_1     [  4096, 11008,     1,     1 ]\n",
      "llama_model_loader: - tensor  123:           blk.13.ffn_down.weight q4_1     [ 11008,  4096,     1,     1 ]\n",
      "llama_model_loader: - tensor  124:             blk.13.ffn_up.weight q4_1     [  4096, 11008,     1,     1 ]\n",
      "llama_model_loader: - tensor  125:          blk.13.attn_norm.weight f32      [  4096,     1,     1,     1 ]\n",
      "llama_model_loader: - tensor  126:           blk.13.ffn_norm.weight f32      [  4096,     1,     1,     1 ]\n",
      "llama_model_loader: - tensor  127:             blk.14.attn_q.weight q4_1     [  4096,  4096,     1,     1 ]\n",
      "llama_model_loader: - tensor  128:             blk.14.attn_k.weight q4_1     [  4096,  4096,     1,     1 ]\n",
      "llama_model_loader: - tensor  129:             blk.14.attn_v.weight q4_1     [  4096,  4096,     1,     1 ]\n",
      "llama_model_loader: - tensor  130:        blk.14.attn_output.weight q4_1     [  4096,  4096,     1,     1 ]\n",
      "llama_model_loader: - tensor  131:           blk.14.ffn_gate.weight q4_1     [  4096, 11008,     1,     1 ]\n",
      "llama_model_loader: - tensor  132:           blk.14.ffn_down.weight q4_1     [ 11008,  4096,     1,     1 ]\n",
      "llama_model_loader: - tensor  133:             blk.14.ffn_up.weight q4_1     [  4096, 11008,     1,     1 ]\n",
      "llama_model_loader: - tensor  134:          blk.14.attn_norm.weight f32      [  4096,     1,     1,     1 ]\n",
      "llama_model_loader: - tensor  135:           blk.14.ffn_norm.weight f32      [  4096,     1,     1,     1 ]\n",
      "llama_model_loader: - tensor  136:             blk.15.attn_q.weight q4_1     [  4096,  4096,     1,     1 ]\n",
      "llama_model_loader: - tensor  137:             blk.15.attn_k.weight q4_1     [  4096,  4096,     1,     1 ]\n",
      "llama_model_loader: - tensor  138:             blk.15.attn_v.weight q4_1     [  4096,  4096,     1,     1 ]\n",
      "llama_model_loader: - tensor  139:        blk.15.attn_output.weight q4_1     [  4096,  4096,     1,     1 ]\n",
      "llama_model_loader: - tensor  140:           blk.15.ffn_gate.weight q4_1     [  4096, 11008,     1,     1 ]\n",
      "llama_model_loader: - tensor  141:           blk.15.ffn_down.weight q4_1     [ 11008,  4096,     1,     1 ]\n",
      "llama_model_loader: - tensor  142:             blk.15.ffn_up.weight q4_1     [  4096, 11008,     1,     1 ]\n",
      "llama_model_loader: - tensor  143:          blk.15.attn_norm.weight f32      [  4096,     1,     1,     1 ]\n",
      "llama_model_loader: - tensor  144:           blk.15.ffn_norm.weight f32      [  4096,     1,     1,     1 ]\n",
      "llama_model_loader: - tensor  145:             blk.16.attn_q.weight q4_1     [  4096,  4096,     1,     1 ]\n",
      "llama_model_loader: - tensor  146:             blk.16.attn_k.weight q4_1     [  4096,  4096,     1,     1 ]\n",
      "llama_model_loader: - tensor  147:             blk.16.attn_v.weight q4_1     [  4096,  4096,     1,     1 ]\n",
      "llama_model_loader: - tensor  148:        blk.16.attn_output.weight q4_1     [  4096,  4096,     1,     1 ]\n",
      "llama_model_loader: - tensor  149:           blk.16.ffn_gate.weight q4_1     [  4096, 11008,     1,     1 ]\n",
      "llama_model_loader: - tensor  150:           blk.16.ffn_down.weight q4_1     [ 11008,  4096,     1,     1 ]\n",
      "llama_model_loader: - tensor  151:             blk.16.ffn_up.weight q4_1     [  4096, 11008,     1,     1 ]\n",
      "llama_model_loader: - tensor  152:          blk.16.attn_norm.weight f32      [  4096,     1,     1,     1 ]\n",
      "llama_model_loader: - tensor  153:           blk.16.ffn_norm.weight f32      [  4096,     1,     1,     1 ]\n",
      "llama_model_loader: - tensor  154:             blk.17.attn_q.weight q4_1     [  4096,  4096,     1,     1 ]\n",
      "llama_model_loader: - tensor  155:             blk.17.attn_k.weight q4_1     [  4096,  4096,     1,     1 ]\n",
      "llama_model_loader: - tensor  156:             blk.17.attn_v.weight q4_1     [  4096,  4096,     1,     1 ]\n",
      "llama_model_loader: - tensor  157:        blk.17.attn_output.weight q4_1     [  4096,  4096,     1,     1 ]\n",
      "llama_model_loader: - tensor  158:           blk.17.ffn_gate.weight q4_1     [  4096, 11008,     1,     1 ]\n",
      "llama_model_loader: - tensor  159:           blk.17.ffn_down.weight q4_1     [ 11008,  4096,     1,     1 ]\n",
      "llama_model_loader: - tensor  160:             blk.17.ffn_up.weight q4_1     [  4096, 11008,     1,     1 ]\n",
      "llama_model_loader: - tensor  161:          blk.17.attn_norm.weight f32      [  4096,     1,     1,     1 ]\n",
      "llama_model_loader: - tensor  162:           blk.17.ffn_norm.weight f32      [  4096,     1,     1,     1 ]\n",
      "llama_model_loader: - tensor  163:             blk.18.attn_q.weight q4_1     [  4096,  4096,     1,     1 ]\n",
      "llama_model_loader: - tensor  164:             blk.18.attn_k.weight q4_1     [  4096,  4096,     1,     1 ]\n",
      "llama_model_loader: - tensor  165:             blk.18.attn_v.weight q4_1     [  4096,  4096,     1,     1 ]\n",
      "llama_model_loader: - tensor  166:        blk.18.attn_output.weight q4_1     [  4096,  4096,     1,     1 ]\n",
      "llama_model_loader: - tensor  167:           blk.18.ffn_gate.weight q4_1     [  4096, 11008,     1,     1 ]\n",
      "llama_model_loader: - tensor  168:           blk.18.ffn_down.weight q4_1     [ 11008,  4096,     1,     1 ]\n",
      "llama_model_loader: - tensor  169:             blk.18.ffn_up.weight q4_1     [  4096, 11008,     1,     1 ]\n",
      "llama_model_loader: - tensor  170:          blk.18.attn_norm.weight f32      [  4096,     1,     1,     1 ]\n",
      "llama_model_loader: - tensor  171:           blk.18.ffn_norm.weight f32      [  4096,     1,     1,     1 ]\n",
      "llama_model_loader: - tensor  172:             blk.19.attn_q.weight q4_1     [  4096,  4096,     1,     1 ]\n",
      "llama_model_loader: - tensor  173:             blk.19.attn_k.weight q4_1     [  4096,  4096,     1,     1 ]\n",
      "llama_model_loader: - tensor  174:             blk.19.attn_v.weight q4_1     [  4096,  4096,     1,     1 ]\n",
      "llama_model_loader: - tensor  175:        blk.19.attn_output.weight q4_1     [  4096,  4096,     1,     1 ]\n",
      "llama_model_loader: - tensor  176:           blk.19.ffn_gate.weight q4_1     [  4096, 11008,     1,     1 ]\n",
      "llama_model_loader: - tensor  177:           blk.19.ffn_down.weight q4_1     [ 11008,  4096,     1,     1 ]\n",
      "llama_model_loader: - tensor  178:             blk.19.ffn_up.weight q4_1     [  4096, 11008,     1,     1 ]\n",
      "llama_model_loader: - tensor  179:          blk.19.attn_norm.weight f32      [  4096,     1,     1,     1 ]\n",
      "llama_model_loader: - tensor  180:           blk.19.ffn_norm.weight f32      [  4096,     1,     1,     1 ]\n",
      "llama_model_loader: - tensor  181:             blk.20.attn_q.weight q4_1     [  4096,  4096,     1,     1 ]\n",
      "llama_model_loader: - tensor  182:             blk.20.attn_k.weight q4_1     [  4096,  4096,     1,     1 ]\n",
      "llama_model_loader: - tensor  183:             blk.20.attn_v.weight q4_1     [  4096,  4096,     1,     1 ]\n",
      "llama_model_loader: - tensor  184:        blk.20.attn_output.weight q4_1     [  4096,  4096,     1,     1 ]\n",
      "llama_model_loader: - tensor  185:           blk.20.ffn_gate.weight q4_1     [  4096, 11008,     1,     1 ]\n",
      "llama_model_loader: - tensor  186:           blk.20.ffn_down.weight q4_1     [ 11008,  4096,     1,     1 ]\n",
      "llama_model_loader: - tensor  187:             blk.20.ffn_up.weight q4_1     [  4096, 11008,     1,     1 ]\n",
      "llama_model_loader: - tensor  188:          blk.20.attn_norm.weight f32      [  4096,     1,     1,     1 ]\n",
      "llama_model_loader: - tensor  189:           blk.20.ffn_norm.weight f32      [  4096,     1,     1,     1 ]\n",
      "llama_model_loader: - tensor  190:             blk.21.attn_q.weight q4_1     [  4096,  4096,     1,     1 ]\n",
      "llama_model_loader: - tensor  191:             blk.21.attn_k.weight q4_1     [  4096,  4096,     1,     1 ]\n",
      "llama_model_loader: - tensor  192:             blk.21.attn_v.weight q4_1     [  4096,  4096,     1,     1 ]\n",
      "llama_model_loader: - tensor  193:        blk.21.attn_output.weight q4_1     [  4096,  4096,     1,     1 ]\n",
      "llama_model_loader: - tensor  194:           blk.21.ffn_gate.weight q4_1     [  4096, 11008,     1,     1 ]\n",
      "llama_model_loader: - tensor  195:           blk.21.ffn_down.weight q4_1     [ 11008,  4096,     1,     1 ]\n",
      "llama_model_loader: - tensor  196:             blk.21.ffn_up.weight q4_1     [  4096, 11008,     1,     1 ]\n",
      "llama_model_loader: - tensor  197:          blk.21.attn_norm.weight f32      [  4096,     1,     1,     1 ]\n",
      "llama_model_loader: - tensor  198:           blk.21.ffn_norm.weight f32      [  4096,     1,     1,     1 ]\n",
      "llama_model_loader: - tensor  199:             blk.22.attn_q.weight q4_1     [  4096,  4096,     1,     1 ]\n",
      "llama_model_loader: - tensor  200:             blk.22.attn_k.weight q4_1     [  4096,  4096,     1,     1 ]\n",
      "llama_model_loader: - tensor  201:             blk.22.attn_v.weight q4_1     [  4096,  4096,     1,     1 ]\n",
      "llama_model_loader: - tensor  202:        blk.22.attn_output.weight q4_1     [  4096,  4096,     1,     1 ]\n",
      "llama_model_loader: - tensor  203:           blk.22.ffn_gate.weight q4_1     [  4096, 11008,     1,     1 ]\n",
      "llama_model_loader: - tensor  204:           blk.22.ffn_down.weight q4_1     [ 11008,  4096,     1,     1 ]\n",
      "llama_model_loader: - tensor  205:             blk.22.ffn_up.weight q4_1     [  4096, 11008,     1,     1 ]\n",
      "llama_model_loader: - tensor  206:          blk.22.attn_norm.weight f32      [  4096,     1,     1,     1 ]\n",
      "llama_model_loader: - tensor  207:           blk.22.ffn_norm.weight f32      [  4096,     1,     1,     1 ]\n",
      "llama_model_loader: - tensor  208:             blk.23.attn_q.weight q4_1     [  4096,  4096,     1,     1 ]\n",
      "llama_model_loader: - tensor  209:             blk.23.attn_k.weight q4_1     [  4096,  4096,     1,     1 ]\n",
      "llama_model_loader: - tensor  210:             blk.23.attn_v.weight q4_1     [  4096,  4096,     1,     1 ]\n",
      "llama_model_loader: - tensor  211:        blk.23.attn_output.weight q4_1     [  4096,  4096,     1,     1 ]\n",
      "llama_model_loader: - tensor  212:           blk.23.ffn_gate.weight q4_1     [  4096, 11008,     1,     1 ]\n",
      "llama_model_loader: - tensor  213:           blk.23.ffn_down.weight q4_1     [ 11008,  4096,     1,     1 ]\n",
      "llama_model_loader: - tensor  214:             blk.23.ffn_up.weight q4_1     [  4096, 11008,     1,     1 ]\n",
      "llama_model_loader: - tensor  215:          blk.23.attn_norm.weight f32      [  4096,     1,     1,     1 ]\n",
      "llama_model_loader: - tensor  216:           blk.23.ffn_norm.weight f32      [  4096,     1,     1,     1 ]\n",
      "llama_model_loader: - tensor  217:             blk.24.attn_q.weight q4_1     [  4096,  4096,     1,     1 ]\n",
      "llama_model_loader: - tensor  218:             blk.24.attn_k.weight q4_1     [  4096,  4096,     1,     1 ]\n",
      "llama_model_loader: - tensor  219:             blk.24.attn_v.weight q4_1     [  4096,  4096,     1,     1 ]\n",
      "llama_model_loader: - tensor  220:        blk.24.attn_output.weight q4_1     [  4096,  4096,     1,     1 ]\n",
      "llama_model_loader: - tensor  221:           blk.24.ffn_gate.weight q4_1     [  4096, 11008,     1,     1 ]\n",
      "llama_model_loader: - tensor  222:           blk.24.ffn_down.weight q4_1     [ 11008,  4096,     1,     1 ]\n",
      "llama_model_loader: - tensor  223:             blk.24.ffn_up.weight q4_1     [  4096, 11008,     1,     1 ]\n",
      "llama_model_loader: - tensor  224:          blk.24.attn_norm.weight f32      [  4096,     1,     1,     1 ]\n",
      "llama_model_loader: - tensor  225:           blk.24.ffn_norm.weight f32      [  4096,     1,     1,     1 ]\n",
      "llama_model_loader: - tensor  226:             blk.25.attn_q.weight q4_1     [  4096,  4096,     1,     1 ]\n",
      "llama_model_loader: - tensor  227:             blk.25.attn_k.weight q4_1     [  4096,  4096,     1,     1 ]\n",
      "llama_model_loader: - tensor  228:             blk.25.attn_v.weight q4_1     [  4096,  4096,     1,     1 ]\n",
      "llama_model_loader: - tensor  229:        blk.25.attn_output.weight q4_1     [  4096,  4096,     1,     1 ]\n",
      "llama_model_loader: - tensor  230:           blk.25.ffn_gate.weight q4_1     [  4096, 11008,     1,     1 ]\n",
      "llama_model_loader: - tensor  231:           blk.25.ffn_down.weight q4_1     [ 11008,  4096,     1,     1 ]\n",
      "llama_model_loader: - tensor  232:             blk.25.ffn_up.weight q4_1     [  4096, 11008,     1,     1 ]\n",
      "llama_model_loader: - tensor  233:          blk.25.attn_norm.weight f32      [  4096,     1,     1,     1 ]\n",
      "llama_model_loader: - tensor  234:           blk.25.ffn_norm.weight f32      [  4096,     1,     1,     1 ]\n",
      "llama_model_loader: - tensor  235:             blk.26.attn_q.weight q4_1     [  4096,  4096,     1,     1 ]\n",
      "llama_model_loader: - tensor  236:             blk.26.attn_k.weight q4_1     [  4096,  4096,     1,     1 ]\n",
      "llama_model_loader: - tensor  237:             blk.26.attn_v.weight q4_1     [  4096,  4096,     1,     1 ]\n",
      "llama_model_loader: - tensor  238:        blk.26.attn_output.weight q4_1     [  4096,  4096,     1,     1 ]\n",
      "llama_model_loader: - tensor  239:           blk.26.ffn_gate.weight q4_1     [  4096, 11008,     1,     1 ]\n",
      "llama_model_loader: - tensor  240:           blk.26.ffn_down.weight q4_1     [ 11008,  4096,     1,     1 ]\n",
      "llama_model_loader: - tensor  241:             blk.26.ffn_up.weight q4_1     [  4096, 11008,     1,     1 ]\n",
      "llama_model_loader: - tensor  242:          blk.26.attn_norm.weight f32      [  4096,     1,     1,     1 ]\n",
      "llama_model_loader: - tensor  243:           blk.26.ffn_norm.weight f32      [  4096,     1,     1,     1 ]\n",
      "llama_model_loader: - tensor  244:             blk.27.attn_q.weight q4_1     [  4096,  4096,     1,     1 ]\n",
      "llama_model_loader: - tensor  245:             blk.27.attn_k.weight q4_1     [  4096,  4096,     1,     1 ]\n",
      "llama_model_loader: - tensor  246:             blk.27.attn_v.weight q4_1     [  4096,  4096,     1,     1 ]\n",
      "llama_model_loader: - tensor  247:        blk.27.attn_output.weight q4_1     [  4096,  4096,     1,     1 ]\n",
      "llama_model_loader: - tensor  248:           blk.27.ffn_gate.weight q4_1     [  4096, 11008,     1,     1 ]\n",
      "llama_model_loader: - tensor  249:           blk.27.ffn_down.weight q4_1     [ 11008,  4096,     1,     1 ]\n",
      "llama_model_loader: - tensor  250:             blk.27.ffn_up.weight q4_1     [  4096, 11008,     1,     1 ]\n",
      "llama_model_loader: - tensor  251:          blk.27.attn_norm.weight f32      [  4096,     1,     1,     1 ]\n",
      "llama_model_loader: - tensor  252:           blk.27.ffn_norm.weight f32      [  4096,     1,     1,     1 ]\n",
      "llama_model_loader: - tensor  253:             blk.28.attn_q.weight q4_1     [  4096,  4096,     1,     1 ]\n",
      "llama_model_loader: - tensor  254:             blk.28.attn_k.weight q4_1     [  4096,  4096,     1,     1 ]\n",
      "llama_model_loader: - tensor  255:             blk.28.attn_v.weight q4_1     [  4096,  4096,     1,     1 ]\n",
      "llama_model_loader: - tensor  256:        blk.28.attn_output.weight q4_1     [  4096,  4096,     1,     1 ]\n",
      "llama_model_loader: - tensor  257:           blk.28.ffn_gate.weight q4_1     [  4096, 11008,     1,     1 ]\n",
      "llama_model_loader: - tensor  258:           blk.28.ffn_down.weight q4_1     [ 11008,  4096,     1,     1 ]\n",
      "llama_model_loader: - tensor  259:             blk.28.ffn_up.weight q4_1     [  4096, 11008,     1,     1 ]\n",
      "llama_model_loader: - tensor  260:          blk.28.attn_norm.weight f32      [  4096,     1,     1,     1 ]\n",
      "llama_model_loader: - tensor  261:           blk.28.ffn_norm.weight f32      [  4096,     1,     1,     1 ]\n",
      "llama_model_loader: - tensor  262:             blk.29.attn_q.weight q4_1     [  4096,  4096,     1,     1 ]\n",
      "llama_model_loader: - tensor  263:             blk.29.attn_k.weight q4_1     [  4096,  4096,     1,     1 ]\n",
      "llama_model_loader: - tensor  264:             blk.29.attn_v.weight q4_1     [  4096,  4096,     1,     1 ]\n",
      "llama_model_loader: - tensor  265:        blk.29.attn_output.weight q4_1     [  4096,  4096,     1,     1 ]\n",
      "llama_model_loader: - tensor  266:           blk.29.ffn_gate.weight q4_1     [  4096, 11008,     1,     1 ]\n",
      "llama_model_loader: - tensor  267:           blk.29.ffn_down.weight q4_1     [ 11008,  4096,     1,     1 ]\n",
      "llama_model_loader: - tensor  268:             blk.29.ffn_up.weight q4_1     [  4096, 11008,     1,     1 ]\n",
      "llama_model_loader: - tensor  269:          blk.29.attn_norm.weight f32      [  4096,     1,     1,     1 ]\n",
      "llama_model_loader: - tensor  270:           blk.29.ffn_norm.weight f32      [  4096,     1,     1,     1 ]\n",
      "llama_model_loader: - tensor  271:             blk.30.attn_q.weight q4_1     [  4096,  4096,     1,     1 ]\n",
      "llama_model_loader: - tensor  272:             blk.30.attn_k.weight q4_1     [  4096,  4096,     1,     1 ]\n",
      "llama_model_loader: - tensor  273:             blk.30.attn_v.weight q4_1     [  4096,  4096,     1,     1 ]\n",
      "llama_model_loader: - tensor  274:        blk.30.attn_output.weight q4_1     [  4096,  4096,     1,     1 ]\n",
      "llama_model_loader: - tensor  275:           blk.30.ffn_gate.weight q4_1     [  4096, 11008,     1,     1 ]\n",
      "llama_model_loader: - tensor  276:           blk.30.ffn_down.weight q4_1     [ 11008,  4096,     1,     1 ]\n",
      "llama_model_loader: - tensor  277:             blk.30.ffn_up.weight q4_1     [  4096, 11008,     1,     1 ]\n",
      "llama_model_loader: - tensor  278:          blk.30.attn_norm.weight f32      [  4096,     1,     1,     1 ]\n",
      "llama_model_loader: - tensor  279:           blk.30.ffn_norm.weight f32      [  4096,     1,     1,     1 ]\n",
      "llama_model_loader: - tensor  280:             blk.31.attn_q.weight q4_1     [  4096,  4096,     1,     1 ]\n",
      "llama_model_loader: - tensor  281:             blk.31.attn_k.weight q4_1     [  4096,  4096,     1,     1 ]\n",
      "llama_model_loader: - tensor  282:             blk.31.attn_v.weight q4_1     [  4096,  4096,     1,     1 ]\n",
      "llama_model_loader: - tensor  283:        blk.31.attn_output.weight q4_1     [  4096,  4096,     1,     1 ]\n",
      "llama_model_loader: - tensor  284:           blk.31.ffn_gate.weight q4_1     [  4096, 11008,     1,     1 ]\n",
      "llama_model_loader: - tensor  285:           blk.31.ffn_down.weight q4_1     [ 11008,  4096,     1,     1 ]\n",
      "llama_model_loader: - tensor  286:             blk.31.ffn_up.weight q4_1     [  4096, 11008,     1,     1 ]\n",
      "llama_model_loader: - tensor  287:          blk.31.attn_norm.weight f32      [  4096,     1,     1,     1 ]\n",
      "llama_model_loader: - tensor  288:           blk.31.ffn_norm.weight f32      [  4096,     1,     1,     1 ]\n",
      "llama_model_loader: - tensor  289:               output_norm.weight f32      [  4096,     1,     1,     1 ]\n",
      "llama_model_loader: - tensor  290:                    output.weight q6_K     [  4096, 32000,     1,     1 ]\n",
      "llama_model_loader: Dumping metadata keys/values. Note: KV overrides do not apply in this output.\n",
      "llama_model_loader: - kv   0:                       general.architecture str              = llama\n",
      "llama_model_loader: - kv   1:                               general.name str              = .\n",
      "llama_model_loader: - kv   2:                       llama.context_length u32              = 2048\n",
      "llama_model_loader: - kv   3:                     llama.embedding_length u32              = 4096\n",
      "llama_model_loader: - kv   4:                          llama.block_count u32              = 32\n",
      "llama_model_loader: - kv   5:                  llama.feed_forward_length u32              = 11008\n",
      "llama_model_loader: - kv   6:                 llama.rope.dimension_count u32              = 128\n",
      "llama_model_loader: - kv   7:                 llama.attention.head_count u32              = 32\n",
      "llama_model_loader: - kv   8:              llama.attention.head_count_kv u32              = 32\n",
      "llama_model_loader: - kv   9:     llama.attention.layer_norm_rms_epsilon f32              = 0.000001\n",
      "llama_model_loader: - kv  10:                          general.file_type u32              = 3\n",
      "llama_model_loader: - kv  11:                       tokenizer.ggml.model str              = llama\n",
      "llama_model_loader: - kv  12:                      tokenizer.ggml.tokens arr[str,32000]   = [\"<unk>\", \"<s>\", \"</s>\", \"<0x00>\", \"<...\n",
      "llama_model_loader: - kv  13:                      tokenizer.ggml.scores arr[f32,32000]   = [0.000000, 0.000000, 0.000000, 0.0000...\n",
      "llama_model_loader: - kv  14:                  tokenizer.ggml.token_type arr[i32,32000]   = [2, 3, 3, 6, 6, 6, 6, 6, 6, 6, 6, 6, ...\n",
      "llama_model_loader: - kv  15:                tokenizer.ggml.bos_token_id u32              = 1\n",
      "llama_model_loader: - kv  16:                tokenizer.ggml.eos_token_id u32              = 2\n",
      "llama_model_loader: - kv  17:            tokenizer.ggml.padding_token_id u32              = 0\n",
      "llama_model_loader: - kv  18:               tokenizer.ggml.add_bos_token bool             = true\n",
      "llama_model_loader: - kv  19:               tokenizer.ggml.add_eos_token bool             = false\n",
      "llama_model_loader: - kv  20:               general.quantization_version u32              = 2\n",
      "llama_model_loader: - type  f32:   65 tensors\n",
      "llama_model_loader: - type q4_1:  225 tensors\n",
      "llama_model_loader: - type q6_K:    1 tensors\n",
      "llm_load_vocab: special tokens definition check successful ( 259/32000 ).\n",
      "llm_load_print_meta: format           = GGUF V3 (latest)\n",
      "llm_load_print_meta: arch             = llama\n",
      "llm_load_print_meta: vocab type       = SPM\n",
      "llm_load_print_meta: n_vocab          = 32000\n",
      "llm_load_print_meta: n_merges         = 0\n",
      "llm_load_print_meta: n_ctx_train      = 2048\n",
      "llm_load_print_meta: n_embd           = 4096\n",
      "llm_load_print_meta: n_head           = 32\n",
      "llm_load_print_meta: n_head_kv        = 32\n",
      "llm_load_print_meta: n_layer          = 32\n",
      "llm_load_print_meta: n_rot            = 128\n",
      "llm_load_print_meta: n_gqa            = 1\n",
      "llm_load_print_meta: f_norm_eps       = 0.0e+00\n",
      "llm_load_print_meta: f_norm_rms_eps   = 1.0e-06\n",
      "llm_load_print_meta: f_clamp_kqv      = 0.0e+00\n",
      "llm_load_print_meta: f_max_alibi_bias = 0.0e+00\n",
      "llm_load_print_meta: n_ff             = 11008\n",
      "llm_load_print_meta: n_expert         = 0\n",
      "llm_load_print_meta: n_expert_used    = 0\n",
      "llm_load_print_meta: rope scaling     = linear\n",
      "llm_load_print_meta: freq_base_train  = 10000.0\n",
      "llm_load_print_meta: freq_scale_train = 1\n",
      "llm_load_print_meta: n_yarn_orig_ctx  = 2048\n",
      "llm_load_print_meta: rope_finetuned   = unknown\n",
      "llm_load_print_meta: model type       = 7B\n",
      "llm_load_print_meta: model ftype      = mostly Q4_1\n",
      "llm_load_print_meta: model params     = 6.74 B\n",
      "llm_load_print_meta: model size       = 3.95 GiB (5.03 BPW) \n",
      "llm_load_print_meta: general.name     = .\n",
      "llm_load_print_meta: BOS token        = 1 '<s>'\n",
      "llm_load_print_meta: EOS token        = 2 '</s>'\n",
      "llm_load_print_meta: UNK token        = 0 '<unk>'\n",
      "llm_load_print_meta: PAD token        = 0 '<unk>'\n",
      "llm_load_print_meta: LF token         = 13 '<0x0A>'\n",
      "llm_load_tensors: ggml ctx size =    0.12 MiB\n",
      "llm_load_tensors: mem required  = 4041.80 MiB\n",
      "..................................................................................................\n",
      "llama_new_context_with_model: n_ctx      = 512\n",
      "llama_new_context_with_model: freq_base  = 10000.0\n",
      "llama_new_context_with_model: freq_scale = 1\n",
      "llama_new_context_with_model: KV self size  =  256.00 MiB, K (f16):  128.00 MiB, V (f16):  128.00 MiB\n",
      "llama_build_graph: non-view tensors processed: 676/676\n",
      "ggml_metal_init: allocating\n",
      "ggml_metal_init: found device: Apple M1\n",
      "ggml_metal_init: picking default device: Apple M1\n",
      "ggml_metal_init: default.metallib not found, loading from source\n",
      "ggml_metal_init: GGML_METAL_PATH_RESOURCES = nil\n",
      "ggml_metal_init: loading '/Users/scarlettkynoch/Documents/Projects/privfp-experiments/.venv/lib/python3.11/site-packages/llama_cpp/ggml-metal.metal'\n",
      "ggml_metal_init: GPU name:   Apple M1\n",
      "ggml_metal_init: GPU family: MTLGPUFamilyApple7 (1007)\n",
      "ggml_metal_init: hasUnifiedMemory              = true\n",
      "ggml_metal_init: recommendedMaxWorkingSetSize  = 11453.25 MB\n",
      "ggml_metal_init: maxTransferRate               = built-in GPU\n",
      "llama_new_context_with_model: compute buffer total size = 73.82 MiB\n",
      "llama_new_context_with_model: max tensor size =   102.54 MiB\n",
      "ggml_metal_add_buffer: allocated 'data            ' buffer, size =  4042.39 MiB, ( 4044.02 / 10922.67)\n",
      "ggml_metal_add_buffer: allocated 'kv              ' buffer, size =   256.03 MiB, ( 4300.05 / 10922.67)\n",
      "ggml_metal_add_buffer: allocated 'alloc           ' buffer, size =    70.52 MiB, ( 4370.56 / 10922.67)\n",
      "AVX = 0 | AVX2 = 0 | AVX512 = 0 | AVX512_VBMI = 0 | AVX512_VNNI = 0 | FMA = 0 | NEON = 1 | ARM_FMA = 1 | F16C = 0 | FP16_VA = 1 | WASM_SIMD = 0 | BLAS = 1 | SSE3 = 0 | SSSE3 = 0 | VSX = 0 | \n",
      "/Users/scarlettkynoch/Documents/Projects/privfp-experiments/.venv/lib/python3.11/site-packages/langchain_core/_api/deprecation.py:117: LangChainDeprecationWarning: The function `__call__` was deprecated in LangChain 0.1.7 and will be removed in 0.2.0. Use invoke instead.\n",
      "  warn_deprecated(\n"
     ]
    },
    {
     "name": "stdout",
     "output_type": "stream",
     "text": [
      " [\"Heike Bernier\"]"
     ]
    },
    {
     "name": "stderr",
     "output_type": "stream",
     "text": [
      "\n",
      "llama_print_timings:        load time =   10070.69 ms\n",
      "llama_print_timings:      sample time =       0.78 ms /     7 runs   (    0.11 ms per token,  8939.97 tokens per second)\n",
      "llama_print_timings: prompt eval time =   10070.55 ms /   323 tokens (   31.18 ms per token,    32.07 tokens per second)\n",
      "llama_print_timings:        eval time =     552.98 ms /     6 runs   (   92.16 ms per token,    10.85 tokens per second)\n",
      "llama_print_timings:       total time =   10647.19 ms\n",
      "Llama.generate: prefix-match hit\n"
     ]
    },
    {
     "name": "stdout",
     "output_type": "stream",
     "text": [
      " [\"NHS Number\"]"
     ]
    },
    {
     "name": "stderr",
     "output_type": "stream",
     "text": [
      "\n",
      "llama_print_timings:        load time =   10070.69 ms\n",
      "llama_print_timings:      sample time =       0.54 ms /     6 runs   (    0.09 ms per token, 11131.73 tokens per second)\n",
      "llama_print_timings: prompt eval time =     264.27 ms /    25 tokens (   10.57 ms per token,    94.60 tokens per second)\n",
      "llama_print_timings:        eval time =     450.71 ms /     5 runs   (   90.14 ms per token,    11.09 tokens per second)\n",
      "llama_print_timings:       total time =     740.22 ms\n",
      "Llama.generate: prefix-match hit\n"
     ]
    },
    {
     "name": "stdout",
     "output_type": "stream",
     "text": [
      " [\"July 15, 2003\"]"
     ]
    },
    {
     "name": "stderr",
     "output_type": "stream",
     "text": [
      "\n",
      "llama_print_timings:        load time =   10070.69 ms\n",
      "llama_print_timings:      sample time =       1.89 ms /    14 runs   (    0.14 ms per token,  7395.67 tokens per second)\n",
      "llama_print_timings: prompt eval time =     265.48 ms /    25 tokens (   10.62 ms per token,    94.17 tokens per second)\n",
      "llama_print_timings:        eval time =    1185.26 ms /    13 runs   (   91.17 ms per token,    10.97 tokens per second)\n",
      "llama_print_timings:       total time =    1497.14 ms\n",
      "Llama.generate: prefix-match hit\n"
     ]
    },
    {
     "name": "stdout",
     "output_type": "stream",
     "text": [
      " [\"viral sinusitis\"]"
     ]
    },
    {
     "name": "stderr",
     "output_type": "stream",
     "text": [
      "\n",
      "llama_print_timings:        load time =   10070.69 ms\n",
      "llama_print_timings:      sample time =       0.96 ms /     8 runs   (    0.12 ms per token,  8298.76 tokens per second)\n",
      "llama_print_timings: prompt eval time =     274.59 ms /    24 tokens (   11.44 ms per token,    87.40 tokens per second)\n",
      "llama_print_timings:        eval time =     621.36 ms /     7 runs   (   88.77 ms per token,    11.27 tokens per second)\n",
      "llama_print_timings:       total time =     913.58 ms\n",
      "Llama.generate: prefix-match hit\n"
     ]
    },
    {
     "name": "stdout",
     "output_type": "stream",
     "text": [
      " [\"Keven Hammes\"]"
     ]
    },
    {
     "name": "stderr",
     "output_type": "stream",
     "text": [
      "\n",
      "llama_print_timings:        load time =   10070.69 ms\n",
      "llama_print_timings:      sample time =       1.51 ms /     7 runs   (    0.22 ms per token,  4638.83 tokens per second)\n",
      "llama_print_timings: prompt eval time =    1244.14 ms /   160 tokens (    7.78 ms per token,   128.60 tokens per second)\n",
      "llama_print_timings:        eval time =     531.34 ms /     6 runs   (   88.56 ms per token,    11.29 tokens per second)\n",
      "llama_print_timings:       total time =    1801.29 ms\n",
      "Llama.generate: prefix-match hit\n"
     ]
    },
    {
     "name": "stdout",
     "output_type": "stream",
     "text": [
      " [\"NHS Number\"]"
     ]
    },
    {
     "name": "stderr",
     "output_type": "stream",
     "text": [
      "\n",
      "llama_print_timings:        load time =   10070.69 ms\n",
      "llama_print_timings:      sample time =       1.06 ms /     6 runs   (    0.18 ms per token,  5665.72 tokens per second)\n",
      "llama_print_timings: prompt eval time =     261.96 ms /    25 tokens (   10.48 ms per token,    95.43 tokens per second)\n",
      "llama_print_timings:        eval time =     431.67 ms /     5 runs   (   86.33 ms per token,    11.58 tokens per second)\n",
      "llama_print_timings:       total time =     714.12 ms\n",
      "Llama.generate: prefix-match hit\n"
     ]
    },
    {
     "name": "stdout",
     "output_type": "stream",
     "text": [
      " [\"February 2, 2001\"]"
     ]
    },
    {
     "name": "stderr",
     "output_type": "stream",
     "text": [
      "\n",
      "llama_print_timings:        load time =   10070.69 ms\n",
      "llama_print_timings:      sample time =       1.99 ms /    14 runs   (    0.14 ms per token,  7035.18 tokens per second)\n",
      "llama_print_timings: prompt eval time =     261.41 ms /    25 tokens (   10.46 ms per token,    95.64 tokens per second)\n",
      "llama_print_timings:        eval time =    1141.49 ms /    13 runs   (   87.81 ms per token,    11.39 tokens per second)\n",
      "llama_print_timings:       total time =    1443.07 ms\n",
      "Llama.generate: prefix-match hit\n"
     ]
    },
    {
     "name": "stdout",
     "output_type": "stream",
     "text": [
      " [\"ADHD\"]"
     ]
    },
    {
     "name": "stderr",
     "output_type": "stream",
     "text": [
      "\n",
      "llama_print_timings:        load time =   10070.69 ms\n",
      "llama_print_timings:      sample time =       0.54 ms /     5 runs   (    0.11 ms per token,  9328.36 tokens per second)\n",
      "llama_print_timings: prompt eval time =     270.09 ms /    24 tokens (   11.25 ms per token,    88.86 tokens per second)\n",
      "llama_print_timings:        eval time =     347.53 ms /     4 runs   (   86.88 ms per token,    11.51 tokens per second)\n",
      "llama_print_timings:       total time =     628.69 ms\n",
      "Llama.generate: prefix-match hit\n"
     ]
    },
    {
     "name": "stdout",
     "output_type": "stream",
     "text": [
      " [\"Mr. Kenton Hermann\"]"
     ]
    },
    {
     "name": "stderr",
     "output_type": "stream",
     "text": [
      "\n",
      "llama_print_timings:        load time =   10070.69 ms\n",
      "llama_print_timings:      sample time =       0.86 ms /     8 runs   (    0.11 ms per token,  9302.33 tokens per second)\n",
      "llama_print_timings: prompt eval time =     989.70 ms /   127 tokens (    7.79 ms per token,   128.32 tokens per second)\n",
      "llama_print_timings:        eval time =     640.24 ms /     7 runs   (   91.46 ms per token,    10.93 tokens per second)\n",
      "llama_print_timings:       total time =    1646.88 ms\n",
      "Llama.generate: prefix-match hit\n"
     ]
    },
    {
     "name": "stdout",
     "output_type": "stream",
     "text": [
      " [\"NHS number\"]"
     ]
    },
    {
     "name": "stderr",
     "output_type": "stream",
     "text": [
      "\n",
      "llama_print_timings:        load time =   10070.69 ms\n",
      "llama_print_timings:      sample time =       0.97 ms /     6 runs   (    0.16 ms per token,  6198.35 tokens per second)\n",
      "llama_print_timings: prompt eval time =     264.03 ms /    25 tokens (   10.56 ms per token,    94.69 tokens per second)\n",
      "llama_print_timings:        eval time =     428.54 ms /     5 runs   (   85.71 ms per token,    11.67 tokens per second)\n",
      "llama_print_timings:       total time =     708.32 ms\n",
      "Llama.generate: prefix-match hit\n"
     ]
    },
    {
     "name": "stdout",
     "output_type": "stream",
     "text": [
      " [\"January 6th, 1998\"]"
     ]
    },
    {
     "name": "stderr",
     "output_type": "stream",
     "text": [
      "\n",
      "llama_print_timings:        load time =   10070.69 ms\n",
      "llama_print_timings:      sample time =       1.91 ms /    15 runs   (    0.13 ms per token,  7845.19 tokens per second)\n",
      "llama_print_timings: prompt eval time =     262.54 ms /    25 tokens (   10.50 ms per token,    95.22 tokens per second)\n",
      "llama_print_timings:        eval time =    1299.48 ms /    14 runs   (   92.82 ms per token,    10.77 tokens per second)\n",
      "llama_print_timings:       total time =    1602.03 ms\n",
      "Llama.generate: prefix-match hit\n"
     ]
    },
    {
     "name": "stdout",
     "output_type": "stream",
     "text": [
      " [\"acute bronchitis\"]"
     ]
    },
    {
     "name": "stderr",
     "output_type": "stream",
     "text": [
      "\n",
      "llama_print_timings:        load time =   10070.69 ms\n",
      "llama_print_timings:      sample time =       1.25 ms /     8 runs   (    0.16 ms per token,  6415.40 tokens per second)\n",
      "llama_print_timings: prompt eval time =     262.69 ms /    24 tokens (   10.95 ms per token,    91.36 tokens per second)\n",
      "llama_print_timings:        eval time =     603.18 ms /     7 runs   (   86.17 ms per token,    11.61 tokens per second)\n",
      "llama_print_timings:       total time =     886.57 ms\n",
      "Llama.generate: prefix-match hit\n"
     ]
    },
    {
     "name": "stdout",
     "output_type": "stream",
     "text": [
      " [\"Darron Farrell\"]"
     ]
    },
    {
     "name": "stderr",
     "output_type": "stream",
     "text": [
      "\n",
      "llama_print_timings:        load time =   10070.69 ms\n",
      "llama_print_timings:      sample time =       1.71 ms /     8 runs   (    0.21 ms per token,  4675.63 tokens per second)\n",
      "llama_print_timings: prompt eval time =    2879.87 ms /   331 tokens (    8.70 ms per token,   114.94 tokens per second)\n",
      "llama_print_timings:        eval time =     617.15 ms /     7 runs   (   88.16 ms per token,    11.34 tokens per second)\n",
      "llama_print_timings:       total time =    3527.41 ms\n",
      "Llama.generate: prefix-match hit\n"
     ]
    },
    {
     "name": "stdout",
     "output_type": "stream",
     "text": [
      " [\"6744989936\"]"
     ]
    },
    {
     "name": "stderr",
     "output_type": "stream",
     "text": [
      "\n",
      "llama_print_timings:        load time =   10070.69 ms\n",
      "llama_print_timings:      sample time =       2.55 ms /    13 runs   (    0.20 ms per token,  5100.04 tokens per second)\n",
      "llama_print_timings: prompt eval time =     265.58 ms /    25 tokens (   10.62 ms per token,    94.13 tokens per second)\n",
      "llama_print_timings:        eval time =    1084.45 ms /    12 runs   (   90.37 ms per token,    11.07 tokens per second)\n",
      "llama_print_timings:       total time =    1396.33 ms\n",
      "Llama.generate: prefix-match hit\n"
     ]
    },
    {
     "name": "stdout",
     "output_type": "stream",
     "text": [
      " [\"December 23, 1972\"]"
     ]
    },
    {
     "name": "stderr",
     "output_type": "stream",
     "text": [
      "\n",
      "llama_print_timings:        load time =   10070.69 ms\n",
      "llama_print_timings:      sample time =       2.52 ms /    14 runs   (    0.18 ms per token,  5562.18 tokens per second)\n",
      "llama_print_timings: prompt eval time =     278.46 ms /    25 tokens (   11.14 ms per token,    89.78 tokens per second)\n",
      "llama_print_timings:        eval time =    1245.11 ms /    13 runs   (   95.78 ms per token,    10.44 tokens per second)\n",
      "llama_print_timings:       total time =    1569.63 ms\n",
      "Llama.generate: prefix-match hit\n"
     ]
    },
    {
     "name": "stdout",
     "output_type": "stream",
     "text": [
      " [\"Anemia\"]"
     ]
    },
    {
     "name": "stderr",
     "output_type": "stream",
     "text": [
      "\n",
      "llama_print_timings:        load time =   10070.69 ms\n",
      "llama_print_timings:      sample time =       0.64 ms /     5 runs   (    0.13 ms per token,  7836.99 tokens per second)\n",
      "llama_print_timings: prompt eval time =     273.50 ms /    24 tokens (   11.40 ms per token,    87.75 tokens per second)\n",
      "llama_print_timings:        eval time =     357.26 ms /     4 runs   (   89.32 ms per token,    11.20 tokens per second)\n",
      "llama_print_timings:       total time =     642.67 ms\n",
      "Llama.generate: prefix-match hit\n"
     ]
    },
    {
     "name": "stdout",
     "output_type": "stream",
     "text": [
      " [\"Carlo Kuhn\"]"
     ]
    },
    {
     "name": "stderr",
     "output_type": "stream",
     "text": [
      "\n",
      "llama_print_timings:        load time =   10070.69 ms\n",
      "llama_print_timings:      sample time =       0.70 ms /     7 runs   (    0.10 ms per token,  9971.51 tokens per second)\n",
      "llama_print_timings: prompt eval time =    1772.06 ms /   220 tokens (    8.05 ms per token,   124.15 tokens per second)\n",
      "llama_print_timings:        eval time =     521.52 ms /     6 runs   (   86.92 ms per token,    11.50 tokens per second)\n",
      "llama_print_timings:       total time =    2313.13 ms\n",
      "Llama.generate: prefix-match hit\n"
     ]
    },
    {
     "name": "stdout",
     "output_type": "stream",
     "text": [
      " [\"1949271404\"]"
     ]
    },
    {
     "name": "stderr",
     "output_type": "stream",
     "text": [
      "\n",
      "llama_print_timings:        load time =   10070.69 ms\n",
      "llama_print_timings:      sample time =       1.76 ms /    13 runs   (    0.14 ms per token,  7386.36 tokens per second)\n",
      "llama_print_timings: prompt eval time =     264.32 ms /    25 tokens (   10.57 ms per token,    94.58 tokens per second)\n",
      "llama_print_timings:        eval time =    1129.85 ms /    12 runs   (   94.15 ms per token,    10.62 tokens per second)\n",
      "llama_print_timings:       total time =    1427.56 ms\n",
      "Llama.generate: prefix-match hit\n"
     ]
    },
    {
     "name": "stdout",
     "output_type": "stream",
     "text": [
      " [\"September 10, 1968\"]"
     ]
    },
    {
     "name": "stderr",
     "output_type": "stream",
     "text": [
      "\n",
      "llama_print_timings:        load time =   10070.69 ms\n",
      "llama_print_timings:      sample time =       4.02 ms /    14 runs   (    0.29 ms per token,  3479.99 tokens per second)\n",
      "llama_print_timings: prompt eval time =     272.36 ms /    25 tokens (   10.89 ms per token,    91.79 tokens per second)\n",
      "llama_print_timings:        eval time =    1130.16 ms /    13 runs   (   86.94 ms per token,    11.50 tokens per second)\n",
      "llama_print_timings:       total time =    1463.80 ms\n",
      "Llama.generate: prefix-match hit\n"
     ]
    },
    {
     "name": "stdout",
     "output_type": "stream",
     "text": [
      " [\"fibromyalgia\", \"degenerative disc disease\"]"
     ]
    },
    {
     "name": "stderr",
     "output_type": "stream",
     "text": [
      "\n",
      "llama_print_timings:        load time =   10070.69 ms\n",
      "llama_print_timings:      sample time =       2.49 ms /    15 runs   (    0.17 ms per token,  6024.10 tokens per second)\n",
      "llama_print_timings: prompt eval time =     262.39 ms /    24 tokens (   10.93 ms per token,    91.47 tokens per second)\n",
      "llama_print_timings:        eval time =    1304.61 ms /    14 runs   (   93.19 ms per token,    10.73 tokens per second)\n",
      "llama_print_timings:       total time =    1614.30 ms\n",
      "Llama.generate: prefix-match hit\n"
     ]
    },
    {
     "name": "stdout",
     "output_type": "stream",
     "text": [
      " [\"Loree Pouros\"]"
     ]
    },
    {
     "name": "stderr",
     "output_type": "stream",
     "text": [
      "\n",
      "llama_print_timings:        load time =   10070.69 ms\n",
      "llama_print_timings:      sample time =       2.53 ms /     9 runs   (    0.28 ms per token,  3557.31 tokens per second)\n",
      "llama_print_timings: prompt eval time =    1494.49 ms /   190 tokens (    7.87 ms per token,   127.13 tokens per second)\n",
      "llama_print_timings:        eval time =     691.58 ms /     8 runs   (   86.45 ms per token,    11.57 tokens per second)\n",
      "llama_print_timings:       total time =    2223.60 ms\n",
      "Llama.generate: prefix-match hit\n"
     ]
    },
    {
     "name": "stdout",
     "output_type": "stream",
     "text": [
      " [\"4135716814\"]"
     ]
    },
    {
     "name": "stderr",
     "output_type": "stream",
     "text": [
      "\n",
      "llama_print_timings:        load time =   10070.69 ms\n",
      "llama_print_timings:      sample time =       3.19 ms /    13 runs   (    0.25 ms per token,  4073.96 tokens per second)\n",
      "llama_print_timings: prompt eval time =     258.59 ms /    25 tokens (   10.34 ms per token,    96.68 tokens per second)\n",
      "llama_print_timings:        eval time =    1055.55 ms /    12 runs   (   87.96 ms per token,    11.37 tokens per second)\n",
      "llama_print_timings:       total time =    1365.92 ms\n",
      "Llama.generate: prefix-match hit\n"
     ]
    },
    {
     "name": "stdout",
     "output_type": "stream",
     "text": [
      " [\"January 31st, 1991\"]"
     ]
    },
    {
     "name": "stderr",
     "output_type": "stream",
     "text": [
      "\n",
      "llama_print_timings:        load time =   10070.69 ms\n",
      "llama_print_timings:      sample time =       1.88 ms /    16 runs   (    0.12 ms per token,  8506.11 tokens per second)\n",
      "llama_print_timings: prompt eval time =     266.24 ms /    25 tokens (   10.65 ms per token,    93.90 tokens per second)\n",
      "llama_print_timings:        eval time =    1409.55 ms /    15 runs   (   93.97 ms per token,    10.64 tokens per second)\n",
      "llama_print_timings:       total time =    1717.29 ms\n",
      "Llama.generate: prefix-match hit\n"
     ]
    },
    {
     "name": "stdout",
     "output_type": "stream",
     "text": [
      " [\"viral sinusitis\"]"
     ]
    },
    {
     "name": "stderr",
     "output_type": "stream",
     "text": [
      "\n",
      "llama_print_timings:        load time =   10070.69 ms\n",
      "llama_print_timings:      sample time =       1.33 ms /     8 runs   (    0.17 ms per token,  6010.52 tokens per second)\n",
      "llama_print_timings: prompt eval time =     262.82 ms /    24 tokens (   10.95 ms per token,    91.32 tokens per second)\n",
      "llama_print_timings:        eval time =     644.25 ms /     7 runs   (   92.04 ms per token,    10.87 tokens per second)\n",
      "llama_print_timings:       total time =     927.89 ms\n",
      "Llama.generate: prefix-match hit\n"
     ]
    },
    {
     "name": "stdout",
     "output_type": "stream",
     "text": [
      " []"
     ]
    },
    {
     "name": "stderr",
     "output_type": "stream",
     "text": [
      "\n",
      "llama_print_timings:        load time =   10070.69 ms\n",
      "llama_print_timings:      sample time =       0.32 ms /     2 runs   (    0.16 ms per token,  6289.31 tokens per second)\n",
      "llama_print_timings: prompt eval time =    1772.91 ms /   213 tokens (    8.32 ms per token,   120.14 tokens per second)\n",
      "llama_print_timings:        eval time =     105.46 ms /     1 runs   (  105.46 ms per token,     9.48 tokens per second)\n",
      "llama_print_timings:       total time =    1885.03 ms\n",
      "Llama.generate: prefix-match hit\n"
     ]
    },
    {
     "name": "stdout",
     "output_type": "stream",
     "text": [
      " [\"5771725080\"]"
     ]
    },
    {
     "name": "stderr",
     "output_type": "stream",
     "text": [
      "\n",
      "llama_print_timings:        load time =   10070.69 ms\n",
      "llama_print_timings:      sample time =       3.40 ms /    13 runs   (    0.26 ms per token,  3829.16 tokens per second)\n",
      "llama_print_timings: prompt eval time =     275.63 ms /    25 tokens (   11.03 ms per token,    90.70 tokens per second)\n",
      "llama_print_timings:        eval time =    1139.31 ms /    12 runs   (   94.94 ms per token,    10.53 tokens per second)\n",
      "llama_print_timings:       total time =    1463.79 ms\n",
      "Llama.generate: prefix-match hit\n"
     ]
    },
    {
     "name": "stdout",
     "output_type": "stream",
     "text": [
      " [\"Date of Birth\"]"
     ]
    },
    {
     "name": "stderr",
     "output_type": "stream",
     "text": [
      "\n",
      "llama_print_timings:        load time =   10070.69 ms\n",
      "llama_print_timings:      sample time =       2.01 ms /     7 runs   (    0.29 ms per token,  3480.86 tokens per second)\n",
      "llama_print_timings: prompt eval time =     265.02 ms /    25 tokens (   10.60 ms per token,    94.33 tokens per second)\n",
      "llama_print_timings:        eval time =     530.04 ms /     6 runs   (   88.34 ms per token,    11.32 tokens per second)\n",
      "llama_print_timings:       total time =     822.58 ms\n",
      "Llama.generate: prefix-match hit\n"
     ]
    },
    {
     "name": "stdout",
     "output_type": "stream",
     "text": [
      " []"
     ]
    },
    {
     "name": "stderr",
     "output_type": "stream",
     "text": [
      "\n",
      "llama_print_timings:        load time =   10070.69 ms\n",
      "llama_print_timings:      sample time =       0.88 ms /     2 runs   (    0.44 ms per token,  2277.90 tokens per second)\n",
      "llama_print_timings: prompt eval time =     259.94 ms /    24 tokens (   10.83 ms per token,    92.33 tokens per second)\n",
      "llama_print_timings:        eval time =      83.90 ms /     1 runs   (   83.90 ms per token,    11.92 tokens per second)\n",
      "llama_print_timings:       total time =     354.17 ms\n",
      "Llama.generate: prefix-match hit\n"
     ]
    },
    {
     "name": "stdout",
     "output_type": "stream",
     "text": [
      " [\"Tommy Murray\"]"
     ]
    },
    {
     "name": "stderr",
     "output_type": "stream",
     "text": [
      "\n",
      "llama_print_timings:        load time =   10070.69 ms\n",
      "llama_print_timings:      sample time =       1.06 ms /     6 runs   (    0.18 ms per token,  5671.08 tokens per second)\n",
      "llama_print_timings: prompt eval time =    1480.59 ms /   183 tokens (    8.09 ms per token,   123.60 tokens per second)\n",
      "llama_print_timings:        eval time =     442.44 ms /     5 runs   (   88.49 ms per token,    11.30 tokens per second)\n",
      "llama_print_timings:       total time =    1940.65 ms\n",
      "Llama.generate: prefix-match hit\n"
     ]
    },
    {
     "name": "stdout",
     "output_type": "stream",
     "text": [
      " [\"8556129943\"]"
     ]
    },
    {
     "name": "stderr",
     "output_type": "stream",
     "text": [
      "\n",
      "llama_print_timings:        load time =   10070.69 ms\n",
      "llama_print_timings:      sample time =       4.35 ms /    13 runs   (    0.33 ms per token,  2988.51 tokens per second)\n",
      "llama_print_timings: prompt eval time =     261.09 ms /    25 tokens (   10.44 ms per token,    95.75 tokens per second)\n",
      "llama_print_timings:        eval time =    1029.00 ms /    12 runs   (   85.75 ms per token,    11.66 tokens per second)\n",
      "llama_print_timings:       total time =    1366.81 ms\n",
      "Llama.generate: prefix-match hit\n"
     ]
    },
    {
     "name": "stdout",
     "output_type": "stream",
     "text": [
      " [\"December 30, 2009\"]"
     ]
    },
    {
     "name": "stderr",
     "output_type": "stream",
     "text": [
      "\n",
      "llama_print_timings:        load time =   10070.69 ms\n",
      "llama_print_timings:      sample time =       5.31 ms /    14 runs   (    0.38 ms per token,  2637.03 tokens per second)\n",
      "llama_print_timings: prompt eval time =     260.99 ms /    25 tokens (   10.44 ms per token,    95.79 tokens per second)\n",
      "llama_print_timings:        eval time =    1118.22 ms /    13 runs   (   86.02 ms per token,    11.63 tokens per second)\n",
      "llama_print_timings:       total time =    1455.06 ms\n",
      "Llama.generate: prefix-match hit\n"
     ]
    },
    {
     "name": "stdout",
     "output_type": "stream",
     "text": [
      " [\"acute bronchitis\"]"
     ]
    },
    {
     "name": "stderr",
     "output_type": "stream",
     "text": [
      "\n",
      "llama_print_timings:        load time =   10070.69 ms\n",
      "llama_print_timings:      sample time =       3.47 ms /     8 runs   (    0.43 ms per token,  2308.14 tokens per second)\n",
      "llama_print_timings: prompt eval time =     259.03 ms /    24 tokens (   10.79 ms per token,    92.65 tokens per second)\n",
      "llama_print_timings:        eval time =     608.68 ms /     7 runs   (   86.95 ms per token,    11.50 tokens per second)\n",
      "llama_print_timings:       total time =     914.40 ms\n",
      "Llama.generate: prefix-match hit\n"
     ]
    },
    {
     "name": "stdout",
     "output_type": "stream",
     "text": [
      " [\"Christia Torphy\"]"
     ]
    },
    {
     "name": "stderr",
     "output_type": "stream",
     "text": [
      "\n",
      "llama_print_timings:        load time =   10070.69 ms\n",
      "llama_print_timings:      sample time =       2.01 ms /     7 runs   (    0.29 ms per token,  3489.53 tokens per second)\n",
      "llama_print_timings: prompt eval time =    3148.36 ms /   365 tokens (    8.63 ms per token,   115.93 tokens per second)\n",
      "llama_print_timings:        eval time =     529.07 ms /     6 runs   (   88.18 ms per token,    11.34 tokens per second)\n",
      "llama_print_timings:       total time =    3710.67 ms\n",
      "Llama.generate: prefix-match hit\n"
     ]
    },
    {
     "name": "stdout",
     "output_type": "stream",
     "text": [
      " [\"9217912255\"]"
     ]
    },
    {
     "name": "stderr",
     "output_type": "stream",
     "text": [
      "\n",
      "llama_print_timings:        load time =   10070.69 ms\n",
      "llama_print_timings:      sample time =       4.43 ms /    13 runs   (    0.34 ms per token,  2936.53 tokens per second)\n",
      "llama_print_timings: prompt eval time =     265.69 ms /    25 tokens (   10.63 ms per token,    94.10 tokens per second)\n",
      "llama_print_timings:        eval time =    1055.62 ms /    12 runs   (   87.97 ms per token,    11.37 tokens per second)\n",
      "llama_print_timings:       total time =    1384.41 ms\n",
      "Llama.generate: prefix-match hit\n"
     ]
    },
    {
     "name": "stdout",
     "output_type": "stream",
     "text": [
      " [\"September 9, 1956\"]"
     ]
    },
    {
     "name": "stderr",
     "output_type": "stream",
     "text": [
      "\n",
      "llama_print_timings:        load time =   10070.69 ms\n",
      "llama_print_timings:      sample time =       4.80 ms /    13 runs   (    0.37 ms per token,  2710.03 tokens per second)\n",
      "llama_print_timings: prompt eval time =     265.08 ms /    25 tokens (   10.60 ms per token,    94.31 tokens per second)\n",
      "llama_print_timings:        eval time =    1081.83 ms /    12 runs   (   90.15 ms per token,    11.09 tokens per second)\n",
      "llama_print_timings:       total time =    1410.95 ms\n",
      "Llama.generate: prefix-match hit\n"
     ]
    },
    {
     "name": "stdout",
     "output_type": "stream",
     "text": [
      " [\"viral sinusitis\"]"
     ]
    },
    {
     "name": "stderr",
     "output_type": "stream",
     "text": [
      "\n",
      "llama_print_timings:        load time =   10070.69 ms\n",
      "llama_print_timings:      sample time =       2.96 ms /     8 runs   (    0.37 ms per token,  2707.28 tokens per second)\n",
      "llama_print_timings: prompt eval time =     262.51 ms /    24 tokens (   10.94 ms per token,    91.43 tokens per second)\n",
      "llama_print_timings:        eval time =     613.37 ms /     7 runs   (   87.62 ms per token,    11.41 tokens per second)\n",
      "llama_print_timings:       total time =     915.00 ms\n",
      "Llama.generate: prefix-match hit\n"
     ]
    },
    {
     "name": "stdout",
     "output_type": "stream",
     "text": [
      " [\"Vannessa Boyle\", \"Mrs. Boyle\"]"
     ]
    },
    {
     "name": "stderr",
     "output_type": "stream",
     "text": [
      "\n",
      "llama_print_timings:        load time =   10070.69 ms\n",
      "llama_print_timings:      sample time =       4.93 ms /    15 runs   (    0.33 ms per token,  3041.36 tokens per second)\n",
      "llama_print_timings: prompt eval time =    1983.93 ms /   234 tokens (    8.48 ms per token,   117.95 tokens per second)\n",
      "llama_print_timings:        eval time =    1193.82 ms /    14 runs   (   85.27 ms per token,    11.73 tokens per second)\n",
      "llama_print_timings:       total time =    3255.28 ms\n",
      "Llama.generate: prefix-match hit\n"
     ]
    },
    {
     "name": "stdout",
     "output_type": "stream",
     "text": [
      " [\"3523937671\"]"
     ]
    },
    {
     "name": "stderr",
     "output_type": "stream",
     "text": [
      "\n",
      "llama_print_timings:        load time =   10070.69 ms\n",
      "llama_print_timings:      sample time =       4.67 ms /    13 runs   (    0.36 ms per token,  2780.75 tokens per second)\n",
      "llama_print_timings: prompt eval time =     261.01 ms /    25 tokens (   10.44 ms per token,    95.78 tokens per second)\n",
      "llama_print_timings:        eval time =    1010.98 ms /    12 runs   (   84.25 ms per token,    11.87 tokens per second)\n",
      "llama_print_timings:       total time =    1349.26 ms\n",
      "Llama.generate: prefix-match hit\n"
     ]
    },
    {
     "name": "stdout",
     "output_type": "stream",
     "text": [
      " [\"July 20, 1974\"]"
     ]
    },
    {
     "name": "stderr",
     "output_type": "stream",
     "text": [
      "\n",
      "llama_print_timings:        load time =   10070.69 ms\n",
      "llama_print_timings:      sample time =       4.45 ms /    14 runs   (    0.32 ms per token,  3144.65 tokens per second)\n",
      "llama_print_timings: prompt eval time =     263.12 ms /    25 tokens (   10.52 ms per token,    95.01 tokens per second)\n",
      "llama_print_timings:        eval time =    1102.98 ms /    13 runs   (   84.84 ms per token,    11.79 tokens per second)\n",
      "llama_print_timings:       total time =    1447.05 ms\n",
      "Llama.generate: prefix-match hit\n"
     ]
    },
    {
     "name": "stdout",
     "output_type": "stream",
     "text": [
      " [\"Sinusitis\"]"
     ]
    },
    {
     "name": "stderr",
     "output_type": "stream",
     "text": [
      "\n",
      "llama_print_timings:        load time =   10070.69 ms\n",
      "llama_print_timings:      sample time =       1.12 ms /     6 runs   (    0.19 ms per token,  5338.08 tokens per second)\n",
      "llama_print_timings: prompt eval time =     260.43 ms /    24 tokens (   10.85 ms per token,    92.16 tokens per second)\n",
      "llama_print_timings:        eval time =     428.73 ms /     5 runs   (   85.75 ms per token,    11.66 tokens per second)\n",
      "llama_print_timings:       total time =     709.01 ms\n",
      "Llama.generate: prefix-match hit\n"
     ]
    },
    {
     "name": "stdout",
     "output_type": "stream",
     "text": [
      " [\"Ms. Jeanelle Stanton\"]"
     ]
    },
    {
     "name": "stderr",
     "output_type": "stream",
     "text": [
      "\n",
      "llama_print_timings:        load time =   10070.69 ms\n",
      "llama_print_timings:      sample time =       1.02 ms /    10 runs   (    0.10 ms per token,  9832.84 tokens per second)\n",
      "llama_print_timings: prompt eval time =    2437.58 ms /   287 tokens (    8.49 ms per token,   117.74 tokens per second)\n",
      "llama_print_timings:        eval time =     862.32 ms /     9 runs   (   95.81 ms per token,    10.44 tokens per second)\n",
      "llama_print_timings:       total time =    3322.31 ms\n",
      "Llama.generate: prefix-match hit\n"
     ]
    },
    {
     "name": "stdout",
     "output_type": "stream",
     "text": [
      " [\"0982637659\"]"
     ]
    },
    {
     "name": "stderr",
     "output_type": "stream",
     "text": [
      "\n",
      "llama_print_timings:        load time =   10070.69 ms\n",
      "llama_print_timings:      sample time =       1.45 ms /    13 runs   (    0.11 ms per token,  8971.70 tokens per second)\n",
      "llama_print_timings: prompt eval time =     262.76 ms /    25 tokens (   10.51 ms per token,    95.14 tokens per second)\n",
      "llama_print_timings:        eval time =    1117.99 ms /    12 runs   (   93.17 ms per token,    10.73 tokens per second)\n",
      "llama_print_timings:       total time =    1418.11 ms\n",
      "Llama.generate: prefix-match hit\n"
     ]
    },
    {
     "name": "stdout",
     "output_type": "stream",
     "text": [
      " [\"October 22, 1983\"]"
     ]
    },
    {
     "name": "stderr",
     "output_type": "stream",
     "text": [
      "\n",
      "llama_print_timings:        load time =   10070.69 ms\n",
      "llama_print_timings:      sample time =       1.42 ms /    14 runs   (    0.10 ms per token,  9838.37 tokens per second)\n",
      "llama_print_timings: prompt eval time =     273.72 ms /    25 tokens (   10.95 ms per token,    91.34 tokens per second)\n",
      "llama_print_timings:        eval time =    1208.10 ms /    13 runs   (   92.93 ms per token,    10.76 tokens per second)\n",
      "llama_print_timings:       total time =    1513.68 ms\n",
      "Llama.generate: prefix-match hit\n"
     ]
    },
    {
     "name": "stdout",
     "output_type": "stream",
     "text": [
      " [\"normal pregnancy\"]"
     ]
    },
    {
     "name": "stderr",
     "output_type": "stream",
     "text": [
      "\n",
      "llama_print_timings:        load time =   10070.69 ms\n",
      "llama_print_timings:      sample time =       1.57 ms /     7 runs   (    0.22 ms per token,  4467.13 tokens per second)\n",
      "llama_print_timings: prompt eval time =     269.07 ms /    24 tokens (   11.21 ms per token,    89.19 tokens per second)\n",
      "llama_print_timings:        eval time =     576.72 ms /     6 runs   (   96.12 ms per token,    10.40 tokens per second)\n",
      "llama_print_timings:       total time =     865.64 ms\n",
      "Llama.generate: prefix-match hit\n"
     ]
    },
    {
     "name": "stdout",
     "output_type": "stream",
     "text": [
      " [\"Hassan Sporer\"]"
     ]
    },
    {
     "name": "stderr",
     "output_type": "stream",
     "text": [
      "\n",
      "llama_print_timings:        load time =   10070.69 ms\n",
      "llama_print_timings:      sample time =       0.79 ms /     8 runs   (    0.10 ms per token, 10113.78 tokens per second)\n",
      "llama_print_timings: prompt eval time =     988.39 ms /   124 tokens (    7.97 ms per token,   125.46 tokens per second)\n",
      "llama_print_timings:        eval time =     622.12 ms /     7 runs   (   88.88 ms per token,    11.25 tokens per second)\n",
      "llama_print_timings:       total time =    1626.95 ms\n",
      "Llama.generate: prefix-match hit\n"
     ]
    },
    {
     "name": "stdout",
     "output_type": "stream",
     "text": [
      " [\"NHS number 4761868791\"]"
     ]
    },
    {
     "name": "stderr",
     "output_type": "stream",
     "text": [
      "\n",
      "llama_print_timings:        load time =   10070.69 ms\n",
      "llama_print_timings:      sample time =       3.72 ms /    17 runs   (    0.22 ms per token,  4567.44 tokens per second)\n",
      "llama_print_timings: prompt eval time =     259.82 ms /    25 tokens (   10.39 ms per token,    96.22 tokens per second)\n",
      "llama_print_timings:        eval time =    1366.61 ms /    16 runs   (   85.41 ms per token,    11.71 tokens per second)\n",
      "llama_print_timings:       total time =    1692.37 ms\n",
      "Llama.generate: prefix-match hit\n"
     ]
    },
    {
     "name": "stdout",
     "output_type": "stream",
     "text": [
      " []"
     ]
    },
    {
     "name": "stderr",
     "output_type": "stream",
     "text": [
      "\n",
      "llama_print_timings:        load time =   10070.69 ms\n",
      "llama_print_timings:      sample time =       0.19 ms /     2 runs   (    0.10 ms per token, 10309.28 tokens per second)\n",
      "llama_print_timings: prompt eval time =     260.60 ms /    25 tokens (   10.42 ms per token,    95.93 tokens per second)\n",
      "llama_print_timings:        eval time =     112.68 ms /     1 runs   (  112.68 ms per token,     8.87 tokens per second)\n",
      "llama_print_timings:       total time =     376.56 ms\n",
      "Llama.generate: prefix-match hit\n"
     ]
    },
    {
     "name": "stdout",
     "output_type": "stream",
     "text": [
      " [\"acute viral pharyngitis\"]"
     ]
    },
    {
     "name": "stderr",
     "output_type": "stream",
     "text": [
      "\n",
      "llama_print_timings:        load time =   10070.69 ms\n",
      "llama_print_timings:      sample time =       1.66 ms /    11 runs   (    0.15 ms per token,  6626.51 tokens per second)\n",
      "llama_print_timings: prompt eval time =     263.50 ms /    24 tokens (   10.98 ms per token,    91.08 tokens per second)\n",
      "llama_print_timings:        eval time =     879.49 ms /    10 runs   (   87.95 ms per token,    11.37 tokens per second)\n",
      "llama_print_timings:       total time =    1176.30 ms\n",
      "Llama.generate: prefix-match hit\n"
     ]
    },
    {
     "name": "stdout",
     "output_type": "stream",
     "text": [
      " [\"Santa Marquardt\"]"
     ]
    },
    {
     "name": "stderr",
     "output_type": "stream",
     "text": [
      "\n",
      "llama_print_timings:        load time =   10070.69 ms\n",
      "llama_print_timings:      sample time =       1.50 ms /     9 runs   (    0.17 ms per token,  6016.04 tokens per second)\n",
      "llama_print_timings: prompt eval time =     986.54 ms /   119 tokens (    8.29 ms per token,   120.62 tokens per second)\n",
      "llama_print_timings:        eval time =     724.60 ms /     8 runs   (   90.57 ms per token,    11.04 tokens per second)\n",
      "llama_print_timings:       total time =    1736.52 ms\n",
      "Llama.generate: prefix-match hit\n"
     ]
    },
    {
     "name": "stdout",
     "output_type": "stream",
     "text": [
      " [\"4324676496\"]"
     ]
    },
    {
     "name": "stderr",
     "output_type": "stream",
     "text": [
      "\n",
      "llama_print_timings:        load time =   10070.69 ms\n",
      "llama_print_timings:      sample time =       1.81 ms /    13 runs   (    0.14 ms per token,  7166.48 tokens per second)\n",
      "llama_print_timings: prompt eval time =     265.04 ms /    25 tokens (   10.60 ms per token,    94.32 tokens per second)\n",
      "llama_print_timings:        eval time =    1079.59 ms /    12 runs   (   89.97 ms per token,    11.12 tokens per second)\n",
      "llama_print_timings:       total time =    1374.46 ms\n",
      "Llama.generate: prefix-match hit\n"
     ]
    },
    {
     "name": "stdout",
     "output_type": "stream",
     "text": [
      " [\"September 4, 1989\"]"
     ]
    },
    {
     "name": "stderr",
     "output_type": "stream",
     "text": [
      "\n",
      "llama_print_timings:        load time =   10070.69 ms\n",
      "llama_print_timings:      sample time =       2.04 ms /    13 runs   (    0.16 ms per token,  6381.93 tokens per second)\n",
      "llama_print_timings: prompt eval time =     265.52 ms /    25 tokens (   10.62 ms per token,    94.15 tokens per second)\n",
      "llama_print_timings:        eval time =    1263.42 ms /    12 runs   (  105.29 ms per token,     9.50 tokens per second)\n",
      "llama_print_timings:       total time =    1568.25 ms\n",
      "Llama.generate: prefix-match hit\n"
     ]
    },
    {
     "name": "stdout",
     "output_type": "stream",
     "text": [
      " []"
     ]
    },
    {
     "name": "stderr",
     "output_type": "stream",
     "text": [
      "\n",
      "llama_print_timings:        load time =   10070.69 ms\n",
      "llama_print_timings:      sample time =       0.23 ms /     2 runs   (    0.11 ms per token,  8771.93 tokens per second)\n",
      "llama_print_timings: prompt eval time =     272.36 ms /    24 tokens (   11.35 ms per token,    88.12 tokens per second)\n",
      "llama_print_timings:        eval time =      93.14 ms /     1 runs   (   93.14 ms per token,    10.74 tokens per second)\n",
      "llama_print_timings:       total time =     368.86 ms\n",
      "Llama.generate: prefix-match hit\n"
     ]
    },
    {
     "name": "stdout",
     "output_type": "stream",
     "text": [
      " []"
     ]
    },
    {
     "name": "stderr",
     "output_type": "stream",
     "text": [
      "\n",
      "llama_print_timings:        load time =   10070.69 ms\n",
      "llama_print_timings:      sample time =       0.28 ms /     2 runs   (    0.14 ms per token,  7194.24 tokens per second)\n",
      "llama_print_timings: prompt eval time =    1781.95 ms /   195 tokens (    9.14 ms per token,   109.43 tokens per second)\n",
      "llama_print_timings:        eval time =      86.08 ms /     1 runs   (   86.08 ms per token,    11.62 tokens per second)\n",
      "llama_print_timings:       total time =    1874.46 ms\n",
      "Llama.generate: prefix-match hit\n"
     ]
    },
    {
     "name": "stdout",
     "output_type": "stream",
     "text": [
      " [\"NHS Number\"]"
     ]
    },
    {
     "name": "stderr",
     "output_type": "stream",
     "text": [
      "\n",
      "llama_print_timings:        load time =   10070.69 ms\n",
      "llama_print_timings:      sample time =       0.65 ms /     6 runs   (    0.11 ms per token,  9273.57 tokens per second)\n",
      "llama_print_timings: prompt eval time =     291.87 ms /    25 tokens (   11.67 ms per token,    85.65 tokens per second)\n",
      "llama_print_timings:        eval time =     457.99 ms /     5 runs   (   91.60 ms per token,    10.92 tokens per second)\n",
      "llama_print_timings:       total time =     767.47 ms\n",
      "Llama.generate: prefix-match hit\n"
     ]
    },
    {
     "name": "stdout",
     "output_type": "stream",
     "text": [
      " [\"April 7, 1969\"]"
     ]
    },
    {
     "name": "stderr",
     "output_type": "stream",
     "text": [
      "\n",
      "llama_print_timings:        load time =   10070.69 ms\n",
      "llama_print_timings:      sample time =       3.50 ms /    13 runs   (    0.27 ms per token,  3711.10 tokens per second)\n",
      "llama_print_timings: prompt eval time =     276.92 ms /    25 tokens (   11.08 ms per token,    90.28 tokens per second)\n",
      "llama_print_timings:        eval time =    1184.87 ms /    12 runs   (   98.74 ms per token,    10.13 tokens per second)\n",
      "llama_print_timings:       total time =    1519.73 ms\n",
      "Llama.generate: prefix-match hit\n"
     ]
    },
    {
     "name": "stdout",
     "output_type": "stream",
     "text": [
      " [\"allergic rhinitis\"]"
     ]
    },
    {
     "name": "stderr",
     "output_type": "stream",
     "text": [
      "\n",
      "llama_print_timings:        load time =   10070.69 ms\n",
      "llama_print_timings:      sample time =       1.67 ms /     9 runs   (    0.19 ms per token,  5386.00 tokens per second)\n",
      "llama_print_timings: prompt eval time =     262.70 ms /    24 tokens (   10.95 ms per token,    91.36 tokens per second)\n",
      "llama_print_timings:        eval time =     792.87 ms /     8 runs   (   99.11 ms per token,    10.09 tokens per second)\n",
      "llama_print_timings:       total time =    1087.66 ms\n",
      "Llama.generate: prefix-match hit\n"
     ]
    },
    {
     "name": "stdout",
     "output_type": "stream",
     "text": [
      " [\"Mr. Mauricio Williamson\"]"
     ]
    },
    {
     "name": "stderr",
     "output_type": "stream",
     "text": [
      "\n",
      "llama_print_timings:        load time =   10070.69 ms\n",
      "llama_print_timings:      sample time =       1.60 ms /     9 runs   (    0.18 ms per token,  5625.00 tokens per second)\n",
      "llama_print_timings: prompt eval time =    1586.19 ms /   165 tokens (    9.61 ms per token,   104.02 tokens per second)\n",
      "llama_print_timings:        eval time =     719.24 ms /     8 runs   (   89.91 ms per token,    11.12 tokens per second)\n",
      "llama_print_timings:       total time =    2339.12 ms\n",
      "Llama.generate: prefix-match hit\n"
     ]
    },
    {
     "name": "stdout",
     "output_type": "stream",
     "text": [
      " [\"NHS number\"]"
     ]
    },
    {
     "name": "stderr",
     "output_type": "stream",
     "text": [
      "\n",
      "llama_print_timings:        load time =   10070.69 ms\n",
      "llama_print_timings:      sample time =       1.40 ms /     6 runs   (    0.23 ms per token,  4273.50 tokens per second)\n",
      "llama_print_timings: prompt eval time =     287.68 ms /    25 tokens (   11.51 ms per token,    86.90 tokens per second)\n",
      "llama_print_timings:        eval time =     449.49 ms /     5 runs   (   89.90 ms per token,    11.12 tokens per second)\n",
      "llama_print_timings:       total time =     760.23 ms\n",
      "Llama.generate: prefix-match hit\n"
     ]
    },
    {
     "name": "stdout",
     "output_type": "stream",
     "text": [
      " [\"September 14th, 1956\"]"
     ]
    },
    {
     "name": "stderr",
     "output_type": "stream",
     "text": [
      "\n",
      "llama_print_timings:        load time =   10070.69 ms\n",
      "llama_print_timings:      sample time =       2.68 ms /    15 runs   (    0.18 ms per token,  5601.19 tokens per second)\n",
      "llama_print_timings: prompt eval time =     273.84 ms /    25 tokens (   10.95 ms per token,    91.29 tokens per second)\n",
      "llama_print_timings:        eval time =    1237.95 ms /    14 runs   (   88.42 ms per token,    11.31 tokens per second)\n",
      "llama_print_timings:       total time =    1563.01 ms\n",
      "Llama.generate: prefix-match hit\n"
     ]
    },
    {
     "name": "stdout",
     "output_type": "stream",
     "text": [
      " [\"viral sinusitis\"]"
     ]
    },
    {
     "name": "stderr",
     "output_type": "stream",
     "text": [
      "\n",
      "llama_print_timings:        load time =   10070.69 ms\n",
      "llama_print_timings:      sample time =       1.07 ms /     8 runs   (    0.13 ms per token,  7448.79 tokens per second)\n",
      "llama_print_timings: prompt eval time =     262.55 ms /    24 tokens (   10.94 ms per token,    91.41 tokens per second)\n",
      "llama_print_timings:        eval time =     677.79 ms /     7 runs   (   96.83 ms per token,    10.33 tokens per second)\n",
      "llama_print_timings:       total time =     959.61 ms\n",
      "Llama.generate: prefix-match hit\n"
     ]
    },
    {
     "name": "stdout",
     "output_type": "stream",
     "text": [
      " [\"Mr. Jude Braun\"]"
     ]
    },
    {
     "name": "stderr",
     "output_type": "stream",
     "text": [
      "\n",
      "llama_print_timings:        load time =   10070.69 ms\n",
      "llama_print_timings:      sample time =       3.82 ms /     8 runs   (    0.48 ms per token,  2093.69 tokens per second)\n",
      "llama_print_timings: prompt eval time =    1752.01 ms /   161 tokens (   10.88 ms per token,    91.89 tokens per second)\n",
      "llama_print_timings:        eval time =     740.17 ms /     7 runs   (  105.74 ms per token,     9.46 tokens per second)\n",
      "llama_print_timings:       total time =    2551.42 ms\n",
      "Llama.generate: prefix-match hit\n"
     ]
    },
    {
     "name": "stdout",
     "output_type": "stream",
     "text": [
      " [\"12-year-old\", \"male\"]"
     ]
    },
    {
     "name": "stderr",
     "output_type": "stream",
     "text": [
      "\n",
      "llama_print_timings:        load time =   10070.69 ms\n",
      "llama_print_timings:      sample time =       4.82 ms /    12 runs   (    0.40 ms per token,  2492.21 tokens per second)\n",
      "llama_print_timings: prompt eval time =     306.55 ms /    25 tokens (   12.26 ms per token,    81.55 tokens per second)\n",
      "llama_print_timings:        eval time =     998.91 ms /    11 runs   (   90.81 ms per token,    11.01 tokens per second)\n",
      "llama_print_timings:       total time =    1379.65 ms\n",
      "Llama.generate: prefix-match hit\n"
     ]
    },
    {
     "name": "stdout",
     "output_type": "stream",
     "text": [
      " [\"October 2nd, 2008\"]"
     ]
    },
    {
     "name": "stderr",
     "output_type": "stream",
     "text": [
      "\n",
      "llama_print_timings:        load time =   10070.69 ms\n",
      "llama_print_timings:      sample time =       2.44 ms /    14 runs   (    0.17 ms per token,  5749.49 tokens per second)\n",
      "llama_print_timings: prompt eval time =     274.31 ms /    25 tokens (   10.97 ms per token,    91.14 tokens per second)\n",
      "llama_print_timings:        eval time =    1274.43 ms /    13 runs   (   98.03 ms per token,    10.20 tokens per second)\n",
      "llama_print_timings:       total time =    1599.26 ms\n",
      "Llama.generate: prefix-match hit\n"
     ]
    },
    {
     "name": "stdout",
     "output_type": "stream",
     "text": [
      " []"
     ]
    },
    {
     "name": "stderr",
     "output_type": "stream",
     "text": [
      "\n",
      "llama_print_timings:        load time =   10070.69 ms\n",
      "llama_print_timings:      sample time =       0.71 ms /     2 runs   (    0.36 ms per token,  2797.20 tokens per second)\n",
      "llama_print_timings: prompt eval time =     258.02 ms /    24 tokens (   10.75 ms per token,    93.01 tokens per second)\n",
      "llama_print_timings:        eval time =      84.98 ms /     1 runs   (   84.98 ms per token,    11.77 tokens per second)\n",
      "llama_print_timings:       total time =     352.47 ms\n",
      "Llama.generate: prefix-match hit\n"
     ]
    },
    {
     "name": "stdout",
     "output_type": "stream",
     "text": [
      " [\"Mr. Tommy Wisoky\"]"
     ]
    },
    {
     "name": "stderr",
     "output_type": "stream",
     "text": [
      "\n",
      "llama_print_timings:        load time =   10070.69 ms\n",
      "llama_print_timings:      sample time =       1.20 ms /     9 runs   (    0.13 ms per token,  7481.30 tokens per second)\n",
      "llama_print_timings: prompt eval time =    1374.65 ms /   130 tokens (   10.57 ms per token,    94.57 tokens per second)\n",
      "llama_print_timings:        eval time =     788.94 ms /     8 runs   (   98.62 ms per token,    10.14 tokens per second)\n",
      "llama_print_timings:       total time =    2187.28 ms\n",
      "Llama.generate: prefix-match hit\n"
     ]
    },
    {
     "name": "stdout",
     "output_type": "stream",
     "text": [
      " [\"9975734537\"]"
     ]
    },
    {
     "name": "stderr",
     "output_type": "stream",
     "text": [
      "\n",
      "llama_print_timings:        load time =   10070.69 ms\n",
      "llama_print_timings:      sample time =       3.15 ms /    13 runs   (    0.24 ms per token,  4129.61 tokens per second)\n",
      "llama_print_timings: prompt eval time =     300.66 ms /    25 tokens (   12.03 ms per token,    83.15 tokens per second)\n",
      "llama_print_timings:        eval time =    1025.95 ms /    12 runs   (   85.50 ms per token,    11.70 tokens per second)\n",
      "llama_print_timings:       total time =    1375.80 ms\n",
      "Llama.generate: prefix-match hit\n"
     ]
    },
    {
     "name": "stdout",
     "output_type": "stream",
     "text": [
      " [\"October 7th, 2019\"]"
     ]
    },
    {
     "name": "stderr",
     "output_type": "stream",
     "text": [
      "\n",
      "llama_print_timings:        load time =   10070.69 ms\n",
      "llama_print_timings:      sample time =       2.10 ms /    14 runs   (    0.15 ms per token,  6669.84 tokens per second)\n",
      "llama_print_timings: prompt eval time =     285.26 ms /    25 tokens (   11.41 ms per token,    87.64 tokens per second)\n",
      "llama_print_timings:        eval time =    1275.74 ms /    13 runs   (   98.13 ms per token,    10.19 tokens per second)\n",
      "llama_print_timings:       total time =    1601.86 ms\n",
      "Llama.generate: prefix-match hit\n"
     ]
    },
    {
     "name": "stdout",
     "output_type": "stream",
     "text": [
      " [\"Nan\", \"Null\"]"
     ]
    },
    {
     "name": "stderr",
     "output_type": "stream",
     "text": [
      "\n",
      "llama_print_timings:        load time =   10070.69 ms\n",
      "llama_print_timings:      sample time =       1.12 ms /     8 runs   (    0.14 ms per token,  7155.64 tokens per second)\n",
      "llama_print_timings: prompt eval time =     266.03 ms /    24 tokens (   11.08 ms per token,    90.21 tokens per second)\n",
      "llama_print_timings:        eval time =     641.46 ms /     7 runs   (   91.64 ms per token,    10.91 tokens per second)\n",
      "llama_print_timings:       total time =     927.79 ms\n",
      "Llama.generate: prefix-match hit\n"
     ]
    },
    {
     "name": "stdout",
     "output_type": "stream",
     "text": [
      " [\"Dewey Zieme\"]"
     ]
    },
    {
     "name": "stderr",
     "output_type": "stream",
     "text": [
      "\n",
      "llama_print_timings:        load time =   10070.69 ms\n",
      "llama_print_timings:      sample time =       2.50 ms /     9 runs   (    0.28 ms per token,  3602.88 tokens per second)\n",
      "llama_print_timings: prompt eval time =    1117.51 ms /   118 tokens (    9.47 ms per token,   105.59 tokens per second)\n",
      "llama_print_timings:        eval time =     750.79 ms /     8 runs   (   93.85 ms per token,    10.66 tokens per second)\n",
      "llama_print_timings:       total time =    1900.26 ms\n",
      "Llama.generate: prefix-match hit\n"
     ]
    },
    {
     "name": "stdout",
     "output_type": "stream",
     "text": [
      " [\"NHS number 4118554933\"]"
     ]
    },
    {
     "name": "stderr",
     "output_type": "stream",
     "text": [
      "\n",
      "llama_print_timings:        load time =   10070.69 ms\n",
      "llama_print_timings:      sample time =       3.05 ms /    17 runs   (    0.18 ms per token,  5566.47 tokens per second)\n",
      "llama_print_timings: prompt eval time =     303.30 ms /    25 tokens (   12.13 ms per token,    82.43 tokens per second)\n",
      "llama_print_timings:        eval time =    1624.36 ms /    16 runs   (  101.52 ms per token,     9.85 tokens per second)\n",
      "llama_print_timings:       total time =    1980.93 ms\n",
      "Llama.generate: prefix-match hit\n"
     ]
    },
    {
     "name": "stdout",
     "output_type": "stream",
     "text": [
      " [\"August 26, 1959\"]"
     ]
    },
    {
     "name": "stderr",
     "output_type": "stream",
     "text": [
      "\n",
      "llama_print_timings:        load time =   10070.69 ms\n",
      "llama_print_timings:      sample time =       1.75 ms /    13 runs   (    0.13 ms per token,  7437.07 tokens per second)\n",
      "llama_print_timings: prompt eval time =     282.13 ms /    25 tokens (   11.29 ms per token,    88.61 tokens per second)\n",
      "llama_print_timings:        eval time =    1119.81 ms /    12 runs   (   93.32 ms per token,    10.72 tokens per second)\n",
      "llama_print_timings:       total time =    1435.41 ms\n",
      "Llama.generate: prefix-match hit\n"
     ]
    },
    {
     "name": "stdout",
     "output_type": "stream",
     "text": [
      " []"
     ]
    },
    {
     "name": "stderr",
     "output_type": "stream",
     "text": [
      "\n",
      "llama_print_timings:        load time =   10070.69 ms\n",
      "llama_print_timings:      sample time =       0.42 ms /     2 runs   (    0.21 ms per token,  4716.98 tokens per second)\n",
      "llama_print_timings: prompt eval time =     259.33 ms /    24 tokens (   10.81 ms per token,    92.55 tokens per second)\n",
      "llama_print_timings:        eval time =      95.85 ms /     1 runs   (   95.85 ms per token,    10.43 tokens per second)\n",
      "llama_print_timings:       total time =     364.91 ms\n",
      "Llama.generate: prefix-match hit\n"
     ]
    },
    {
     "name": "stdout",
     "output_type": "stream",
     "text": [
      " [\"Malvina Anderson\"]"
     ]
    },
    {
     "name": "stderr",
     "output_type": "stream",
     "text": [
      "\n",
      "llama_print_timings:        load time =   10070.69 ms\n",
      "llama_print_timings:      sample time =       2.06 ms /     7 runs   (    0.29 ms per token,  3404.67 tokens per second)\n",
      "llama_print_timings: prompt eval time =    1435.44 ms /   153 tokens (    9.38 ms per token,   106.59 tokens per second)\n",
      "llama_print_timings:        eval time =     529.24 ms /     6 runs   (   88.21 ms per token,    11.34 tokens per second)\n",
      "llama_print_timings:       total time =    1996.08 ms\n",
      "Llama.generate: prefix-match hit\n"
     ]
    },
    {
     "name": "stdout",
     "output_type": "stream",
     "text": [
      " [\"1516947274\"]"
     ]
    },
    {
     "name": "stderr",
     "output_type": "stream",
     "text": [
      "\n",
      "llama_print_timings:        load time =   10070.69 ms\n",
      "llama_print_timings:      sample time =       4.55 ms /    13 runs   (    0.35 ms per token,  2857.14 tokens per second)\n",
      "llama_print_timings: prompt eval time =     325.24 ms /    25 tokens (   13.01 ms per token,    76.87 tokens per second)\n",
      "llama_print_timings:        eval time =    1093.07 ms /    12 runs   (   91.09 ms per token,    10.98 tokens per second)\n",
      "llama_print_timings:       total time =    1486.30 ms\n",
      "Llama.generate: prefix-match hit\n"
     ]
    },
    {
     "name": "stdout",
     "output_type": "stream",
     "text": [
      " [\"February 19, 1977\"]"
     ]
    },
    {
     "name": "stderr",
     "output_type": "stream",
     "text": [
      "\n",
      "llama_print_timings:        load time =   10070.69 ms\n",
      "llama_print_timings:      sample time =       4.56 ms /    15 runs   (    0.30 ms per token,  3292.36 tokens per second)\n",
      "llama_print_timings: prompt eval time =     294.13 ms /    25 tokens (   11.77 ms per token,    85.00 tokens per second)\n",
      "llama_print_timings:        eval time =    1318.25 ms /    14 runs   (   94.16 ms per token,    10.62 tokens per second)\n",
      "llama_print_timings:       total time =    1687.68 ms\n",
      "Llama.generate: prefix-match hit\n"
     ]
    },
    {
     "name": "stdout",
     "output_type": "stream",
     "text": [
      " [\"allergic rhinitis\", \"seasonal allergies\"]"
     ]
    },
    {
     "name": "stderr",
     "output_type": "stream",
     "text": [
      "\n",
      "llama_print_timings:        load time =   10070.69 ms\n",
      "llama_print_timings:      sample time =       6.87 ms /    16 runs   (    0.43 ms per token,  2329.98 tokens per second)\n",
      "llama_print_timings: prompt eval time =     300.17 ms /    24 tokens (   12.51 ms per token,    79.95 tokens per second)\n",
      "llama_print_timings:        eval time =    1368.85 ms /    15 runs   (   91.26 ms per token,    10.96 tokens per second)\n",
      "llama_print_timings:       total time =    1759.97 ms\n",
      "Llama.generate: prefix-match hit\n"
     ]
    },
    {
     "name": "stdout",
     "output_type": "stream",
     "text": [
      " [\"Lorene Boyer\"]"
     ]
    },
    {
     "name": "stderr",
     "output_type": "stream",
     "text": [
      "\n",
      "llama_print_timings:        load time =   10070.69 ms\n",
      "llama_print_timings:      sample time =       3.63 ms /     8 runs   (    0.45 ms per token,  2205.07 tokens per second)\n",
      "llama_print_timings: prompt eval time =    1939.31 ms /   209 tokens (    9.28 ms per token,   107.77 tokens per second)\n",
      "llama_print_timings:        eval time =     575.31 ms /     7 runs   (   82.19 ms per token,    12.17 tokens per second)\n",
      "llama_print_timings:       total time =    2571.85 ms\n",
      "Llama.generate: prefix-match hit\n"
     ]
    },
    {
     "name": "stdout",
     "output_type": "stream",
     "text": [
      " [\"9698123407\"]"
     ]
    },
    {
     "name": "stderr",
     "output_type": "stream",
     "text": [
      "\n",
      "llama_print_timings:        load time =   10070.69 ms\n",
      "llama_print_timings:      sample time =       6.72 ms /    13 runs   (    0.52 ms per token,  1934.52 tokens per second)\n",
      "llama_print_timings: prompt eval time =     325.57 ms /    25 tokens (   13.02 ms per token,    76.79 tokens per second)\n",
      "llama_print_timings:        eval time =     971.51 ms /    12 runs   (   80.96 ms per token,    12.35 tokens per second)\n",
      "llama_print_timings:       total time =    1403.00 ms\n",
      "Llama.generate: prefix-match hit\n"
     ]
    },
    {
     "name": "stdout",
     "output_type": "stream",
     "text": [
      " [\"February 15, 2013\"]"
     ]
    },
    {
     "name": "stderr",
     "output_type": "stream",
     "text": [
      "\n",
      "llama_print_timings:        load time =   10070.69 ms\n",
      "llama_print_timings:      sample time =      10.22 ms /    15 runs   (    0.68 ms per token,  1467.14 tokens per second)\n",
      "llama_print_timings: prompt eval time =     294.84 ms /    25 tokens (   11.79 ms per token,    84.79 tokens per second)\n",
      "llama_print_timings:        eval time =    1176.67 ms /    14 runs   (   84.05 ms per token,    11.90 tokens per second)\n",
      "llama_print_timings:       total time =    1605.97 ms\n",
      "Llama.generate: prefix-match hit\n"
     ]
    },
    {
     "name": "stdout",
     "output_type": "stream",
     "text": [
      " [\"otitis media\", \"middle ear infections\"]"
     ]
    },
    {
     "name": "stderr",
     "output_type": "stream",
     "text": [
      "\n",
      "llama_print_timings:        load time =   10070.69 ms\n",
      "llama_print_timings:      sample time =       4.09 ms /    13 runs   (    0.31 ms per token,  3176.15 tokens per second)\n",
      "llama_print_timings: prompt eval time =     258.52 ms /    24 tokens (   10.77 ms per token,    92.83 tokens per second)\n",
      "llama_print_timings:        eval time =    1155.84 ms /    12 runs   (   96.32 ms per token,    10.38 tokens per second)\n",
      "llama_print_timings:       total time =    1487.24 ms\n",
      "Llama.generate: prefix-match hit\n"
     ]
    },
    {
     "name": "stdout",
     "output_type": "stream",
     "text": [
      " [\"Mr. Antoine King\"]"
     ]
    },
    {
     "name": "stderr",
     "output_type": "stream",
     "text": [
      "\n",
      "llama_print_timings:        load time =   10070.69 ms\n",
      "llama_print_timings:      sample time =       2.95 ms /     7 runs   (    0.42 ms per token,  2369.67 tokens per second)\n",
      "llama_print_timings: prompt eval time =    1709.78 ms /   192 tokens (    8.91 ms per token,   112.29 tokens per second)\n",
      "llama_print_timings:        eval time =     487.55 ms /     6 runs   (   81.26 ms per token,    12.31 tokens per second)\n",
      "llama_print_timings:       total time =    2250.53 ms\n",
      "Llama.generate: prefix-match hit\n"
     ]
    },
    {
     "name": "stdout",
     "output_type": "stream",
     "text": [
      " [\"4412091600\"]"
     ]
    },
    {
     "name": "stderr",
     "output_type": "stream",
     "text": [
      "\n",
      "llama_print_timings:        load time =   10070.69 ms\n",
      "llama_print_timings:      sample time =       7.04 ms /    13 runs   (    0.54 ms per token,  1847.38 tokens per second)\n",
      "llama_print_timings: prompt eval time =     331.23 ms /    25 tokens (   13.25 ms per token,    75.48 tokens per second)\n",
      "llama_print_timings:        eval time =    1061.30 ms /    12 runs   (   88.44 ms per token,    11.31 tokens per second)\n",
      "llama_print_timings:       total time =    1495.85 ms\n",
      "Llama.generate: prefix-match hit\n"
     ]
    },
    {
     "name": "stdout",
     "output_type": "stream",
     "text": [
      " [\"August 7th, 2022\"]"
     ]
    },
    {
     "name": "stderr",
     "output_type": "stream",
     "text": [
      "\n",
      "llama_print_timings:        load time =   10070.69 ms\n",
      "llama_print_timings:      sample time =       6.15 ms /    13 runs   (    0.47 ms per token,  2113.82 tokens per second)\n",
      "llama_print_timings: prompt eval time =     311.22 ms /    25 tokens (   12.45 ms per token,    80.33 tokens per second)\n",
      "llama_print_timings:        eval time =    1087.48 ms /    12 runs   (   90.62 ms per token,    11.03 tokens per second)\n",
      "llama_print_timings:       total time =    1495.29 ms\n",
      "Llama.generate: prefix-match hit\n"
     ]
    },
    {
     "name": "stdout",
     "output_type": "stream",
     "text": [
      " [\"acute bronchitis\", \"respiratory infection\"]"
     ]
    },
    {
     "name": "stderr",
     "output_type": "stream",
     "text": [
      "\n",
      "llama_print_timings:        load time =   10070.69 ms\n",
      "llama_print_timings:      sample time =       6.95 ms /    15 runs   (    0.46 ms per token,  2157.65 tokens per second)\n",
      "llama_print_timings: prompt eval time =     281.65 ms /    24 tokens (   11.74 ms per token,    85.21 tokens per second)\n",
      "llama_print_timings:        eval time =    1234.24 ms /    14 runs   (   88.16 ms per token,    11.34 tokens per second)\n",
      "llama_print_timings:       total time =    1613.43 ms\n",
      "Llama.generate: prefix-match hit\n"
     ]
    },
    {
     "name": "stdout",
     "output_type": "stream",
     "text": [
      " [\"Tiny Hirthe\"]"
     ]
    },
    {
     "name": "stderr",
     "output_type": "stream",
     "text": [
      "\n",
      "llama_print_timings:        load time =   10070.69 ms\n",
      "llama_print_timings:      sample time =       2.45 ms /     7 runs   (    0.35 ms per token,  2857.14 tokens per second)\n",
      "llama_print_timings: prompt eval time =    1728.84 ms /   167 tokens (   10.35 ms per token,    96.60 tokens per second)\n",
      "llama_print_timings:        eval time =     545.64 ms /     6 runs   (   90.94 ms per token,    11.00 tokens per second)\n",
      "llama_print_timings:       total time =    2311.66 ms\n",
      "Llama.generate: prefix-match hit\n"
     ]
    },
    {
     "name": "stdout",
     "output_type": "stream",
     "text": [
      " [\"NHS Number\"]"
     ]
    },
    {
     "name": "stderr",
     "output_type": "stream",
     "text": [
      "\n",
      "llama_print_timings:        load time =   10070.69 ms\n",
      "llama_print_timings:      sample time =       3.20 ms /     6 runs   (    0.53 ms per token,  1873.83 tokens per second)\n",
      "llama_print_timings: prompt eval time =     344.82 ms /    25 tokens (   13.79 ms per token,    72.50 tokens per second)\n",
      "llama_print_timings:        eval time =     442.05 ms /     5 runs   (   88.41 ms per token,    11.31 tokens per second)\n",
      "llama_print_timings:       total time =     822.79 ms\n",
      "Llama.generate: prefix-match hit\n"
     ]
    },
    {
     "name": "stdout",
     "output_type": "stream",
     "text": [
      " [\"August 15, 1982\"]"
     ]
    },
    {
     "name": "stderr",
     "output_type": "stream",
     "text": [
      "\n",
      "llama_print_timings:        load time =   10070.69 ms\n",
      "llama_print_timings:      sample time =       5.56 ms /    13 runs   (    0.43 ms per token,  2338.97 tokens per second)\n",
      "llama_print_timings: prompt eval time =     332.19 ms /    25 tokens (   13.29 ms per token,    75.26 tokens per second)\n",
      "llama_print_timings:        eval time =    1075.31 ms /    12 runs   (   89.61 ms per token,    11.16 tokens per second)\n",
      "llama_print_timings:       total time =    1484.99 ms\n",
      "Llama.generate: prefix-match hit\n"
     ]
    },
    {
     "name": "stdout",
     "output_type": "stream",
     "text": [
      " []"
     ]
    },
    {
     "name": "stderr",
     "output_type": "stream",
     "text": [
      "\n",
      "llama_print_timings:        load time =   10070.69 ms\n",
      "llama_print_timings:      sample time =       0.84 ms /     2 runs   (    0.42 ms per token,  2389.49 tokens per second)\n",
      "llama_print_timings: prompt eval time =     304.23 ms /    24 tokens (   12.68 ms per token,    78.89 tokens per second)\n",
      "llama_print_timings:        eval time =      87.78 ms /     1 runs   (   87.78 ms per token,    11.39 tokens per second)\n",
      "llama_print_timings:       total time =     402.10 ms\n",
      "Llama.generate: prefix-match hit\n"
     ]
    },
    {
     "name": "stdout",
     "output_type": "stream",
     "text": [
      " [\"Patient Han Walsh\"]"
     ]
    },
    {
     "name": "stderr",
     "output_type": "stream",
     "text": [
      "\n",
      "llama_print_timings:        load time =   10070.69 ms\n",
      "llama_print_timings:      sample time =       2.98 ms /     8 runs   (    0.37 ms per token,  2689.08 tokens per second)\n",
      "llama_print_timings: prompt eval time =    1502.94 ms /   145 tokens (   10.37 ms per token,    96.48 tokens per second)\n",
      "llama_print_timings:        eval time =     628.40 ms /     7 runs   (   89.77 ms per token,    11.14 tokens per second)\n",
      "llama_print_timings:       total time =    2171.61 ms\n",
      "Llama.generate: prefix-match hit\n"
     ]
    },
    {
     "name": "stdout",
     "output_type": "stream",
     "text": [
      " [\"4133714369\"]"
     ]
    },
    {
     "name": "stderr",
     "output_type": "stream",
     "text": [
      "\n",
      "llama_print_timings:        load time =   10070.69 ms\n",
      "llama_print_timings:      sample time =       5.64 ms /    13 runs   (    0.43 ms per token,  2306.19 tokens per second)\n",
      "llama_print_timings: prompt eval time =     328.12 ms /    25 tokens (   13.12 ms per token,    76.19 tokens per second)\n",
      "llama_print_timings:        eval time =    1063.98 ms /    12 runs   (   88.67 ms per token,    11.28 tokens per second)\n",
      "llama_print_timings:       total time =    1474.70 ms\n",
      "Llama.generate: prefix-match hit\n"
     ]
    },
    {
     "name": "stdout",
     "output_type": "stream",
     "text": [
      " [\"August 13, 2019\"]"
     ]
    },
    {
     "name": "stderr",
     "output_type": "stream",
     "text": [
      "\n",
      "llama_print_timings:        load time =   10070.69 ms\n",
      "llama_print_timings:      sample time =       4.78 ms /    13 runs   (    0.37 ms per token,  2717.96 tokens per second)\n",
      "llama_print_timings: prompt eval time =     301.03 ms /    25 tokens (   12.04 ms per token,    83.05 tokens per second)\n",
      "llama_print_timings:        eval time =    1073.15 ms /    12 runs   (   89.43 ms per token,    11.18 tokens per second)\n",
      "llama_print_timings:       total time =    1445.89 ms\n",
      "Llama.generate: prefix-match hit\n"
     ]
    },
    {
     "name": "stdout",
     "output_type": "stream",
     "text": [
      " [\"acute viral pharyngitis\"]"
     ]
    },
    {
     "name": "stderr",
     "output_type": "stream",
     "text": [
      "\n",
      "llama_print_timings:        load time =   10070.69 ms\n",
      "llama_print_timings:      sample time =       5.28 ms /    11 runs   (    0.48 ms per token,  2083.33 tokens per second)\n",
      "llama_print_timings: prompt eval time =     276.11 ms /    24 tokens (   11.50 ms per token,    86.92 tokens per second)\n",
      "llama_print_timings:        eval time =     883.65 ms /    10 runs   (   88.37 ms per token,    11.32 tokens per second)\n",
      "llama_print_timings:       total time =    1218.97 ms\n",
      "Llama.generate: prefix-match hit\n"
     ]
    },
    {
     "name": "stdout",
     "output_type": "stream",
     "text": [
      " [\"Salvador Hyatt\"]"
     ]
    },
    {
     "name": "stderr",
     "output_type": "stream",
     "text": [
      "\n",
      "llama_print_timings:        load time =   10070.69 ms\n",
      "llama_print_timings:      sample time =       3.28 ms /     8 runs   (    0.41 ms per token,  2437.54 tokens per second)\n",
      "llama_print_timings: prompt eval time =    1137.26 ms /   128 tokens (    8.88 ms per token,   112.55 tokens per second)\n",
      "llama_print_timings:        eval time =     616.12 ms /     7 runs   (   88.02 ms per token,    11.36 tokens per second)\n",
      "llama_print_timings:       total time =    1802.14 ms\n",
      "Llama.generate: prefix-match hit\n"
     ]
    },
    {
     "name": "stdout",
     "output_type": "stream",
     "text": [
      " [\"NHS number\"]"
     ]
    },
    {
     "name": "stderr",
     "output_type": "stream",
     "text": [
      "\n",
      "llama_print_timings:        load time =   10070.69 ms\n",
      "llama_print_timings:      sample time =       2.88 ms /     6 runs   (    0.48 ms per token,  2085.51 tokens per second)\n",
      "llama_print_timings: prompt eval time =     327.76 ms /    25 tokens (   13.11 ms per token,    76.27 tokens per second)\n",
      "llama_print_timings:        eval time =     438.71 ms /     5 runs   (   87.74 ms per token,    11.40 tokens per second)\n",
      "llama_print_timings:       total time =     805.10 ms\n",
      "Llama.generate: prefix-match hit\n"
     ]
    },
    {
     "name": "stdout",
     "output_type": "stream",
     "text": [
      " [\"February 6th, 2012\"]"
     ]
    },
    {
     "name": "stderr",
     "output_type": "stream",
     "text": [
      "\n",
      "llama_print_timings:        load time =   10070.69 ms\n",
      "llama_print_timings:      sample time =       7.49 ms /    15 runs   (    0.50 ms per token,  2003.74 tokens per second)\n",
      "llama_print_timings: prompt eval time =     323.12 ms /    25 tokens (   12.92 ms per token,    77.37 tokens per second)\n",
      "llama_print_timings:        eval time =    1224.86 ms /    14 runs   (   87.49 ms per token,    11.43 tokens per second)\n",
      "llama_print_timings:       total time =    1652.68 ms\n",
      "Llama.generate: prefix-match hit\n"
     ]
    },
    {
     "name": "stdout",
     "output_type": "stream",
     "text": [
      " [\"acute bronchitis\"]"
     ]
    },
    {
     "name": "stderr",
     "output_type": "stream",
     "text": [
      "\n",
      "llama_print_timings:        load time =   10070.69 ms\n",
      "llama_print_timings:      sample time =       5.16 ms /     8 runs   (    0.64 ms per token,  1551.29 tokens per second)\n",
      "llama_print_timings: prompt eval time =     297.64 ms /    24 tokens (   12.40 ms per token,    80.63 tokens per second)\n",
      "llama_print_timings:        eval time =     621.74 ms /     7 runs   (   88.82 ms per token,    11.26 tokens per second)\n",
      "llama_print_timings:       total time =     972.18 ms\n",
      "Llama.generate: prefix-match hit\n"
     ]
    },
    {
     "name": "stdout",
     "output_type": "stream",
     "text": [
      " [\"Loretta King\"]"
     ]
    },
    {
     "name": "stderr",
     "output_type": "stream",
     "text": [
      "\n",
      "llama_print_timings:        load time =   10070.69 ms\n",
      "llama_print_timings:      sample time =       3.02 ms /     7 runs   (    0.43 ms per token,  2320.19 tokens per second)\n",
      "llama_print_timings: prompt eval time =    1765.82 ms /   177 tokens (    9.98 ms per token,   100.24 tokens per second)\n",
      "llama_print_timings:        eval time =     557.94 ms /     6 runs   (   92.99 ms per token,    10.75 tokens per second)\n",
      "llama_print_timings:       total time =    2368.99 ms\n",
      "Llama.generate: prefix-match hit\n"
     ]
    },
    {
     "name": "stdout",
     "output_type": "stream",
     "text": [
      " [\"NHS number 2162659328\"]"
     ]
    },
    {
     "name": "stderr",
     "output_type": "stream",
     "text": [
      "\n",
      "llama_print_timings:        load time =   10070.69 ms\n",
      "llama_print_timings:      sample time =       7.87 ms /    17 runs   (    0.46 ms per token,  2159.83 tokens per second)\n",
      "llama_print_timings: prompt eval time =     343.75 ms /    25 tokens (   13.75 ms per token,    72.73 tokens per second)\n",
      "llama_print_timings:        eval time =    1397.20 ms /    16 runs   (   87.33 ms per token,    11.45 tokens per second)\n",
      "llama_print_timings:       total time =    1855.48 ms\n",
      "Llama.generate: prefix-match hit\n"
     ]
    },
    {
     "name": "stdout",
     "output_type": "stream",
     "text": [
      " [\"November 6th, 2003\"]"
     ]
    },
    {
     "name": "stderr",
     "output_type": "stream",
     "text": [
      "\n",
      "llama_print_timings:        load time =   10070.69 ms\n",
      "llama_print_timings:      sample time =       6.56 ms /    14 runs   (    0.47 ms per token,  2134.15 tokens per second)\n",
      "llama_print_timings: prompt eval time =     302.94 ms /    25 tokens (   12.12 ms per token,    82.53 tokens per second)\n",
      "llama_print_timings:        eval time =    1121.99 ms /    13 runs   (   86.31 ms per token,    11.59 tokens per second)\n",
      "llama_print_timings:       total time =    1523.24 ms\n",
      "Llama.generate: prefix-match hit\n"
     ]
    },
    {
     "name": "stdout",
     "output_type": "stream",
     "text": [
      " [\"atopic dermatitis\"]"
     ]
    },
    {
     "name": "stderr",
     "output_type": "stream",
     "text": [
      "\n",
      "llama_print_timings:        load time =   10070.69 ms\n",
      "llama_print_timings:      sample time =       5.67 ms /     9 runs   (    0.63 ms per token,  1587.30 tokens per second)\n",
      "llama_print_timings: prompt eval time =     281.35 ms /    24 tokens (   11.72 ms per token,    85.30 tokens per second)\n",
      "llama_print_timings:        eval time =     708.62 ms /     8 runs   (   88.58 ms per token,    11.29 tokens per second)\n",
      "llama_print_timings:       total time =    1057.07 ms\n",
      "Llama.generate: prefix-match hit\n"
     ]
    },
    {
     "name": "stdout",
     "output_type": "stream",
     "text": [
      " [\"Randy Mayer\"]"
     ]
    },
    {
     "name": "stderr",
     "output_type": "stream",
     "text": [
      "\n",
      "llama_print_timings:        load time =   10070.69 ms\n",
      "llama_print_timings:      sample time =       3.11 ms /     7 runs   (    0.44 ms per token,  2250.80 tokens per second)\n",
      "llama_print_timings: prompt eval time =    2878.51 ms /   277 tokens (   10.39 ms per token,    96.23 tokens per second)\n",
      "llama_print_timings:        eval time =     557.42 ms /     6 runs   (   92.90 ms per token,    10.76 tokens per second)\n",
      "llama_print_timings:       total time =    3476.75 ms\n",
      "Llama.generate: prefix-match hit\n"
     ]
    },
    {
     "name": "stdout",
     "output_type": "stream",
     "text": [
      " [\"2205332465\"]"
     ]
    },
    {
     "name": "stderr",
     "output_type": "stream",
     "text": [
      "\n",
      "llama_print_timings:        load time =   10070.69 ms\n",
      "llama_print_timings:      sample time =       6.99 ms /    13 runs   (    0.54 ms per token,  1860.33 tokens per second)\n",
      "llama_print_timings: prompt eval time =     362.36 ms /    25 tokens (   14.49 ms per token,    68.99 tokens per second)\n",
      "llama_print_timings:        eval time =    1079.92 ms /    12 runs   (   89.99 ms per token,    11.11 tokens per second)\n",
      "llama_print_timings:       total time =    1527.49 ms\n",
      "Llama.generate: prefix-match hit\n"
     ]
    },
    {
     "name": "stdout",
     "output_type": "stream",
     "text": [
      " [\"July 11, 2021\"]"
     ]
    },
    {
     "name": "stderr",
     "output_type": "stream",
     "text": [
      "\n",
      "llama_print_timings:        load time =   10070.69 ms\n",
      "llama_print_timings:      sample time =       7.38 ms /    14 runs   (    0.53 ms per token,  1897.53 tokens per second)\n",
      "llama_print_timings: prompt eval time =     320.52 ms /    25 tokens (   12.82 ms per token,    78.00 tokens per second)\n",
      "llama_print_timings:        eval time =    1168.04 ms /    13 runs   (   89.85 ms per token,    11.13 tokens per second)\n",
      "llama_print_timings:       total time =    1575.69 ms\n",
      "Llama.generate: prefix-match hit\n"
     ]
    },
    {
     "name": "stdout",
     "output_type": "stream",
     "text": [
      " [\"acute bronchitis\", \"disorder\"]"
     ]
    },
    {
     "name": "stderr",
     "output_type": "stream",
     "text": [
      "\n",
      "llama_print_timings:        load time =   10070.69 ms\n",
      "llama_print_timings:      sample time =       5.35 ms /    12 runs   (    0.45 ms per token,  2241.73 tokens per second)\n",
      "llama_print_timings: prompt eval time =     285.75 ms /    24 tokens (   11.91 ms per token,    83.99 tokens per second)\n",
      "llama_print_timings:        eval time =     981.84 ms /    11 runs   (   89.26 ms per token,    11.20 tokens per second)\n",
      "llama_print_timings:       total time =    1348.69 ms\n",
      "Llama.generate: prefix-match hit\n"
     ]
    },
    {
     "name": "stdout",
     "output_type": "stream",
     "text": [
      " [\"Merle Nader\"]"
     ]
    },
    {
     "name": "stderr",
     "output_type": "stream",
     "text": [
      "\n",
      "llama_print_timings:        load time =   10070.69 ms\n",
      "llama_print_timings:      sample time =       3.22 ms /     7 runs   (    0.46 ms per token,  2172.56 tokens per second)\n",
      "llama_print_timings: prompt eval time =    1118.20 ms /   117 tokens (    9.56 ms per token,   104.63 tokens per second)\n",
      "llama_print_timings:        eval time =     539.57 ms /     6 runs   (   89.93 ms per token,    11.12 tokens per second)\n",
      "llama_print_timings:       total time =    1695.42 ms\n",
      "Llama.generate: prefix-match hit\n"
     ]
    },
    {
     "name": "stdout",
     "output_type": "stream",
     "text": [
      " [\"6933580911\"]"
     ]
    },
    {
     "name": "stderr",
     "output_type": "stream",
     "text": [
      "\n",
      "llama_print_timings:        load time =   10070.69 ms\n",
      "llama_print_timings:      sample time =       6.24 ms /    13 runs   (    0.48 ms per token,  2083.33 tokens per second)\n",
      "llama_print_timings: prompt eval time =     324.33 ms /    25 tokens (   12.97 ms per token,    77.08 tokens per second)\n",
      "llama_print_timings:        eval time =    1075.59 ms /    12 runs   (   89.63 ms per token,    11.16 tokens per second)\n",
      "llama_print_timings:       total time =    1470.01 ms\n",
      "Llama.generate: prefix-match hit\n"
     ]
    },
    {
     "name": "stdout",
     "output_type": "stream",
     "text": [
      " [\"October 7, 1981\"]"
     ]
    },
    {
     "name": "stderr",
     "output_type": "stream",
     "text": [
      "\n",
      "llama_print_timings:        load time =   10070.69 ms\n",
      "llama_print_timings:      sample time =       6.42 ms /    13 runs   (    0.49 ms per token,  2025.55 tokens per second)\n",
      "llama_print_timings: prompt eval time =     306.97 ms /    25 tokens (   12.28 ms per token,    81.44 tokens per second)\n",
      "llama_print_timings:        eval time =    1025.81 ms /    12 runs   (   85.48 ms per token,    11.70 tokens per second)\n",
      "llama_print_timings:       total time =    1418.88 ms\n",
      "Llama.generate: prefix-match hit\n"
     ]
    },
    {
     "name": "stdout",
     "output_type": "stream",
     "text": [
      " [\"Impacted molars\"]"
     ]
    },
    {
     "name": "stderr",
     "output_type": "stream",
     "text": [
      "\n",
      "llama_print_timings:        load time =   10070.69 ms\n",
      "llama_print_timings:      sample time =       4.38 ms /     8 runs   (    0.55 ms per token,  1828.15 tokens per second)\n",
      "llama_print_timings: prompt eval time =     286.71 ms /    24 tokens (   11.95 ms per token,    83.71 tokens per second)\n",
      "llama_print_timings:        eval time =     625.88 ms /     7 runs   (   89.41 ms per token,    11.18 tokens per second)\n",
      "llama_print_timings:       total time =     963.00 ms\n",
      "Llama.generate: prefix-match hit\n"
     ]
    },
    {
     "name": "stdout",
     "output_type": "stream",
     "text": [
      " [\"Ms. Edie Hoeger\"]"
     ]
    },
    {
     "name": "stderr",
     "output_type": "stream",
     "text": [
      "\n",
      "llama_print_timings:        load time =   10070.69 ms\n",
      "llama_print_timings:      sample time =       4.07 ms /    11 runs   (    0.37 ms per token,  2700.05 tokens per second)\n",
      "llama_print_timings: prompt eval time =    1464.58 ms /   145 tokens (   10.10 ms per token,    99.00 tokens per second)\n",
      "llama_print_timings:        eval time =     906.50 ms /    10 runs   (   90.65 ms per token,    11.03 tokens per second)\n",
      "llama_print_timings:       total time =    2434.12 ms\n",
      "Llama.generate: prefix-match hit\n"
     ]
    },
    {
     "name": "stdout",
     "output_type": "stream",
     "text": [
      " [\"9843565916\"]"
     ]
    },
    {
     "name": "stderr",
     "output_type": "stream",
     "text": [
      "\n",
      "llama_print_timings:        load time =   10070.69 ms\n",
      "llama_print_timings:      sample time =       6.26 ms /    13 runs   (    0.48 ms per token,  2076.68 tokens per second)\n",
      "llama_print_timings: prompt eval time =     324.76 ms /    25 tokens (   12.99 ms per token,    76.98 tokens per second)\n",
      "llama_print_timings:        eval time =    1046.15 ms /    12 runs   (   87.18 ms per token,    11.47 tokens per second)\n",
      "llama_print_timings:       total time =    1450.12 ms\n",
      "Llama.generate: prefix-match hit\n"
     ]
    },
    {
     "name": "stdout",
     "output_type": "stream",
     "text": [
      " [\"September 14, 1978\"]"
     ]
    },
    {
     "name": "stderr",
     "output_type": "stream",
     "text": [
      "\n",
      "llama_print_timings:        load time =   10070.69 ms\n",
      "llama_print_timings:      sample time =       5.75 ms /    14 runs   (    0.41 ms per token,  2436.48 tokens per second)\n",
      "llama_print_timings: prompt eval time =     301.96 ms /    25 tokens (   12.08 ms per token,    82.79 tokens per second)\n",
      "llama_print_timings:        eval time =    1135.54 ms /    13 runs   (   87.35 ms per token,    11.45 tokens per second)\n",
      "llama_print_timings:       total time =    1534.46 ms\n",
      "Llama.generate: prefix-match hit\n"
     ]
    },
    {
     "name": "stdout",
     "output_type": "stream",
     "text": [
      " []"
     ]
    },
    {
     "name": "stderr",
     "output_type": "stream",
     "text": [
      "\n",
      "llama_print_timings:        load time =   10070.69 ms\n",
      "llama_print_timings:      sample time =       1.02 ms /     2 runs   (    0.51 ms per token,  1953.12 tokens per second)\n",
      "llama_print_timings: prompt eval time =     277.20 ms /    24 tokens (   11.55 ms per token,    86.58 tokens per second)\n",
      "llama_print_timings:        eval time =     101.21 ms /     1 runs   (  101.21 ms per token,     9.88 tokens per second)\n",
      "llama_print_timings:       total time =     388.12 ms\n",
      "Llama.generate: prefix-match hit\n"
     ]
    },
    {
     "name": "stdout",
     "output_type": "stream",
     "text": [
      " [\"Patient Devon Marks\"]"
     ]
    },
    {
     "name": "stderr",
     "output_type": "stream",
     "text": [
      "\n",
      "llama_print_timings:        load time =   10070.69 ms\n",
      "llama_print_timings:      sample time =       3.84 ms /     9 runs   (    0.43 ms per token,  2346.19 tokens per second)\n",
      "llama_print_timings: prompt eval time =    1463.60 ms /   144 tokens (   10.16 ms per token,    98.39 tokens per second)\n",
      "llama_print_timings:        eval time =     706.86 ms /     8 runs   (   88.36 ms per token,    11.32 tokens per second)\n",
      "llama_print_timings:       total time =    2230.69 ms\n",
      "Llama.generate: prefix-match hit\n"
     ]
    },
    {
     "name": "stdout",
     "output_type": "stream",
     "text": [
      " [\"NHS number\", \"8882949338\"]"
     ]
    },
    {
     "name": "stderr",
     "output_type": "stream",
     "text": [
      "\n",
      "llama_print_timings:        load time =   10070.69 ms\n",
      "llama_print_timings:      sample time =      10.91 ms /    18 runs   (    0.61 ms per token,  1649.56 tokens per second)\n",
      "llama_print_timings: prompt eval time =     323.79 ms /    25 tokens (   12.95 ms per token,    77.21 tokens per second)\n",
      "llama_print_timings:        eval time =    1403.24 ms /    17 runs   (   82.54 ms per token,    12.11 tokens per second)\n",
      "llama_print_timings:       total time =    1874.69 ms\n",
      "Llama.generate: prefix-match hit\n"
     ]
    },
    {
     "name": "stdout",
     "output_type": "stream",
     "text": [
      " [\"December 1st, 1978\"]"
     ]
    },
    {
     "name": "stderr",
     "output_type": "stream",
     "text": [
      "\n",
      "llama_print_timings:        load time =   10070.69 ms\n",
      "llama_print_timings:      sample time =       6.67 ms /    14 runs   (    0.48 ms per token,  2100.53 tokens per second)\n",
      "llama_print_timings: prompt eval time =     274.24 ms /    25 tokens (   10.97 ms per token,    91.16 tokens per second)\n",
      "llama_print_timings:        eval time =    1012.23 ms /    13 runs   (   77.86 ms per token,    12.84 tokens per second)\n",
      "llama_print_timings:       total time =    1385.13 ms\n",
      "Llama.generate: prefix-match hit\n"
     ]
    },
    {
     "name": "stdout",
     "output_type": "stream",
     "text": [
      " []"
     ]
    },
    {
     "name": "stderr",
     "output_type": "stream",
     "text": [
      "\n",
      "llama_print_timings:        load time =   10070.69 ms\n",
      "llama_print_timings:      sample time =       1.00 ms /     2 runs   (    0.50 ms per token,  1998.00 tokens per second)\n",
      "llama_print_timings: prompt eval time =     261.08 ms /    24 tokens (   10.88 ms per token,    91.93 tokens per second)\n",
      "llama_print_timings:        eval time =      76.73 ms /     1 runs   (   76.73 ms per token,    13.03 tokens per second)\n",
      "llama_print_timings:       total time =     353.42 ms\n",
      "Llama.generate: prefix-match hit\n"
     ]
    },
    {
     "name": "stdout",
     "output_type": "stream",
     "text": [
      " [\"Patient Tobias Koelpin\"]"
     ]
    },
    {
     "name": "stderr",
     "output_type": "stream",
     "text": [
      "\n",
      "llama_print_timings:        load time =   10070.69 ms\n",
      "llama_print_timings:      sample time =       6.33 ms /    10 runs   (    0.63 ms per token,  1578.78 tokens per second)\n",
      "llama_print_timings: prompt eval time =    1367.57 ms /   131 tokens (   10.44 ms per token,    95.79 tokens per second)\n",
      "llama_print_timings:        eval time =     789.08 ms /     9 runs   (   87.68 ms per token,    11.41 tokens per second)\n",
      "llama_print_timings:       total time =    2220.66 ms\n",
      "Llama.generate: prefix-match hit\n"
     ]
    },
    {
     "name": "stdout",
     "output_type": "stream",
     "text": [
      " [\"7175517521\"]"
     ]
    },
    {
     "name": "stderr",
     "output_type": "stream",
     "text": [
      "\n",
      "llama_print_timings:        load time =   10070.69 ms\n",
      "llama_print_timings:      sample time =       6.04 ms /    13 runs   (    0.46 ms per token,  2153.74 tokens per second)\n",
      "llama_print_timings: prompt eval time =     318.83 ms /    25 tokens (   12.75 ms per token,    78.41 tokens per second)\n",
      "llama_print_timings:        eval time =    1044.45 ms /    12 runs   (   87.04 ms per token,    11.49 tokens per second)\n",
      "llama_print_timings:       total time =    1444.60 ms\n",
      "Llama.generate: prefix-match hit\n"
     ]
    },
    {
     "name": "stdout",
     "output_type": "stream",
     "text": [
      " [\"January 12, 2022\"]"
     ]
    },
    {
     "name": "stderr",
     "output_type": "stream",
     "text": [
      "\n",
      "llama_print_timings:        load time =   10070.69 ms\n",
      "llama_print_timings:      sample time =       8.19 ms /    15 runs   (    0.55 ms per token,  1831.73 tokens per second)\n",
      "llama_print_timings: prompt eval time =     284.56 ms /    25 tokens (   11.38 ms per token,    87.86 tokens per second)\n",
      "llama_print_timings:        eval time =    1139.37 ms /    14 runs   (   81.38 ms per token,    12.29 tokens per second)\n",
      "llama_print_timings:       total time =    1526.52 ms\n",
      "Llama.generate: prefix-match hit\n"
     ]
    },
    {
     "name": "stdout",
     "output_type": "stream",
     "text": [
      " [\"viral sinusitis\"]"
     ]
    },
    {
     "name": "stderr",
     "output_type": "stream",
     "text": [
      "\n",
      "llama_print_timings:        load time =   10070.69 ms\n",
      "llama_print_timings:      sample time =       5.50 ms /     8 runs   (    0.69 ms per token,  1453.49 tokens per second)\n",
      "llama_print_timings: prompt eval time =     259.77 ms /    24 tokens (   10.82 ms per token,    92.39 tokens per second)\n",
      "llama_print_timings:        eval time =     545.13 ms /     7 runs   (   77.88 ms per token,    12.84 tokens per second)\n",
      "llama_print_timings:       total time =     864.50 ms\n",
      "Llama.generate: prefix-match hit\n"
     ]
    },
    {
     "name": "stdout",
     "output_type": "stream",
     "text": [
      " []"
     ]
    },
    {
     "name": "stderr",
     "output_type": "stream",
     "text": [
      "\n",
      "llama_print_timings:        load time =   10070.69 ms\n",
      "llama_print_timings:      sample time =       0.85 ms /     2 runs   (    0.43 ms per token,  2341.92 tokens per second)\n",
      "llama_print_timings: prompt eval time =    3150.06 ms /   302 tokens (   10.43 ms per token,    95.87 tokens per second)\n",
      "llama_print_timings:        eval time =      86.48 ms /     1 runs   (   86.48 ms per token,    11.56 tokens per second)\n",
      "llama_print_timings:       total time =    3249.04 ms\n",
      "Llama.generate: prefix-match hit\n"
     ]
    },
    {
     "name": "stdout",
     "output_type": "stream",
     "text": [
      " [\"NHS Number\"]"
     ]
    },
    {
     "name": "stderr",
     "output_type": "stream",
     "text": [
      "\n",
      "llama_print_timings:        load time =   10070.69 ms\n",
      "llama_print_timings:      sample time =       4.86 ms /     6 runs   (    0.81 ms per token,  1235.84 tokens per second)\n",
      "llama_print_timings: prompt eval time =     368.09 ms /    25 tokens (   14.72 ms per token,    67.92 tokens per second)\n",
      "llama_print_timings:        eval time =     451.81 ms /     5 runs   (   90.36 ms per token,    11.07 tokens per second)\n",
      "llama_print_timings:       total time =     859.78 ms\n",
      "Llama.generate: prefix-match hit\n"
     ]
    },
    {
     "name": "stdout",
     "output_type": "stream",
     "text": [
      " [\"February 7, 1957\"]"
     ]
    },
    {
     "name": "stderr",
     "output_type": "stream",
     "text": [
      "\n",
      "llama_print_timings:        load time =   10070.69 ms\n",
      "llama_print_timings:      sample time =       9.36 ms /    14 runs   (    0.67 ms per token,  1496.05 tokens per second)\n",
      "llama_print_timings: prompt eval time =     342.37 ms /    25 tokens (   13.69 ms per token,    73.02 tokens per second)\n",
      "llama_print_timings:        eval time =    1144.11 ms /    13 runs   (   88.01 ms per token,    11.36 tokens per second)\n",
      "llama_print_timings:       total time =    1580.06 ms\n",
      "Llama.generate: prefix-match hit\n"
     ]
    },
    {
     "name": "stdout",
     "output_type": "stream",
     "text": [
      " [\"Acute viral pharyngitis\"]"
     ]
    },
    {
     "name": "stderr",
     "output_type": "stream",
     "text": [
      "\n",
      "llama_print_timings:        load time =   10070.69 ms\n",
      "llama_print_timings:      sample time =       7.01 ms /    11 runs   (    0.64 ms per token,  1568.29 tokens per second)\n",
      "llama_print_timings: prompt eval time =     289.23 ms /    24 tokens (   12.05 ms per token,    82.98 tokens per second)\n",
      "llama_print_timings:        eval time =     879.78 ms /    10 runs   (   87.98 ms per token,    11.37 tokens per second)\n",
      "llama_print_timings:       total time =    1239.99 ms\n",
      "Llama.generate: prefix-match hit\n"
     ]
    },
    {
     "name": "stdout",
     "output_type": "stream",
     "text": [
      " [\"Eusebia Bode\"]"
     ]
    },
    {
     "name": "stderr",
     "output_type": "stream",
     "text": [
      "\n",
      "llama_print_timings:        load time =   10070.69 ms\n",
      "llama_print_timings:      sample time =       5.53 ms /     8 runs   (    0.69 ms per token,  1446.65 tokens per second)\n",
      "llama_print_timings: prompt eval time =    1061.51 ms /   103 tokens (   10.31 ms per token,    97.03 tokens per second)\n",
      "llama_print_timings:        eval time =     599.05 ms /     7 runs   (   85.58 ms per token,    11.69 tokens per second)\n",
      "llama_print_timings:       total time =    1713.02 ms\n",
      "Llama.generate: prefix-match hit\n"
     ]
    },
    {
     "name": "stdout",
     "output_type": "stream",
     "text": [
      " [\"NHS Number\"]"
     ]
    },
    {
     "name": "stderr",
     "output_type": "stream",
     "text": [
      "\n",
      "llama_print_timings:        load time =   10070.69 ms\n",
      "llama_print_timings:      sample time =       2.93 ms /     6 runs   (    0.49 ms per token,  2049.18 tokens per second)\n",
      "llama_print_timings: prompt eval time =     306.43 ms /    25 tokens (   12.26 ms per token,    81.58 tokens per second)\n",
      "llama_print_timings:        eval time =     434.80 ms /     5 runs   (   86.96 ms per token,    11.50 tokens per second)\n",
      "llama_print_timings:       total time =     777.33 ms\n",
      "Llama.generate: prefix-match hit\n"
     ]
    },
    {
     "name": "stdout",
     "output_type": "stream",
     "text": [
      " [\"November 20, 1978\"]"
     ]
    },
    {
     "name": "stderr",
     "output_type": "stream",
     "text": [
      "\n",
      "llama_print_timings:        load time =   10070.69 ms\n",
      "llama_print_timings:      sample time =       6.08 ms /    14 runs   (    0.43 ms per token,  2301.50 tokens per second)\n",
      "llama_print_timings: prompt eval time =     294.47 ms /    25 tokens (   11.78 ms per token,    84.90 tokens per second)\n",
      "llama_print_timings:        eval time =    1125.72 ms /    13 runs   (   86.59 ms per token,    11.55 tokens per second)\n",
      "llama_print_timings:       total time =    1496.20 ms\n",
      "Llama.generate: prefix-match hit\n"
     ]
    },
    {
     "name": "stdout",
     "output_type": "stream",
     "text": [
      " [\"Normal pregnancy\"]"
     ]
    },
    {
     "name": "stderr",
     "output_type": "stream",
     "text": [
      "\n",
      "llama_print_timings:        load time =   10070.69 ms\n",
      "llama_print_timings:      sample time =       5.26 ms /     7 runs   (    0.75 ms per token,  1330.55 tokens per second)\n",
      "llama_print_timings: prompt eval time =     271.60 ms /    24 tokens (   11.32 ms per token,    88.37 tokens per second)\n",
      "llama_print_timings:        eval time =     469.82 ms /     6 runs   (   78.30 ms per token,    12.77 tokens per second)\n",
      "llama_print_timings:       total time =     794.25 ms\n",
      "Llama.generate: prefix-match hit\n"
     ]
    },
    {
     "name": "stdout",
     "output_type": "stream",
     "text": [
      " [\"Arlen Connelly\"]"
     ]
    },
    {
     "name": "stderr",
     "output_type": "stream",
     "text": [
      "\n",
      "llama_print_timings:        load time =   10070.69 ms\n",
      "llama_print_timings:      sample time =       4.91 ms /     8 runs   (    0.61 ms per token,  1630.99 tokens per second)\n",
      "llama_print_timings: prompt eval time =    2607.81 ms /   264 tokens (    9.88 ms per token,   101.23 tokens per second)\n",
      "llama_print_timings:        eval time =     575.55 ms /     7 runs   (   82.22 ms per token,    12.16 tokens per second)\n",
      "llama_print_timings:       total time =    3254.89 ms\n",
      "Llama.generate: prefix-match hit\n"
     ]
    },
    {
     "name": "stdout",
     "output_type": "stream",
     "text": [
      " [\"4565941791\"]"
     ]
    },
    {
     "name": "stderr",
     "output_type": "stream",
     "text": [
      "\n",
      "llama_print_timings:        load time =   10070.69 ms\n",
      "llama_print_timings:      sample time =       7.20 ms /    13 runs   (    0.55 ms per token,  1806.81 tokens per second)\n",
      "llama_print_timings: prompt eval time =     320.77 ms /    25 tokens (   12.83 ms per token,    77.94 tokens per second)\n",
      "llama_print_timings:        eval time =     985.68 ms /    12 runs   (   82.14 ms per token,    12.17 tokens per second)\n",
      "llama_print_timings:       total time =    1398.49 ms\n",
      "Llama.generate: prefix-match hit\n"
     ]
    },
    {
     "name": "stdout",
     "output_type": "stream",
     "text": [
      " [\"February 7, 2002\"]"
     ]
    },
    {
     "name": "stderr",
     "output_type": "stream",
     "text": [
      "\n",
      "llama_print_timings:        load time =   10070.69 ms\n",
      "llama_print_timings:      sample time =       7.40 ms /    14 runs   (    0.53 ms per token,  1892.92 tokens per second)\n",
      "llama_print_timings: prompt eval time =     291.30 ms /    25 tokens (   11.65 ms per token,    85.82 tokens per second)\n",
      "llama_print_timings:        eval time =    1040.33 ms /    13 runs   (   80.03 ms per token,    12.50 tokens per second)\n",
      "llama_print_timings:       total time =    1441.22 ms\n",
      "Llama.generate: prefix-match hit\n"
     ]
    },
    {
     "name": "stdout",
     "output_type": "stream",
     "text": [
      " [\"Childhood asthma\"]"
     ]
    },
    {
     "name": "stderr",
     "output_type": "stream",
     "text": [
      "\n",
      "llama_print_timings:        load time =   10070.69 ms\n",
      "llama_print_timings:      sample time =       3.40 ms /     8 runs   (    0.43 ms per token,  2352.25 tokens per second)\n",
      "llama_print_timings: prompt eval time =     255.90 ms /    24 tokens (   10.66 ms per token,    93.79 tokens per second)\n",
      "llama_print_timings:        eval time =     551.34 ms /     7 runs   (   78.76 ms per token,    12.70 tokens per second)\n",
      "llama_print_timings:       total time =     861.03 ms\n",
      "Llama.generate: prefix-match hit\n"
     ]
    },
    {
     "name": "stdout",
     "output_type": "stream",
     "text": [
      " [\"Beau Gleason\"]"
     ]
    },
    {
     "name": "stderr",
     "output_type": "stream",
     "text": [
      "\n",
      "llama_print_timings:        load time =   10070.69 ms\n",
      "llama_print_timings:      sample time =       3.58 ms /     8 runs   (    0.45 ms per token,  2233.39 tokens per second)\n",
      "llama_print_timings: prompt eval time =    2613.41 ms /   287 tokens (    9.11 ms per token,   109.82 tokens per second)\n",
      "llama_print_timings:        eval time =     600.45 ms /     7 runs   (   85.78 ms per token,    11.66 tokens per second)\n",
      "llama_print_timings:       total time =    3262.69 ms\n",
      "Llama.generate: prefix-match hit\n"
     ]
    },
    {
     "name": "stdout",
     "output_type": "stream",
     "text": [
      " [\"0449821668\"]"
     ]
    },
    {
     "name": "stderr",
     "output_type": "stream",
     "text": [
      "\n",
      "llama_print_timings:        load time =   10070.69 ms\n",
      "llama_print_timings:      sample time =       6.08 ms /    13 runs   (    0.47 ms per token,  2138.86 tokens per second)\n",
      "llama_print_timings: prompt eval time =     323.07 ms /    25 tokens (   12.92 ms per token,    77.38 tokens per second)\n",
      "llama_print_timings:        eval time =     981.15 ms /    12 runs   (   81.76 ms per token,    12.23 tokens per second)\n",
      "llama_print_timings:       total time =    1385.86 ms\n",
      "Llama.generate: prefix-match hit\n"
     ]
    },
    {
     "name": "stdout",
     "output_type": "stream",
     "text": [
      " [\"October 2, 1955\"]"
     ]
    },
    {
     "name": "stderr",
     "output_type": "stream",
     "text": [
      "\n",
      "llama_print_timings:        load time =   10070.69 ms\n",
      "llama_print_timings:      sample time =       6.75 ms /    13 runs   (    0.52 ms per token,  1927.07 tokens per second)\n",
      "llama_print_timings: prompt eval time =     288.53 ms /    25 tokens (   11.54 ms per token,    86.64 tokens per second)\n",
      "llama_print_timings:        eval time =     972.87 ms /    12 runs   (   81.07 ms per token,    12.33 tokens per second)\n",
      "llama_print_timings:       total time =    1350.83 ms\n",
      "Llama.generate: prefix-match hit\n"
     ]
    },
    {
     "name": "stdout",
     "output_type": "stream",
     "text": [
      " [\"bacterial sinusitis\"]"
     ]
    },
    {
     "name": "stderr",
     "output_type": "stream",
     "text": [
      "\n",
      "llama_print_timings:        load time =   10070.69 ms\n",
      "llama_print_timings:      sample time =       3.80 ms /     9 runs   (    0.42 ms per token,  2367.18 tokens per second)\n",
      "llama_print_timings: prompt eval time =     258.82 ms /    24 tokens (   10.78 ms per token,    92.73 tokens per second)\n",
      "llama_print_timings:        eval time =     641.08 ms /     8 runs   (   80.13 ms per token,    12.48 tokens per second)\n",
      "llama_print_timings:       total time =     952.83 ms\n",
      "Llama.generate: prefix-match hit\n"
     ]
    },
    {
     "name": "stdout",
     "output_type": "stream",
     "text": [
      " [\"Asa Kunde\"]"
     ]
    },
    {
     "name": "stderr",
     "output_type": "stream",
     "text": [
      "\n",
      "llama_print_timings:        load time =   10070.69 ms\n",
      "llama_print_timings:      sample time =       2.93 ms /     7 runs   (    0.42 ms per token,  2387.45 tokens per second)\n",
      "llama_print_timings: prompt eval time =    1924.58 ms /   201 tokens (    9.58 ms per token,   104.44 tokens per second)\n",
      "llama_print_timings:        eval time =     499.67 ms /     6 runs   (   83.28 ms per token,    12.01 tokens per second)\n",
      "llama_print_timings:       total time =    2470.43 ms\n",
      "Llama.generate: prefix-match hit\n"
     ]
    },
    {
     "name": "stdout",
     "output_type": "stream",
     "text": [
      " [\"7916193256\"]"
     ]
    },
    {
     "name": "stderr",
     "output_type": "stream",
     "text": [
      "\n",
      "llama_print_timings:        load time =   10070.69 ms\n",
      "llama_print_timings:      sample time =       6.23 ms /    13 runs   (    0.48 ms per token,  2086.01 tokens per second)\n",
      "llama_print_timings: prompt eval time =     313.47 ms /    25 tokens (   12.54 ms per token,    79.75 tokens per second)\n",
      "llama_print_timings:        eval time =     982.02 ms /    12 runs   (   81.83 ms per token,    12.22 tokens per second)\n",
      "llama_print_timings:       total time =    1392.97 ms\n",
      "Llama.generate: prefix-match hit\n"
     ]
    },
    {
     "name": "stdout",
     "output_type": "stream",
     "text": [
      " [\"May 10, 2022\"]"
     ]
    },
    {
     "name": "stderr",
     "output_type": "stream",
     "text": [
      "\n",
      "llama_print_timings:        load time =   10070.69 ms\n",
      "llama_print_timings:      sample time =       6.33 ms /    13 runs   (    0.49 ms per token,  2053.71 tokens per second)\n",
      "llama_print_timings: prompt eval time =     292.65 ms /    25 tokens (   11.71 ms per token,    85.43 tokens per second)\n",
      "llama_print_timings:        eval time =    1026.72 ms /    12 runs   (   85.56 ms per token,    11.69 tokens per second)\n",
      "llama_print_timings:       total time =    1395.83 ms\n",
      "Llama.generate: prefix-match hit\n"
     ]
    },
    {
     "name": "stdout",
     "output_type": "stream",
     "text": [
      " []"
     ]
    },
    {
     "name": "stderr",
     "output_type": "stream",
     "text": [
      "\n",
      "llama_print_timings:        load time =   10070.69 ms\n",
      "llama_print_timings:      sample time =       0.90 ms /     2 runs   (    0.45 ms per token,  2234.64 tokens per second)\n",
      "llama_print_timings: prompt eval time =     255.28 ms /    24 tokens (   10.64 ms per token,    94.01 tokens per second)\n",
      "llama_print_timings:        eval time =      78.12 ms /     1 runs   (   78.12 ms per token,    12.80 tokens per second)\n",
      "llama_print_timings:       total time =     343.71 ms\n",
      "Llama.generate: prefix-match hit\n"
     ]
    },
    {
     "name": "stdout",
     "output_type": "stream",
     "text": [
      " [\"Toby Kuhn\"]"
     ]
    },
    {
     "name": "stderr",
     "output_type": "stream",
     "text": [
      "\n",
      "llama_print_timings:        load time =   10070.69 ms\n",
      "llama_print_timings:      sample time =       3.31 ms /     7 runs   (    0.47 ms per token,  2116.08 tokens per second)\n",
      "llama_print_timings: prompt eval time =    1352.29 ms /   159 tokens (    8.50 ms per token,   117.58 tokens per second)\n",
      "llama_print_timings:        eval time =     477.97 ms /     6 runs   (   79.66 ms per token,    12.55 tokens per second)\n",
      "llama_print_timings:       total time =    1879.92 ms\n",
      "Llama.generate: prefix-match hit\n"
     ]
    },
    {
     "name": "stdout",
     "output_type": "stream",
     "text": [
      " [\"3461890316\"]"
     ]
    },
    {
     "name": "stderr",
     "output_type": "stream",
     "text": [
      "\n",
      "llama_print_timings:        load time =   10070.69 ms\n",
      "llama_print_timings:      sample time =       7.25 ms /    13 runs   (    0.56 ms per token,  1793.35 tokens per second)\n",
      "llama_print_timings: prompt eval time =     301.49 ms /    25 tokens (   12.06 ms per token,    82.92 tokens per second)\n",
      "llama_print_timings:        eval time =     951.37 ms /    12 runs   (   79.28 ms per token,    12.61 tokens per second)\n",
      "llama_print_timings:       total time =    1351.16 ms\n",
      "Llama.generate: prefix-match hit\n"
     ]
    },
    {
     "name": "stdout",
     "output_type": "stream",
     "text": [
      " [\"September 18, 2006\"]"
     ]
    },
    {
     "name": "stderr",
     "output_type": "stream",
     "text": [
      "\n",
      "llama_print_timings:        load time =   10070.69 ms\n",
      "llama_print_timings:      sample time =       8.64 ms /    14 runs   (    0.62 ms per token,  1620.18 tokens per second)\n",
      "llama_print_timings: prompt eval time =     269.23 ms /    25 tokens (   10.77 ms per token,    92.86 tokens per second)\n",
      "llama_print_timings:        eval time =    1016.47 ms /    13 runs   (   78.19 ms per token,    12.79 tokens per second)\n",
      "llama_print_timings:       total time =    1402.64 ms\n",
      "Llama.generate: prefix-match hit\n"
     ]
    },
    {
     "name": "stdout",
     "output_type": "stream",
     "text": [
      " [\"Acute viral pharyngitis\"]"
     ]
    },
    {
     "name": "stderr",
     "output_type": "stream",
     "text": [
      "\n",
      "llama_print_timings:        load time =   10070.69 ms\n",
      "llama_print_timings:      sample time =       4.03 ms /    11 runs   (    0.37 ms per token,  2729.53 tokens per second)\n",
      "llama_print_timings: prompt eval time =     257.91 ms /    24 tokens (   10.75 ms per token,    93.05 tokens per second)\n",
      "llama_print_timings:        eval time =     825.19 ms /    10 runs   (   82.52 ms per token,    12.12 tokens per second)\n",
      "llama_print_timings:       total time =    1149.33 ms\n",
      "Llama.generate: prefix-match hit\n"
     ]
    },
    {
     "name": "stdout",
     "output_type": "stream",
     "text": [
      " [\"Asa Bernier\"]"
     ]
    },
    {
     "name": "stderr",
     "output_type": "stream",
     "text": [
      "\n",
      "llama_print_timings:        load time =   10070.69 ms\n",
      "llama_print_timings:      sample time =       4.08 ms /     7 runs   (    0.58 ms per token,  1716.53 tokens per second)\n",
      "llama_print_timings: prompt eval time =    1342.39 ms /   141 tokens (    9.52 ms per token,   105.04 tokens per second)\n",
      "llama_print_timings:        eval time =     529.28 ms /     6 runs   (   88.21 ms per token,    11.34 tokens per second)\n",
      "llama_print_timings:       total time =    1917.90 ms\n",
      "Llama.generate: prefix-match hit\n"
     ]
    },
    {
     "name": "stdout",
     "output_type": "stream",
     "text": [
      " [\"NHS number 6450937874\"]"
     ]
    },
    {
     "name": "stderr",
     "output_type": "stream",
     "text": [
      "\n",
      "llama_print_timings:        load time =   10070.69 ms\n",
      "llama_print_timings:      sample time =       7.91 ms /    17 runs   (    0.47 ms per token,  2149.99 tokens per second)\n",
      "llama_print_timings: prompt eval time =     312.91 ms /    25 tokens (   12.52 ms per token,    79.90 tokens per second)\n",
      "llama_print_timings:        eval time =    1438.08 ms /    16 runs   (   89.88 ms per token,    11.13 tokens per second)\n",
      "llama_print_timings:       total time =    1858.30 ms\n",
      "Llama.generate: prefix-match hit\n"
     ]
    },
    {
     "name": "stdout",
     "output_type": "stream",
     "text": [
      " [\"March 28, 1986\"]"
     ]
    },
    {
     "name": "stderr",
     "output_type": "stream",
     "text": [
      "\n",
      "llama_print_timings:        load time =   10070.69 ms\n",
      "llama_print_timings:      sample time =       8.75 ms /    14 runs   (    0.63 ms per token,  1599.63 tokens per second)\n",
      "llama_print_timings: prompt eval time =     266.73 ms /    25 tokens (   10.67 ms per token,    93.73 tokens per second)\n",
      "llama_print_timings:        eval time =    1124.55 ms /    13 runs   (   86.50 ms per token,    11.56 tokens per second)\n",
      "llama_print_timings:       total time =    1483.64 ms\n",
      "Llama.generate: prefix-match hit\n"
     ]
    },
    {
     "name": "stdout",
     "output_type": "stream",
     "text": [
      " [\"viral sinusitis\"]"
     ]
    },
    {
     "name": "stderr",
     "output_type": "stream",
     "text": [
      "\n",
      "llama_print_timings:        load time =   10070.69 ms\n",
      "llama_print_timings:      sample time =       4.25 ms /     8 runs   (    0.53 ms per token,  1880.14 tokens per second)\n",
      "llama_print_timings: prompt eval time =     267.93 ms /    24 tokens (   11.16 ms per token,    89.57 tokens per second)\n",
      "llama_print_timings:        eval time =     605.27 ms /     7 runs   (   86.47 ms per token,    11.57 tokens per second)\n",
      "llama_print_timings:       total time =     923.93 ms\n",
      "Llama.generate: prefix-match hit\n"
     ]
    },
    {
     "name": "stdout",
     "output_type": "stream",
     "text": [
      " [\"Deandrea Beatty\"]"
     ]
    },
    {
     "name": "stderr",
     "output_type": "stream",
     "text": [
      "\n",
      "llama_print_timings:        load time =   10070.69 ms\n",
      "llama_print_timings:      sample time =       4.51 ms /     8 runs   (    0.56 ms per token,  1773.84 tokens per second)\n",
      "llama_print_timings: prompt eval time =    1979.25 ms /   210 tokens (    9.42 ms per token,   106.10 tokens per second)\n",
      "llama_print_timings:        eval time =     622.54 ms /     7 runs   (   88.93 ms per token,    11.24 tokens per second)\n",
      "llama_print_timings:       total time =    2659.03 ms\n",
      "Llama.generate: prefix-match hit\n"
     ]
    },
    {
     "name": "stdout",
     "output_type": "stream",
     "text": [
      " [\"2010103262\"]"
     ]
    },
    {
     "name": "stderr",
     "output_type": "stream",
     "text": [
      "\n",
      "llama_print_timings:        load time =   10070.69 ms\n",
      "llama_print_timings:      sample time =       8.82 ms /    13 runs   (    0.68 ms per token,  1473.92 tokens per second)\n",
      "llama_print_timings: prompt eval time =     306.27 ms /    25 tokens (   12.25 ms per token,    81.63 tokens per second)\n",
      "llama_print_timings:        eval time =     963.60 ms /    12 runs   (   80.30 ms per token,    12.45 tokens per second)\n",
      "llama_print_timings:       total time =    1369.23 ms\n",
      "Llama.generate: prefix-match hit\n"
     ]
    },
    {
     "name": "stdout",
     "output_type": "stream",
     "text": [
      " [\"May 4, 1965\"]"
     ]
    },
    {
     "name": "stderr",
     "output_type": "stream",
     "text": [
      "\n",
      "llama_print_timings:        load time =   10070.69 ms\n",
      "llama_print_timings:      sample time =       5.78 ms /    12 runs   (    0.48 ms per token,  2075.41 tokens per second)\n",
      "llama_print_timings: prompt eval time =     281.62 ms /    25 tokens (   11.26 ms per token,    88.77 tokens per second)\n",
      "llama_print_timings:        eval time =     981.69 ms /    11 runs   (   89.24 ms per token,    11.21 tokens per second)\n",
      "llama_print_timings:       total time =    1331.18 ms\n",
      "Llama.generate: prefix-match hit\n"
     ]
    },
    {
     "name": "stdout",
     "output_type": "stream",
     "text": [
      " []"
     ]
    },
    {
     "name": "stderr",
     "output_type": "stream",
     "text": [
      "\n",
      "llama_print_timings:        load time =   10070.69 ms\n",
      "llama_print_timings:      sample time =       0.87 ms /     2 runs   (    0.44 ms per token,  2290.95 tokens per second)\n",
      "llama_print_timings: prompt eval time =     264.92 ms /    24 tokens (   11.04 ms per token,    90.59 tokens per second)\n",
      "llama_print_timings:        eval time =      89.01 ms /     1 runs   (   89.01 ms per token,    11.24 tokens per second)\n",
      "llama_print_timings:       total time =     364.32 ms\n",
      "Llama.generate: prefix-match hit\n"
     ]
    },
    {
     "name": "stdout",
     "output_type": "stream",
     "text": [
      " [\"Dion Quitzon\"]"
     ]
    },
    {
     "name": "stderr",
     "output_type": "stream",
     "text": [
      "\n",
      "llama_print_timings:        load time =   10070.69 ms\n",
      "llama_print_timings:      sample time =       3.58 ms /     8 runs   (    0.45 ms per token,  2232.77 tokens per second)\n",
      "llama_print_timings: prompt eval time =    1367.00 ms /   136 tokens (   10.05 ms per token,    99.49 tokens per second)\n",
      "llama_print_timings:        eval time =     604.54 ms /     7 runs   (   86.36 ms per token,    11.58 tokens per second)\n",
      "llama_print_timings:       total time =    2021.45 ms\n",
      "Llama.generate: prefix-match hit\n"
     ]
    },
    {
     "name": "stdout",
     "output_type": "stream",
     "text": [
      " [\"NHS number\"]"
     ]
    },
    {
     "name": "stderr",
     "output_type": "stream",
     "text": [
      "\n",
      "llama_print_timings:        load time =   10070.69 ms\n",
      "llama_print_timings:      sample time =       3.16 ms /     6 runs   (    0.53 ms per token,  1899.34 tokens per second)\n",
      "llama_print_timings: prompt eval time =     302.73 ms /    25 tokens (   12.11 ms per token,    82.58 tokens per second)\n",
      "llama_print_timings:        eval time =     448.09 ms /     5 runs   (   89.62 ms per token,    11.16 tokens per second)\n",
      "llama_print_timings:       total time =     784.97 ms\n",
      "Llama.generate: prefix-match hit\n"
     ]
    },
    {
     "name": "stdout",
     "output_type": "stream",
     "text": [
      " [\"11th September 1962\"]"
     ]
    },
    {
     "name": "stderr",
     "output_type": "stream",
     "text": [
      "\n",
      "llama_print_timings:        load time =   10070.69 ms\n",
      "llama_print_timings:      sample time =       5.77 ms /    12 runs   (    0.48 ms per token,  2078.28 tokens per second)\n",
      "llama_print_timings: prompt eval time =     293.30 ms /    25 tokens (   11.73 ms per token,    85.24 tokens per second)\n",
      "llama_print_timings:        eval time =     940.48 ms /    11 runs   (   85.50 ms per token,    11.70 tokens per second)\n",
      "llama_print_timings:       total time =    1314.90 ms\n",
      "Llama.generate: prefix-match hit\n"
     ]
    },
    {
     "name": "stdout",
     "output_type": "stream",
     "text": [
      " [\"Otitis media\"]"
     ]
    },
    {
     "name": "stderr",
     "output_type": "stream",
     "text": [
      "\n",
      "llama_print_timings:        load time =   10070.69 ms\n",
      "llama_print_timings:      sample time =       3.84 ms /     7 runs   (    0.55 ms per token,  1821.97 tokens per second)\n",
      "llama_print_timings: prompt eval time =     267.75 ms /    24 tokens (   11.16 ms per token,    89.64 tokens per second)\n",
      "llama_print_timings:        eval time =     515.75 ms /     6 runs   (   85.96 ms per token,    11.63 tokens per second)\n",
      "llama_print_timings:       total time =     826.00 ms\n",
      "Llama.generate: prefix-match hit\n"
     ]
    },
    {
     "name": "stdout",
     "output_type": "stream",
     "text": [
      " [\"Kathrin Bechtelar\"]"
     ]
    },
    {
     "name": "stderr",
     "output_type": "stream",
     "text": [
      "\n",
      "llama_print_timings:        load time =   10070.69 ms\n",
      "llama_print_timings:      sample time =       5.78 ms /    10 runs   (    0.58 ms per token,  1730.10 tokens per second)\n",
      "llama_print_timings: prompt eval time =    1049.31 ms /    98 tokens (   10.71 ms per token,    93.39 tokens per second)\n",
      "llama_print_timings:        eval time =     731.52 ms /     9 runs   (   81.28 ms per token,    12.30 tokens per second)\n",
      "llama_print_timings:       total time =    1846.62 ms\n",
      "Llama.generate: prefix-match hit\n"
     ]
    },
    {
     "name": "stdout",
     "output_type": "stream",
     "text": [
      " [\"NHS Number\"]"
     ]
    },
    {
     "name": "stderr",
     "output_type": "stream",
     "text": [
      "\n",
      "llama_print_timings:        load time =   10070.69 ms\n",
      "llama_print_timings:      sample time =       4.36 ms /     6 runs   (    0.73 ms per token,  1377.09 tokens per second)\n",
      "llama_print_timings: prompt eval time =     276.11 ms /    25 tokens (   11.04 ms per token,    90.54 tokens per second)\n",
      "llama_print_timings:        eval time =     381.58 ms /     5 runs   (   76.32 ms per token,    13.10 tokens per second)\n",
      "llama_print_timings:       total time =     706.86 ms\n",
      "Llama.generate: prefix-match hit\n"
     ]
    },
    {
     "name": "stdout",
     "output_type": "stream",
     "text": [
      " [\"October 24, 1948\"]"
     ]
    },
    {
     "name": "stderr",
     "output_type": "stream",
     "text": [
      "\n",
      "llama_print_timings:        load time =   10070.69 ms\n",
      "llama_print_timings:      sample time =       8.20 ms /    14 runs   (    0.59 ms per token,  1706.48 tokens per second)\n",
      "llama_print_timings: prompt eval time =     271.60 ms /    25 tokens (   10.86 ms per token,    92.05 tokens per second)\n",
      "llama_print_timings:        eval time =    1032.56 ms /    13 runs   (   79.43 ms per token,    12.59 tokens per second)\n",
      "llama_print_timings:       total time =    1406.29 ms\n",
      "Llama.generate: prefix-match hit\n"
     ]
    },
    {
     "name": "stdout",
     "output_type": "stream",
     "text": [
      " [\"Normal pregnancy\"]"
     ]
    },
    {
     "name": "stderr",
     "output_type": "stream",
     "text": [
      "\n",
      "llama_print_timings:        load time =   10070.69 ms\n",
      "llama_print_timings:      sample time =       4.70 ms /     7 runs   (    0.67 ms per token,  1489.04 tokens per second)\n",
      "llama_print_timings: prompt eval time =     268.16 ms /    24 tokens (   11.17 ms per token,    89.50 tokens per second)\n",
      "llama_print_timings:        eval time =     455.65 ms /     6 runs   (   75.94 ms per token,    13.17 tokens per second)\n",
      "llama_print_timings:       total time =     769.11 ms\n",
      "Llama.generate: prefix-match hit\n"
     ]
    },
    {
     "name": "stdout",
     "output_type": "stream",
     "text": [
      " []"
     ]
    },
    {
     "name": "stderr",
     "output_type": "stream",
     "text": [
      "\n",
      "llama_print_timings:        load time =   10070.69 ms\n",
      "llama_print_timings:      sample time =       1.43 ms /     2 runs   (    0.71 ms per token,  1402.52 tokens per second)\n",
      "llama_print_timings: prompt eval time =    2924.92 ms /   302 tokens (    9.69 ms per token,   103.25 tokens per second)\n",
      "llama_print_timings:        eval time =      88.17 ms /     1 runs   (   88.17 ms per token,    11.34 tokens per second)\n",
      "llama_print_timings:       total time =    3029.26 ms\n",
      "Llama.generate: prefix-match hit\n"
     ]
    },
    {
     "name": "stdout",
     "output_type": "stream",
     "text": [
      " [\"7758619304\"]"
     ]
    },
    {
     "name": "stderr",
     "output_type": "stream",
     "text": [
      "\n",
      "llama_print_timings:        load time =   10070.69 ms\n",
      "llama_print_timings:      sample time =       6.62 ms /    13 runs   (    0.51 ms per token,  1963.75 tokens per second)\n",
      "llama_print_timings: prompt eval time =     326.43 ms /    25 tokens (   13.06 ms per token,    76.59 tokens per second)\n",
      "llama_print_timings:        eval time =    1064.10 ms /    12 runs   (   88.67 ms per token,    11.28 tokens per second)\n",
      "llama_print_timings:       total time =    1470.38 ms\n",
      "Llama.generate: prefix-match hit\n"
     ]
    },
    {
     "name": "stdout",
     "output_type": "stream",
     "text": [
      " [\"November 18, 1991\"]"
     ]
    },
    {
     "name": "stderr",
     "output_type": "stream",
     "text": [
      "\n",
      "llama_print_timings:        load time =   10070.69 ms\n",
      "llama_print_timings:      sample time =       6.92 ms /    14 runs   (    0.49 ms per token,  2024.00 tokens per second)\n",
      "llama_print_timings: prompt eval time =     283.76 ms /    25 tokens (   11.35 ms per token,    88.10 tokens per second)\n",
      "llama_print_timings:        eval time =    1114.49 ms /    13 runs   (   85.73 ms per token,    11.66 tokens per second)\n",
      "llama_print_timings:       total time =    1494.05 ms\n",
      "Llama.generate: prefix-match hit\n"
     ]
    },
    {
     "name": "stdout",
     "output_type": "stream",
     "text": [
      " [\"Viral sinusitis\", \"allergic rhinitis\"]"
     ]
    },
    {
     "name": "stderr",
     "output_type": "stream",
     "text": [
      "\n",
      "llama_print_timings:        load time =   10070.69 ms\n",
      "llama_print_timings:      sample time =       8.35 ms /    16 runs   (    0.52 ms per token,  1915.94 tokens per second)\n",
      "llama_print_timings: prompt eval time =     267.80 ms /    24 tokens (   11.16 ms per token,    89.62 tokens per second)\n",
      "llama_print_timings:        eval time =    1312.43 ms /    15 runs   (   87.50 ms per token,    11.43 tokens per second)\n",
      "llama_print_timings:       total time =    1685.00 ms\n",
      "Llama.generate: prefix-match hit\n"
     ]
    },
    {
     "name": "stdout",
     "output_type": "stream",
     "text": [
      " [\"Deandre Thiel\"]"
     ]
    },
    {
     "name": "stderr",
     "output_type": "stream",
     "text": [
      "\n",
      "llama_print_timings:        load time =   10070.69 ms\n",
      "llama_print_timings:      sample time =       3.21 ms /     8 runs   (    0.40 ms per token,  2495.32 tokens per second)\n",
      "llama_print_timings: prompt eval time =    1034.71 ms /   122 tokens (    8.48 ms per token,   117.91 tokens per second)\n",
      "llama_print_timings:        eval time =     594.95 ms /     7 runs   (   84.99 ms per token,    11.77 tokens per second)\n",
      "llama_print_timings:       total time =    1681.42 ms\n",
      "Llama.generate: prefix-match hit\n"
     ]
    },
    {
     "name": "stdout",
     "output_type": "stream",
     "text": [
      " []"
     ]
    },
    {
     "name": "stderr",
     "output_type": "stream",
     "text": [
      "\n",
      "llama_print_timings:        load time =   10070.69 ms\n",
      "llama_print_timings:      sample time =       0.67 ms /     2 runs   (    0.34 ms per token,  2985.07 tokens per second)\n",
      "llama_print_timings: prompt eval time =     286.34 ms /    25 tokens (   11.45 ms per token,    87.31 tokens per second)\n",
      "llama_print_timings:        eval time =      89.77 ms /     1 runs   (   89.77 ms per token,    11.14 tokens per second)\n",
      "llama_print_timings:       total time =     385.19 ms\n",
      "Llama.generate: prefix-match hit\n"
     ]
    },
    {
     "name": "stdout",
     "output_type": "stream",
     "text": [
      " []"
     ]
    },
    {
     "name": "stderr",
     "output_type": "stream",
     "text": [
      "\n",
      "llama_print_timings:        load time =   10070.69 ms\n",
      "llama_print_timings:      sample time =       0.20 ms /     2 runs   (    0.10 ms per token, 10152.28 tokens per second)\n",
      "llama_print_timings: prompt eval time =     294.44 ms /    25 tokens (   11.78 ms per token,    84.91 tokens per second)\n",
      "llama_print_timings:        eval time =      81.34 ms /     1 runs   (   81.34 ms per token,    12.29 tokens per second)\n",
      "llama_print_timings:       total time =     379.57 ms\n",
      "Llama.generate: prefix-match hit\n"
     ]
    },
    {
     "name": "stdout",
     "output_type": "stream",
     "text": [
      " [\"perennial allergic rhinitis\", \"hay fever\"]"
     ]
    },
    {
     "name": "stderr",
     "output_type": "stream",
     "text": [
      "\n",
      "llama_print_timings:        load time =   10070.69 ms\n",
      "llama_print_timings:      sample time =       8.23 ms /    18 runs   (    0.46 ms per token,  2186.85 tokens per second)\n",
      "llama_print_timings: prompt eval time =     294.61 ms /    24 tokens (   12.28 ms per token,    81.47 tokens per second)\n",
      "llama_print_timings:        eval time =    1467.59 ms /    17 runs   (   86.33 ms per token,    11.58 tokens per second)\n",
      "llama_print_timings:       total time =    2176.36 ms\n",
      "Llama.generate: prefix-match hit\n"
     ]
    },
    {
     "name": "stdout",
     "output_type": "stream",
     "text": [
      " [\"Apolonia Weber\"]"
     ]
    },
    {
     "name": "stderr",
     "output_type": "stream",
     "text": [
      "\n",
      "llama_print_timings:        load time =   10070.69 ms\n",
      "llama_print_timings:      sample time =       3.78 ms /     8 runs   (    0.47 ms per token,  2118.64 tokens per second)\n",
      "llama_print_timings: prompt eval time =    1569.63 ms /   161 tokens (    9.75 ms per token,   102.57 tokens per second)\n",
      "llama_print_timings:        eval time =     626.42 ms /     7 runs   (   89.49 ms per token,    11.17 tokens per second)\n",
      "llama_print_timings:       total time =    2243.34 ms\n",
      "Llama.generate: prefix-match hit\n"
     ]
    },
    {
     "name": "stdout",
     "output_type": "stream",
     "text": [
      " [\"NHS number\"]"
     ]
    },
    {
     "name": "stderr",
     "output_type": "stream",
     "text": [
      "\n",
      "llama_print_timings:        load time =   10070.69 ms\n",
      "llama_print_timings:      sample time =       2.61 ms /     6 runs   (    0.43 ms per token,  2299.73 tokens per second)\n",
      "llama_print_timings: prompt eval time =     294.00 ms /    25 tokens (   11.76 ms per token,    85.03 tokens per second)\n",
      "llama_print_timings:        eval time =     440.20 ms /     5 runs   (   88.04 ms per token,    11.36 tokens per second)\n",
      "llama_print_timings:       total time =     766.52 ms\n",
      "Llama.generate: prefix-match hit\n"
     ]
    },
    {
     "name": "stdout",
     "output_type": "stream",
     "text": [
      " [\"May 23rd, 2007\"]"
     ]
    },
    {
     "name": "stderr",
     "output_type": "stream",
     "text": [
      "\n",
      "llama_print_timings:        load time =   10070.69 ms\n",
      "llama_print_timings:      sample time =       5.44 ms /    14 runs   (    0.39 ms per token,  2572.58 tokens per second)\n",
      "llama_print_timings: prompt eval time =     280.48 ms /    25 tokens (   11.22 ms per token,    89.13 tokens per second)\n",
      "llama_print_timings:        eval time =    1143.21 ms /    13 runs   (   87.94 ms per token,    11.37 tokens per second)\n",
      "llama_print_timings:       total time =    1506.17 ms\n",
      "Llama.generate: prefix-match hit\n"
     ]
    },
    {
     "name": "stdout",
     "output_type": "stream",
     "text": [
      " [\"viral sinusitis\"]"
     ]
    },
    {
     "name": "stderr",
     "output_type": "stream",
     "text": [
      "\n",
      "llama_print_timings:        load time =   10070.69 ms\n",
      "llama_print_timings:      sample time =       3.98 ms /     8 runs   (    0.50 ms per token,  2007.53 tokens per second)\n",
      "llama_print_timings: prompt eval time =     269.67 ms /    24 tokens (   11.24 ms per token,    89.00 tokens per second)\n",
      "llama_print_timings:        eval time =     611.55 ms /     7 runs   (   87.36 ms per token,    11.45 tokens per second)\n",
      "llama_print_timings:       total time =     938.02 ms\n",
      "Llama.generate: prefix-match hit\n"
     ]
    },
    {
     "name": "stdout",
     "output_type": "stream",
     "text": [
      " [\"Mario Kuhn\"]"
     ]
    },
    {
     "name": "stderr",
     "output_type": "stream",
     "text": [
      "\n",
      "llama_print_timings:        load time =   10070.69 ms\n",
      "llama_print_timings:      sample time =       3.91 ms /     7 runs   (    0.56 ms per token,  1790.74 tokens per second)\n",
      "llama_print_timings: prompt eval time =    1275.68 ms /   149 tokens (    8.56 ms per token,   116.80 tokens per second)\n",
      "llama_print_timings:        eval time =     523.87 ms /     6 runs   (   87.31 ms per token,    11.45 tokens per second)\n",
      "llama_print_timings:       total time =    1843.90 ms\n",
      "Llama.generate: prefix-match hit\n"
     ]
    },
    {
     "name": "stdout",
     "output_type": "stream",
     "text": [
      " [\"NHS Number\"]"
     ]
    },
    {
     "name": "stderr",
     "output_type": "stream",
     "text": [
      "\n",
      "llama_print_timings:        load time =   10070.69 ms\n",
      "llama_print_timings:      sample time =       3.32 ms /     6 runs   (    0.55 ms per token,  1806.14 tokens per second)\n",
      "llama_print_timings: prompt eval time =     295.29 ms /    25 tokens (   11.81 ms per token,    84.66 tokens per second)\n",
      "llama_print_timings:        eval time =     437.80 ms /     5 runs   (   87.56 ms per token,    11.42 tokens per second)\n",
      "llama_print_timings:       total time =     771.58 ms\n",
      "Llama.generate: prefix-match hit\n"
     ]
    },
    {
     "name": "stdout",
     "output_type": "stream",
     "text": [
      " [\"July 27, 1963\"]"
     ]
    },
    {
     "name": "stderr",
     "output_type": "stream",
     "text": [
      "\n",
      "llama_print_timings:        load time =   10070.69 ms\n",
      "llama_print_timings:      sample time =       6.98 ms /    14 runs   (    0.50 ms per token,  2006.31 tokens per second)\n",
      "llama_print_timings: prompt eval time =     278.50 ms /    25 tokens (   11.14 ms per token,    89.77 tokens per second)\n",
      "llama_print_timings:        eval time =    1134.84 ms /    13 runs   (   87.30 ms per token,    11.46 tokens per second)\n",
      "llama_print_timings:       total time =    1497.57 ms\n",
      "Llama.generate: prefix-match hit\n"
     ]
    },
    {
     "name": "stdout",
     "output_type": "stream",
     "text": [
      " [\"Impacted molars\"]"
     ]
    },
    {
     "name": "stderr",
     "output_type": "stream",
     "text": [
      "\n",
      "llama_print_timings:        load time =   10070.69 ms\n",
      "llama_print_timings:      sample time =       3.58 ms /     8 runs   (    0.45 ms per token,  2233.39 tokens per second)\n",
      "llama_print_timings: prompt eval time =     265.47 ms /    24 tokens (   11.06 ms per token,    90.41 tokens per second)\n",
      "llama_print_timings:        eval time =     623.43 ms /     7 runs   (   89.06 ms per token,    11.23 tokens per second)\n",
      "llama_print_timings:       total time =     928.31 ms\n",
      "Llama.generate: prefix-match hit\n"
     ]
    },
    {
     "name": "stdout",
     "output_type": "stream",
     "text": [
      " []"
     ]
    },
    {
     "name": "stderr",
     "output_type": "stream",
     "text": [
      "\n",
      "llama_print_timings:        load time =   10070.69 ms\n",
      "llama_print_timings:      sample time =       1.07 ms /     2 runs   (    0.54 ms per token,  1869.16 tokens per second)\n",
      "llama_print_timings: prompt eval time =    2535.81 ms /   270 tokens (    9.39 ms per token,   106.47 tokens per second)\n",
      "llama_print_timings:        eval time =      89.77 ms /     1 runs   (   89.77 ms per token,    11.14 tokens per second)\n",
      "llama_print_timings:       total time =    2640.28 ms\n",
      "Llama.generate: prefix-match hit\n"
     ]
    },
    {
     "name": "stdout",
     "output_type": "stream",
     "text": [
      " [\"NHS Number\"]"
     ]
    },
    {
     "name": "stderr",
     "output_type": "stream",
     "text": [
      "\n",
      "llama_print_timings:        load time =   10070.69 ms\n",
      "llama_print_timings:      sample time =       2.42 ms /     6 runs   (    0.40 ms per token,  2483.44 tokens per second)\n",
      "llama_print_timings: prompt eval time =     327.93 ms /    25 tokens (   13.12 ms per token,    76.24 tokens per second)\n",
      "llama_print_timings:        eval time =     445.20 ms /     5 runs   (   89.04 ms per token,    11.23 tokens per second)\n",
      "llama_print_timings:       total time =     809.07 ms\n",
      "Llama.generate: prefix-match hit\n"
     ]
    },
    {
     "name": "stdout",
     "output_type": "stream",
     "text": [
      " []"
     ]
    },
    {
     "name": "stderr",
     "output_type": "stream",
     "text": [
      "\n",
      "llama_print_timings:        load time =   10070.69 ms\n",
      "llama_print_timings:      sample time =       1.06 ms /     2 runs   (    0.53 ms per token,  1886.79 tokens per second)\n",
      "llama_print_timings: prompt eval time =     291.77 ms /    25 tokens (   11.67 ms per token,    85.68 tokens per second)\n",
      "llama_print_timings:        eval time =      80.21 ms /     1 runs   (   80.21 ms per token,    12.47 tokens per second)\n",
      "llama_print_timings:       total time =     386.93 ms\n",
      "Llama.generate: prefix-match hit\n"
     ]
    },
    {
     "name": "stdout",
     "output_type": "stream",
     "text": [
      " [\"HIV\", \"opportunistic infections\", \"comorbidities\"]"
     ]
    },
    {
     "name": "stderr",
     "output_type": "stream",
     "text": [
      "\n",
      "llama_print_timings:        load time =   10070.69 ms\n",
      "llama_print_timings:      sample time =       9.08 ms /    20 runs   (    0.45 ms per token,  2203.86 tokens per second)\n",
      "llama_print_timings: prompt eval time =     287.39 ms /    24 tokens (   11.97 ms per token,    83.51 tokens per second)\n",
      "llama_print_timings:        eval time =    1556.39 ms /    19 runs   (   81.92 ms per token,    12.21 tokens per second)\n",
      "llama_print_timings:       total time =    1971.10 ms\n",
      "Llama.generate: prefix-match hit\n"
     ]
    },
    {
     "name": "stdout",
     "output_type": "stream",
     "text": [
      " [\"Giselle Kris\"]"
     ]
    },
    {
     "name": "stderr",
     "output_type": "stream",
     "text": [
      "\n",
      "llama_print_timings:        load time =   10070.69 ms\n",
      "llama_print_timings:      sample time =       3.84 ms /     8 runs   (    0.48 ms per token,  2081.71 tokens per second)\n",
      "llama_print_timings: prompt eval time =    1258.97 ms /   155 tokens (    8.12 ms per token,   123.12 tokens per second)\n",
      "llama_print_timings:        eval time =     609.42 ms /     7 runs   (   87.06 ms per token,    11.49 tokens per second)\n",
      "llama_print_timings:       total time =    1917.37 ms\n",
      "Llama.generate: prefix-match hit\n"
     ]
    },
    {
     "name": "stdout",
     "output_type": "stream",
     "text": [
      " [\"8356125952\"]"
     ]
    },
    {
     "name": "stderr",
     "output_type": "stream",
     "text": [
      "\n",
      "llama_print_timings:        load time =   10070.69 ms\n",
      "llama_print_timings:      sample time =       4.64 ms /    13 runs   (    0.36 ms per token,  2801.12 tokens per second)\n",
      "llama_print_timings: prompt eval time =     277.88 ms /    25 tokens (   11.12 ms per token,    89.97 tokens per second)\n",
      "llama_print_timings:        eval time =    1062.43 ms /    12 runs   (   88.54 ms per token,    11.29 tokens per second)\n",
      "llama_print_timings:       total time =    1407.18 ms\n",
      "Llama.generate: prefix-match hit\n"
     ]
    },
    {
     "name": "stdout",
     "output_type": "stream",
     "text": [
      " [\"October 18, 1968\"]"
     ]
    },
    {
     "name": "stderr",
     "output_type": "stream",
     "text": [
      "\n",
      "llama_print_timings:        load time =   10070.69 ms\n",
      "llama_print_timings:      sample time =       5.68 ms /    14 runs   (    0.41 ms per token,  2463.92 tokens per second)\n",
      "llama_print_timings: prompt eval time =     270.92 ms /    25 tokens (   10.84 ms per token,    92.28 tokens per second)\n",
      "llama_print_timings:        eval time =    1114.32 ms /    13 runs   (   85.72 ms per token,    11.67 tokens per second)\n",
      "llama_print_timings:       total time =    1474.78 ms\n",
      "Llama.generate: prefix-match hit\n"
     ]
    },
    {
     "name": "stdout",
     "output_type": "stream",
     "text": [
      " [\"childhood asthma\"]"
     ]
    },
    {
     "name": "stderr",
     "output_type": "stream",
     "text": [
      "\n",
      "llama_print_timings:        load time =   10070.69 ms\n",
      "llama_print_timings:      sample time =       3.38 ms /     8 runs   (    0.42 ms per token,  2364.77 tokens per second)\n",
      "llama_print_timings: prompt eval time =     266.47 ms /    24 tokens (   11.10 ms per token,    90.07 tokens per second)\n",
      "llama_print_timings:        eval time =     606.74 ms /     7 runs   (   86.68 ms per token,    11.54 tokens per second)\n",
      "llama_print_timings:       total time =     918.16 ms\n",
      "Llama.generate: prefix-match hit\n"
     ]
    },
    {
     "name": "stdout",
     "output_type": "stream",
     "text": [
      " [\"Leilani Gusikowski\"]"
     ]
    },
    {
     "name": "stderr",
     "output_type": "stream",
     "text": [
      "\n",
      "llama_print_timings:        load time =   10070.69 ms\n",
      "llama_print_timings:      sample time =       5.91 ms /    10 runs   (    0.59 ms per token,  1692.33 tokens per second)\n",
      "llama_print_timings: prompt eval time =    2599.10 ms /   265 tokens (    9.81 ms per token,   101.96 tokens per second)\n",
      "llama_print_timings:        eval time =     807.14 ms /     9 runs   (   89.68 ms per token,    11.15 tokens per second)\n",
      "llama_print_timings:       total time =    3470.19 ms\n",
      "Llama.generate: prefix-match hit\n"
     ]
    },
    {
     "name": "stdout",
     "output_type": "stream",
     "text": [
      " [\"2487360682\"]"
     ]
    },
    {
     "name": "stderr",
     "output_type": "stream",
     "text": [
      "\n",
      "llama_print_timings:        load time =   10070.69 ms\n",
      "llama_print_timings:      sample time =       6.53 ms /    13 runs   (    0.50 ms per token,  1990.51 tokens per second)\n",
      "llama_print_timings: prompt eval time =     295.56 ms /    25 tokens (   11.82 ms per token,    84.58 tokens per second)\n",
      "llama_print_timings:        eval time =    1051.60 ms /    12 runs   (   87.63 ms per token,    11.41 tokens per second)\n",
      "llama_print_timings:       total time =    1425.82 ms\n",
      "Llama.generate: prefix-match hit\n"
     ]
    },
    {
     "name": "stdout",
     "output_type": "stream",
     "text": [
      " [\"March 11, 1951\"]"
     ]
    },
    {
     "name": "stderr",
     "output_type": "stream",
     "text": [
      "\n",
      "llama_print_timings:        load time =   10070.69 ms\n",
      "llama_print_timings:      sample time =       9.04 ms /    14 runs   (    0.65 ms per token,  1548.84 tokens per second)\n",
      "llama_print_timings: prompt eval time =     273.07 ms /    25 tokens (   10.92 ms per token,    91.55 tokens per second)\n",
      "llama_print_timings:        eval time =    1133.53 ms /    13 runs   (   87.19 ms per token,    11.47 tokens per second)\n",
      "llama_print_timings:       total time =    1496.26 ms\n",
      "Llama.generate: prefix-match hit\n"
     ]
    },
    {
     "name": "stdout",
     "output_type": "stream",
     "text": [
      " [\"viral\"]"
     ]
    },
    {
     "name": "stderr",
     "output_type": "stream",
     "text": [
      "\n",
      "llama_print_timings:        load time =   10070.69 ms\n",
      "llama_print_timings:      sample time =       2.58 ms /     5 runs   (    0.52 ms per token,  1938.74 tokens per second)\n",
      "llama_print_timings: prompt eval time =     270.29 ms /    24 tokens (   11.26 ms per token,    88.79 tokens per second)\n",
      "llama_print_timings:        eval time =     330.54 ms /     4 runs   (   82.64 ms per token,    12.10 tokens per second)\n",
      "llama_print_timings:       total time =     634.03 ms\n",
      "Llama.generate: prefix-match hit\n"
     ]
    },
    {
     "name": "stdout",
     "output_type": "stream",
     "text": [
      " [\"Russ Padberg\"]"
     ]
    },
    {
     "name": "stderr",
     "output_type": "stream",
     "text": [
      "\n",
      "llama_print_timings:        load time =   10070.69 ms\n",
      "llama_print_timings:      sample time =       3.35 ms /     6 runs   (    0.56 ms per token,  1793.19 tokens per second)\n",
      "llama_print_timings: prompt eval time =    1851.71 ms /   204 tokens (    9.08 ms per token,   110.17 tokens per second)\n",
      "llama_print_timings:        eval time =     444.18 ms /     5 runs   (   88.84 ms per token,    11.26 tokens per second)\n",
      "llama_print_timings:       total time =    2332.60 ms\n",
      "Llama.generate: prefix-match hit\n"
     ]
    },
    {
     "name": "stdout",
     "output_type": "stream",
     "text": [
      " [\"NHS Number\"]"
     ]
    },
    {
     "name": "stderr",
     "output_type": "stream",
     "text": [
      "\n",
      "llama_print_timings:        load time =   10070.69 ms\n",
      "llama_print_timings:      sample time =       2.71 ms /     6 runs   (    0.45 ms per token,  2215.66 tokens per second)\n",
      "llama_print_timings: prompt eval time =     293.74 ms /    25 tokens (   11.75 ms per token,    85.11 tokens per second)\n",
      "llama_print_timings:        eval time =     403.53 ms /     5 runs   (   80.71 ms per token,    12.39 tokens per second)\n",
      "llama_print_timings:       total time =     738.66 ms\n",
      "Llama.generate: prefix-match hit\n"
     ]
    },
    {
     "name": "stdout",
     "output_type": "stream",
     "text": [
      " [\"September 23, 1966\"]"
     ]
    },
    {
     "name": "stderr",
     "output_type": "stream",
     "text": [
      "\n",
      "llama_print_timings:        load time =   10070.69 ms\n",
      "llama_print_timings:      sample time =       5.12 ms /    14 runs   (    0.37 ms per token,  2734.38 tokens per second)\n",
      "llama_print_timings: prompt eval time =     278.08 ms /    25 tokens (   11.12 ms per token,    89.90 tokens per second)\n",
      "llama_print_timings:        eval time =    1141.22 ms /    13 runs   (   87.79 ms per token,    11.39 tokens per second)\n",
      "llama_print_timings:       total time =    1506.98 ms\n",
      "Llama.generate: prefix-match hit\n"
     ]
    },
    {
     "name": "stdout",
     "output_type": "stream",
     "text": [
      " [\"Hypertension\"]"
     ]
    },
    {
     "name": "stderr",
     "output_type": "stream",
     "text": [
      "\n",
      "llama_print_timings:        load time =   10070.69 ms\n",
      "llama_print_timings:      sample time =       2.59 ms /     6 runs   (    0.43 ms per token,  2315.71 tokens per second)\n",
      "llama_print_timings: prompt eval time =     266.72 ms /    24 tokens (   11.11 ms per token,    89.98 tokens per second)\n",
      "llama_print_timings:        eval time =     395.58 ms /     5 runs   (   79.12 ms per token,    12.64 tokens per second)\n",
      "llama_print_timings:       total time =     699.00 ms\n",
      "Llama.generate: prefix-match hit\n"
     ]
    },
    {
     "name": "stdout",
     "output_type": "stream",
     "text": [
      " [\"Shantell Stracke\", \"Ms. Stracke\"]"
     ]
    },
    {
     "name": "stderr",
     "output_type": "stream",
     "text": [
      "\n",
      "llama_print_timings:        load time =   10070.69 ms\n",
      "llama_print_timings:      sample time =       7.11 ms /    15 runs   (    0.47 ms per token,  2110.89 tokens per second)\n",
      "llama_print_timings: prompt eval time =    1614.40 ms /   191 tokens (    8.45 ms per token,   118.31 tokens per second)\n",
      "llama_print_timings:        eval time =    1227.58 ms /    14 runs   (   87.68 ms per token,    11.40 tokens per second)\n",
      "llama_print_timings:       total time =    2932.19 ms\n",
      "Llama.generate: prefix-match hit\n"
     ]
    },
    {
     "name": "stdout",
     "output_type": "stream",
     "text": [
      " []"
     ]
    },
    {
     "name": "stderr",
     "output_type": "stream",
     "text": [
      "\n",
      "llama_print_timings:        load time =   10070.69 ms\n",
      "llama_print_timings:      sample time =       1.08 ms /     2 runs   (    0.54 ms per token,  1845.02 tokens per second)\n",
      "llama_print_timings: prompt eval time =     268.01 ms /    25 tokens (   10.72 ms per token,    93.28 tokens per second)\n",
      "llama_print_timings:        eval time =      87.43 ms /     1 runs   (   87.43 ms per token,    11.44 tokens per second)\n",
      "llama_print_timings:       total time =     368.34 ms\n",
      "Llama.generate: prefix-match hit\n"
     ]
    },
    {
     "name": "stdout",
     "output_type": "stream",
     "text": [
      " [\"March 10, 1946\"]"
     ]
    },
    {
     "name": "stderr",
     "output_type": "stream",
     "text": [
      "\n",
      "llama_print_timings:        load time =   10070.69 ms\n",
      "llama_print_timings:      sample time =       6.62 ms /    14 runs   (    0.47 ms per token,  2113.53 tokens per second)\n",
      "llama_print_timings: prompt eval time =     265.30 ms /    25 tokens (   10.61 ms per token,    94.23 tokens per second)\n",
      "llama_print_timings:        eval time =    1163.92 ms /    13 runs   (   89.53 ms per token,    11.17 tokens per second)\n",
      "llama_print_timings:       total time =    1517.06 ms\n",
      "Llama.generate: prefix-match hit\n"
     ]
    },
    {
     "name": "stdout",
     "output_type": "stream",
     "text": [
      " [\"cerebral palsy\"]"
     ]
    },
    {
     "name": "stderr",
     "output_type": "stream",
     "text": [
      "\n",
      "llama_print_timings:        load time =   10070.69 ms\n",
      "llama_print_timings:      sample time =       6.24 ms /    10 runs   (    0.62 ms per token,  1603.85 tokens per second)\n",
      "llama_print_timings: prompt eval time =     267.12 ms /    24 tokens (   11.13 ms per token,    89.85 tokens per second)\n",
      "llama_print_timings:        eval time =     773.36 ms /     9 runs   (   85.93 ms per token,    11.64 tokens per second)\n",
      "llama_print_timings:       total time =    1111.00 ms\n",
      "Llama.generate: prefix-match hit\n"
     ]
    },
    {
     "name": "stdout",
     "output_type": "stream",
     "text": [
      " []"
     ]
    },
    {
     "name": "stderr",
     "output_type": "stream",
     "text": [
      "\n",
      "llama_print_timings:        load time =   10070.69 ms\n",
      "llama_print_timings:      sample time =       0.88 ms /     2 runs   (    0.44 ms per token,  2265.01 tokens per second)\n",
      "llama_print_timings: prompt eval time =    1890.06 ms /   205 tokens (    9.22 ms per token,   108.46 tokens per second)\n",
      "llama_print_timings:        eval time =      78.93 ms /     1 runs   (   78.93 ms per token,    12.67 tokens per second)\n",
      "llama_print_timings:       total time =    1981.46 ms\n",
      "Llama.generate: prefix-match hit\n"
     ]
    },
    {
     "name": "stdout",
     "output_type": "stream",
     "text": [
      " [\"4468773324\"]"
     ]
    },
    {
     "name": "stderr",
     "output_type": "stream",
     "text": [
      "\n",
      "llama_print_timings:        load time =   10070.69 ms\n",
      "llama_print_timings:      sample time =       6.54 ms /    13 runs   (    0.50 ms per token,  1988.98 tokens per second)\n",
      "llama_print_timings: prompt eval time =     296.76 ms /    25 tokens (   11.87 ms per token,    84.24 tokens per second)\n",
      "llama_print_timings:        eval time =    1014.91 ms /    12 runs   (   84.58 ms per token,    11.82 tokens per second)\n",
      "llama_print_timings:       total time =    1393.49 ms\n",
      "Llama.generate: prefix-match hit\n"
     ]
    },
    {
     "name": "stdout",
     "output_type": "stream",
     "text": [
      " []"
     ]
    },
    {
     "name": "stderr",
     "output_type": "stream",
     "text": [
      "\n",
      "llama_print_timings:        load time =   10070.69 ms\n",
      "llama_print_timings:      sample time =       1.14 ms /     2 runs   (    0.57 ms per token,  1760.56 tokens per second)\n",
      "llama_print_timings: prompt eval time =     271.32 ms /    25 tokens (   10.85 ms per token,    92.14 tokens per second)\n",
      "llama_print_timings:        eval time =      77.44 ms /     1 runs   (   77.44 ms per token,    12.91 tokens per second)\n",
      "llama_print_timings:       total time =     365.44 ms\n",
      "Llama.generate: prefix-match hit\n"
     ]
    },
    {
     "name": "stdout",
     "output_type": "stream",
     "text": [
      " [\"Otitis media\"]"
     ]
    },
    {
     "name": "stderr",
     "output_type": "stream",
     "text": [
      "\n",
      "llama_print_timings:        load time =   10070.69 ms\n",
      "llama_print_timings:      sample time =       3.58 ms /     7 runs   (    0.51 ms per token,  1958.04 tokens per second)\n",
      "llama_print_timings: prompt eval time =     256.43 ms /    24 tokens (   10.68 ms per token,    93.59 tokens per second)\n",
      "llama_print_timings:        eval time =     466.33 ms /     6 runs   (   77.72 ms per token,    12.87 tokens per second)\n",
      "llama_print_timings:       total time =     776.03 ms\n",
      "ggml_metal_free: deallocating\n"
     ]
    },
    {
     "data": {
      "text/plain": [
       "[{'Entities': [{'Text': 'Heike Bernier',\n",
       "    'Type': 'person',\n",
       "    'Match_Count': 1,\n",
       "    'Match_Indices': [(29, 42)]},\n",
       "   {'Text': 'NHS Number',\n",
       "    'Type': 'nhs number',\n",
       "    'Match_Count': 1,\n",
       "    'Match_Indices': [(43, 53)]},\n",
       "   {'Text': 'July 15, 2003',\n",
       "    'Type': 'date of birth',\n",
       "    'Match_Count': 1,\n",
       "    'Match_Indices': [(81, 94)]},\n",
       "   {'Text': 'viral sinusitis',\n",
       "    'Type': 'diagnosis',\n",
       "    'Match_Count': 2,\n",
       "    'Match_Indices': [(258, 273), (603, 618)]}]},\n",
       " {'Entities': [{'Text': 'Keven Hammes',\n",
       "    'Type': 'person',\n",
       "    'Match_Count': 1,\n",
       "    'Match_Indices': [(25, 37)]},\n",
       "   {'Text': 'NHS Number',\n",
       "    'Type': 'nhs number',\n",
       "    'Match_Count': 1,\n",
       "    'Match_Indices': [(38, 48)]},\n",
       "   {'Text': 'February 2, 2001',\n",
       "    'Type': 'date of birth',\n",
       "    'Match_Count': 1,\n",
       "    'Match_Indices': [(76, 92)]},\n",
       "   {'Text': 'ADHD',\n",
       "    'Type': 'diagnosis',\n",
       "    'Match_Count': 1,\n",
       "    'Match_Indices': [(203, 207)]}]},\n",
       " {'Entities': [{'Text': 'Mr. Kenton Hermann',\n",
       "    'Type': 'person',\n",
       "    'Match_Count': 1,\n",
       "    'Match_Indices': [(15, 33)]},\n",
       "   {'Text': 'NHS number',\n",
       "    'Type': 'nhs number',\n",
       "    'Match_Count': 1,\n",
       "    'Match_Indices': [(137, 147)]},\n",
       "   {'Text': 'January 6th, 1998',\n",
       "    'Type': 'date of birth',\n",
       "    'Match_Count': 1,\n",
       "    'Match_Indices': [(178, 195)]},\n",
       "   {'Text': 'acute bronchitis',\n",
       "    'Type': 'diagnosis',\n",
       "    'Match_Count': 1,\n",
       "    'Match_Indices': [(218, 234)]}]},\n",
       " {'Entities': [{'Text': 'Darron Farrell',\n",
       "    'Type': 'person',\n",
       "    'Match_Count': 1,\n",
       "    'Match_Indices': [(29, 43)]},\n",
       "   {'Text': '6744989936',\n",
       "    'Type': 'nhs number',\n",
       "    'Match_Count': 1,\n",
       "    'Match_Indices': [(56, 66)]},\n",
       "   {'Text': 'December 23, 1972',\n",
       "    'Type': 'date of birth',\n",
       "    'Match_Count': 1,\n",
       "    'Match_Indices': [(82, 99)]},\n",
       "   {'Text': 'Anemia',\n",
       "    'Type': 'diagnosis',\n",
       "    'Match_Count': 1,\n",
       "    'Match_Indices': [(724, 730)]}]},\n",
       " {'Entities': [{'Text': 'Carlo Kuhn',\n",
       "    'Type': 'person',\n",
       "    'Match_Count': 1,\n",
       "    'Match_Indices': [(29, 39)]},\n",
       "   {'Text': '1949271404',\n",
       "    'Type': 'nhs number',\n",
       "    'Match_Count': 1,\n",
       "    'Match_Indices': [(52, 62)]},\n",
       "   {'Text': 'September 10, 1968',\n",
       "    'Type': 'date of birth',\n",
       "    'Match_Count': 1,\n",
       "    'Match_Indices': [(78, 96)]},\n",
       "   {'Text': 'fibromyalgia',\n",
       "    'Type': 'diagnosis',\n",
       "    'Match_Count': 1,\n",
       "    'Match_Indices': [(560, 572)]},\n",
       "   {'Text': 'degenerative disc disease',\n",
       "    'Type': 'diagnosis',\n",
       "    'Match_Count': 1,\n",
       "    'Match_Indices': [(576, 601)]}]},\n",
       " {'Entities': [{'Text': 'Loree Pouros',\n",
       "    'Type': 'person',\n",
       "    'Match_Count': 1,\n",
       "    'Match_Indices': [(42, 54)]},\n",
       "   {'Text': '4135716814',\n",
       "    'Type': 'nhs number',\n",
       "    'Match_Count': 2,\n",
       "    'Match_Indices': [(30, 40), (287, 297)]},\n",
       "   {'Text': 'January 31st, 1991',\n",
       "    'Type': 'date of birth',\n",
       "    'Match_Count': 1,\n",
       "    'Match_Indices': [(153, 171)]},\n",
       "   {'Text': 'viral sinusitis',\n",
       "    'Type': 'diagnosis',\n",
       "    'Match_Count': 2,\n",
       "    'Match_Indices': [(112, 127), (365, 380)]}]},\n",
       " {'Entities': [{'Text': '5771725080',\n",
       "    'Type': 'nhs number',\n",
       "    'Match_Count': 1,\n",
       "    'Match_Indices': [(58, 68)]},\n",
       "   {'Text': 'Date of Birth',\n",
       "    'Type': 'date of birth',\n",
       "    'Match_Count': 1,\n",
       "    'Match_Indices': [(69, 82)]}]},\n",
       " {'Entities': [{'Text': 'Tommy Murray',\n",
       "    'Type': 'person',\n",
       "    'Match_Count': 2,\n",
       "    'Match_Indices': [(19, 31), (63, 75)]},\n",
       "   {'Text': '8556129943',\n",
       "    'Type': 'nhs number',\n",
       "    'Match_Count': 1,\n",
       "    'Match_Indices': [(121, 131)]},\n",
       "   {'Text': 'December 30, 2009',\n",
       "    'Type': 'date of birth',\n",
       "    'Match_Count': 1,\n",
       "    'Match_Indices': [(233, 250)]},\n",
       "   {'Text': 'acute bronchitis',\n",
       "    'Type': 'diagnosis',\n",
       "    'Match_Count': 1,\n",
       "    'Match_Indices': [(183, 199)]}]},\n",
       " {'Entities': [{'Text': 'Christia Torphy',\n",
       "    'Type': 'person',\n",
       "    'Match_Count': 2,\n",
       "    'Match_Indices': [(48, 63), (84, 99)]},\n",
       "   {'Text': '9217912255',\n",
       "    'Type': 'nhs number',\n",
       "    'Match_Count': 1,\n",
       "    'Match_Indices': [(112, 122)]},\n",
       "   {'Text': 'September 9, 1956',\n",
       "    'Type': 'date of birth',\n",
       "    'Match_Count': 1,\n",
       "    'Match_Indices': [(138, 155)]},\n",
       "   {'Text': 'viral sinusitis',\n",
       "    'Type': 'diagnosis',\n",
       "    'Match_Count': 1,\n",
       "    'Match_Indices': [(925, 940)]}]},\n",
       " {'Entities': [{'Text': 'Vannessa Boyle',\n",
       "    'Type': 'person',\n",
       "    'Match_Count': 1,\n",
       "    'Match_Indices': [(25, 39)]},\n",
       "   {'Text': 'Mrs. Boyle',\n",
       "    'Type': 'person',\n",
       "    'Match_Count': 2,\n",
       "    'Match_Indices': [(107, 117), (449, 459)]},\n",
       "   {'Text': '3523937671',\n",
       "    'Type': 'nhs number',\n",
       "    'Match_Count': 1,\n",
       "    'Match_Indices': [(52, 62)]},\n",
       "   {'Text': 'July 20, 1974',\n",
       "    'Type': 'date of birth',\n",
       "    'Match_Count': 1,\n",
       "    'Match_Indices': [(78, 91)]},\n",
       "   {'Text': 'Sinusitis',\n",
       "    'Type': 'diagnosis',\n",
       "    'Match_Count': 1,\n",
       "    'Match_Indices': [(399, 408)]}]},\n",
       " {'Entities': [{'Text': 'Ms. Jeanelle Stanton',\n",
       "    'Type': 'person',\n",
       "    'Match_Count': 1,\n",
       "    'Match_Indices': [(15, 35)]},\n",
       "   {'Text': '0982637659',\n",
       "    'Type': 'nhs number',\n",
       "    'Match_Count': 1,\n",
       "    'Match_Indices': [(176, 186)]},\n",
       "   {'Text': 'October 22, 1983',\n",
       "    'Type': 'date of birth',\n",
       "    'Match_Count': 1,\n",
       "    'Match_Indices': [(208, 224)]},\n",
       "   {'Text': 'normal pregnancy',\n",
       "    'Type': 'diagnosis',\n",
       "    'Match_Count': 1,\n",
       "    'Match_Indices': [(243, 259)]}]},\n",
       " {'Entities': [{'Text': 'Hassan Sporer',\n",
       "    'Type': 'person',\n",
       "    'Match_Count': 1,\n",
       "    'Match_Indices': [(23, 36)]},\n",
       "   {'Text': 'NHS number 4761868791',\n",
       "    'Type': 'nhs number',\n",
       "    'Match_Count': 1,\n",
       "    'Match_Indices': [(38, 59)]},\n",
       "   {'Text': 'acute viral pharyngitis',\n",
       "    'Type': 'diagnosis',\n",
       "    'Match_Count': 2,\n",
       "    'Match_Indices': [(75, 98), (171, 194)]}]},\n",
       " {'Entities': [{'Text': 'Santa Marquardt',\n",
       "    'Type': 'person',\n",
       "    'Match_Count': 1,\n",
       "    'Match_Indices': [(29, 44)]},\n",
       "   {'Text': '4324676496',\n",
       "    'Type': 'nhs number',\n",
       "    'Match_Count': 1,\n",
       "    'Match_Indices': [(57, 67)]},\n",
       "   {'Text': 'September 4, 1989',\n",
       "    'Type': 'date of birth',\n",
       "    'Match_Count': 1,\n",
       "    'Match_Indices': [(83, 100)]}]},\n",
       " {'Entities': [{'Text': 'NHS Number',\n",
       "    'Type': 'nhs number',\n",
       "    'Match_Count': 1,\n",
       "    'Match_Indices': [(42, 52)]},\n",
       "   {'Text': 'April 7, 1969',\n",
       "    'Type': 'date of birth',\n",
       "    'Match_Count': 1,\n",
       "    'Match_Indices': [(80, 93)]},\n",
       "   {'Text': 'allergic rhinitis',\n",
       "    'Type': 'diagnosis',\n",
       "    'Match_Count': 1,\n",
       "    'Match_Indices': [(154, 171)]}]},\n",
       " {'Entities': [{'Text': 'Mr. Mauricio Williamson',\n",
       "    'Type': 'person',\n",
       "    'Match_Count': 1,\n",
       "    'Match_Indices': [(16, 39)]},\n",
       "   {'Text': 'NHS number',\n",
       "    'Type': 'nhs number',\n",
       "    'Match_Count': 1,\n",
       "    'Match_Indices': [(137, 147)]},\n",
       "   {'Text': 'September 14th, 1956',\n",
       "    'Type': 'date of birth',\n",
       "    'Match_Count': 1,\n",
       "    'Match_Indices': [(181, 201)]},\n",
       "   {'Text': 'viral sinusitis',\n",
       "    'Type': 'diagnosis',\n",
       "    'Match_Count': 2,\n",
       "    'Match_Indices': [(116, 131), (323, 338)]}]},\n",
       " {'Entities': [{'Text': 'Mr. Jude Braun',\n",
       "    'Type': 'person',\n",
       "    'Match_Count': 1,\n",
       "    'Match_Indices': [(15, 29)]},\n",
       "   {'Text': '12-year-old',\n",
       "    'Type': 'nhs number',\n",
       "    'Match_Count': 1,\n",
       "    'Match_Indices': [(33, 44)]},\n",
       "   {'Text': 'male',\n",
       "    'Type': 'nhs number',\n",
       "    'Match_Count': 1,\n",
       "    'Match_Indices': [(45, 49)]},\n",
       "   {'Text': 'October 2nd, 2008',\n",
       "    'Type': 'date of birth',\n",
       "    'Match_Count': 1,\n",
       "    'Match_Indices': [(250, 267)]}]},\n",
       " {'Entities': [{'Text': 'Mr. Tommy Wisoky',\n",
       "    'Type': 'person',\n",
       "    'Match_Count': 1,\n",
       "    'Match_Indices': [(15, 31)]},\n",
       "   {'Text': '9975734537',\n",
       "    'Type': 'nhs number',\n",
       "    'Match_Count': 1,\n",
       "    'Match_Indices': [(217, 227)]},\n",
       "   {'Text': 'October 7th, 2019',\n",
       "    'Type': 'date of birth',\n",
       "    'Match_Count': 1,\n",
       "    'Match_Indices': [(176, 193)]},\n",
       "   {'Text': 'Nan',\n",
       "    'Type': 'diagnosis',\n",
       "    'Match_Count': 1,\n",
       "    'Match_Indices': [(102, 105)]},\n",
       "   {'Text': 'Null',\n",
       "    'Type': 'diagnosis',\n",
       "    'Match_Count': 1,\n",
       "    'Match_Indices': [(107, 111)]}]},\n",
       " {'Entities': [{'Text': 'Dewey Zieme',\n",
       "    'Type': 'person',\n",
       "    'Match_Count': 1,\n",
       "    'Match_Indices': [(18, 29)]},\n",
       "   {'Text': 'NHS number 4118554933',\n",
       "    'Type': 'nhs number',\n",
       "    'Match_Count': 1,\n",
       "    'Match_Indices': [(68, 89)]},\n",
       "   {'Text': 'August 26, 1959',\n",
       "    'Type': 'date of birth',\n",
       "    'Match_Count': 1,\n",
       "    'Match_Indices': [(105, 120)]}]},\n",
       " {'Entities': [{'Text': 'Malvina Anderson',\n",
       "    'Type': 'person',\n",
       "    'Match_Count': 1,\n",
       "    'Match_Indices': [(29, 45)]},\n",
       "   {'Text': '1516947274',\n",
       "    'Type': 'nhs number',\n",
       "    'Match_Count': 1,\n",
       "    'Match_Indices': [(58, 68)]},\n",
       "   {'Text': 'February 19, 1977',\n",
       "    'Type': 'date of birth',\n",
       "    'Match_Count': 1,\n",
       "    'Match_Indices': [(84, 101)]},\n",
       "   {'Text': 'allergic rhinitis',\n",
       "    'Type': 'diagnosis',\n",
       "    'Match_Count': 1,\n",
       "    'Match_Indices': [(149, 166)]},\n",
       "   {'Text': 'seasonal allergies',\n",
       "    'Type': 'diagnosis',\n",
       "    'Match_Count': 1,\n",
       "    'Match_Indices': [(254, 272)]}]},\n",
       " {'Entities': [{'Text': 'Lorene Boyer',\n",
       "    'Type': 'person',\n",
       "    'Match_Count': 1,\n",
       "    'Match_Indices': [(29, 41)]},\n",
       "   {'Text': '9698123407',\n",
       "    'Type': 'nhs number',\n",
       "    'Match_Count': 1,\n",
       "    'Match_Indices': [(54, 64)]},\n",
       "   {'Text': 'February 15, 2013',\n",
       "    'Type': 'date of birth',\n",
       "    'Match_Count': 1,\n",
       "    'Match_Indices': [(80, 97)]},\n",
       "   {'Text': 'otitis media',\n",
       "    'Type': 'diagnosis',\n",
       "    'Match_Count': 1,\n",
       "    'Match_Indices': [(152, 164)]},\n",
       "   {'Text': 'middle ear infections',\n",
       "    'Type': 'diagnosis',\n",
       "    'Match_Count': 1,\n",
       "    'Match_Indices': [(293, 314)]}]},\n",
       " {'Entities': [{'Text': 'Mr. Antoine King',\n",
       "    'Type': 'person',\n",
       "    'Match_Count': 1,\n",
       "    'Match_Indices': [(15, 31)]},\n",
       "   {'Text': '4412091600',\n",
       "    'Type': 'nhs number',\n",
       "    'Match_Count': 1,\n",
       "    'Match_Indices': [(259, 269)]},\n",
       "   {'Text': 'August 7th, 2022',\n",
       "    'Type': 'date of birth',\n",
       "    'Match_Count': 1,\n",
       "    'Match_Indices': [(219, 235)]},\n",
       "   {'Text': 'acute bronchitis',\n",
       "    'Type': 'diagnosis',\n",
       "    'Match_Count': 1,\n",
       "    'Match_Indices': [(99, 115)]},\n",
       "   {'Text': 'respiratory infection',\n",
       "    'Type': 'diagnosis',\n",
       "    'Match_Count': 1,\n",
       "    'Match_Indices': [(358, 379)]}]},\n",
       " {'Entities': [{'Text': 'Tiny Hirthe',\n",
       "    'Type': 'person',\n",
       "    'Match_Count': 1,\n",
       "    'Match_Indices': [(24, 35)]},\n",
       "   {'Text': 'NHS Number',\n",
       "    'Type': 'nhs number',\n",
       "    'Match_Count': 1,\n",
       "    'Match_Indices': [(36, 46)]},\n",
       "   {'Text': 'August 15, 1982',\n",
       "    'Type': 'date of birth',\n",
       "    'Match_Count': 1,\n",
       "    'Match_Indices': [(74, 89)]}]},\n",
       " {'Entities': [{'Text': 'Patient Han Walsh',\n",
       "    'Type': 'person',\n",
       "    'Match_Count': 1,\n",
       "    'Match_Indices': [(18, 35)]},\n",
       "   {'Text': '4133714369',\n",
       "    'Type': 'nhs number',\n",
       "    'Match_Count': 1,\n",
       "    'Match_Indices': [(223, 233)]},\n",
       "   {'Text': 'August 13, 2019',\n",
       "    'Type': 'date of birth',\n",
       "    'Match_Count': 1,\n",
       "    'Match_Indices': [(184, 199)]},\n",
       "   {'Text': 'acute viral pharyngitis',\n",
       "    'Type': 'diagnosis',\n",
       "    'Match_Count': 1,\n",
       "    'Match_Indices': [(252, 275)]}]},\n",
       " {'Entities': [{'Text': 'Salvador Hyatt',\n",
       "    'Type': 'person',\n",
       "    'Match_Count': 1,\n",
       "    'Match_Indices': [(19, 33)]},\n",
       "   {'Text': 'NHS number',\n",
       "    'Type': 'nhs number',\n",
       "    'Match_Count': 1,\n",
       "    'Match_Indices': [(129, 139)]},\n",
       "   {'Text': 'February 6th, 2012',\n",
       "    'Type': 'date of birth',\n",
       "    'Match_Count': 1,\n",
       "    'Match_Indices': [(170, 188)]},\n",
       "   {'Text': 'acute bronchitis',\n",
       "    'Type': 'diagnosis',\n",
       "    'Match_Count': 1,\n",
       "    'Match_Indices': [(211, 227)]}]},\n",
       " {'Entities': [{'Text': 'Loretta King',\n",
       "    'Type': 'person',\n",
       "    'Match_Count': 1,\n",
       "    'Match_Indices': [(15, 27)]},\n",
       "   {'Text': 'NHS number 2162659328',\n",
       "    'Type': 'nhs number',\n",
       "    'Match_Count': 1,\n",
       "    'Match_Indices': [(56, 77)]},\n",
       "   {'Text': 'November 6th, 2003',\n",
       "    'Type': 'date of birth',\n",
       "    'Match_Count': 1,\n",
       "    'Match_Indices': [(364, 382)]},\n",
       "   {'Text': 'atopic dermatitis',\n",
       "    'Type': 'diagnosis',\n",
       "    'Match_Count': 2,\n",
       "    'Match_Indices': [(156, 173), (452, 469)]}]},\n",
       " {'Entities': [{'Text': 'Randy Mayer',\n",
       "    'Type': 'person',\n",
       "    'Match_Count': 1,\n",
       "    'Match_Indices': [(29, 40)]},\n",
       "   {'Text': '2205332465',\n",
       "    'Type': 'nhs number',\n",
       "    'Match_Count': 1,\n",
       "    'Match_Indices': [(53, 63)]},\n",
       "   {'Text': 'July 11, 2021',\n",
       "    'Type': 'date of birth',\n",
       "    'Match_Count': 1,\n",
       "    'Match_Indices': [(79, 92)]},\n",
       "   {'Text': 'acute bronchitis',\n",
       "    'Type': 'diagnosis',\n",
       "    'Match_Count': 1,\n",
       "    'Match_Indices': [(399, 415)]},\n",
       "   {'Text': 'disorder',\n",
       "    'Type': 'diagnosis',\n",
       "    'Match_Count': 2,\n",
       "    'Match_Indices': [(126, 134), (417, 425)]}]},\n",
       " {'Entities': [{'Text': 'Merle Nader',\n",
       "    'Type': 'person',\n",
       "    'Match_Count': 1,\n",
       "    'Match_Indices': [(23, 34)]},\n",
       "   {'Text': '6933580911',\n",
       "    'Type': 'nhs number',\n",
       "    'Match_Count': 1,\n",
       "    'Match_Indices': [(151, 161)]},\n",
       "   {'Text': 'October 7, 1981',\n",
       "    'Type': 'date of birth',\n",
       "    'Match_Count': 1,\n",
       "    'Match_Indices': [(183, 198)]},\n",
       "   {'Text': 'Impacted molars',\n",
       "    'Type': 'diagnosis',\n",
       "    'Match_Count': 1,\n",
       "    'Match_Indices': [(211, 226)]}]},\n",
       " {'Entities': [{'Text': 'Ms. Edie Hoeger',\n",
       "    'Type': 'person',\n",
       "    'Match_Count': 1,\n",
       "    'Match_Indices': [(15, 30)]},\n",
       "   {'Text': '9843565916',\n",
       "    'Type': 'nhs number',\n",
       "    'Match_Count': 1,\n",
       "    'Match_Indices': [(139, 149)]},\n",
       "   {'Text': 'September 14, 1978',\n",
       "    'Type': 'date of birth',\n",
       "    'Match_Count': 1,\n",
       "    'Match_Indices': [(175, 193)]}]},\n",
       " {'Entities': [{'Text': 'Patient Devon Marks',\n",
       "    'Type': 'person',\n",
       "    'Match_Count': 1,\n",
       "    'Match_Indices': [(15, 34)]},\n",
       "   {'Text': 'NHS number',\n",
       "    'Type': 'nhs number',\n",
       "    'Match_Count': 1,\n",
       "    'Match_Indices': [(152, 162)]},\n",
       "   {'Text': '8882949338',\n",
       "    'Type': 'nhs number',\n",
       "    'Match_Count': 1,\n",
       "    'Match_Indices': [(166, 176)]},\n",
       "   {'Text': 'December 1st, 1978',\n",
       "    'Type': 'date of birth',\n",
       "    'Match_Count': 1,\n",
       "    'Match_Indices': [(204, 222)]}]},\n",
       " {'Entities': [{'Text': 'Patient Tobias Koelpin',\n",
       "    'Type': 'person',\n",
       "    'Match_Count': 1,\n",
       "    'Match_Indices': [(18, 40)]},\n",
       "   {'Text': '7175517521',\n",
       "    'Type': 'nhs number',\n",
       "    'Match_Count': 1,\n",
       "    'Match_Indices': [(171, 181)]},\n",
       "   {'Text': 'January 12, 2022',\n",
       "    'Type': 'date of birth',\n",
       "    'Match_Count': 1,\n",
       "    'Match_Indices': [(209, 225)]},\n",
       "   {'Text': 'viral sinusitis',\n",
       "    'Type': 'diagnosis',\n",
       "    'Match_Count': 1,\n",
       "    'Match_Indices': [(253, 268)]}]},\n",
       " {'Entities': [{'Text': 'NHS Number',\n",
       "    'Type': 'nhs number',\n",
       "    'Match_Count': 1,\n",
       "    'Match_Indices': [(88, 98)]},\n",
       "   {'Text': 'February 7, 1957',\n",
       "    'Type': 'date of birth',\n",
       "    'Match_Count': 1,\n",
       "    'Match_Indices': [(126, 142)]},\n",
       "   {'Text': 'Acute viral pharyngitis',\n",
       "    'Type': 'diagnosis',\n",
       "    'Match_Count': 2,\n",
       "    'Match_Indices': [(166, 189), (545, 568)]}]},\n",
       " {'Entities': [{'Text': 'Eusebia Bode',\n",
       "    'Type': 'person',\n",
       "    'Match_Count': 1,\n",
       "    'Match_Indices': [(25, 37)]},\n",
       "   {'Text': 'NHS Number',\n",
       "    'Type': 'nhs number',\n",
       "    'Match_Count': 1,\n",
       "    'Match_Indices': [(38, 48)]},\n",
       "   {'Text': 'November 20, 1978',\n",
       "    'Type': 'date of birth',\n",
       "    'Match_Count': 1,\n",
       "    'Match_Indices': [(76, 93)]},\n",
       "   {'Text': 'Normal pregnancy',\n",
       "    'Type': 'diagnosis',\n",
       "    'Match_Count': 1,\n",
       "    'Match_Indices': [(114, 130)]}]},\n",
       " {'Entities': [{'Text': 'Arlen Connelly',\n",
       "    'Type': 'person',\n",
       "    'Match_Count': 1,\n",
       "    'Match_Indices': [(29, 43)]},\n",
       "   {'Text': '4565941791',\n",
       "    'Type': 'nhs number',\n",
       "    'Match_Count': 1,\n",
       "    'Match_Indices': [(56, 66)]},\n",
       "   {'Text': 'February 7, 2002',\n",
       "    'Type': 'date of birth',\n",
       "    'Match_Count': 1,\n",
       "    'Match_Indices': [(82, 98)]},\n",
       "   {'Text': 'Childhood asthma',\n",
       "    'Type': 'diagnosis',\n",
       "    'Match_Count': 1,\n",
       "    'Match_Indices': [(111, 127)]}]},\n",
       " {'Entities': [{'Text': 'Beau Gleason',\n",
       "    'Type': 'person',\n",
       "    'Match_Count': 1,\n",
       "    'Match_Indices': [(29, 41)]},\n",
       "   {'Text': '0449821668',\n",
       "    'Type': 'nhs number',\n",
       "    'Match_Count': 1,\n",
       "    'Match_Indices': [(54, 64)]},\n",
       "   {'Text': 'October 2, 1955',\n",
       "    'Type': 'date of birth',\n",
       "    'Match_Count': 1,\n",
       "    'Match_Indices': [(80, 95)]},\n",
       "   {'Text': 'bacterial sinusitis',\n",
       "    'Type': 'diagnosis',\n",
       "    'Match_Count': 1,\n",
       "    'Match_Indices': [(523, 542)]}]},\n",
       " {'Entities': [{'Text': 'Asa Kunde',\n",
       "    'Type': 'person',\n",
       "    'Match_Count': 1,\n",
       "    'Match_Indices': [(25, 34)]},\n",
       "   {'Text': '7916193256',\n",
       "    'Type': 'nhs number',\n",
       "    'Match_Count': 1,\n",
       "    'Match_Indices': [(47, 57)]},\n",
       "   {'Text': 'May 10, 2022',\n",
       "    'Type': 'date of birth',\n",
       "    'Match_Count': 1,\n",
       "    'Match_Indices': [(73, 85)]}]},\n",
       " {'Entities': [{'Text': 'Toby Kuhn',\n",
       "    'Type': 'person',\n",
       "    'Match_Count': 1,\n",
       "    'Match_Indices': [(29, 38)]},\n",
       "   {'Text': '3461890316',\n",
       "    'Type': 'nhs number',\n",
       "    'Match_Count': 1,\n",
       "    'Match_Indices': [(51, 61)]},\n",
       "   {'Text': 'September 18, 2006',\n",
       "    'Type': 'date of birth',\n",
       "    'Match_Count': 1,\n",
       "    'Match_Indices': [(77, 95)]},\n",
       "   {'Text': 'Acute viral pharyngitis',\n",
       "    'Type': 'diagnosis',\n",
       "    'Match_Count': 1,\n",
       "    'Match_Indices': [(282, 305)]}]},\n",
       " {'Entities': [{'Text': 'Asa Bernier',\n",
       "    'Type': 'person',\n",
       "    'Match_Count': 1,\n",
       "    'Match_Indices': [(23, 34)]},\n",
       "   {'Text': 'NHS number 6450937874',\n",
       "    'Type': 'nhs number',\n",
       "    'Match_Count': 1,\n",
       "    'Match_Indices': [(36, 57)]},\n",
       "   {'Text': 'March 28, 1986',\n",
       "    'Type': 'date of birth',\n",
       "    'Match_Count': 1,\n",
       "    'Match_Indices': [(135, 149)]},\n",
       "   {'Text': 'viral sinusitis',\n",
       "    'Type': 'diagnosis',\n",
       "    'Match_Count': 1,\n",
       "    'Match_Indices': [(94, 109)]}]},\n",
       " {'Entities': [{'Text': 'Deandrea Beatty',\n",
       "    'Type': 'person',\n",
       "    'Match_Count': 1,\n",
       "    'Match_Indices': [(29, 44)]},\n",
       "   {'Text': '2010103262',\n",
       "    'Type': 'nhs number',\n",
       "    'Match_Count': 1,\n",
       "    'Match_Indices': [(57, 67)]},\n",
       "   {'Text': 'May 4, 1965',\n",
       "    'Type': 'date of birth',\n",
       "    'Match_Count': 1,\n",
       "    'Match_Indices': [(83, 94)]}]},\n",
       " {'Entities': [{'Text': 'Dion Quitzon',\n",
       "    'Type': 'person',\n",
       "    'Match_Count': 1,\n",
       "    'Match_Indices': [(19, 31)]},\n",
       "   {'Text': 'NHS number',\n",
       "    'Type': 'nhs number',\n",
       "    'Match_Count': 1,\n",
       "    'Match_Indices': [(189, 199)]},\n",
       "   {'Text': '11th September 1962',\n",
       "    'Type': 'date of birth',\n",
       "    'Match_Count': 1,\n",
       "    'Match_Indices': [(233, 252)]},\n",
       "   {'Text': 'Otitis media',\n",
       "    'Type': 'diagnosis',\n",
       "    'Match_Count': 1,\n",
       "    'Match_Indices': [(265, 277)]}]},\n",
       " {'Entities': [{'Text': 'Kathrin Bechtelar',\n",
       "    'Type': 'person',\n",
       "    'Match_Count': 1,\n",
       "    'Match_Indices': [(25, 42)]},\n",
       "   {'Text': 'NHS Number',\n",
       "    'Type': 'nhs number',\n",
       "    'Match_Count': 1,\n",
       "    'Match_Indices': [(43, 53)]},\n",
       "   {'Text': 'October 24, 1948',\n",
       "    'Type': 'date of birth',\n",
       "    'Match_Count': 1,\n",
       "    'Match_Indices': [(81, 97)]},\n",
       "   {'Text': 'Normal pregnancy',\n",
       "    'Type': 'diagnosis',\n",
       "    'Match_Count': 1,\n",
       "    'Match_Indices': [(118, 134)]}]},\n",
       " {'Entities': [{'Text': '7758619304',\n",
       "    'Type': 'nhs number',\n",
       "    'Match_Count': 1,\n",
       "    'Match_Indices': [(49, 59)]},\n",
       "   {'Text': 'November 18, 1991',\n",
       "    'Type': 'date of birth',\n",
       "    'Match_Count': 1,\n",
       "    'Match_Indices': [(75, 92)]},\n",
       "   {'Text': 'Viral sinusitis',\n",
       "    'Type': 'diagnosis',\n",
       "    'Match_Count': 1,\n",
       "    'Match_Indices': [(531, 546)]},\n",
       "   {'Text': 'allergic rhinitis',\n",
       "    'Type': 'diagnosis',\n",
       "    'Match_Count': 1,\n",
       "    'Match_Indices': [(650, 667)]}]},\n",
       " {'Entities': [{'Text': 'Deandre Thiel',\n",
       "    'Type': 'person',\n",
       "    'Match_Count': 1,\n",
       "    'Match_Indices': [(18, 31)]},\n",
       "   {'Text': 'perennial allergic rhinitis',\n",
       "    'Type': 'diagnosis',\n",
       "    'Match_Count': 1,\n",
       "    'Match_Indices': [(136, 163)]},\n",
       "   {'Text': 'hay fever',\n",
       "    'Type': 'diagnosis',\n",
       "    'Match_Count': 1,\n",
       "    'Match_Indices': [(200, 209)]}]},\n",
       " {'Entities': [{'Text': 'Apolonia Weber',\n",
       "    'Type': 'person',\n",
       "    'Match_Count': 1,\n",
       "    'Match_Indices': [(23, 37)]},\n",
       "   {'Text': 'NHS number',\n",
       "    'Type': 'nhs number',\n",
       "    'Match_Count': 1,\n",
       "    'Match_Indices': [(127, 137)]},\n",
       "   {'Text': 'May 23rd, 2007',\n",
       "    'Type': 'date of birth',\n",
       "    'Match_Count': 1,\n",
       "    'Match_Indices': [(173, 187)]},\n",
       "   {'Text': 'viral sinusitis',\n",
       "    'Type': 'diagnosis',\n",
       "    'Match_Count': 1,\n",
       "    'Match_Indices': [(225, 240)]}]},\n",
       " {'Entities': [{'Text': 'Mario Kuhn',\n",
       "    'Type': 'person',\n",
       "    'Match_Count': 1,\n",
       "    'Match_Indices': [(25, 35)]},\n",
       "   {'Text': 'NHS Number',\n",
       "    'Type': 'nhs number',\n",
       "    'Match_Count': 1,\n",
       "    'Match_Indices': [(36, 46)]},\n",
       "   {'Text': 'July 27, 1963',\n",
       "    'Type': 'date of birth',\n",
       "    'Match_Count': 1,\n",
       "    'Match_Indices': [(74, 87)]},\n",
       "   {'Text': 'Impacted molars',\n",
       "    'Type': 'diagnosis',\n",
       "    'Match_Count': 1,\n",
       "    'Match_Indices': [(355, 370)]}]},\n",
       " {'Entities': [{'Text': 'NHS Number',\n",
       "    'Type': 'nhs number',\n",
       "    'Match_Count': 1,\n",
       "    'Match_Indices': [(46, 56)]},\n",
       "   {'Text': 'HIV',\n",
       "    'Type': 'diagnosis',\n",
       "    'Match_Count': 2,\n",
       "    'Match_Indices': [(270, 273), (713, 716)]},\n",
       "   {'Text': 'opportunistic infections',\n",
       "    'Type': 'diagnosis',\n",
       "    'Match_Count': 1,\n",
       "    'Match_Indices': [(770, 794)]},\n",
       "   {'Text': 'comorbidities',\n",
       "    'Type': 'diagnosis',\n",
       "    'Match_Count': 1,\n",
       "    'Match_Indices': [(805, 818)]}]},\n",
       " {'Entities': [{'Text': 'Giselle Kris',\n",
       "    'Type': 'person',\n",
       "    'Match_Count': 1,\n",
       "    'Match_Indices': [(18, 30)]},\n",
       "   {'Text': '8356125952',\n",
       "    'Type': 'nhs number',\n",
       "    'Match_Count': 1,\n",
       "    'Match_Indices': [(132, 142)]},\n",
       "   {'Text': 'October 18, 1968',\n",
       "    'Type': 'date of birth',\n",
       "    'Match_Count': 1,\n",
       "    'Match_Indices': [(96, 112)]},\n",
       "   {'Text': 'childhood asthma',\n",
       "    'Type': 'diagnosis',\n",
       "    'Match_Count': 1,\n",
       "    'Match_Indices': [(70, 86)]}]},\n",
       " {'Entities': [{'Text': 'Leilani Gusikowski',\n",
       "    'Type': 'person',\n",
       "    'Match_Count': 2,\n",
       "    'Match_Indices': [(37, 55), (72, 90)]},\n",
       "   {'Text': '2487360682',\n",
       "    'Type': 'nhs number',\n",
       "    'Match_Count': 1,\n",
       "    'Match_Indices': [(103, 113)]},\n",
       "   {'Text': 'March 11, 1951',\n",
       "    'Type': 'date of birth',\n",
       "    'Match_Count': 1,\n",
       "    'Match_Indices': [(129, 143)]},\n",
       "   {'Text': 'viral',\n",
       "    'Type': 'diagnosis',\n",
       "    'Match_Count': 1,\n",
       "    'Match_Indices': [(459, 464)]}]},\n",
       " {'Entities': [{'Text': 'Russ Padberg',\n",
       "    'Type': 'person',\n",
       "    'Match_Count': 2,\n",
       "    'Match_Indices': [(29, 41), (134, 146)]},\n",
       "   {'Text': 'NHS Number',\n",
       "    'Type': 'nhs number',\n",
       "    'Match_Count': 1,\n",
       "    'Match_Indices': [(42, 52)]},\n",
       "   {'Text': 'September 23, 1966',\n",
       "    'Type': 'date of birth',\n",
       "    'Match_Count': 1,\n",
       "    'Match_Indices': [(80, 98)]},\n",
       "   {'Text': 'Hypertension',\n",
       "    'Type': 'diagnosis',\n",
       "    'Match_Count': 1,\n",
       "    'Match_Indices': [(120, 132)]}]},\n",
       " {'Entities': [{'Text': 'Shantell Stracke',\n",
       "    'Type': 'person',\n",
       "    'Match_Count': 2,\n",
       "    'Match_Indices': [(26, 42), (68, 84)]},\n",
       "   {'Text': 'Ms. Stracke',\n",
       "    'Type': 'person',\n",
       "    'Match_Count': 2,\n",
       "    'Match_Indices': [(169, 180), (556, 567)]},\n",
       "   {'Text': 'March 10, 1946',\n",
       "    'Type': 'date of birth',\n",
       "    'Match_Count': 1,\n",
       "    'Match_Indices': [(153, 167)]},\n",
       "   {'Text': 'cerebral palsy',\n",
       "    'Type': 'diagnosis',\n",
       "    'Match_Count': 1,\n",
       "    'Match_Indices': [(129, 143)]}]},\n",
       " {'Entities': [{'Text': '4468773324',\n",
       "    'Type': 'nhs number',\n",
       "    'Match_Count': 1,\n",
       "    'Match_Indices': [(50, 60)]},\n",
       "   {'Text': 'Otitis media',\n",
       "    'Type': 'diagnosis',\n",
       "    'Match_Count': 1,\n",
       "    'Match_Indices': [(101, 113)]}]}]"
      ]
     },
     "execution_count": 17,
     "metadata": {},
     "output_type": "execute_result"
    }
   ],
   "source": [
    "output_extraction = Extraction(llm_input=output_llm, path_output=path_output_extraction, save_output=True).run()\n",
    "output_extraction"
   ]
  },
  {
   "cell_type": "markdown",
   "metadata": {},
   "source": [
    "This runs the extraction class from a pre-saved llm output, and creates an output_extraction locally. In comparison to the run above this will produce slightly different results."
   ]
  },
  {
   "cell_type": "code",
   "execution_count": null,
   "metadata": {},
   "outputs": [],
   "source": [
    "output_extraction = Extraction(llm_path=path_output_llm, path_output=path_output_extraction, save_output=False).run()\n",
    "output_extraction"
   ]
  },
  {
   "cell_type": "markdown",
   "metadata": {},
   "source": [
    "This loads the extraction output at the given path."
   ]
  },
  {
   "cell_type": "code",
   "execution_count": 5,
   "metadata": {},
   "outputs": [
    {
     "data": {
      "text/plain": [
       "[{'Entities': [{'Text': 'Heike Bernier',\n",
       "    'Type': 'person',\n",
       "    'Match_Count': 1,\n",
       "    'Match_Indices': [[29, 42]]},\n",
       "   {'Text': 'NHS Number',\n",
       "    'Type': 'nhs number',\n",
       "    'Match_Count': 1,\n",
       "    'Match_Indices': [[43, 53]]},\n",
       "   {'Text': 'July 15, 2003',\n",
       "    'Type': 'date of birth',\n",
       "    'Match_Count': 1,\n",
       "    'Match_Indices': [[81, 94]]},\n",
       "   {'Text': 'viral sinusitis',\n",
       "    'Type': 'diagnosis',\n",
       "    'Match_Count': 2,\n",
       "    'Match_Indices': [[258, 273], [603, 618]]}]},\n",
       " {'Entities': [{'Text': 'Keven Hammes',\n",
       "    'Type': 'person',\n",
       "    'Match_Count': 1,\n",
       "    'Match_Indices': [[25, 37]]},\n",
       "   {'Text': 'NHS Number',\n",
       "    'Type': 'nhs number',\n",
       "    'Match_Count': 1,\n",
       "    'Match_Indices': [[38, 48]]},\n",
       "   {'Text': 'February 2, 2001',\n",
       "    'Type': 'date of birth',\n",
       "    'Match_Count': 1,\n",
       "    'Match_Indices': [[76, 92]]},\n",
       "   {'Text': 'ADHD',\n",
       "    'Type': 'diagnosis',\n",
       "    'Match_Count': 1,\n",
       "    'Match_Indices': [[203, 207]]}]},\n",
       " {'Entities': [{'Text': 'Mr. Kenton Hermann',\n",
       "    'Type': 'person',\n",
       "    'Match_Count': 1,\n",
       "    'Match_Indices': [[15, 33]]},\n",
       "   {'Text': 'NHS number',\n",
       "    'Type': 'nhs number',\n",
       "    'Match_Count': 1,\n",
       "    'Match_Indices': [[137, 147]]},\n",
       "   {'Text': 'January 6th, 1998',\n",
       "    'Type': 'date of birth',\n",
       "    'Match_Count': 1,\n",
       "    'Match_Indices': [[178, 195]]},\n",
       "   {'Text': 'acute bronchitis',\n",
       "    'Type': 'diagnosis',\n",
       "    'Match_Count': 1,\n",
       "    'Match_Indices': [[218, 234]]}]},\n",
       " {'Entities': [{'Text': 'Darron Farrell',\n",
       "    'Type': 'person',\n",
       "    'Match_Count': 1,\n",
       "    'Match_Indices': [[29, 43]]},\n",
       "   {'Text': '6744989936',\n",
       "    'Type': 'nhs number',\n",
       "    'Match_Count': 1,\n",
       "    'Match_Indices': [[56, 66]]},\n",
       "   {'Text': 'December 23, 1972',\n",
       "    'Type': 'date of birth',\n",
       "    'Match_Count': 1,\n",
       "    'Match_Indices': [[82, 99]]},\n",
       "   {'Text': 'Anemia',\n",
       "    'Type': 'diagnosis',\n",
       "    'Match_Count': 1,\n",
       "    'Match_Indices': [[724, 730]]}]},\n",
       " {'Entities': [{'Text': 'Carlo Kuhn',\n",
       "    'Type': 'person',\n",
       "    'Match_Count': 1,\n",
       "    'Match_Indices': [[29, 39]]},\n",
       "   {'Text': '1949271404',\n",
       "    'Type': 'nhs number',\n",
       "    'Match_Count': 1,\n",
       "    'Match_Indices': [[52, 62]]},\n",
       "   {'Text': 'September 10, 1968',\n",
       "    'Type': 'date of birth',\n",
       "    'Match_Count': 1,\n",
       "    'Match_Indices': [[78, 96]]},\n",
       "   {'Text': 'fibromyalgia',\n",
       "    'Type': 'diagnosis',\n",
       "    'Match_Count': 1,\n",
       "    'Match_Indices': [[560, 572]]},\n",
       "   {'Text': 'degenerative disc disease',\n",
       "    'Type': 'diagnosis',\n",
       "    'Match_Count': 1,\n",
       "    'Match_Indices': [[576, 601]]}]},\n",
       " {'Entities': [{'Text': 'Loree Pouros',\n",
       "    'Type': 'person',\n",
       "    'Match_Count': 1,\n",
       "    'Match_Indices': [[42, 54]]},\n",
       "   {'Text': '4135716814',\n",
       "    'Type': 'nhs number',\n",
       "    'Match_Count': 2,\n",
       "    'Match_Indices': [[30, 40], [287, 297]]},\n",
       "   {'Text': 'January 31st, 1991',\n",
       "    'Type': 'date of birth',\n",
       "    'Match_Count': 1,\n",
       "    'Match_Indices': [[153, 171]]},\n",
       "   {'Text': 'viral sinusitis',\n",
       "    'Type': 'diagnosis',\n",
       "    'Match_Count': 2,\n",
       "    'Match_Indices': [[112, 127], [365, 380]]}]},\n",
       " {'Entities': [{'Text': '5771725080',\n",
       "    'Type': 'nhs number',\n",
       "    'Match_Count': 1,\n",
       "    'Match_Indices': [[58, 68]]},\n",
       "   {'Text': 'Date of Birth',\n",
       "    'Type': 'date of birth',\n",
       "    'Match_Count': 1,\n",
       "    'Match_Indices': [[69, 82]]}]},\n",
       " {'Entities': [{'Text': 'Tommy Murray',\n",
       "    'Type': 'person',\n",
       "    'Match_Count': 2,\n",
       "    'Match_Indices': [[19, 31], [63, 75]]},\n",
       "   {'Text': '8556129943',\n",
       "    'Type': 'nhs number',\n",
       "    'Match_Count': 1,\n",
       "    'Match_Indices': [[121, 131]]},\n",
       "   {'Text': 'December 30, 2009',\n",
       "    'Type': 'date of birth',\n",
       "    'Match_Count': 1,\n",
       "    'Match_Indices': [[233, 250]]},\n",
       "   {'Text': 'acute bronchitis',\n",
       "    'Type': 'diagnosis',\n",
       "    'Match_Count': 1,\n",
       "    'Match_Indices': [[183, 199]]}]},\n",
       " {'Entities': [{'Text': 'Christia Torphy',\n",
       "    'Type': 'person',\n",
       "    'Match_Count': 2,\n",
       "    'Match_Indices': [[48, 63], [84, 99]]},\n",
       "   {'Text': '9217912255',\n",
       "    'Type': 'nhs number',\n",
       "    'Match_Count': 1,\n",
       "    'Match_Indices': [[112, 122]]},\n",
       "   {'Text': 'September 9, 1956',\n",
       "    'Type': 'date of birth',\n",
       "    'Match_Count': 1,\n",
       "    'Match_Indices': [[138, 155]]},\n",
       "   {'Text': 'viral sinusitis',\n",
       "    'Type': 'diagnosis',\n",
       "    'Match_Count': 1,\n",
       "    'Match_Indices': [[925, 940]]}]},\n",
       " {'Entities': [{'Text': 'Vannessa Boyle',\n",
       "    'Type': 'person',\n",
       "    'Match_Count': 1,\n",
       "    'Match_Indices': [[25, 39]]},\n",
       "   {'Text': 'Mrs. Boyle',\n",
       "    'Type': 'person',\n",
       "    'Match_Count': 2,\n",
       "    'Match_Indices': [[107, 117], [449, 459]]},\n",
       "   {'Text': '3523937671',\n",
       "    'Type': 'nhs number',\n",
       "    'Match_Count': 1,\n",
       "    'Match_Indices': [[52, 62]]},\n",
       "   {'Text': 'July 20, 1974',\n",
       "    'Type': 'date of birth',\n",
       "    'Match_Count': 1,\n",
       "    'Match_Indices': [[78, 91]]},\n",
       "   {'Text': 'Sinusitis',\n",
       "    'Type': 'diagnosis',\n",
       "    'Match_Count': 1,\n",
       "    'Match_Indices': [[399, 408]]}]},\n",
       " {'Entities': [{'Text': 'Ms. Jeanelle Stanton',\n",
       "    'Type': 'person',\n",
       "    'Match_Count': 1,\n",
       "    'Match_Indices': [[15, 35]]},\n",
       "   {'Text': '0982637659',\n",
       "    'Type': 'nhs number',\n",
       "    'Match_Count': 1,\n",
       "    'Match_Indices': [[176, 186]]},\n",
       "   {'Text': 'October 22, 1983',\n",
       "    'Type': 'date of birth',\n",
       "    'Match_Count': 1,\n",
       "    'Match_Indices': [[208, 224]]},\n",
       "   {'Text': 'normal pregnancy',\n",
       "    'Type': 'diagnosis',\n",
       "    'Match_Count': 1,\n",
       "    'Match_Indices': [[243, 259]]}]},\n",
       " {'Entities': [{'Text': 'Hassan Sporer',\n",
       "    'Type': 'person',\n",
       "    'Match_Count': 1,\n",
       "    'Match_Indices': [[23, 36]]},\n",
       "   {'Text': 'NHS number 4761868791',\n",
       "    'Type': 'nhs number',\n",
       "    'Match_Count': 1,\n",
       "    'Match_Indices': [[38, 59]]},\n",
       "   {'Text': 'acute viral pharyngitis',\n",
       "    'Type': 'diagnosis',\n",
       "    'Match_Count': 2,\n",
       "    'Match_Indices': [[75, 98], [171, 194]]}]},\n",
       " {'Entities': [{'Text': 'Santa Marquardt',\n",
       "    'Type': 'person',\n",
       "    'Match_Count': 1,\n",
       "    'Match_Indices': [[29, 44]]},\n",
       "   {'Text': '4324676496',\n",
       "    'Type': 'nhs number',\n",
       "    'Match_Count': 1,\n",
       "    'Match_Indices': [[57, 67]]},\n",
       "   {'Text': 'September 4, 1989',\n",
       "    'Type': 'date of birth',\n",
       "    'Match_Count': 1,\n",
       "    'Match_Indices': [[83, 100]]}]},\n",
       " {'Entities': [{'Text': 'NHS Number',\n",
       "    'Type': 'nhs number',\n",
       "    'Match_Count': 1,\n",
       "    'Match_Indices': [[42, 52]]},\n",
       "   {'Text': 'April 7, 1969',\n",
       "    'Type': 'date of birth',\n",
       "    'Match_Count': 1,\n",
       "    'Match_Indices': [[80, 93]]},\n",
       "   {'Text': 'allergic rhinitis',\n",
       "    'Type': 'diagnosis',\n",
       "    'Match_Count': 1,\n",
       "    'Match_Indices': [[154, 171]]}]},\n",
       " {'Entities': [{'Text': 'Mr. Mauricio Williamson',\n",
       "    'Type': 'person',\n",
       "    'Match_Count': 1,\n",
       "    'Match_Indices': [[16, 39]]},\n",
       "   {'Text': 'NHS number',\n",
       "    'Type': 'nhs number',\n",
       "    'Match_Count': 1,\n",
       "    'Match_Indices': [[137, 147]]},\n",
       "   {'Text': 'September 14th, 1956',\n",
       "    'Type': 'date of birth',\n",
       "    'Match_Count': 1,\n",
       "    'Match_Indices': [[181, 201]]},\n",
       "   {'Text': 'viral sinusitis',\n",
       "    'Type': 'diagnosis',\n",
       "    'Match_Count': 2,\n",
       "    'Match_Indices': [[116, 131], [323, 338]]}]},\n",
       " {'Entities': [{'Text': 'Mr. Jude Braun',\n",
       "    'Type': 'person',\n",
       "    'Match_Count': 1,\n",
       "    'Match_Indices': [[15, 29]]},\n",
       "   {'Text': '12-year-old',\n",
       "    'Type': 'nhs number',\n",
       "    'Match_Count': 1,\n",
       "    'Match_Indices': [[33, 44]]},\n",
       "   {'Text': 'male',\n",
       "    'Type': 'nhs number',\n",
       "    'Match_Count': 1,\n",
       "    'Match_Indices': [[45, 49]]},\n",
       "   {'Text': 'October 2nd, 2008',\n",
       "    'Type': 'date of birth',\n",
       "    'Match_Count': 1,\n",
       "    'Match_Indices': [[250, 267]]}]},\n",
       " {'Entities': [{'Text': 'Mr. Tommy Wisoky',\n",
       "    'Type': 'person',\n",
       "    'Match_Count': 1,\n",
       "    'Match_Indices': [[15, 31]]},\n",
       "   {'Text': '9975734537',\n",
       "    'Type': 'nhs number',\n",
       "    'Match_Count': 1,\n",
       "    'Match_Indices': [[217, 227]]},\n",
       "   {'Text': 'October 7th, 2019',\n",
       "    'Type': 'date of birth',\n",
       "    'Match_Count': 1,\n",
       "    'Match_Indices': [[176, 193]]},\n",
       "   {'Text': 'Nan',\n",
       "    'Type': 'diagnosis',\n",
       "    'Match_Count': 1,\n",
       "    'Match_Indices': [[102, 105]]},\n",
       "   {'Text': 'Null',\n",
       "    'Type': 'diagnosis',\n",
       "    'Match_Count': 1,\n",
       "    'Match_Indices': [[107, 111]]}]},\n",
       " {'Entities': [{'Text': 'Dewey Zieme',\n",
       "    'Type': 'person',\n",
       "    'Match_Count': 1,\n",
       "    'Match_Indices': [[18, 29]]},\n",
       "   {'Text': 'NHS number 4118554933',\n",
       "    'Type': 'nhs number',\n",
       "    'Match_Count': 1,\n",
       "    'Match_Indices': [[68, 89]]},\n",
       "   {'Text': 'August 26, 1959',\n",
       "    'Type': 'date of birth',\n",
       "    'Match_Count': 1,\n",
       "    'Match_Indices': [[105, 120]]}]},\n",
       " {'Entities': [{'Text': 'Malvina Anderson',\n",
       "    'Type': 'person',\n",
       "    'Match_Count': 1,\n",
       "    'Match_Indices': [[29, 45]]},\n",
       "   {'Text': '1516947274',\n",
       "    'Type': 'nhs number',\n",
       "    'Match_Count': 1,\n",
       "    'Match_Indices': [[58, 68]]},\n",
       "   {'Text': 'February 19, 1977',\n",
       "    'Type': 'date of birth',\n",
       "    'Match_Count': 1,\n",
       "    'Match_Indices': [[84, 101]]},\n",
       "   {'Text': 'allergic rhinitis',\n",
       "    'Type': 'diagnosis',\n",
       "    'Match_Count': 1,\n",
       "    'Match_Indices': [[149, 166]]},\n",
       "   {'Text': 'seasonal allergies',\n",
       "    'Type': 'diagnosis',\n",
       "    'Match_Count': 1,\n",
       "    'Match_Indices': [[254, 272]]}]},\n",
       " {'Entities': [{'Text': 'Lorene Boyer',\n",
       "    'Type': 'person',\n",
       "    'Match_Count': 1,\n",
       "    'Match_Indices': [[29, 41]]},\n",
       "   {'Text': '9698123407',\n",
       "    'Type': 'nhs number',\n",
       "    'Match_Count': 1,\n",
       "    'Match_Indices': [[54, 64]]},\n",
       "   {'Text': 'February 15, 2013',\n",
       "    'Type': 'date of birth',\n",
       "    'Match_Count': 1,\n",
       "    'Match_Indices': [[80, 97]]},\n",
       "   {'Text': 'otitis media',\n",
       "    'Type': 'diagnosis',\n",
       "    'Match_Count': 1,\n",
       "    'Match_Indices': [[152, 164]]},\n",
       "   {'Text': 'middle ear infections',\n",
       "    'Type': 'diagnosis',\n",
       "    'Match_Count': 1,\n",
       "    'Match_Indices': [[293, 314]]}]},\n",
       " {'Entities': [{'Text': 'Mr. Antoine King',\n",
       "    'Type': 'person',\n",
       "    'Match_Count': 1,\n",
       "    'Match_Indices': [[15, 31]]},\n",
       "   {'Text': '4412091600',\n",
       "    'Type': 'nhs number',\n",
       "    'Match_Count': 1,\n",
       "    'Match_Indices': [[259, 269]]},\n",
       "   {'Text': 'August 7th, 2022',\n",
       "    'Type': 'date of birth',\n",
       "    'Match_Count': 1,\n",
       "    'Match_Indices': [[219, 235]]},\n",
       "   {'Text': 'acute bronchitis',\n",
       "    'Type': 'diagnosis',\n",
       "    'Match_Count': 1,\n",
       "    'Match_Indices': [[99, 115]]},\n",
       "   {'Text': 'respiratory infection',\n",
       "    'Type': 'diagnosis',\n",
       "    'Match_Count': 1,\n",
       "    'Match_Indices': [[358, 379]]}]},\n",
       " {'Entities': [{'Text': 'Tiny Hirthe',\n",
       "    'Type': 'person',\n",
       "    'Match_Count': 1,\n",
       "    'Match_Indices': [[24, 35]]},\n",
       "   {'Text': 'NHS Number',\n",
       "    'Type': 'nhs number',\n",
       "    'Match_Count': 1,\n",
       "    'Match_Indices': [[36, 46]]},\n",
       "   {'Text': 'August 15, 1982',\n",
       "    'Type': 'date of birth',\n",
       "    'Match_Count': 1,\n",
       "    'Match_Indices': [[74, 89]]}]},\n",
       " {'Entities': [{'Text': 'Patient Han Walsh',\n",
       "    'Type': 'person',\n",
       "    'Match_Count': 1,\n",
       "    'Match_Indices': [[18, 35]]},\n",
       "   {'Text': '4133714369',\n",
       "    'Type': 'nhs number',\n",
       "    'Match_Count': 1,\n",
       "    'Match_Indices': [[223, 233]]},\n",
       "   {'Text': 'August 13, 2019',\n",
       "    'Type': 'date of birth',\n",
       "    'Match_Count': 1,\n",
       "    'Match_Indices': [[184, 199]]},\n",
       "   {'Text': 'acute viral pharyngitis',\n",
       "    'Type': 'diagnosis',\n",
       "    'Match_Count': 1,\n",
       "    'Match_Indices': [[252, 275]]}]},\n",
       " {'Entities': [{'Text': 'Salvador Hyatt',\n",
       "    'Type': 'person',\n",
       "    'Match_Count': 1,\n",
       "    'Match_Indices': [[19, 33]]},\n",
       "   {'Text': 'NHS number',\n",
       "    'Type': 'nhs number',\n",
       "    'Match_Count': 1,\n",
       "    'Match_Indices': [[129, 139]]},\n",
       "   {'Text': 'February 6th, 2012',\n",
       "    'Type': 'date of birth',\n",
       "    'Match_Count': 1,\n",
       "    'Match_Indices': [[170, 188]]},\n",
       "   {'Text': 'acute bronchitis',\n",
       "    'Type': 'diagnosis',\n",
       "    'Match_Count': 1,\n",
       "    'Match_Indices': [[211, 227]]}]},\n",
       " {'Entities': [{'Text': 'Loretta King',\n",
       "    'Type': 'person',\n",
       "    'Match_Count': 1,\n",
       "    'Match_Indices': [[15, 27]]},\n",
       "   {'Text': 'NHS number 2162659328',\n",
       "    'Type': 'nhs number',\n",
       "    'Match_Count': 1,\n",
       "    'Match_Indices': [[56, 77]]},\n",
       "   {'Text': 'November 6th, 2003',\n",
       "    'Type': 'date of birth',\n",
       "    'Match_Count': 1,\n",
       "    'Match_Indices': [[364, 382]]},\n",
       "   {'Text': 'atopic dermatitis',\n",
       "    'Type': 'diagnosis',\n",
       "    'Match_Count': 2,\n",
       "    'Match_Indices': [[156, 173], [452, 469]]}]},\n",
       " {'Entities': [{'Text': 'Randy Mayer',\n",
       "    'Type': 'person',\n",
       "    'Match_Count': 1,\n",
       "    'Match_Indices': [[29, 40]]},\n",
       "   {'Text': '2205332465',\n",
       "    'Type': 'nhs number',\n",
       "    'Match_Count': 1,\n",
       "    'Match_Indices': [[53, 63]]},\n",
       "   {'Text': 'July 11, 2021',\n",
       "    'Type': 'date of birth',\n",
       "    'Match_Count': 1,\n",
       "    'Match_Indices': [[79, 92]]},\n",
       "   {'Text': 'acute bronchitis',\n",
       "    'Type': 'diagnosis',\n",
       "    'Match_Count': 1,\n",
       "    'Match_Indices': [[399, 415]]},\n",
       "   {'Text': 'disorder',\n",
       "    'Type': 'diagnosis',\n",
       "    'Match_Count': 2,\n",
       "    'Match_Indices': [[126, 134], [417, 425]]}]},\n",
       " {'Entities': [{'Text': 'Merle Nader',\n",
       "    'Type': 'person',\n",
       "    'Match_Count': 1,\n",
       "    'Match_Indices': [[23, 34]]},\n",
       "   {'Text': '6933580911',\n",
       "    'Type': 'nhs number',\n",
       "    'Match_Count': 1,\n",
       "    'Match_Indices': [[151, 161]]},\n",
       "   {'Text': 'October 7, 1981',\n",
       "    'Type': 'date of birth',\n",
       "    'Match_Count': 1,\n",
       "    'Match_Indices': [[183, 198]]},\n",
       "   {'Text': 'Impacted molars',\n",
       "    'Type': 'diagnosis',\n",
       "    'Match_Count': 1,\n",
       "    'Match_Indices': [[211, 226]]}]},\n",
       " {'Entities': [{'Text': 'Ms. Edie Hoeger',\n",
       "    'Type': 'person',\n",
       "    'Match_Count': 1,\n",
       "    'Match_Indices': [[15, 30]]},\n",
       "   {'Text': '9843565916',\n",
       "    'Type': 'nhs number',\n",
       "    'Match_Count': 1,\n",
       "    'Match_Indices': [[139, 149]]},\n",
       "   {'Text': 'September 14, 1978',\n",
       "    'Type': 'date of birth',\n",
       "    'Match_Count': 1,\n",
       "    'Match_Indices': [[175, 193]]}]},\n",
       " {'Entities': [{'Text': 'Patient Devon Marks',\n",
       "    'Type': 'person',\n",
       "    'Match_Count': 1,\n",
       "    'Match_Indices': [[15, 34]]},\n",
       "   {'Text': 'NHS number',\n",
       "    'Type': 'nhs number',\n",
       "    'Match_Count': 1,\n",
       "    'Match_Indices': [[152, 162]]},\n",
       "   {'Text': '8882949338',\n",
       "    'Type': 'nhs number',\n",
       "    'Match_Count': 1,\n",
       "    'Match_Indices': [[166, 176]]},\n",
       "   {'Text': 'December 1st, 1978',\n",
       "    'Type': 'date of birth',\n",
       "    'Match_Count': 1,\n",
       "    'Match_Indices': [[204, 222]]}]},\n",
       " {'Entities': [{'Text': 'Patient Tobias Koelpin',\n",
       "    'Type': 'person',\n",
       "    'Match_Count': 1,\n",
       "    'Match_Indices': [[18, 40]]},\n",
       "   {'Text': '7175517521',\n",
       "    'Type': 'nhs number',\n",
       "    'Match_Count': 1,\n",
       "    'Match_Indices': [[171, 181]]},\n",
       "   {'Text': 'January 12, 2022',\n",
       "    'Type': 'date of birth',\n",
       "    'Match_Count': 1,\n",
       "    'Match_Indices': [[209, 225]]},\n",
       "   {'Text': 'viral sinusitis',\n",
       "    'Type': 'diagnosis',\n",
       "    'Match_Count': 1,\n",
       "    'Match_Indices': [[253, 268]]}]},\n",
       " {'Entities': [{'Text': 'NHS Number',\n",
       "    'Type': 'nhs number',\n",
       "    'Match_Count': 1,\n",
       "    'Match_Indices': [[88, 98]]},\n",
       "   {'Text': 'February 7, 1957',\n",
       "    'Type': 'date of birth',\n",
       "    'Match_Count': 1,\n",
       "    'Match_Indices': [[126, 142]]},\n",
       "   {'Text': 'Acute viral pharyngitis',\n",
       "    'Type': 'diagnosis',\n",
       "    'Match_Count': 2,\n",
       "    'Match_Indices': [[166, 189], [545, 568]]}]},\n",
       " {'Entities': [{'Text': 'Eusebia Bode',\n",
       "    'Type': 'person',\n",
       "    'Match_Count': 1,\n",
       "    'Match_Indices': [[25, 37]]},\n",
       "   {'Text': 'NHS Number',\n",
       "    'Type': 'nhs number',\n",
       "    'Match_Count': 1,\n",
       "    'Match_Indices': [[38, 48]]},\n",
       "   {'Text': 'November 20, 1978',\n",
       "    'Type': 'date of birth',\n",
       "    'Match_Count': 1,\n",
       "    'Match_Indices': [[76, 93]]},\n",
       "   {'Text': 'Normal pregnancy',\n",
       "    'Type': 'diagnosis',\n",
       "    'Match_Count': 1,\n",
       "    'Match_Indices': [[114, 130]]}]},\n",
       " {'Entities': [{'Text': 'Arlen Connelly',\n",
       "    'Type': 'person',\n",
       "    'Match_Count': 1,\n",
       "    'Match_Indices': [[29, 43]]},\n",
       "   {'Text': '4565941791',\n",
       "    'Type': 'nhs number',\n",
       "    'Match_Count': 1,\n",
       "    'Match_Indices': [[56, 66]]},\n",
       "   {'Text': 'February 7, 2002',\n",
       "    'Type': 'date of birth',\n",
       "    'Match_Count': 1,\n",
       "    'Match_Indices': [[82, 98]]},\n",
       "   {'Text': 'Childhood asthma',\n",
       "    'Type': 'diagnosis',\n",
       "    'Match_Count': 1,\n",
       "    'Match_Indices': [[111, 127]]}]},\n",
       " {'Entities': [{'Text': 'Beau Gleason',\n",
       "    'Type': 'person',\n",
       "    'Match_Count': 1,\n",
       "    'Match_Indices': [[29, 41]]},\n",
       "   {'Text': '0449821668',\n",
       "    'Type': 'nhs number',\n",
       "    'Match_Count': 1,\n",
       "    'Match_Indices': [[54, 64]]},\n",
       "   {'Text': 'October 2, 1955',\n",
       "    'Type': 'date of birth',\n",
       "    'Match_Count': 1,\n",
       "    'Match_Indices': [[80, 95]]},\n",
       "   {'Text': 'bacterial sinusitis',\n",
       "    'Type': 'diagnosis',\n",
       "    'Match_Count': 1,\n",
       "    'Match_Indices': [[523, 542]]}]},\n",
       " {'Entities': [{'Text': 'Asa Kunde',\n",
       "    'Type': 'person',\n",
       "    'Match_Count': 1,\n",
       "    'Match_Indices': [[25, 34]]},\n",
       "   {'Text': '7916193256',\n",
       "    'Type': 'nhs number',\n",
       "    'Match_Count': 1,\n",
       "    'Match_Indices': [[47, 57]]},\n",
       "   {'Text': 'May 10, 2022',\n",
       "    'Type': 'date of birth',\n",
       "    'Match_Count': 1,\n",
       "    'Match_Indices': [[73, 85]]}]},\n",
       " {'Entities': [{'Text': 'Toby Kuhn',\n",
       "    'Type': 'person',\n",
       "    'Match_Count': 1,\n",
       "    'Match_Indices': [[29, 38]]},\n",
       "   {'Text': '3461890316',\n",
       "    'Type': 'nhs number',\n",
       "    'Match_Count': 1,\n",
       "    'Match_Indices': [[51, 61]]},\n",
       "   {'Text': 'September 18, 2006',\n",
       "    'Type': 'date of birth',\n",
       "    'Match_Count': 1,\n",
       "    'Match_Indices': [[77, 95]]},\n",
       "   {'Text': 'Acute viral pharyngitis',\n",
       "    'Type': 'diagnosis',\n",
       "    'Match_Count': 1,\n",
       "    'Match_Indices': [[282, 305]]}]},\n",
       " {'Entities': [{'Text': 'Asa Bernier',\n",
       "    'Type': 'person',\n",
       "    'Match_Count': 1,\n",
       "    'Match_Indices': [[23, 34]]},\n",
       "   {'Text': 'NHS number 6450937874',\n",
       "    'Type': 'nhs number',\n",
       "    'Match_Count': 1,\n",
       "    'Match_Indices': [[36, 57]]},\n",
       "   {'Text': 'March 28, 1986',\n",
       "    'Type': 'date of birth',\n",
       "    'Match_Count': 1,\n",
       "    'Match_Indices': [[135, 149]]},\n",
       "   {'Text': 'viral sinusitis',\n",
       "    'Type': 'diagnosis',\n",
       "    'Match_Count': 1,\n",
       "    'Match_Indices': [[94, 109]]}]},\n",
       " {'Entities': [{'Text': 'Deandrea Beatty',\n",
       "    'Type': 'person',\n",
       "    'Match_Count': 1,\n",
       "    'Match_Indices': [[29, 44]]},\n",
       "   {'Text': '2010103262',\n",
       "    'Type': 'nhs number',\n",
       "    'Match_Count': 1,\n",
       "    'Match_Indices': [[57, 67]]},\n",
       "   {'Text': 'May 4, 1965',\n",
       "    'Type': 'date of birth',\n",
       "    'Match_Count': 1,\n",
       "    'Match_Indices': [[83, 94]]}]},\n",
       " {'Entities': [{'Text': 'Dion Quitzon',\n",
       "    'Type': 'person',\n",
       "    'Match_Count': 1,\n",
       "    'Match_Indices': [[19, 31]]},\n",
       "   {'Text': 'NHS number',\n",
       "    'Type': 'nhs number',\n",
       "    'Match_Count': 1,\n",
       "    'Match_Indices': [[189, 199]]},\n",
       "   {'Text': '11th September 1962',\n",
       "    'Type': 'date of birth',\n",
       "    'Match_Count': 1,\n",
       "    'Match_Indices': [[233, 252]]},\n",
       "   {'Text': 'Otitis media',\n",
       "    'Type': 'diagnosis',\n",
       "    'Match_Count': 1,\n",
       "    'Match_Indices': [[265, 277]]}]},\n",
       " {'Entities': [{'Text': 'Kathrin Bechtelar',\n",
       "    'Type': 'person',\n",
       "    'Match_Count': 1,\n",
       "    'Match_Indices': [[25, 42]]},\n",
       "   {'Text': 'NHS Number',\n",
       "    'Type': 'nhs number',\n",
       "    'Match_Count': 1,\n",
       "    'Match_Indices': [[43, 53]]},\n",
       "   {'Text': 'October 24, 1948',\n",
       "    'Type': 'date of birth',\n",
       "    'Match_Count': 1,\n",
       "    'Match_Indices': [[81, 97]]},\n",
       "   {'Text': 'Normal pregnancy',\n",
       "    'Type': 'diagnosis',\n",
       "    'Match_Count': 1,\n",
       "    'Match_Indices': [[118, 134]]}]},\n",
       " {'Entities': [{'Text': '7758619304',\n",
       "    'Type': 'nhs number',\n",
       "    'Match_Count': 1,\n",
       "    'Match_Indices': [[49, 59]]},\n",
       "   {'Text': 'November 18, 1991',\n",
       "    'Type': 'date of birth',\n",
       "    'Match_Count': 1,\n",
       "    'Match_Indices': [[75, 92]]},\n",
       "   {'Text': 'Viral sinusitis',\n",
       "    'Type': 'diagnosis',\n",
       "    'Match_Count': 1,\n",
       "    'Match_Indices': [[531, 546]]},\n",
       "   {'Text': 'allergic rhinitis',\n",
       "    'Type': 'diagnosis',\n",
       "    'Match_Count': 1,\n",
       "    'Match_Indices': [[650, 667]]}]},\n",
       " {'Entities': [{'Text': 'Deandre Thiel',\n",
       "    'Type': 'person',\n",
       "    'Match_Count': 1,\n",
       "    'Match_Indices': [[18, 31]]},\n",
       "   {'Text': 'perennial allergic rhinitis',\n",
       "    'Type': 'diagnosis',\n",
       "    'Match_Count': 1,\n",
       "    'Match_Indices': [[136, 163]]},\n",
       "   {'Text': 'hay fever',\n",
       "    'Type': 'diagnosis',\n",
       "    'Match_Count': 1,\n",
       "    'Match_Indices': [[200, 209]]}]},\n",
       " {'Entities': [{'Text': 'Apolonia Weber',\n",
       "    'Type': 'person',\n",
       "    'Match_Count': 1,\n",
       "    'Match_Indices': [[23, 37]]},\n",
       "   {'Text': 'NHS number',\n",
       "    'Type': 'nhs number',\n",
       "    'Match_Count': 1,\n",
       "    'Match_Indices': [[127, 137]]},\n",
       "   {'Text': 'May 23rd, 2007',\n",
       "    'Type': 'date of birth',\n",
       "    'Match_Count': 1,\n",
       "    'Match_Indices': [[173, 187]]},\n",
       "   {'Text': 'viral sinusitis',\n",
       "    'Type': 'diagnosis',\n",
       "    'Match_Count': 1,\n",
       "    'Match_Indices': [[225, 240]]}]},\n",
       " {'Entities': [{'Text': 'Mario Kuhn',\n",
       "    'Type': 'person',\n",
       "    'Match_Count': 1,\n",
       "    'Match_Indices': [[25, 35]]},\n",
       "   {'Text': 'NHS Number',\n",
       "    'Type': 'nhs number',\n",
       "    'Match_Count': 1,\n",
       "    'Match_Indices': [[36, 46]]},\n",
       "   {'Text': 'July 27, 1963',\n",
       "    'Type': 'date of birth',\n",
       "    'Match_Count': 1,\n",
       "    'Match_Indices': [[74, 87]]},\n",
       "   {'Text': 'Impacted molars',\n",
       "    'Type': 'diagnosis',\n",
       "    'Match_Count': 1,\n",
       "    'Match_Indices': [[355, 370]]}]},\n",
       " {'Entities': [{'Text': 'NHS Number',\n",
       "    'Type': 'nhs number',\n",
       "    'Match_Count': 1,\n",
       "    'Match_Indices': [[46, 56]]},\n",
       "   {'Text': 'HIV',\n",
       "    'Type': 'diagnosis',\n",
       "    'Match_Count': 2,\n",
       "    'Match_Indices': [[270, 273], [713, 716]]},\n",
       "   {'Text': 'opportunistic infections',\n",
       "    'Type': 'diagnosis',\n",
       "    'Match_Count': 1,\n",
       "    'Match_Indices': [[770, 794]]},\n",
       "   {'Text': 'comorbidities',\n",
       "    'Type': 'diagnosis',\n",
       "    'Match_Count': 1,\n",
       "    'Match_Indices': [[805, 818]]}]},\n",
       " {'Entities': [{'Text': 'Giselle Kris',\n",
       "    'Type': 'person',\n",
       "    'Match_Count': 1,\n",
       "    'Match_Indices': [[18, 30]]},\n",
       "   {'Text': '8356125952',\n",
       "    'Type': 'nhs number',\n",
       "    'Match_Count': 1,\n",
       "    'Match_Indices': [[132, 142]]},\n",
       "   {'Text': 'October 18, 1968',\n",
       "    'Type': 'date of birth',\n",
       "    'Match_Count': 1,\n",
       "    'Match_Indices': [[96, 112]]},\n",
       "   {'Text': 'childhood asthma',\n",
       "    'Type': 'diagnosis',\n",
       "    'Match_Count': 1,\n",
       "    'Match_Indices': [[70, 86]]}]},\n",
       " {'Entities': [{'Text': 'Leilani Gusikowski',\n",
       "    'Type': 'person',\n",
       "    'Match_Count': 2,\n",
       "    'Match_Indices': [[37, 55], [72, 90]]},\n",
       "   {'Text': '2487360682',\n",
       "    'Type': 'nhs number',\n",
       "    'Match_Count': 1,\n",
       "    'Match_Indices': [[103, 113]]},\n",
       "   {'Text': 'March 11, 1951',\n",
       "    'Type': 'date of birth',\n",
       "    'Match_Count': 1,\n",
       "    'Match_Indices': [[129, 143]]},\n",
       "   {'Text': 'viral',\n",
       "    'Type': 'diagnosis',\n",
       "    'Match_Count': 1,\n",
       "    'Match_Indices': [[459, 464]]}]},\n",
       " {'Entities': [{'Text': 'Russ Padberg',\n",
       "    'Type': 'person',\n",
       "    'Match_Count': 2,\n",
       "    'Match_Indices': [[29, 41], [134, 146]]},\n",
       "   {'Text': 'NHS Number',\n",
       "    'Type': 'nhs number',\n",
       "    'Match_Count': 1,\n",
       "    'Match_Indices': [[42, 52]]},\n",
       "   {'Text': 'September 23, 1966',\n",
       "    'Type': 'date of birth',\n",
       "    'Match_Count': 1,\n",
       "    'Match_Indices': [[80, 98]]},\n",
       "   {'Text': 'Hypertension',\n",
       "    'Type': 'diagnosis',\n",
       "    'Match_Count': 1,\n",
       "    'Match_Indices': [[120, 132]]}]},\n",
       " {'Entities': [{'Text': 'Shantell Stracke',\n",
       "    'Type': 'person',\n",
       "    'Match_Count': 2,\n",
       "    'Match_Indices': [[26, 42], [68, 84]]},\n",
       "   {'Text': 'Ms. Stracke',\n",
       "    'Type': 'person',\n",
       "    'Match_Count': 2,\n",
       "    'Match_Indices': [[169, 180], [556, 567]]},\n",
       "   {'Text': 'March 10, 1946',\n",
       "    'Type': 'date of birth',\n",
       "    'Match_Count': 1,\n",
       "    'Match_Indices': [[153, 167]]},\n",
       "   {'Text': 'cerebral palsy',\n",
       "    'Type': 'diagnosis',\n",
       "    'Match_Count': 1,\n",
       "    'Match_Indices': [[129, 143]]}]},\n",
       " {'Entities': [{'Text': '4468773324',\n",
       "    'Type': 'nhs number',\n",
       "    'Match_Count': 1,\n",
       "    'Match_Indices': [[50, 60]]},\n",
       "   {'Text': 'Otitis media',\n",
       "    'Type': 'diagnosis',\n",
       "    'Match_Count': 1,\n",
       "    'Match_Indices': [[101, 113]]}]}]"
      ]
     },
     "execution_count": 5,
     "metadata": {},
     "output_type": "execute_result"
    }
   ],
   "source": [
    "output_extraction=  Extraction(path_output=path_output_extraction).load()\n",
    "output_extraction"
   ]
  },
  {
   "cell_type": "markdown",
   "metadata": {},
   "source": [
    "## 4. StandardiseExtraction: Normalising Entities Extracted for Scoring"
   ]
  },
  {
   "cell_type": "markdown",
   "metadata": {},
   "source": [
    "This takes in the above List of Dictionary entities and begins to normalise the responses into a dataframe format.\n",
    "\n",
    "The standardisation process is broken down into many parts:\n",
    "1. Entities are extracted from the object created from **Extraction**, and a set of functions can be applied to clean them during this process.\n",
    "2. This creates a list of cleaned entities. Multiple entities can be extracted from the same person for a given entity type, for example diagnosis. Currently the codebase only takes the first entity given.\n",
    "3. Next the outputs are normalised i.e. Dates can be written in multiple formats but have the same meaning.\n",
    "4. Lastly the data is encoded and formatted as a numpy array ready for PyCorrectMatch\n",
    "\n",
    "In the src/config.py file:\n",
    "\n",
    "extra_preprocess_functions_per_entity defines how entities are cleaned while extracted from the extraction_output.\n",
    "\n",
    "```\n",
    "extra_preprocess_functions_per_entity = {\"person\": [clean_name.remove_titles]}\n",
    "```\n",
    "\n",
    "standardise_functions_per_entity defines how entities are extracted, and defines any normalisation process you may want on a column of entities.\n",
    "```\n",
    "standardise_functions_per_entity = {\n",
    "    \"person\": [extract_first_entity_from_list],\n",
    "    \"nhs number\": [extract_first_entity_from_list],\n",
    "    \"date of birth\": [\n",
    "        extract_first_entity_from_list,\n",
    "        normalise_columns.normalise_date_column,\n",
    "    ],\n",
    "    \"diagnosis\": [extract_first_entity_from_list],\n",
    "}\n",
    "```\n",
    "\n",
    "This uses the output_extraction value created by the **Extraction** class and saves the outputs of the normalisation process as a .csv to the given path."
   ]
  },
  {
   "cell_type": "code",
   "execution_count": null,
   "metadata": {},
   "outputs": [],
   "source": [
    "output_standards = StandardiseExtraction(extraction_input=output_extraction, path_output=path_output_standardisation, save_output=True).run()\n",
    "output_standards"
   ]
  },
  {
   "cell_type": "markdown",
   "metadata": {},
   "source": [
    "This loads an extraction input from the extraction_path provided, and creates the output_standards."
   ]
  },
  {
   "cell_type": "code",
   "execution_count": null,
   "metadata": {},
   "outputs": [],
   "source": [
    "output_standards = StandardiseExtraction(extraction_path=path_output_extraction, path_output=path_output_standardisation, save_output=False).run()\n",
    "output_standards"
   ]
  },
  {
   "cell_type": "markdown",
   "metadata": {},
   "source": [
    "This loads a pre-saved output_standards from the given path provided."
   ]
  },
  {
   "cell_type": "code",
   "execution_count": 6,
   "metadata": {},
   "outputs": [
    {
     "data": {
      "text/html": [
       "<div>\n",
       "<style scoped>\n",
       "    .dataframe tbody tr th:only-of-type {\n",
       "        vertical-align: middle;\n",
       "    }\n",
       "\n",
       "    .dataframe tbody tr th {\n",
       "        vertical-align: top;\n",
       "    }\n",
       "\n",
       "    .dataframe thead th {\n",
       "        text-align: right;\n",
       "    }\n",
       "</style>\n",
       "<table border=\"1\" class=\"dataframe\">\n",
       "  <thead>\n",
       "    <tr style=\"text-align: right;\">\n",
       "      <th></th>\n",
       "      <th>person</th>\n",
       "      <th>nhs number</th>\n",
       "      <th>date of birth</th>\n",
       "      <th>diagnosis</th>\n",
       "    </tr>\n",
       "  </thead>\n",
       "  <tbody>\n",
       "    <tr>\n",
       "      <th>0</th>\n",
       "      <td>21</td>\n",
       "      <td>22</td>\n",
       "      <td>0</td>\n",
       "      <td>0</td>\n",
       "    </tr>\n",
       "    <tr>\n",
       "      <th>1</th>\n",
       "      <td>27</td>\n",
       "      <td>22</td>\n",
       "      <td>0</td>\n",
       "      <td>1</td>\n",
       "    </tr>\n",
       "    <tr>\n",
       "      <th>2</th>\n",
       "      <td>26</td>\n",
       "      <td>23</td>\n",
       "      <td>29</td>\n",
       "      <td>12</td>\n",
       "    </tr>\n",
       "    <tr>\n",
       "      <th>3</th>\n",
       "      <td>11</td>\n",
       "      <td>22</td>\n",
       "      <td>14</td>\n",
       "      <td>3</td>\n",
       "    </tr>\n",
       "    <tr>\n",
       "      <th>4</th>\n",
       "      <td>9</td>\n",
       "      <td>3</td>\n",
       "      <td>11</td>\n",
       "      <td>19</td>\n",
       "    </tr>\n",
       "    <tr>\n",
       "      <th>5</th>\n",
       "      <td>29</td>\n",
       "      <td>23</td>\n",
       "      <td>27</td>\n",
       "      <td>0</td>\n",
       "    </tr>\n",
       "    <tr>\n",
       "      <th>6</th>\n",
       "      <td>36</td>\n",
       "      <td>22</td>\n",
       "      <td>28</td>\n",
       "      <td>0</td>\n",
       "    </tr>\n",
       "    <tr>\n",
       "      <th>7</th>\n",
       "      <td>44</td>\n",
       "      <td>28</td>\n",
       "      <td>33</td>\n",
       "      <td>12</td>\n",
       "    </tr>\n",
       "    <tr>\n",
       "      <th>8</th>\n",
       "      <td>10</td>\n",
       "      <td>18</td>\n",
       "      <td>5</td>\n",
       "      <td>24</td>\n",
       "    </tr>\n",
       "    <tr>\n",
       "      <th>9</th>\n",
       "      <td>47</td>\n",
       "      <td>22</td>\n",
       "      <td>15</td>\n",
       "      <td>10</td>\n",
       "    </tr>\n",
       "    <tr>\n",
       "      <th>10</th>\n",
       "      <td>22</td>\n",
       "      <td>0</td>\n",
       "      <td>24</td>\n",
       "      <td>20</td>\n",
       "    </tr>\n",
       "    <tr>\n",
       "      <th>11</th>\n",
       "      <td>20</td>\n",
       "      <td>26</td>\n",
       "      <td>20</td>\n",
       "      <td>13</td>\n",
       "    </tr>\n",
       "    <tr>\n",
       "      <th>12</th>\n",
       "      <td>40</td>\n",
       "      <td>22</td>\n",
       "      <td>26</td>\n",
       "      <td>0</td>\n",
       "    </tr>\n",
       "    <tr>\n",
       "      <th>13</th>\n",
       "      <td>2</td>\n",
       "      <td>22</td>\n",
       "      <td>13</td>\n",
       "      <td>0</td>\n",
       "    </tr>\n",
       "    <tr>\n",
       "      <th>14</th>\n",
       "      <td>34</td>\n",
       "      <td>23</td>\n",
       "      <td>6</td>\n",
       "      <td>24</td>\n",
       "    </tr>\n",
       "    <tr>\n",
       "      <th>15</th>\n",
       "      <td>23</td>\n",
       "      <td>0</td>\n",
       "      <td>32</td>\n",
       "      <td>24</td>\n",
       "    </tr>\n",
       "    <tr>\n",
       "      <th>16</th>\n",
       "      <td>45</td>\n",
       "      <td>21</td>\n",
       "      <td>37</td>\n",
       "      <td>7</td>\n",
       "    </tr>\n",
       "    <tr>\n",
       "      <th>17</th>\n",
       "      <td>15</td>\n",
       "      <td>25</td>\n",
       "      <td>8</td>\n",
       "      <td>0</td>\n",
       "    </tr>\n",
       "    <tr>\n",
       "      <th>18</th>\n",
       "      <td>32</td>\n",
       "      <td>2</td>\n",
       "      <td>16</td>\n",
       "      <td>0</td>\n",
       "    </tr>\n",
       "    <tr>\n",
       "      <th>19</th>\n",
       "      <td>30</td>\n",
       "      <td>19</td>\n",
       "      <td>35</td>\n",
       "      <td>21</td>\n",
       "    </tr>\n",
       "    <tr>\n",
       "      <th>20</th>\n",
       "      <td>3</td>\n",
       "      <td>9</td>\n",
       "      <td>40</td>\n",
       "      <td>12</td>\n",
       "    </tr>\n",
       "    <tr>\n",
       "      <th>21</th>\n",
       "      <td>42</td>\n",
       "      <td>22</td>\n",
       "      <td>22</td>\n",
       "      <td>0</td>\n",
       "    </tr>\n",
       "    <tr>\n",
       "      <th>22</th>\n",
       "      <td>0</td>\n",
       "      <td>8</td>\n",
       "      <td>36</td>\n",
       "      <td>13</td>\n",
       "    </tr>\n",
       "    <tr>\n",
       "      <th>23</th>\n",
       "      <td>39</td>\n",
       "      <td>23</td>\n",
       "      <td>34</td>\n",
       "      <td>12</td>\n",
       "    </tr>\n",
       "    <tr>\n",
       "      <th>24</th>\n",
       "      <td>31</td>\n",
       "      <td>24</td>\n",
       "      <td>31</td>\n",
       "      <td>14</td>\n",
       "    </tr>\n",
       "    <tr>\n",
       "      <th>25</th>\n",
       "      <td>37</td>\n",
       "      <td>5</td>\n",
       "      <td>0</td>\n",
       "      <td>12</td>\n",
       "    </tr>\n",
       "    <tr>\n",
       "      <th>26</th>\n",
       "      <td>35</td>\n",
       "      <td>23</td>\n",
       "      <td>21</td>\n",
       "      <td>6</td>\n",
       "    </tr>\n",
       "    <tr>\n",
       "      <th>27</th>\n",
       "      <td>17</td>\n",
       "      <td>20</td>\n",
       "      <td>17</td>\n",
       "      <td>0</td>\n",
       "    </tr>\n",
       "    <tr>\n",
       "      <th>28</th>\n",
       "      <td>14</td>\n",
       "      <td>23</td>\n",
       "      <td>19</td>\n",
       "      <td>0</td>\n",
       "    </tr>\n",
       "    <tr>\n",
       "      <th>29</th>\n",
       "      <td>1</td>\n",
       "      <td>23</td>\n",
       "      <td>38</td>\n",
       "      <td>24</td>\n",
       "    </tr>\n",
       "    <tr>\n",
       "      <th>30</th>\n",
       "      <td>2</td>\n",
       "      <td>14</td>\n",
       "      <td>7</td>\n",
       "      <td>2</td>\n",
       "    </tr>\n",
       "    <tr>\n",
       "      <th>31</th>\n",
       "      <td>18</td>\n",
       "      <td>22</td>\n",
       "      <td>18</td>\n",
       "      <td>8</td>\n",
       "    </tr>\n",
       "    <tr>\n",
       "      <th>32</th>\n",
       "      <td>5</td>\n",
       "      <td>11</td>\n",
       "      <td>30</td>\n",
       "      <td>4</td>\n",
       "    </tr>\n",
       "    <tr>\n",
       "      <th>33</th>\n",
       "      <td>2</td>\n",
       "      <td>1</td>\n",
       "      <td>4</td>\n",
       "      <td>15</td>\n",
       "    </tr>\n",
       "    <tr>\n",
       "      <th>34</th>\n",
       "      <td>7</td>\n",
       "      <td>22</td>\n",
       "      <td>39</td>\n",
       "      <td>23</td>\n",
       "    </tr>\n",
       "    <tr>\n",
       "      <th>35</th>\n",
       "      <td>43</td>\n",
       "      <td>7</td>\n",
       "      <td>0</td>\n",
       "      <td>2</td>\n",
       "    </tr>\n",
       "    <tr>\n",
       "      <th>36</th>\n",
       "      <td>6</td>\n",
       "      <td>27</td>\n",
       "      <td>25</td>\n",
       "      <td>24</td>\n",
       "    </tr>\n",
       "    <tr>\n",
       "      <th>37</th>\n",
       "      <td>13</td>\n",
       "      <td>4</td>\n",
       "      <td>0</td>\n",
       "      <td>18</td>\n",
       "    </tr>\n",
       "    <tr>\n",
       "      <th>38</th>\n",
       "      <td>16</td>\n",
       "      <td>23</td>\n",
       "      <td>9</td>\n",
       "      <td>9</td>\n",
       "    </tr>\n",
       "    <tr>\n",
       "      <th>39</th>\n",
       "      <td>25</td>\n",
       "      <td>22</td>\n",
       "      <td>2</td>\n",
       "      <td>8</td>\n",
       "    </tr>\n",
       "    <tr>\n",
       "      <th>40</th>\n",
       "      <td>46</td>\n",
       "      <td>22</td>\n",
       "      <td>0</td>\n",
       "      <td>11</td>\n",
       "    </tr>\n",
       "    <tr>\n",
       "      <th>41</th>\n",
       "      <td>12</td>\n",
       "      <td>0</td>\n",
       "      <td>0</td>\n",
       "      <td>22</td>\n",
       "    </tr>\n",
       "    <tr>\n",
       "      <th>42</th>\n",
       "      <td>4</td>\n",
       "      <td>15</td>\n",
       "      <td>0</td>\n",
       "      <td>0</td>\n",
       "    </tr>\n",
       "    <tr>\n",
       "      <th>43</th>\n",
       "      <td>33</td>\n",
       "      <td>13</td>\n",
       "      <td>0</td>\n",
       "      <td>6</td>\n",
       "    </tr>\n",
       "    <tr>\n",
       "      <th>44</th>\n",
       "      <td>24</td>\n",
       "      <td>17</td>\n",
       "      <td>23</td>\n",
       "      <td>0</td>\n",
       "    </tr>\n",
       "    <tr>\n",
       "      <th>45</th>\n",
       "      <td>19</td>\n",
       "      <td>16</td>\n",
       "      <td>12</td>\n",
       "      <td>17</td>\n",
       "    </tr>\n",
       "    <tr>\n",
       "      <th>46</th>\n",
       "      <td>28</td>\n",
       "      <td>6</td>\n",
       "      <td>3</td>\n",
       "      <td>10</td>\n",
       "    </tr>\n",
       "    <tr>\n",
       "      <th>47</th>\n",
       "      <td>38</td>\n",
       "      <td>12</td>\n",
       "      <td>10</td>\n",
       "      <td>5</td>\n",
       "    </tr>\n",
       "    <tr>\n",
       "      <th>48</th>\n",
       "      <td>41</td>\n",
       "      <td>29</td>\n",
       "      <td>0</td>\n",
       "      <td>16</td>\n",
       "    </tr>\n",
       "    <tr>\n",
       "      <th>49</th>\n",
       "      <td>8</td>\n",
       "      <td>10</td>\n",
       "      <td>1</td>\n",
       "      <td>9</td>\n",
       "    </tr>\n",
       "  </tbody>\n",
       "</table>\n",
       "</div>"
      ],
      "text/plain": [
       "    person  nhs number  date of birth  diagnosis\n",
       "0       21          22              0          0\n",
       "1       27          22              0          1\n",
       "2       26          23             29         12\n",
       "3       11          22             14          3\n",
       "4        9           3             11         19\n",
       "5       29          23             27          0\n",
       "6       36          22             28          0\n",
       "7       44          28             33         12\n",
       "8       10          18              5         24\n",
       "9       47          22             15         10\n",
       "10      22           0             24         20\n",
       "11      20          26             20         13\n",
       "12      40          22             26          0\n",
       "13       2          22             13          0\n",
       "14      34          23              6         24\n",
       "15      23           0             32         24\n",
       "16      45          21             37          7\n",
       "17      15          25              8          0\n",
       "18      32           2             16          0\n",
       "19      30          19             35         21\n",
       "20       3           9             40         12\n",
       "21      42          22             22          0\n",
       "22       0           8             36         13\n",
       "23      39          23             34         12\n",
       "24      31          24             31         14\n",
       "25      37           5              0         12\n",
       "26      35          23             21          6\n",
       "27      17          20             17          0\n",
       "28      14          23             19          0\n",
       "29       1          23             38         24\n",
       "30       2          14              7          2\n",
       "31      18          22             18          8\n",
       "32       5          11             30          4\n",
       "33       2           1              4         15\n",
       "34       7          22             39         23\n",
       "35      43           7              0          2\n",
       "36       6          27             25         24\n",
       "37      13           4              0         18\n",
       "38      16          23              9          9\n",
       "39      25          22              2          8\n",
       "40      46          22              0         11\n",
       "41      12           0              0         22\n",
       "42       4          15              0          0\n",
       "43      33          13              0          6\n",
       "44      24          17             23          0\n",
       "45      19          16             12         17\n",
       "46      28           6              3         10\n",
       "47      38          12             10          5\n",
       "48      41          29              0         16\n",
       "49       8          10              1          9"
      ]
     },
     "execution_count": 6,
     "metadata": {},
     "output_type": "execute_result"
    }
   ],
   "source": [
    "output_standards = StandardiseExtraction(path_output=path_output_standardisation).load()\n",
    "output_standards"
   ]
  },
  {
   "cell_type": "markdown",
   "metadata": {},
   "source": [
    "## 5. PrivacyRiskScorer: This scores the uniqueness of standardised entity values extracted."
   ]
  },
  {
   "cell_type": "code",
   "execution_count": 7,
   "metadata": {},
   "outputs": [
    {
     "name": "stderr",
     "output_type": "stream",
     "text": [
      "[ Info: Julia version info\n"
     ]
    },
    {
     "name": "stdout",
     "output_type": "stream",
     "text": [
      "Julia Version 1.8.5\n",
      "Commit 17cfb8e65ea (2023-01-08 06:45 UTC)\n",
      "Platform Info:\n",
      "  OS: macOS (arm64-apple-darwin21.5.0)\n",
      "  uname: Darwin 23.1.0 Darwin Kernel Version 23.1.0: Mon Oct  9 21:28:12 PDT 2023; root:xnu-10002.41.9~6/RELEASE_ARM64_T8103 arm64 arm\n",
      "  CPU: Apple M1: \n",
      "              speed         user         nice          sys         idle          irq\n",
      "       #1  2400 MHz    3750314 s          0 s    2502271 s   22883209 s          0 s\n",
      "       #2  2400 MHz    3510658 s          0 s    2406702 s   23417194 s          0 s\n",
      "       #3  2400 MHz    3043071 s          0 s    2027096 s   24382094 s          0 s\n",
      "       #4  2400 MHz    2694402 s          0 s    1726478 s   25119570 s          0 s\n",
      "       #5  2400 MHz    3294876 s          0 s    1134973 s   25199808 s          0 s\n",
      "       #6  2400 MHz    2793528 s          0 s     743446 s   26157899 s          0 s\n",
      "       #7  2400 MHz    1981487 s          0 s     407786 s   27450344 s          0 s\n",
      "       #8  2400 MHz    1393268 s          0 s     311277 s   28155932 s          0 s\n",
      "  Memory: 16.0 GB (70.171875 MB free)\n",
      "  Uptime: 1.0194141e7 sec\n",
      "  Load Avg:  4.36279296875  3.9873046875  3.69970703125\n",
      "  WORD_SIZE: 64\n",
      "  LIBM: libopenlibm\n",
      "  LLVM: libLLVM-13.0.1 (ORCJIT, apple-m1)\n",
      "  Threads: 1 on 4 virtual cores\n",
      "Environment:\n",
      "  HOME = /Users/scarlettkynoch\n",
      "  HOMEBREW_CELLAR = /opt/homebrew/Cellar\n",
      "  HOMEBREW_PREFIX = /opt/homebrew\n",
      "  HOMEBREW_REPOSITORY = /opt/homebrew\n",
      "  INFOPATH = /opt/homebrew/share/info:\n",
      "  MANPATH = /opt/homebrew/share/man::\n",
      "  PATH = /Users/scarlettkynoch/Documents/Projects/privfp-experiments/.venv/bin:/Users/scarlettkynoch/.juliaup/bin:/Users/scarlettkynoch/julia-1.8.5/bin:/Users/scarlettkynoch/miniconda3/bin:/Users/scarlettkynoch/miniconda3/condabin:/opt/homebrew/bin:/opt/homebrew/sbin:/usr/local/bin:/System/Cryptexes/App/usr/bin:/usr/bin:/bin:/usr/sbin:/sbin:/var/run/com.apple.security.cryptexd/codex.system/bootstrap/usr/local/bin:/var/run/com.apple.security.cryptexd/codex.system/bootstrap/usr/bin:/var/run/com.apple.security.cryptexd/codex.system/bootstrap/usr/appleinternal/bin:/opt/X11/bin:/Library/Apple/usr/bin\n",
      "  VSCODE_CODE_CACHE_PATH = /Users/scarlettkynoch/Library/Application Support/Code/CachedData/863d2581ecda6849923a2118d93a088b0745d9d6\n",
      "  XPC_FLAGS = 0x0\n",
      "  TERM = xterm-color\n"
     ]
    },
    {
     "name": "stderr",
     "output_type": "stream",
     "text": [
      "[ Info: Julia executable: /Users/scarlettkynoch/.julia/juliaup/julia-1.8.5+0.aarch64.apple.darwin14/bin/julia\n",
      "[ Info: Trying to import PyCall...\n",
      "┌ Info: PyCall is already installed and compatible with Python executable.\n",
      "│ \n",
      "│ PyCall:\n",
      "│     python: /Users/scarlettkynoch/Documents/Projects/privfp-experiments/.venv/bin/python\n",
      "│     libpython: /opt/homebrew/Cellar/python@3.11/3.11.6_1/Frameworks/Python.framework/Versions/3.11/Python\n",
      "│ Python:\n",
      "│     python: /Users/scarlettkynoch/Documents/Projects/privfp-experiments/.venv/bin/python\n",
      "└     libpython: /opt/homebrew/Cellar/python@3.11/3.11.6_1/Frameworks/Python.framework/Versions/3.11/Python\n",
      "WARNING: method definition for #finite_difference_jacobian#27 at /Users/scarlettkynoch/.julia/packages/DiffEqDiffTools/3mm8U/src/jacobians.jl:117 declares type variable T3 but does not use it.\n",
      "WARNING: method definition for TwiceDifferentiable at /Users/scarlettkynoch/.julia/packages/NLSolversBase/NsXIC/src/objective_types/incomplete.jl:86 declares type variable TH but does not use it.\n",
      "WARNING: method definition for TwiceDifferentiable at /Users/scarlettkynoch/.julia/packages/NLSolversBase/NsXIC/src/objective_types/incomplete.jl:94 declares type variable TH but does not use it.\n"
     ]
    }
   ],
   "source": [
    "scorer = PrivacyRiskScorer()"
   ]
  },
  {
   "cell_type": "code",
   "execution_count": 8,
   "metadata": {},
   "outputs": [],
   "source": [
    "# Here we fit the model, this has to happen first before calculating scores or transforming\n",
    "scorer.fit(output_standards)\n",
    "# This is the transformed dataset from the real record values to the marginal values\n",
    "transformed_dataset = scorer.map_records_to_copula(output_standards)\n",
    "N_FEATURES = output_standards.shape[1]"
   ]
  },
  {
   "cell_type": "markdown",
   "metadata": {},
   "source": [
    "## 6. PrivacyRiskExplainer: Takes in the predicted transformed values, and transformed dataset generater from the gaussian copula, and calculates shapley values. "
   ]
  },
  {
   "cell_type": "code",
   "execution_count": 9,
   "metadata": {},
   "outputs": [
    {
     "name": "stderr",
     "output_type": "stream",
     "text": [
      "ExactExplainer explainer: 51it [00:20,  1.46it/s]                        \n"
     ]
    }
   ],
   "source": [
    "# SHAP takes a while to run - a progress bar appears when running SHAP\n",
    "explainer = PrivacyRiskExplainer(scorer.predict_transformed, N_FEATURES)\n",
    "# Calculating shapley values using the transformed_dataset\n",
    "local_shapley_df, global_shap, exp_obj = explainer.explain(\n",
    "    transformed_dataset\n",
    ")"
   ]
  },
  {
   "cell_type": "code",
   "execution_count": 10,
   "metadata": {},
   "outputs": [
    {
     "data": {
      "text/plain": [
       "person           0.008202\n",
       "nhs number       0.007525\n",
       "date of birth    0.010273\n",
       "diagnosis        0.007843\n",
       "dtype: float64"
      ]
     },
     "execution_count": 10,
     "metadata": {},
     "output_type": "execute_result"
    }
   ],
   "source": [
    "global_shap"
   ]
  },
  {
   "cell_type": "code",
   "execution_count": 11,
   "metadata": {},
   "outputs": [
    {
     "data": {
      "image/png": "[encoded data removed]",
      "text/plain": [
       "<Figure size 800x350 with 1 Axes>"
      ]
     },
     "metadata": {},
     "output_type": "display_data"
    }
   ],
   "source": [
    "# Plot the mean shap values - global explanation\n",
    "explainer.plot_global_explanation(exp_obj)"
   ]
  },
  {
   "cell_type": "code",
   "execution_count": 12,
   "metadata": {},
   "outputs": [
    {
     "data": {
      "image/png": "[encoded data removed]",
      "text/plain": [
       "<Figure size 800x350 with 3 Axes>"
      ]
     },
     "metadata": {},
     "output_type": "display_data"
    }
   ],
   "source": [
    "# Plot the local shap values for a particular record\n",
    "explainer.plot_local_explanation(exp_obj, 49)"
   ]
  }
 ],
 "metadata": {
  "kernelspec": {
   "display_name": ".venv",
   "language": "python",
   "name": "python3"
  },
  "language_info": {
   "codemirror_mode": {
    "name": "ipython",
    "version": 3
   },
   "file_extension": ".py",
   "mimetype": "text/x-python",
   "name": "python",
   "nbconvert_exporter": "python",
   "pygments_lexer": "ipython3",
   "version": "3.11.6"
  }
 },
 "nbformat": 4,
 "nbformat_minor": 2
}
