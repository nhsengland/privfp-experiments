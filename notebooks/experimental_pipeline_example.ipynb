{
 "cells": [
  {
   "cell_type": "code",
   "execution_count": 14,
   "metadata": {},
   "outputs": [],
   "source": [
    "import os\n",
    "import sys\n",
    "\n",
    "path_root = os.path.dirname(os.getcwd())\n",
    "\n",
    "if path_root not in sys.path:\n",
    "    sys.path.append(path_root)"
   ]
  },
  {
   "cell_type": "markdown",
   "metadata": {},
   "source": [
    "# Creating Prompt Templates"
   ]
  },
  {
   "cell_type": "code",
   "execution_count": 2,
   "metadata": {},
   "outputs": [],
   "source": [
    "from src.config.prompt_template_handler import (\n",
    "    save_extraction_template_to_json,\n",
    "    save_generate_template_to_json,\n",
    "    load_and_validate_extraction_prompt_template,\n",
    "    load_and_validate_generate_prompt_template,\n",
    ")"
   ]
  },
  {
   "cell_type": "markdown",
   "metadata": {},
   "source": [
    "## Saving a prompt template Example for LLamma2\n",
    "\n",
    "You will need to make sure that you generate template has a **{data}** insert defined."
   ]
  },
  {
   "cell_type": "code",
   "execution_count": null,
   "metadata": {},
   "outputs": [],
   "source": [
    "generate_template_path = (\n",
    "    \"../src/config/templates/generate/llama2_template.json\"\n",
    ")\n",
    "\n",
    "generate_template = \"\"\"[INST]\n",
    "<<SYS>>\n",
    "You are a medical student answering an exam question about writing clinical notes for patients.\n",
    "<</SYS>>\n",
    "\n",
    "Keep in mind that your answer will be asssessed based on incorporating all the provided information and the quality of prose.\n",
    "\n",
    "1. Use prose to write an example clinical note for this patient's doctor.\n",
    "2. Use less than three sentences.\n",
    "3. Do not provide a recommendations.\n",
    "4. Use the following information:\n",
    "\n",
    "{data}\n",
    "[/INST]\n",
    "\"\"\"\n",
    "\n",
    "save_generate_template_to_json(\n",
    "    template_str=generate_template, file_path=generate_template_path\n",
    ")"
   ]
  },
  {
   "cell_type": "code",
   "execution_count": null,
   "metadata": {},
   "outputs": [],
   "source": [
    "loaded_generate_template = load_and_validate_generate_prompt_template(\n",
    "    filename=generate_template_path\n",
    ")\n",
    "print(loaded_generate_template)"
   ]
  },
  {
   "cell_type": "markdown",
   "metadata": {},
   "source": [
    "## Saving a UniversalNER prompt Example for Extraction\n",
    "\n",
    "You will need to ensure your template has **{input_text}** and **{entity_name}** as a prompt template insert."
   ]
  },
  {
   "cell_type": "code",
   "execution_count": 3,
   "metadata": {},
   "outputs": [
    {
     "name": "stdout",
     "output_type": "stream",
     "text": [
      "Template saved to '../src/config/templates/extraction/universal_ner_template.json'\n"
     ]
    }
   ],
   "source": [
    "extraction_template_path = (\n",
    "    \"../src/config/templates/extraction/universal_ner_template.json\"\n",
    ")\n",
    "\n",
    "universalner_prompt_template = \"\"\"\n",
    "    USER: Text: {input_text}\n",
    "    ASSISTANT: I’ve read this text.\n",
    "    USER: What describes {entity_name} in the text?\n",
    "    ASSISTANT: (model's predictions in JSON format)\n",
    "    \"\"\"\n",
    "\n",
    "save_extraction_template_to_json(\n",
    "    template_str=universalner_prompt_template,\n",
    "    file_path=extraction_template_path,\n",
    ")"
   ]
  },
  {
   "cell_type": "code",
   "execution_count": null,
   "metadata": {},
   "outputs": [],
   "source": [
    "loaded_extraction_template = load_and_validate_extraction_prompt_template(\n",
    "    filename=extraction_template_path\n",
    ")\n",
    "print(loaded_extraction_template)"
   ]
  },
  {
   "cell_type": "markdown",
   "metadata": {},
   "source": [
    "# Privacy Fingerprint Experiment Pipeline\n",
    "\n",
    "You will need to load the ExperimentalConfigHandler.\n"
   ]
  },
  {
   "cell_type": "code",
   "execution_count": 2,
   "metadata": {},
   "outputs": [],
   "source": [
    "from src.config.experimental_config_handler import ExperimentalConfigHandler"
   ]
  },
  {
   "cell_type": "markdown",
   "metadata": {},
   "source": [
    "**default_config_path** is given so the user can point to the default experimental config values. Currently the pipeline copies the original experimental config down into the folder, and if this exists, only uses the experimental config defined in that folder."
   ]
  },
  {
   "cell_type": "code",
   "execution_count": null,
   "metadata": {},
   "outputs": [],
   "source": [
    "# Defines the location of the experimental config file you want to copy.\n",
    "default_config_path = \"../config/experimental_config.yaml\""
   ]
  },
  {
   "cell_type": "markdown",
   "metadata": {},
   "source": [
    "Then you need to define you overrides:\n",
    "\n",
    "* **iter_overrides**: For components you want to override that are iterated across. Meaning you want each value to be compared to every other value that is defined.\n",
    "\n",
    "You will **NEED** to define your experiment name as this defines where your experiment folder should sit.\n",
    "\n",
    "* **combine_overrides**: Combine overrides is for users to define when they want to look at a combination of values, but not necesarrily iterate across all values. For example your specific llm model, might require a different prompt template.\n",
    "\n"
   ]
  },
  {
   "cell_type": "code",
   "execution_count": 16,
   "metadata": {},
   "outputs": [],
   "source": [
    "# Define your iter overrides\n",
    "iter_overrides = {\n",
    "    \"outputs.experiment_name\": \"experiment_0001_14_05_24\",\n",
    "    # \"synthea.population_num\": [\"2\", \"3\", \"4\", \"5\"],\n",
    "    \"extraction.server_model_type\": [\"gliner\", \"ollama\", \"local\"],\n",
    "}\n",
    "\n",
    "# Define your combine overrides\n",
    "combine_overrides = {\n",
    "    # \"extraction.gliner_features.gliner_model\": [\"urchade/gliner_medium-v2.1\", \"urchade/gliner_base\"],\n",
    "    # \"extraction.ollama_features.ollama_ner_model\": [\"ollama1\", \"ollama2\"],\n",
    "    # \"extraction.ollama_features.prompt_template_path\": [\"universalnerpath1\", \"universalnerpath2\"],\n",
    "    # \"generate.llm_model_features.llm_model_name\": [\"llama2\", \"llama3\"],\n",
    "    # \"generate.llm_model_features.prompt_template_path\": [\"llama2_template.json\", \"llama3_template.json\"]\n",
    "}"
   ]
  },
  {
   "cell_type": "markdown",
   "metadata": {},
   "source": [
    "This initialises the experimental config handler, and then some code has been written so the users can inspect how each of the configurations have been defined."
   ]
  },
  {
   "cell_type": "code",
   "execution_count": 17,
   "metadata": {},
   "outputs": [
    {
     "name": "stdout",
     "output_type": "stream",
     "text": [
      "Configuration file already exists at ../outputs/experiment_0001_14_05_24/experimental_config.yaml\n",
      "---- SyntheaConfig ----\n",
      "population_num='50' county='West Yorkshire' path_output='../outputs/experiment_0001_14_05_24/synthea/synthea_0.json'\n",
      "\n",
      "---- GenerateConfig ----\n",
      "llm_model_features=GenerateModelFeaturesConfig(llm_model_name='llama2', prompt_template_path='llama2_template.json') synthea_path='../outputs/experiment_0001_14_05_24/synthea/synthea_0.json' path_output='../outputs/experiment_0001_14_05_24/generate/generate_0.json'\n",
      "\n",
      "---- ExtractionConfig ----\n",
      "server_model_type='gliner' gliner_features=GlinerFeaturesConfig(gliner_model='urchade/gliner_medium-v2.1') local_features=LocalFeaturesConfig(hf_repo_id=None, hf_filename=None, prompt_template_path=None) ollama_features=OllamaFeaturesConfig(ollama_ner_model=None, prompt_template_path=None) entity_list=['person', 'date of bith', 'nhs number', 'diagnosis'] llm_path='../outputs/experiment_0001_14_05_24/generate/generate_0.json' path_output='../outputs/experiment_0001_14_05_24/extraction/extraction_0.json'\n",
      "server_model_type='ollama' gliner_features=GlinerFeaturesConfig(gliner_model=None) local_features=LocalFeaturesConfig(hf_repo_id=None, hf_filename=None, prompt_template_path=None) ollama_features=OllamaFeaturesConfig(ollama_ner_model='zeffmuks/universal-ner', prompt_template_path='universal_ner_template.json') entity_list=['person', 'date of bith', 'nhs number', 'diagnosis'] llm_path='../outputs/experiment_0001_14_05_24/generate/generate_0.json' path_output='../outputs/experiment_0001_14_05_24/extraction/extraction_1.json'\n",
      "server_model_type='local' gliner_features=GlinerFeaturesConfig(gliner_model=None) local_features=LocalFeaturesConfig(hf_repo_id='yuuko-eth/UniNER-7B-all-GGUF', hf_filename='UniversalNER-7B-all-Q4_K_M.gguf', prompt_template_path='universal_ner_template.json') ollama_features=OllamaFeaturesConfig(ollama_ner_model=None, prompt_template_path=None) entity_list=['person', 'date of bith', 'nhs number', 'diagnosis'] llm_path='../outputs/experiment_0001_14_05_24/generate/generate_0.json' path_output='../outputs/experiment_0001_14_05_24/extraction/extraction_2.json'\n"
     ]
    }
   ],
   "source": [
    "config_handler = ExperimentalConfigHandler(\n",
    "    default_config_path=default_config_path,\n",
    "    iter_overrides=iter_overrides,\n",
    "    combine_overrides=combine_overrides,\n",
    ")\n",
    "\n",
    "print(\"---- SyntheaConfig ----\")\n",
    "for config in config_handler.load_component_experimental_config(\"synthea\"):\n",
    "    print(config)\n",
    "\n",
    "print(\"\\n---- GenerateConfig ----\")\n",
    "for config in config_handler.load_component_experimental_config(\"generate\"):\n",
    "    print(config)\n",
    "\n",
    "print(\"\\n---- ExtractionConfig ----\")\n",
    "for config in config_handler.load_component_experimental_config(\"extraction\"):\n",
    "    print(config)"
   ]
  },
  {
   "cell_type": "markdown",
   "metadata": {},
   "source": [
    "## 1. GenerateSynthea: Generating Synthetic Patient Data using Synthea \n",
    "\n",
    "This extracts out all of the synthea defined configuration and then runs the configuration through the pipeline and saves the data to an ./outputs/experiment_name folder."
   ]
  },
  {
   "cell_type": "code",
   "execution_count": 4,
   "metadata": {},
   "outputs": [
    {
     "name": "stdout",
     "output_type": "stream",
     "text": [
      "synthea run 0 with config population_num='50' county='West Yorkshire' path_output='../outputs/experiment_0001_14_05_24/synthea/synthea_0.json'\n",
      "[{'NHS_NUMBER': '1136099875', 'DATE_OF_BIRTH': '1992-11-26', 'GIVEN_NAME': 'Erick', 'FAMILY_NAME': 'Cummings', 'DIAGNOSIS': 'Viral sinusitis (disorder)'}, {'NHS_NUMBER': '7299667363', 'DATE_OF_BIRTH': '1980-06-26', 'GIVEN_NAME': 'Leif', 'FAMILY_NAME': 'Veum', 'DIAGNOSIS': 'Acute bacterial sinusitis (disorder)'}, {'NHS_NUMBER': '0819789453', 'DATE_OF_BIRTH': '1975-05-13', 'GIVEN_NAME': 'Tanner', 'FAMILY_NAME': 'Armstrong', 'DIAGNOSIS': 'Appendicitis'}, {'NHS_NUMBER': '6247446829', 'DATE_OF_BIRTH': '1975-04-16', 'GIVEN_NAME': 'Moshe', 'FAMILY_NAME': 'Strosin', 'DIAGNOSIS': 'Acute viral pharyngitis (disorder)'}, {'NHS_NUMBER': '3593133113', 'DATE_OF_BIRTH': '1972-09-26', 'GIVEN_NAME': 'Coralee', 'FAMILY_NAME': 'Beer', 'DIAGNOSIS': 'Normal pregnancy'}, {'NHS_NUMBER': '0800603753', 'DATE_OF_BIRTH': '1967-12-09', 'GIVEN_NAME': 'Stanton', 'FAMILY_NAME': 'Sauer', 'DIAGNOSIS': 'Acute bronchitis (disorder)'}, {'NHS_NUMBER': '3045218628', 'DATE_OF_BIRTH': '1968-11-15', 'GIVEN_NAME': 'Classie', 'FAMILY_NAME': 'Reilly', 'DIAGNOSIS': 'Chronic intractable migraine without aura'}, {'NHS_NUMBER': '5543667914', 'DATE_OF_BIRTH': '1957-05-10', 'GIVEN_NAME': 'Latonia', 'FAMILY_NAME': 'White', 'DIAGNOSIS': 'Atopic dermatitis'}, {'NHS_NUMBER': '5485116604', 'DATE_OF_BIRTH': '2005-01-21', 'GIVEN_NAME': 'Justin', 'FAMILY_NAME': 'Conroy', 'DIAGNOSIS': 'Acute bronchitis (disorder)'}, {'NHS_NUMBER': '4359344031', 'DATE_OF_BIRTH': '1983-01-04', 'GIVEN_NAME': 'Gabriele', 'FAMILY_NAME': 'Dach', 'DIAGNOSIS': 'Sinusitis (disorder)'}, {'NHS_NUMBER': '8675706030', 'DATE_OF_BIRTH': '1975-11-28', 'GIVEN_NAME': 'Dominique', 'FAMILY_NAME': 'Pacocha', 'DIAGNOSIS': 'Normal pregnancy'}, {'NHS_NUMBER': '7245181535', 'DATE_OF_BIRTH': '1968-01-13', 'GIVEN_NAME': 'Emmitt', 'FAMILY_NAME': 'Bergnaum', 'DIAGNOSIS': 'Hypertension'}, {'NHS_NUMBER': '1152258338', 'DATE_OF_BIRTH': '2015-11-14', 'GIVEN_NAME': 'Tyrell', 'FAMILY_NAME': 'Carroll', 'DIAGNOSIS': 'Viral sinusitis (disorder)'}, {'NHS_NUMBER': '7621367466', 'DATE_OF_BIRTH': '1976-03-14', 'GIVEN_NAME': 'Hassan', 'FAMILY_NAME': 'Dicki', 'DIAGNOSIS': 'Anemia (disorder)'}, {'NHS_NUMBER': '6468324335', 'DATE_OF_BIRTH': '1950-07-01', 'GIVEN_NAME': 'Flossie', 'FAMILY_NAME': 'Beahan', 'DIAGNOSIS': 'Acute bacterial sinusitis (disorder)'}, {'NHS_NUMBER': '3237703028', 'DATE_OF_BIRTH': '2014-05-11', 'GIVEN_NAME': 'Dante', 'FAMILY_NAME': 'Kutch', 'DIAGNOSIS': 'Otitis media'}, {'NHS_NUMBER': '3523600693', 'DATE_OF_BIRTH': '2010-03-30', 'GIVEN_NAME': 'Margot', 'FAMILY_NAME': 'Baumbach', 'DIAGNOSIS': 'Streptococcal sore throat (disorder)'}, {'NHS_NUMBER': '0344555925', 'DATE_OF_BIRTH': '2022-04-19', 'GIVEN_NAME': 'Malia', 'FAMILY_NAME': 'Schinner', 'DIAGNOSIS': 'Acute viral pharyngitis (disorder)'}, {'NHS_NUMBER': '6429539903', 'DATE_OF_BIRTH': '2016-06-12', 'GIVEN_NAME': 'Guillermina', 'FAMILY_NAME': 'Spencer', 'DIAGNOSIS': 'Acute viral pharyngitis (disorder)'}, {'NHS_NUMBER': '9632601114', 'DATE_OF_BIRTH': '1971-02-13', 'GIVEN_NAME': 'Carita', 'FAMILY_NAME': 'Bradtke', 'DIAGNOSIS': 'Chronic intractable migraine without aura'}, {'NHS_NUMBER': '4686220653', 'DATE_OF_BIRTH': '1964-02-14', 'GIVEN_NAME': 'Nadia', 'FAMILY_NAME': 'Simonis', 'DIAGNOSIS': 'Normal pregnancy'}, {'NHS_NUMBER': '0986143979', 'DATE_OF_BIRTH': '2020-05-22', 'GIVEN_NAME': 'Joey', 'FAMILY_NAME': 'Heathcote', 'DIAGNOSIS': 'Otitis media'}, {'NHS_NUMBER': '6934210093', 'DATE_OF_BIRTH': '1967-06-12', 'GIVEN_NAME': 'Fausto', 'FAMILY_NAME': 'Conroy', 'DIAGNOSIS': 'Anemia (disorder)'}, {'NHS_NUMBER': '5933487740', 'DATE_OF_BIRTH': '2016-03-12', 'GIVEN_NAME': 'Ji', 'FAMILY_NAME': 'Metz', 'DIAGNOSIS': 'Otitis media'}, {'NHS_NUMBER': '7366914703', 'DATE_OF_BIRTH': '2013-05-11', 'GIVEN_NAME': 'Angeles', 'FAMILY_NAME': 'Hills', 'DIAGNOSIS': 'Acute viral pharyngitis (disorder)'}, {'NHS_NUMBER': '6784793773', 'DATE_OF_BIRTH': '2017-09-18', 'GIVEN_NAME': 'Noel', 'FAMILY_NAME': 'Kunde', 'DIAGNOSIS': 'Fracture of forearm'}, {'NHS_NUMBER': '2572617366', 'DATE_OF_BIRTH': '1990-12-12', 'GIVEN_NAME': 'Theodore', 'FAMILY_NAME': 'Collins', 'DIAGNOSIS': 'Viral sinusitis (disorder)'}, {'NHS_NUMBER': '9049395090', 'DATE_OF_BIRTH': '2013-10-17', 'GIVEN_NAME': 'Ellsworth', 'FAMILY_NAME': 'Lesch', 'DIAGNOSIS': 'Viral sinusitis (disorder)'}, {'NHS_NUMBER': '5589658454', 'DATE_OF_BIRTH': '1999-01-20', 'GIVEN_NAME': 'Christian', 'FAMILY_NAME': 'Kemmer', 'DIAGNOSIS': 'Appendicitis'}, {'NHS_NUMBER': '2587176336', 'DATE_OF_BIRTH': '1990-12-28', 'GIVEN_NAME': 'Shirleen', 'FAMILY_NAME': 'Nikolaus', 'DIAGNOSIS': 'Acute bacterial sinusitis (disorder)'}, {'NHS_NUMBER': '5722709921', 'DATE_OF_BIRTH': '1995-10-09', 'GIVEN_NAME': 'Arvilla', 'FAMILY_NAME': 'Mills', 'DIAGNOSIS': 'Acute bacterial sinusitis (disorder)'}, {'NHS_NUMBER': '0853754519', 'DATE_OF_BIRTH': '1985-08-20', 'GIVEN_NAME': 'Willena', 'FAMILY_NAME': 'Hickle', 'DIAGNOSIS': 'Acute bacterial sinusitis (disorder)'}, {'NHS_NUMBER': '7698276651', 'DATE_OF_BIRTH': '1999-02-04', 'GIVEN_NAME': 'Blaine', 'FAMILY_NAME': 'Crist', 'DIAGNOSIS': 'Perennial allergic rhinitis'}, {'NHS_NUMBER': '1964511984', 'DATE_OF_BIRTH': '2015-03-09', 'GIVEN_NAME': 'Noah', 'FAMILY_NAME': 'Bergstrom', 'DIAGNOSIS': 'Acute viral pharyngitis (disorder)'}, {'NHS_NUMBER': '0966095081', 'DATE_OF_BIRTH': '1967-05-13', 'GIVEN_NAME': 'Ken', 'FAMILY_NAME': 'Monahan', 'DIAGNOSIS': 'Sinusitis (disorder)'}, {'NHS_NUMBER': '0616102828', 'DATE_OF_BIRTH': '2018-03-01', 'GIVEN_NAME': 'Bill', 'FAMILY_NAME': 'Stokes', 'DIAGNOSIS': 'Viral sinusitis (disorder)'}, {'NHS_NUMBER': '2078069256', 'DATE_OF_BIRTH': '2015-03-10', 'GIVEN_NAME': 'Carson', 'FAMILY_NAME': 'Dibbert', 'DIAGNOSIS': 'Acute bronchitis (disorder)'}, {'NHS_NUMBER': '2283613124', 'DATE_OF_BIRTH': '1971-08-04', 'GIVEN_NAME': 'Teofila', 'FAMILY_NAME': 'Koelpin', 'DIAGNOSIS': 'Viral sinusitis (disorder)'}, {'NHS_NUMBER': '6568766496', 'DATE_OF_BIRTH': '2018-09-13', 'GIVEN_NAME': 'Tona', 'FAMILY_NAME': 'McLaughlin', 'DIAGNOSIS': 'Acute bronchitis (disorder)'}, {'NHS_NUMBER': '4568437822', 'DATE_OF_BIRTH': '2013-05-20', 'GIVEN_NAME': 'Buddy', 'FAMILY_NAME': 'Deckow', 'DIAGNOSIS': 'Otitis media'}, {'NHS_NUMBER': '8564242451', 'DATE_OF_BIRTH': '1951-03-16', 'GIVEN_NAME': 'Roseanne', 'FAMILY_NAME': 'Emard', 'DIAGNOSIS': 'Appendicitis'}, {'NHS_NUMBER': '0131793306', 'DATE_OF_BIRTH': '1987-09-12', 'GIVEN_NAME': 'Brandon', 'FAMILY_NAME': 'Reichel', 'DIAGNOSIS': 'Chronic intractable migraine without aura'}, {'NHS_NUMBER': '3292335094', 'DATE_OF_BIRTH': '1981-11-11', 'GIVEN_NAME': 'Aja', 'FAMILY_NAME': 'Toy', 'DIAGNOSIS': 'Anemia (disorder)'}, {'NHS_NUMBER': '2154291503', 'DATE_OF_BIRTH': '1964-08-10', 'GIVEN_NAME': 'Oralia', 'FAMILY_NAME': 'Tillman', 'DIAGNOSIS': 'Normal pregnancy'}, {'NHS_NUMBER': '5635228453', 'DATE_OF_BIRTH': '1958-11-06', 'GIVEN_NAME': 'Mable', 'FAMILY_NAME': 'Dickinson', 'DIAGNOSIS': 'Hyperlipidemia'}, {'NHS_NUMBER': '6587482465', 'DATE_OF_BIRTH': '1970-07-11', 'GIVEN_NAME': 'Elayne', 'FAMILY_NAME': 'Roob', 'DIAGNOSIS': 'Acute bronchitis (disorder)'}, {'NHS_NUMBER': '6238907444', 'DATE_OF_BIRTH': '1941-10-14', 'GIVEN_NAME': 'Abbey', 'FAMILY_NAME': 'Hagenes', 'DIAGNOSIS': 'Otitis media'}, {'NHS_NUMBER': '7730745593', 'DATE_OF_BIRTH': '1945-02-26', 'GIVEN_NAME': 'Otto', 'FAMILY_NAME': 'Yost', 'DIAGNOSIS': 'Acute bronchitis (disorder)'}] \n",
      "\n"
     ]
    }
   ],
   "source": [
    "config_handler.run_component_experiment_config(component_type=\"synthea\")"
   ]
  },
  {
   "cell_type": "markdown",
   "metadata": {},
   "source": [
    "## 2. GenerateLLM: Generating Synthetic Patient Medical Notes \n",
    "\n",
    "This extracts out all of the generate defined configuration and then runs the configuration through the pipeline and saves the data to an ./outputs/experiment_name folder."
   ]
  },
  {
   "cell_type": "code",
   "execution_count": 5,
   "metadata": {},
   "outputs": [
    {
     "name": "stdout",
     "output_type": "stream",
     "text": [
      "generate run 0 with config llm_model_features=GenerateModelFeaturesConfig(llm_model_name='llama2', prompt_template_path='llama2_template.json') synthea_path='../outputs/experiment_0001_14_05_24/synthea/synthea_0.json' path_output='../outputs/experiment_0001_14_05_24/generate/generate_0.json'\n",
      "['Clinical Note:\\nPatient Name: Erick Cummings\\nNHS Number: 1136099875\\nDate of Birth: November 26, 1992\\n\\nPresentation: Mr. Cummings presented to the clinic with a 3-day history of nasal congestion, sneezing, and a mild fever. He reported difficulty breathing through his nose and experienced some facial pain. His medical history includes allergies and a previous viral sinusitis diagnosis.\\n\\nDiagnosis: Viral sinusitis (disorder)\\n\\nPlan: Recommended treatment includes nasal decongestants, antihistamines, and saline nasal sprays to help manage symptoms. Follow-up appointment scheduled for one week to monitor progress.', 'Clinical Note:\\nPatient Leif Veum, NHS number 7299667363, presents with acute bacterial sinusitis. Born on June 26th, 1980, he is a 42-year-old male. He is currently experiencing symptoms of nasal congestion, facial pain, and yellow discharge from the nose.', \"Clinical Note:\\nPatient Name: Tanner Armstrong\\nNHS Number: 0819789453\\nDate of Birth: May 13, 1975\\n\\nPresentation: The patient presented to the emergency department with right lower quadrant abdominal pain and tenderness. The pain began suddenly and has worsened over the past few hours. There are no other symptoms or signs of illness.\\n\\nDiagnosis: Appendicitis is suspected based on the patient's symptoms and medical history. Further evaluation and diagnostic tests will be conducted to confirm the diagnosis and determine the appropriate course of treatment.\", 'Clinical Note:\\nMr. Strosin presents with acute viral pharyngitis, characterized by sore throat and fever. He was born in 1975 and is currently experiencing symptoms for the past 2 days. His NHS number is 6247446829.', 'Clinical Note:\\nPatient Name: Coralee Beer\\nNHS Number: 3593133113\\nDate of Birth: September 26, 1972\\n\\nPatient Presentation: Coralee Beer is a 40-year-old female presenting for routine prenatal care at 12 weeks gestation. She reports no significant medical history or complications during this pregnancy. Her date of birth indicates that she is at an increased risk for certain medical conditions, such as gestational diabetes and hypertension.', \"Clinical Note for Patient Stanton Sauer:\\n\\nPatient presents with acute bronchitis, as evidenced by persistent cough and mucus production. The patient's age and history of smoking suggest a likely cause of the illness. Further evaluation and treatment are necessary to manage symptoms and prevent potential complications.\", 'Clinical Note for Patient ID: 3045218628\\n\\nPatient Name: Classie Reilly\\nDate of Birth: November 15, 1968\\n\\nDIAGNOSIS: Chronic intractable migraine without aura\\n\\nMr. Reilly presents with a history of persistent and severe headaches, occurring daily for the past three months, with no identifiable cause or trigger. He reports frequent nausea, photophobia, and vomiting, which worsen during the headache episodes. His medication history includes various trials of acute and preventive medications without significant improvement. Given his chronic nature of migraine and lack of response to previous treatments, we recommend further evaluation and management for this complex and debilitating condition.', 'Clinical Note:\\nPatient Latonia White, NHS number 5543667914, presents today with a chief complaint of itchy skin lesions on her arms and legs. She reports that the symptoms have been persistent for the past two weeks and have significantly impacted her quality of life. The patient was born on May 10th, 1957, and has a diagnosis of atopic dermatitis.', ' Clinical Note:\\n\\nPatient: Justin Conroy\\nNHS Number: 5485116604\\nDate of Birth: January 21, 2005\\n\\nPresenting Complaint: Acute bronchitis (disorder)\\n\\nChief Concerns: Cough, chest tightness, fever, and difficulty breathing.', 'Clinical Note:\\nPatient Name: Gabriele Dach\\nNHS Number: 4359344031\\nDate of Birth: January 4, 1983\\n\\nPresenting Complaint: Sinusitis (disorder)\\n\\nChief Concerns: Nasal congestion, facial pain, headache, sore throat, cough\\n\\nReview of Systems: Negative for fever, chest pain, or difficulty breathing.\\n\\nMedical History: No known allergies or previous sinusitis episodes.\\n\\nSurgical History: None\\n\\nMedications: None currently being taken.\\n\\nPlanned Action: Prescribe antibiotics and nasal decongestants as needed. Advise patient to use saline nasal sprays and avoid blowing nose. Instruct on proper hand hygiene and cough etiquette. Monitor patient for any worsening symptoms or signs of complications.\\n\\nNote: This is just an example, please do not use it as a reference for actual patients.', 'Clinical Note:\\n\\nPatient: Dominique Pacocha\\nNHS Number: 8675706030\\nDate of Birth: November 28, 1975\\n\\nCurrent Diagnosis: Normal Pregnancy', ' Clinical Note:\\n\\nPatient: Emmitt Bergnaum\\nNHS Number: 7245181535\\nDate of Birth: January 13, 1968\\n\\nPresenting Complaint: Hypertension\\n\\nHistory of Present Illness: Mr. Bergnaum, a 54-year-old male, presents today with a 2-month history of headaches and shortness of breath. He reports that these symptoms have been persistent and worsening over time. He also mentions recent weight gain and increased thirst.\\n\\nCurrent Medications: Losartan 50mg oral daily\\n\\nAllergies: None known\\n\\nReview of Systems: No significant findings in the Head, Eyes, Ears, Nose, Mouth, and Respiratory systems. Abdominal palpation reveals a slightly elevated blood pressure.\\n\\nPlan:\\n\\n1. Continue Losartan 50mg oral daily as prescribed.\\n2. Monitor blood pressure regularly and adjust medication as needed.\\n3. Encourage lifestyle modifications, such as regular exercise and a healthy diet, to help manage hypertension.', \" Clinical Note for Tyrell Carroll:\\n\\nPatient presents with symptoms of viral sinusitis, including nasal congestion, facial pain, and postnasal drip. Patient's NHS number is 1152258338, date of birth is November 14, 2015. Patient's diagnosis is viral sinusitis (disorder).\", 'Clinical Note:\\nMr. Hassan Dicki, a 46-year-old male patient, was seen in the clinic today for a follow-up appointment. His NHS number is 7621367466 and he was born on March 14th, 1976. The patient has been diagnosed with anemia, a disorder characterized by a lower than normal number of red blood cells or hemoglobin in the blood. Further evaluation and treatment are necessary to manage this condition and prevent any complications.', \"Clinical Note:\\n\\nPatient: Flossie Beahan\\nNHS Number: 6468324335\\nDate of Birth: July 1, 1950\\n\\nDiagnosis: Acute bacterial sinusitis (disorder)\\n\\nChief Complaint: Sudden onset of severe headache, facial pain, and nasal congestion over the past 24 hours. Patient also reports fever and difficulty smelling.\\n\\nHistory of Present Illness: Patient was seen in urgent care yesterday evening with similar symptoms and was prescribed antibiotics. However, symptoms have worsened since then.\\n\\nReview of Systems: No significant findings.\\n\\nPlan: Continue antibiotics as prescribed and monitor patient's condition closely. Consider referral to ENT specialist if symptoms do not improve within 48 hours.\", \"Clinical Note:\\nPatient Name: Dante Kutch\\nNHS Number: 3237703028\\nDate of Birth: May 11, 2014\\n\\nHistory of Present Illness: The patient, a 9-year-old boy, presented with complaints of ear pain and difficulty hearing for the past 3 days. He also reported fever and difficulty sleeping.\\n\\nAssessment: Otitis media was diagnosed based on the patient's symptoms and physical examination findings.\\n\\nPlan: The patient was prescribed antibiotics and instructed to use over-the-counter pain medication as needed. Follow-up appointments were scheduled for 1 week and 2 weeks after initial presentation to monitor progress and adjust treatment as necessary.\", \"Clinical Note:\\nMargot Baumbach, a 10-year-old female patient, presents with a streptococcal sore throat. She was born on March 30, 2010, and her NHS number is 3523600693. The patient's chief complaint is a sore throat with difficulty swallowing and mild fever.\", \"Clinical Note for Malia Schinner:\\n\\nPatient Malia Schinner presents with acute viral pharyngitis. Born on April 19, 2022, and having an NHS number of 0344555925. The patient's diagnosis is acute viral pharyngitis, a common respiratory infection caused by a virus. Symptoms include sore throat, fever, and difficulty swallowing. Patient is experiencing moderate discomfort and difficulty sleeping due to the symptoms. Recommendations include rest, hydration, and over-the-counter pain relief medication as needed.\", \"Clinical Note:\\n\\nPatient: Guillermina Spencer\\nNHS Number: 6429539903\\nDate of Birth: June 12, 2016\\n\\nPresentation: Acute viral pharyngitis (disorder)\\n\\nKey Symptoms:\\n\\n* Sore throat\\n* Fever\\n* Headache\\n* Nasal congestion\\n* Cough\\n\\nAssessment: Based on the patient's symptoms and medical history, it is likely that she has acute viral pharyngitis. Further evaluation and diagnosis are necessary to confirm the diagnosis and determine the appropriate course of treatment.\", 'Clinical Note:\\n\\nPatient: Carita Bradtke\\nNHS Number: 9632601114\\nDate of Birth: February 13, 1971\\n\\nPresenting complaint: Chronic intractable migraine without aura\\n\\nMedical History: Patient has been experiencing severe headaches for the past year, with no identifiable cause. Previous medical evaluations have been unremarkable.\\n\\nPlan: Recommendation to continue current medication regimen and referral to specialist for further evaluation and management of migraines.', \"Clinical Note:\\nNadia Simonis, a 58-year-old female patient, was seen in the clinic for a routine prenatal checkup. Her NHS number is 4686220653 and her date of birth is February 14, 1964. Based on today's examination, her pregnancy is proceeding normally. No recommendations were given at this time.\", \"Clinical Note:\\n\\nPatient: Joey Heathcote\\nNHS Number: 0986143979\\nDate of Birth: May 22, 2020\\n\\nChief Complaint: Ear pain and fever for the past 3 days.\\n\\nHistory of Present Illness: The patient presents with a 3-day history of ear pain and fever. They report that the pain is located in the right ear and is accompanied by a mild sore throat and cough. The patient denies any recent illness or exposure to illness.\\n\\nPhysical Examination: On examination, the patient's temperature is 37.5°C (99.5°F), and their blood pressure is 120/80 mmHg. There is tenderness in the right ear and a slight bulge in the tympanic membrane. The throat is slightly scratchy, and the patient has a mild cough.\\n\\nPlan:\\n\\n1. Prescribe antibiotic therapy (ampicillin) for otitis media.\\n2. Instruct the patient to continue with pain management (acetaminophen).\\n3. Schedule a follow-up appointment in 2 days for further evaluation and treatment.\", \"Clinical Note:\\n\\nPatient: Fausto Conroy\\nNHS Number: 6934210093\\nDate of Birth: June 12, 1967\\n\\nPresenting Complaint: Fatigue, weakness, and shortness of breath for the past two weeks.\\n\\nDiagnosis: Anemia (disorder) based on patient's symptoms and medical history. Further investigation and laboratory tests are necessary to determine the underlying cause of anemia.\", \"Clinical Note:\\nPatient Ji Metz, age 4, presents with a 3-day history of fever, congestion, and ear pulling. The patient's NHS number is 5933487740, and their date of birth is March 12, 2016. Diagnosis: Otitis media.\", 'Clinical Note:\\n\\nPatient: Angeles Hills\\nNHS Number: 7366914703\\nDate of Birth: May 11, 2013\\n\\nPresentation: The patient presents with a sudden onset of sore throat, fever, and difficulty swallowing. The patient also reports a loss of voice and a mild cough.\\n\\nDiagnosis: Acute viral pharyngitis (disorder)\\n\\nPlan: Observation and supportive care for the next 7-10 days. Antiviral medication may be prescribed if symptoms persist or worsen over time. Encourage patient to drink plenty of fluids, rest, and avoid close contact with others to prevent further spread of infection.', 'Clinical Note:\\nPatient Name: Noel Kunde\\nNHS Number: 6784793773\\nDate of Birth: September 18, 2017\\n\\nHistory of Presentation: The patient presented to the emergency department with a fracture of the forearm following a fall from a height. The patient is in moderate pain and has limited mobility of the affected arm.\\n\\nRecommendations: Further evaluation and management of the fracture are necessary to ensure proper healing and prevention of any complications.', 'Clinical Note:\\nPatient Name: Theodore Collins\\nNHS Number: 2572617366\\nDate of Birth: December 12, 1990\\n\\nPresenting Complaint: Fever, headache, and nasal congestion for the past 3 days.\\n\\nDiagnosis: Viral sinusitis (disorder)\\n\\nReason for Visit: Acute exacerbation of chronic sinusitis.', \"Clinical Note:\\nPatient Name: Ellsworth Lesch\\nNHS Number: 9049395090\\nDate of Birth: October 17, 2013\\n\\nPresentation: The patient presents with a 5-day history of nasal congestion, facial pain, and headache. He also reports a low-grade fever and difficulty smelling. The patient's medical history includes allergies and asthma. Physical examination reveals bilateral nasal congestion, tender sinuses, and a clear nose.\\n\\nDiagnosis: Viral sinusitis (disorder)\", 'Clinical Note:\\nPatient Name: Christian Kemmer\\nNHS Number: 5589658454\\nDate of Birth: January 20, 1999\\n\\nPresentation: Christian presented to the emergency department with sudden onset abdominal pain, nausea, and vomiting. He was diagnosed with appendicitis based on his symptoms and the results of a physical examination.\\n\\nPlan: The patient was taken to the operating room for an appendectomy. Post-operatively, he was monitored closely for any signs of complications.', 'Clinical Note:\\nPatient Name: Shirleen Nikolaus\\nNHS Number: 2587176336\\nDate of Birth: December 28, 1990\\n\\nPresentation: Acute bacterial sinusitis (disorder)\\n\\nChief Complaint: Sinus pressure and headache for 3 days, fever 38.5°C, nasal congestion, and thick yellowish discharge from the nose.\\n\\nHistory of Present Illness: The patient developed symptoms on Day 0, which worsened over the next 24 hours. She reported feeling unwell and experiencing facial pain and pressure.\\n\\nReview of Systems: The patient did not report any other symptoms or systems involved.\\n\\nMedications: None reported.\\n\\nAllergies: None reported.\\n\\nPlan: Antibiotics will be prescribed for 7-10 days, and the patient will be advised to use nasal decongestants and saline nasal sprays as needed. Follow-up appointments will be scheduled in 3-4 days to assess symptoms and adjust treatment as necessary.', \"Clinical Note:\\nPatient Name: Arvilla Mills\\nNHS Number: 5722709921\\nDate of Birth: October 9, 1995\\n\\nPresentation: Acute bacterial sinusitis (disorder)\\n\\nSymptoms: Nasal congestion, facial pain/pressure, fever, cough, sore throat.\\n\\nReview of Systems: No significant findings.\\n\\nPlan: Prescribe antibiotics for 7-10 days, recommend nasal decongestants and pain relievers as needed. Monitor patient's condition closely and reassess in 3-5 days for possible improvement.\", ' Clinical Note:\\n\\nPatient: Willena Hickle\\nNHS Number: 0853754519\\nDate of Birth: August 20, 1985\\n\\nPresenting Complaint: Right nasal congestion, facial pain and pressure, fever, and cough for the past 3 days.\\n\\nDiagnosis: Acute bacterial sinusitis (disorder)\\n\\nPlan: Prescription of antibiotics and nasal decongestants as needed, instructions on proper hygiene practices, and monitoring of symptoms for improvement.', \" Clinical Note for Blaine Crist:\\n\\nPatient presents with a history of perennial allergic rhinitis. The patient's NHS number is 7698276651 and their date of birth is February 4, 1999. The patient's given name is Blaine and their family name is Crist.\", 'Clinical Note for Noah Bergstrom:\\n\\nPatient presents with acute viral pharyngitis. Symptoms include sore throat, fever, and difficulty swallowing. History of cough and nasal congestion. (NHS Number: 1964511984, Date of Birth: March 9, 2015, Given Name: Noah, Family Name: Bergstrom, Diagnosis: Acute viral pharyngitis)', \"Clinical Note:\\nPatient Name: Ken Monahan\\nNHS Number: 0966095081\\nDate of Birth: May 13, 1967\\n\\nChief Complaint: Sinusitis (disorder)\\n\\nHistory of Present Illness: The patient presents with symptoms of sinus pressure and congestion for the past two weeks. He reports difficulty breathing through his nose and mouth, as well as a yellowish discharge from his nose. He has tried over-the-counter decongestants without relief.\\n\\nReview of Systems: The patient's medical history is significant for allergies and asthma. He takes montelukast and fluticasone for these conditions. There are no other medical concerns.\\n\\nPlan:\\n\\n1. Prescribe nasal decongestant spray, 2-3 times daily for 5 days.\\n2. Recommend saline nasal rinse, twice daily.\\n3. Consider antibiotic therapy if symptoms persist after 5 days of decongestant use.\\n\\nNote: This is just an example clinical note and should not be used as a real patient's medical record.\", 'Clinical Note:\\nPatient Bill Stokes, NHS number 0616102828, presents with viral sinusitis. Born on March 1st, 2018, Mr. Stokes complains of nasal congestion, headache, and fever for the past 3 days. His diagnosis is viral sinusitis, and he is prescribed antiviral medication and nasal decongestants to alleviate symptoms.', \" Clinical Note for Patient Carson Dibbert:\\n\\nMr. Dibbert is a 25-year-old male presenting with acute bronchitis. He was admitted to the emergency room on March 10, 2023, with a 2-day history of cough, chest tightness, and shortness of breath. His medical history includes asthma and allergies. His vital signs are as follows: temperature - 37.8 degrees Celsius, blood pressure - 120/80 mmHg, pulse rate - 90 beats per minute, respiratory rate - 24 breaths per minute. He is currently receiving oxygen therapy via a nasal cannula. His chest examination reveals bilateral wheezing and decreased tactile fremitus. Based on the patient's history and physical examination findings, I diagnose acute bronchitis. I will prescribe antibiotics and continue oxygen therapy until his symptoms improve.\", \"Clinical Note for Teofila Koelpin:\\n\\nPatient presents with viral sinusitis, characterized by nasal congestion, facial pain, and yellowish discharge. Patient's medical history reveals a previous episode of sinusitis in 2018, which was treated with antibiotics. Given the patient's age and history of respiratory issues, it is likely that this current episode is also caused by a viral infection. Further evaluation and treatment are warranted to alleviate symptoms and prevent potential complications.\", \"Clinical Note:\\nPatient Name: Tona McLaughlin\\nNHS Number: 6568766496\\nDate of Birth: September 13, 2018\\n\\nPresenting Complaint: Acute bronchitis (disorder)\\n\\nChief Complaint: Cough and shortness of breath for the past 5 days.\\n\\nReview of Systems: No significant findings on respiratory examination.\\n\\nMedications: None currently, but patient has been prescribed an antibiotic in the past for similar symptoms.\\n\\nPlan: Monitor patient's condition and provide appropriate treatment as needed.\", 'Clinical Note:\\nPatient Name: Buddy Deckow\\nNHS Number: 4568437822\\nDate of Birth: May 20, 2013\\n\\nPresentation: Mr. Deckow is a 9-year-old male presenting with a 3-day history of fever, headache, and ear pain. He was evaluated in the emergency department and diagnosed with otitis media. He is currently experiencing difficulty hearing and has a bulging tympanic membrane.\\n\\nPlan: The patient will be started on antibiotics for 5-7 days and referred to an audiologist for further evaluation and management of any hearing impairment. Follow-up appointments will be scheduled as needed.', 'Certainly! Here is an example clinical note for Roseanne Emard:\\n\\n\"Patient presents with severe right-sided abdominal pain, nausea, and vomiting. History of fever and loss of appetite for the past 24 hours. NHS number: 8564242451. Date of birth: March 16, 1951. Given name: Roseanne. Family name: Emard. Diagnosis: Appendicitis.\"', \"Clinical Note:\\nPatient Brandon Reichel, NHS number 0131793306, presents today with a chief complaint of persistent and debilitating chronic migraine without aura. The patient was born on September 12, 1987, and has been experiencing frequent headaches since adolescence. According to the patient's history, these headaches have significantly interfered with their daily activities and quality of life.\", 'Clinical Note:\\n\\nPatient Name: Aja Toy\\nNHS Number: 3292335094\\nDate of Birth: November 11, 1981\\n\\nPresenting Complaint: Fatigue, pale skin, and shortness of breath.\\n\\nDiagnosis: Anemia (disorder)\\n\\nPlan: Recommendation for blood transfusion and iron supplements to manage anemia. Further evaluation and management required based on severity and underlying cause.', 'Clinical Note:\\nPatient: Oralia Tillman\\nNHS Number: 2154291503\\nDate of Birth: August 10, 1964\\n\\nCurrent Diagnosis: Normal pregnancy.', \"Clinical Note:\\n\\nPatient Name: Mable Dickinson\\nNHS Number: 5635228453\\nDate of Birth: November 6, 1958\\n\\nPresentation: Mrs. Dickinson is a 64-year-old female presenting with a 6-month history of mild dyslipidemia. She reports occasional instances of fatigue and weakness, which have worsened over time. There is no recent history of chest pain or difficulty breathing.\\n\\nRecommendations: Further evaluation and monitoring are necessary to determine the optimal course of treatment for Mrs. Dickinson's hyperlipidemia. A lipid profile and fasting blood sugar should be performed at least annually, or more frequently if clinically indicated. Lifestyle modifications such as a healthy diet and regular exercise may also be beneficial in managing her condition.\", 'Clinical Note:\\nPatient: Elayne Roob\\nNHS Number: 6587482465\\nDate of Birth: July 11, 1970\\n\\nPresenting Complaint: Acute bronchitis (disorder)\\n\\nChief Concerns: Cough, fever, chest tightness\\n\\nReview of Systems: Positive for cough and chest tightness, negative for shortness of breath or wheezing.\\n\\nPlan: Oral antibiotics prescribed for 7-10 days, as well as a course of inhaled corticosteroids for symptomatic relief. Patient advised to rest and hydrate thoroughly. Follow-up appointment scheduled for one week from today.', \"Clinical Note:\\nPatient Name: Abbey Hagenes\\nNHS Number: 6238907444\\nDate of Birth: October 14, 1941\\n\\nChief Complaint: Otitis media\\n\\nHistory of Present Illness: The patient is a 80-year-old male who presents with complaints of ear pain and difficulty hearing for the past 3 days. He reports that the symptoms started suddenly and have been persistent despite taking over-the-counter pain medication. There is no history of previous ear infections or allergies.\\n\\nCurrent Observations: The patient's ears are tender to the touch, and he has difficulty hearing out of his right ear. His tympanic membrane is bulging and erythematous.\\n\\nRecommendations: Given the patient's age and history of sudden onset of symptoms, I suspect otitis media. I recommend prescribing antibiotic ear drops and pain medication to help manage his symptoms. Further evaluation and testing may be necessary to rule out any other potential causes of his hearing loss.\", ' Clinical Note for Otto Yost:\\n\\nMr. Yost presents today with a 2-day history of cough, fever, and chest tightness. He was born on February 26, 1945, and his NHS number is 7730745593. His diagnosis is acute bronchitis, a disorder characterized by inflammation of the bronchial tubes. Further assessment and monitoring are necessary to ensure proper management and prevention of complications.'] \n",
      "\n"
     ]
    }
   ],
   "source": [
    "config_handler.run_component_experiment_config(component_type=\"generate\")"
   ]
  },
  {
   "cell_type": "markdown",
   "metadata": {},
   "source": [
    "## 3. Extraction: Re-extracting Entities from the Patient Medical Notes\n",
    "\n",
    "This extracts out all of the extraction defined configuration and then runs the configuration through the pipeline and saves the data to an ./outputs/experiment_name folder."
   ]
  },
  {
   "cell_type": "code",
   "execution_count": 6,
   "metadata": {},
   "outputs": [
    {
     "name": "stdout",
     "output_type": "stream",
     "text": [
      "extraction run 0 with config server_model_type='gliner' gliner_features=GlinerFeaturesConfig(gliner_model='urchade/gliner_medium-v2.1') local_features=LocalFeaturesConfig(hf_repo_id=None, hf_filename=None, prompt_template_path=None) ollama_features=OllamaFeaturesConfig(ollama_ner_model=None, prompt_template_path=None) entity_list=['person', 'date of bith', 'nhs number', 'diagnosis'] llm_path='../outputs/experiment_0001_14_05_24/generate/generate_0.json' path_output='../outputs/experiment_0001_14_05_24/extraction/extraction_0.json'\n",
      "[{'Entities': [{'start': 29, 'end': 43, 'text': 'Erick Cummings', 'label': 'person', 'score': 0.9461807012557983}, {'start': 44, 'end': 54, 'text': 'NHS Number', 'label': 'nhs number', 'score': 0.7090232372283936}, {'start': 56, 'end': 66, 'text': '1136099875', 'label': 'nhs number', 'score': 0.8978695869445801}, {'start': 82, 'end': 99, 'text': 'November 26, 1992', 'label': 'date of bith', 'score': 0.9462364912033081}, {'start': 360, 'end': 385, 'text': 'viral sinusitis diagnosis', 'label': 'diagnosis', 'score': 0.5920311808586121}, {'start': 399, 'end': 425, 'text': 'Viral sinusitis (disorder)', 'label': 'diagnosis', 'score': 0.9113109111785889}]}, {'Entities': [{'start': 15, 'end': 32, 'text': 'Patient Leif Veum', 'label': 'person', 'score': 0.9267864227294922}, {'start': 34, 'end': 55, 'text': 'NHS number 7299667363', 'label': 'nhs number', 'score': 0.960817813873291}, {'start': 71, 'end': 96, 'text': 'acute bacterial sinusitis', 'label': 'diagnosis', 'score': 0.9220368266105652}, {'start': 106, 'end': 121, 'text': 'June 26th, 1980', 'label': 'date of bith', 'score': 0.9568174481391907}]}, {'Entities': [{'start': 29, 'end': 45, 'text': 'Tanner Armstrong', 'label': 'person', 'score': 0.9429489970207214}, {'start': 46, 'end': 56, 'text': 'NHS Number', 'label': 'nhs number', 'score': 0.6678096652030945}, {'start': 58, 'end': 68, 'text': '0819789453', 'label': 'nhs number', 'score': 0.9126742482185364}, {'start': 84, 'end': 96, 'text': 'May 13, 1975', 'label': 'date of bith', 'score': 0.9312797784805298}, {'start': 346, 'end': 371, 'text': 'Appendicitis is suspected', 'label': 'diagnosis', 'score': 0.6529884338378906}]}, {'Entities': [{'start': 15, 'end': 26, 'text': 'Mr. Strosin', 'label': 'person', 'score': 0.950272798538208}, {'start': 41, 'end': 64, 'text': 'acute viral pharyngitis', 'label': 'diagnosis', 'score': 0.8150907158851624}, {'start': 121, 'end': 125, 'text': '1975', 'label': 'date of bith', 'score': 0.9057128429412842}, {'start': 204, 'end': 214, 'text': '6247446829', 'label': 'nhs number', 'score': 0.9731841683387756}]}, {'Entities': [{'start': 29, 'end': 41, 'text': 'Coralee Beer', 'label': 'person', 'score': 0.9787444472312927}, {'start': 42, 'end': 52, 'text': 'NHS Number', 'label': 'nhs number', 'score': 0.8089447021484375}, {'start': 54, 'end': 64, 'text': '3593133113', 'label': 'nhs number', 'score': 0.870872437953949}, {'start': 80, 'end': 98, 'text': 'September 26, 1972', 'label': 'date of bith', 'score': 0.9267910122871399}, {'start': 122, 'end': 134, 'text': 'Coralee Beer', 'label': 'person', 'score': 0.9635233879089355}, {'start': 403, 'end': 423, 'text': 'gestational diabetes', 'label': 'diagnosis', 'score': 0.9692453145980835}, {'start': 428, 'end': 440, 'text': 'hypertension', 'label': 'diagnosis', 'score': 0.9024292826652527}]}, {'Entities': [{'start': 18, 'end': 39, 'text': 'Patient Stanton Sauer', 'label': 'person', 'score': 0.8142983913421631}, {'start': 42, 'end': 49, 'text': 'Patient', 'label': 'person', 'score': 0.628565788269043}, {'start': 64, 'end': 80, 'text': 'acute bronchitis', 'label': 'diagnosis', 'score': 0.9137044548988342}, {'start': 141, 'end': 148, 'text': 'patient', 'label': 'person', 'score': 0.6344318985939026}]}, {'Entities': [{'start': 30, 'end': 40, 'text': '3045218628', 'label': 'nhs number', 'score': 0.5300338268280029}, {'start': 56, 'end': 70, 'text': 'Classie Reilly', 'label': 'person', 'score': 0.8939570784568787}, {'start': 86, 'end': 103, 'text': 'November 15, 1968', 'label': 'date of bith', 'score': 0.8461978435516357}, {'start': 105, 'end': 114, 'text': 'DIAGNOSIS', 'label': 'diagnosis', 'score': 0.551479697227478}, {'start': 116, 'end': 157, 'text': 'Chronic intractable migraine without aura', 'label': 'diagnosis', 'score': 0.7031623125076294}, {'start': 159, 'end': 169, 'text': 'Mr. Reilly', 'label': 'person', 'score': 0.7058883905410767}]}, {'Entities': [{'start': 15, 'end': 36, 'text': 'Patient Latonia White', 'label': 'person', 'score': 0.9027599692344666}, {'start': 38, 'end': 59, 'text': 'NHS number 5543667914', 'label': 'nhs number', 'score': 0.9603282809257507}, {'start': 294, 'end': 308, 'text': 'May 10th, 1957', 'label': 'date of bith', 'score': 0.9584944248199463}, {'start': 333, 'end': 350, 'text': 'atopic dermatitis', 'label': 'diagnosis', 'score': 0.9805757403373718}]}, {'Entities': [{'start': 26, 'end': 39, 'text': 'Justin Conroy', 'label': 'person', 'score': 0.936777651309967}, {'start': 40, 'end': 50, 'text': 'NHS Number', 'label': 'nhs number', 'score': 0.715617299079895}, {'start': 52, 'end': 62, 'text': '5485116604', 'label': 'nhs number', 'score': 0.8827168345451355}, {'start': 78, 'end': 94, 'text': 'January 21, 2005', 'label': 'date of bith', 'score': 0.9020747542381287}, {'start': 118, 'end': 134, 'text': 'Acute bronchitis', 'label': 'diagnosis', 'score': 0.8862475752830505}]}, {'Entities': [{'start': 29, 'end': 42, 'text': 'Gabriele Dach', 'label': 'person', 'score': 0.9426289796829224}, {'start': 43, 'end': 53, 'text': 'NHS Number', 'label': 'nhs number', 'score': 0.755535900592804}, {'start': 55, 'end': 65, 'text': '4359344031', 'label': 'nhs number', 'score': 0.8898828625679016}, {'start': 81, 'end': 96, 'text': 'January 4, 1983', 'label': 'date of bith', 'score': 0.922583818435669}, {'start': 120, 'end': 140, 'text': 'Sinusitis (disorder)', 'label': 'diagnosis', 'score': 0.7914438843727112}, {'start': 158, 'end': 174, 'text': 'Nasal congestion', 'label': 'diagnosis', 'score': 0.7554839849472046}, {'start': 344, 'end': 353, 'text': 'sinusitis', 'label': 'diagnosis', 'score': 0.5390470027923584}]}, {'Entities': [{'start': 25, 'end': 42, 'text': 'Dominique Pacocha', 'label': 'person', 'score': 0.9114471673965454}, {'start': 43, 'end': 53, 'text': 'NHS Number', 'label': 'nhs number', 'score': 0.7113736271858215}, {'start': 55, 'end': 65, 'text': '8675706030', 'label': 'nhs number', 'score': 0.9036097526550293}, {'start': 81, 'end': 98, 'text': 'November 28, 1975', 'label': 'date of bith', 'score': 0.7526506781578064}, {'start': 100, 'end': 117, 'text': 'Current Diagnosis', 'label': 'diagnosis', 'score': 0.6092845797538757}, {'start': 119, 'end': 135, 'text': 'Normal Pregnancy', 'label': 'diagnosis', 'score': 0.7765207886695862}]}, {'Entities': [{'start': 26, 'end': 41, 'text': 'Emmitt Bergnaum', 'label': 'person', 'score': 0.9170966744422913}, {'start': 42, 'end': 52, 'text': 'NHS Number', 'label': 'nhs number', 'score': 0.7821583151817322}, {'start': 54, 'end': 64, 'text': '7245181535', 'label': 'nhs number', 'score': 0.8769736289978027}, {'start': 80, 'end': 96, 'text': 'January 13, 1968', 'label': 'date of bith', 'score': 0.9323793649673462}, {'start': 120, 'end': 132, 'text': 'Hypertension', 'label': 'diagnosis', 'score': 0.7416492104530334}, {'start': 875, 'end': 887, 'text': 'hypertension', 'label': 'diagnosis', 'score': 0.5624455213546753}]}, {'Entities': [{'start': 19, 'end': 33, 'text': 'Tyrell Carroll', 'label': 'person', 'score': 0.9033656120300293}, {'start': 36, 'end': 43, 'text': 'Patient', 'label': 'person', 'score': 0.7729082107543945}, {'start': 70, 'end': 85, 'text': 'viral sinusitis', 'label': 'diagnosis', 'score': 0.6516950130462646}, {'start': 148, 'end': 155, 'text': 'Patient', 'label': 'person', 'score': 0.8099290132522583}, {'start': 172, 'end': 182, 'text': '1152258338', 'label': 'nhs number', 'score': 0.9500505328178406}, {'start': 201, 'end': 218, 'text': 'November 14, 2015', 'label': 'date of bith', 'score': 0.9657660126686096}, {'start': 220, 'end': 227, 'text': 'Patient', 'label': 'person', 'score': 0.8432890772819519}, {'start': 243, 'end': 269, 'text': 'viral sinusitis (disorder)', 'label': 'diagnosis', 'score': 0.9028214812278748}]}, {'Entities': [{'start': 15, 'end': 31, 'text': 'Mr. Hassan Dicki', 'label': 'person', 'score': 0.9162455201148987}, {'start': 137, 'end': 147, 'text': '7621367466', 'label': 'nhs number', 'score': 0.971917450428009}, {'start': 167, 'end': 183, 'text': 'March 14th, 1976', 'label': 'date of bith', 'score': 0.9779742360115051}, {'start': 221, 'end': 227, 'text': 'anemia', 'label': 'diagnosis', 'score': 0.8706875443458557}]}, {'Entities': [{'start': 16, 'end': 23, 'text': 'Patient', 'label': 'person', 'score': 0.503994882106781}, {'start': 25, 'end': 39, 'text': 'Flossie Beahan', 'label': 'person', 'score': 0.9527100324630737}, {'start': 40, 'end': 50, 'text': 'NHS Number', 'label': 'nhs number', 'score': 0.8444098234176636}, {'start': 52, 'end': 62, 'text': '6468324335', 'label': 'nhs number', 'score': 0.8843156099319458}, {'start': 78, 'end': 90, 'text': 'July 1, 1950', 'label': 'date of bith', 'score': 0.9189350605010986}, {'start': 103, 'end': 128, 'text': 'Acute bacterial sinusitis', 'label': 'diagnosis', 'score': 0.8174670338630676}]}, {'Entities': [{'start': 29, 'end': 40, 'text': 'Dante Kutch', 'label': 'person', 'score': 0.9372931718826294}, {'start': 41, 'end': 51, 'text': 'NHS Number', 'label': 'nhs number', 'score': 0.742043673992157}, {'start': 53, 'end': 63, 'text': '3237703028', 'label': 'nhs number', 'score': 0.8876473903656006}, {'start': 79, 'end': 91, 'text': 'May 11, 2014', 'label': 'date of bith', 'score': 0.932098925113678}, {'start': 136, 'end': 150, 'text': '9-year-old boy', 'label': 'person', 'score': 0.5383049845695496}, {'start': 295, 'end': 307, 'text': 'Otitis media', 'label': 'diagnosis', 'score': 0.9555305242538452}]}, {'Entities': [{'start': 15, 'end': 30, 'text': 'Margot Baumbach', 'label': 'person', 'score': 0.9503574967384338}, {'start': 78, 'end': 103, 'text': 'streptococcal sore throat', 'label': 'diagnosis', 'score': 0.6820218563079834}, {'start': 121, 'end': 135, 'text': 'March 30, 2010', 'label': 'date of bith', 'score': 0.9665448665618896}, {'start': 159, 'end': 169, 'text': '3523600693', 'label': 'nhs number', 'score': 0.9634358286857605}, {'start': 206, 'end': 217, 'text': 'sore throat', 'label': 'diagnosis', 'score': 0.5185124278068542}, {'start': 249, 'end': 259, 'text': 'mild fever', 'label': 'diagnosis', 'score': 0.5797260403633118}]}, {'Entities': [{'start': 18, 'end': 32, 'text': 'Malia Schinner', 'label': 'person', 'score': 0.9723525643348694}, {'start': 43, 'end': 57, 'text': 'Malia Schinner', 'label': 'person', 'score': 0.9721648097038269}, {'start': 72, 'end': 95, 'text': 'acute viral pharyngitis', 'label': 'diagnosis', 'score': 0.9619378447532654}, {'start': 105, 'end': 119, 'text': 'April 19, 2022', 'label': 'date of bith', 'score': 0.9542878270149231}, {'start': 149, 'end': 159, 'text': '0344555925', 'label': 'nhs number', 'score': 0.9734224081039429}, {'start': 188, 'end': 211, 'text': 'acute viral pharyngitis', 'label': 'diagnosis', 'score': 0.9716408848762512}]}, {'Entities': [{'start': 25, 'end': 44, 'text': 'Guillermina Spencer', 'label': 'person', 'score': 0.95066899061203}, {'start': 45, 'end': 55, 'text': 'NHS Number', 'label': 'nhs number', 'score': 0.8107575178146362}, {'start': 57, 'end': 67, 'text': '6429539903', 'label': 'nhs number', 'score': 0.8634693026542664}, {'start': 83, 'end': 96, 'text': 'June 12, 2016', 'label': 'date of bith', 'score': 0.9191487431526184}]}, {'Entities': [{'start': 25, 'end': 39, 'text': 'Carita Bradtke', 'label': 'person', 'score': 0.9458326697349548}, {'start': 40, 'end': 50, 'text': 'NHS Number', 'label': 'nhs number', 'score': 0.8115085959434509}, {'start': 52, 'end': 62, 'text': '9632601114', 'label': 'nhs number', 'score': 0.9322587847709656}, {'start': 78, 'end': 95, 'text': 'February 13, 1971', 'label': 'date of bith', 'score': 0.8767989873886108}, {'start': 119, 'end': 160, 'text': 'Chronic intractable migraine without aura', 'label': 'diagnosis', 'score': 0.7839775085449219}]}, {'Entities': [{'start': 15, 'end': 28, 'text': 'Nadia Simonis', 'label': 'person', 'score': 0.9629443883895874}, {'start': 133, 'end': 143, 'text': '4686220653', 'label': 'nhs number', 'score': 0.9430861473083496}, {'start': 169, 'end': 186, 'text': 'February 14, 1964', 'label': 'date of bith', 'score': 0.9764469861984253}]}, {'Entities': [{'start': 16, 'end': 23, 'text': 'Patient', 'label': 'person', 'score': 0.7496297359466553}, {'start': 25, 'end': 39, 'text': 'Joey Heathcote', 'label': 'person', 'score': 0.9549964666366577}, {'start': 40, 'end': 50, 'text': 'NHS Number', 'label': 'nhs number', 'score': 0.7744470834732056}, {'start': 52, 'end': 62, 'text': '0986143979', 'label': 'nhs number', 'score': 0.9021902084350586}, {'start': 78, 'end': 90, 'text': 'May 22, 2020', 'label': 'date of bith', 'score': 0.9046556949615479}, {'start': 92, 'end': 107, 'text': 'Chief Complaint', 'label': 'diagnosis', 'score': 0.5318055748939514}, {'start': 109, 'end': 127, 'text': 'Ear pain and fever', 'label': 'diagnosis', 'score': 0.5144648551940918}, {'start': 182, 'end': 189, 'text': 'patient', 'label': 'person', 'score': 0.5458729863166809}, {'start': 223, 'end': 241, 'text': 'ear pain and fever', 'label': 'diagnosis', 'score': 0.5193535089492798}, {'start': 353, 'end': 360, 'text': 'patient', 'label': 'person', 'score': 0.5755105018615723}, {'start': 743, 'end': 755, 'text': 'otitis media', 'label': 'diagnosis', 'score': 0.7375966906547546}, {'start': 773, 'end': 780, 'text': 'patient', 'label': 'person', 'score': 0.5584334135055542}]}, {'Entities': [{'start': 25, 'end': 38, 'text': 'Fausto Conroy', 'label': 'person', 'score': 0.9384713768959045}, {'start': 39, 'end': 49, 'text': 'NHS Number', 'label': 'nhs number', 'score': 0.7808951139450073}, {'start': 51, 'end': 61, 'text': '6934210093', 'label': 'nhs number', 'score': 0.8827253580093384}, {'start': 77, 'end': 90, 'text': 'June 12, 1967', 'label': 'date of bith', 'score': 0.9263109564781189}, {'start': 193, 'end': 210, 'text': 'Anemia (disorder)', 'label': 'diagnosis', 'score': 0.711846113204956}]}, {'Entities': [{'start': 15, 'end': 30, 'text': 'Patient Ji Metz', 'label': 'person', 'score': 0.9310367703437805}, {'start': 136, 'end': 146, 'text': '5933487740', 'label': 'nhs number', 'score': 0.9567644000053406}, {'start': 175, 'end': 189, 'text': 'March 12, 2016', 'label': 'date of bith', 'score': 0.961793839931488}, {'start': 202, 'end': 214, 'text': 'Otitis media', 'label': 'diagnosis', 'score': 0.9834510087966919}]}, {'Entities': [{'start': 16, 'end': 23, 'text': 'Patient', 'label': 'person', 'score': 0.9477574825286865}, {'start': 25, 'end': 49, 'text': 'Angeles Hills\\nNHS Number', 'label': 'nhs number', 'score': 0.7887738347053528}, {'start': 51, 'end': 61, 'text': '7366914703', 'label': 'nhs number', 'score': 0.8646820187568665}, {'start': 77, 'end': 89, 'text': 'May 11, 2013', 'label': 'date of bith', 'score': 0.9276604652404785}, {'start': 109, 'end': 116, 'text': 'patient', 'label': 'person', 'score': 0.9443607330322266}, {'start': 200, 'end': 207, 'text': 'patient', 'label': 'person', 'score': 0.9238210320472717}, {'start': 267, 'end': 301, 'text': 'Acute viral pharyngitis (disorder)', 'label': 'diagnosis', 'score': 0.9130847454071045}, {'start': 455, 'end': 462, 'text': 'patient', 'label': 'person', 'score': 0.9005866646766663}]}, {'Entities': [{'start': 29, 'end': 39, 'text': 'Noel Kunde', 'label': 'person', 'score': 0.9452879428863525}, {'start': 40, 'end': 50, 'text': 'NHS Number', 'label': 'nhs number', 'score': 0.721007227897644}, {'start': 52, 'end': 62, 'text': '6784793773', 'label': 'nhs number', 'score': 0.9317804574966431}, {'start': 78, 'end': 96, 'text': 'September 18, 2017', 'label': 'date of bith', 'score': 0.9287349581718445}, {'start': 180, 'end': 203, 'text': 'fracture of the forearm', 'label': 'diagnosis', 'score': 0.6707720160484314}]}, {'Entities': [{'start': 29, 'end': 45, 'text': 'Theodore Collins', 'label': 'person', 'score': 0.9458652138710022}, {'start': 46, 'end': 56, 'text': 'NHS Number', 'label': 'nhs number', 'score': 0.7493147253990173}, {'start': 58, 'end': 68, 'text': '2572617366', 'label': 'nhs number', 'score': 0.8792635798454285}, {'start': 84, 'end': 101, 'text': 'December 12, 1990', 'label': 'date of bith', 'score': 0.9206965565681458}, {'start': 196, 'end': 222, 'text': 'Viral sinusitis (disorder)', 'label': 'diagnosis', 'score': 0.7616459727287292}, {'start': 242, 'end': 281, 'text': 'Acute exacerbation of chronic sinusitis', 'label': 'diagnosis', 'score': 0.8348683714866638}]}, {'Entities': [{'start': 29, 'end': 44, 'text': 'Ellsworth Lesch', 'label': 'person', 'score': 0.9256552457809448}, {'start': 45, 'end': 55, 'text': 'NHS Number', 'label': 'nhs number', 'score': 0.8031755685806274}, {'start': 57, 'end': 67, 'text': '9049395090', 'label': 'nhs number', 'score': 0.879161536693573}, {'start': 83, 'end': 99, 'text': 'October 17, 2013', 'label': 'date of bith', 'score': 0.9335759878158569}, {'start': 428, 'end': 454, 'text': 'Viral sinusitis (disorder)', 'label': 'diagnosis', 'score': 0.8377180695533752}]}, {'Entities': [{'start': 29, 'end': 45, 'text': 'Christian Kemmer', 'label': 'person', 'score': 0.9651387929916382}, {'start': 46, 'end': 56, 'text': 'NHS Number', 'label': 'nhs number', 'score': 0.7537832856178284}, {'start': 58, 'end': 68, 'text': '5589658454', 'label': 'nhs number', 'score': 0.9015764594078064}, {'start': 84, 'end': 100, 'text': 'January 20, 1999', 'label': 'date of bith', 'score': 0.9447023272514343}, {'start': 242, 'end': 254, 'text': 'appendicitis', 'label': 'diagnosis', 'score': 0.7168258428573608}]}, {'Entities': [{'start': 29, 'end': 46, 'text': 'Shirleen Nikolaus', 'label': 'person', 'score': 0.9483202695846558}, {'start': 47, 'end': 57, 'text': 'NHS Number', 'label': 'nhs number', 'score': 0.7864612340927124}, {'start': 59, 'end': 69, 'text': '2587176336', 'label': 'nhs number', 'score': 0.8615773320198059}, {'start': 85, 'end': 102, 'text': 'December 28, 1990', 'label': 'date of bith', 'score': 0.9290364980697632}, {'start': 118, 'end': 143, 'text': 'Acute bacterial sinusitis', 'label': 'diagnosis', 'score': 0.8742727041244507}]}, {'Entities': [{'start': 29, 'end': 42, 'text': 'Arvilla Mills', 'label': 'person', 'score': 0.798987627029419}, {'start': 43, 'end': 53, 'text': 'NHS Number', 'label': 'nhs number', 'score': 0.7643826603889465}, {'start': 55, 'end': 65, 'text': '5722709921', 'label': 'nhs number', 'score': 0.8914046287536621}, {'start': 81, 'end': 96, 'text': 'October 9, 1995', 'label': 'date of bith', 'score': 0.9215005040168762}, {'start': 112, 'end': 137, 'text': 'Acute bacterial sinusitis', 'label': 'diagnosis', 'score': 0.9146896600723267}, {'start': 160, 'end': 176, 'text': 'Nasal congestion', 'label': 'diagnosis', 'score': 0.550689697265625}]}, {'Entities': [{'start': 26, 'end': 40, 'text': 'Willena Hickle', 'label': 'person', 'score': 0.9330652356147766}, {'start': 41, 'end': 51, 'text': 'NHS Number', 'label': 'nhs number', 'score': 0.7380479574203491}, {'start': 53, 'end': 63, 'text': '0853754519', 'label': 'nhs number', 'score': 0.9341420531272888}, {'start': 79, 'end': 94, 'text': 'August 20, 1985', 'label': 'date of bith', 'score': 0.9290629625320435}, {'start': 218, 'end': 254, 'text': 'Acute bacterial sinusitis (disorder)', 'label': 'diagnosis', 'score': 0.8115902543067932}]}, {'Entities': [{'start': 19, 'end': 31, 'text': 'Blaine Crist', 'label': 'person', 'score': 0.9491608738899231}, {'start': 69, 'end': 96, 'text': 'perennial allergic rhinitis', 'label': 'diagnosis', 'score': 0.8800400495529175}, {'start': 102, 'end': 109, 'text': 'patient', 'label': 'person', 'score': 0.5245522856712341}, {'start': 112, 'end': 122, 'text': 'NHS number', 'label': 'nhs number', 'score': 0.6024402379989624}, {'start': 126, 'end': 136, 'text': '7698276651', 'label': 'nhs number', 'score': 0.9381105303764343}, {'start': 164, 'end': 180, 'text': 'February 4, 1999', 'label': 'date of bith', 'score': 0.9625837206840515}]}, {'Entities': [{'start': 18, 'end': 32, 'text': 'Noah Bergstrom', 'label': 'person', 'score': 0.9345222115516663}, {'start': 57, 'end': 80, 'text': 'acute viral pharyngitis', 'label': 'diagnosis', 'score': 0.9304909706115723}, {'start': 186, 'end': 196, 'text': 'NHS Number', 'label': 'nhs number', 'score': 0.6405054330825806}, {'start': 198, 'end': 208, 'text': '1964511984', 'label': 'nhs number', 'score': 0.9724848866462708}, {'start': 225, 'end': 238, 'text': 'March 9, 2015', 'label': 'date of bith', 'score': 0.941641628742218}, {'start': 293, 'end': 316, 'text': 'Acute viral pharyngitis', 'label': 'diagnosis', 'score': 0.9857510328292847}]}, {'Entities': [{'start': 29, 'end': 40, 'text': 'Ken Monahan', 'label': 'person', 'score': 0.9522152543067932}, {'start': 41, 'end': 51, 'text': 'NHS Number', 'label': 'nhs number', 'score': 0.6656582951545715}, {'start': 53, 'end': 63, 'text': '0966095081', 'label': 'nhs number', 'score': 0.885579526424408}, {'start': 79, 'end': 91, 'text': 'May 13, 1967', 'label': 'date of bith', 'score': 0.9196097254753113}, {'start': 110, 'end': 130, 'text': 'Sinusitis (disorder)', 'label': 'diagnosis', 'score': 0.8204730153083801}]}, {'Entities': [{'start': 15, 'end': 34, 'text': 'Patient Bill Stokes', 'label': 'person', 'score': 0.8794649243354797}, {'start': 36, 'end': 57, 'text': 'NHS number 0616102828', 'label': 'nhs number', 'score': 0.9601791501045227}, {'start': 73, 'end': 88, 'text': 'viral sinusitis', 'label': 'diagnosis', 'score': 0.9539719223976135}, {'start': 98, 'end': 113, 'text': 'March 1st, 2018', 'label': 'date of bith', 'score': 0.9492776393890381}, {'start': 215, 'end': 230, 'text': 'viral sinusitis', 'label': 'diagnosis', 'score': 0.9825050830841064}]}, {'Entities': [{'start': 27, 'end': 41, 'text': 'Carson Dibbert', 'label': 'person', 'score': 0.7050851583480835}, {'start': 153, 'end': 167, 'text': 'March 10, 2023', 'label': 'date of bith', 'score': 0.9164392352104187}, {'start': 687, 'end': 703, 'text': 'acute bronchitis', 'label': 'diagnosis', 'score': 0.7183792591094971}]}, {'Entities': [{'start': 18, 'end': 33, 'text': 'Teofila Koelpin', 'label': 'person', 'score': 0.8951606750488281}, {'start': 36, 'end': 43, 'text': 'Patient', 'label': 'person', 'score': 0.5716243982315063}, {'start': 58, 'end': 73, 'text': 'viral sinusitis', 'label': 'diagnosis', 'score': 0.6575608849525452}, {'start': 148, 'end': 155, 'text': 'Patient', 'label': 'person', 'score': 0.5521115660667419}, {'start': 217, 'end': 221, 'text': '2018', 'label': 'date of bith', 'score': 0.7957006692886353}]}, {'Entities': [{'start': 29, 'end': 44, 'text': 'Tona McLaughlin', 'label': 'person', 'score': 0.9553689956665039}, {'start': 45, 'end': 55, 'text': 'NHS Number', 'label': 'nhs number', 'score': 0.7339197397232056}, {'start': 57, 'end': 67, 'text': '6568766496', 'label': 'nhs number', 'score': 0.8729643821716309}, {'start': 83, 'end': 101, 'text': 'September 13, 2018', 'label': 'date of bith', 'score': 0.9143384099006653}, {'start': 125, 'end': 141, 'text': 'Acute bronchitis', 'label': 'diagnosis', 'score': 0.8768598437309265}]}, {'Entities': [{'start': 29, 'end': 41, 'text': 'Buddy Deckow', 'label': 'person', 'score': 0.8771594166755676}, {'start': 42, 'end': 52, 'text': 'NHS Number', 'label': 'nhs number', 'score': 0.7283013463020325}, {'start': 54, 'end': 64, 'text': '4568437822', 'label': 'nhs number', 'score': 0.9072974324226379}, {'start': 80, 'end': 92, 'text': 'May 20, 2013', 'label': 'date of bith', 'score': 0.9396321177482605}, {'start': 270, 'end': 282, 'text': 'otitis media', 'label': 'diagnosis', 'score': 0.9441430568695068}]}, {'Entities': [{'start': 48, 'end': 62, 'text': 'Roseanne Emard', 'label': 'person', 'score': 0.9678423404693604}, {'start': 218, 'end': 228, 'text': '8564242451', 'label': 'nhs number', 'score': 0.9592047333717346}, {'start': 245, 'end': 259, 'text': 'March 16, 1951', 'label': 'date of bith', 'score': 0.9578471779823303}, {'start': 314, 'end': 326, 'text': 'Appendicitis', 'label': 'diagnosis', 'score': 0.953005313873291}]}, {'Entities': [{'start': 15, 'end': 38, 'text': 'Patient Brandon Reichel', 'label': 'person', 'score': 0.9323135614395142}, {'start': 40, 'end': 61, 'text': 'NHS number 0131793306', 'label': 'nhs number', 'score': 0.9582267999649048}, {'start': 104, 'end': 161, 'text': 'persistent and debilitating chronic migraine without aura', 'label': 'diagnosis', 'score': 0.541247546672821}, {'start': 187, 'end': 205, 'text': 'September 12, 1987', 'label': 'date of bith', 'score': 0.9641284942626953}]}, {'Entities': [{'start': 30, 'end': 37, 'text': 'Aja Toy', 'label': 'person', 'score': 0.9210660457611084}, {'start': 38, 'end': 48, 'text': 'NHS Number', 'label': 'nhs number', 'score': 0.7724773287773132}, {'start': 50, 'end': 60, 'text': '3292335094', 'label': 'nhs number', 'score': 0.9102497696876526}, {'start': 76, 'end': 93, 'text': 'November 11, 1981', 'label': 'date of bith', 'score': 0.9315239787101746}, {'start': 174, 'end': 191, 'text': 'Anemia (disorder)', 'label': 'diagnosis', 'score': 0.8431437015533447}]}, {'Entities': [{'start': 24, 'end': 38, 'text': 'Oralia Tillman', 'label': 'person', 'score': 0.9439263939857483}, {'start': 39, 'end': 49, 'text': 'NHS Number', 'label': 'nhs number', 'score': 0.753699541091919}, {'start': 51, 'end': 61, 'text': '2154291503', 'label': 'nhs number', 'score': 0.9138248562812805}, {'start': 77, 'end': 92, 'text': 'August 10, 1964', 'label': 'date of bith', 'score': 0.8378152251243591}, {'start': 94, 'end': 111, 'text': 'Current Diagnosis', 'label': 'diagnosis', 'score': 0.6614275574684143}, {'start': 113, 'end': 129, 'text': 'Normal pregnancy', 'label': 'diagnosis', 'score': 0.8446709513664246}]}, {'Entities': [{'start': 30, 'end': 45, 'text': 'Mable Dickinson', 'label': 'person', 'score': 0.8855128884315491}, {'start': 46, 'end': 56, 'text': 'NHS Number', 'label': 'nhs number', 'score': 0.7366611957550049}, {'start': 58, 'end': 68, 'text': '5635228453', 'label': 'nhs number', 'score': 0.8711342215538025}, {'start': 84, 'end': 100, 'text': 'November 6, 1958', 'label': 'date of bith', 'score': 0.9249556660652161}, {'start': 116, 'end': 130, 'text': 'Mrs. Dickinson', 'label': 'person', 'score': 0.7363749146461487}, {'start': 192, 'end': 209, 'text': 'mild dyslipidemia', 'label': 'diagnosis', 'score': 0.6985194683074951}, {'start': 481, 'end': 495, 'text': 'Mrs. Dickinson', 'label': 'person', 'score': 0.8877800703048706}]}, {'Entities': [{'start': 24, 'end': 35, 'text': 'Elayne Roob', 'label': 'person', 'score': 0.9281486868858337}, {'start': 36, 'end': 46, 'text': 'NHS Number', 'label': 'nhs number', 'score': 0.8106459379196167}, {'start': 48, 'end': 58, 'text': '6587482465', 'label': 'nhs number', 'score': 0.8708537817001343}, {'start': 74, 'end': 87, 'text': 'July 11, 1970', 'label': 'date of bith', 'score': 0.9129218459129333}, {'start': 111, 'end': 127, 'text': 'Acute bronchitis', 'label': 'diagnosis', 'score': 0.7760054469108582}]}, {'Entities': [{'start': 15, 'end': 22, 'text': 'Patient', 'label': 'person', 'score': 0.5198276042938232}, {'start': 29, 'end': 42, 'text': 'Abbey Hagenes', 'label': 'person', 'score': 0.9259344935417175}, {'start': 43, 'end': 53, 'text': 'NHS Number', 'label': 'nhs number', 'score': 0.7546212077140808}, {'start': 55, 'end': 65, 'text': '6238907444', 'label': 'nhs number', 'score': 0.7722471356391907}, {'start': 81, 'end': 97, 'text': 'October 14, 1941', 'label': 'date of bith', 'score': 0.9228413701057434}, {'start': 116, 'end': 128, 'text': 'Otitis media', 'label': 'diagnosis', 'score': 0.976836621761322}, {'start': 721, 'end': 733, 'text': 'otitis media', 'label': 'diagnosis', 'score': 0.9686029553413391}]}, {'Entities': [{'start': 19, 'end': 28, 'text': 'Otto Yost', 'label': 'person', 'score': 0.8409532308578491}, {'start': 129, 'end': 146, 'text': 'February 26, 1945', 'label': 'date of bith', 'score': 0.9614200592041016}, {'start': 170, 'end': 180, 'text': '7730745593', 'label': 'nhs number', 'score': 0.9766483902931213}, {'start': 199, 'end': 215, 'text': 'acute bronchitis', 'label': 'diagnosis', 'score': 0.9675081372261047}]}] \n",
      "\n",
      "extraction run 1 with config server_model_type='ollama' gliner_features=GlinerFeaturesConfig(gliner_model=None) local_features=LocalFeaturesConfig(hf_repo_id=None, hf_filename=None, prompt_template_path=None) ollama_features=OllamaFeaturesConfig(ollama_ner_model='zeffmuks/universal-ner', prompt_template_path='universal_ner_template.json') entity_list=['person', 'date of bith', 'nhs number', 'diagnosis'] llm_path='../outputs/experiment_0001_14_05_24/generate/generate_0.json' path_output='../outputs/experiment_0001_14_05_24/extraction/extraction_1.json'\n",
      "[{'Entities': [{'start': 29, 'end': 43, 'text': 'Erick Cummings', 'label': 'person', 'score': 1}, {'start': 56, 'end': 66, 'text': '1136099875', 'label': 'nhs number', 'score': 1}, {'start': 360, 'end': 375, 'text': 'viral sinusitis', 'label': 'diagnosis', 'score': 1}]}, {'Entities': [{'start': 23, 'end': 32, 'text': 'Leif Veum', 'label': 'person', 'score': 1}, {'start': 106, 'end': 121, 'text': 'June 26th, 1980', 'label': 'date of bith', 'score': 1}, {'start': 34, 'end': 55, 'text': 'NHS number 7299667363', 'label': 'nhs number', 'score': 1}]}, {'Entities': [{'start': 58, 'end': 68, 'text': '0819789453', 'label': 'nhs number', 'score': 1}, {'start': 346, 'end': 358, 'text': 'Appendicitis', 'label': 'diagnosis', 'score': 1}]}, {'Entities': [{'start': 15, 'end': 26, 'text': 'Mr. Strosin', 'label': 'person', 'score': 1}, {'start': 121, 'end': 125, 'text': '1975', 'label': 'date of bith', 'score': 1}, {'start': 190, 'end': 200, 'text': 'NHS number', 'label': 'nhs number', 'score': 1}]}, {'Entities': [{'start': 29, 'end': 41, 'text': 'Coralee Beer', 'label': 'person', 'score': 1}, {'start': 122, 'end': 134, 'text': 'Coralee Beer', 'label': 'person', 'score': 1}, {'start': 54, 'end': 64, 'text': '3593133113', 'label': 'nhs number', 'score': 1}]}, {'Entities': [{'start': 18, 'end': 39, 'text': 'Patient Stanton Sauer', 'label': 'person', 'score': 1}, {'start': 18, 'end': 25, 'text': 'Patient', 'label': 'person', 'score': 1}, {'start': 42, 'end': 49, 'text': 'Patient', 'label': 'person', 'score': 1}]}, {'Entities': [{'start': 159, 'end': 169, 'text': 'Mr. Reilly', 'label': 'person', 'score': 1}, {'start': 116, 'end': 157, 'text': 'Chronic intractable migraine without aura', 'label': 'diagnosis', 'score': 1}]}, {'Entities': [{'start': 23, 'end': 36, 'text': 'Latonia White', 'label': 'person', 'score': 1}, {'start': 38, 'end': 48, 'text': 'NHS number', 'label': 'nhs number', 'score': 1}, {'start': 333, 'end': 350, 'text': 'atopic dermatitis', 'label': 'diagnosis', 'score': 1}]}, {'Entities': [{'start': 26, 'end': 39, 'text': 'Justin Conroy', 'label': 'person', 'score': 1}, {'start': 78, 'end': 94, 'text': 'January 21, 2005', 'label': 'date of bith', 'score': 1}, {'start': 52, 'end': 62, 'text': '5485116604', 'label': 'nhs number', 'score': 1}, {'start': 118, 'end': 134, 'text': 'Acute bronchitis', 'label': 'diagnosis', 'score': 1}]}, {'Entities': [{'start': 55, 'end': 65, 'text': '4359344031', 'label': 'nhs number', 'score': 1}]}, {'Entities': [{'start': 25, 'end': 42, 'text': 'Dominique Pacocha', 'label': 'person', 'score': 1}, {'start': 55, 'end': 65, 'text': '8675706030', 'label': 'nhs number', 'score': 1}, {'start': 119, 'end': 135, 'text': 'Normal Pregnancy', 'label': 'diagnosis', 'score': 1}]}, {'Entities': [{'start': 26, 'end': 41, 'text': 'Emmitt Bergnaum', 'label': 'person', 'score': 1}, {'start': 80, 'end': 96, 'text': 'January 13, 1968', 'label': 'date of bith', 'score': 1}, {'start': 42, 'end': 52, 'text': 'NHS Number', 'label': 'nhs number', 'score': 1}]}, {'Entities': [{'start': 19, 'end': 33, 'text': 'Tyrell Carroll', 'label': 'person', 'score': 1}, {'start': 184, 'end': 197, 'text': 'date of birth', 'label': 'date of bith', 'score': 1}, {'start': 201, 'end': 218, 'text': 'November 14, 2015', 'label': 'date of bith', 'score': 1}, {'start': 158, 'end': 168, 'text': 'NHS number', 'label': 'nhs number', 'score': 1}, {'start': 70, 'end': 85, 'text': 'viral sinusitis', 'label': 'diagnosis', 'score': 1}, {'start': 243, 'end': 258, 'text': 'viral sinusitis', 'label': 'diagnosis', 'score': 1}, {'start': 260, 'end': 268, 'text': 'disorder', 'label': 'diagnosis', 'score': 1}]}, {'Entities': [{'start': 15, 'end': 31, 'text': 'Mr. Hassan Dicki', 'label': 'person', 'score': 1}, {'start': 167, 'end': 183, 'text': 'March 14th, 1976', 'label': 'date of bith', 'score': 1}, {'start': 123, 'end': 133, 'text': 'NHS number', 'label': 'nhs number', 'score': 1}]}, {'Entities': [{'start': 78, 'end': 90, 'text': 'July 1, 1950', 'label': 'date of bith', 'score': 1}, {'start': 40, 'end': 50, 'text': 'NHS Number', 'label': 'nhs number', 'score': 1}, {'start': 103, 'end': 128, 'text': 'Acute bacterial sinusitis', 'label': 'diagnosis', 'score': 1}]}, {'Entities': [{'start': 29, 'end': 40, 'text': 'Dante Kutch', 'label': 'person', 'score': 1}, {'start': 79, 'end': 91, 'text': 'May 11, 2014', 'label': 'date of bith', 'score': 1}, {'start': 41, 'end': 51, 'text': 'NHS Number', 'label': 'nhs number', 'score': 1}, {'start': 295, 'end': 307, 'text': 'Otitis media', 'label': 'diagnosis', 'score': 1}]}, {'Entities': [{'start': 15, 'end': 30, 'text': 'Margot Baumbach', 'label': 'person', 'score': 1}, {'start': 121, 'end': 135, 'text': 'March 30, 2010', 'label': 'date of bith', 'score': 1}, {'start': 159, 'end': 169, 'text': '3523600693', 'label': 'nhs number', 'score': 1}]}, {'Entities': [{'start': 18, 'end': 32, 'text': 'Malia Schinner', 'label': 'person', 'score': 1}, {'start': 43, 'end': 57, 'text': 'Malia Schinner', 'label': 'person', 'score': 1}, {'start': 149, 'end': 159, 'text': '0344555925', 'label': 'nhs number', 'score': 1}, {'start': 72, 'end': 95, 'text': 'acute viral pharyngitis', 'label': 'diagnosis', 'score': 1}, {'start': 188, 'end': 211, 'text': 'acute viral pharyngitis', 'label': 'diagnosis', 'score': 1}, {'start': 222, 'end': 243, 'text': 'respiratory infection', 'label': 'diagnosis', 'score': 1}]}, {'Entities': [{'start': 57, 'end': 67, 'text': '6429539903', 'label': 'nhs number', 'score': 1}, {'start': 315, 'end': 338, 'text': 'acute viral pharyngitis', 'label': 'diagnosis', 'score': 1}]}, {'Entities': [{'start': 25, 'end': 39, 'text': 'Carita Bradtke', 'label': 'person', 'score': 1}, {'start': 52, 'end': 62, 'text': '9632601114', 'label': 'nhs number', 'score': 1}, {'start': 119, 'end': 160, 'text': 'Chronic intractable migraine without aura', 'label': 'diagnosis', 'score': 1}, {'start': 455, 'end': 464, 'text': 'migraines', 'label': 'diagnosis', 'score': 1}]}, {'Entities': [{'start': 15, 'end': 28, 'text': 'Nadia Simonis', 'label': 'person', 'score': 1}, {'start': 133, 'end': 143, 'text': '4686220653', 'label': 'nhs number', 'score': 1}]}, {'Entities': [{'start': 25, 'end': 39, 'text': 'Joey Heathcote', 'label': 'person', 'score': 1}, {'start': 52, 'end': 62, 'text': '0986143979', 'label': 'nhs number', 'score': 1}, {'start': 743, 'end': 755, 'text': 'otitis media', 'label': 'diagnosis', 'score': 1}]}, {'Entities': [{'start': 25, 'end': 38, 'text': 'Fausto Conroy', 'label': 'person', 'score': 1}, {'start': 51, 'end': 61, 'text': '6934210093', 'label': 'nhs number', 'score': 1}, {'start': 193, 'end': 199, 'text': 'Anemia', 'label': 'diagnosis', 'score': 1}]}, {'Entities': [{'start': 15, 'end': 30, 'text': 'Patient Ji Metz', 'label': 'person', 'score': 1}, {'start': 175, 'end': 189, 'text': 'March 12, 2016', 'label': 'date of bith', 'score': 1}, {'start': 122, 'end': 132, 'text': 'NHS number', 'label': 'nhs number', 'score': 1}, {'start': 136, 'end': 146, 'text': '5933487740', 'label': 'nhs number', 'score': 1}, {'start': 202, 'end': 214, 'text': 'Otitis media', 'label': 'diagnosis', 'score': 1}]}, {'Entities': [{'start': 77, 'end': 89, 'text': 'May 11, 2013', 'label': 'date of bith', 'score': 1}, {'start': 39, 'end': 49, 'text': 'NHS Number', 'label': 'nhs number', 'score': 1}, {'start': 267, 'end': 290, 'text': 'Acute viral pharyngitis', 'label': 'diagnosis', 'score': 1}]}, {'Entities': [{'start': 29, 'end': 39, 'text': 'Noel Kunde', 'label': 'person', 'score': 1}, {'start': 52, 'end': 62, 'text': '6784793773', 'label': 'nhs number', 'score': 1}]}, {'Entities': [{'start': 84, 'end': 101, 'text': 'December 12, 1990', 'label': 'date of bith', 'score': 1}, {'start': 46, 'end': 56, 'text': 'NHS Number', 'label': 'nhs number', 'score': 1}, {'start': 196, 'end': 211, 'text': 'Viral sinusitis', 'label': 'diagnosis', 'score': 1}, {'start': 242, 'end': 281, 'text': 'Acute exacerbation of chronic sinusitis', 'label': 'diagnosis', 'score': 1}]}, {'Entities': [{'start': 29, 'end': 44, 'text': 'Ellsworth Lesch', 'label': 'person', 'score': 1}, {'start': 57, 'end': 67, 'text': '9049395090', 'label': 'nhs number', 'score': 1}, {'start': 428, 'end': 443, 'text': 'Viral sinusitis', 'label': 'diagnosis', 'score': 1}]}, {'Entities': [{'start': 29, 'end': 45, 'text': 'Christian Kemmer', 'label': 'person', 'score': 1}, {'start': 84, 'end': 100, 'text': 'January 20, 1999', 'label': 'date of bith', 'score': 1}, {'start': 58, 'end': 68, 'text': '5589658454', 'label': 'nhs number', 'score': 1}, {'start': 242, 'end': 254, 'text': 'appendicitis', 'label': 'diagnosis', 'score': 1}, {'start': 452, 'end': 465, 'text': 'complications', 'label': 'diagnosis', 'score': 1}]}, {'Entities': [{'start': 59, 'end': 69, 'text': '2587176336', 'label': 'nhs number', 'score': 1}]}, {'Entities': [{'start': 43, 'end': 53, 'text': 'NHS Number', 'label': 'nhs number', 'score': 1}]}, {'Entities': [{'start': 53, 'end': 63, 'text': '0853754519', 'label': 'nhs number', 'score': 1}, {'start': 218, 'end': 243, 'text': 'Acute bacterial sinusitis', 'label': 'diagnosis', 'score': 1}]}, {'Entities': [{'start': 19, 'end': 31, 'text': 'Blaine Crist', 'label': 'person', 'score': 1}, {'start': 196, 'end': 206, 'text': 'given name', 'label': 'person', 'score': 1}, {'start': 227, 'end': 238, 'text': 'family name', 'label': 'person', 'score': 1}, {'start': 164, 'end': 180, 'text': 'February 4, 1999', 'label': 'date of bith', 'score': 1}, {'start': 112, 'end': 122, 'text': 'NHS number', 'label': 'nhs number', 'score': 1}]}, {'Entities': [{'start': 18, 'end': 32, 'text': 'Noah Bergstrom', 'label': 'person', 'score': 1}, {'start': 35, 'end': 42, 'text': 'Patient', 'label': 'person', 'score': 1}, {'start': 186, 'end': 196, 'text': 'NHS Number', 'label': 'nhs number', 'score': 1}, {'start': 293, 'end': 316, 'text': 'Acute viral pharyngitis', 'label': 'diagnosis', 'score': 1}]}, {'Entities': [{'start': 29, 'end': 40, 'text': 'Ken Monahan', 'label': 'person', 'score': 1}, {'start': 53, 'end': 63, 'text': '0966095081', 'label': 'nhs number', 'score': 1}]}, {'Entities': [{'start': 23, 'end': 34, 'text': 'Bill Stokes', 'label': 'person', 'score': 1}, {'start': 98, 'end': 113, 'text': 'March 1st, 2018', 'label': 'date of bith', 'score': 1}, {'start': 36, 'end': 46, 'text': 'NHS number', 'label': 'nhs number', 'score': 1}, {'start': 47, 'end': 57, 'text': '0616102828', 'label': 'nhs number', 'score': 1}, {'start': 73, 'end': 88, 'text': 'viral sinusitis', 'label': 'diagnosis', 'score': 1}, {'start': 215, 'end': 230, 'text': 'viral sinusitis', 'label': 'diagnosis', 'score': 1}]}, {'Entities': [{'start': 44, 'end': 55, 'text': 'Mr. Dibbert', 'label': 'person', 'score': 1}, {'start': 94, 'end': 110, 'text': 'acute bronchitis', 'label': 'diagnosis', 'score': 1}, {'start': 687, 'end': 703, 'text': 'acute bronchitis', 'label': 'diagnosis', 'score': 1}]}, {'Entities': []}, {'Entities': [{'start': 29, 'end': 44, 'text': 'Tona McLaughlin', 'label': 'person', 'score': 1}, {'start': 68, 'end': 81, 'text': 'Date of Birth', 'label': 'date of bith', 'score': 1}, {'start': 45, 'end': 55, 'text': 'NHS Number', 'label': 'nhs number', 'score': 1}]}, {'Entities': [{'start': 80, 'end': 92, 'text': 'May 20, 2013', 'label': 'date of bith', 'score': 1}, {'start': 42, 'end': 52, 'text': 'NHS Number', 'label': 'nhs number', 'score': 1}, {'start': 270, 'end': 282, 'text': 'otitis media', 'label': 'diagnosis', 'score': 1}]}, {'Entities': [{'start': 48, 'end': 62, 'text': 'Roseanne Emard', 'label': 'person', 'score': 1}, {'start': 206, 'end': 216, 'text': 'NHS number', 'label': 'nhs number', 'score': 1}, {'start': 314, 'end': 326, 'text': 'Appendicitis', 'label': 'diagnosis', 'score': 1}]}, {'Entities': [{'start': 23, 'end': 38, 'text': 'Brandon Reichel', 'label': 'person', 'score': 1}, {'start': 187, 'end': 205, 'text': 'September 12, 1987', 'label': 'date of bith', 'score': 1}, {'start': 40, 'end': 50, 'text': 'NHS number', 'label': 'nhs number', 'score': 1}, {'start': 51, 'end': 61, 'text': '0131793306', 'label': 'diagnosis', 'score': 1}]}, {'Entities': [{'start': 30, 'end': 37, 'text': 'Aja Toy', 'label': 'person', 'score': 1}, {'start': 76, 'end': 93, 'text': 'November 11, 1981', 'label': 'date of bith', 'score': 1}, {'start': 50, 'end': 60, 'text': '3292335094', 'label': 'nhs number', 'score': 1}, {'start': 267, 'end': 273, 'text': 'anemia', 'label': 'diagnosis', 'score': 1}]}, {'Entities': [{'start': 24, 'end': 38, 'text': 'Oralia Tillman', 'label': 'person', 'score': 1}, {'start': 62, 'end': 75, 'text': 'Date of Birth', 'label': 'date of bith', 'score': 1}, {'start': 39, 'end': 49, 'text': 'NHS Number', 'label': 'nhs number', 'score': 1}, {'start': 113, 'end': 130, 'text': 'Normal pregnancy.', 'label': 'diagnosis', 'score': 1}]}, {'Entities': [{'start': 30, 'end': 45, 'text': 'Mable Dickinson', 'label': 'person', 'score': 1}, {'start': 46, 'end': 56, 'text': 'NHS Number', 'label': 'nhs number', 'score': 1}]}, {'Entities': [{'start': 24, 'end': 35, 'text': 'Elayne Roob', 'label': 'person', 'score': 1}, {'start': 36, 'end': 46, 'text': 'NHS Number', 'label': 'nhs number', 'score': 1}, {'start': 111, 'end': 127, 'text': 'Acute bronchitis', 'label': 'diagnosis', 'score': 1}]}, {'Entities': [{'start': 29, 'end': 42, 'text': 'Abbey Hagenes', 'label': 'person', 'score': 1}, {'start': 175, 'end': 186, 'text': '80-year-old', 'label': 'person', 'score': 1}, {'start': 55, 'end': 65, 'text': '6238907444', 'label': 'nhs number', 'score': 1}, {'start': 721, 'end': 733, 'text': 'otitis media', 'label': 'diagnosis', 'score': 1}]}, {'Entities': [{'start': 19, 'end': 28, 'text': 'Otto Yost', 'label': 'person', 'score': 1}, {'start': 129, 'end': 146, 'text': 'February 26, 1945', 'label': 'date of bith', 'score': 1}, {'start': 156, 'end': 166, 'text': 'NHS number', 'label': 'nhs number', 'score': 1}, {'start': 199, 'end': 215, 'text': 'acute bronchitis', 'label': 'diagnosis', 'score': 1}]}] \n",
      "\n",
      "extraction run 2 with config server_model_type='local' gliner_features=GlinerFeaturesConfig(gliner_model=None) local_features=LocalFeaturesConfig(hf_repo_id='yuuko-eth/UniNER-7B-all-GGUF', hf_filename='UniversalNER-7B-all-Q4_K_M.gguf', prompt_template_path='universal_ner_template.json') ollama_features=OllamaFeaturesConfig(ollama_ner_model=None, prompt_template_path=None) entity_list=['person', 'date of bith', 'nhs number', 'diagnosis'] llm_path='../outputs/experiment_0001_14_05_24/generate/generate_0.json' path_output='../outputs/experiment_0001_14_05_24/extraction/extraction_2.json'\n",
      "[{'Entities': [{'start': 29, 'end': 43, 'text': 'Erick Cummings', 'label': 'person', 'score': 1}, {'start': 35, 'end': 43, 'text': 'Cummings', 'label': 'person', 'score': 1}, {'start': 119, 'end': 127, 'text': 'Cummings', 'label': 'person', 'score': 1}, {'start': 56, 'end': 66, 'text': '1136099875', 'label': 'nhs number', 'score': 1}, {'start': 399, 'end': 414, 'text': 'Viral sinusitis', 'label': 'diagnosis', 'score': 1}]}, {'Entities': [{'start': 23, 'end': 32, 'text': 'Leif Veum', 'label': 'person', 'score': 1}, {'start': 106, 'end': 121, 'text': 'June 26th, 1980', 'label': 'date of bith', 'score': 1}, {'start': 45, 'end': 55, 'text': '7299667363', 'label': 'nhs number', 'score': 1}, {'start': 71, 'end': 96, 'text': 'acute bacterial sinusitis', 'label': 'diagnosis', 'score': 1}]}, {'Entities': [{'start': 29, 'end': 45, 'text': 'Tanner Armstrong', 'label': 'person', 'score': 1}, {'start': 84, 'end': 96, 'text': 'May 13, 1975', 'label': 'date of bith', 'score': 1}, {'start': 58, 'end': 68, 'text': '0819789453', 'label': 'nhs number', 'score': 1}, {'start': 346, 'end': 358, 'text': 'Appendicitis', 'label': 'diagnosis', 'score': 1}]}, {'Entities': [{'start': 19, 'end': 26, 'text': 'Strosin', 'label': 'person', 'score': 1}, {'start': 121, 'end': 125, 'text': '1975', 'label': 'date of bith', 'score': 1}, {'start': 204, 'end': 214, 'text': '6247446829', 'label': 'nhs number', 'score': 1}, {'start': 41, 'end': 64, 'text': 'acute viral pharyngitis', 'label': 'diagnosis', 'score': 1}, {'start': 83, 'end': 94, 'text': 'sore throat', 'label': 'diagnosis', 'score': 1}, {'start': 99, 'end': 104, 'text': 'fever', 'label': 'diagnosis', 'score': 1}]}, {'Entities': [{'start': 29, 'end': 41, 'text': 'Coralee Beer', 'label': 'person', 'score': 1}, {'start': 122, 'end': 134, 'text': 'Coralee Beer', 'label': 'person', 'score': 1}, {'start': 80, 'end': 98, 'text': 'September 26, 1972', 'label': 'date of bith', 'score': 1}, {'start': 54, 'end': 64, 'text': '3593133113', 'label': 'nhs number', 'score': 1}, {'start': 403, 'end': 423, 'text': 'gestational diabetes', 'label': 'diagnosis', 'score': 1}, {'start': 428, 'end': 440, 'text': 'hypertension', 'label': 'diagnosis', 'score': 1}]}, {'Entities': [{'start': 26, 'end': 39, 'text': 'Stanton Sauer', 'label': 'person', 'score': 1}, {'start': 64, 'end': 80, 'text': 'acute bronchitis', 'label': 'diagnosis', 'score': 1}]}, {'Entities': [{'start': 56, 'end': 70, 'text': 'Classie Reilly', 'label': 'person', 'score': 1}, {'start': 64, 'end': 70, 'text': 'Reilly', 'label': 'person', 'score': 1}, {'start': 163, 'end': 169, 'text': 'Reilly', 'label': 'person', 'score': 1}, {'start': 116, 'end': 157, 'text': 'Chronic intractable migraine without aura', 'label': 'diagnosis', 'score': 1}]}, {'Entities': [{'start': 23, 'end': 36, 'text': 'Latonia White', 'label': 'person', 'score': 1}, {'start': 294, 'end': 308, 'text': 'May 10th, 1957', 'label': 'date of bith', 'score': 1}, {'start': 38, 'end': 59, 'text': 'NHS number 5543667914', 'label': 'nhs number', 'score': 1}, {'start': 333, 'end': 350, 'text': 'atopic dermatitis', 'label': 'diagnosis', 'score': 1}]}, {'Entities': [{'start': 78, 'end': 94, 'text': 'January 21, 2005', 'label': 'date of bith', 'score': 1}, {'start': 52, 'end': 62, 'text': '5485116604', 'label': 'nhs number', 'score': 1}, {'start': 118, 'end': 134, 'text': 'Acute bronchitis', 'label': 'diagnosis', 'score': 1}]}, {'Entities': [{'start': 81, 'end': 96, 'text': 'January 4, 1983', 'label': 'date of bith', 'score': 1}, {'start': 55, 'end': 65, 'text': '4359344031', 'label': 'nhs number', 'score': 1}, {'start': 120, 'end': 129, 'text': 'Sinusitis', 'label': 'diagnosis', 'score': 1}, {'start': 158, 'end': 174, 'text': 'Nasal congestion', 'label': 'diagnosis', 'score': 1}, {'start': 176, 'end': 187, 'text': 'facial pain', 'label': 'diagnosis', 'score': 1}, {'start': 189, 'end': 197, 'text': 'headache', 'label': 'diagnosis', 'score': 1}, {'start': 199, 'end': 210, 'text': 'sore throat', 'label': 'diagnosis', 'score': 1}, {'start': 212, 'end': 217, 'text': 'cough', 'label': 'diagnosis', 'score': 1}, {'start': 606, 'end': 611, 'text': 'cough', 'label': 'diagnosis', 'score': 1}, {'start': 251, 'end': 256, 'text': 'fever', 'label': 'diagnosis', 'score': 1}, {'start': 258, 'end': 268, 'text': 'chest pain', 'label': 'diagnosis', 'score': 1}, {'start': 273, 'end': 293, 'text': 'difficulty breathing', 'label': 'diagnosis', 'score': 1}]}, {'Entities': [{'start': 81, 'end': 98, 'text': 'November 28, 1975', 'label': 'date of bith', 'score': 1}, {'start': 55, 'end': 65, 'text': '8675706030', 'label': 'nhs number', 'score': 1}, {'start': 119, 'end': 135, 'text': 'Normal Pregnancy', 'label': 'diagnosis', 'score': 1}]}, {'Entities': [{'start': 26, 'end': 41, 'text': 'Emmitt Bergnaum', 'label': 'person', 'score': 1}, {'start': 80, 'end': 96, 'text': 'January 13, 1968', 'label': 'date of bith', 'score': 1}, {'start': 54, 'end': 64, 'text': '7245181535', 'label': 'nhs number', 'score': 1}, {'start': 120, 'end': 132, 'text': 'Hypertension', 'label': 'diagnosis', 'score': 1}, {'start': 373, 'end': 384, 'text': 'weight gain', 'label': 'diagnosis', 'score': 1}, {'start': 389, 'end': 405, 'text': 'increased thirst', 'label': 'diagnosis', 'score': 1}]}, {'Entities': [{'start': 19, 'end': 33, 'text': 'Tyrell Carroll', 'label': 'person', 'score': 1}, {'start': 201, 'end': 218, 'text': 'November 14, 2015', 'label': 'date of bith', 'score': 1}, {'start': 172, 'end': 182, 'text': '1152258338', 'label': 'nhs number', 'score': 1}, {'start': 70, 'end': 85, 'text': 'viral sinusitis', 'label': 'diagnosis', 'score': 1}, {'start': 243, 'end': 258, 'text': 'viral sinusitis', 'label': 'diagnosis', 'score': 1}]}, {'Entities': [{'start': 19, 'end': 31, 'text': 'Hassan Dicki', 'label': 'person', 'score': 1}, {'start': 167, 'end': 183, 'text': 'March 14th, 1976', 'label': 'date of bith', 'score': 1}, {'start': 137, 'end': 147, 'text': '7621367466', 'label': 'nhs number', 'score': 1}, {'start': 221, 'end': 227, 'text': 'anemia', 'label': 'diagnosis', 'score': 1}]}, {'Entities': [{'start': 25, 'end': 39, 'text': 'Flossie Beahan', 'label': 'person', 'score': 1}, {'start': 78, 'end': 90, 'text': 'July 1, 1950', 'label': 'date of bith', 'score': 1}, {'start': 40, 'end': 50, 'text': 'NHS Number', 'label': 'nhs number', 'score': 1}, {'start': 103, 'end': 128, 'text': 'Acute bacterial sinusitis', 'label': 'diagnosis', 'score': 1}]}, {'Entities': [{'start': 53, 'end': 63, 'text': '3237703028', 'label': 'nhs number', 'score': 1}, {'start': 295, 'end': 307, 'text': 'Otitis media', 'label': 'diagnosis', 'score': 1}]}, {'Entities': [{'start': 15, 'end': 30, 'text': 'Margot Baumbach', 'label': 'person', 'score': 1}, {'start': 121, 'end': 135, 'text': 'March 30, 2010', 'label': 'date of bith', 'score': 1}, {'start': 159, 'end': 169, 'text': '3523600693', 'label': 'nhs number', 'score': 1}, {'start': 78, 'end': 103, 'text': 'streptococcal sore throat', 'label': 'diagnosis', 'score': 1}, {'start': 92, 'end': 103, 'text': 'sore throat', 'label': 'diagnosis', 'score': 1}, {'start': 206, 'end': 217, 'text': 'sore throat', 'label': 'diagnosis', 'score': 1}, {'start': 223, 'end': 244, 'text': 'difficulty swallowing', 'label': 'diagnosis', 'score': 1}, {'start': 254, 'end': 259, 'text': 'fever', 'label': 'diagnosis', 'score': 1}]}, {'Entities': [{'start': 18, 'end': 32, 'text': 'Malia Schinner', 'label': 'person', 'score': 1}, {'start': 43, 'end': 57, 'text': 'Malia Schinner', 'label': 'person', 'score': 1}, {'start': 105, 'end': 119, 'text': 'April 19, 2022', 'label': 'date of bith', 'score': 1}, {'start': 149, 'end': 159, 'text': '0344555925', 'label': 'nhs number', 'score': 1}, {'start': 72, 'end': 95, 'text': 'acute viral pharyngitis', 'label': 'diagnosis', 'score': 1}, {'start': 188, 'end': 211, 'text': 'acute viral pharyngitis', 'label': 'diagnosis', 'score': 1}, {'start': 222, 'end': 243, 'text': 'respiratory infection', 'label': 'diagnosis', 'score': 1}]}, {'Entities': [{'start': 83, 'end': 96, 'text': 'June 12, 2016', 'label': 'date of bith', 'score': 1}, {'start': 57, 'end': 67, 'text': '6429539903', 'label': 'nhs number', 'score': 1}, {'start': 315, 'end': 338, 'text': 'acute viral pharyngitis', 'label': 'diagnosis', 'score': 1}]}, {'Entities': [{'start': 78, 'end': 95, 'text': 'February 13, 1971', 'label': 'date of bith', 'score': 1}, {'start': 52, 'end': 62, 'text': '9632601114', 'label': 'nhs number', 'score': 1}, {'start': 119, 'end': 160, 'text': 'Chronic intractable migraine without aura', 'label': 'diagnosis', 'score': 1}, {'start': 455, 'end': 464, 'text': 'migraines', 'label': 'diagnosis', 'score': 1}]}, {'Entities': [{'start': 15, 'end': 28, 'text': 'Nadia Simonis', 'label': 'person', 'score': 1}, {'start': 169, 'end': 186, 'text': 'February 14, 1964', 'label': 'date of bith', 'score': 1}]}, {'Entities': [{'start': 78, 'end': 90, 'text': 'May 22, 2020', 'label': 'date of bith', 'score': 1}, {'start': 52, 'end': 62, 'text': '0986143979', 'label': 'nhs number', 'score': 1}, {'start': 743, 'end': 755, 'text': 'otitis media', 'label': 'diagnosis', 'score': 1}]}, {'Entities': [{'start': 77, 'end': 90, 'text': 'June 12, 1967', 'label': 'date of bith', 'score': 1}, {'start': 51, 'end': 61, 'text': '6934210093', 'label': 'nhs number', 'score': 1}, {'start': 193, 'end': 199, 'text': 'Anemia', 'label': 'diagnosis', 'score': 1}]}, {'Entities': [{'start': 23, 'end': 30, 'text': 'Ji Metz', 'label': 'person', 'score': 1}, {'start': 175, 'end': 189, 'text': 'March 12, 2016', 'label': 'date of bith', 'score': 1}, {'start': 136, 'end': 146, 'text': '5933487740', 'label': 'nhs number', 'score': 1}, {'start': 202, 'end': 214, 'text': 'Otitis media', 'label': 'diagnosis', 'score': 1}]}, {'Entities': [{'start': 77, 'end': 89, 'text': 'May 11, 2013', 'label': 'date of bith', 'score': 1}, {'start': 51, 'end': 61, 'text': '7366914703', 'label': 'nhs number', 'score': 1}, {'start': 267, 'end': 290, 'text': 'Acute viral pharyngitis', 'label': 'diagnosis', 'score': 1}]}, {'Entities': [{'start': 78, 'end': 96, 'text': 'September 18, 2017', 'label': 'date of bith', 'score': 1}, {'start': 40, 'end': 50, 'text': 'NHS Number', 'label': 'nhs number', 'score': 1}, {'start': 52, 'end': 62, 'text': '6784793773', 'label': 'nhs number', 'score': 1}]}, {'Entities': [{'start': 29, 'end': 45, 'text': 'Theodore Collins', 'label': 'person', 'score': 1}, {'start': 84, 'end': 101, 'text': 'December 12, 1990', 'label': 'date of bith', 'score': 1}, {'start': 46, 'end': 56, 'text': 'NHS Number', 'label': 'nhs number', 'score': 1}, {'start': 196, 'end': 211, 'text': 'Viral sinusitis', 'label': 'diagnosis', 'score': 1}, {'start': 242, 'end': 281, 'text': 'Acute exacerbation of chronic sinusitis', 'label': 'diagnosis', 'score': 1}]}, {'Entities': [{'start': 29, 'end': 44, 'text': 'Ellsworth Lesch', 'label': 'person', 'score': 1}, {'start': 83, 'end': 99, 'text': 'October 17, 2013', 'label': 'date of bith', 'score': 1}, {'start': 57, 'end': 67, 'text': '9049395090', 'label': 'nhs number', 'score': 1}, {'start': 428, 'end': 443, 'text': 'Viral sinusitis', 'label': 'diagnosis', 'score': 1}]}, {'Entities': [{'start': 84, 'end': 100, 'text': 'January 20, 1999', 'label': 'date of bith', 'score': 1}, {'start': 58, 'end': 68, 'text': '5589658454', 'label': 'nhs number', 'score': 1}, {'start': 242, 'end': 254, 'text': 'appendicitis', 'label': 'diagnosis', 'score': 1}]}, {'Entities': [{'start': 47, 'end': 57, 'text': 'NHS Number', 'label': 'nhs number', 'score': 1}, {'start': 118, 'end': 143, 'text': 'Acute bacterial sinusitis', 'label': 'diagnosis', 'score': 1}]}, {'Entities': [{'start': 81, 'end': 96, 'text': 'October 9, 1995', 'label': 'date of bith', 'score': 1}, {'start': 43, 'end': 53, 'text': 'NHS Number', 'label': 'nhs number', 'score': 1}, {'start': 112, 'end': 137, 'text': 'Acute bacterial sinusitis', 'label': 'diagnosis', 'score': 1}]}, {'Entities': [{'start': 26, 'end': 40, 'text': 'Willena Hickle', 'label': 'person', 'score': 1}, {'start': 79, 'end': 94, 'text': 'August 20, 1985', 'label': 'date of bith', 'score': 1}, {'start': 53, 'end': 63, 'text': '0853754519', 'label': 'nhs number', 'score': 1}, {'start': 218, 'end': 243, 'text': 'Acute bacterial sinusitis', 'label': 'diagnosis', 'score': 1}]}, {'Entities': [{'start': 19, 'end': 31, 'text': 'Blaine Crist', 'label': 'person', 'score': 1}, {'start': 19, 'end': 25, 'text': 'Blaine', 'label': 'person', 'score': 1}, {'start': 210, 'end': 216, 'text': 'Blaine', 'label': 'person', 'score': 1}, {'start': 26, 'end': 31, 'text': 'Crist', 'label': 'person', 'score': 1}, {'start': 242, 'end': 247, 'text': 'Crist', 'label': 'person', 'score': 1}, {'start': 164, 'end': 180, 'text': 'February 4, 1999', 'label': 'date of bith', 'score': 1}, {'start': 126, 'end': 136, 'text': '7698276651', 'label': 'nhs number', 'score': 1}]}, {'Entities': [{'start': 18, 'end': 32, 'text': 'Noah Bergstrom', 'label': 'person', 'score': 1}, {'start': 18, 'end': 22, 'text': 'Noah', 'label': 'person', 'score': 1}, {'start': 252, 'end': 256, 'text': 'Noah', 'label': 'person', 'score': 1}, {'start': 210, 'end': 223, 'text': 'Date of Birth', 'label': 'date of bith', 'score': 1}, {'start': 198, 'end': 208, 'text': '1964511984', 'label': 'nhs number', 'score': 1}, {'start': 57, 'end': 80, 'text': 'acute viral pharyngitis', 'label': 'diagnosis', 'score': 1}]}, {'Entities': [{'start': 79, 'end': 91, 'text': 'May 13, 1967', 'label': 'date of bith', 'score': 1}, {'start': 53, 'end': 63, 'text': '0966095081', 'label': 'nhs number', 'score': 1}, {'start': 110, 'end': 119, 'text': 'Sinusitis', 'label': 'diagnosis', 'score': 1}, {'start': 503, 'end': 509, 'text': 'asthma', 'label': 'diagnosis', 'score': 1}]}, {'Entities': [{'start': 23, 'end': 34, 'text': 'Bill Stokes', 'label': 'person', 'score': 1}, {'start': 28, 'end': 34, 'text': 'Stokes', 'label': 'person', 'score': 1}, {'start': 119, 'end': 125, 'text': 'Stokes', 'label': 'person', 'score': 1}, {'start': 98, 'end': 113, 'text': 'March 1st, 2018', 'label': 'date of bith', 'score': 1}, {'start': 47, 'end': 57, 'text': '0616102828', 'label': 'nhs number', 'score': 1}, {'start': 73, 'end': 88, 'text': 'viral sinusitis', 'label': 'diagnosis', 'score': 1}, {'start': 215, 'end': 230, 'text': 'viral sinusitis', 'label': 'diagnosis', 'score': 1}]}, {'Entities': [{'start': 94, 'end': 110, 'text': 'acute bronchitis', 'label': 'diagnosis', 'score': 1}, {'start': 687, 'end': 703, 'text': 'acute bronchitis', 'label': 'diagnosis', 'score': 1}]}, {'Entities': [{'start': 58, 'end': 73, 'text': 'viral sinusitis', 'label': 'diagnosis', 'score': 1}, {'start': 64, 'end': 73, 'text': 'sinusitis', 'label': 'diagnosis', 'score': 1}, {'start': 204, 'end': 213, 'text': 'sinusitis', 'label': 'diagnosis', 'score': 1}, {'start': 377, 'end': 392, 'text': 'viral infection', 'label': 'diagnosis', 'score': 1}]}, {'Entities': [{'start': 29, 'end': 44, 'text': 'Tona McLaughlin', 'label': 'person', 'score': 1}, {'start': 83, 'end': 101, 'text': 'September 13, 2018', 'label': 'date of bith', 'score': 1}, {'start': 57, 'end': 67, 'text': '6568766496', 'label': 'nhs number', 'score': 1}, {'start': 125, 'end': 141, 'text': 'Acute bronchitis', 'label': 'diagnosis', 'score': 1}, {'start': 171, 'end': 176, 'text': 'Cough', 'label': 'diagnosis', 'score': 1}, {'start': 181, 'end': 200, 'text': 'shortness of breath', 'label': 'diagnosis', 'score': 1}]}, {'Entities': [{'start': 29, 'end': 41, 'text': 'Buddy Deckow', 'label': 'person', 'score': 1}, {'start': 35, 'end': 41, 'text': 'Deckow', 'label': 'person', 'score': 1}, {'start': 112, 'end': 118, 'text': 'Deckow', 'label': 'person', 'score': 1}, {'start': 80, 'end': 92, 'text': 'May 20, 2013', 'label': 'date of bith', 'score': 1}, {'start': 54, 'end': 64, 'text': '4568437822', 'label': 'nhs number', 'score': 1}, {'start': 270, 'end': 282, 'text': 'otitis media', 'label': 'diagnosis', 'score': 1}]}, {'Entities': [{'start': 48, 'end': 62, 'text': 'Roseanne Emard', 'label': 'person', 'score': 1}, {'start': 48, 'end': 56, 'text': 'Roseanne', 'label': 'person', 'score': 1}, {'start': 273, 'end': 281, 'text': 'Roseanne', 'label': 'person', 'score': 1}, {'start': 57, 'end': 62, 'text': 'Emard', 'label': 'person', 'score': 1}, {'start': 296, 'end': 301, 'text': 'Emard', 'label': 'person', 'score': 1}, {'start': 245, 'end': 259, 'text': 'March 16, 1951', 'label': 'date of bith', 'score': 1}, {'start': 218, 'end': 228, 'text': '8564242451', 'label': 'nhs number', 'score': 1}, {'start': 314, 'end': 326, 'text': 'Appendicitis', 'label': 'diagnosis', 'score': 1}]}, {'Entities': [{'start': 23, 'end': 38, 'text': 'Brandon Reichel', 'label': 'person', 'score': 1}, {'start': 187, 'end': 205, 'text': 'September 12, 1987', 'label': 'date of bith', 'score': 1}, {'start': 51, 'end': 61, 'text': '0131793306', 'label': 'nhs number', 'score': 1}, {'start': 140, 'end': 161, 'text': 'migraine without aura', 'label': 'diagnosis', 'score': 1}]}, {'Entities': [{'start': 76, 'end': 93, 'text': 'November 11, 1981', 'label': 'date of bith', 'score': 1}, {'start': 50, 'end': 60, 'text': '3292335094', 'label': 'nhs number', 'score': 1}, {'start': 174, 'end': 180, 'text': 'Anemia', 'label': 'diagnosis', 'score': 1}]}, {'Entities': [{'start': 77, 'end': 92, 'text': 'August 10, 1964', 'label': 'date of bith', 'score': 1}, {'start': 51, 'end': 61, 'text': '2154291503', 'label': 'nhs number', 'score': 1}]}, {'Entities': [{'start': 30, 'end': 45, 'text': 'Mable Dickinson', 'label': 'person', 'score': 1}, {'start': 58, 'end': 68, 'text': '5635228453', 'label': 'nhs number', 'score': 1}, {'start': 197, 'end': 209, 'text': 'dyslipidemia', 'label': 'diagnosis', 'score': 1}, {'start': 247, 'end': 254, 'text': 'fatigue', 'label': 'diagnosis', 'score': 1}, {'start': 259, 'end': 267, 'text': 'weakness', 'label': 'diagnosis', 'score': 1}, {'start': 330, 'end': 340, 'text': 'chest pain', 'label': 'diagnosis', 'score': 1}, {'start': 344, 'end': 364, 'text': 'difficulty breathing', 'label': 'diagnosis', 'score': 1}, {'start': 498, 'end': 512, 'text': 'hyperlipidemia', 'label': 'diagnosis', 'score': 1}]}, {'Entities': [{'start': 24, 'end': 35, 'text': 'Elayne Roob', 'label': 'person', 'score': 1}, {'start': 74, 'end': 87, 'text': 'July 11, 1970', 'label': 'date of bith', 'score': 1}, {'start': 48, 'end': 58, 'text': '6587482465', 'label': 'nhs number', 'score': 1}, {'start': 111, 'end': 127, 'text': 'Acute bronchitis', 'label': 'diagnosis', 'score': 1}, {'start': 156, 'end': 161, 'text': 'Cough', 'label': 'diagnosis', 'score': 1}, {'start': 163, 'end': 168, 'text': 'fever', 'label': 'diagnosis', 'score': 1}, {'start': 170, 'end': 185, 'text': 'chest tightness', 'label': 'diagnosis', 'score': 1}, {'start': 229, 'end': 244, 'text': 'chest tightness', 'label': 'diagnosis', 'score': 1}]}, {'Entities': [{'start': 29, 'end': 42, 'text': 'Abbey Hagenes', 'label': 'person', 'score': 1}, {'start': 43, 'end': 53, 'text': 'NHS Number', 'label': 'nhs number', 'score': 1}, {'start': 721, 'end': 733, 'text': 'otitis media', 'label': 'diagnosis', 'score': 1}, {'start': 224, 'end': 232, 'text': 'ear pain', 'label': 'diagnosis', 'score': 1}, {'start': 237, 'end': 255, 'text': 'difficulty hearing', 'label': 'diagnosis', 'score': 1}, {'start': 536, 'end': 554, 'text': 'difficulty hearing', 'label': 'diagnosis', 'score': 1}, {'start': 429, 'end': 443, 'text': 'ear infections', 'label': 'diagnosis', 'score': 1}]}, {'Entities': [{'start': 19, 'end': 28, 'text': 'Otto Yost', 'label': 'person', 'score': 1}, {'start': 129, 'end': 146, 'text': 'February 26, 1945', 'label': 'date of bith', 'score': 1}, {'start': 170, 'end': 180, 'text': '7730745593', 'label': 'nhs number', 'score': 1}, {'start': 199, 'end': 215, 'text': 'acute bronchitis', 'label': 'diagnosis', 'score': 1}, {'start': 245, 'end': 280, 'text': 'inflammation of the bronchial tubes', 'label': 'diagnosis', 'score': 1}]}] \n",
      "\n"
     ]
    }
   ],
   "source": [
    "config_handler.run_component_experiment_config(component_type=\"extraction\")"
   ]
  },
  {
   "cell_type": "markdown",
   "metadata": {},
   "source": [
    "## Visualising the Experiment Workflow\n",
    "\n",
    "This method on the config handler allows a user to inspect their workflows data. This allows the user to get an idea of which configuration type runs into which output type."
   ]
  },
  {
   "cell_type": "code",
   "execution_count": 13,
   "metadata": {},
   "outputs": [
    {
     "data": {
      "application/vnd.plotly.v1+json": {
       "config": {
        "plotlyServerURL": "https://plot.ly"
       },
       "data": [
        {
         "hoverinfo": "none",
         "line": {
          "color": "gray",
          "width": 1
         },
         "mode": "lines",
         "type": "scatter",
         "x": [
          0,
          1,
          null,
          1,
          2,
          null,
          1,
          2,
          null,
          1,
          2,
          null,
          1,
          2,
          null,
          1,
          2,
          null,
          1,
          2,
          null
         ],
         "y": [
          1,
          1,
          null,
          1,
          6,
          null,
          1,
          4,
          null,
          1,
          2,
          null,
          1,
          0,
          null,
          1,
          -2,
          null,
          1,
          -4,
          null
         ]
        },
        {
         "hoverinfo": "text",
         "hovertext": [
          "{'extraction.entity_list': ['person', 'name', 'hero'], 'extraction.server_model_type': 'gliner'}",
          "{'extraction.entity_list': ['person', 'name', 'hero'], 'extraction.server_model_type': 'ollama'}",
          "{'extraction.entity_list': ['person', 'name', 'hero'], 'extraction.server_model_type': 'local'}",
          "{'extraction.entity_list': ['person', 'date of birth', 'title'], 'extraction.server_model_type': 'gliner'}",
          "{'extraction.entity_list': ['person', 'date of birth', 'title'], 'extraction.server_model_type': 'ollama'}",
          "{'extraction.entity_list': ['person', 'date of birth', 'title'], 'extraction.server_model_type': 'local'}",
          "{}",
          "{}"
         ],
         "marker": {
          "color": "skyblue",
          "line": {
           "width": 2
          },
          "showscale": false,
          "size": 10
         },
         "mode": "markers+text",
         "text": [
          "extraction_0",
          "extraction_1",
          "extraction_2",
          "extraction_3",
          "extraction_4",
          "extraction_5",
          "generate_0",
          "synthea_0"
         ],
         "textposition": "top center",
         "type": "scatter",
         "x": [
          2,
          2,
          2,
          2,
          2,
          2,
          1,
          0
         ],
         "y": [
          6,
          4,
          2,
          0,
          -2,
          -4,
          1,
          1
         ]
        }
       ],
       "layout": {
        "annotations": [
         {
          "showarrow": false,
          "text": "",
          "x": 0.005,
          "xref": "paper",
          "y": -0.002,
          "yref": "paper"
         }
        ],
        "height": 600,
        "hovermode": "closest",
        "showlegend": false,
        "template": {
         "data": {
          "bar": [
           {
            "error_x": {
             "color": "#2a3f5f"
            },
            "error_y": {
             "color": "#2a3f5f"
            },
            "marker": {
             "line": {
              "color": "#E5ECF6",
              "width": 0.5
             },
             "pattern": {
              "fillmode": "overlay",
              "size": 10,
              "solidity": 0.2
             }
            },
            "type": "bar"
           }
          ],
          "barpolar": [
           {
            "marker": {
             "line": {
              "color": "#E5ECF6",
              "width": 0.5
             },
             "pattern": {
              "fillmode": "overlay",
              "size": 10,
              "solidity": 0.2
             }
            },
            "type": "barpolar"
           }
          ],
          "carpet": [
           {
            "aaxis": {
             "endlinecolor": "#2a3f5f",
             "gridcolor": "white",
             "linecolor": "white",
             "minorgridcolor": "white",
             "startlinecolor": "#2a3f5f"
            },
            "baxis": {
             "endlinecolor": "#2a3f5f",
             "gridcolor": "white",
             "linecolor": "white",
             "minorgridcolor": "white",
             "startlinecolor": "#2a3f5f"
            },
            "type": "carpet"
           }
          ],
          "choropleth": [
           {
            "colorbar": {
             "outlinewidth": 0,
             "ticks": ""
            },
            "type": "choropleth"
           }
          ],
          "contour": [
           {
            "colorbar": {
             "outlinewidth": 0,
             "ticks": ""
            },
            "colorscale": [
             [
              0,
              "#0d0887"
             ],
             [
              0.1111111111111111,
              "#46039f"
             ],
             [
              0.2222222222222222,
              "#7201a8"
             ],
             [
              0.3333333333333333,
              "#9c179e"
             ],
             [
              0.4444444444444444,
              "#bd3786"
             ],
             [
              0.5555555555555556,
              "#d8576b"
             ],
             [
              0.6666666666666666,
              "#ed7953"
             ],
             [
              0.7777777777777778,
              "#fb9f3a"
             ],
             [
              0.8888888888888888,
              "#fdca26"
             ],
             [
              1,
              "#f0f921"
             ]
            ],
            "type": "contour"
           }
          ],
          "contourcarpet": [
           {
            "colorbar": {
             "outlinewidth": 0,
             "ticks": ""
            },
            "type": "contourcarpet"
           }
          ],
          "heatmap": [
           {
            "colorbar": {
             "outlinewidth": 0,
             "ticks": ""
            },
            "colorscale": [
             [
              0,
              "#0d0887"
             ],
             [
              0.1111111111111111,
              "#46039f"
             ],
             [
              0.2222222222222222,
              "#7201a8"
             ],
             [
              0.3333333333333333,
              "#9c179e"
             ],
             [
              0.4444444444444444,
              "#bd3786"
             ],
             [
              0.5555555555555556,
              "#d8576b"
             ],
             [
              0.6666666666666666,
              "#ed7953"
             ],
             [
              0.7777777777777778,
              "#fb9f3a"
             ],
             [
              0.8888888888888888,
              "#fdca26"
             ],
             [
              1,
              "#f0f921"
             ]
            ],
            "type": "heatmap"
           }
          ],
          "heatmapgl": [
           {
            "colorbar": {
             "outlinewidth": 0,
             "ticks": ""
            },
            "colorscale": [
             [
              0,
              "#0d0887"
             ],
             [
              0.1111111111111111,
              "#46039f"
             ],
             [
              0.2222222222222222,
              "#7201a8"
             ],
             [
              0.3333333333333333,
              "#9c179e"
             ],
             [
              0.4444444444444444,
              "#bd3786"
             ],
             [
              0.5555555555555556,
              "#d8576b"
             ],
             [
              0.6666666666666666,
              "#ed7953"
             ],
             [
              0.7777777777777778,
              "#fb9f3a"
             ],
             [
              0.8888888888888888,
              "#fdca26"
             ],
             [
              1,
              "#f0f921"
             ]
            ],
            "type": "heatmapgl"
           }
          ],
          "histogram": [
           {
            "marker": {
             "pattern": {
              "fillmode": "overlay",
              "size": 10,
              "solidity": 0.2
             }
            },
            "type": "histogram"
           }
          ],
          "histogram2d": [
           {
            "colorbar": {
             "outlinewidth": 0,
             "ticks": ""
            },
            "colorscale": [
             [
              0,
              "#0d0887"
             ],
             [
              0.1111111111111111,
              "#46039f"
             ],
             [
              0.2222222222222222,
              "#7201a8"
             ],
             [
              0.3333333333333333,
              "#9c179e"
             ],
             [
              0.4444444444444444,
              "#bd3786"
             ],
             [
              0.5555555555555556,
              "#d8576b"
             ],
             [
              0.6666666666666666,
              "#ed7953"
             ],
             [
              0.7777777777777778,
              "#fb9f3a"
             ],
             [
              0.8888888888888888,
              "#fdca26"
             ],
             [
              1,
              "#f0f921"
             ]
            ],
            "type": "histogram2d"
           }
          ],
          "histogram2dcontour": [
           {
            "colorbar": {
             "outlinewidth": 0,
             "ticks": ""
            },
            "colorscale": [
             [
              0,
              "#0d0887"
             ],
             [
              0.1111111111111111,
              "#46039f"
             ],
             [
              0.2222222222222222,
              "#7201a8"
             ],
             [
              0.3333333333333333,
              "#9c179e"
             ],
             [
              0.4444444444444444,
              "#bd3786"
             ],
             [
              0.5555555555555556,
              "#d8576b"
             ],
             [
              0.6666666666666666,
              "#ed7953"
             ],
             [
              0.7777777777777778,
              "#fb9f3a"
             ],
             [
              0.8888888888888888,
              "#fdca26"
             ],
             [
              1,
              "#f0f921"
             ]
            ],
            "type": "histogram2dcontour"
           }
          ],
          "mesh3d": [
           {
            "colorbar": {
             "outlinewidth": 0,
             "ticks": ""
            },
            "type": "mesh3d"
           }
          ],
          "parcoords": [
           {
            "line": {
             "colorbar": {
              "outlinewidth": 0,
              "ticks": ""
             }
            },
            "type": "parcoords"
           }
          ],
          "pie": [
           {
            "automargin": true,
            "type": "pie"
           }
          ],
          "scatter": [
           {
            "fillpattern": {
             "fillmode": "overlay",
             "size": 10,
             "solidity": 0.2
            },
            "type": "scatter"
           }
          ],
          "scatter3d": [
           {
            "line": {
             "colorbar": {
              "outlinewidth": 0,
              "ticks": ""
             }
            },
            "marker": {
             "colorbar": {
              "outlinewidth": 0,
              "ticks": ""
             }
            },
            "type": "scatter3d"
           }
          ],
          "scattercarpet": [
           {
            "marker": {
             "colorbar": {
              "outlinewidth": 0,
              "ticks": ""
             }
            },
            "type": "scattercarpet"
           }
          ],
          "scattergeo": [
           {
            "marker": {
             "colorbar": {
              "outlinewidth": 0,
              "ticks": ""
             }
            },
            "type": "scattergeo"
           }
          ],
          "scattergl": [
           {
            "marker": {
             "colorbar": {
              "outlinewidth": 0,
              "ticks": ""
             }
            },
            "type": "scattergl"
           }
          ],
          "scattermapbox": [
           {
            "marker": {
             "colorbar": {
              "outlinewidth": 0,
              "ticks": ""
             }
            },
            "type": "scattermapbox"
           }
          ],
          "scatterpolar": [
           {
            "marker": {
             "colorbar": {
              "outlinewidth": 0,
              "ticks": ""
             }
            },
            "type": "scatterpolar"
           }
          ],
          "scatterpolargl": [
           {
            "marker": {
             "colorbar": {
              "outlinewidth": 0,
              "ticks": ""
             }
            },
            "type": "scatterpolargl"
           }
          ],
          "scatterternary": [
           {
            "marker": {
             "colorbar": {
              "outlinewidth": 0,
              "ticks": ""
             }
            },
            "type": "scatterternary"
           }
          ],
          "surface": [
           {
            "colorbar": {
             "outlinewidth": 0,
             "ticks": ""
            },
            "colorscale": [
             [
              0,
              "#0d0887"
             ],
             [
              0.1111111111111111,
              "#46039f"
             ],
             [
              0.2222222222222222,
              "#7201a8"
             ],
             [
              0.3333333333333333,
              "#9c179e"
             ],
             [
              0.4444444444444444,
              "#bd3786"
             ],
             [
              0.5555555555555556,
              "#d8576b"
             ],
             [
              0.6666666666666666,
              "#ed7953"
             ],
             [
              0.7777777777777778,
              "#fb9f3a"
             ],
             [
              0.8888888888888888,
              "#fdca26"
             ],
             [
              1,
              "#f0f921"
             ]
            ],
            "type": "surface"
           }
          ],
          "table": [
           {
            "cells": {
             "fill": {
              "color": "#EBF0F8"
             },
             "line": {
              "color": "white"
             }
            },
            "header": {
             "fill": {
              "color": "#C8D4E3"
             },
             "line": {
              "color": "white"
             }
            },
            "type": "table"
           }
          ]
         },
         "layout": {
          "annotationdefaults": {
           "arrowcolor": "#2a3f5f",
           "arrowhead": 0,
           "arrowwidth": 1
          },
          "autotypenumbers": "strict",
          "coloraxis": {
           "colorbar": {
            "outlinewidth": 0,
            "ticks": ""
           }
          },
          "colorscale": {
           "diverging": [
            [
             0,
             "#8e0152"
            ],
            [
             0.1,
             "#c51b7d"
            ],
            [
             0.2,
             "#de77ae"
            ],
            [
             0.3,
             "#f1b6da"
            ],
            [
             0.4,
             "#fde0ef"
            ],
            [
             0.5,
             "#f7f7f7"
            ],
            [
             0.6,
             "#e6f5d0"
            ],
            [
             0.7,
             "#b8e186"
            ],
            [
             0.8,
             "#7fbc41"
            ],
            [
             0.9,
             "#4d9221"
            ],
            [
             1,
             "#276419"
            ]
           ],
           "sequential": [
            [
             0,
             "#0d0887"
            ],
            [
             0.1111111111111111,
             "#46039f"
            ],
            [
             0.2222222222222222,
             "#7201a8"
            ],
            [
             0.3333333333333333,
             "#9c179e"
            ],
            [
             0.4444444444444444,
             "#bd3786"
            ],
            [
             0.5555555555555556,
             "#d8576b"
            ],
            [
             0.6666666666666666,
             "#ed7953"
            ],
            [
             0.7777777777777778,
             "#fb9f3a"
            ],
            [
             0.8888888888888888,
             "#fdca26"
            ],
            [
             1,
             "#f0f921"
            ]
           ],
           "sequentialminus": [
            [
             0,
             "#0d0887"
            ],
            [
             0.1111111111111111,
             "#46039f"
            ],
            [
             0.2222222222222222,
             "#7201a8"
            ],
            [
             0.3333333333333333,
             "#9c179e"
            ],
            [
             0.4444444444444444,
             "#bd3786"
            ],
            [
             0.5555555555555556,
             "#d8576b"
            ],
            [
             0.6666666666666666,
             "#ed7953"
            ],
            [
             0.7777777777777778,
             "#fb9f3a"
            ],
            [
             0.8888888888888888,
             "#fdca26"
            ],
            [
             1,
             "#f0f921"
            ]
           ]
          },
          "colorway": [
           "#636efa",
           "#EF553B",
           "#00cc96",
           "#ab63fa",
           "#FFA15A",
           "#19d3f3",
           "#FF6692",
           "#B6E880",
           "#FF97FF",
           "#FECB52"
          ],
          "font": {
           "color": "#2a3f5f"
          },
          "geo": {
           "bgcolor": "white",
           "lakecolor": "white",
           "landcolor": "#E5ECF6",
           "showlakes": true,
           "showland": true,
           "subunitcolor": "white"
          },
          "hoverlabel": {
           "align": "left"
          },
          "hovermode": "closest",
          "mapbox": {
           "style": "light"
          },
          "paper_bgcolor": "white",
          "plot_bgcolor": "#E5ECF6",
          "polar": {
           "angularaxis": {
            "gridcolor": "white",
            "linecolor": "white",
            "ticks": ""
           },
           "bgcolor": "#E5ECF6",
           "radialaxis": {
            "gridcolor": "white",
            "linecolor": "white",
            "ticks": ""
           }
          },
          "scene": {
           "xaxis": {
            "backgroundcolor": "#E5ECF6",
            "gridcolor": "white",
            "gridwidth": 2,
            "linecolor": "white",
            "showbackground": true,
            "ticks": "",
            "zerolinecolor": "white"
           },
           "yaxis": {
            "backgroundcolor": "#E5ECF6",
            "gridcolor": "white",
            "gridwidth": 2,
            "linecolor": "white",
            "showbackground": true,
            "ticks": "",
            "zerolinecolor": "white"
           },
           "zaxis": {
            "backgroundcolor": "#E5ECF6",
            "gridcolor": "white",
            "gridwidth": 2,
            "linecolor": "white",
            "showbackground": true,
            "ticks": "",
            "zerolinecolor": "white"
           }
          },
          "shapedefaults": {
           "line": {
            "color": "#2a3f5f"
           }
          },
          "ternary": {
           "aaxis": {
            "gridcolor": "white",
            "linecolor": "white",
            "ticks": ""
           },
           "baxis": {
            "gridcolor": "white",
            "linecolor": "white",
            "ticks": ""
           },
           "bgcolor": "#E5ECF6",
           "caxis": {
            "gridcolor": "white",
            "linecolor": "white",
            "ticks": ""
           }
          },
          "title": {
           "x": 0.05
          },
          "xaxis": {
           "automargin": true,
           "gridcolor": "white",
           "linecolor": "white",
           "ticks": "",
           "title": {
            "standoff": 15
           },
           "zerolinecolor": "white",
           "zerolinewidth": 2
          },
          "yaxis": {
           "automargin": true,
           "gridcolor": "white",
           "linecolor": "white",
           "ticks": "",
           "title": {
            "standoff": 15
           },
           "zerolinecolor": "white",
           "zerolinewidth": 2
          }
         }
        },
        "title": {
         "font": {
          "size": 16
         },
         "text": "Experimental Pipeline"
        },
        "width": 800,
        "xaxis": {
         "showgrid": false,
         "showline": false,
         "showticklabels": false,
         "zeroline": false
        },
        "yaxis": {
         "showgrid": false,
         "showline": false,
         "showticklabels": false,
         "zeroline": false
        }
       }
      }
     },
     "metadata": {},
     "output_type": "display_data"
    }
   ],
   "source": [
    "config_handler.load_pipeline_visualisation()"
   ]
  },
  {
   "cell_type": "markdown",
   "metadata": {},
   "source": [
    "## Reload the Data\n",
    "\n",
    "By using the above workflow, you can then specify which data you would like to reload back into the notebook."
   ]
  },
  {
   "cell_type": "code",
   "execution_count": 10,
   "metadata": {},
   "outputs": [
    {
     "data": {
      "text/plain": [
       "['Clinical Note:\\nPatient Name: Erick Cummings\\nNHS Number: 1136099875\\nDate of Birth: November 26, 1992\\n\\nPresentation: Mr. Cummings presented to the clinic with a 3-day history of nasal congestion, sneezing, and a mild fever. He reported difficulty breathing through his nose and experienced some facial pain. His medical history includes allergies and a previous viral sinusitis diagnosis.\\n\\nDiagnosis: Viral sinusitis (disorder)\\n\\nPlan: Recommended treatment includes nasal decongestants, antihistamines, and saline nasal sprays to help manage symptoms. Follow-up appointment scheduled for one week to monitor progress.',\n",
       " 'Clinical Note:\\nPatient Leif Veum, NHS number 7299667363, presents with acute bacterial sinusitis. Born on June 26th, 1980, he is a 42-year-old male. He is currently experiencing symptoms of nasal congestion, facial pain, and yellow discharge from the nose.',\n",
       " \"Clinical Note:\\nPatient Name: Tanner Armstrong\\nNHS Number: 0819789453\\nDate of Birth: May 13, 1975\\n\\nPresentation: The patient presented to the emergency department with right lower quadrant abdominal pain and tenderness. The pain began suddenly and has worsened over the past few hours. There are no other symptoms or signs of illness.\\n\\nDiagnosis: Appendicitis is suspected based on the patient's symptoms and medical history. Further evaluation and diagnostic tests will be conducted to confirm the diagnosis and determine the appropriate course of treatment.\",\n",
       " 'Clinical Note:\\nMr. Strosin presents with acute viral pharyngitis, characterized by sore throat and fever. He was born in 1975 and is currently experiencing symptoms for the past 2 days. His NHS number is 6247446829.',\n",
       " 'Clinical Note:\\nPatient Name: Coralee Beer\\nNHS Number: 3593133113\\nDate of Birth: September 26, 1972\\n\\nPatient Presentation: Coralee Beer is a 40-year-old female presenting for routine prenatal care at 12 weeks gestation. She reports no significant medical history or complications during this pregnancy. Her date of birth indicates that she is at an increased risk for certain medical conditions, such as gestational diabetes and hypertension.',\n",
       " \"Clinical Note for Patient Stanton Sauer:\\n\\nPatient presents with acute bronchitis, as evidenced by persistent cough and mucus production. The patient's age and history of smoking suggest a likely cause of the illness. Further evaluation and treatment are necessary to manage symptoms and prevent potential complications.\",\n",
       " 'Clinical Note for Patient ID: 3045218628\\n\\nPatient Name: Classie Reilly\\nDate of Birth: November 15, 1968\\n\\nDIAGNOSIS: Chronic intractable migraine without aura\\n\\nMr. Reilly presents with a history of persistent and severe headaches, occurring daily for the past three months, with no identifiable cause or trigger. He reports frequent nausea, photophobia, and vomiting, which worsen during the headache episodes. His medication history includes various trials of acute and preventive medications without significant improvement. Given his chronic nature of migraine and lack of response to previous treatments, we recommend further evaluation and management for this complex and debilitating condition.',\n",
       " 'Clinical Note:\\nPatient Latonia White, NHS number 5543667914, presents today with a chief complaint of itchy skin lesions on her arms and legs. She reports that the symptoms have been persistent for the past two weeks and have significantly impacted her quality of life. The patient was born on May 10th, 1957, and has a diagnosis of atopic dermatitis.',\n",
       " ' Clinical Note:\\n\\nPatient: Justin Conroy\\nNHS Number: 5485116604\\nDate of Birth: January 21, 2005\\n\\nPresenting Complaint: Acute bronchitis (disorder)\\n\\nChief Concerns: Cough, chest tightness, fever, and difficulty breathing.',\n",
       " 'Clinical Note:\\nPatient Name: Gabriele Dach\\nNHS Number: 4359344031\\nDate of Birth: January 4, 1983\\n\\nPresenting Complaint: Sinusitis (disorder)\\n\\nChief Concerns: Nasal congestion, facial pain, headache, sore throat, cough\\n\\nReview of Systems: Negative for fever, chest pain, or difficulty breathing.\\n\\nMedical History: No known allergies or previous sinusitis episodes.\\n\\nSurgical History: None\\n\\nMedications: None currently being taken.\\n\\nPlanned Action: Prescribe antibiotics and nasal decongestants as needed. Advise patient to use saline nasal sprays and avoid blowing nose. Instruct on proper hand hygiene and cough etiquette. Monitor patient for any worsening symptoms or signs of complications.\\n\\nNote: This is just an example, please do not use it as a reference for actual patients.',\n",
       " 'Clinical Note:\\n\\nPatient: Dominique Pacocha\\nNHS Number: 8675706030\\nDate of Birth: November 28, 1975\\n\\nCurrent Diagnosis: Normal Pregnancy',\n",
       " ' Clinical Note:\\n\\nPatient: Emmitt Bergnaum\\nNHS Number: 7245181535\\nDate of Birth: January 13, 1968\\n\\nPresenting Complaint: Hypertension\\n\\nHistory of Present Illness: Mr. Bergnaum, a 54-year-old male, presents today with a 2-month history of headaches and shortness of breath. He reports that these symptoms have been persistent and worsening over time. He also mentions recent weight gain and increased thirst.\\n\\nCurrent Medications: Losartan 50mg oral daily\\n\\nAllergies: None known\\n\\nReview of Systems: No significant findings in the Head, Eyes, Ears, Nose, Mouth, and Respiratory systems. Abdominal palpation reveals a slightly elevated blood pressure.\\n\\nPlan:\\n\\n1. Continue Losartan 50mg oral daily as prescribed.\\n2. Monitor blood pressure regularly and adjust medication as needed.\\n3. Encourage lifestyle modifications, such as regular exercise and a healthy diet, to help manage hypertension.',\n",
       " \" Clinical Note for Tyrell Carroll:\\n\\nPatient presents with symptoms of viral sinusitis, including nasal congestion, facial pain, and postnasal drip. Patient's NHS number is 1152258338, date of birth is November 14, 2015. Patient's diagnosis is viral sinusitis (disorder).\",\n",
       " 'Clinical Note:\\nMr. Hassan Dicki, a 46-year-old male patient, was seen in the clinic today for a follow-up appointment. His NHS number is 7621367466 and he was born on March 14th, 1976. The patient has been diagnosed with anemia, a disorder characterized by a lower than normal number of red blood cells or hemoglobin in the blood. Further evaluation and treatment are necessary to manage this condition and prevent any complications.',\n",
       " \"Clinical Note:\\n\\nPatient: Flossie Beahan\\nNHS Number: 6468324335\\nDate of Birth: July 1, 1950\\n\\nDiagnosis: Acute bacterial sinusitis (disorder)\\n\\nChief Complaint: Sudden onset of severe headache, facial pain, and nasal congestion over the past 24 hours. Patient also reports fever and difficulty smelling.\\n\\nHistory of Present Illness: Patient was seen in urgent care yesterday evening with similar symptoms and was prescribed antibiotics. However, symptoms have worsened since then.\\n\\nReview of Systems: No significant findings.\\n\\nPlan: Continue antibiotics as prescribed and monitor patient's condition closely. Consider referral to ENT specialist if symptoms do not improve within 48 hours.\",\n",
       " \"Clinical Note:\\nPatient Name: Dante Kutch\\nNHS Number: 3237703028\\nDate of Birth: May 11, 2014\\n\\nHistory of Present Illness: The patient, a 9-year-old boy, presented with complaints of ear pain and difficulty hearing for the past 3 days. He also reported fever and difficulty sleeping.\\n\\nAssessment: Otitis media was diagnosed based on the patient's symptoms and physical examination findings.\\n\\nPlan: The patient was prescribed antibiotics and instructed to use over-the-counter pain medication as needed. Follow-up appointments were scheduled for 1 week and 2 weeks after initial presentation to monitor progress and adjust treatment as necessary.\",\n",
       " \"Clinical Note:\\nMargot Baumbach, a 10-year-old female patient, presents with a streptococcal sore throat. She was born on March 30, 2010, and her NHS number is 3523600693. The patient's chief complaint is a sore throat with difficulty swallowing and mild fever.\",\n",
       " \"Clinical Note for Malia Schinner:\\n\\nPatient Malia Schinner presents with acute viral pharyngitis. Born on April 19, 2022, and having an NHS number of 0344555925. The patient's diagnosis is acute viral pharyngitis, a common respiratory infection caused by a virus. Symptoms include sore throat, fever, and difficulty swallowing. Patient is experiencing moderate discomfort and difficulty sleeping due to the symptoms. Recommendations include rest, hydration, and over-the-counter pain relief medication as needed.\",\n",
       " \"Clinical Note:\\n\\nPatient: Guillermina Spencer\\nNHS Number: 6429539903\\nDate of Birth: June 12, 2016\\n\\nPresentation: Acute viral pharyngitis (disorder)\\n\\nKey Symptoms:\\n\\n* Sore throat\\n* Fever\\n* Headache\\n* Nasal congestion\\n* Cough\\n\\nAssessment: Based on the patient's symptoms and medical history, it is likely that she has acute viral pharyngitis. Further evaluation and diagnosis are necessary to confirm the diagnosis and determine the appropriate course of treatment.\",\n",
       " 'Clinical Note:\\n\\nPatient: Carita Bradtke\\nNHS Number: 9632601114\\nDate of Birth: February 13, 1971\\n\\nPresenting complaint: Chronic intractable migraine without aura\\n\\nMedical History: Patient has been experiencing severe headaches for the past year, with no identifiable cause. Previous medical evaluations have been unremarkable.\\n\\nPlan: Recommendation to continue current medication regimen and referral to specialist for further evaluation and management of migraines.',\n",
       " \"Clinical Note:\\nNadia Simonis, a 58-year-old female patient, was seen in the clinic for a routine prenatal checkup. Her NHS number is 4686220653 and her date of birth is February 14, 1964. Based on today's examination, her pregnancy is proceeding normally. No recommendations were given at this time.\",\n",
       " \"Clinical Note:\\n\\nPatient: Joey Heathcote\\nNHS Number: 0986143979\\nDate of Birth: May 22, 2020\\n\\nChief Complaint: Ear pain and fever for the past 3 days.\\n\\nHistory of Present Illness: The patient presents with a 3-day history of ear pain and fever. They report that the pain is located in the right ear and is accompanied by a mild sore throat and cough. The patient denies any recent illness or exposure to illness.\\n\\nPhysical Examination: On examination, the patient's temperature is 37.5°C (99.5°F), and their blood pressure is 120/80 mmHg. There is tenderness in the right ear and a slight bulge in the tympanic membrane. The throat is slightly scratchy, and the patient has a mild cough.\\n\\nPlan:\\n\\n1. Prescribe antibiotic therapy (ampicillin) for otitis media.\\n2. Instruct the patient to continue with pain management (acetaminophen).\\n3. Schedule a follow-up appointment in 2 days for further evaluation and treatment.\",\n",
       " \"Clinical Note:\\n\\nPatient: Fausto Conroy\\nNHS Number: 6934210093\\nDate of Birth: June 12, 1967\\n\\nPresenting Complaint: Fatigue, weakness, and shortness of breath for the past two weeks.\\n\\nDiagnosis: Anemia (disorder) based on patient's symptoms and medical history. Further investigation and laboratory tests are necessary to determine the underlying cause of anemia.\",\n",
       " \"Clinical Note:\\nPatient Ji Metz, age 4, presents with a 3-day history of fever, congestion, and ear pulling. The patient's NHS number is 5933487740, and their date of birth is March 12, 2016. Diagnosis: Otitis media.\",\n",
       " 'Clinical Note:\\n\\nPatient: Angeles Hills\\nNHS Number: 7366914703\\nDate of Birth: May 11, 2013\\n\\nPresentation: The patient presents with a sudden onset of sore throat, fever, and difficulty swallowing. The patient also reports a loss of voice and a mild cough.\\n\\nDiagnosis: Acute viral pharyngitis (disorder)\\n\\nPlan: Observation and supportive care for the next 7-10 days. Antiviral medication may be prescribed if symptoms persist or worsen over time. Encourage patient to drink plenty of fluids, rest, and avoid close contact with others to prevent further spread of infection.',\n",
       " 'Clinical Note:\\nPatient Name: Noel Kunde\\nNHS Number: 6784793773\\nDate of Birth: September 18, 2017\\n\\nHistory of Presentation: The patient presented to the emergency department with a fracture of the forearm following a fall from a height. The patient is in moderate pain and has limited mobility of the affected arm.\\n\\nRecommendations: Further evaluation and management of the fracture are necessary to ensure proper healing and prevention of any complications.',\n",
       " 'Clinical Note:\\nPatient Name: Theodore Collins\\nNHS Number: 2572617366\\nDate of Birth: December 12, 1990\\n\\nPresenting Complaint: Fever, headache, and nasal congestion for the past 3 days.\\n\\nDiagnosis: Viral sinusitis (disorder)\\n\\nReason for Visit: Acute exacerbation of chronic sinusitis.',\n",
       " \"Clinical Note:\\nPatient Name: Ellsworth Lesch\\nNHS Number: 9049395090\\nDate of Birth: October 17, 2013\\n\\nPresentation: The patient presents with a 5-day history of nasal congestion, facial pain, and headache. He also reports a low-grade fever and difficulty smelling. The patient's medical history includes allergies and asthma. Physical examination reveals bilateral nasal congestion, tender sinuses, and a clear nose.\\n\\nDiagnosis: Viral sinusitis (disorder)\",\n",
       " 'Clinical Note:\\nPatient Name: Christian Kemmer\\nNHS Number: 5589658454\\nDate of Birth: January 20, 1999\\n\\nPresentation: Christian presented to the emergency department with sudden onset abdominal pain, nausea, and vomiting. He was diagnosed with appendicitis based on his symptoms and the results of a physical examination.\\n\\nPlan: The patient was taken to the operating room for an appendectomy. Post-operatively, he was monitored closely for any signs of complications.',\n",
       " 'Clinical Note:\\nPatient Name: Shirleen Nikolaus\\nNHS Number: 2587176336\\nDate of Birth: December 28, 1990\\n\\nPresentation: Acute bacterial sinusitis (disorder)\\n\\nChief Complaint: Sinus pressure and headache for 3 days, fever 38.5°C, nasal congestion, and thick yellowish discharge from the nose.\\n\\nHistory of Present Illness: The patient developed symptoms on Day 0, which worsened over the next 24 hours. She reported feeling unwell and experiencing facial pain and pressure.\\n\\nReview of Systems: The patient did not report any other symptoms or systems involved.\\n\\nMedications: None reported.\\n\\nAllergies: None reported.\\n\\nPlan: Antibiotics will be prescribed for 7-10 days, and the patient will be advised to use nasal decongestants and saline nasal sprays as needed. Follow-up appointments will be scheduled in 3-4 days to assess symptoms and adjust treatment as necessary.',\n",
       " \"Clinical Note:\\nPatient Name: Arvilla Mills\\nNHS Number: 5722709921\\nDate of Birth: October 9, 1995\\n\\nPresentation: Acute bacterial sinusitis (disorder)\\n\\nSymptoms: Nasal congestion, facial pain/pressure, fever, cough, sore throat.\\n\\nReview of Systems: No significant findings.\\n\\nPlan: Prescribe antibiotics for 7-10 days, recommend nasal decongestants and pain relievers as needed. Monitor patient's condition closely and reassess in 3-5 days for possible improvement.\",\n",
       " ' Clinical Note:\\n\\nPatient: Willena Hickle\\nNHS Number: 0853754519\\nDate of Birth: August 20, 1985\\n\\nPresenting Complaint: Right nasal congestion, facial pain and pressure, fever, and cough for the past 3 days.\\n\\nDiagnosis: Acute bacterial sinusitis (disorder)\\n\\nPlan: Prescription of antibiotics and nasal decongestants as needed, instructions on proper hygiene practices, and monitoring of symptoms for improvement.',\n",
       " \" Clinical Note for Blaine Crist:\\n\\nPatient presents with a history of perennial allergic rhinitis. The patient's NHS number is 7698276651 and their date of birth is February 4, 1999. The patient's given name is Blaine and their family name is Crist.\",\n",
       " 'Clinical Note for Noah Bergstrom:\\n\\nPatient presents with acute viral pharyngitis. Symptoms include sore throat, fever, and difficulty swallowing. History of cough and nasal congestion. (NHS Number: 1964511984, Date of Birth: March 9, 2015, Given Name: Noah, Family Name: Bergstrom, Diagnosis: Acute viral pharyngitis)',\n",
       " \"Clinical Note:\\nPatient Name: Ken Monahan\\nNHS Number: 0966095081\\nDate of Birth: May 13, 1967\\n\\nChief Complaint: Sinusitis (disorder)\\n\\nHistory of Present Illness: The patient presents with symptoms of sinus pressure and congestion for the past two weeks. He reports difficulty breathing through his nose and mouth, as well as a yellowish discharge from his nose. He has tried over-the-counter decongestants without relief.\\n\\nReview of Systems: The patient's medical history is significant for allergies and asthma. He takes montelukast and fluticasone for these conditions. There are no other medical concerns.\\n\\nPlan:\\n\\n1. Prescribe nasal decongestant spray, 2-3 times daily for 5 days.\\n2. Recommend saline nasal rinse, twice daily.\\n3. Consider antibiotic therapy if symptoms persist after 5 days of decongestant use.\\n\\nNote: This is just an example clinical note and should not be used as a real patient's medical record.\",\n",
       " 'Clinical Note:\\nPatient Bill Stokes, NHS number 0616102828, presents with viral sinusitis. Born on March 1st, 2018, Mr. Stokes complains of nasal congestion, headache, and fever for the past 3 days. His diagnosis is viral sinusitis, and he is prescribed antiviral medication and nasal decongestants to alleviate symptoms.',\n",
       " \" Clinical Note for Patient Carson Dibbert:\\n\\nMr. Dibbert is a 25-year-old male presenting with acute bronchitis. He was admitted to the emergency room on March 10, 2023, with a 2-day history of cough, chest tightness, and shortness of breath. His medical history includes asthma and allergies. His vital signs are as follows: temperature - 37.8 degrees Celsius, blood pressure - 120/80 mmHg, pulse rate - 90 beats per minute, respiratory rate - 24 breaths per minute. He is currently receiving oxygen therapy via a nasal cannula. His chest examination reveals bilateral wheezing and decreased tactile fremitus. Based on the patient's history and physical examination findings, I diagnose acute bronchitis. I will prescribe antibiotics and continue oxygen therapy until his symptoms improve.\",\n",
       " \"Clinical Note for Teofila Koelpin:\\n\\nPatient presents with viral sinusitis, characterized by nasal congestion, facial pain, and yellowish discharge. Patient's medical history reveals a previous episode of sinusitis in 2018, which was treated with antibiotics. Given the patient's age and history of respiratory issues, it is likely that this current episode is also caused by a viral infection. Further evaluation and treatment are warranted to alleviate symptoms and prevent potential complications.\",\n",
       " \"Clinical Note:\\nPatient Name: Tona McLaughlin\\nNHS Number: 6568766496\\nDate of Birth: September 13, 2018\\n\\nPresenting Complaint: Acute bronchitis (disorder)\\n\\nChief Complaint: Cough and shortness of breath for the past 5 days.\\n\\nReview of Systems: No significant findings on respiratory examination.\\n\\nMedications: None currently, but patient has been prescribed an antibiotic in the past for similar symptoms.\\n\\nPlan: Monitor patient's condition and provide appropriate treatment as needed.\",\n",
       " 'Clinical Note:\\nPatient Name: Buddy Deckow\\nNHS Number: 4568437822\\nDate of Birth: May 20, 2013\\n\\nPresentation: Mr. Deckow is a 9-year-old male presenting with a 3-day history of fever, headache, and ear pain. He was evaluated in the emergency department and diagnosed with otitis media. He is currently experiencing difficulty hearing and has a bulging tympanic membrane.\\n\\nPlan: The patient will be started on antibiotics for 5-7 days and referred to an audiologist for further evaluation and management of any hearing impairment. Follow-up appointments will be scheduled as needed.',\n",
       " 'Certainly! Here is an example clinical note for Roseanne Emard:\\n\\n\"Patient presents with severe right-sided abdominal pain, nausea, and vomiting. History of fever and loss of appetite for the past 24 hours. NHS number: 8564242451. Date of birth: March 16, 1951. Given name: Roseanne. Family name: Emard. Diagnosis: Appendicitis.\"',\n",
       " \"Clinical Note:\\nPatient Brandon Reichel, NHS number 0131793306, presents today with a chief complaint of persistent and debilitating chronic migraine without aura. The patient was born on September 12, 1987, and has been experiencing frequent headaches since adolescence. According to the patient's history, these headaches have significantly interfered with their daily activities and quality of life.\",\n",
       " 'Clinical Note:\\n\\nPatient Name: Aja Toy\\nNHS Number: 3292335094\\nDate of Birth: November 11, 1981\\n\\nPresenting Complaint: Fatigue, pale skin, and shortness of breath.\\n\\nDiagnosis: Anemia (disorder)\\n\\nPlan: Recommendation for blood transfusion and iron supplements to manage anemia. Further evaluation and management required based on severity and underlying cause.',\n",
       " 'Clinical Note:\\nPatient: Oralia Tillman\\nNHS Number: 2154291503\\nDate of Birth: August 10, 1964\\n\\nCurrent Diagnosis: Normal pregnancy.',\n",
       " \"Clinical Note:\\n\\nPatient Name: Mable Dickinson\\nNHS Number: 5635228453\\nDate of Birth: November 6, 1958\\n\\nPresentation: Mrs. Dickinson is a 64-year-old female presenting with a 6-month history of mild dyslipidemia. She reports occasional instances of fatigue and weakness, which have worsened over time. There is no recent history of chest pain or difficulty breathing.\\n\\nRecommendations: Further evaluation and monitoring are necessary to determine the optimal course of treatment for Mrs. Dickinson's hyperlipidemia. A lipid profile and fasting blood sugar should be performed at least annually, or more frequently if clinically indicated. Lifestyle modifications such as a healthy diet and regular exercise may also be beneficial in managing her condition.\",\n",
       " 'Clinical Note:\\nPatient: Elayne Roob\\nNHS Number: 6587482465\\nDate of Birth: July 11, 1970\\n\\nPresenting Complaint: Acute bronchitis (disorder)\\n\\nChief Concerns: Cough, fever, chest tightness\\n\\nReview of Systems: Positive for cough and chest tightness, negative for shortness of breath or wheezing.\\n\\nPlan: Oral antibiotics prescribed for 7-10 days, as well as a course of inhaled corticosteroids for symptomatic relief. Patient advised to rest and hydrate thoroughly. Follow-up appointment scheduled for one week from today.',\n",
       " \"Clinical Note:\\nPatient Name: Abbey Hagenes\\nNHS Number: 6238907444\\nDate of Birth: October 14, 1941\\n\\nChief Complaint: Otitis media\\n\\nHistory of Present Illness: The patient is a 80-year-old male who presents with complaints of ear pain and difficulty hearing for the past 3 days. He reports that the symptoms started suddenly and have been persistent despite taking over-the-counter pain medication. There is no history of previous ear infections or allergies.\\n\\nCurrent Observations: The patient's ears are tender to the touch, and he has difficulty hearing out of his right ear. His tympanic membrane is bulging and erythematous.\\n\\nRecommendations: Given the patient's age and history of sudden onset of symptoms, I suspect otitis media. I recommend prescribing antibiotic ear drops and pain medication to help manage his symptoms. Further evaluation and testing may be necessary to rule out any other potential causes of his hearing loss.\",\n",
       " ' Clinical Note for Otto Yost:\\n\\nMr. Yost presents today with a 2-day history of cough, fever, and chest tightness. He was born on February 26, 1945, and his NHS number is 7730745593. His diagnosis is acute bronchitis, a disorder characterized by inflammation of the bronchial tubes. Further assessment and monitoring are necessary to ensure proper management and prevention of complications.']"
      ]
     },
     "execution_count": 10,
     "metadata": {},
     "output_type": "execute_result"
    }
   ],
   "source": [
    "config_handler.load_specified_data_file(filename=\"generate_0\")"
   ]
  }
 ],
 "metadata": {
  "kernelspec": {
   "display_name": ".venv",
   "language": "python",
   "name": "python3"
  },
  "language_info": {
   "codemirror_mode": {
    "name": "ipython",
    "version": 3
   },
   "file_extension": ".py",
   "mimetype": "text/x-python",
   "name": "python",
   "nbconvert_exporter": "python",
   "pygments_lexer": "ipython3",
   "version": "3.11.6"
  }
 },
 "nbformat": 4,
 "nbformat_minor": 2
}
