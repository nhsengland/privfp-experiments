{
 "cells": [
  {
   "cell_type": "markdown",
   "metadata": {},
   "source": [
    "# UniversalNER\n",
    "\n",
    "UniversalNER is a prompt-based NER model, where entitites are given the model which are then extracted from the text. It can recognize diverse types of entities or concepts in text corpora from a wide range of domains.\n",
    "\n",
    "\n",
    "[More information here](https://universal-ner.github.io/)\n",
    "\n",
    "This notebook runs a proposed UniversalNER pipeline, but where universalNER is hosted locally, and then the API can be queried.\n",
    "\n",
    "[More information here](https://github.com/universal-ner/universal-ner)"
   ]
  },
  {
   "cell_type": "code",
   "execution_count": 1,
   "metadata": {},
   "outputs": [],
   "source": [
    "import json\n",
    "import requests"
   ]
  },
  {
   "cell_type": "code",
   "execution_count": 2,
   "metadata": {},
   "outputs": [],
   "source": [
    "with open('../data/llm_dataset.json') as f:\n",
    "    data = json.load(f)"
   ]
  },
  {
   "cell_type": "code",
   "execution_count": 59,
   "metadata": {},
   "outputs": [],
   "source": [
    "patient_dict = {}\n",
    "patient_nums = [0, 15, 30, 78, 165, 276, 345, 428, 567, 735, 852, 961]\n",
    "entities_list = [\"name of person\",\n",
    "                  \"location of visit\",\n",
    "                  \"marital status\",\n",
    "                  #\"alcohol consumption\",\n",
    "                  #\"allergies\", \n",
    "                  \"male, female or non-binary\",\n",
    "                  \"race ethnicity nationality\",\n",
    "                #   \"recreational drug use\",\n",
    "                #   \"tobacco use\",\n",
    "                  \"treatment procedure\",\n",
    "                  \"metric and metric value\",\n",
    "                  \"medical condition\",\n",
    "                  \"medication\",\n",
    "                  \"medication dosage\",\n",
    "                  \"address\",\n",
    "                  \"ID\",\n",
    "                  \"NHS Number\",\n",
    "                  \"date of birth\",\n",
    "                  \"visit date\"\n",
    "                  ]\n",
    "\n",
    "prompt_template = \"\"\"A virtual assistant answers questions from a user based on the provided text.\n",
    "USER: Text: {input_text}\n",
    "ASSISTANT: I’ve read this text.\n",
    "USER: What describes {entity_name} in the text?\n",
    "ASSISTANT:\n",
    "\"\"\"\n",
    "\n",
    "url = f\"http://127.0.0.1:8080/completion\"\n",
    "\n",
    "for patient_num in patient_nums:\n",
    "    text = data[patient_num].strip()\n",
    "\n",
    "    patient_entity_dict = {}\n",
    "    for entity in entities_list:\n",
    "        prompt = prompt_template.format_map({\"input_text\": text, \"entity_name\": entity})\n",
    "        req_json = {\n",
    "                \"stream\": False,\n",
    "                \"n_predict\": 400,\n",
    "                \"temperature\": 0,\n",
    "                \"stop\": [\n",
    "                    \"</s>\",\n",
    "                ],\n",
    "                \"repeat_last_n\": 256,\n",
    "                \"repeat_penalty\": 1,\n",
    "                \"top_k\": 20,\n",
    "                \"top_p\": 0.75,\n",
    "                \"tfs_z\": 1,\n",
    "                \"typical_p\": 1,\n",
    "                \"presence_penalty\": 0,\n",
    "                \"frequency_penalty\": 0,\n",
    "                \"mirostat\": 0,\n",
    "                \"mirostat_tau\": 5,\n",
    "                \"mirostat_eta\": 0.1,\n",
    "                \"grammar\": \"\",\n",
    "                \"n_probs\": 0,\n",
    "                \"prompt\": prompt\n",
    "        }\n",
    "        res = requests.post(url, json=req_json)\n",
    "        output = res.json()[\"content\"]\n",
    "        patient_entity_dict[entity] = output\n",
    "\n",
    "    patient_dict[patient_num] = {\n",
    "        \"text\": text,\n",
    "        \"entity_dict\": patient_entity_dict \n",
    "    }\n",
    "\n"
   ]
  },
  {
   "cell_type": "code",
   "execution_count": 58,
   "metadata": {},
   "outputs": [
    {
     "ename": "IndexError",
     "evalue": "list index out of range",
     "output_type": "error",
     "traceback": [
      "\u001b[0;31m---------------------------------------------------------------------------\u001b[0m",
      "\u001b[0;31mIndexError\u001b[0m                                Traceback (most recent call last)",
      "Cell \u001b[0;32mIn[58], line 1\u001b[0m\n\u001b[0;32m----> 1\u001b[0m \u001b[38;5;28mprint\u001b[39m(patient_dict[\u001b[43mpatient_nums\u001b[49m\u001b[43m[\u001b[49m\u001b[38;5;241;43m4\u001b[39;49m\u001b[43m]\u001b[49m][\u001b[38;5;124m'\u001b[39m\u001b[38;5;124mtext\u001b[39m\u001b[38;5;124m'\u001b[39m])\n\u001b[1;32m      2\u001b[0m patient_dict[patient_nums[\u001b[38;5;241m4\u001b[39m]][\u001b[38;5;124m'\u001b[39m\u001b[38;5;124mentity_dict\u001b[39m\u001b[38;5;124m'\u001b[39m]\n",
      "\u001b[0;31mIndexError\u001b[0m: list index out of range"
     ]
    }
   ],
   "source": [
    "print(patient_dict[patient_nums[4]]['text'])\n",
    "patient_dict[patient_nums[4]]['entity_dict']"
   ]
  }
 ],
 "metadata": {
  "kernelspec": {
   "display_name": "llama",
   "language": "python",
   "name": "python3"
  },
  "language_info": {
   "codemirror_mode": {
    "name": "ipython",
    "version": 3
   },
   "file_extension": ".py",
   "mimetype": "text/x-python",
   "name": "python",
   "nbconvert_exporter": "python",
   "pygments_lexer": "ipython3",
   "version": "3.9.16"
  }
 },
 "nbformat": 4,
 "nbformat_minor": 2
}
