{
 "cells": [
  {
   "cell_type": "markdown",
   "metadata": {},
   "source": [
    "# Evaluation example\n",
    "\n",
    "This example uses the PromptTools repository with Sentence Transformers to evaluate the semantic similarity of generative outputs to an expected result.\n",
    "\n",
    "Running this notebook requires a local `.gguf` model to be loaded on the device. This can be achieved by following the [llama.cpp](https://github.com/ggerganov/llama.cpp) repository instructions.\n",
    "\n",
    "The particular models used here are [`Orca 2 13B`](https://huggingface.co/microsoft/Orca-2-13b) and [`Orca 2 7B`](https://huggingface.co/microsoft/Orca-2-7b) both with 4-bit quantisation."
   ]
  },
  {
   "cell_type": "markdown",
   "metadata": {},
   "source": [
    "## Import libraries"
   ]
  },
  {
   "cell_type": "code",
   "execution_count": null,
   "metadata": {},
   "outputs": [],
   "source": [
    "from prompttools.experiment import LlamaCppExperiment\n",
    "import prompttools.utils as utils"
   ]
  },
  {
   "cell_type": "markdown",
   "metadata": {},
   "source": [
    "## Define experiment paramaters"
   ]
  },
  {
   "cell_type": "markdown",
   "metadata": {},
   "source": [
    "It is important to note that in the `LlamaCppExperiment` class we are passing `{\"n_gpu_layers\": [1]}` as the argument for `model_params` which enables GPU usage for Apple silicon.\n",
    "\n",
    "This was successfully tested for the M1 MBP but has unknown effects for other devices and operating systems."
   ]
  },
  {
   "cell_type": "code",
   "execution_count": null,
   "metadata": {},
   "outputs": [],
   "source": [
    "model_paths = [\n",
    "    \"../../models/Orca-2-13b-q4_0.gguf\",\n",
    "    \"../../models/Orca-2-7b-q4_0.gguf\",\n",
    "]\n",
    "\n",
    "prompts = [\n",
    "    \"Who was the first prime minister?\",\n",
    "    \"Who was the first prime minister of the United Kingdom?\",\n",
    "]\n",
    "\n",
    "temperatures = [0.0, 1.0]\n",
    "\n",
    "call_params = dict(temperature=temperatures)\n",
    "\n",
    "experiment = LlamaCppExperiment(\n",
    "    model_paths,\n",
    "    prompts,\n",
    "    call_params=call_params,\n",
    "    model_params={\"n_gpu_layers\": [1]},\n",
    ")"
   ]
  },
  {
   "cell_type": "markdown",
   "metadata": {},
   "source": [
    "## Run experiment"
   ]
  },
  {
   "cell_type": "code",
   "execution_count": null,
   "metadata": {},
   "outputs": [],
   "source": [
    "experiment.run()"
   ]
  },
  {
   "cell_type": "markdown",
   "metadata": {},
   "source": [
    "## Evaluate experiment"
   ]
  },
  {
   "cell_type": "markdown",
   "metadata": {},
   "source": [
    "PromptTools provides utilities for evaluating generative outputs.\n",
    "\n",
    "This example makes use of the `semantic_similarity` function and there are more availbale in the [PromptTools documentation](https://prompttools.readthedocs.io/en/latest/utils.html) such as `autoeval_binary_scoring` which uses GPT-4 as a \"strong\" judge."
   ]
  },
  {
   "cell_type": "code",
   "execution_count": null,
   "metadata": {},
   "outputs": [],
   "source": [
    "experiment.evaluate(\n",
    "    \"similar_to_expected\",\n",
    "    utils.semantic_similarity,\n",
    "    expected=[\"Robert Walpole\"] * 8,\n",
    ")"
   ]
  },
  {
   "cell_type": "code",
   "execution_count": null,
   "metadata": {},
   "outputs": [],
   "source": [
    "df = experiment.to_pandas_df(get_all_cols=False)\n",
    "\n",
    "df.sort_values(by=\"similar_to_expected\", ascending=False)"
   ]
  }
 ],
 "metadata": {
  "kernelspec": {
   "display_name": ".venv",
   "language": "python",
   "name": "python3"
  },
  "language_info": {
   "codemirror_mode": {
    "name": "ipython",
    "version": 3
   },
   "file_extension": ".py",
   "mimetype": "text/x-python",
   "name": "python",
   "nbconvert_exporter": "python",
   "pygments_lexer": "ipython3",
   "version": "3.11.7"
  }
 },
 "nbformat": 4,
 "nbformat_minor": 2
}
