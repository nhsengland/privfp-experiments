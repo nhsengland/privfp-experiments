{
 "cells": [
  {
   "cell_type": "markdown",
   "metadata": {},
   "source": [
    "## Displaying Annotations\n",
    "\n",
    "### Options\n",
    "- DisplaCy: Easy to impliment, there is an example below. \n",
    "- BRAT: Need to use 'brat-widget' for implimention in Jupyter. Need node.js.\n",
    "- ipyannotations\n"
   ]
  },
  {
   "cell_type": "markdown",
   "metadata": {},
   "source": [
    "## DisplaCy"
   ]
  },
  {
   "cell_type": "code",
   "execution_count": null,
   "metadata": {},
   "outputs": [],
   "source": [
    "import spacy\n",
    "import json\n",
    "from spacy import displacy\n",
    "import numpy as np"
   ]
  },
  {
   "cell_type": "code",
   "execution_count": null,
   "metadata": {},
   "outputs": [],
   "source": [
    "with open('../../../data/llm.json') as f:\n",
    "    string_data = json.load(f)\n",
    "\n",
    "with open('../../../data/generative.json') as f:\n",
    "    entity_data = json.load(f)"
   ]
  },
  {
   "cell_type": "code",
   "execution_count": null,
   "metadata": {},
   "outputs": [],
   "source": [
    "string_id = 1\n",
    "\n",
    "dic_ents = {\n",
    "    \"text\": string_data[string_id],\n",
    "    \"ents\": entity_data[string_id][\"Entities\"],\n",
    "}"
   ]
  },
  {
   "cell_type": "code",
   "execution_count": null,
   "metadata": {},
   "outputs": [],
   "source": [
    "displacy.render(dic_ents, manual=True, style=\"ent\")"
   ]
  },
  {
   "cell_type": "code",
   "execution_count": null,
   "metadata": {},
   "outputs": [],
   "source": [
    "#pip install ipywidgets"
   ]
  },
  {
   "cell_type": "code",
   "execution_count": null,
   "metadata": {},
   "outputs": [],
   "source": [
    "import ipywidgets as widgets\n",
    "from IPython.display import display, HTML\n",
    "\n",
    "def generate_colours(num_colours, transparency = 1):\n",
    "    colours = []\n",
    "    for i in range(num_colours):\n",
    "        hue = i * (360 / num_colours)\n",
    "        saturation = 90 + (i * (10 / num_colours))\n",
    "        lightness = 50 + (i * (20 / num_colours))\n",
    "        colours.append(f\"hsl({hue}, {saturation}%, {lightness}%, {transparency})\".format(hue, saturation, lightness))\n",
    "    return colours\n",
    "\n",
    "\n",
    "def highlight_character_ranges(text, entities):\n",
    "    # Initialize an empty list to store formatted HTML for each character\n",
    "    formatted_chars = []\n",
    "    # Create a dictionary to map character positions to their corresponding labels\n",
    "    position_to_label = {}\n",
    "    colour_of_label = {}\n",
    "\n",
    "    labels = [e[\"label\"] for e in entities]\n",
    "    start_ids = [e[\"start\"] for e in entities]\n",
    "    end_ids = [e[\"end\"] for e in entities]\n",
    "    \n",
    "    colours = generate_colours(len(labels), transparency = 0.5)\n",
    "    \n",
    "    # Iterate through each range of character positions and labels\n",
    "    for label, start_idx, end_idx, colour in zip(labels, start_ids, end_ids, colours):\n",
    "        # Store the label for each character position within the range\n",
    "        for i in range(start_idx, end_idx + 1):\n",
    "            position_to_label[i] = label\n",
    "            colour_of_label[i] = colour\n",
    "    \n",
    "    # Iterate through each character in the text string\n",
    "    for i, char in enumerate(text):\n",
    "        # Check if the current character position should be highlighted\n",
    "        if i in position_to_label:\n",
    "            # If the character position should be highlighted, wrap it in a span with CSS class for styling and tooltip\n",
    "            formatted_chars.append(f'<span class=\"highlight\" style=\"background-color: {colour_of_label[i]};\" title=\"{position_to_label[i]}\">{text[i]}</span>')\n",
    "        else:\n",
    "            # If the character position shouldn't be highlighted, just use the character as is\n",
    "            formatted_chars.append(char)\n",
    "    \n",
    "    # Join the formatted characters back into a single string\n",
    "    highlighted_text = ''.join(formatted_chars)\n",
    "    \n",
    "    # Create custom CSS style for the highlight class\n",
    "    custom_css = \"\"\"\n",
    "    <style>\n",
    "    .highlight {\n",
    "        cursor: pointer; /* Change cursor to pointer on hover */\n",
    "    }\n",
    "    </style>\n",
    "    \"\"\"\n",
    "    \n",
    "    # Create an HTML widget to display the highlighted text\n",
    "    html_widget = widgets.HTML(value=custom_css + highlighted_text)\n",
    "    \n",
    "    # Display the HTML widget\n",
    "    display(html_widget, clear=True)"
   ]
  },
  {
   "cell_type": "code",
   "execution_count": null,
   "metadata": {},
   "outputs": [],
   "source": [
    "text = string_data[string_id]\n",
    "entities = entity_data[string_id][\"Entities\"]\n",
    "\n",
    "\n",
    "highlight_character_ranges(text, entities)"
   ]
  },
  {
   "cell_type": "code",
   "execution_count": null,
   "metadata": {},
   "outputs": [],
   "source": [
    "from collections import Counter\n",
    "\n",
    "all_entities = []\n",
    "for entities in entity_data:\n",
    "    for entity in entities['Entities']:\n",
    "        all_entities.append(entity[\"label\"])\n",
    "\n",
    "entity_counter = Counter(all_entities)"
   ]
  },
  {
   "cell_type": "code",
   "execution_count": null,
   "metadata": {},
   "outputs": [],
   "source": [
    "entity_counter"
   ]
  }
 ],
 "metadata": {
  "kernelspec": {
   "display_name": "Python 3",
   "language": "python",
   "name": "python3"
  },
  "language_info": {
   "codemirror_mode": {
    "name": "ipython",
    "version": 3
   },
   "file_extension": ".py",
   "mimetype": "text/x-python",
   "name": "python",
   "nbconvert_exporter": "python",
   "pygments_lexer": "ipython3",
   "version": "3.11.0rc1"
  }
 },
 "nbformat": 4,
 "nbformat_minor": 2
}
