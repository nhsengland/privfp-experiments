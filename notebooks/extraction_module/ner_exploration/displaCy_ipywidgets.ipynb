{
 "cells": [
  {
   "cell_type": "markdown",
   "metadata": {},
   "source": [
    "## Displaying Annotations\n",
    "\n",
    "### Options\n",
    "- DisplaCy: Easy to impliment, there is an example below. \n",
    "- BRAT: Need to use 'brat-widget' for implimention in Jupyter. Need node.js.\n",
    "- Pigeon: More of an annotation tool.\n",
    "- ipywidgets: Allows for our own customisation.  \n"
   ]
  },
  {
   "cell_type": "markdown",
   "metadata": {},
   "source": [
    "### Load Data\n",
    "\n",
    "In order to make our visualisations compatable with all NER models, we read directly from the data, rather than using inbuilt NER tools, e.g. with Spacy"
   ]
  },
  {
   "cell_type": "code",
   "execution_count": 6,
   "metadata": {},
   "outputs": [],
   "source": [
    "import json\n",
    "\n",
    "with open(\"../../../example_output/example_pipeline_14_05_24/llm.json\") as f:\n",
    "    string_data = json.load(f)\n",
    "\n",
    "with open(\n",
    "    \"../../../example_output/example_pipeline_14_05_24/extraction.json\"\n",
    ") as f:\n",
    "    entity_data = json.load(f)"
   ]
  },
  {
   "cell_type": "markdown",
   "metadata": {},
   "source": [
    "## DisplaCy"
   ]
  },
  {
   "cell_type": "code",
   "execution_count": 7,
   "metadata": {},
   "outputs": [],
   "source": [
    "import spacy\n",
    "from spacy import displacy"
   ]
  },
  {
   "cell_type": "code",
   "execution_count": 8,
   "metadata": {},
   "outputs": [],
   "source": [
    "string_id = 1\n",
    "\n",
    "# Turn entities into dictionary compatable with displacy.\n",
    "dic_ents = {\n",
    "    \"text\": string_data[string_id],\n",
    "    \"ents\": entity_data[string_id][\"Entities\"],\n",
    "}"
   ]
  },
  {
   "cell_type": "code",
   "execution_count": 10,
   "metadata": {},
   "outputs": [
    {
     "data": {
      "text/html": [
       "<span class=\"tex2jax_ignore\"><div class=\"entities\" style=\"line-height: 2.5; direction: ltr\"> Here is an example clinical note for \n",
       "<mark class=\"entity\" style=\"background: #aa9cfc; padding: 0.45em 0.6em; margin: 0 0.25em; line-height: 1; border-radius: 0.35em;\">\n",
       "    Temeka McCullough\n",
       "    <span style=\"font-size: 0.8em; font-weight: bold; line-height: 1; border-radius: 0.35em; vertical-align: middle; margin-left: 0.5rem\">person</span>\n",
       "</mark>\n",
       ":<br><br>Patient: \n",
       "<mark class=\"entity\" style=\"background: #aa9cfc; padding: 0.45em 0.6em; margin: 0 0.25em; line-height: 1; border-radius: 0.35em;\">\n",
       "    Temeka McCullough\n",
       "    <span style=\"font-size: 0.8em; font-weight: bold; line-height: 1; border-radius: 0.35em; vertical-align: middle; margin-left: 0.5rem\">person</span>\n",
       "</mark>\n",
       "<br>\n",
       "<mark class=\"entity\" style=\"background: #ddd; padding: 0.45em 0.6em; margin: 0 0.25em; line-height: 1; border-radius: 0.35em;\">\n",
       "    NHS Number\n",
       "    <span style=\"font-size: 0.8em; font-weight: bold; line-height: 1; border-radius: 0.35em; vertical-align: middle; margin-left: 0.5rem\">nhs number</span>\n",
       "</mark>\n",
       ": \n",
       "<mark class=\"entity\" style=\"background: #ddd; padding: 0.45em 0.6em; margin: 0 0.25em; line-height: 1; border-radius: 0.35em;\">\n",
       "    1766306217\n",
       "    <span style=\"font-size: 0.8em; font-weight: bold; line-height: 1; border-radius: 0.35em; vertical-align: middle; margin-left: 0.5rem\">nhs number</span>\n",
       "</mark>\n",
       "<br>Date of Birth: \n",
       "<mark class=\"entity\" style=\"background: #ddd; padding: 0.45em 0.6em; margin: 0 0.25em; line-height: 1; border-radius: 0.35em;\">\n",
       "    September 14, 2000\n",
       "    <span style=\"font-size: 0.8em; font-weight: bold; line-height: 1; border-radius: 0.35em; vertical-align: middle; margin-left: 0.5rem\">date of birth</span>\n",
       "</mark>\n",
       "<br><br>Presentation: \n",
       "<mark class=\"entity\" style=\"background: #ddd; padding: 0.45em 0.6em; margin: 0 0.25em; line-height: 1; border-radius: 0.35em;\">\n",
       "    Acute viral pharyngitis (disorder)\n",
       "    <span style=\"font-size: 0.8em; font-weight: bold; line-height: 1; border-radius: 0.35em; vertical-align: middle; margin-left: 0.5rem\">diagnosis</span>\n",
       "</mark>\n",
       "<br><br>Notes:<br><br>* History of sore throat and fever for the past 2 days<br>*Difficulty swallowing and speaking<br>*Slight difficulty breathing<br>*No recent travel or exposure to sick individuals<br>*No known allergies<br><br>Plan:<br><br>*Prescribe antiviral medication as per protocol<br>*Advise patient on proper fluid intake and rest<br>*Monitor temperature and symptoms closely<br><br>Reason for visit: \n",
       "<mark class=\"entity\" style=\"background: #ddd; padding: 0.45em 0.6em; margin: 0 0.25em; line-height: 1; border-radius: 0.35em;\">\n",
       "    Acute viral pharyngitis (disorder)\n",
       "    <span style=\"font-size: 0.8em; font-weight: bold; line-height: 1; border-radius: 0.35em; vertical-align: middle; margin-left: 0.5rem\">diagnosis</span>\n",
       "</mark>\n",
       "</div></span>"
      ],
      "text/plain": [
       "<IPython.core.display.HTML object>"
      ]
     },
     "metadata": {},
     "output_type": "display_data"
    }
   ],
   "source": [
    "displacy.render(dic_ents, manual=True, style=\"ent\")"
   ]
  },
  {
   "cell_type": "markdown",
   "metadata": {},
   "source": [
    "## ipyWidgets"
   ]
  },
  {
   "cell_type": "code",
   "execution_count": 5,
   "metadata": {},
   "outputs": [],
   "source": [
    "# pip install ipywidgets"
   ]
  },
  {
   "cell_type": "markdown",
   "metadata": {},
   "source": [
    "ipywidgets is a very versatile tool for generating 'widgets', which includes being able to label/annotate text. \n",
    "\n",
    "Below is a prototype, but allows for lots of future change. "
   ]
  },
  {
   "cell_type": "code",
   "execution_count": 17,
   "metadata": {},
   "outputs": [],
   "source": [
    "import ipywidgets as widgets\n",
    "from IPython.display import display, HTML\n",
    "\n",
    "\n",
    "def generate_colours(num_colours, transparency=1):\n",
    "    colours = []\n",
    "    for i in range(num_colours):\n",
    "        hue = i * (360 / num_colours)\n",
    "        saturation = 90 + (i * (10 / num_colours))\n",
    "        lightness = 50 + (i * (20 / num_colours))\n",
    "        colours.append(\n",
    "            f\"hsl({hue}, {saturation}%, {lightness}%, {transparency})\".format(\n",
    "                hue, saturation, lightness\n",
    "            )\n",
    "        )\n",
    "    return colours\n",
    "\n",
    "\n",
    "def highlight_character_ranges(text, entities):\n",
    "    # Initialize an empty list to store formatted HTML for each character\n",
    "    formatted_chars = []\n",
    "    # Create a dictionary to map character positions to their corresponding labels\n",
    "    position_to_label = {}\n",
    "    colour_of_label = {}\n",
    "\n",
    "    labels = [e[\"label\"] for e in entities]\n",
    "    start_ids = [e[\"start\"] for e in entities]\n",
    "    end_ids = [e[\"end\"] for e in entities]\n",
    "\n",
    "    colours = generate_colours(len(labels), transparency=0.5)\n",
    "\n",
    "    # Iterate through each range of character positions and labels\n",
    "    for label, start_idx, end_idx, colour in zip(\n",
    "        labels, start_ids, end_ids, colours\n",
    "    ):\n",
    "        # Store the label for each character position within the range\n",
    "        for i in range(start_idx, end_idx):\n",
    "            position_to_label[i] = label\n",
    "            colour_of_label[i] = colour\n",
    "\n",
    "    # Iterate through each character in the text string\n",
    "    for i, char in enumerate(text):\n",
    "        # Check if the current character position should be highlighted\n",
    "        if i in position_to_label:\n",
    "            # If the character position should be highlighted, wrap it in a span with CSS class for styling and tooltip\n",
    "            formatted_chars.append(\n",
    "                f'<span class=\"highlight\" style=\"background-color: {colour_of_label[i]};\" title=\"{position_to_label[i]}\">{text[i]}</span>'\n",
    "            )\n",
    "        else:\n",
    "            # If the character position shouldn't be highlighted, just use the character as is\n",
    "            formatted_chars.append(char)\n",
    "\n",
    "    # Join the formatted characters back into a single string\n",
    "    highlighted_text = \"\".join(formatted_chars)\n",
    "\n",
    "    # Create custom CSS style for the highlight class\n",
    "    custom_css = \"\"\"\n",
    "    <style>\n",
    "    .highlight {\n",
    "        cursor: pointer; /* Change cursor to pointer on hover */\n",
    "    }\n",
    "    </style>\n",
    "    \"\"\"\n",
    "\n",
    "    # Create an HTML widget to display the highlighted text\n",
    "    html_widget = widgets.HTML(value=custom_css + highlighted_text)\n",
    "\n",
    "    # Display the HTML widget\n",
    "    display(html_widget, clear=True)"
   ]
  },
  {
   "cell_type": "code",
   "execution_count": 18,
   "metadata": {},
   "outputs": [
    {
     "data": {
      "application/vnd.jupyter.widget-view+json": {
       "model_id": "0a7706bb64a04ffbadd572e3801d8289",
       "version_major": 2,
       "version_minor": 0
      },
      "text/plain": [
       "HTML(value='\\n    <style>\\n    .highlight {\\n        cursor: pointer; /* Change cursor to pointer on hover */\\…"
      ]
     },
     "metadata": {},
     "output_type": "display_data"
    }
   ],
   "source": [
    "text = string_data[string_id]\n",
    "entities = entity_data[string_id][\"Entities\"]\n",
    "\n",
    "highlight_character_ranges(text, entities)"
   ]
  },
  {
   "cell_type": "markdown",
   "metadata": {},
   "source": [
    "### Aggregate Analysis"
   ]
  },
  {
   "cell_type": "code",
   "execution_count": 19,
   "metadata": {},
   "outputs": [],
   "source": [
    "from collections import Counter\n",
    "\n",
    "all_entities = []\n",
    "for entities in entity_data:\n",
    "    for entity in entities[\"Entities\"]:\n",
    "        all_entities.append(entity[\"label\"])\n",
    "\n",
    "entity_counter = Counter(all_entities)"
   ]
  },
  {
   "cell_type": "code",
   "execution_count": 20,
   "metadata": {},
   "outputs": [
    {
     "name": "stdout",
     "output_type": "stream",
     "text": [
      "         keys  counts\n",
      "1   diagnosis      10\n",
      "0      person       8\n",
      "2  nhs number       4\n"
     ]
    }
   ],
   "source": [
    "import pandas as pd\n",
    "\n",
    "top_n = 3\n",
    "\n",
    "keys = list(entity_counter.keys())\n",
    "counter_df = pd.DataFrame(\n",
    "    {\"keys\": keys, \"counts\": [entity_counter[k] for k in keys]}\n",
    ")\n",
    "\n",
    "counter_df = counter_df.sort_values(\"counts\", ascending=False).iloc[:top_n, :]\n",
    "\n",
    "print(counter_df)"
   ]
  }
 ],
 "metadata": {
  "kernelspec": {
   "display_name": "Python 3",
   "language": "python",
   "name": "python3"
  },
  "language_info": {
   "codemirror_mode": {
    "name": "ipython",
    "version": 3
   },
   "file_extension": ".py",
   "mimetype": "text/x-python",
   "name": "python",
   "nbconvert_exporter": "python",
   "pygments_lexer": "ipython3",
   "version": "3.11.0rc1"
  }
 },
 "nbformat": 4,
 "nbformat_minor": 2
}
