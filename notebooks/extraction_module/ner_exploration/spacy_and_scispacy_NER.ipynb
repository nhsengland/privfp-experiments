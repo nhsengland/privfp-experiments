{
 "cells": [
  {
   "cell_type": "markdown",
   "metadata": {},
   "source": [
    "# Spacy\n",
    "\n",
    "Spacy provides a lot of NER models in the open-source space.\n",
    "* spaCy contains a range of models which cover entities such as name and location etc.\n",
    "* scispaCy contains models for processing biomedical, scientific or clinical text. [More Information here](https://allenai.github.io/scispacy/)\n",
    "* medspaCy toolkit uses clinical NLP with spaCy. [More Information here](https://spacy.io/universe/project/medspacy)"
   ]
  },
  {
   "cell_type": "code",
   "execution_count": null,
   "metadata": {},
   "outputs": [],
   "source": [
    "import json\n",
    "import spacy"
   ]
  },
  {
   "cell_type": "code",
   "execution_count": null,
   "metadata": {},
   "outputs": [],
   "source": [
    "with open('../../../data/llm_dataset.json') as f:\n",
    "    data = json.load(f)"
   ]
  },
  {
   "cell_type": "markdown",
   "metadata": {},
   "source": [
    "**spacy.cli** can be used to download models, which can then be used in this pipeline."
   ]
  },
  {
   "cell_type": "code",
   "execution_count": null,
   "metadata": {},
   "outputs": [],
   "source": [
    "# import spacy.cli \n",
    "\n",
    "# spaCy Models\n",
    "# spacy.cli.download(\"en_core_web_sm\")\n",
    "# spacy.cli.download(\"en_core_web_md\")\n",
    "# spacy.cli.download(\"en_core_web_lg\")\n",
    "# spacy.cli.download(\"en_core_sci_scibert\")\n",
    "\n",
    "# scispaCy Models\n",
    "nlp = spacy.load(\"en_core_sci_scibert\")\n",
    "# nlp= spacy.load(\"en_core_sci_md\")\n",
    "\n",
    "# medspaCy\n"
   ]
  },
  {
   "cell_type": "code",
   "execution_count": null,
   "metadata": {},
   "outputs": [],
   "source": [
    "num = [0, 15, 30, 165, 345, 567, 735][5]\n",
    "\n",
    "# This function generate anotation for each entities and label\n",
    "def generate_annotation(texts):\n",
    "    annotations = []\n",
    "    for text in texts:\n",
    "        doc = nlp(text)\n",
    "        entities = []\n",
    "        for ent in doc.ents:\n",
    "            entities.append((ent.start_char, ent.end_char, ent.label_))\n",
    "        annotations.append((text, {'entities': entities}))\n",
    "    return annotations\n",
    "\n",
    "\n",
    "# Let's generate annotations\n",
    "annotations = generate_annotation(data[num])\n",
    "\n",
    "col_dict = {}\n",
    "s_colours = ['#e6194B', '#3cb44b', '#ffe119', '#ffd8b1', '#f58231', '#f032e6', '#42d4f4']\n",
    "for label, colour in zip(nlp.pipe_labels['ner'], s_colours):\n",
    "    col_dict[label] = colour\n",
    "\n",
    "options = {'ents': nlp.pipe_labels['ner'], 'colors':col_dict}\n",
    "\n",
    "doc = nlp(data[num])\n",
    "\n",
    "spacy.displacy.render(doc, style = 'ent', jupyter = True, options = options)\n",
    "\n",
    "# This prints annotated text with colour to user - is pretty\n",
    "[(ent.text, ent.label_) for ent in doc.ents]\n",
    "\n",
    "## This creates a dictionary of results that could be useful for overlaying.\n",
    "# def spacy_large_ner(document, model):\n",
    "#   return {(ent.text.strip(), ent.label_) for ent in model(document).ents}\n",
    "\n",
    "# print(spacy_large_ner(data[1], nlp))\n"
   ]
  }
 ],
 "metadata": {
  "kernelspec": {
   "display_name": "privacyfp",
   "language": "python",
   "name": "python3"
  },
  "language_info": {
   "codemirror_mode": {
    "name": "ipython",
    "version": 3
   },
   "file_extension": ".py",
   "mimetype": "text/x-python",
   "name": "python",
   "nbconvert_exporter": "python",
   "pygments_lexer": "ipython3",
   "version": "3.8.18"
  }
 },
 "nbformat": 4,
 "nbformat_minor": 2
}
