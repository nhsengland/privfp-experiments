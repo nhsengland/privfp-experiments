{
 "cells": [
  {
   "cell_type": "markdown",
   "metadata": {},
   "source": [
    "# Numind NER\n",
    "This is a named-entity recognition model that has been trained on many datasets that covers a wide-span of different entity types. \n",
    "[More Information here](https://www.numind.ai/blog/a-foundation-model-for-entity-recognition)"
   ]
  },
  {
   "cell_type": "code",
   "execution_count": 1,
   "metadata": {},
   "outputs": [],
   "source": [
    "import json\n",
    "import torch\n",
    "from transformers import AutoTokenizer, AutoModel\n",
    "from transformers import AutoTokenizer, AutoModelForTokenClassification\n",
    "from transformers import pipeline"
   ]
  },
  {
   "cell_type": "code",
   "execution_count": 4,
   "metadata": {},
   "outputs": [],
   "source": [
    "with open('../../../data/llm_dataset.json') as f:\n",
    "    data = json.load(f)"
   ]
  },
  {
   "cell_type": "code",
   "execution_count": 5,
   "metadata": {},
   "outputs": [
    {
     "data": {
      "application/vnd.jupyter.widget-view+json": {
       "model_id": "0120076987f0422890e061f66baefe24",
       "version_major": 2,
       "version_minor": 0
      },
      "text/plain": [
       "config.json:   0%|          | 0.00/666 [00:00<?, ?B/s]"
      ]
     },
     "metadata": {},
     "output_type": "display_data"
    },
    {
     "data": {
      "application/vnd.jupyter.widget-view+json": {
       "model_id": "566bc4da33f24b94879cfe64d5dcd891",
       "version_major": 2,
       "version_minor": 0
      },
      "text/plain": [
       "pytorch_model.bin:   0%|          | 0.00/499M [00:00<?, ?B/s]"
      ]
     },
     "metadata": {},
     "output_type": "display_data"
    },
    {
     "name": "stderr",
     "output_type": "stream",
     "text": [
      "Some weights of RobertaForTokenClassification were not initialized from the model checkpoint at numind/generic-entity_recognition_NER-v1 and are newly initialized: ['classifier.bias', 'classifier.weight']\n",
      "You should probably TRAIN this model on a down-stream task to be able to use it for predictions and inference.\n"
     ]
    },
    {
     "data": {
      "application/vnd.jupyter.widget-view+json": {
       "model_id": "9e97127075914a47a75ab81da2aa3c1b",
       "version_major": 2,
       "version_minor": 0
      },
      "text/plain": [
       "tokenizer_config.json:   0%|          | 0.00/1.34k [00:00<?, ?B/s]"
      ]
     },
     "metadata": {},
     "output_type": "display_data"
    },
    {
     "data": {
      "application/vnd.jupyter.widget-view+json": {
       "model_id": "71d0e8fe44194a0bbddd7c526088a742",
       "version_major": 2,
       "version_minor": 0
      },
      "text/plain": [
       "vocab.json:   0%|          | 0.00/999k [00:00<?, ?B/s]"
      ]
     },
     "metadata": {},
     "output_type": "display_data"
    },
    {
     "data": {
      "application/vnd.jupyter.widget-view+json": {
       "model_id": "0a77da80fc854f1e855906d5fbbae384",
       "version_major": 2,
       "version_minor": 0
      },
      "text/plain": [
       "merges.txt:   0%|          | 0.00/456k [00:00<?, ?B/s]"
      ]
     },
     "metadata": {},
     "output_type": "display_data"
    },
    {
     "data": {
      "application/vnd.jupyter.widget-view+json": {
       "model_id": "bed0338573b84ca4b7c9e004483b76ba",
       "version_major": 2,
       "version_minor": 0
      },
      "text/plain": [
       "tokenizer.json:   0%|          | 0.00/1.36M [00:00<?, ?B/s]"
      ]
     },
     "metadata": {},
     "output_type": "display_data"
    },
    {
     "data": {
      "application/vnd.jupyter.widget-view+json": {
       "model_id": "d6c7108664ae4c9a98995794cb611bf5",
       "version_major": 2,
       "version_minor": 0
      },
      "text/plain": [
       "special_tokens_map.json:   0%|          | 0.00/957 [00:00<?, ?B/s]"
      ]
     },
     "metadata": {},
     "output_type": "display_data"
    },
    {
     "name": "stdout",
     "output_type": "stream",
     "text": [
      "[{'entity': 'LABEL_1', 'score': 0.63509744, 'index': 1, 'word': 'Ċ', 'start': 0, 'end': 1}, {'entity': 'LABEL_1', 'score': 0.63210505, 'index': 2, 'word': 'Ċ', 'start': 1, 'end': 2}, {'entity': 'LABEL_1', 'score': 0.6470221, 'index': 3, 'word': 'Mr', 'start': 2, 'end': 4}, {'entity': 'LABEL_1', 'score': 0.62505484, 'index': 4, 'word': '.', 'start': 4, 'end': 5}, {'entity': 'LABEL_1', 'score': 0.5915555, 'index': 5, 'word': 'ĠBrandon', 'start': 6, 'end': 13}, {'entity': 'LABEL_1', 'score': 0.60474813, 'index': 6, 'word': 'ĠMcL', 'start': 14, 'end': 17}, {'entity': 'LABEL_1', 'score': 0.60803676, 'index': 7, 'word': 'aughlin', 'start': 17, 'end': 24}, {'entity': 'LABEL_0', 'score': 0.50539356, 'index': 8, 'word': 'Ġis', 'start': 25, 'end': 27}, {'entity': 'LABEL_0', 'score': 0.5426286, 'index': 9, 'word': 'Ġa', 'start': 28, 'end': 29}, {'entity': 'LABEL_1', 'score': 0.5182796, 'index': 10, 'word': 'Ġ13', 'start': 30, 'end': 32}, {'entity': 'LABEL_1', 'score': 0.5106139, 'index': 11, 'word': '-', 'start': 32, 'end': 33}, {'entity': 'LABEL_1', 'score': 0.52647096, 'index': 12, 'word': 'year', 'start': 33, 'end': 37}, {'entity': 'LABEL_0', 'score': 0.5051398, 'index': 13, 'word': '-', 'start': 37, 'end': 38}, {'entity': 'LABEL_1', 'score': 0.5442677, 'index': 14, 'word': 'old', 'start': 38, 'end': 41}, {'entity': 'LABEL_0', 'score': 0.50052154, 'index': 15, 'word': 'Ġmale', 'start': 42, 'end': 46}, {'entity': 'LABEL_1', 'score': 0.5236985, 'index': 16, 'word': 'Ġof', 'start': 47, 'end': 49}, {'entity': 'LABEL_1', 'score': 0.51772743, 'index': 17, 'word': 'ĠChinese', 'start': 50, 'end': 57}, {'entity': 'LABEL_1', 'score': 0.5372862, 'index': 18, 'word': 'Ġethnicity', 'start': 58, 'end': 67}, {'entity': 'LABEL_0', 'score': 0.60777354, 'index': 19, 'word': 'Ġwith', 'start': 68, 'end': 72}, {'entity': 'LABEL_0', 'score': 0.66208977, 'index': 20, 'word': 'Ġan', 'start': 73, 'end': 75}, {'entity': 'LABEL_0', 'score': 0.62626106, 'index': 21, 'word': 'ĠNHS', 'start': 76, 'end': 79}, {'entity': 'LABEL_0', 'score': 0.6287748, 'index': 22, 'word': 'Ġnumber', 'start': 80, 'end': 86}, {'entity': 'LABEL_0', 'score': 0.58956635, 'index': 23, 'word': 'Ġof', 'start': 87, 'end': 89}, {'entity': 'LABEL_0', 'score': 0.6024913, 'index': 24, 'word': 'Ġ5', 'start': 90, 'end': 91}, {'entity': 'LABEL_0', 'score': 0.57267314, 'index': 25, 'word': '68', 'start': 91, 'end': 93}, {'entity': 'LABEL_0', 'score': 0.58539915, 'index': 26, 'word': 'Ġ9', 'start': 94, 'end': 95}, {'entity': 'LABEL_0', 'score': 0.581798, 'index': 27, 'word': '68', 'start': 95, 'end': 97}, {'entity': 'LABEL_0', 'score': 0.59467334, 'index': 28, 'word': 'Ġ0', 'start': 98, 'end': 99}, {'entity': 'LABEL_0', 'score': 0.6154483, 'index': 29, 'word': '803', 'start': 99, 'end': 102}, {'entity': 'LABEL_0', 'score': 0.5782757, 'index': 30, 'word': 'Ġand', 'start': 103, 'end': 106}, {'entity': 'LABEL_0', 'score': 0.63019466, 'index': 31, 'word': 'Ġa', 'start': 107, 'end': 108}, {'entity': 'LABEL_0', 'score': 0.6313594, 'index': 32, 'word': 'Ġdate', 'start': 109, 'end': 113}, {'entity': 'LABEL_0', 'score': 0.62239516, 'index': 33, 'word': 'Ġof', 'start': 114, 'end': 116}, {'entity': 'LABEL_0', 'score': 0.60167843, 'index': 34, 'word': 'Ġbirth', 'start': 117, 'end': 122}, {'entity': 'LABEL_0', 'score': 0.6391905, 'index': 35, 'word': 'Ġof', 'start': 123, 'end': 125}, {'entity': 'LABEL_0', 'score': 0.6273741, 'index': 36, 'word': 'Ġ1963', 'start': 126, 'end': 130}, {'entity': 'LABEL_0', 'score': 0.6514908, 'index': 37, 'word': '-', 'start': 130, 'end': 131}, {'entity': 'LABEL_0', 'score': 0.6495848, 'index': 38, 'word': '12', 'start': 131, 'end': 133}, {'entity': 'LABEL_0', 'score': 0.6596284, 'index': 39, 'word': '-', 'start': 133, 'end': 134}, {'entity': 'LABEL_0', 'score': 0.66396624, 'index': 40, 'word': '07', 'start': 134, 'end': 136}, {'entity': 'LABEL_1', 'score': 0.5548182, 'index': 41, 'word': '.', 'start': 136, 'end': 137}, {'entity': 'LABEL_1', 'score': 0.5143063, 'index': 42, 'word': 'ĠHe', 'start': 138, 'end': 140}, {'entity': 'LABEL_0', 'score': 0.58188665, 'index': 43, 'word': 'Ġis', 'start': 141, 'end': 143}, {'entity': 'LABEL_0', 'score': 0.5662189, 'index': 44, 'word': 'Ġsingle', 'start': 144, 'end': 150}, {'entity': 'LABEL_0', 'score': 0.5431682, 'index': 45, 'word': 'Ġand', 'start': 151, 'end': 154}, {'entity': 'LABEL_0', 'score': 0.5743822, 'index': 46, 'word': 'Ġis', 'start': 155, 'end': 157}, {'entity': 'LABEL_0', 'score': 0.5772541, 'index': 47, 'word': 'Ġvisiting', 'start': 158, 'end': 166}, {'entity': 'LABEL_0', 'score': 0.54292816, 'index': 48, 'word': 'ĠB', 'start': 167, 'end': 168}, {'entity': 'LABEL_0', 'score': 0.52692527, 'index': 49, 'word': 'itter', 'start': 168, 'end': 173}, {'entity': 'LABEL_0', 'score': 0.51135, 'index': 50, 'word': 'ne', 'start': 173, 'end': 175}, {'entity': 'LABEL_0', 'score': 0.5150244, 'index': 51, 'word': 'ĠSurgery', 'start': 176, 'end': 183}, {'entity': 'LABEL_0', 'score': 0.58548737, 'index': 52, 'word': 'Ġon', 'start': 184, 'end': 186}, {'entity': 'LABEL_0', 'score': 0.6113589, 'index': 53, 'word': 'Ġ1976', 'start': 187, 'end': 191}, {'entity': 'LABEL_0', 'score': 0.6074177, 'index': 54, 'word': '-', 'start': 191, 'end': 192}, {'entity': 'LABEL_0', 'score': 0.61056906, 'index': 55, 'word': '06', 'start': 192, 'end': 194}, {'entity': 'LABEL_0', 'score': 0.5977951, 'index': 56, 'word': '-', 'start': 194, 'end': 195}, {'entity': 'LABEL_0', 'score': 0.59952873, 'index': 57, 'word': '03', 'start': 195, 'end': 197}, {'entity': 'LABEL_0', 'score': 0.6159872, 'index': 58, 'word': ',', 'start': 197, 'end': 198}, {'entity': 'LABEL_0', 'score': 0.6818688, 'index': 59, 'word': 'Ġwith', 'start': 199, 'end': 203}, {'entity': 'LABEL_0', 'score': 0.65923727, 'index': 60, 'word': 'Ġa', 'start': 204, 'end': 205}, {'entity': 'LABEL_0', 'score': 0.67071784, 'index': 61, 'word': 'Ġdiagnosis', 'start': 206, 'end': 215}, {'entity': 'LABEL_0', 'score': 0.64773107, 'index': 62, 'word': 'Ġof', 'start': 216, 'end': 218}, {'entity': 'LABEL_0', 'score': 0.585734, 'index': 63, 'word': 'Ġacute', 'start': 219, 'end': 224}, {'entity': 'LABEL_0', 'score': 0.5814696, 'index': 64, 'word': 'Ġbron', 'start': 225, 'end': 229}, {'entity': 'LABEL_0', 'score': 0.54957974, 'index': 65, 'word': 'ch', 'start': 229, 'end': 231}, {'entity': 'LABEL_0', 'score': 0.56083876, 'index': 66, 'word': 'itis', 'start': 231, 'end': 235}, {'entity': 'LABEL_1', 'score': 0.5548182, 'index': 67, 'word': '.', 'start': 235, 'end': 236}, {'entity': 'LABEL_0', 'score': 0.55692387, 'index': 68, 'word': 'ĠHis', 'start': 237, 'end': 240}, {'entity': 'LABEL_0', 'score': 0.51529753, 'index': 69, 'word': 'Ġcare', 'start': 241, 'end': 245}, {'entity': 'LABEL_0', 'score': 0.50336486, 'index': 70, 'word': 'Ġplan', 'start': 246, 'end': 250}, {'entity': 'LABEL_0', 'score': 0.55702174, 'index': 71, 'word': 'Ġincludes', 'start': 251, 'end': 259}, {'entity': 'LABEL_0', 'score': 0.5267079, 'index': 72, 'word': 'Ġrespiratory', 'start': 260, 'end': 271}, {'entity': 'LABEL_0', 'score': 0.5193739, 'index': 73, 'word': 'Ġtherapy', 'start': 272, 'end': 279}, {'entity': 'LABEL_1', 'score': 0.5548182, 'index': 74, 'word': '.', 'start': 279, 'end': 280}]\n"
     ]
    }
   ],
   "source": [
    "model = AutoModelForTokenClassification.from_pretrained(\"numind/generic-entity_recognition_NER-v1\")\n",
    "tokenizer = AutoTokenizer.from_pretrained(\"numind/generic-entity_recognition_NER-v1\")\n",
    "nlp = pipeline(\"ner\", model=model, tokenizer=tokenizer)\n",
    "ner_results = nlp(data[0])\n",
    "print(ner_results)"
   ]
  },
  {
   "cell_type": "code",
   "execution_count": 6,
   "metadata": {},
   "outputs": [
    {
     "data": {
      "text/plain": [
       "RobertaModel(\n",
       "  (embeddings): RobertaEmbeddings(\n",
       "    (word_embeddings): Embedding(50265, 768, padding_idx=1)\n",
       "    (position_embeddings): Embedding(514, 768, padding_idx=1)\n",
       "    (token_type_embeddings): Embedding(1, 768)\n",
       "    (LayerNorm): LayerNorm((768,), eps=1e-05, elementwise_affine=True)\n",
       "    (dropout): Dropout(p=0.1, inplace=False)\n",
       "  )\n",
       "  (encoder): RobertaEncoder(\n",
       "    (layer): ModuleList(\n",
       "      (0-11): 12 x RobertaLayer(\n",
       "        (attention): RobertaAttention(\n",
       "          (self): RobertaSelfAttention(\n",
       "            (query): Linear(in_features=768, out_features=768, bias=True)\n",
       "            (key): Linear(in_features=768, out_features=768, bias=True)\n",
       "            (value): Linear(in_features=768, out_features=768, bias=True)\n",
       "            (dropout): Dropout(p=0.1, inplace=False)\n",
       "          )\n",
       "          (output): RobertaSelfOutput(\n",
       "            (dense): Linear(in_features=768, out_features=768, bias=True)\n",
       "            (LayerNorm): LayerNorm((768,), eps=1e-05, elementwise_affine=True)\n",
       "            (dropout): Dropout(p=0.1, inplace=False)\n",
       "          )\n",
       "        )\n",
       "        (intermediate): RobertaIntermediate(\n",
       "          (dense): Linear(in_features=768, out_features=3072, bias=True)\n",
       "          (intermediate_act_fn): GELUActivation()\n",
       "        )\n",
       "        (output): RobertaOutput(\n",
       "          (dense): Linear(in_features=3072, out_features=768, bias=True)\n",
       "          (LayerNorm): LayerNorm((768,), eps=1e-05, elementwise_affine=True)\n",
       "          (dropout): Dropout(p=0.1, inplace=False)\n",
       "        )\n",
       "      )\n",
       "    )\n",
       "  )\n",
       "  (pooler): RobertaPooler(\n",
       "    (dense): Linear(in_features=768, out_features=768, bias=True)\n",
       "    (activation): Tanh()\n",
       "  )\n",
       ")"
      ]
     },
     "execution_count": 6,
     "metadata": {},
     "output_type": "execute_result"
    }
   ],
   "source": [
    "model = AutoModel.from_pretrained(\"numind/generic-entity_recognition_NER-v1\")\n",
    "tokenizer = AutoTokenizer.from_pretrained(\"numind/generic-entity_recognition_NER-v1\")\n",
    "device = torch.device('cuda') if torch.cuda.is_available() else torch.device('cpu')\n",
    "model.to(device)"
   ]
  },
  {
   "cell_type": "code",
   "execution_count": 16,
   "metadata": {},
   "outputs": [],
   "source": [
    "size = 256\n",
    "text = \"This movie is amazing\""
   ]
  },
  {
   "cell_type": "code",
   "execution_count": 17,
   "metadata": {},
   "outputs": [],
   "source": [
    "encoding = tokenizer(\n",
    "    text,\n",
    "    truncation=True, \n",
    "    padding='max_length', \n",
    "    max_length= size,\n",
    ")\n",
    "\n",
    "emb = model(\n",
    "      torch.reshape(torch.tensor(encoding.input_ids),(1,len(encoding.input_ids))).to(device),output_hidden_states=True\n",
    ").hidden_states[-1].cpu().detach()\n",
    "\n",
    "embText = torch.mean(emb,axis = 1)"
   ]
  }
 ],
 "metadata": {
  "kernelspec": {
   "display_name": "privacyfp",
   "language": "python",
   "name": "python3"
  },
  "language_info": {
   "codemirror_mode": {
    "name": "ipython",
    "version": 3
   },
   "file_extension": ".py",
   "mimetype": "text/x-python",
   "name": "python",
   "nbconvert_exporter": "python",
   "pygments_lexer": "ipython3",
   "version": "3.8.18"
  }
 },
 "nbformat": 4,
 "nbformat_minor": 2
}
