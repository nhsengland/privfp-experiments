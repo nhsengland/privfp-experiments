{
 "cells": [
  {
   "cell_type": "markdown",
   "metadata": {},
   "source": [
    "# SpanMarker NER\n",
    "\n",
    "SpanMarker is a framework for training powerful Named Entity Recognition models using familiar encoders such as BERT, RoBERTa and ELECTRA.\n",
    "\n",
    "[More Information here](https://github.com/tomaarsen/SpanMarkerNER)"
   ]
  },
  {
   "cell_type": "code",
   "execution_count": null,
   "metadata": {},
   "outputs": [],
   "source": [
    "import json\n",
    "\n",
    "with open('../../../data/llm_dataset.json') as f:\n",
    "    data = json.load(f)"
   ]
  },
  {
   "cell_type": "code",
   "execution_count": null,
   "metadata": {},
   "outputs": [],
   "source": [
    "from span_marker import SpanMarkerModel\n",
    "\n",
    "patient_dict = {}\n",
    "patient_nums = [0, 15, 30, 78, 165, 276, 345, 428, 567, 735, 852, 961]\n",
    "\n",
    "for patient_num in patient_nums:\n",
    "    text = data[patient_num].strip()\n",
    "\n",
    "    # Download from the 🤗 Hub\n",
    "    # model = SpanMarkerModel.from_pretrained(\"tomaarsen/span-marker-bert-base-fewnerd-fine-super\")\n",
    "    # model = SpanMarkerModel.from_pretrained(\"tomaarsen/span-marker-roberta-large-fewnerd-fine-super\")\n",
    "    # model = SpanMarkerModel.from_pretrained(\"tomaarsen/span-marker-xlm-roberta-base-fewnerd-fine-super\")\n",
    "\n",
    "    # model = SpanMarkerModel.from_pretrained(\"tomaarsen/span-marker-roberta-large-ontonotes5\")\n",
    "\n",
    "    # model = SpanMarkerModel.from_pretrained(\"tomaarsen/span-marker-xlm-roberta-large-conll03\") \n",
    "    model = SpanMarkerModel.from_pretrained(\"tomaarsen/span-marker-xlm-roberta-large-conll03-doc-context\")\n",
    "    # model = SpanMarkerModel.from_pretrained(\"tomaarsen/span-marker-xlm-roberta-large-conllpp-doc-context\")\n",
    "\n",
    "    # Run inference\n",
    "    entities = model.predict(text)\n",
    "    patient_dict[patient_num] = {\n",
    "        \"text\": text,\n",
    "        \"entities\": entities\n",
    "    }\n"
   ]
  },
  {
   "cell_type": "code",
   "execution_count": null,
   "metadata": {},
   "outputs": [],
   "source": [
    "num = patient_nums[8]\n",
    "print(patient_dict[num][\"text\"])\n",
    "print(patient_dict[num][\"entities\"])"
   ]
  },
  {
   "cell_type": "markdown",
   "metadata": {},
   "source": []
  },
  {
   "cell_type": "markdown",
   "metadata": {},
   "source": [
    "## With spacy integration"
   ]
  },
  {
   "cell_type": "code",
   "execution_count": null,
   "metadata": {},
   "outputs": [],
   "source": [
    "import spacy\n",
    "from span_marker import SpanMarkerModel\n",
    "\n",
    "# Load the spaCy model with the span_marker pipeline component\n",
    "nlp = spacy.load(\"en_core_web_md\", exclude=[\"ner\"])\n",
    "nlp.add_pipe(\"span_marker\", config={\"model\": \"tomaarsen/span-marker-roberta-large-ontonotes5\"})\n",
    "\n",
    "# Feed some text through the model to get a spacy Doc\n",
    "text = \"Mr. McLaughlin presents with acute bronchitis, diagnosed based on symptoms of cough and fever. His medical history includes asthma and allergies. He is a single male, 58 years old, and his address is 649 Schaden Estate Suite 18, Southampton, SO15 9UN. His NHS number is 568 968 0803. The care plan includes respiratory therapy to help manage symptoms.\"\n",
    "\n",
    "doc = nlp(text)\n",
    "\n",
    "# And look at the entities\n",
    "print([(entity, entity.label_) for entity in doc.ents])"
   ]
  },
  {
   "cell_type": "code",
   "execution_count": null,
   "metadata": {},
   "outputs": [],
   "source": [
    "data[0]"
   ]
  },
  {
   "cell_type": "code",
   "execution_count": null,
   "metadata": {},
   "outputs": [],
   "source": [
    "import spacy\n",
    "# spacy.cli.download('en_ner_bc5cdr_md')\n",
    "# nlp = spacy.load(\"en_core_sci_scibert\")\n",
    "\n",
    "# Load the spaCy model with the span_marker pipeline component\n",
    "nlp = spacy.load(\"en_core_sci_scibert\", exclude=[\"ner\"])\n",
    "nlp.add_pipe(\"span_marker\", config={\"model\": \"tomaarsen/span-marker-roberta-large-ontonotes5\"})\n",
    "\n",
    "# Feed some text through the model to get a spacy Doc\n",
    "doc = nlp(data[0])\n",
    "\n",
    "# And look at the entities\n",
    "print([(entity, entity.label_) for entity in doc.ents])"
   ]
  }
 ],
 "metadata": {
  "kernelspec": {
   "display_name": "privacyfp",
   "language": "python",
   "name": "python3"
  },
  "language_info": {
   "codemirror_mode": {
    "name": "ipython",
    "version": 3
   },
   "file_extension": ".py",
   "mimetype": "text/x-python",
   "name": "python",
   "nbconvert_exporter": "python",
   "pygments_lexer": "ipython3",
   "version": "3.8.18"
  }
 },
 "nbformat": 4,
 "nbformat_minor": 2
}
