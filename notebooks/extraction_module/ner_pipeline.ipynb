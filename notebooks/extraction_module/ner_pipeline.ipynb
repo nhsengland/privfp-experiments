{
 "cells": [
  {
   "cell_type": "code",
   "execution_count": 1,
   "metadata": {},
   "outputs": [],
   "source": [
    "import os\n",
    "\n",
    "os.chdir(\"../../\")\n",
    "\n",
    "import pandas as pd\n",
    "\n",
    "from src.extraction import extraction\n",
    "from src.standardisation import standardisation\n",
    "from src.data_imports.llm_ingestion import load_llm_data"
   ]
  },
  {
   "cell_type": "code",
   "execution_count": 2,
   "metadata": {},
   "outputs": [],
   "source": [
    "data = load_llm_data()[0:20]\n",
    "entities = [\"person\", \"NHS number\", \"date of birth\", \"diagnosis\"]"
   ]
  },
  {
   "cell_type": "code",
   "execution_count": 7,
   "metadata": {},
   "outputs": [
    {
     "data": {
      "text/plain": [
       "[    person  NHS number  date of birth  diagnosis\n",
       " 0        4           9              6          5\n",
       " 1        6           3             15          8\n",
       " 2        5          13              7          5\n",
       " 3       17          11              0          9\n",
       " 4       13           4              0          9\n",
       " 5        9           8              9          9\n",
       " 6       14          10             10          2\n",
       " 7       10           1              8          3\n",
       " 8        2          19             12          6\n",
       " 9       11          12              3          0\n",
       " 10       0          15             13          1\n",
       " 11      15           7              0          4\n",
       " 12       1           5             11          0\n",
       " 13      19          18              5          0\n",
       " 14       3          14              0          9\n",
       " 15       8           0              0          4\n",
       " 16      12           2              4          9\n",
       " 17       7           6             14          0\n",
       " 18      18          16              2          9\n",
       " 19      16          17              1          7,\n",
       " {'person': {'Cristy Robel': 0,\n",
       "   'Deidra Corkery': 1,\n",
       "   'Delmy Halvorson': 2,\n",
       "   'Ethan Kutch': 3,\n",
       "   'Mr. Brandon McLaughlin': 4,\n",
       "   \"Mr. Ervin O'Connell\": 5,\n",
       "   'Mr. Esteban Altenwerth': 6,\n",
       "   'Mr. Jaime Sauer': 7,\n",
       "   'Mr. Lupe Cassin': 8,\n",
       "   'Mr. Pierre Hyatt': 9,\n",
       "   'Mr. Shannon Borer': 10,\n",
       "   'Mrs.': 11,\n",
       "   'Mrs. Logan Schaden': 12,\n",
       "   'Mrs. Mirta Mosciski': 13,\n",
       "   'Ms. Angela Collier': 14,\n",
       "   'Ms. Dorie Baumbach': 15,\n",
       "   'Ms. Luann Hills': 16,\n",
       "   'Pam Boehm': 17,\n",
       "   'Reggie Langosh': 18,\n",
       "   'Wendell Oberbrunner': 19},\n",
       "  'NHS number': {'120 506 4336': 0,\n",
       "   '122 273 9962': 1,\n",
       "   '169 421 2926': 2,\n",
       "   '201 826 4805': 3,\n",
       "   '231 157 0705': 4,\n",
       "   '328 659 9956': 5,\n",
       "   '355 112 3923': 6,\n",
       "   '447 249 2567': 7,\n",
       "   '476 859 5816': 8,\n",
       "   '568 968 0803': 9,\n",
       "   '590 161 4272': 10,\n",
       "   '639 189 7032': 11,\n",
       "   '855 311 5624': 12,\n",
       "   '862 334 6633': 13,\n",
       "   '999 126 7519': 14,\n",
       "   '999 251 4401': 15,\n",
       "   '999 367 0222': 16,\n",
       "   '999 395 1923': 17,\n",
       "   '999 595 1633': 18,\n",
       "   '999 774 0304': 19},\n",
       "  'date of birth': {'0': 0,\n",
       "   '10th of August 2003': 1,\n",
       "   '12 year old': 2,\n",
       "   '13 July 1979': 3,\n",
       "   '1958-11-05': 4,\n",
       "   '1958-11-22': 5,\n",
       "   '1963-12-07': 6,\n",
       "   '1964-04-14': 7,\n",
       "   '1982-10-10': 8,\n",
       "   '1987-12-27': 9,\n",
       "   '1996-06-03': 10,\n",
       "   '19th November 1971': 11,\n",
       "   '2005-12-12': 12,\n",
       "   '2009-10-09': 13,\n",
       "   '26th of January 1959': 14,\n",
       "   '29th of October 2005': 15},\n",
       "  'diagnosis': {'0': 0,\n",
       "   'Otitis media': 1,\n",
       "   'Perennial allergic rhinitis with seasonal variation': 2,\n",
       "   'Viral sinusitis': 3,\n",
       "   'acute bacterial sinusitis': 4,\n",
       "   'acute bronchitis': 5,\n",
       "   'acute viral pharyngitis': 6,\n",
       "   'chief complaint': 7,\n",
       "   'primary complaint': 8,\n",
       "   'viral sinusitis': 9}}]"
      ]
     },
     "execution_count": 7,
     "metadata": {},
     "output_type": "execute_result"
    }
   ],
   "source": [
    "standardisation.run(patient_entities, entities)"
   ]
  },
  {
   "cell_type": "code",
   "execution_count": 3,
   "metadata": {},
   "outputs": [
    {
     "name": "stderr",
     "output_type": "stream",
     "text": [
      "llama_model_loader: loaded meta data with 21 key-value pairs and 291 tensors from ./models/quantized_q4_1.gguf (version GGUF V3 (latest))\n",
      "llama_model_loader: - tensor    0:                token_embd.weight q4_1     [  4096, 32000,     1,     1 ]\n",
      "llama_model_loader: - tensor    1:              blk.0.attn_q.weight q4_1     [  4096,  4096,     1,     1 ]\n",
      "llama_model_loader: - tensor    2:              blk.0.attn_k.weight q4_1     [  4096,  4096,     1,     1 ]\n",
      "llama_model_loader: - tensor    3:              blk.0.attn_v.weight q4_1     [  4096,  4096,     1,     1 ]\n",
      "llama_model_loader: - tensor    4:         blk.0.attn_output.weight q4_1     [  4096,  4096,     1,     1 ]\n",
      "llama_model_loader: - tensor    5:            blk.0.ffn_gate.weight q4_1     [  4096, 11008,     1,     1 ]\n",
      "llama_model_loader: - tensor    6:            blk.0.ffn_down.weight q4_1     [ 11008,  4096,     1,     1 ]\n",
      "llama_model_loader: - tensor    7:              blk.0.ffn_up.weight q4_1     [  4096, 11008,     1,     1 ]\n",
      "llama_model_loader: - tensor    8:           blk.0.attn_norm.weight f32      [  4096,     1,     1,     1 ]\n",
      "llama_model_loader: - tensor    9:            blk.0.ffn_norm.weight f32      [  4096,     1,     1,     1 ]\n",
      "llama_model_loader: - tensor   10:              blk.1.attn_q.weight q4_1     [  4096,  4096,     1,     1 ]\n",
      "llama_model_loader: - tensor   11:              blk.1.attn_k.weight q4_1     [  4096,  4096,     1,     1 ]\n",
      "llama_model_loader: - tensor   12:              blk.1.attn_v.weight q4_1     [  4096,  4096,     1,     1 ]\n",
      "llama_model_loader: - tensor   13:         blk.1.attn_output.weight q4_1     [  4096,  4096,     1,     1 ]\n",
      "llama_model_loader: - tensor   14:            blk.1.ffn_gate.weight q4_1     [  4096, 11008,     1,     1 ]\n",
      "llama_model_loader: - tensor   15:            blk.1.ffn_down.weight q4_1     [ 11008,  4096,     1,     1 ]\n",
      "llama_model_loader: - tensor   16:              blk.1.ffn_up.weight q4_1     [  4096, 11008,     1,     1 ]\n",
      "llama_model_loader: - tensor   17:           blk.1.attn_norm.weight f32      [  4096,     1,     1,     1 ]\n",
      "llama_model_loader: - tensor   18:            blk.1.ffn_norm.weight f32      [  4096,     1,     1,     1 ]\n",
      "llama_model_loader: - tensor   19:              blk.2.attn_q.weight q4_1     [  4096,  4096,     1,     1 ]\n",
      "llama_model_loader: - tensor   20:              blk.2.attn_k.weight q4_1     [  4096,  4096,     1,     1 ]\n",
      "llama_model_loader: - tensor   21:              blk.2.attn_v.weight q4_1     [  4096,  4096,     1,     1 ]\n",
      "llama_model_loader: - tensor   22:         blk.2.attn_output.weight q4_1     [  4096,  4096,     1,     1 ]\n",
      "llama_model_loader: - tensor   23:            blk.2.ffn_gate.weight q4_1     [  4096, 11008,     1,     1 ]\n",
      "llama_model_loader: - tensor   24:            blk.2.ffn_down.weight q4_1     [ 11008,  4096,     1,     1 ]\n",
      "llama_model_loader: - tensor   25:              blk.2.ffn_up.weight q4_1     [  4096, 11008,     1,     1 ]\n",
      "llama_model_loader: - tensor   26:           blk.2.attn_norm.weight f32      [  4096,     1,     1,     1 ]\n",
      "llama_model_loader: - tensor   27:            blk.2.ffn_norm.weight f32      [  4096,     1,     1,     1 ]\n",
      "llama_model_loader: - tensor   28:              blk.3.attn_q.weight q4_1     [  4096,  4096,     1,     1 ]\n",
      "llama_model_loader: - tensor   29:              blk.3.attn_k.weight q4_1     [  4096,  4096,     1,     1 ]\n",
      "llama_model_loader: - tensor   30:              blk.3.attn_v.weight q4_1     [  4096,  4096,     1,     1 ]\n",
      "llama_model_loader: - tensor   31:         blk.3.attn_output.weight q4_1     [  4096,  4096,     1,     1 ]\n",
      "llama_model_loader: - tensor   32:            blk.3.ffn_gate.weight q4_1     [  4096, 11008,     1,     1 ]\n",
      "llama_model_loader: - tensor   33:            blk.3.ffn_down.weight q4_1     [ 11008,  4096,     1,     1 ]\n",
      "llama_model_loader: - tensor   34:              blk.3.ffn_up.weight q4_1     [  4096, 11008,     1,     1 ]\n",
      "llama_model_loader: - tensor   35:           blk.3.attn_norm.weight f32      [  4096,     1,     1,     1 ]\n",
      "llama_model_loader: - tensor   36:            blk.3.ffn_norm.weight f32      [  4096,     1,     1,     1 ]\n",
      "llama_model_loader: - tensor   37:              blk.4.attn_q.weight q4_1     [  4096,  4096,     1,     1 ]\n",
      "llama_model_loader: - tensor   38:              blk.4.attn_k.weight q4_1     [  4096,  4096,     1,     1 ]\n",
      "llama_model_loader: - tensor   39:              blk.4.attn_v.weight q4_1     [  4096,  4096,     1,     1 ]\n",
      "llama_model_loader: - tensor   40:         blk.4.attn_output.weight q4_1     [  4096,  4096,     1,     1 ]\n",
      "llama_model_loader: - tensor   41:            blk.4.ffn_gate.weight q4_1     [  4096, 11008,     1,     1 ]\n",
      "llama_model_loader: - tensor   42:            blk.4.ffn_down.weight q4_1     [ 11008,  4096,     1,     1 ]\n",
      "llama_model_loader: - tensor   43:              blk.4.ffn_up.weight q4_1     [  4096, 11008,     1,     1 ]\n",
      "llama_model_loader: - tensor   44:           blk.4.attn_norm.weight f32      [  4096,     1,     1,     1 ]\n",
      "llama_model_loader: - tensor   45:            blk.4.ffn_norm.weight f32      [  4096,     1,     1,     1 ]\n",
      "llama_model_loader: - tensor   46:              blk.5.attn_q.weight q4_1     [  4096,  4096,     1,     1 ]\n",
      "llama_model_loader: - tensor   47:              blk.5.attn_k.weight q4_1     [  4096,  4096,     1,     1 ]\n",
      "llama_model_loader: - tensor   48:              blk.5.attn_v.weight q4_1     [  4096,  4096,     1,     1 ]\n",
      "llama_model_loader: - tensor   49:         blk.5.attn_output.weight q4_1     [  4096,  4096,     1,     1 ]\n",
      "llama_model_loader: - tensor   50:            blk.5.ffn_gate.weight q4_1     [  4096, 11008,     1,     1 ]\n",
      "llama_model_loader: - tensor   51:            blk.5.ffn_down.weight q4_1     [ 11008,  4096,     1,     1 ]\n",
      "llama_model_loader: - tensor   52:              blk.5.ffn_up.weight q4_1     [  4096, 11008,     1,     1 ]\n",
      "llama_model_loader: - tensor   53:           blk.5.attn_norm.weight f32      [  4096,     1,     1,     1 ]\n",
      "llama_model_loader: - tensor   54:            blk.5.ffn_norm.weight f32      [  4096,     1,     1,     1 ]\n",
      "llama_model_loader: - tensor   55:              blk.6.attn_q.weight q4_1     [  4096,  4096,     1,     1 ]\n",
      "llama_model_loader: - tensor   56:              blk.6.attn_k.weight q4_1     [  4096,  4096,     1,     1 ]\n",
      "llama_model_loader: - tensor   57:              blk.6.attn_v.weight q4_1     [  4096,  4096,     1,     1 ]\n",
      "llama_model_loader: - tensor   58:         blk.6.attn_output.weight q4_1     [  4096,  4096,     1,     1 ]\n",
      "llama_model_loader: - tensor   59:            blk.6.ffn_gate.weight q4_1     [  4096, 11008,     1,     1 ]\n",
      "llama_model_loader: - tensor   60:            blk.6.ffn_down.weight q4_1     [ 11008,  4096,     1,     1 ]\n",
      "llama_model_loader: - tensor   61:              blk.6.ffn_up.weight q4_1     [  4096, 11008,     1,     1 ]\n",
      "llama_model_loader: - tensor   62:           blk.6.attn_norm.weight f32      [  4096,     1,     1,     1 ]\n",
      "llama_model_loader: - tensor   63:            blk.6.ffn_norm.weight f32      [  4096,     1,     1,     1 ]\n",
      "llama_model_loader: - tensor   64:              blk.7.attn_q.weight q4_1     [  4096,  4096,     1,     1 ]\n",
      "llama_model_loader: - tensor   65:              blk.7.attn_k.weight q4_1     [  4096,  4096,     1,     1 ]\n",
      "llama_model_loader: - tensor   66:              blk.7.attn_v.weight q4_1     [  4096,  4096,     1,     1 ]\n",
      "llama_model_loader: - tensor   67:         blk.7.attn_output.weight q4_1     [  4096,  4096,     1,     1 ]\n",
      "llama_model_loader: - tensor   68:            blk.7.ffn_gate.weight q4_1     [  4096, 11008,     1,     1 ]\n",
      "llama_model_loader: - tensor   69:            blk.7.ffn_down.weight q4_1     [ 11008,  4096,     1,     1 ]\n",
      "llama_model_loader: - tensor   70:              blk.7.ffn_up.weight q4_1     [  4096, 11008,     1,     1 ]\n",
      "llama_model_loader: - tensor   71:           blk.7.attn_norm.weight f32      [  4096,     1,     1,     1 ]\n",
      "llama_model_loader: - tensor   72:            blk.7.ffn_norm.weight f32      [  4096,     1,     1,     1 ]\n",
      "llama_model_loader: - tensor   73:              blk.8.attn_q.weight q4_1     [  4096,  4096,     1,     1 ]\n",
      "llama_model_loader: - tensor   74:              blk.8.attn_k.weight q4_1     [  4096,  4096,     1,     1 ]\n",
      "llama_model_loader: - tensor   75:              blk.8.attn_v.weight q4_1     [  4096,  4096,     1,     1 ]\n",
      "llama_model_loader: - tensor   76:         blk.8.attn_output.weight q4_1     [  4096,  4096,     1,     1 ]\n",
      "llama_model_loader: - tensor   77:            blk.8.ffn_gate.weight q4_1     [  4096, 11008,     1,     1 ]\n",
      "llama_model_loader: - tensor   78:            blk.8.ffn_down.weight q4_1     [ 11008,  4096,     1,     1 ]\n",
      "llama_model_loader: - tensor   79:              blk.8.ffn_up.weight q4_1     [  4096, 11008,     1,     1 ]\n",
      "llama_model_loader: - tensor   80:           blk.8.attn_norm.weight f32      [  4096,     1,     1,     1 ]\n",
      "llama_model_loader: - tensor   81:            blk.8.ffn_norm.weight f32      [  4096,     1,     1,     1 ]\n",
      "llama_model_loader: - tensor   82:              blk.9.attn_q.weight q4_1     [  4096,  4096,     1,     1 ]\n",
      "llama_model_loader: - tensor   83:              blk.9.attn_k.weight q4_1     [  4096,  4096,     1,     1 ]\n",
      "llama_model_loader: - tensor   84:              blk.9.attn_v.weight q4_1     [  4096,  4096,     1,     1 ]\n",
      "llama_model_loader: - tensor   85:         blk.9.attn_output.weight q4_1     [  4096,  4096,     1,     1 ]\n",
      "llama_model_loader: - tensor   86:            blk.9.ffn_gate.weight q4_1     [  4096, 11008,     1,     1 ]\n",
      "llama_model_loader: - tensor   87:            blk.9.ffn_down.weight q4_1     [ 11008,  4096,     1,     1 ]\n",
      "llama_model_loader: - tensor   88:              blk.9.ffn_up.weight q4_1     [  4096, 11008,     1,     1 ]\n",
      "llama_model_loader: - tensor   89:           blk.9.attn_norm.weight f32      [  4096,     1,     1,     1 ]\n",
      "llama_model_loader: - tensor   90:            blk.9.ffn_norm.weight f32      [  4096,     1,     1,     1 ]\n",
      "llama_model_loader: - tensor   91:             blk.10.attn_q.weight q4_1     [  4096,  4096,     1,     1 ]\n",
      "llama_model_loader: - tensor   92:             blk.10.attn_k.weight q4_1     [  4096,  4096,     1,     1 ]\n",
      "llama_model_loader: - tensor   93:             blk.10.attn_v.weight q4_1     [  4096,  4096,     1,     1 ]\n",
      "llama_model_loader: - tensor   94:        blk.10.attn_output.weight q4_1     [  4096,  4096,     1,     1 ]\n",
      "llama_model_loader: - tensor   95:           blk.10.ffn_gate.weight q4_1     [  4096, 11008,     1,     1 ]\n",
      "llama_model_loader: - tensor   96:           blk.10.ffn_down.weight q4_1     [ 11008,  4096,     1,     1 ]\n",
      "llama_model_loader: - tensor   97:             blk.10.ffn_up.weight q4_1     [  4096, 11008,     1,     1 ]\n",
      "llama_model_loader: - tensor   98:          blk.10.attn_norm.weight f32      [  4096,     1,     1,     1 ]\n",
      "llama_model_loader: - tensor   99:           blk.10.ffn_norm.weight f32      [  4096,     1,     1,     1 ]\n",
      "llama_model_loader: - tensor  100:             blk.11.attn_q.weight q4_1     [  4096,  4096,     1,     1 ]\n",
      "llama_model_loader: - tensor  101:             blk.11.attn_k.weight q4_1     [  4096,  4096,     1,     1 ]\n",
      "llama_model_loader: - tensor  102:             blk.11.attn_v.weight q4_1     [  4096,  4096,     1,     1 ]\n",
      "llama_model_loader: - tensor  103:        blk.11.attn_output.weight q4_1     [  4096,  4096,     1,     1 ]\n",
      "llama_model_loader: - tensor  104:           blk.11.ffn_gate.weight q4_1     [  4096, 11008,     1,     1 ]\n",
      "llama_model_loader: - tensor  105:           blk.11.ffn_down.weight q4_1     [ 11008,  4096,     1,     1 ]\n",
      "llama_model_loader: - tensor  106:             blk.11.ffn_up.weight q4_1     [  4096, 11008,     1,     1 ]\n",
      "llama_model_loader: - tensor  107:          blk.11.attn_norm.weight f32      [  4096,     1,     1,     1 ]\n",
      "llama_model_loader: - tensor  108:           blk.11.ffn_norm.weight f32      [  4096,     1,     1,     1 ]\n",
      "llama_model_loader: - tensor  109:             blk.12.attn_q.weight q4_1     [  4096,  4096,     1,     1 ]\n",
      "llama_model_loader: - tensor  110:             blk.12.attn_k.weight q4_1     [  4096,  4096,     1,     1 ]\n",
      "llama_model_loader: - tensor  111:             blk.12.attn_v.weight q4_1     [  4096,  4096,     1,     1 ]\n",
      "llama_model_loader: - tensor  112:        blk.12.attn_output.weight q4_1     [  4096,  4096,     1,     1 ]\n",
      "llama_model_loader: - tensor  113:           blk.12.ffn_gate.weight q4_1     [  4096, 11008,     1,     1 ]\n",
      "llama_model_loader: - tensor  114:           blk.12.ffn_down.weight q4_1     [ 11008,  4096,     1,     1 ]\n",
      "llama_model_loader: - tensor  115:             blk.12.ffn_up.weight q4_1     [  4096, 11008,     1,     1 ]\n",
      "llama_model_loader: - tensor  116:          blk.12.attn_norm.weight f32      [  4096,     1,     1,     1 ]\n",
      "llama_model_loader: - tensor  117:           blk.12.ffn_norm.weight f32      [  4096,     1,     1,     1 ]\n",
      "llama_model_loader: - tensor  118:             blk.13.attn_q.weight q4_1     [  4096,  4096,     1,     1 ]\n",
      "llama_model_loader: - tensor  119:             blk.13.attn_k.weight q4_1     [  4096,  4096,     1,     1 ]\n",
      "llama_model_loader: - tensor  120:             blk.13.attn_v.weight q4_1     [  4096,  4096,     1,     1 ]\n",
      "llama_model_loader: - tensor  121:        blk.13.attn_output.weight q4_1     [  4096,  4096,     1,     1 ]\n",
      "llama_model_loader: - tensor  122:           blk.13.ffn_gate.weight q4_1     [  4096, 11008,     1,     1 ]\n",
      "llama_model_loader: - tensor  123:           blk.13.ffn_down.weight q4_1     [ 11008,  4096,     1,     1 ]\n",
      "llama_model_loader: - tensor  124:             blk.13.ffn_up.weight q4_1     [  4096, 11008,     1,     1 ]\n",
      "llama_model_loader: - tensor  125:          blk.13.attn_norm.weight f32      [  4096,     1,     1,     1 ]\n",
      "llama_model_loader: - tensor  126:           blk.13.ffn_norm.weight f32      [  4096,     1,     1,     1 ]\n",
      "llama_model_loader: - tensor  127:             blk.14.attn_q.weight q4_1     [  4096,  4096,     1,     1 ]\n",
      "llama_model_loader: - tensor  128:             blk.14.attn_k.weight q4_1     [  4096,  4096,     1,     1 ]\n",
      "llama_model_loader: - tensor  129:             blk.14.attn_v.weight q4_1     [  4096,  4096,     1,     1 ]\n",
      "llama_model_loader: - tensor  130:        blk.14.attn_output.weight q4_1     [  4096,  4096,     1,     1 ]\n",
      "llama_model_loader: - tensor  131:           blk.14.ffn_gate.weight q4_1     [  4096, 11008,     1,     1 ]\n",
      "llama_model_loader: - tensor  132:           blk.14.ffn_down.weight q4_1     [ 11008,  4096,     1,     1 ]\n",
      "llama_model_loader: - tensor  133:             blk.14.ffn_up.weight q4_1     [  4096, 11008,     1,     1 ]\n",
      "llama_model_loader: - tensor  134:          blk.14.attn_norm.weight f32      [  4096,     1,     1,     1 ]\n",
      "llama_model_loader: - tensor  135:           blk.14.ffn_norm.weight f32      [  4096,     1,     1,     1 ]\n",
      "llama_model_loader: - tensor  136:             blk.15.attn_q.weight q4_1     [  4096,  4096,     1,     1 ]\n",
      "llama_model_loader: - tensor  137:             blk.15.attn_k.weight q4_1     [  4096,  4096,     1,     1 ]\n",
      "llama_model_loader: - tensor  138:             blk.15.attn_v.weight q4_1     [  4096,  4096,     1,     1 ]\n",
      "llama_model_loader: - tensor  139:        blk.15.attn_output.weight q4_1     [  4096,  4096,     1,     1 ]\n",
      "llama_model_loader: - tensor  140:           blk.15.ffn_gate.weight q4_1     [  4096, 11008,     1,     1 ]\n",
      "llama_model_loader: - tensor  141:           blk.15.ffn_down.weight q4_1     [ 11008,  4096,     1,     1 ]\n",
      "llama_model_loader: - tensor  142:             blk.15.ffn_up.weight q4_1     [  4096, 11008,     1,     1 ]\n",
      "llama_model_loader: - tensor  143:          blk.15.attn_norm.weight f32      [  4096,     1,     1,     1 ]\n",
      "llama_model_loader: - tensor  144:           blk.15.ffn_norm.weight f32      [  4096,     1,     1,     1 ]\n",
      "llama_model_loader: - tensor  145:             blk.16.attn_q.weight q4_1     [  4096,  4096,     1,     1 ]\n",
      "llama_model_loader: - tensor  146:             blk.16.attn_k.weight q4_1     [  4096,  4096,     1,     1 ]\n",
      "llama_model_loader: - tensor  147:             blk.16.attn_v.weight q4_1     [  4096,  4096,     1,     1 ]\n",
      "llama_model_loader: - tensor  148:        blk.16.attn_output.weight q4_1     [  4096,  4096,     1,     1 ]\n",
      "llama_model_loader: - tensor  149:           blk.16.ffn_gate.weight q4_1     [  4096, 11008,     1,     1 ]\n",
      "llama_model_loader: - tensor  150:           blk.16.ffn_down.weight q4_1     [ 11008,  4096,     1,     1 ]\n",
      "llama_model_loader: - tensor  151:             blk.16.ffn_up.weight q4_1     [  4096, 11008,     1,     1 ]\n",
      "llama_model_loader: - tensor  152:          blk.16.attn_norm.weight f32      [  4096,     1,     1,     1 ]\n",
      "llama_model_loader: - tensor  153:           blk.16.ffn_norm.weight f32      [  4096,     1,     1,     1 ]\n",
      "llama_model_loader: - tensor  154:             blk.17.attn_q.weight q4_1     [  4096,  4096,     1,     1 ]\n",
      "llama_model_loader: - tensor  155:             blk.17.attn_k.weight q4_1     [  4096,  4096,     1,     1 ]\n",
      "llama_model_loader: - tensor  156:             blk.17.attn_v.weight q4_1     [  4096,  4096,     1,     1 ]\n",
      "llama_model_loader: - tensor  157:        blk.17.attn_output.weight q4_1     [  4096,  4096,     1,     1 ]\n",
      "llama_model_loader: - tensor  158:           blk.17.ffn_gate.weight q4_1     [  4096, 11008,     1,     1 ]\n",
      "llama_model_loader: - tensor  159:           blk.17.ffn_down.weight q4_1     [ 11008,  4096,     1,     1 ]\n",
      "llama_model_loader: - tensor  160:             blk.17.ffn_up.weight q4_1     [  4096, 11008,     1,     1 ]\n",
      "llama_model_loader: - tensor  161:          blk.17.attn_norm.weight f32      [  4096,     1,     1,     1 ]\n",
      "llama_model_loader: - tensor  162:           blk.17.ffn_norm.weight f32      [  4096,     1,     1,     1 ]\n",
      "llama_model_loader: - tensor  163:             blk.18.attn_q.weight q4_1     [  4096,  4096,     1,     1 ]\n",
      "llama_model_loader: - tensor  164:             blk.18.attn_k.weight q4_1     [  4096,  4096,     1,     1 ]\n",
      "llama_model_loader: - tensor  165:             blk.18.attn_v.weight q4_1     [  4096,  4096,     1,     1 ]\n",
      "llama_model_loader: - tensor  166:        blk.18.attn_output.weight q4_1     [  4096,  4096,     1,     1 ]\n",
      "llama_model_loader: - tensor  167:           blk.18.ffn_gate.weight q4_1     [  4096, 11008,     1,     1 ]\n",
      "llama_model_loader: - tensor  168:           blk.18.ffn_down.weight q4_1     [ 11008,  4096,     1,     1 ]\n",
      "llama_model_loader: - tensor  169:             blk.18.ffn_up.weight q4_1     [  4096, 11008,     1,     1 ]\n",
      "llama_model_loader: - tensor  170:          blk.18.attn_norm.weight f32      [  4096,     1,     1,     1 ]\n",
      "llama_model_loader: - tensor  171:           blk.18.ffn_norm.weight f32      [  4096,     1,     1,     1 ]\n",
      "llama_model_loader: - tensor  172:             blk.19.attn_q.weight q4_1     [  4096,  4096,     1,     1 ]\n",
      "llama_model_loader: - tensor  173:             blk.19.attn_k.weight q4_1     [  4096,  4096,     1,     1 ]\n",
      "llama_model_loader: - tensor  174:             blk.19.attn_v.weight q4_1     [  4096,  4096,     1,     1 ]\n",
      "llama_model_loader: - tensor  175:        blk.19.attn_output.weight q4_1     [  4096,  4096,     1,     1 ]\n",
      "llama_model_loader: - tensor  176:           blk.19.ffn_gate.weight q4_1     [  4096, 11008,     1,     1 ]\n",
      "llama_model_loader: - tensor  177:           blk.19.ffn_down.weight q4_1     [ 11008,  4096,     1,     1 ]\n",
      "llama_model_loader: - tensor  178:             blk.19.ffn_up.weight q4_1     [  4096, 11008,     1,     1 ]\n",
      "llama_model_loader: - tensor  179:          blk.19.attn_norm.weight f32      [  4096,     1,     1,     1 ]\n",
      "llama_model_loader: - tensor  180:           blk.19.ffn_norm.weight f32      [  4096,     1,     1,     1 ]\n",
      "llama_model_loader: - tensor  181:             blk.20.attn_q.weight q4_1     [  4096,  4096,     1,     1 ]\n",
      "llama_model_loader: - tensor  182:             blk.20.attn_k.weight q4_1     [  4096,  4096,     1,     1 ]\n",
      "llama_model_loader: - tensor  183:             blk.20.attn_v.weight q4_1     [  4096,  4096,     1,     1 ]\n",
      "llama_model_loader: - tensor  184:        blk.20.attn_output.weight q4_1     [  4096,  4096,     1,     1 ]\n",
      "llama_model_loader: - tensor  185:           blk.20.ffn_gate.weight q4_1     [  4096, 11008,     1,     1 ]\n",
      "llama_model_loader: - tensor  186:           blk.20.ffn_down.weight q4_1     [ 11008,  4096,     1,     1 ]\n",
      "llama_model_loader: - tensor  187:             blk.20.ffn_up.weight q4_1     [  4096, 11008,     1,     1 ]\n",
      "llama_model_loader: - tensor  188:          blk.20.attn_norm.weight f32      [  4096,     1,     1,     1 ]\n",
      "llama_model_loader: - tensor  189:           blk.20.ffn_norm.weight f32      [  4096,     1,     1,     1 ]\n",
      "llama_model_loader: - tensor  190:             blk.21.attn_q.weight q4_1     [  4096,  4096,     1,     1 ]\n",
      "llama_model_loader: - tensor  191:             blk.21.attn_k.weight q4_1     [  4096,  4096,     1,     1 ]\n",
      "llama_model_loader: - tensor  192:             blk.21.attn_v.weight q4_1     [  4096,  4096,     1,     1 ]\n",
      "llama_model_loader: - tensor  193:        blk.21.attn_output.weight q4_1     [  4096,  4096,     1,     1 ]\n",
      "llama_model_loader: - tensor  194:           blk.21.ffn_gate.weight q4_1     [  4096, 11008,     1,     1 ]\n",
      "llama_model_loader: - tensor  195:           blk.21.ffn_down.weight q4_1     [ 11008,  4096,     1,     1 ]\n",
      "llama_model_loader: - tensor  196:             blk.21.ffn_up.weight q4_1     [  4096, 11008,     1,     1 ]\n",
      "llama_model_loader: - tensor  197:          blk.21.attn_norm.weight f32      [  4096,     1,     1,     1 ]\n",
      "llama_model_loader: - tensor  198:           blk.21.ffn_norm.weight f32      [  4096,     1,     1,     1 ]\n",
      "llama_model_loader: - tensor  199:             blk.22.attn_q.weight q4_1     [  4096,  4096,     1,     1 ]\n",
      "llama_model_loader: - tensor  200:             blk.22.attn_k.weight q4_1     [  4096,  4096,     1,     1 ]\n",
      "llama_model_loader: - tensor  201:             blk.22.attn_v.weight q4_1     [  4096,  4096,     1,     1 ]\n",
      "llama_model_loader: - tensor  202:        blk.22.attn_output.weight q4_1     [  4096,  4096,     1,     1 ]\n",
      "llama_model_loader: - tensor  203:           blk.22.ffn_gate.weight q4_1     [  4096, 11008,     1,     1 ]\n",
      "llama_model_loader: - tensor  204:           blk.22.ffn_down.weight q4_1     [ 11008,  4096,     1,     1 ]\n",
      "llama_model_loader: - tensor  205:             blk.22.ffn_up.weight q4_1     [  4096, 11008,     1,     1 ]\n",
      "llama_model_loader: - tensor  206:          blk.22.attn_norm.weight f32      [  4096,     1,     1,     1 ]\n",
      "llama_model_loader: - tensor  207:           blk.22.ffn_norm.weight f32      [  4096,     1,     1,     1 ]\n",
      "llama_model_loader: - tensor  208:             blk.23.attn_q.weight q4_1     [  4096,  4096,     1,     1 ]\n",
      "llama_model_loader: - tensor  209:             blk.23.attn_k.weight q4_1     [  4096,  4096,     1,     1 ]\n",
      "llama_model_loader: - tensor  210:             blk.23.attn_v.weight q4_1     [  4096,  4096,     1,     1 ]\n",
      "llama_model_loader: - tensor  211:        blk.23.attn_output.weight q4_1     [  4096,  4096,     1,     1 ]\n",
      "llama_model_loader: - tensor  212:           blk.23.ffn_gate.weight q4_1     [  4096, 11008,     1,     1 ]\n",
      "llama_model_loader: - tensor  213:           blk.23.ffn_down.weight q4_1     [ 11008,  4096,     1,     1 ]\n",
      "llama_model_loader: - tensor  214:             blk.23.ffn_up.weight q4_1     [  4096, 11008,     1,     1 ]\n",
      "llama_model_loader: - tensor  215:          blk.23.attn_norm.weight f32      [  4096,     1,     1,     1 ]\n",
      "llama_model_loader: - tensor  216:           blk.23.ffn_norm.weight f32      [  4096,     1,     1,     1 ]\n",
      "llama_model_loader: - tensor  217:             blk.24.attn_q.weight q4_1     [  4096,  4096,     1,     1 ]\n",
      "llama_model_loader: - tensor  218:             blk.24.attn_k.weight q4_1     [  4096,  4096,     1,     1 ]\n",
      "llama_model_loader: - tensor  219:             blk.24.attn_v.weight q4_1     [  4096,  4096,     1,     1 ]\n",
      "llama_model_loader: - tensor  220:        blk.24.attn_output.weight q4_1     [  4096,  4096,     1,     1 ]\n",
      "llama_model_loader: - tensor  221:           blk.24.ffn_gate.weight q4_1     [  4096, 11008,     1,     1 ]\n",
      "llama_model_loader: - tensor  222:           blk.24.ffn_down.weight q4_1     [ 11008,  4096,     1,     1 ]\n",
      "llama_model_loader: - tensor  223:             blk.24.ffn_up.weight q4_1     [  4096, 11008,     1,     1 ]\n",
      "llama_model_loader: - tensor  224:          blk.24.attn_norm.weight f32      [  4096,     1,     1,     1 ]\n",
      "llama_model_loader: - tensor  225:           blk.24.ffn_norm.weight f32      [  4096,     1,     1,     1 ]\n",
      "llama_model_loader: - tensor  226:             blk.25.attn_q.weight q4_1     [  4096,  4096,     1,     1 ]\n",
      "llama_model_loader: - tensor  227:             blk.25.attn_k.weight q4_1     [  4096,  4096,     1,     1 ]\n",
      "llama_model_loader: - tensor  228:             blk.25.attn_v.weight q4_1     [  4096,  4096,     1,     1 ]\n",
      "llama_model_loader: - tensor  229:        blk.25.attn_output.weight q4_1     [  4096,  4096,     1,     1 ]\n",
      "llama_model_loader: - tensor  230:           blk.25.ffn_gate.weight q4_1     [  4096, 11008,     1,     1 ]\n",
      "llama_model_loader: - tensor  231:           blk.25.ffn_down.weight q4_1     [ 11008,  4096,     1,     1 ]\n",
      "llama_model_loader: - tensor  232:             blk.25.ffn_up.weight q4_1     [  4096, 11008,     1,     1 ]\n",
      "llama_model_loader: - tensor  233:          blk.25.attn_norm.weight f32      [  4096,     1,     1,     1 ]\n",
      "llama_model_loader: - tensor  234:           blk.25.ffn_norm.weight f32      [  4096,     1,     1,     1 ]\n",
      "llama_model_loader: - tensor  235:             blk.26.attn_q.weight q4_1     [  4096,  4096,     1,     1 ]\n",
      "llama_model_loader: - tensor  236:             blk.26.attn_k.weight q4_1     [  4096,  4096,     1,     1 ]\n",
      "llama_model_loader: - tensor  237:             blk.26.attn_v.weight q4_1     [  4096,  4096,     1,     1 ]\n",
      "llama_model_loader: - tensor  238:        blk.26.attn_output.weight q4_1     [  4096,  4096,     1,     1 ]\n",
      "llama_model_loader: - tensor  239:           blk.26.ffn_gate.weight q4_1     [  4096, 11008,     1,     1 ]\n",
      "llama_model_loader: - tensor  240:           blk.26.ffn_down.weight q4_1     [ 11008,  4096,     1,     1 ]\n",
      "llama_model_loader: - tensor  241:             blk.26.ffn_up.weight q4_1     [  4096, 11008,     1,     1 ]\n",
      "llama_model_loader: - tensor  242:          blk.26.attn_norm.weight f32      [  4096,     1,     1,     1 ]\n",
      "llama_model_loader: - tensor  243:           blk.26.ffn_norm.weight f32      [  4096,     1,     1,     1 ]\n",
      "llama_model_loader: - tensor  244:             blk.27.attn_q.weight q4_1     [  4096,  4096,     1,     1 ]\n",
      "llama_model_loader: - tensor  245:             blk.27.attn_k.weight q4_1     [  4096,  4096,     1,     1 ]\n",
      "llama_model_loader: - tensor  246:             blk.27.attn_v.weight q4_1     [  4096,  4096,     1,     1 ]\n",
      "llama_model_loader: - tensor  247:        blk.27.attn_output.weight q4_1     [  4096,  4096,     1,     1 ]\n",
      "llama_model_loader: - tensor  248:           blk.27.ffn_gate.weight q4_1     [  4096, 11008,     1,     1 ]\n",
      "llama_model_loader: - tensor  249:           blk.27.ffn_down.weight q4_1     [ 11008,  4096,     1,     1 ]\n",
      "llama_model_loader: - tensor  250:             blk.27.ffn_up.weight q4_1     [  4096, 11008,     1,     1 ]\n",
      "llama_model_loader: - tensor  251:          blk.27.attn_norm.weight f32      [  4096,     1,     1,     1 ]\n",
      "llama_model_loader: - tensor  252:           blk.27.ffn_norm.weight f32      [  4096,     1,     1,     1 ]\n",
      "llama_model_loader: - tensor  253:             blk.28.attn_q.weight q4_1     [  4096,  4096,     1,     1 ]\n",
      "llama_model_loader: - tensor  254:             blk.28.attn_k.weight q4_1     [  4096,  4096,     1,     1 ]\n",
      "llama_model_loader: - tensor  255:             blk.28.attn_v.weight q4_1     [  4096,  4096,     1,     1 ]\n",
      "llama_model_loader: - tensor  256:        blk.28.attn_output.weight q4_1     [  4096,  4096,     1,     1 ]\n",
      "llama_model_loader: - tensor  257:           blk.28.ffn_gate.weight q4_1     [  4096, 11008,     1,     1 ]\n",
      "llama_model_loader: - tensor  258:           blk.28.ffn_down.weight q4_1     [ 11008,  4096,     1,     1 ]\n",
      "llama_model_loader: - tensor  259:             blk.28.ffn_up.weight q4_1     [  4096, 11008,     1,     1 ]\n",
      "llama_model_loader: - tensor  260:          blk.28.attn_norm.weight f32      [  4096,     1,     1,     1 ]\n",
      "llama_model_loader: - tensor  261:           blk.28.ffn_norm.weight f32      [  4096,     1,     1,     1 ]\n",
      "llama_model_loader: - tensor  262:             blk.29.attn_q.weight q4_1     [  4096,  4096,     1,     1 ]\n",
      "llama_model_loader: - tensor  263:             blk.29.attn_k.weight q4_1     [  4096,  4096,     1,     1 ]\n",
      "llama_model_loader: - tensor  264:             blk.29.attn_v.weight q4_1     [  4096,  4096,     1,     1 ]\n",
      "llama_model_loader: - tensor  265:        blk.29.attn_output.weight q4_1     [  4096,  4096,     1,     1 ]\n",
      "llama_model_loader: - tensor  266:           blk.29.ffn_gate.weight q4_1     [  4096, 11008,     1,     1 ]\n",
      "llama_model_loader: - tensor  267:           blk.29.ffn_down.weight q4_1     [ 11008,  4096,     1,     1 ]\n",
      "llama_model_loader: - tensor  268:             blk.29.ffn_up.weight q4_1     [  4096, 11008,     1,     1 ]\n",
      "llama_model_loader: - tensor  269:          blk.29.attn_norm.weight f32      [  4096,     1,     1,     1 ]\n",
      "llama_model_loader: - tensor  270:           blk.29.ffn_norm.weight f32      [  4096,     1,     1,     1 ]\n",
      "llama_model_loader: - tensor  271:             blk.30.attn_q.weight q4_1     [  4096,  4096,     1,     1 ]\n",
      "llama_model_loader: - tensor  272:             blk.30.attn_k.weight q4_1     [  4096,  4096,     1,     1 ]\n",
      "llama_model_loader: - tensor  273:             blk.30.attn_v.weight q4_1     [  4096,  4096,     1,     1 ]\n",
      "llama_model_loader: - tensor  274:        blk.30.attn_output.weight q4_1     [  4096,  4096,     1,     1 ]\n",
      "llama_model_loader: - tensor  275:           blk.30.ffn_gate.weight q4_1     [  4096, 11008,     1,     1 ]\n",
      "llama_model_loader: - tensor  276:           blk.30.ffn_down.weight q4_1     [ 11008,  4096,     1,     1 ]\n",
      "llama_model_loader: - tensor  277:             blk.30.ffn_up.weight q4_1     [  4096, 11008,     1,     1 ]\n",
      "llama_model_loader: - tensor  278:          blk.30.attn_norm.weight f32      [  4096,     1,     1,     1 ]\n",
      "llama_model_loader: - tensor  279:           blk.30.ffn_norm.weight f32      [  4096,     1,     1,     1 ]\n",
      "llama_model_loader: - tensor  280:             blk.31.attn_q.weight q4_1     [  4096,  4096,     1,     1 ]\n",
      "llama_model_loader: - tensor  281:             blk.31.attn_k.weight q4_1     [  4096,  4096,     1,     1 ]\n",
      "llama_model_loader: - tensor  282:             blk.31.attn_v.weight q4_1     [  4096,  4096,     1,     1 ]\n",
      "llama_model_loader: - tensor  283:        blk.31.attn_output.weight q4_1     [  4096,  4096,     1,     1 ]\n",
      "llama_model_loader: - tensor  284:           blk.31.ffn_gate.weight q4_1     [  4096, 11008,     1,     1 ]\n",
      "llama_model_loader: - tensor  285:           blk.31.ffn_down.weight q4_1     [ 11008,  4096,     1,     1 ]\n",
      "llama_model_loader: - tensor  286:             blk.31.ffn_up.weight q4_1     [  4096, 11008,     1,     1 ]\n",
      "llama_model_loader: - tensor  287:          blk.31.attn_norm.weight f32      [  4096,     1,     1,     1 ]\n",
      "llama_model_loader: - tensor  288:           blk.31.ffn_norm.weight f32      [  4096,     1,     1,     1 ]\n",
      "llama_model_loader: - tensor  289:               output_norm.weight f32      [  4096,     1,     1,     1 ]\n",
      "llama_model_loader: - tensor  290:                    output.weight q6_K     [  4096, 32000,     1,     1 ]\n",
      "llama_model_loader: Dumping metadata keys/values. Note: KV overrides do not apply in this output.\n",
      "llama_model_loader: - kv   0:                       general.architecture str              = llama\n",
      "llama_model_loader: - kv   1:                               general.name str              = .\n",
      "llama_model_loader: - kv   2:                       llama.context_length u32              = 2048\n",
      "llama_model_loader: - kv   3:                     llama.embedding_length u32              = 4096\n",
      "llama_model_loader: - kv   4:                          llama.block_count u32              = 32\n",
      "llama_model_loader: - kv   5:                  llama.feed_forward_length u32              = 11008\n",
      "llama_model_loader: - kv   6:                 llama.rope.dimension_count u32              = 128\n",
      "llama_model_loader: - kv   7:                 llama.attention.head_count u32              = 32\n",
      "llama_model_loader: - kv   8:              llama.attention.head_count_kv u32              = 32\n",
      "llama_model_loader: - kv   9:     llama.attention.layer_norm_rms_epsilon f32              = 0.000001\n",
      "llama_model_loader: - kv  10:                          general.file_type u32              = 3\n",
      "llama_model_loader: - kv  11:                       tokenizer.ggml.model str              = llama\n",
      "llama_model_loader: - kv  12:                      tokenizer.ggml.tokens arr[str,32000]   = [\"<unk>\", \"<s>\", \"</s>\", \"<0x00>\", \"<...\n",
      "llama_model_loader: - kv  13:                      tokenizer.ggml.scores arr[f32,32000]   = [0.000000, 0.000000, 0.000000, 0.0000...\n",
      "llama_model_loader: - kv  14:                  tokenizer.ggml.token_type arr[i32,32000]   = [2, 3, 3, 6, 6, 6, 6, 6, 6, 6, 6, 6, ...\n",
      "llama_model_loader: - kv  15:                tokenizer.ggml.bos_token_id u32              = 1\n",
      "llama_model_loader: - kv  16:                tokenizer.ggml.eos_token_id u32              = 2\n",
      "llama_model_loader: - kv  17:            tokenizer.ggml.padding_token_id u32              = 0\n",
      "llama_model_loader: - kv  18:               tokenizer.ggml.add_bos_token bool             = true\n",
      "llama_model_loader: - kv  19:               tokenizer.ggml.add_eos_token bool             = false\n",
      "llama_model_loader: - kv  20:               general.quantization_version u32              = 2\n",
      "llama_model_loader: - type  f32:   65 tensors\n",
      "llama_model_loader: - type q4_1:  225 tensors\n",
      "llama_model_loader: - type q6_K:    1 tensors\n",
      "llm_load_vocab: special tokens definition check successful ( 259/32000 ).\n",
      "llm_load_print_meta: format           = GGUF V3 (latest)\n",
      "llm_load_print_meta: arch             = llama\n",
      "llm_load_print_meta: vocab type       = SPM\n",
      "llm_load_print_meta: n_vocab          = 32000\n",
      "llm_load_print_meta: n_merges         = 0\n",
      "llm_load_print_meta: n_ctx_train      = 2048\n",
      "llm_load_print_meta: n_embd           = 4096\n",
      "llm_load_print_meta: n_head           = 32\n",
      "llm_load_print_meta: n_head_kv        = 32\n",
      "llm_load_print_meta: n_layer          = 32\n",
      "llm_load_print_meta: n_rot            = 128\n",
      "llm_load_print_meta: n_gqa            = 1\n",
      "llm_load_print_meta: f_norm_eps       = 0.0e+00\n",
      "llm_load_print_meta: f_norm_rms_eps   = 1.0e-06\n",
      "llm_load_print_meta: f_clamp_kqv      = 0.0e+00\n",
      "llm_load_print_meta: f_max_alibi_bias = 0.0e+00\n",
      "llm_load_print_meta: n_ff             = 11008\n",
      "llm_load_print_meta: n_expert         = 0\n",
      "llm_load_print_meta: n_expert_used    = 0\n",
      "llm_load_print_meta: rope scaling     = linear\n",
      "llm_load_print_meta: freq_base_train  = 10000.0\n",
      "llm_load_print_meta: freq_scale_train = 1\n",
      "llm_load_print_meta: n_yarn_orig_ctx  = 2048\n",
      "llm_load_print_meta: rope_finetuned   = unknown\n",
      "llm_load_print_meta: model type       = 7B\n",
      "llm_load_print_meta: model ftype      = mostly Q4_1\n",
      "llm_load_print_meta: model params     = 6.74 B\n",
      "llm_load_print_meta: model size       = 3.95 GiB (5.03 BPW) \n",
      "llm_load_print_meta: general.name     = .\n",
      "llm_load_print_meta: BOS token        = 1 '<s>'\n",
      "llm_load_print_meta: EOS token        = 2 '</s>'\n",
      "llm_load_print_meta: UNK token        = 0 '<unk>'\n",
      "llm_load_print_meta: PAD token        = 0 '<unk>'\n",
      "llm_load_print_meta: LF token         = 13 '<0x0A>'\n",
      "llm_load_tensors: ggml ctx size =    0.12 MiB\n",
      "llm_load_tensors: mem required  = 4041.80 MiB\n",
      "..................................................................................................\n",
      "llama_new_context_with_model: n_ctx      = 512\n",
      "llama_new_context_with_model: freq_base  = 10000.0\n",
      "llama_new_context_with_model: freq_scale = 1\n",
      "llama_new_context_with_model: KV self size  =  256.00 MiB, K (f16):  128.00 MiB, V (f16):  128.00 MiB\n",
      "llama_build_graph: non-view tensors processed: 676/676\n",
      "ggml_metal_init: allocating\n",
      "ggml_metal_init: found device: Apple M1\n",
      "ggml_metal_init: picking default device: Apple M1\n",
      "ggml_metal_init: default.metallib not found, loading from source\n",
      "ggml_metal_init: GGML_METAL_PATH_RESOURCES = nil\n",
      "ggml_metal_init: loading '/Users/scarlettkynoch/Documents/Projects/privfp-experiments/.venv/lib/python3.11/site-packages/llama_cpp/ggml-metal.metal'\n",
      "ggml_metal_init: GPU name:   Apple M1\n",
      "ggml_metal_init: GPU family: MTLGPUFamilyApple7 (1007)\n",
      "ggml_metal_init: hasUnifiedMemory              = true\n",
      "ggml_metal_init: recommendedMaxWorkingSetSize  = 11453.25 MB\n",
      "ggml_metal_init: maxTransferRate               = built-in GPU\n",
      "llama_new_context_with_model: compute buffer total size = 73.82 MiB\n",
      "llama_new_context_with_model: max tensor size =   102.54 MiB\n",
      "ggml_metal_add_buffer: allocated 'data            ' buffer, size =  4042.39 MiB, ( 4044.02 / 10922.67)\n",
      "ggml_metal_add_buffer: allocated 'kv              ' buffer, size =   256.03 MiB, ( 4300.05 / 10922.67)\n",
      "ggml_metal_add_buffer: allocated 'alloc           ' buffer, size =    70.52 MiB, ( 4370.56 / 10922.67)\n",
      "AVX = 0 | AVX2 = 0 | AVX512 = 0 | AVX512_VBMI = 0 | AVX512_VNNI = 0 | FMA = 0 | NEON = 1 | ARM_FMA = 1 | F16C = 0 | FP16_VA = 1 | WASM_SIMD = 0 | BLAS = 1 | SSE3 = 0 | SSSE3 = 0 | VSX = 0 | \n",
      "/Users/scarlettkynoch/Documents/Projects/privfp-experiments/.venv/lib/python3.11/site-packages/langchain_core/_api/deprecation.py:117: LangChainDeprecationWarning: The function `__call__` was deprecated in LangChain 0.1.7 and will be removed in 0.2.0. Use invoke instead.\n",
      "  warn_deprecated(\n"
     ]
    },
    {
     "name": "stdout",
     "output_type": "stream",
     "text": [
      " [\"Mr. Brandon McLaughlin\"]"
     ]
    },
    {
     "name": "stderr",
     "output_type": "stream",
     "text": [
      "\n",
      "llama_print_timings:        load time =    9841.04 ms\n",
      "llama_print_timings:      sample time =       4.57 ms /    11 runs   (    0.42 ms per token,  2405.95 tokens per second)\n",
      "llama_print_timings: prompt eval time =    9840.97 ms /   160 tokens (   61.51 ms per token,    16.26 tokens per second)\n",
      "llama_print_timings:        eval time =     852.18 ms /    10 runs   (   85.22 ms per token,    11.73 tokens per second)\n",
      "llama_print_timings:       total time =   10778.43 ms\n",
      "Llama.generate: prefix-match hit\n"
     ]
    },
    {
     "name": "stdout",
     "output_type": "stream",
     "text": [
      " [\"568 968 0803\"]"
     ]
    },
    {
     "name": "stderr",
     "output_type": "stream",
     "text": [
      "\n",
      "llama_print_timings:        load time =    9841.04 ms\n",
      "llama_print_timings:      sample time =       9.52 ms /    15 runs   (    0.63 ms per token,  1575.46 tokens per second)\n",
      "llama_print_timings: prompt eval time =     265.89 ms /    25 tokens (   10.64 ms per token,    94.02 tokens per second)\n",
      "llama_print_timings:        eval time =    1172.29 ms /    14 runs   (   83.73 ms per token,    11.94 tokens per second)\n",
      "llama_print_timings:       total time =    1552.98 ms\n",
      "Llama.generate: prefix-match hit\n"
     ]
    },
    {
     "name": "stdout",
     "output_type": "stream",
     "text": [
      " [\"1963-12-07\"]"
     ]
    },
    {
     "name": "stderr",
     "output_type": "stream",
     "text": [
      "\n",
      "llama_print_timings:        load time =    9841.04 ms\n",
      "llama_print_timings:      sample time =       6.49 ms /    13 runs   (    0.50 ms per token,  2004.63 tokens per second)\n",
      "llama_print_timings: prompt eval time =     257.39 ms /    25 tokens (   10.30 ms per token,    97.13 tokens per second)\n",
      "llama_print_timings:        eval time =     956.37 ms /    12 runs   (   79.70 ms per token,    12.55 tokens per second)\n",
      "llama_print_timings:       total time =    1304.36 ms\n",
      "Llama.generate: prefix-match hit\n"
     ]
    },
    {
     "name": "stdout",
     "output_type": "stream",
     "text": [
      " [\"acute bronchitis\"]"
     ]
    },
    {
     "name": "stderr",
     "output_type": "stream",
     "text": [
      "\n",
      "llama_print_timings:        load time =    9841.04 ms\n",
      "llama_print_timings:      sample time =       2.68 ms /     8 runs   (    0.34 ms per token,  2985.07 tokens per second)\n",
      "llama_print_timings: prompt eval time =     256.98 ms /    24 tokens (   10.71 ms per token,    93.39 tokens per second)\n",
      "llama_print_timings:        eval time =     565.03 ms /     7 runs   (   80.72 ms per token,    12.39 tokens per second)\n",
      "llama_print_timings:       total time =     860.66 ms\n",
      "Llama.generate: prefix-match hit\n"
     ]
    },
    {
     "name": "stdout",
     "output_type": "stream",
     "text": [
      " [\"Mr. Esteban Altenwerth\"]"
     ]
    },
    {
     "name": "stderr",
     "output_type": "stream",
     "text": [
      "\n",
      "llama_print_timings:        load time =    9841.04 ms\n",
      "llama_print_timings:      sample time =       3.67 ms /    12 runs   (    0.31 ms per token,  3266.19 tokens per second)\n",
      "llama_print_timings: prompt eval time =    1186.38 ms /   150 tokens (    7.91 ms per token,   126.44 tokens per second)\n",
      "llama_print_timings:        eval time =     938.04 ms /    11 runs   (   85.28 ms per token,    11.73 tokens per second)\n",
      "llama_print_timings:       total time =    2179.47 ms\n",
      "Llama.generate: prefix-match hit\n"
     ]
    },
    {
     "name": "stdout",
     "output_type": "stream",
     "text": [
      " [\"201 826 4805\"]"
     ]
    },
    {
     "name": "stderr",
     "output_type": "stream",
     "text": [
      "\n",
      "llama_print_timings:        load time =    9841.04 ms\n",
      "llama_print_timings:      sample time =       9.22 ms /    15 runs   (    0.61 ms per token,  1627.07 tokens per second)\n",
      "llama_print_timings: prompt eval time =     257.55 ms /    25 tokens (   10.30 ms per token,    97.07 tokens per second)\n",
      "llama_print_timings:        eval time =    1102.23 ms /    14 runs   (   78.73 ms per token,    12.70 tokens per second)\n",
      "llama_print_timings:       total time =    1487.64 ms\n",
      "Llama.generate: prefix-match hit\n"
     ]
    },
    {
     "name": "stdout",
     "output_type": "stream",
     "text": [
      " [\"29th of October 2005\"]"
     ]
    },
    {
     "name": "stderr",
     "output_type": "stream",
     "text": [
      "\n",
      "llama_print_timings:        load time =    9841.04 ms\n",
      "llama_print_timings:      sample time =       5.88 ms /    13 runs   (    0.45 ms per token,  2212.77 tokens per second)\n",
      "llama_print_timings: prompt eval time =     258.81 ms /    25 tokens (   10.35 ms per token,    96.60 tokens per second)\n",
      "llama_print_timings:        eval time =     981.72 ms /    12 runs   (   81.81 ms per token,    12.22 tokens per second)\n",
      "llama_print_timings:       total time =    1320.03 ms\n",
      "Llama.generate: prefix-match hit\n"
     ]
    },
    {
     "name": "stdout",
     "output_type": "stream",
     "text": [
      " [\"primary complaint\", \"acute bacterial sinusitis\", \"chronic sinusitis\"]"
     ]
    },
    {
     "name": "stderr",
     "output_type": "stream",
     "text": [
      "\n",
      "llama_print_timings:        load time =    9841.04 ms\n",
      "llama_print_timings:      sample time =      13.30 ms /    23 runs   (    0.58 ms per token,  1729.06 tokens per second)\n",
      "llama_print_timings: prompt eval time =     257.74 ms /    24 tokens (   10.74 ms per token,    93.12 tokens per second)\n",
      "llama_print_timings:        eval time =    1804.45 ms /    22 runs   (   82.02 ms per token,    12.19 tokens per second)\n",
      "llama_print_timings:       total time =    2247.04 ms\n",
      "Llama.generate: prefix-match hit\n"
     ]
    },
    {
     "name": "stdout",
     "output_type": "stream",
     "text": [
      " [\"Mr. Ervin O'Connell\", \"Dr. Randa Ritchie\"]"
     ]
    },
    {
     "name": "stderr",
     "output_type": "stream",
     "text": [
      "\n",
      "llama_print_timings:        load time =    9841.04 ms\n",
      "llama_print_timings:      sample time =      10.58 ms /    20 runs   (    0.53 ms per token,  1889.82 tokens per second)\n",
      "llama_print_timings: prompt eval time =    1211.71 ms /   155 tokens (    7.82 ms per token,   127.92 tokens per second)\n",
      "llama_print_timings:        eval time =    1596.72 ms /    19 runs   (   84.04 ms per token,    11.90 tokens per second)\n",
      "llama_print_timings:       total time =    2941.37 ms\n",
      "Llama.generate: prefix-match hit\n"
     ]
    },
    {
     "name": "stdout",
     "output_type": "stream",
     "text": [
      " [\"862 334 6633\"]"
     ]
    },
    {
     "name": "stderr",
     "output_type": "stream",
     "text": [
      "\n",
      "llama_print_timings:        load time =    9841.04 ms\n",
      "llama_print_timings:      sample time =       9.82 ms /    15 runs   (    0.65 ms per token,  1527.65 tokens per second)\n",
      "llama_print_timings: prompt eval time =     266.19 ms /    25 tokens (   10.65 ms per token,    93.92 tokens per second)\n",
      "llama_print_timings:        eval time =    1211.76 ms /    14 runs   (   86.55 ms per token,    11.55 tokens per second)\n",
      "llama_print_timings:       total time =    1589.83 ms\n",
      "Llama.generate: prefix-match hit\n"
     ]
    },
    {
     "name": "stdout",
     "output_type": "stream",
     "text": [
      " [\"1964-04-14\"]"
     ]
    },
    {
     "name": "stderr",
     "output_type": "stream",
     "text": [
      "\n",
      "llama_print_timings:        load time =    9841.04 ms\n",
      "llama_print_timings:      sample time =       6.62 ms /    13 runs   (    0.51 ms per token,  1964.93 tokens per second)\n",
      "llama_print_timings: prompt eval time =     260.05 ms /    25 tokens (   10.40 ms per token,    96.14 tokens per second)\n",
      "llama_print_timings:        eval time =    1022.78 ms /    12 runs   (   85.23 ms per token,    11.73 tokens per second)\n",
      "llama_print_timings:       total time =    1371.01 ms\n",
      "Llama.generate: prefix-match hit\n"
     ]
    },
    {
     "name": "stdout",
     "output_type": "stream",
     "text": [
      " [\"acute bronchitis\"]"
     ]
    },
    {
     "name": "stderr",
     "output_type": "stream",
     "text": [
      "\n",
      "llama_print_timings:        load time =    9841.04 ms\n",
      "llama_print_timings:      sample time =       5.39 ms /     8 runs   (    0.67 ms per token,  1483.13 tokens per second)\n",
      "llama_print_timings: prompt eval time =     257.51 ms /    24 tokens (   10.73 ms per token,    93.20 tokens per second)\n",
      "llama_print_timings:        eval time =     547.12 ms /     7 runs   (   78.16 ms per token,    12.79 tokens per second)\n",
      "llama_print_timings:       total time =     864.90 ms\n",
      "Llama.generate: prefix-match hit\n"
     ]
    },
    {
     "name": "stdout",
     "output_type": "stream",
     "text": [
      " [\"Pam Boehm\"]"
     ]
    },
    {
     "name": "stderr",
     "output_type": "stream",
     "text": [
      "\n",
      "llama_print_timings:        load time =    9841.04 ms\n",
      "llama_print_timings:      sample time =       4.38 ms /     8 runs   (    0.55 ms per token,  1825.23 tokens per second)\n",
      "llama_print_timings: prompt eval time =    1171.83 ms /   135 tokens (    8.68 ms per token,   115.20 tokens per second)\n",
      "llama_print_timings:        eval time =     545.47 ms /     7 runs   (   77.92 ms per token,    12.83 tokens per second)\n",
      "llama_print_timings:       total time =    1778.89 ms\n",
      "Llama.generate: prefix-match hit\n"
     ]
    },
    {
     "name": "stdout",
     "output_type": "stream",
     "text": [
      " [\"639 189 7032\"]"
     ]
    },
    {
     "name": "stderr",
     "output_type": "stream",
     "text": [
      "\n",
      "llama_print_timings:        load time =    9841.04 ms\n",
      "llama_print_timings:      sample time =       8.64 ms /    15 runs   (    0.58 ms per token,  1735.71 tokens per second)\n",
      "llama_print_timings: prompt eval time =     254.04 ms /    25 tokens (   10.16 ms per token,    98.41 tokens per second)\n",
      "llama_print_timings:        eval time =    1104.71 ms /    14 runs   (   78.91 ms per token,    12.67 tokens per second)\n",
      "llama_print_timings:       total time =    1482.83 ms\n",
      "Llama.generate: prefix-match hit\n"
     ]
    },
    {
     "name": "stdout",
     "output_type": "stream",
     "text": [
      " []"
     ]
    },
    {
     "name": "stderr",
     "output_type": "stream",
     "text": [
      "\n",
      "llama_print_timings:        load time =    9841.04 ms\n",
      "llama_print_timings:      sample time =       1.07 ms /     2 runs   (    0.54 ms per token,  1867.41 tokens per second)\n",
      "llama_print_timings: prompt eval time =     254.43 ms /    25 tokens (   10.18 ms per token,    98.26 tokens per second)\n",
      "llama_print_timings:        eval time =      77.92 ms /     1 runs   (   77.92 ms per token,    12.83 tokens per second)\n",
      "llama_print_timings:       total time =     349.23 ms\n",
      "Llama.generate: prefix-match hit\n"
     ]
    },
    {
     "name": "stdout",
     "output_type": "stream",
     "text": [
      " [\"viral sinusitis\"]"
     ]
    },
    {
     "name": "stderr",
     "output_type": "stream",
     "text": [
      "\n",
      "llama_print_timings:        load time =    9841.04 ms\n",
      "llama_print_timings:      sample time =       5.42 ms /     8 runs   (    0.68 ms per token,  1474.93 tokens per second)\n",
      "llama_print_timings: prompt eval time =     253.61 ms /    24 tokens (   10.57 ms per token,    94.63 tokens per second)\n",
      "llama_print_timings:        eval time =     554.95 ms /     7 runs   (   79.28 ms per token,    12.61 tokens per second)\n",
      "llama_print_timings:       total time =     883.30 ms\n",
      "Llama.generate: prefix-match hit\n"
     ]
    },
    {
     "name": "stdout",
     "output_type": "stream",
     "text": [
      " [\"Mrs. Mirta Mosciski\"]"
     ]
    },
    {
     "name": "stderr",
     "output_type": "stream",
     "text": [
      "\n",
      "llama_print_timings:        load time =    9841.04 ms\n",
      "llama_print_timings:      sample time =       4.61 ms /    11 runs   (    0.42 ms per token,  2388.71 tokens per second)\n",
      "llama_print_timings: prompt eval time =    1185.11 ms /   135 tokens (    8.78 ms per token,   113.91 tokens per second)\n",
      "llama_print_timings:        eval time =     821.53 ms /    10 runs   (   82.15 ms per token,    12.17 tokens per second)\n",
      "llama_print_timings:       total time =    2081.82 ms\n",
      "Llama.generate: prefix-match hit\n"
     ]
    },
    {
     "name": "stdout",
     "output_type": "stream",
     "text": [
      " [\"231 157 0705\"]"
     ]
    },
    {
     "name": "stderr",
     "output_type": "stream",
     "text": [
      "\n",
      "llama_print_timings:        load time =    9841.04 ms\n",
      "llama_print_timings:      sample time =       8.45 ms /    15 runs   (    0.56 ms per token,  1775.99 tokens per second)\n",
      "llama_print_timings: prompt eval time =     264.99 ms /    25 tokens (   10.60 ms per token,    94.34 tokens per second)\n",
      "llama_print_timings:        eval time =    1128.23 ms /    14 runs   (   80.59 ms per token,    12.41 tokens per second)\n",
      "llama_print_timings:       total time =    1504.75 ms\n",
      "Llama.generate: prefix-match hit\n"
     ]
    },
    {
     "name": "stdout",
     "output_type": "stream",
     "text": [
      " []"
     ]
    },
    {
     "name": "stderr",
     "output_type": "stream",
     "text": [
      "\n",
      "llama_print_timings:        load time =    9841.04 ms\n",
      "llama_print_timings:      sample time =       1.39 ms /     2 runs   (    0.69 ms per token,  1439.88 tokens per second)\n",
      "llama_print_timings: prompt eval time =     256.83 ms /    25 tokens (   10.27 ms per token,    97.34 tokens per second)\n",
      "llama_print_timings:        eval time =      81.32 ms /     1 runs   (   81.32 ms per token,    12.30 tokens per second)\n",
      "llama_print_timings:       total time =     356.10 ms\n",
      "Llama.generate: prefix-match hit\n"
     ]
    },
    {
     "name": "stdout",
     "output_type": "stream",
     "text": [
      " [\"viral sinusitis\"]"
     ]
    },
    {
     "name": "stderr",
     "output_type": "stream",
     "text": [
      "\n",
      "llama_print_timings:        load time =    9841.04 ms\n",
      "llama_print_timings:      sample time =       6.61 ms /     8 runs   (    0.83 ms per token,  1209.74 tokens per second)\n",
      "llama_print_timings: prompt eval time =     259.12 ms /    24 tokens (   10.80 ms per token,    92.62 tokens per second)\n",
      "llama_print_timings:        eval time =     555.60 ms /     7 runs   (   79.37 ms per token,    12.60 tokens per second)\n",
      "llama_print_timings:       total time =     882.35 ms\n",
      "Llama.generate: prefix-match hit\n"
     ]
    },
    {
     "name": "stdout",
     "output_type": "stream",
     "text": [
      " [\"Mr. Pierre Hyatt\", \"Doctor Mercy Kuhlman\"]"
     ]
    },
    {
     "name": "stderr",
     "output_type": "stream",
     "text": [
      "\n",
      "llama_print_timings:        load time =    9841.04 ms\n",
      "llama_print_timings:      sample time =      10.33 ms /    17 runs   (    0.61 ms per token,  1646.49 tokens per second)\n",
      "llama_print_timings: prompt eval time =    1482.39 ms /   185 tokens (    8.01 ms per token,   124.80 tokens per second)\n",
      "llama_print_timings:        eval time =    1318.98 ms /    16 runs   (   82.44 ms per token,    12.13 tokens per second)\n",
      "llama_print_timings:       total time =    2923.48 ms\n",
      "Llama.generate: prefix-match hit\n"
     ]
    },
    {
     "name": "stdout",
     "output_type": "stream",
     "text": [
      " [\"476 859 5816\"]"
     ]
    },
    {
     "name": "stderr",
     "output_type": "stream",
     "text": [
      "\n",
      "llama_print_timings:        load time =    9841.04 ms\n",
      "llama_print_timings:      sample time =       8.15 ms /    15 runs   (    0.54 ms per token,  1839.36 tokens per second)\n",
      "llama_print_timings: prompt eval time =     255.88 ms /    25 tokens (   10.24 ms per token,    97.70 tokens per second)\n",
      "llama_print_timings:        eval time =    1101.93 ms /    14 runs   (   78.71 ms per token,    12.70 tokens per second)\n",
      "llama_print_timings:       total time =    1473.51 ms\n",
      "Llama.generate: prefix-match hit\n"
     ]
    },
    {
     "name": "stdout",
     "output_type": "stream",
     "text": [
      " [\"1987-12-27\"]"
     ]
    },
    {
     "name": "stderr",
     "output_type": "stream",
     "text": [
      "\n",
      "llama_print_timings:        load time =    9841.04 ms\n",
      "llama_print_timings:      sample time =       9.21 ms /    13 runs   (    0.71 ms per token,  1412.28 tokens per second)\n",
      "llama_print_timings: prompt eval time =     259.04 ms /    25 tokens (   10.36 ms per token,    96.51 tokens per second)\n",
      "llama_print_timings:        eval time =     946.35 ms /    12 runs   (   78.86 ms per token,    12.68 tokens per second)\n",
      "llama_print_timings:       total time =    1323.39 ms\n",
      "Llama.generate: prefix-match hit\n"
     ]
    },
    {
     "name": "stdout",
     "output_type": "stream",
     "text": [
      " [\"viral sinusitis\"]"
     ]
    },
    {
     "name": "stderr",
     "output_type": "stream",
     "text": [
      "\n",
      "llama_print_timings:        load time =    9841.04 ms\n",
      "llama_print_timings:      sample time =       5.00 ms /     8 runs   (    0.63 ms per token,  1598.72 tokens per second)\n",
      "llama_print_timings: prompt eval time =     266.02 ms /    24 tokens (   11.08 ms per token,    90.22 tokens per second)\n",
      "llama_print_timings:        eval time =     565.17 ms /     7 runs   (   80.74 ms per token,    12.39 tokens per second)\n",
      "llama_print_timings:       total time =     885.87 ms\n",
      "Llama.generate: prefix-match hit\n"
     ]
    },
    {
     "name": "stdout",
     "output_type": "stream",
     "text": [
      " [\"Ms. Angela Collier\"]"
     ]
    },
    {
     "name": "stderr",
     "output_type": "stream",
     "text": [
      "\n",
      "llama_print_timings:        load time =    9841.04 ms\n",
      "llama_print_timings:      sample time =       6.30 ms /    10 runs   (    0.63 ms per token,  1587.30 tokens per second)\n",
      "llama_print_timings: prompt eval time =    1430.53 ms /   167 tokens (    8.57 ms per token,   116.74 tokens per second)\n",
      "llama_print_timings:        eval time =     733.41 ms /     9 runs   (   81.49 ms per token,    12.27 tokens per second)\n",
      "llama_print_timings:       total time =    2257.27 ms\n",
      "Llama.generate: prefix-match hit\n"
     ]
    },
    {
     "name": "stdout",
     "output_type": "stream",
     "text": [
      " [\"590 161 4272\"]"
     ]
    },
    {
     "name": "stderr",
     "output_type": "stream",
     "text": [
      "\n",
      "llama_print_timings:        load time =    9841.04 ms\n",
      "llama_print_timings:      sample time =       8.25 ms /    15 runs   (    0.55 ms per token,  1818.18 tokens per second)\n",
      "llama_print_timings: prompt eval time =     254.74 ms /    25 tokens (   10.19 ms per token,    98.14 tokens per second)\n",
      "llama_print_timings:        eval time =    1162.61 ms /    14 runs   (   83.04 ms per token,    12.04 tokens per second)\n",
      "llama_print_timings:       total time =    1524.57 ms\n",
      "Llama.generate: prefix-match hit\n"
     ]
    },
    {
     "name": "stdout",
     "output_type": "stream",
     "text": [
      " [\"1996-06-03\"]"
     ]
    },
    {
     "name": "stderr",
     "output_type": "stream",
     "text": [
      "\n",
      "llama_print_timings:        load time =    9841.04 ms\n",
      "llama_print_timings:      sample time =       7.06 ms /    13 runs   (    0.54 ms per token,  1841.36 tokens per second)\n",
      "llama_print_timings: prompt eval time =     264.55 ms /    25 tokens (   10.58 ms per token,    94.50 tokens per second)\n",
      "llama_print_timings:        eval time =    1066.88 ms /    12 runs   (   88.91 ms per token,    11.25 tokens per second)\n",
      "llama_print_timings:       total time =    1415.77 ms\n",
      "Llama.generate: prefix-match hit\n"
     ]
    },
    {
     "name": "stdout",
     "output_type": "stream",
     "text": [
      " [\"Perennial allergic rhinitis with seasonal variation\"]"
     ]
    },
    {
     "name": "stderr",
     "output_type": "stream",
     "text": [
      "\n",
      "llama_print_timings:        load time =    9841.04 ms\n",
      "llama_print_timings:      sample time =       8.21 ms /    16 runs   (    0.51 ms per token,  1950.03 tokens per second)\n",
      "llama_print_timings: prompt eval time =     263.75 ms /    24 tokens (   10.99 ms per token,    91.00 tokens per second)\n",
      "llama_print_timings:        eval time =    1254.04 ms /    15 runs   (   83.60 ms per token,    11.96 tokens per second)\n",
      "llama_print_timings:       total time =    1636.15 ms\n",
      "Llama.generate: prefix-match hit\n"
     ]
    },
    {
     "name": "stdout",
     "output_type": "stream",
     "text": [
      " [\"Mr. Shannon Borer\"]"
     ]
    },
    {
     "name": "stderr",
     "output_type": "stream",
     "text": [
      "\n",
      "llama_print_timings:        load time =    9841.04 ms\n",
      "llama_print_timings:      sample time =       6.58 ms /     9 runs   (    0.73 ms per token,  1366.95 tokens per second)\n",
      "llama_print_timings: prompt eval time =    1218.67 ms /   148 tokens (    8.23 ms per token,   121.44 tokens per second)\n",
      "llama_print_timings:        eval time =     667.81 ms /     8 runs   (   83.48 ms per token,    11.98 tokens per second)\n",
      "llama_print_timings:       total time =    1967.56 ms\n",
      "Llama.generate: prefix-match hit\n"
     ]
    },
    {
     "name": "stdout",
     "output_type": "stream",
     "text": [
      " [\"122 273 9962\"]"
     ]
    },
    {
     "name": "stderr",
     "output_type": "stream",
     "text": [
      "\n",
      "llama_print_timings:        load time =    9841.04 ms\n",
      "llama_print_timings:      sample time =       8.19 ms /    15 runs   (    0.55 ms per token,  1831.05 tokens per second)\n",
      "llama_print_timings: prompt eval time =     262.29 ms /    25 tokens (   10.49 ms per token,    95.31 tokens per second)\n",
      "llama_print_timings:        eval time =    1206.92 ms /    14 runs   (   86.21 ms per token,    11.60 tokens per second)\n",
      "llama_print_timings:       total time =    1570.67 ms\n",
      "Llama.generate: prefix-match hit\n"
     ]
    },
    {
     "name": "stdout",
     "output_type": "stream",
     "text": [
      " [\"1982-10-10\"]"
     ]
    },
    {
     "name": "stderr",
     "output_type": "stream",
     "text": [
      "\n",
      "llama_print_timings:        load time =    9841.04 ms\n",
      "llama_print_timings:      sample time =       8.72 ms /    13 runs   (    0.67 ms per token,  1491.00 tokens per second)\n",
      "llama_print_timings: prompt eval time =     264.58 ms /    25 tokens (   10.58 ms per token,    94.49 tokens per second)\n",
      "llama_print_timings:        eval time =    1012.71 ms /    12 runs   (   84.39 ms per token,    11.85 tokens per second)\n",
      "llama_print_timings:       total time =    1387.01 ms\n",
      "Llama.generate: prefix-match hit\n"
     ]
    },
    {
     "name": "stdout",
     "output_type": "stream",
     "text": [
      " [\"Viral sinusitis\"]"
     ]
    },
    {
     "name": "stderr",
     "output_type": "stream",
     "text": [
      "\n",
      "llama_print_timings:        load time =    9841.04 ms\n",
      "llama_print_timings:      sample time =       7.08 ms /     8 runs   (    0.88 ms per token,  1130.58 tokens per second)\n",
      "llama_print_timings: prompt eval time =     258.93 ms /    24 tokens (   10.79 ms per token,    92.69 tokens per second)\n",
      "llama_print_timings:        eval time =     565.16 ms /     7 runs   (   80.74 ms per token,    12.39 tokens per second)\n",
      "llama_print_timings:       total time =     895.84 ms\n",
      "Llama.generate: prefix-match hit\n"
     ]
    },
    {
     "name": "stdout",
     "output_type": "stream",
     "text": [
      " [\"Delmy Halvorson\"]"
     ]
    },
    {
     "name": "stderr",
     "output_type": "stream",
     "text": [
      "\n",
      "llama_print_timings:        load time =    9841.04 ms\n",
      "llama_print_timings:      sample time =       5.96 ms /     9 runs   (    0.66 ms per token,  1509.56 tokens per second)\n",
      "llama_print_timings: prompt eval time =    1214.88 ms /   153 tokens (    7.94 ms per token,   125.94 tokens per second)\n",
      "llama_print_timings:        eval time =     642.18 ms /     8 runs   (   80.27 ms per token,    12.46 tokens per second)\n",
      "llama_print_timings:       total time =    1931.85 ms\n",
      "Llama.generate: prefix-match hit\n"
     ]
    },
    {
     "name": "stdout",
     "output_type": "stream",
     "text": [
      " [\"999 774 0304\"]"
     ]
    },
    {
     "name": "stderr",
     "output_type": "stream",
     "text": [
      "\n",
      "llama_print_timings:        load time =    9841.04 ms\n",
      "llama_print_timings:      sample time =       9.01 ms /    15 runs   (    0.60 ms per token,  1664.08 tokens per second)\n",
      "llama_print_timings: prompt eval time =     265.72 ms /    25 tokens (   10.63 ms per token,    94.08 tokens per second)\n",
      "llama_print_timings:        eval time =    1187.45 ms /    14 runs   (   84.82 ms per token,    11.79 tokens per second)\n",
      "llama_print_timings:       total time =    1566.59 ms\n",
      "Llama.generate: prefix-match hit\n"
     ]
    },
    {
     "name": "stdout",
     "output_type": "stream",
     "text": [
      " [\"2005-12-12\"]"
     ]
    },
    {
     "name": "stderr",
     "output_type": "stream",
     "text": [
      "\n",
      "llama_print_timings:        load time =    9841.04 ms\n",
      "llama_print_timings:      sample time =       6.55 ms /    13 runs   (    0.50 ms per token,  1985.04 tokens per second)\n",
      "llama_print_timings: prompt eval time =     263.53 ms /    25 tokens (   10.54 ms per token,    94.87 tokens per second)\n",
      "llama_print_timings:        eval time =    1023.21 ms /    12 runs   (   85.27 ms per token,    11.73 tokens per second)\n",
      "llama_print_timings:       total time =    1377.25 ms\n",
      "Llama.generate: prefix-match hit\n"
     ]
    },
    {
     "name": "stdout",
     "output_type": "stream",
     "text": [
      " [\"acute viral pharyngitis\"]"
     ]
    },
    {
     "name": "stderr",
     "output_type": "stream",
     "text": [
      "\n",
      "llama_print_timings:        load time =    9841.04 ms\n",
      "llama_print_timings:      sample time =       6.68 ms /    11 runs   (    0.61 ms per token,  1646.71 tokens per second)\n",
      "llama_print_timings: prompt eval time =     258.52 ms /    24 tokens (   10.77 ms per token,    92.84 tokens per second)\n",
      "llama_print_timings:        eval time =     869.13 ms /    10 runs   (   86.91 ms per token,    11.51 tokens per second)\n",
      "llama_print_timings:       total time =    1200.68 ms\n",
      "Llama.generate: prefix-match hit\n"
     ]
    },
    {
     "name": "stdout",
     "output_type": "stream",
     "text": [
      " [\"Mrs.\", \"Myra Schamberger\"]"
     ]
    },
    {
     "name": "stderr",
     "output_type": "stream",
     "text": [
      "\n",
      "llama_print_timings:        load time =    9841.04 ms\n",
      "llama_print_timings:      sample time =       5.05 ms /    12 runs   (    0.42 ms per token,  2375.30 tokens per second)\n",
      "llama_print_timings: prompt eval time =    1237.32 ms /   158 tokens (    7.83 ms per token,   127.69 tokens per second)\n",
      "llama_print_timings:        eval time =     949.39 ms /    11 runs   (   86.31 ms per token,    11.59 tokens per second)\n",
      "llama_print_timings:       total time =    2263.36 ms\n",
      "Llama.generate: prefix-match hit\n"
     ]
    },
    {
     "name": "stdout",
     "output_type": "stream",
     "text": [
      " [\"855 311 5624\"]"
     ]
    },
    {
     "name": "stderr",
     "output_type": "stream",
     "text": [
      "\n",
      "llama_print_timings:        load time =    9841.04 ms\n",
      "llama_print_timings:      sample time =       6.69 ms /    15 runs   (    0.45 ms per token,  2241.82 tokens per second)\n",
      "llama_print_timings: prompt eval time =     273.68 ms /    25 tokens (   10.95 ms per token,    91.35 tokens per second)\n",
      "llama_print_timings:        eval time =    1164.78 ms /    14 runs   (   83.20 ms per token,    12.02 tokens per second)\n",
      "llama_print_timings:       total time =    1522.46 ms\n",
      "Llama.generate: prefix-match hit\n"
     ]
    },
    {
     "name": "stdout",
     "output_type": "stream",
     "text": [
      " [\"13 July 1979\"]"
     ]
    },
    {
     "name": "stderr",
     "output_type": "stream",
     "text": [
      "\n",
      "llama_print_timings:        load time =    9841.04 ms\n",
      "llama_print_timings:      sample time =       4.84 ms /    11 runs   (    0.44 ms per token,  2270.85 tokens per second)\n",
      "llama_print_timings: prompt eval time =     271.78 ms /    25 tokens (   10.87 ms per token,    91.98 tokens per second)\n",
      "llama_print_timings:        eval time =     820.33 ms /    10 runs   (   82.03 ms per token,    12.19 tokens per second)\n",
      "llama_print_timings:       total time =    1155.13 ms\n",
      "Llama.generate: prefix-match hit\n"
     ]
    },
    {
     "name": "stdout",
     "output_type": "stream",
     "text": [
      " []"
     ]
    },
    {
     "name": "stderr",
     "output_type": "stream",
     "text": [
      "\n",
      "llama_print_timings:        load time =    9841.04 ms\n",
      "llama_print_timings:      sample time =       0.98 ms /     2 runs   (    0.49 ms per token,  2044.99 tokens per second)\n",
      "llama_print_timings: prompt eval time =     253.60 ms /    24 tokens (   10.57 ms per token,    94.64 tokens per second)\n",
      "llama_print_timings:        eval time =      78.44 ms /     1 runs   (   78.44 ms per token,    12.75 tokens per second)\n",
      "llama_print_timings:       total time =     345.71 ms\n",
      "Llama.generate: prefix-match hit\n"
     ]
    },
    {
     "name": "stdout",
     "output_type": "stream",
     "text": [
      " [\"Cristy Robel\", \"Dr Emory Schuster\"]"
     ]
    },
    {
     "name": "stderr",
     "output_type": "stream",
     "text": [
      "\n",
      "llama_print_timings:        load time =    9841.04 ms\n",
      "llama_print_timings:      sample time =       8.66 ms /    15 runs   (    0.58 ms per token,  1732.10 tokens per second)\n",
      "llama_print_timings: prompt eval time =    1453.39 ms /   178 tokens (    8.17 ms per token,   122.47 tokens per second)\n",
      "llama_print_timings:        eval time =    1142.90 ms /    14 runs   (   81.64 ms per token,    12.25 tokens per second)\n",
      "llama_print_timings:       total time =    2718.59 ms\n",
      "Llama.generate: prefix-match hit\n"
     ]
    },
    {
     "name": "stdout",
     "output_type": "stream",
     "text": [
      " [\"999 251 4401\"]"
     ]
    },
    {
     "name": "stderr",
     "output_type": "stream",
     "text": [
      "\n",
      "llama_print_timings:        load time =    9841.04 ms\n",
      "llama_print_timings:      sample time =      10.11 ms /    15 runs   (    0.67 ms per token,  1483.09 tokens per second)\n",
      "llama_print_timings: prompt eval time =     259.91 ms /    25 tokens (   10.40 ms per token,    96.19 tokens per second)\n",
      "llama_print_timings:        eval time =    1163.01 ms /    14 runs   (   83.07 ms per token,    12.04 tokens per second)\n",
      "llama_print_timings:       total time =    1539.36 ms\n",
      "Llama.generate: prefix-match hit\n"
     ]
    },
    {
     "name": "stdout",
     "output_type": "stream",
     "text": [
      " [\"2009-10-09\"]"
     ]
    },
    {
     "name": "stderr",
     "output_type": "stream",
     "text": [
      "\n",
      "llama_print_timings:        load time =    9841.04 ms\n",
      "llama_print_timings:      sample time =       8.65 ms /    13 runs   (    0.67 ms per token,  1502.02 tokens per second)\n",
      "llama_print_timings: prompt eval time =     263.15 ms /    25 tokens (   10.53 ms per token,    95.00 tokens per second)\n",
      "llama_print_timings:        eval time =    1016.83 ms /    12 runs   (   84.74 ms per token,    11.80 tokens per second)\n",
      "llama_print_timings:       total time =    1384.93 ms\n",
      "Llama.generate: prefix-match hit\n"
     ]
    },
    {
     "name": "stdout",
     "output_type": "stream",
     "text": [
      " [\"Otitis media\"]"
     ]
    },
    {
     "name": "stderr",
     "output_type": "stream",
     "text": [
      "\n",
      "llama_print_timings:        load time =    9841.04 ms\n",
      "llama_print_timings:      sample time =       4.04 ms /     7 runs   (    0.58 ms per token,  1733.53 tokens per second)\n",
      "llama_print_timings: prompt eval time =     258.60 ms /    24 tokens (   10.78 ms per token,    92.81 tokens per second)\n",
      "llama_print_timings:        eval time =     517.50 ms /     6 runs   (   86.25 ms per token,    11.59 tokens per second)\n",
      "llama_print_timings:       total time =     833.41 ms\n",
      "Llama.generate: prefix-match hit\n"
     ]
    },
    {
     "name": "stdout",
     "output_type": "stream",
     "text": [
      " [\"Ms. Dorie Baumbach\"]"
     ]
    },
    {
     "name": "stderr",
     "output_type": "stream",
     "text": [
      "\n",
      "llama_print_timings:        load time =    9841.04 ms\n",
      "llama_print_timings:      sample time =       6.88 ms /    11 runs   (    0.62 ms per token,  1600.00 tokens per second)\n",
      "llama_print_timings: prompt eval time =    1451.58 ms /   167 tokens (    8.69 ms per token,   115.05 tokens per second)\n",
      "llama_print_timings:        eval time =     828.91 ms /    10 runs   (   82.89 ms per token,    12.06 tokens per second)\n",
      "llama_print_timings:       total time =    2362.03 ms\n",
      "Llama.generate: prefix-match hit\n"
     ]
    },
    {
     "name": "stdout",
     "output_type": "stream",
     "text": [
      " [\"447 249 2567\"]"
     ]
    },
    {
     "name": "stderr",
     "output_type": "stream",
     "text": [
      "\n",
      "llama_print_timings:        load time =    9841.04 ms\n",
      "llama_print_timings:      sample time =       9.96 ms /    15 runs   (    0.66 ms per token,  1505.72 tokens per second)\n",
      "llama_print_timings: prompt eval time =     260.79 ms /    25 tokens (   10.43 ms per token,    95.86 tokens per second)\n",
      "llama_print_timings:        eval time =    1129.69 ms /    14 runs   (   80.69 ms per token,    12.39 tokens per second)\n",
      "llama_print_timings:       total time =    1501.96 ms\n",
      "Llama.generate: prefix-match hit\n"
     ]
    },
    {
     "name": "stdout",
     "output_type": "stream",
     "text": [
      " []"
     ]
    },
    {
     "name": "stderr",
     "output_type": "stream",
     "text": [
      "\n",
      "llama_print_timings:        load time =    9841.04 ms\n",
      "llama_print_timings:      sample time =       0.94 ms /     2 runs   (    0.47 ms per token,  2129.93 tokens per second)\n",
      "llama_print_timings: prompt eval time =     268.17 ms /    25 tokens (   10.73 ms per token,    93.22 tokens per second)\n",
      "llama_print_timings:        eval time =      84.00 ms /     1 runs   (   84.00 ms per token,    11.90 tokens per second)\n",
      "llama_print_timings:       total time =     363.33 ms\n",
      "Llama.generate: prefix-match hit\n"
     ]
    },
    {
     "name": "stdout",
     "output_type": "stream",
     "text": [
      " [\"acute bacterial sinusitis\", \"chronic sinusitis\"]"
     ]
    },
    {
     "name": "stderr",
     "output_type": "stream",
     "text": [
      "\n",
      "llama_print_timings:        load time =    9841.04 ms\n",
      "llama_print_timings:      sample time =      12.37 ms /    18 runs   (    0.69 ms per token,  1454.66 tokens per second)\n",
      "llama_print_timings: prompt eval time =     252.77 ms /    24 tokens (   10.53 ms per token,    94.95 tokens per second)\n",
      "llama_print_timings:        eval time =    1408.69 ms /    17 runs   (   82.86 ms per token,    12.07 tokens per second)\n",
      "llama_print_timings:       total time =    1802.68 ms\n",
      "Llama.generate: prefix-match hit\n"
     ]
    },
    {
     "name": "stdout",
     "output_type": "stream",
     "text": [
      " [\"Deidra Corkery\", \"Almeda Okuneva\"]"
     ]
    },
    {
     "name": "stderr",
     "output_type": "stream",
     "text": [
      "\n",
      "llama_print_timings:        load time =    9841.04 ms\n",
      "llama_print_timings:      sample time =      11.97 ms /    17 runs   (    0.70 ms per token,  1420.57 tokens per second)\n",
      "llama_print_timings: prompt eval time =    1669.68 ms /   202 tokens (    8.27 ms per token,   120.98 tokens per second)\n",
      "llama_print_timings:        eval time =    1239.51 ms /    16 runs   (   77.47 ms per token,    12.91 tokens per second)\n",
      "llama_print_timings:       total time =    3064.67 ms\n",
      "Llama.generate: prefix-match hit\n"
     ]
    },
    {
     "name": "stdout",
     "output_type": "stream",
     "text": [
      " [\"328 659 9956\"]"
     ]
    },
    {
     "name": "stderr",
     "output_type": "stream",
     "text": [
      "\n",
      "llama_print_timings:        load time =    9841.04 ms\n",
      "llama_print_timings:      sample time =       8.97 ms /    15 runs   (    0.60 ms per token,  1672.05 tokens per second)\n",
      "llama_print_timings: prompt eval time =     255.84 ms /    25 tokens (   10.23 ms per token,    97.72 tokens per second)\n",
      "llama_print_timings:        eval time =    1103.68 ms /    14 runs   (   78.83 ms per token,    12.68 tokens per second)\n",
      "llama_print_timings:       total time =    1477.76 ms\n",
      "Llama.generate: prefix-match hit\n"
     ]
    },
    {
     "name": "stdout",
     "output_type": "stream",
     "text": [
      " [\"19th November 1971\"]"
     ]
    },
    {
     "name": "stderr",
     "output_type": "stream",
     "text": [
      "\n",
      "llama_print_timings:        load time =    9841.04 ms\n",
      "llama_print_timings:      sample time =       8.11 ms /    12 runs   (    0.68 ms per token,  1480.20 tokens per second)\n",
      "llama_print_timings: prompt eval time =     255.60 ms /    25 tokens (   10.22 ms per token,    97.81 tokens per second)\n",
      "llama_print_timings:        eval time =     858.49 ms /    11 runs   (   78.04 ms per token,    12.81 tokens per second)\n",
      "llama_print_timings:       total time =    1231.10 ms\n",
      "Llama.generate: prefix-match hit\n"
     ]
    },
    {
     "name": "stdout",
     "output_type": "stream",
     "text": [
      " []"
     ]
    },
    {
     "name": "stderr",
     "output_type": "stream",
     "text": [
      "\n",
      "llama_print_timings:        load time =    9841.04 ms\n",
      "llama_print_timings:      sample time =       1.31 ms /     2 runs   (    0.66 ms per token,  1523.23 tokens per second)\n",
      "llama_print_timings: prompt eval time =     254.40 ms /    24 tokens (   10.60 ms per token,    94.34 tokens per second)\n",
      "llama_print_timings:        eval time =      77.61 ms /     1 runs   (   77.61 ms per token,    12.89 tokens per second)\n",
      "llama_print_timings:       total time =     346.46 ms\n",
      "Llama.generate: prefix-match hit\n"
     ]
    },
    {
     "name": "stdout",
     "output_type": "stream",
     "text": [
      " [\"Wendell Oberbrunner\", \"Dr. Ivette Wunsch\"]"
     ]
    },
    {
     "name": "stderr",
     "output_type": "stream",
     "text": [
      "\n",
      "llama_print_timings:        load time =    9841.04 ms\n",
      "llama_print_timings:      sample time =      12.38 ms /    20 runs   (    0.62 ms per token,  1615.12 tokens per second)\n",
      "llama_print_timings: prompt eval time =    1412.56 ms /   178 tokens (    7.94 ms per token,   126.01 tokens per second)\n",
      "llama_print_timings:        eval time =    1481.34 ms /    19 runs   (   77.97 ms per token,    12.83 tokens per second)\n",
      "llama_print_timings:       total time =    3064.78 ms\n",
      "Llama.generate: prefix-match hit\n"
     ]
    },
    {
     "name": "stdout",
     "output_type": "stream",
     "text": [
      " [\"999 595 1633\"]"
     ]
    },
    {
     "name": "stderr",
     "output_type": "stream",
     "text": [
      "\n",
      "llama_print_timings:        load time =    9841.04 ms\n",
      "llama_print_timings:      sample time =      12.39 ms /    15 runs   (    0.83 ms per token,  1210.36 tokens per second)\n",
      "llama_print_timings: prompt eval time =     254.88 ms /    25 tokens (   10.20 ms per token,    98.09 tokens per second)\n",
      "llama_print_timings:        eval time =    1078.50 ms /    14 runs   (   77.04 ms per token,    12.98 tokens per second)\n",
      "llama_print_timings:       total time =    1480.34 ms\n",
      "Llama.generate: prefix-match hit\n"
     ]
    },
    {
     "name": "stdout",
     "output_type": "stream",
     "text": [
      " [\"1958-11-22\"]"
     ]
    },
    {
     "name": "stderr",
     "output_type": "stream",
     "text": [
      "\n",
      "llama_print_timings:        load time =    9841.04 ms\n",
      "llama_print_timings:      sample time =       9.49 ms /    13 runs   (    0.73 ms per token,  1369.43 tokens per second)\n",
      "llama_print_timings: prompt eval time =     255.09 ms /    25 tokens (   10.20 ms per token,    98.00 tokens per second)\n",
      "llama_print_timings:        eval time =     937.45 ms /    12 runs   (   78.12 ms per token,    12.80 tokens per second)\n",
      "llama_print_timings:       total time =    1315.18 ms\n",
      "Llama.generate: prefix-match hit\n"
     ]
    },
    {
     "name": "stdout",
     "output_type": "stream",
     "text": [
      " []"
     ]
    },
    {
     "name": "stderr",
     "output_type": "stream",
     "text": [
      "\n",
      "llama_print_timings:        load time =    9841.04 ms\n",
      "llama_print_timings:      sample time =       0.86 ms /     2 runs   (    0.43 ms per token,  2331.00 tokens per second)\n",
      "llama_print_timings: prompt eval time =     252.85 ms /    24 tokens (   10.54 ms per token,    94.92 tokens per second)\n",
      "llama_print_timings:        eval time =      79.72 ms /     1 runs   (   79.72 ms per token,    12.54 tokens per second)\n",
      "llama_print_timings:       total time =     342.33 ms\n",
      "Llama.generate: prefix-match hit\n"
     ]
    },
    {
     "name": "stdout",
     "output_type": "stream",
     "text": [
      " [\"Ethan Kutch\", \"Dylan Robel\"]"
     ]
    },
    {
     "name": "stderr",
     "output_type": "stream",
     "text": [
      "\n",
      "llama_print_timings:        load time =    9841.04 ms\n",
      "llama_print_timings:      sample time =      10.60 ms /    14 runs   (    0.76 ms per token,  1320.38 tokens per second)\n",
      "llama_print_timings: prompt eval time =    1171.48 ms /   142 tokens (    8.25 ms per token,   121.21 tokens per second)\n",
      "llama_print_timings:        eval time =     999.24 ms /    13 runs   (   76.86 ms per token,    13.01 tokens per second)\n",
      "llama_print_timings:       total time =    2305.13 ms\n",
      "Llama.generate: prefix-match hit\n"
     ]
    },
    {
     "name": "stdout",
     "output_type": "stream",
     "text": [
      " [\"999 126 7519\"]"
     ]
    },
    {
     "name": "stderr",
     "output_type": "stream",
     "text": [
      "\n",
      "llama_print_timings:        load time =    9841.04 ms\n",
      "llama_print_timings:      sample time =      12.47 ms /    15 runs   (    0.83 ms per token,  1203.18 tokens per second)\n",
      "llama_print_timings: prompt eval time =     254.44 ms /    25 tokens (   10.18 ms per token,    98.25 tokens per second)\n",
      "llama_print_timings:        eval time =    1073.40 ms /    14 runs   (   76.67 ms per token,    13.04 tokens per second)\n",
      "llama_print_timings:       total time =    1468.57 ms\n",
      "Llama.generate: prefix-match hit\n"
     ]
    },
    {
     "name": "stdout",
     "output_type": "stream",
     "text": [
      " []"
     ]
    },
    {
     "name": "stderr",
     "output_type": "stream",
     "text": [
      "\n",
      "llama_print_timings:        load time =    9841.04 ms\n",
      "llama_print_timings:      sample time =       0.30 ms /     2 runs   (    0.15 ms per token,  6734.01 tokens per second)\n",
      "llama_print_timings: prompt eval time =     254.69 ms /    25 tokens (   10.19 ms per token,    98.16 tokens per second)\n",
      "llama_print_timings:        eval time =      84.09 ms /     1 runs   (   84.09 ms per token,    11.89 tokens per second)\n",
      "llama_print_timings:       total time =     344.35 ms\n",
      "Llama.generate: prefix-match hit\n"
     ]
    },
    {
     "name": "stdout",
     "output_type": "stream",
     "text": [
      " [\"viral sinusitis\"]"
     ]
    },
    {
     "name": "stderr",
     "output_type": "stream",
     "text": [
      "\n",
      "llama_print_timings:        load time =    9841.04 ms\n",
      "llama_print_timings:      sample time =       6.54 ms /     8 runs   (    0.82 ms per token,  1223.05 tokens per second)\n",
      "llama_print_timings: prompt eval time =     252.55 ms /    24 tokens (   10.52 ms per token,    95.03 tokens per second)\n",
      "llama_print_timings:        eval time =     536.98 ms /     7 runs   (   76.71 ms per token,    13.04 tokens per second)\n",
      "llama_print_timings:       total time =     862.73 ms\n",
      "Llama.generate: prefix-match hit\n"
     ]
    },
    {
     "name": "stdout",
     "output_type": "stream",
     "text": [
      " [\"Mr. Lupe Cassin\", \"Dr. Michel Zulauf\"]"
     ]
    },
    {
     "name": "stderr",
     "output_type": "stream",
     "text": [
      "\n",
      "llama_print_timings:        load time =    9841.04 ms\n",
      "llama_print_timings:      sample time =      12.03 ms /    17 runs   (    0.71 ms per token,  1413.02 tokens per second)\n",
      "llama_print_timings: prompt eval time =    1180.57 ms /   157 tokens (    7.52 ms per token,   132.99 tokens per second)\n",
      "llama_print_timings:        eval time =    1229.03 ms /    16 runs   (   76.81 ms per token,    13.02 tokens per second)\n",
      "llama_print_timings:       total time =    2574.44 ms\n",
      "Llama.generate: prefix-match hit\n"
     ]
    },
    {
     "name": "stdout",
     "output_type": "stream",
     "text": [
      " [\"120 506 4336\"]"
     ]
    },
    {
     "name": "stderr",
     "output_type": "stream",
     "text": [
      "\n",
      "llama_print_timings:        load time =    9841.04 ms\n",
      "llama_print_timings:      sample time =       7.33 ms /    15 runs   (    0.49 ms per token,  2047.78 tokens per second)\n",
      "llama_print_timings: prompt eval time =     254.83 ms /    25 tokens (   10.19 ms per token,    98.11 tokens per second)\n",
      "llama_print_timings:        eval time =    1097.54 ms /    14 runs   (   78.40 ms per token,    12.76 tokens per second)\n",
      "llama_print_timings:       total time =    1461.74 ms\n",
      "Llama.generate: prefix-match hit\n"
     ]
    },
    {
     "name": "stdout",
     "output_type": "stream",
     "text": [
      " []"
     ]
    },
    {
     "name": "stderr",
     "output_type": "stream",
     "text": [
      "\n",
      "llama_print_timings:        load time =    9841.04 ms\n",
      "llama_print_timings:      sample time =       1.34 ms /     2 runs   (    0.67 ms per token,  1492.54 tokens per second)\n",
      "llama_print_timings: prompt eval time =     254.62 ms /    25 tokens (   10.19 ms per token,    98.18 tokens per second)\n",
      "llama_print_timings:        eval time =      77.12 ms /     1 runs   (   77.12 ms per token,    12.97 tokens per second)\n",
      "llama_print_timings:       total time =     349.21 ms\n",
      "Llama.generate: prefix-match hit\n"
     ]
    },
    {
     "name": "stdout",
     "output_type": "stream",
     "text": [
      " [\"acute bacterial sinusitis\"]"
     ]
    },
    {
     "name": "stderr",
     "output_type": "stream",
     "text": [
      "\n",
      "llama_print_timings:        load time =    9841.04 ms\n",
      "llama_print_timings:      sample time =       7.08 ms /    11 runs   (    0.64 ms per token,  1554.77 tokens per second)\n",
      "llama_print_timings: prompt eval time =     253.34 ms /    24 tokens (   10.56 ms per token,    94.73 tokens per second)\n",
      "llama_print_timings:        eval time =     769.12 ms /    10 runs   (   76.91 ms per token,    13.00 tokens per second)\n",
      "llama_print_timings:       total time =    1121.45 ms\n",
      "Llama.generate: prefix-match hit\n"
     ]
    },
    {
     "name": "stdout",
     "output_type": "stream",
     "text": [
      " [\"Mrs. Logan Schaden\"]"
     ]
    },
    {
     "name": "stderr",
     "output_type": "stream",
     "text": [
      "\n",
      "llama_print_timings:        load time =    9841.04 ms\n",
      "llama_print_timings:      sample time =       8.44 ms /    10 runs   (    0.84 ms per token,  1184.83 tokens per second)\n",
      "llama_print_timings: prompt eval time =    1167.68 ms /   143 tokens (    8.17 ms per token,   122.46 tokens per second)\n",
      "llama_print_timings:        eval time =     743.35 ms /     9 runs   (   82.59 ms per token,    12.11 tokens per second)\n",
      "llama_print_timings:       total time =    1998.80 ms\n",
      "Llama.generate: prefix-match hit\n"
     ]
    },
    {
     "name": "stdout",
     "output_type": "stream",
     "text": [
      " [\"169 421 2926\"]"
     ]
    },
    {
     "name": "stderr",
     "output_type": "stream",
     "text": [
      "\n",
      "llama_print_timings:        load time =    9841.04 ms\n",
      "llama_print_timings:      sample time =      10.38 ms /    15 runs   (    0.69 ms per token,  1444.95 tokens per second)\n",
      "llama_print_timings: prompt eval time =     254.29 ms /    25 tokens (   10.17 ms per token,    98.31 tokens per second)\n",
      "llama_print_timings:        eval time =    1099.12 ms /    14 runs   (   78.51 ms per token,    12.74 tokens per second)\n",
      "llama_print_timings:       total time =    1471.85 ms\n",
      "Llama.generate: prefix-match hit\n"
     ]
    },
    {
     "name": "stdout",
     "output_type": "stream",
     "text": [
      " [\"1958-11-05\"]"
     ]
    },
    {
     "name": "stderr",
     "output_type": "stream",
     "text": [
      "\n",
      "llama_print_timings:        load time =    9841.04 ms\n",
      "llama_print_timings:      sample time =      10.16 ms /    13 runs   (    0.78 ms per token,  1279.28 tokens per second)\n",
      "llama_print_timings: prompt eval time =     255.43 ms /    25 tokens (   10.22 ms per token,    97.87 tokens per second)\n",
      "llama_print_timings:        eval time =     945.19 ms /    12 runs   (   78.77 ms per token,    12.70 tokens per second)\n",
      "llama_print_timings:       total time =    1316.73 ms\n",
      "Llama.generate: prefix-match hit\n"
     ]
    },
    {
     "name": "stdout",
     "output_type": "stream",
     "text": [
      " [\"viral sinusitis\"]"
     ]
    },
    {
     "name": "stderr",
     "output_type": "stream",
     "text": [
      "\n",
      "llama_print_timings:        load time =    9841.04 ms\n",
      "llama_print_timings:      sample time =       5.39 ms /     8 runs   (    0.67 ms per token,  1483.95 tokens per second)\n",
      "llama_print_timings: prompt eval time =     253.39 ms /    24 tokens (   10.56 ms per token,    94.72 tokens per second)\n",
      "llama_print_timings:        eval time =     547.35 ms /     7 runs   (   78.19 ms per token,    12.79 tokens per second)\n",
      "llama_print_timings:       total time =     859.60 ms\n",
      "Llama.generate: prefix-match hit\n"
     ]
    },
    {
     "name": "stdout",
     "output_type": "stream",
     "text": [
      " [\"Mr. Jaime Sauer\", \"Seth Dare\"]"
     ]
    },
    {
     "name": "stderr",
     "output_type": "stream",
     "text": [
      "\n",
      "llama_print_timings:        load time =    9841.04 ms\n",
      "llama_print_timings:      sample time =       7.45 ms /    15 runs   (    0.50 ms per token,  2012.61 tokens per second)\n",
      "llama_print_timings: prompt eval time =    1175.83 ms /   145 tokens (    8.11 ms per token,   123.32 tokens per second)\n",
      "llama_print_timings:        eval time =    1107.51 ms /    14 runs   (   79.11 ms per token,    12.64 tokens per second)\n",
      "llama_print_timings:       total time =    2393.26 ms\n",
      "Llama.generate: prefix-match hit\n"
     ]
    },
    {
     "name": "stdout",
     "output_type": "stream",
     "text": [
      " [\"355 112 3923\"]"
     ]
    },
    {
     "name": "stderr",
     "output_type": "stream",
     "text": [
      "\n",
      "llama_print_timings:        load time =    9841.04 ms\n",
      "llama_print_timings:      sample time =       7.23 ms /    15 runs   (    0.48 ms per token,  2073.83 tokens per second)\n",
      "llama_print_timings: prompt eval time =     254.31 ms /    25 tokens (   10.17 ms per token,    98.30 tokens per second)\n",
      "llama_print_timings:        eval time =    1146.55 ms /    14 runs   (   81.90 ms per token,    12.21 tokens per second)\n",
      "llama_print_timings:       total time =    1494.82 ms\n",
      "Llama.generate: prefix-match hit\n"
     ]
    },
    {
     "name": "stdout",
     "output_type": "stream",
     "text": [
      " [\"26th of January 1959\"]"
     ]
    },
    {
     "name": "stderr",
     "output_type": "stream",
     "text": [
      "\n",
      "llama_print_timings:        load time =    9841.04 ms\n",
      "llama_print_timings:      sample time =       5.51 ms /    13 runs   (    0.42 ms per token,  2361.06 tokens per second)\n",
      "llama_print_timings: prompt eval time =     254.74 ms /    25 tokens (   10.19 ms per token,    98.14 tokens per second)\n",
      "llama_print_timings:        eval time =     993.85 ms /    12 runs   (   82.82 ms per token,    12.07 tokens per second)\n",
      "llama_print_timings:       total time =    1330.32 ms\n",
      "Llama.generate: prefix-match hit\n"
     ]
    },
    {
     "name": "stdout",
     "output_type": "stream",
     "text": [
      " []"
     ]
    },
    {
     "name": "stderr",
     "output_type": "stream",
     "text": [
      "\n",
      "llama_print_timings:        load time =    9841.04 ms\n",
      "llama_print_timings:      sample time =       0.87 ms /     2 runs   (    0.44 ms per token,  2293.58 tokens per second)\n",
      "llama_print_timings: prompt eval time =     266.37 ms /    24 tokens (   11.10 ms per token,    90.10 tokens per second)\n",
      "llama_print_timings:        eval time =      78.62 ms /     1 runs   (   78.62 ms per token,    12.72 tokens per second)\n",
      "llama_print_timings:       total time =     357.10 ms\n",
      "Llama.generate: prefix-match hit\n"
     ]
    },
    {
     "name": "stdout",
     "output_type": "stream",
     "text": [
      " [\"Reggie Langosh\"]"
     ]
    },
    {
     "name": "stderr",
     "output_type": "stream",
     "text": [
      "\n",
      "llama_print_timings:        load time =    9841.04 ms\n",
      "llama_print_timings:      sample time =       4.76 ms /     7 runs   (    0.68 ms per token,  1469.35 tokens per second)\n",
      "llama_print_timings: prompt eval time =    1187.29 ms /   134 tokens (    8.86 ms per token,   112.86 tokens per second)\n",
      "llama_print_timings:        eval time =     485.12 ms /     6 runs   (   80.85 ms per token,    12.37 tokens per second)\n",
      "llama_print_timings:       total time =    1727.38 ms\n",
      "Llama.generate: prefix-match hit\n"
     ]
    },
    {
     "name": "stdout",
     "output_type": "stream",
     "text": [
      " [\"999 367 0222\"]"
     ]
    },
    {
     "name": "stderr",
     "output_type": "stream",
     "text": [
      "\n",
      "llama_print_timings:        load time =    9841.04 ms\n",
      "llama_print_timings:      sample time =       8.27 ms /    15 runs   (    0.55 ms per token,  1813.13 tokens per second)\n",
      "llama_print_timings: prompt eval time =     259.88 ms /    25 tokens (   10.40 ms per token,    96.20 tokens per second)\n",
      "llama_print_timings:        eval time =    1132.09 ms /    14 runs   (   80.86 ms per token,    12.37 tokens per second)\n",
      "llama_print_timings:       total time =    1509.18 ms\n",
      "Llama.generate: prefix-match hit\n"
     ]
    },
    {
     "name": "stdout",
     "output_type": "stream",
     "text": [
      " [\"12 year old\"]"
     ]
    },
    {
     "name": "stderr",
     "output_type": "stream",
     "text": [
      "\n",
      "llama_print_timings:        load time =    9841.04 ms\n",
      "llama_print_timings:      sample time =       3.61 ms /     7 runs   (    0.52 ms per token,  1937.98 tokens per second)\n",
      "llama_print_timings: prompt eval time =     271.98 ms /    25 tokens (   10.88 ms per token,    91.92 tokens per second)\n",
      "llama_print_timings:        eval time =     523.36 ms /     6 runs   (   87.23 ms per token,    11.46 tokens per second)\n",
      "llama_print_timings:       total time =     839.55 ms\n",
      "Llama.generate: prefix-match hit\n"
     ]
    },
    {
     "name": "stdout",
     "output_type": "stream",
     "text": [
      " [\"viral sinusitis\"]"
     ]
    },
    {
     "name": "stderr",
     "output_type": "stream",
     "text": [
      "\n",
      "llama_print_timings:        load time =    9841.04 ms\n",
      "llama_print_timings:      sample time =       6.64 ms /     8 runs   (    0.83 ms per token,  1205.00 tokens per second)\n",
      "llama_print_timings: prompt eval time =     262.22 ms /    24 tokens (   10.93 ms per token,    91.53 tokens per second)\n",
      "llama_print_timings:        eval time =     543.06 ms /     7 runs   (   77.58 ms per token,    12.89 tokens per second)\n",
      "llama_print_timings:       total time =     877.46 ms\n",
      "Llama.generate: prefix-match hit\n"
     ]
    },
    {
     "name": "stdout",
     "output_type": "stream",
     "text": [
      " [\"Ms. Luann Hills\", \"Florine Windler\"]"
     ]
    },
    {
     "name": "stderr",
     "output_type": "stream",
     "text": [
      "\n",
      "llama_print_timings:        load time =    9841.04 ms\n",
      "llama_print_timings:      sample time =      14.30 ms /    16 runs   (    0.89 ms per token,  1118.88 tokens per second)\n",
      "llama_print_timings: prompt eval time =    1648.23 ms /   194 tokens (    8.50 ms per token,   117.70 tokens per second)\n",
      "llama_print_timings:        eval time =    1161.49 ms /    15 runs   (   77.43 ms per token,    12.91 tokens per second)\n",
      "llama_print_timings:       total time =    2966.96 ms\n",
      "Llama.generate: prefix-match hit\n"
     ]
    },
    {
     "name": "stdout",
     "output_type": "stream",
     "text": [
      " [\"999 395 1923\"]"
     ]
    },
    {
     "name": "stderr",
     "output_type": "stream",
     "text": [
      "\n",
      "llama_print_timings:        load time =    9841.04 ms\n",
      "llama_print_timings:      sample time =       9.40 ms /    15 runs   (    0.63 ms per token,  1595.91 tokens per second)\n",
      "llama_print_timings: prompt eval time =     255.98 ms /    25 tokens (   10.24 ms per token,    97.66 tokens per second)\n",
      "llama_print_timings:        eval time =    1117.36 ms /    14 runs   (   79.81 ms per token,    12.53 tokens per second)\n",
      "llama_print_timings:       total time =    1475.66 ms\n",
      "Llama.generate: prefix-match hit\n"
     ]
    },
    {
     "name": "stdout",
     "output_type": "stream",
     "text": [
      " [\"10th of August 2003\"]"
     ]
    },
    {
     "name": "stderr",
     "output_type": "stream",
     "text": [
      "\n",
      "llama_print_timings:        load time =    9841.04 ms\n",
      "llama_print_timings:      sample time =       8.35 ms /    13 runs   (    0.64 ms per token,  1557.82 tokens per second)\n",
      "llama_print_timings: prompt eval time =     256.72 ms /    25 tokens (   10.27 ms per token,    97.38 tokens per second)\n",
      "llama_print_timings:        eval time =     945.66 ms /    12 runs   (   78.81 ms per token,    12.69 tokens per second)\n",
      "llama_print_timings:       total time =    1301.48 ms\n",
      "Llama.generate: prefix-match hit\n"
     ]
    },
    {
     "name": "stdout",
     "output_type": "stream",
     "text": [
      " [\"chief complaint\", \"acute bronchitis\"]"
     ]
    },
    {
     "name": "stderr",
     "output_type": "stream",
     "text": [
      "\n",
      "llama_print_timings:        load time =    9841.04 ms\n",
      "llama_print_timings:      sample time =      11.15 ms /    14 runs   (    0.80 ms per token,  1255.72 tokens per second)\n",
      "llama_print_timings: prompt eval time =     255.36 ms /    24 tokens (   10.64 ms per token,    93.98 tokens per second)\n",
      "llama_print_timings:        eval time =    1011.41 ms /    13 runs   (   77.80 ms per token,    12.85 tokens per second)\n",
      "llama_print_timings:       total time =    1402.19 ms\n",
      "ggml_metal_free: deallocating\n"
     ]
    }
   ],
   "source": [
    "patient_entities = extraction.run(data, entities)"
   ]
  },
  {
   "cell_type": "code",
   "execution_count": 18,
   "metadata": {},
   "outputs": [],
   "source": [
    "import re\n",
    "\n",
    "def get_entity_values(person_entities, entity_type):\n",
    "    return [dict for dict in person_entities if dict[\"Type\"] == entity_type]\n",
    "\n",
    "\n",
    "def return_list_of_entities(person_entities, entity_type, cleaning_functions=[]):\n",
    "    person_entity = get_entity_values(person_entities, entity_type)\n",
    "    entity_list = []\n",
    "    for entity in person_entity:\n",
    "        entity_output = entity[\"Text\"]\n",
    "        for func in cleaning_functions:\n",
    "            entity_output = func(entity_output)\n",
    "        if entity_output != \"\":\n",
    "            entity_list.append(entity_output)\n",
    "\n",
    "    return entity_list\n",
    "\n",
    "\n",
    "def remove_titles(name):\n",
    "    # Define a list of common titles to remove\n",
    "    titles = [\"Mrs\", \"Mr\", \"Ms\", \"Dr\", \"Prof\", \"Miss\", \"Doctor\"]\n",
    "\n",
    "    # Create a regular expression pattern to match any title followed by an optional dot and space.\n",
    "    pattern = r\"^(?:\" + \"|\".join(titles) + r\")(?:\\.\\s)?(?:\\.)?\"\n",
    "\n",
    "    # Replace all occurrences of titles with an empty string\n",
    "    cleaned_name = re.sub(pattern, \"\", name, flags=re.IGNORECASE)\n",
    "\n",
    "    return cleaned_name\n",
    "\n",
    "\n",
    "def return_list_of_names(person_entities, entity_type):\n",
    "\n",
    "    cleaning_functions = [remove_titles]\n",
    "\n",
    "    entity_list = return_list_of_entities(\n",
    "        person_entities, entity_type, cleaning_functions\n",
    "    )\n",
    "\n",
    "    return entity_list"
   ]
  },
  {
   "cell_type": "code",
   "execution_count": 19,
   "metadata": {},
   "outputs": [],
   "source": [
    "person_entity = get_entity_values(patient_entities[0][\"Entities\"], \"person\")"
   ]
  },
  {
   "cell_type": "code",
   "execution_count": 20,
   "metadata": {},
   "outputs": [
    {
     "data": {
      "text/plain": [
       "[{'Text': 'Mr. Brandon McLaughlin',\n",
       "  'Type': 'person',\n",
       "  'Match_Count': 1,\n",
       "  'Match_Indices': [(2, 24)]}]"
      ]
     },
     "execution_count": 20,
     "metadata": {},
     "output_type": "execute_result"
    }
   ],
   "source": [
    "person_entity"
   ]
  },
  {
   "cell_type": "code",
   "execution_count": 22,
   "metadata": {},
   "outputs": [
    {
     "data": {
      "text/plain": [
       "['Mr. Brandon McLaughlin']"
      ]
     },
     "execution_count": 22,
     "metadata": {},
     "output_type": "execute_result"
    }
   ],
   "source": [
    "return_list_of_entities(patient_entities[0][\"Entities\"], entity_type=\"person\", cleaning_functions=[])"
   ]
  },
  {
   "cell_type": "code",
   "execution_count": null,
   "metadata": {},
   "outputs": [],
   "source": [
    "def return_list_of_first_entity_from_patient_entities(patient_entities, entity_type):\n",
    "    outputs = []\n",
    "    for patient_entity in patient_entities:\n",
    "        all_values = return_list_of_entities(patient_entity, entity_type)\n",
    "        outputs.append(item)\n",
    "    return outputs"
   ]
  },
  {
   "cell_type": "code",
   "execution_count": 4,
   "metadata": {},
   "outputs": [],
   "source": [
    "from dateparser import parse\n",
    "from sklearn.compose import ColumnTransformer\n",
    "from sklearn.preprocessing import LabelEncoder\n",
    "from typing import Tuple, Dict\n",
    "\n",
    "def get_entity_values(person_entities, entity_type):\n",
    "    return [dict for dict in person_entities if dict[\"Type\"] == entity_type]\n",
    "\n",
    "def return_list_of_entities(person_entities, entity_type):\n",
    "    person_entity = get_entity_values(person_entities, entity_type)\n",
    "    entity_list = []\n",
    "    for entity in person_entity:\n",
    "        entity_output = entity[\"Text\"]\n",
    "        entity_list.append(entity_output)\n",
    "\n",
    "    return entity_list\n",
    "\n",
    "def remove_titles(name):\n",
    "    # Define a list of common titles to remove\n",
    "    titles = [\"Mrs\", \"Mr\", \"Ms\", \"Dr\", \"Prof\", \"Miss\", \"Doctor\"]\n",
    "\n",
    "    # Create a regular expression pattern to match any title followed by an optional dot and space.\n",
    "    pattern = r\"^(?:\" + \"|\".join(titles) + r\")(?:\\.\\s)?(?:\\.)?\"\n",
    "\n",
    "    # Replace all occurrences of titles with an empty string\n",
    "    cleaned_name = re.sub(pattern, \"\", name, flags=re.IGNORECASE)\n",
    "\n",
    "    return cleaned_name\n",
    "\n",
    "def return_names_extracted(person_entities):\n",
    "    person_entity = get_entity_values(person_entities, \"person\")\n",
    "    entity_list = []\n",
    "    for person in person_entity:\n",
    "        person_cleaned = remove_titles(person[\"Text\"])\n",
    "        if person_cleaned != \"\":\n",
    "            entity_list.append(person_cleaned)\n",
    "\n",
    "    return entity_list\n",
    "\n",
    "def return_diseases_extracted(person_entities):\n",
    "    person_entity = get_entity_values(person_entities, \"diagnosis\")\n",
    "    entity_list = []\n",
    "    for disease in person_entity:\n",
    "        entity_list.append(disease[\"Text\"])\n",
    "\n",
    "    return entity_list\n",
    "\n",
    "    \n",
    "### MORE CODE ###\n",
    "\n",
    "def get_entity_values(person_entities, entity_type):\n",
    "    return [dict for dict in person_entities if dict[\"Type\"]==entity_type]\n",
    "\n",
    "def return_first_output_extract(person_entities, entity_type):\n",
    "    person_entity = get_entity_values(person_entities, entity_type)\n",
    "    entity_list = []\n",
    "    for item in person_entity:\n",
    "        entity_list.append(item[\"Text\"])\n",
    "\n",
    "    if len(entity_list) > 0:\n",
    "        return entity_list[0]\n",
    "    else:\n",
    "        return None\n",
    "    \n",
    "def return_list_of_first_entity_from_patient_entities(patient_entities, entity_type):\n",
    "    outputs = []\n",
    "    for patient_entity in patient_entities:\n",
    "        item = return_first_output_extract(patient_entity[\"Entities\"], entity_type)\n",
    "        outputs.append(item)\n",
    "    return outputs\n",
    "\n",
    "def create_df_from_patient_entities(patient_entities, entity_list):\n",
    "\n",
    "    patient_data = dict()\n",
    "\n",
    "    for entity in entity_list:\n",
    "        entity_list = return_list_of_first_entity_from_patient_entities(patient_entities, entity)\n",
    "        patient_data[entity] = entity_list\n",
    "\n",
    "    return pd.DataFrame(patient_data)\n",
    "\n",
    "\n",
    "def normalise_date_column(df, column_name):\n",
    "    df_copy = df.copy()\n",
    "    df_copy[column_name] = df_copy[column_name].astype(str).apply(parse)\n",
    "    return df_copy\n",
    "\n",
    "\n",
    "def encode(df: pd.DataFrame) -> Tuple[pd.DataFrame, Dict[str, Dict[str, int]]]:\n",
    "    \"\"\"Encode a dataset for processing by pycorrectmatch\n",
    "\n",
    "    :param df: Table of data\n",
    "    :returns: Table of encoded data and lookup dictionary\"\"\"\n",
    "    output = df.fillna(0)\n",
    "    for col in output.columns:\n",
    "        if len(set([type(i) for i in output[col].tolist()])) > 1:\n",
    "            output[col] = output[col].astype(\"str\")\n",
    "    ct = ColumnTransformer(\n",
    "        [\n",
    "            (f\"encode_{col_name}\", PipelineLabelEncoder(), col_name)\n",
    "            for col_name in output.columns\n",
    "        ]\n",
    "    )\n",
    "    encoded_output = pd.DataFrame(\n",
    "        ct.fit_transform(output), index=output.index, columns=output.columns\n",
    "    )\n",
    "    transformers = {k: j for i, j, k in ct.transformers_}\n",
    "    lookup = {\n",
    "        i: {k: j for j, k in enumerate(transformers[i].classes_)}\n",
    "        for i in output.columns\n",
    "    }\n",
    "    return encoded_output, lookup\n",
    "\n",
    "class PipelineLabelEncoder(LabelEncoder):\n",
    "    def fit_transform(self, y, _, *args, **kwargs):\n",
    "        return super().fit_transform(y, *args, **kwargs).reshape(-1, 1)\n",
    "\n",
    "    def transform(self, y, _, *args, **kwargs):\n",
    "        return super().transform(y, *args, **kwargs).reshape(-1, 1)"
   ]
  },
  {
   "cell_type": "code",
   "execution_count": 25,
   "metadata": {},
   "outputs": [],
   "source": [
    "def get_entity_values(person_entities, entity_type):\n",
    "    return [dict for dict in person_entities if dict[\"Type\"] == entity_type]\n",
    "\n",
    "\n",
    "def return_list_of_entities_from_person(\n",
    "    person_entity, entity_type, cleaning_functions=[]\n",
    "):\n",
    "    person_entity = get_entity_values(person_entity, entity_type)\n",
    "    entity_list = []\n",
    "    for entity in person_entity:\n",
    "        entity_output = entity[\"Text\"]\n",
    "        for func in cleaning_functions:\n",
    "            entity_output = func(entity_output)\n",
    "        if entity_output != \"\":\n",
    "            entity_list.append(entity_output)\n",
    "\n",
    "    return entity_list"
   ]
  },
  {
   "cell_type": "code",
   "execution_count": 45,
   "metadata": {},
   "outputs": [],
   "source": [
    "def return_list_of_first_entity_from_patient_entities(\n",
    "    patient_entities, entity_type, cleaning_functions=list()\n",
    "):\n",
    "    outputs = []\n",
    "    for patient_entity in patient_entities:\n",
    "        item = return_list_of_entities_from_person(\n",
    "            patient_entity[\"Entities\"], entity_type, cleaning_functions\n",
    "        )\n",
    "        if len(item) > 0:\n",
    "            outputs.append(item[0])\n",
    "        else:\n",
    "            outputs.append(None)\n",
    "    return outputs\n",
    "\n",
    "def create_df_from_patient_entities(patient_entities, entity_list, cleaning_functions_per_entity):\n",
    "\n",
    "    patient_data = dict()\n",
    "\n",
    "    for entity in entity_list:\n",
    "        cleaning_functions = cleaning_functions_per_entity[entity]\n",
    "        entity_list = return_list_of_first_entity_from_patient_entities(patient_entities, entity, cleaning_functions)\n",
    "        patient_data[entity] = entity_list\n",
    "\n",
    "    return pd.DataFrame(patient_data)"
   ]
  },
  {
   "cell_type": "code",
   "execution_count": 48,
   "metadata": {},
   "outputs": [],
   "source": [
    "def remove_titles(name):\n",
    "    # Define a list of common titles to remove\n",
    "    titles = [\"Mrs\", \"Mr\", \"Ms\", \"Dr\", \"Prof\", \"Miss\", \"Doctor\"]\n",
    "\n",
    "    # Create a regular expression pattern to match any title followed by an optional dot and space.\n",
    "    pattern = r\"^(?:\" + \"|\".join(titles) + r\")(?:\\.\\s)?(?:\\.)?\"\n",
    "\n",
    "    # Replace all occurrences of titles with an empty string\n",
    "    cleaned_name = re.sub(pattern, \"\", name, flags=re.IGNORECASE)\n",
    "\n",
    "    return cleaned_name"
   ]
  },
  {
   "cell_type": "code",
   "execution_count": 49,
   "metadata": {},
   "outputs": [],
   "source": [
    "cleaning_functions_per_entity = {\n",
    "    \"person\": [remove_titles],\n",
    "    \"NHS number\": [],\n",
    "    \"date of birth\": [],\n",
    "    \"diagnosis\": []\n",
    "}"
   ]
  },
  {
   "cell_type": "code",
   "execution_count": 50,
   "metadata": {},
   "outputs": [],
   "source": [
    "def create_df_from_patient_entities(patient_entities, entity_list, cleaning_functions_per_entity):\n",
    "\n",
    "    patient_data = dict()\n",
    "\n",
    "    for entity in entity_list:\n",
    "        cleaning_functions = cleaning_functions_per_entity[entity]\n",
    "        entity_list = return_list_of_first_entity_from_patient_entities(patient_entities, entity, cleaning_functions)\n",
    "        patient_data[entity] = entity_list\n",
    "\n",
    "    return pd.DataFrame(patient_data)"
   ]
  },
  {
   "cell_type": "code",
   "execution_count": 51,
   "metadata": {},
   "outputs": [
    {
     "data": {
      "text/html": [
       "<div>\n",
       "<style scoped>\n",
       "    .dataframe tbody tr th:only-of-type {\n",
       "        vertical-align: middle;\n",
       "    }\n",
       "\n",
       "    .dataframe tbody tr th {\n",
       "        vertical-align: top;\n",
       "    }\n",
       "\n",
       "    .dataframe thead th {\n",
       "        text-align: right;\n",
       "    }\n",
       "</style>\n",
       "<table border=\"1\" class=\"dataframe\">\n",
       "  <thead>\n",
       "    <tr style=\"text-align: right;\">\n",
       "      <th></th>\n",
       "      <th>person</th>\n",
       "      <th>NHS number</th>\n",
       "      <th>date of birth</th>\n",
       "      <th>diagnosis</th>\n",
       "    </tr>\n",
       "  </thead>\n",
       "  <tbody>\n",
       "    <tr>\n",
       "      <th>0</th>\n",
       "      <td>Brandon McLaughlin</td>\n",
       "      <td>568 968 0803</td>\n",
       "      <td>1963-12-07</td>\n",
       "      <td>acute bronchitis</td>\n",
       "    </tr>\n",
       "    <tr>\n",
       "      <th>1</th>\n",
       "      <td>Esteban Altenwerth</td>\n",
       "      <td>201 826 4805</td>\n",
       "      <td>None</td>\n",
       "      <td>None</td>\n",
       "    </tr>\n",
       "    <tr>\n",
       "      <th>2</th>\n",
       "      <td>Ervin O'Connell</td>\n",
       "      <td>862 334 6633</td>\n",
       "      <td>None</td>\n",
       "      <td>acute bronchitis</td>\n",
       "    </tr>\n",
       "    <tr>\n",
       "      <th>3</th>\n",
       "      <td>Pam Boehm</td>\n",
       "      <td>639 189 7032</td>\n",
       "      <td>None</td>\n",
       "      <td>None</td>\n",
       "    </tr>\n",
       "    <tr>\n",
       "      <th>4</th>\n",
       "      <td>Mirta Mosciski</td>\n",
       "      <td>231 157 0705</td>\n",
       "      <td>DOB</td>\n",
       "      <td>None</td>\n",
       "    </tr>\n",
       "    <tr>\n",
       "      <th>5</th>\n",
       "      <td>Pierre Hyatt</td>\n",
       "      <td>476 859 5816</td>\n",
       "      <td>1987-12-27</td>\n",
       "      <td>viral sinusitis</td>\n",
       "    </tr>\n",
       "    <tr>\n",
       "      <th>6</th>\n",
       "      <td>Angela Collier</td>\n",
       "      <td>590 161 4272</td>\n",
       "      <td>1996-06-03</td>\n",
       "      <td>Perennial allergic rhinitis with seasonal vari...</td>\n",
       "    </tr>\n",
       "    <tr>\n",
       "      <th>7</th>\n",
       "      <td>Shannon Borer</td>\n",
       "      <td>122 273 9962</td>\n",
       "      <td>1982-10-10</td>\n",
       "      <td>Viral sinusitis</td>\n",
       "    </tr>\n",
       "    <tr>\n",
       "      <th>8</th>\n",
       "      <td>Delmy Halvorson</td>\n",
       "      <td>999 774 0304</td>\n",
       "      <td>2005-12-12</td>\n",
       "      <td>acute viral pharyngitis</td>\n",
       "    </tr>\n",
       "    <tr>\n",
       "      <th>9</th>\n",
       "      <td>Myra Schamberger</td>\n",
       "      <td>855 311 5624</td>\n",
       "      <td>None</td>\n",
       "      <td>acute viral pharyngitis</td>\n",
       "    </tr>\n",
       "    <tr>\n",
       "      <th>10</th>\n",
       "      <td>Cristy Robel</td>\n",
       "      <td>999 251 4401</td>\n",
       "      <td>2009-10-09</td>\n",
       "      <td>Otitis media</td>\n",
       "    </tr>\n",
       "    <tr>\n",
       "      <th>11</th>\n",
       "      <td>Dorie Baumbach</td>\n",
       "      <td>447 249 2567</td>\n",
       "      <td>June 20, 1953</td>\n",
       "      <td>chronic sinusitis</td>\n",
       "    </tr>\n",
       "    <tr>\n",
       "      <th>12</th>\n",
       "      <td>Deidra Corkery</td>\n",
       "      <td>328 659 9956</td>\n",
       "      <td>19th November 1971</td>\n",
       "      <td>None</td>\n",
       "    </tr>\n",
       "    <tr>\n",
       "      <th>13</th>\n",
       "      <td>Wendell Oberbrunner</td>\n",
       "      <td>999 595 1633</td>\n",
       "      <td>1958-11-22</td>\n",
       "      <td>None</td>\n",
       "    </tr>\n",
       "    <tr>\n",
       "      <th>14</th>\n",
       "      <td>Ethan Kutch</td>\n",
       "      <td>999 126 7519</td>\n",
       "      <td>2015-08-06</td>\n",
       "      <td>None</td>\n",
       "    </tr>\n",
       "    <tr>\n",
       "      <th>15</th>\n",
       "      <td>Lupe Cassin</td>\n",
       "      <td>120 506 4336</td>\n",
       "      <td>1945-08-02</td>\n",
       "      <td>None</td>\n",
       "    </tr>\n",
       "    <tr>\n",
       "      <th>16</th>\n",
       "      <td>Logan Schaden</td>\n",
       "      <td>169 421 2926</td>\n",
       "      <td>1958-11-05</td>\n",
       "      <td>None</td>\n",
       "    </tr>\n",
       "    <tr>\n",
       "      <th>17</th>\n",
       "      <td>Jaime Sauer</td>\n",
       "      <td>355 112 3923</td>\n",
       "      <td>None</td>\n",
       "      <td>viral sinusitis</td>\n",
       "    </tr>\n",
       "    <tr>\n",
       "      <th>18</th>\n",
       "      <td>Reggie Langosh</td>\n",
       "      <td>999 367 0222</td>\n",
       "      <td>12 year old</td>\n",
       "      <td>viral sinusitis</td>\n",
       "    </tr>\n",
       "    <tr>\n",
       "      <th>19</th>\n",
       "      <td>Luann Hills</td>\n",
       "      <td>999 395 1923</td>\n",
       "      <td>10th of August 2003</td>\n",
       "      <td>chief complaint</td>\n",
       "    </tr>\n",
       "  </tbody>\n",
       "</table>\n",
       "</div>"
      ],
      "text/plain": [
       "                 person    NHS number        date of birth  \\\n",
       "0    Brandon McLaughlin  568 968 0803           1963-12-07   \n",
       "1    Esteban Altenwerth  201 826 4805                 None   \n",
       "2       Ervin O'Connell  862 334 6633                 None   \n",
       "3             Pam Boehm  639 189 7032                 None   \n",
       "4        Mirta Mosciski  231 157 0705                  DOB   \n",
       "5          Pierre Hyatt  476 859 5816           1987-12-27   \n",
       "6        Angela Collier  590 161 4272           1996-06-03   \n",
       "7         Shannon Borer  122 273 9962           1982-10-10   \n",
       "8       Delmy Halvorson  999 774 0304           2005-12-12   \n",
       "9      Myra Schamberger  855 311 5624                 None   \n",
       "10         Cristy Robel  999 251 4401           2009-10-09   \n",
       "11       Dorie Baumbach  447 249 2567        June 20, 1953   \n",
       "12       Deidra Corkery  328 659 9956   19th November 1971   \n",
       "13  Wendell Oberbrunner  999 595 1633           1958-11-22   \n",
       "14          Ethan Kutch  999 126 7519           2015-08-06   \n",
       "15          Lupe Cassin  120 506 4336           1945-08-02   \n",
       "16        Logan Schaden  169 421 2926           1958-11-05   \n",
       "17          Jaime Sauer  355 112 3923                 None   \n",
       "18       Reggie Langosh  999 367 0222          12 year old   \n",
       "19          Luann Hills  999 395 1923  10th of August 2003   \n",
       "\n",
       "                                            diagnosis  \n",
       "0                                    acute bronchitis  \n",
       "1                                                None  \n",
       "2                                    acute bronchitis  \n",
       "3                                                None  \n",
       "4                                                None  \n",
       "5                                     viral sinusitis  \n",
       "6   Perennial allergic rhinitis with seasonal vari...  \n",
       "7                                     Viral sinusitis  \n",
       "8                             acute viral pharyngitis  \n",
       "9                             acute viral pharyngitis  \n",
       "10                                       Otitis media  \n",
       "11                                  chronic sinusitis  \n",
       "12                                               None  \n",
       "13                                               None  \n",
       "14                                               None  \n",
       "15                                               None  \n",
       "16                                               None  \n",
       "17                                    viral sinusitis  \n",
       "18                                    viral sinusitis  \n",
       "19                                    chief complaint  "
      ]
     },
     "execution_count": 51,
     "metadata": {},
     "output_type": "execute_result"
    }
   ],
   "source": [
    "create_df_from_patient_entities(patient_entities, entities, cleaning_functions_per_entity)"
   ]
  },
  {
   "cell_type": "code",
   "execution_count": 29,
   "metadata": {},
   "outputs": [
    {
     "data": {
      "text/plain": [
       "['Mr. Brandon McLaughlin',\n",
       " 'Mr. Esteban Altenwerth',\n",
       " \"Mr. Ervin O'Connell\",\n",
       " 'Mrs. Pam Boehm',\n",
       " 'Mrs. Mirta Mosciski',\n",
       " 'Mr.',\n",
       " 'Ms. Angela Collier',\n",
       " 'Mr. Shannon Borer',\n",
       " 'Delmy Halvorson',\n",
       " 'Mrs. Myra Schamberger',\n",
       " 'Cristy Robel',\n",
       " 'Ms. Dorie Baumbach',\n",
       " 'Ms. Deidra Corkery',\n",
       " 'Wendell Oberbrunner',\n",
       " 'Ethan Kutch',\n",
       " 'Mr. Lupe Cassin',\n",
       " 'Mrs. Logan Schaden',\n",
       " 'Mr. Jaime Sauer',\n",
       " 'Reggie Langosh',\n",
       " 'Ms. Luann Hills']"
      ]
     },
     "execution_count": 29,
     "metadata": {},
     "output_type": "execute_result"
    }
   ],
   "source": [
    "return_list_of_first_entity_from_patient_entities(patient_entities, \"person\")"
   ]
  },
  {
   "cell_type": "code",
   "execution_count": 6,
   "metadata": {},
   "outputs": [
    {
     "data": {
      "text/html": [
       "<div>\n",
       "<style scoped>\n",
       "    .dataframe tbody tr th:only-of-type {\n",
       "        vertical-align: middle;\n",
       "    }\n",
       "\n",
       "    .dataframe tbody tr th {\n",
       "        vertical-align: top;\n",
       "    }\n",
       "\n",
       "    .dataframe thead th {\n",
       "        text-align: right;\n",
       "    }\n",
       "</style>\n",
       "<table border=\"1\" class=\"dataframe\">\n",
       "  <thead>\n",
       "    <tr style=\"text-align: right;\">\n",
       "      <th></th>\n",
       "      <th>person</th>\n",
       "      <th>NHS number</th>\n",
       "      <th>date of birth</th>\n",
       "      <th>diagnosis</th>\n",
       "    </tr>\n",
       "  </thead>\n",
       "  <tbody>\n",
       "    <tr>\n",
       "      <th>0</th>\n",
       "      <td>4</td>\n",
       "      <td>9</td>\n",
       "      <td>6</td>\n",
       "      <td>4</td>\n",
       "    </tr>\n",
       "    <tr>\n",
       "      <th>1</th>\n",
       "      <td>6</td>\n",
       "      <td>3</td>\n",
       "      <td>0</td>\n",
       "      <td>0</td>\n",
       "    </tr>\n",
       "    <tr>\n",
       "      <th>2</th>\n",
       "      <td>5</td>\n",
       "      <td>13</td>\n",
       "      <td>0</td>\n",
       "      <td>4</td>\n",
       "    </tr>\n",
       "    <tr>\n",
       "      <th>3</th>\n",
       "      <td>13</td>\n",
       "      <td>11</td>\n",
       "      <td>0</td>\n",
       "      <td>0</td>\n",
       "    </tr>\n",
       "    <tr>\n",
       "      <th>4</th>\n",
       "      <td>11</td>\n",
       "      <td>4</td>\n",
       "      <td>14</td>\n",
       "      <td>0</td>\n",
       "    </tr>\n",
       "    <tr>\n",
       "      <th>5</th>\n",
       "      <td>3</td>\n",
       "      <td>8</td>\n",
       "      <td>8</td>\n",
       "      <td>8</td>\n",
       "    </tr>\n",
       "    <tr>\n",
       "      <th>6</th>\n",
       "      <td>14</td>\n",
       "      <td>10</td>\n",
       "      <td>9</td>\n",
       "      <td>2</td>\n",
       "    </tr>\n",
       "    <tr>\n",
       "      <th>7</th>\n",
       "      <td>9</td>\n",
       "      <td>1</td>\n",
       "      <td>7</td>\n",
       "      <td>3</td>\n",
       "    </tr>\n",
       "    <tr>\n",
       "      <th>8</th>\n",
       "      <td>1</td>\n",
       "      <td>19</td>\n",
       "      <td>11</td>\n",
       "      <td>5</td>\n",
       "    </tr>\n",
       "    <tr>\n",
       "      <th>9</th>\n",
       "      <td>12</td>\n",
       "      <td>12</td>\n",
       "      <td>0</td>\n",
       "      <td>5</td>\n",
       "    </tr>\n",
       "    <tr>\n",
       "      <th>10</th>\n",
       "      <td>0</td>\n",
       "      <td>15</td>\n",
       "      <td>12</td>\n",
       "      <td>1</td>\n",
       "    </tr>\n",
       "    <tr>\n",
       "      <th>11</th>\n",
       "      <td>16</td>\n",
       "      <td>7</td>\n",
       "      <td>15</td>\n",
       "      <td>7</td>\n",
       "    </tr>\n",
       "    <tr>\n",
       "      <th>12</th>\n",
       "      <td>15</td>\n",
       "      <td>5</td>\n",
       "      <td>10</td>\n",
       "      <td>0</td>\n",
       "    </tr>\n",
       "    <tr>\n",
       "      <th>13</th>\n",
       "      <td>19</td>\n",
       "      <td>18</td>\n",
       "      <td>5</td>\n",
       "      <td>0</td>\n",
       "    </tr>\n",
       "    <tr>\n",
       "      <th>14</th>\n",
       "      <td>2</td>\n",
       "      <td>14</td>\n",
       "      <td>13</td>\n",
       "      <td>0</td>\n",
       "    </tr>\n",
       "    <tr>\n",
       "      <th>15</th>\n",
       "      <td>8</td>\n",
       "      <td>0</td>\n",
       "      <td>3</td>\n",
       "      <td>0</td>\n",
       "    </tr>\n",
       "    <tr>\n",
       "      <th>16</th>\n",
       "      <td>10</td>\n",
       "      <td>2</td>\n",
       "      <td>4</td>\n",
       "      <td>0</td>\n",
       "    </tr>\n",
       "    <tr>\n",
       "      <th>17</th>\n",
       "      <td>7</td>\n",
       "      <td>6</td>\n",
       "      <td>0</td>\n",
       "      <td>8</td>\n",
       "    </tr>\n",
       "    <tr>\n",
       "      <th>18</th>\n",
       "      <td>18</td>\n",
       "      <td>16</td>\n",
       "      <td>2</td>\n",
       "      <td>8</td>\n",
       "    </tr>\n",
       "    <tr>\n",
       "      <th>19</th>\n",
       "      <td>17</td>\n",
       "      <td>17</td>\n",
       "      <td>1</td>\n",
       "      <td>6</td>\n",
       "    </tr>\n",
       "  </tbody>\n",
       "</table>\n",
       "</div>"
      ],
      "text/plain": [
       "    person  NHS number  date of birth  diagnosis\n",
       "0        4           9              6          4\n",
       "1        6           3              0          0\n",
       "2        5          13              0          4\n",
       "3       13          11              0          0\n",
       "4       11           4             14          0\n",
       "5        3           8              8          8\n",
       "6       14          10              9          2\n",
       "7        9           1              7          3\n",
       "8        1          19             11          5\n",
       "9       12          12              0          5\n",
       "10       0          15             12          1\n",
       "11      16           7             15          7\n",
       "12      15           5             10          0\n",
       "13      19          18              5          0\n",
       "14       2          14             13          0\n",
       "15       8           0              3          0\n",
       "16      10           2              4          0\n",
       "17       7           6              0          8\n",
       "18      18          16              2          8\n",
       "19      17          17              1          6"
      ]
     },
     "execution_count": 6,
     "metadata": {},
     "output_type": "execute_result"
    }
   ],
   "source": [
    "df = create_df_from_patient_entities(patient_entities, entities)\n",
    "\n",
    "# normalised_df = normalise_date_column(df, \"date of birth\")\n",
    "\n",
    "encoded_dataset, lookup = encode(df)\n",
    "encoded_dataset"
   ]
  }
 ],
 "metadata": {
  "kernelspec": {
   "display_name": "ner_pipeline",
   "language": "python",
   "name": "python3"
  },
  "language_info": {
   "codemirror_mode": {
    "name": "ipython",
    "version": 3
   },
   "file_extension": ".py",
   "mimetype": "text/x-python",
   "name": "python",
   "nbconvert_exporter": "python",
   "pygments_lexer": "ipython3",
   "version": "3.11.6"
  }
 },
 "nbformat": 4,
 "nbformat_minor": 2
}
