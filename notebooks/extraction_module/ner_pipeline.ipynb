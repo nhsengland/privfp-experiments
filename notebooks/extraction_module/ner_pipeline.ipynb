{
 "cells": [
  {
   "cell_type": "code",
   "execution_count": null,
   "metadata": {},
   "outputs": [],
   "source": [
    "import os\n",
    "\n",
    "os.chdir(\"../../\")"
   ]
  },
  {
   "cell_type": "code",
   "execution_count": null,
   "metadata": {},
   "outputs": [],
   "source": [
    "import json\n",
    "import numpy as np\n",
    "import pandas as pd\n",
    "\n",
    "from src.ner_pipeline.data_ingestion import load_llm_data\n",
    "from src.ner_pipeline.utils import load_patients_entities, save_patients_entities\n",
    "from src.ner_pipeline.universal_ner import combine_patient_entities_with_expected_20"
   ]
  },
  {
   "cell_type": "code",
   "execution_count": null,
   "metadata": {},
   "outputs": [],
   "source": [
    "data = load_llm_data()[0:20]\n",
    "entity_list = [\"person\", \"NHS number\", \"age\", \"diagnosis\"]"
   ]
  },
  {
   "cell_type": "code",
   "execution_count": null,
   "metadata": {},
   "outputs": [],
   "source": [
    "# This generates a new patient entities for the given dataset an entity list\n",
    "# patients_entities = generate_patients_entities(data, entity_list)\n",
    "\n",
    "# Saves patient entities\n",
    "# save_patients_entities(filename=\"patient_entities\")\n",
    "\n",
    "patient_entities = load_patients_entities(filename=\"patient_entities\")"
   ]
  },
  {
   "cell_type": "code",
   "execution_count": null,
   "metadata": {},
   "outputs": [],
   "source": [
    "patient_entity_df = combine_patient_entities_with_expected_20(patient_entities)\n",
    "patient_entity_df"
   ]
  },
  {
   "cell_type": "code",
   "execution_count": null,
   "metadata": {},
   "outputs": [],
   "source": [
    "entity_prevalence = patient_entity_df[[\"entity_name\", \"output_length_match\"]].groupby(\"entity_name\").sum(\"output_length_match\")/20\n",
    "entity_prevalence"
   ]
  },
  {
   "cell_type": "code",
   "execution_count": null,
   "metadata": {},
   "outputs": [],
   "source": [
    "entity_any = patient_entity_df[[\"entity_name\", \"output_any\"]].groupby(\"entity_name\").sum(\"output_any\")/20\n",
    "entity_any\n"
   ]
  },
  {
   "cell_type": "code",
   "execution_count": null,
   "metadata": {},
   "outputs": [],
   "source": [
    "patient_entity_df[patient_entity_df[\"entity_name\"] == \"person\"]"
   ]
  }
 ],
 "metadata": {
  "kernelspec": {
   "display_name": "ner_pipeline",
   "language": "python",
   "name": "python3"
  },
  "language_info": {
   "codemirror_mode": {
    "name": "ipython",
    "version": 3
   },
   "file_extension": ".py",
   "mimetype": "text/x-python",
   "name": "python",
   "nbconvert_exporter": "python",
   "pygments_lexer": "ipython3",
   "version": "3.8.18"
  }
 },
 "nbformat": 4,
 "nbformat_minor": 2
}
